{
 "cells": [
  {
   "cell_type": "code",
   "execution_count": 1,
   "id": "940a3983",
   "metadata": {},
   "outputs": [],
   "source": [
    "import pandas\n",
    "import numpy\n",
    "import matplotlib.pyplot as plt"
   ]
  },
  {
   "cell_type": "code",
   "execution_count": 2,
   "id": "5be5faa7",
   "metadata": {},
   "outputs": [],
   "source": [
    "Raw_Housing_Data = pandas.read_csv(\"1. Regression - Module - (Housing Prices).csv\")"
   ]
  },
  {
   "cell_type": "code",
   "execution_count": 3,
   "id": "7eb6f691",
   "metadata": {},
   "outputs": [
    {
     "data": {
      "text/plain": [
       "count    2.160900e+04\n",
       "mean     5.401984e+05\n",
       "std      3.673890e+05\n",
       "min      7.500000e+04\n",
       "25%      3.219500e+05\n",
       "50%      4.500000e+05\n",
       "75%      6.450000e+05\n",
       "max      7.700000e+06\n",
       "Name: Sale Price, dtype: float64"
      ]
     },
     "execution_count": 3,
     "metadata": {},
     "output_type": "execute_result"
    }
   ],
   "source": [
    "Raw_Housing_Data['Sale Price'].describe()"
   ]
  },
  {
   "cell_type": "code",
   "execution_count": 4,
   "id": "6e06dde5",
   "metadata": {},
   "outputs": [],
   "source": [
    "q1 = Raw_Housing_Data['Sale Price'].quantile(0.25)\n",
    "q3 = Raw_Housing_Data['Sale Price'].quantile(0.75)"
   ]
  },
  {
   "cell_type": "code",
   "execution_count": 5,
   "id": "009c96c7",
   "metadata": {},
   "outputs": [
    {
     "data": {
      "text/plain": [
       "323050.0"
      ]
     },
     "execution_count": 5,
     "metadata": {},
     "output_type": "execute_result"
    }
   ],
   "source": [
    "iqr = q3 - q1\n",
    "iqr"
   ]
  },
  {
   "cell_type": "code",
   "execution_count": 6,
   "id": "2a4fe8a9",
   "metadata": {},
   "outputs": [
    {
     "data": {
      "text/plain": [
       "(1129575.0, -162625.0)"
      ]
     },
     "execution_count": 6,
     "metadata": {},
     "output_type": "execute_result"
    }
   ],
   "source": [
    "upper_limit = q3 + 1.5*iqr\n",
    "lower_limit = q1 - 1.5*iqr\n",
    "upper_limit, lower_limit"
   ]
  },
  {
   "cell_type": "code",
   "execution_count": 7,
   "id": "4895dd91",
   "metadata": {},
   "outputs": [],
   "source": [
    "def limit_imputer(value):\n",
    "    if value > upper_limit:\n",
    "        return upper_limit\n",
    "    if value < lower_limit:\n",
    "        return lower_limit\n",
    "    else:\n",
    "        return value"
   ]
  },
  {
   "cell_type": "code",
   "execution_count": 8,
   "id": "5563cdaa",
   "metadata": {},
   "outputs": [],
   "source": [
    "Raw_Housing_Data['Sale Price'] = Raw_Housing_Data['Sale Price'].apply(limit_imputer)"
   ]
  },
  {
   "cell_type": "code",
   "execution_count": 9,
   "id": "ea152bf3",
   "metadata": {},
   "outputs": [
    {
     "data": {
      "text/plain": [
       "count    2.160900e+04\n",
       "mean     5.116186e+05\n",
       "std      2.500620e+05\n",
       "min      7.500000e+04\n",
       "25%      3.219500e+05\n",
       "50%      4.500000e+05\n",
       "75%      6.450000e+05\n",
       "max      1.129575e+06\n",
       "Name: Sale Price, dtype: float64"
      ]
     },
     "execution_count": 9,
     "metadata": {},
     "output_type": "execute_result"
    }
   ],
   "source": [
    "Raw_Housing_Data['Sale Price'].describe()"
   ]
  },
  {
   "cell_type": "code",
   "execution_count": 10,
   "id": "b76f78a6",
   "metadata": {},
   "outputs": [],
   "source": [
    "Raw_Housing_Data.dropna(inplace=True, axis=0, subset=['Sale Price'])"
   ]
  },
  {
   "cell_type": "code",
   "execution_count": null,
   "id": "5c6ab478",
   "metadata": {},
   "outputs": [],
   "source": []
  },
  {
   "cell_type": "code",
   "execution_count": null,
   "id": "7eda1a99",
   "metadata": {},
   "outputs": [],
   "source": []
  },
  {
   "cell_type": "code",
   "execution_count": null,
   "id": "fb2775f2",
   "metadata": {},
   "outputs": [],
   "source": []
  },
  {
   "cell_type": "code",
   "execution_count": null,
   "id": "9c6cc130",
   "metadata": {},
   "outputs": [],
   "source": []
  },
  {
   "cell_type": "code",
   "execution_count": null,
   "id": "73083cfc",
   "metadata": {},
   "outputs": [],
   "source": []
  },
  {
   "cell_type": "code",
   "execution_count": null,
   "id": "b346aee4",
   "metadata": {},
   "outputs": [],
   "source": []
  },
  {
   "cell_type": "code",
   "execution_count": null,
   "id": "bfdf9787",
   "metadata": {},
   "outputs": [],
   "source": []
  },
  {
   "cell_type": "code",
   "execution_count": null,
   "id": "be8fb842",
   "metadata": {},
   "outputs": [],
   "source": []
  },
  {
   "cell_type": "code",
   "execution_count": null,
   "id": "68c5e87f",
   "metadata": {},
   "outputs": [],
   "source": []
  }
 ],
 "metadata": {
  "kernelspec": {
   "display_name": "Python 3 (ipykernel)",
   "language": "python",
   "name": "python3"
  },
  "language_info": {
   "codemirror_mode": {
    "name": "ipython",
    "version": 3
   },
   "file_extension": ".py",
   "mimetype": "text/x-python",
   "name": "python",
   "nbconvert_exporter": "python",
   "pygments_lexer": "ipython3",
   "version": "3.9.7"
  }
 },
 "nbformat": 4,
 "nbformat_minor": 5
}
