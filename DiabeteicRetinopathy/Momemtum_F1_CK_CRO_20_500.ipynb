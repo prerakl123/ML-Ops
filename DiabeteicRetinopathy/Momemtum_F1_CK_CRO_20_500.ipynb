{
  "nbformat": 4,
  "nbformat_minor": 0,
  "metadata": {
    "colab": {
      "provenance": []
    },
    "kernelspec": {
      "name": "python3",
      "display_name": "Python 3"
    },
    "language_info": {
      "name": "python"
    },
    "accelerator": "GPU"
  },
  "cells": [
    {
      "cell_type": "code",
      "source": [],
      "metadata": {
        "id": "5BJx6_Q3sf8v"
      },
      "execution_count": null,
      "outputs": []
    },
    {
      "cell_type": "code",
      "execution_count": null,
      "metadata": {
        "colab": {
          "base_uri": "https://localhost:8080/"
        },
        "id": "woeX8vhsL1Fz",
        "outputId": "e601a48b-e4dc-4ffc-82ba-3aca387683bb"
      },
      "outputs": [
        {
          "output_type": "stream",
          "name": "stdout",
          "text": [
            "Mounted at /content/gdrive/\n"
          ]
        }
      ],
      "source": [
        "from google.colab import drive\n",
        "drive.mount('/content/gdrive/', force_remount=True)"
      ]
    },
    {
      "cell_type": "code",
      "source": [
        "!pip install imbalanced-learn"
      ],
      "metadata": {
        "colab": {
          "base_uri": "https://localhost:8080/"
        },
        "id": "ViQdQxjSsgCu",
        "outputId": "0031da43-2068-41c6-a981-35e048a5f66c"
      },
      "execution_count": null,
      "outputs": [
        {
          "output_type": "stream",
          "name": "stdout",
          "text": [
            "Requirement already satisfied: imbalanced-learn in /usr/local/lib/python3.7/dist-packages (0.8.1)\n",
            "Requirement already satisfied: joblib>=0.11 in /usr/local/lib/python3.7/dist-packages (from imbalanced-learn) (1.1.0)\n",
            "Requirement already satisfied: numpy>=1.13.3 in /usr/local/lib/python3.7/dist-packages (from imbalanced-learn) (1.21.5)\n",
            "Requirement already satisfied: scikit-learn>=0.24 in /usr/local/lib/python3.7/dist-packages (from imbalanced-learn) (1.0.2)\n",
            "Requirement already satisfied: scipy>=0.19.1 in /usr/local/lib/python3.7/dist-packages (from imbalanced-learn) (1.4.1)\n",
            "Requirement already satisfied: threadpoolctl>=2.0.0 in /usr/local/lib/python3.7/dist-packages (from scikit-learn>=0.24->imbalanced-learn) (3.1.0)\n"
          ]
        }
      ]
    },
    {
      "cell_type": "code",
      "source": [
        "import matplotlib.pyplot as plt\n",
        "import numpy as np\n",
        "import pandas as pd\n",
        "import tensorflow as tf\n",
        "import tensorflow.keras as keras\n",
        "import os\n",
        "import gc\n",
        "# from keras.applications import DenseNet121\n",
        "from tensorflow.keras.models import Model\n",
        "# from tensorflow.keras import Input\n",
        "from keras.models import Sequential\n",
        "from keras.layers import Dense, Dropout, Flatten, GlobalAveragePooling2D, Lambda, BatchNormalization\n",
        "from tensorflow.keras import backend as K\n",
        "from keras.preprocessing.image import ImageDataGenerator\n",
        "from sklearn.model_selection import train_test_split\n",
        "\n",
        "from tensorflow.keras.preprocessing.image import ImageDataGenerator,img_to_array\n",
        "import os\n",
        "import cv2\n",
        "from tqdm import tqdm\n",
        "from sklearn.preprocessing import LabelBinarizer\n",
        "\n",
        "import logging\n",
        "import pickle\n",
        "\n",
        "import imblearn\n",
        "\n",
        "from sklearn.metrics import confusion_matrix\n",
        "from sklearn.metrics import precision_score\n",
        "from sklearn.metrics import recall_score\n",
        "from sklearn.metrics import f1_score\n",
        "from sklearn.metrics import cohen_kappa_score\n",
        "from sklearn.metrics import accuracy_score\n",
        "from sklearn.metrics import log_loss"
      ],
      "metadata": {
        "id": "dJSp8QqML7Qj"
      },
      "execution_count": null,
      "outputs": []
    },
    {
      "cell_type": "code",
      "source": [
        "BASE_PATH = \"/content/gdrive/MyDrive/KaggleDataBTP/gaussian_filtered_images/Pipeline_Model_testing/Model_2/\""
      ],
      "metadata": {
        "id": "4wNmtXQEMDVd"
      },
      "execution_count": null,
      "outputs": []
    },
    {
      "cell_type": "code",
      "source": [
        "# logging.basicConfig(filename = \"cro.log\", level=logging.DEBUG, filemode='w+', format='%(name)s - %(levelname)s - %(message)s')"
      ],
      "metadata": {
        "id": "bNpOqfga_lUx"
      },
      "execution_count": null,
      "outputs": []
    },
    {
      "cell_type": "code",
      "source": [],
      "metadata": {
        "id": "y4ZHMop3MGbM"
      },
      "execution_count": null,
      "outputs": []
    },
    {
      "cell_type": "code",
      "source": [
        "def buildfinetunemodel():\n",
        "    input = tf.keras.Input(shape=1024)\n",
        "    x = tf.keras.layers.Activation(activation='relu')(input)\n",
        "    x = tf.keras.layers.Dropout(0.5)(x)\n",
        "    x= tf.keras.layers.Dense(1024,activation='relu')(x)\n",
        "    x= tf.keras.layers.Dropout(0.5)(x)\n",
        "    x= tf.keras.layers.Dense(1024)(x)\n",
        "    output=tf.keras.layers.Dense(3,activation='softmax')(x)\n",
        "    finetune_model = tf.keras.Model(input, output)\n",
        "    finetune_model.compile(loss='binary_crossentropy',\n",
        "                metrics=['accuracy'])\n",
        "\n",
        "\n",
        "    return finetune_model"
      ],
      "metadata": {
        "id": "3i7lQ9sAMJgp"
      },
      "execution_count": null,
      "outputs": []
    },
    {
      "cell_type": "code",
      "source": [
        "finetune_model = buildfinetunemodel()\n",
        "finetune_model.summary()"
      ],
      "metadata": {
        "colab": {
          "base_uri": "https://localhost:8080/"
        },
        "id": "njNZVdbGMNZ3",
        "outputId": "d1e1283a-0a09-463f-cb58-3a21a1b964c1"
      },
      "execution_count": null,
      "outputs": [
        {
          "output_type": "stream",
          "name": "stdout",
          "text": [
            "Model: \"model\"\n",
            "_________________________________________________________________\n",
            " Layer (type)                Output Shape              Param #   \n",
            "=================================================================\n",
            " input_1 (InputLayer)        [(None, 1024)]            0         \n",
            "                                                                 \n",
            " activation (Activation)     (None, 1024)              0         \n",
            "                                                                 \n",
            " dropout (Dropout)           (None, 1024)              0         \n",
            "                                                                 \n",
            " dense (Dense)               (None, 1024)              1049600   \n",
            "                                                                 \n",
            " dropout_1 (Dropout)         (None, 1024)              0         \n",
            "                                                                 \n",
            " dense_1 (Dense)             (None, 1024)              1049600   \n",
            "                                                                 \n",
            " dense_2 (Dense)             (None, 3)                 3075      \n",
            "                                                                 \n",
            "=================================================================\n",
            "Total params: 2,102,275\n",
            "Trainable params: 2,102,275\n",
            "Non-trainable params: 0\n",
            "_________________________________________________________________\n"
          ]
        }
      ]
    },
    {
      "cell_type": "code",
      "source": [
        "def change_label(x):\n",
        "    if x == 1:\n",
        "        return 0\n",
        "    elif x == 2:\n",
        "        return 1\n",
        "    elif x == 3:\n",
        "        return 2"
      ],
      "metadata": {
        "id": "0WMEgk4-F7NU"
      },
      "execution_count": null,
      "outputs": []
    },
    {
      "cell_type": "code",
      "source": [
        "data_x = np.load(BASE_PATH + \"data_x.npy\")\n",
        "data_y = np.load(BASE_PATH + \"data_y.npy\")"
      ],
      "metadata": {
        "id": "M5zrvqW9MPcg"
      },
      "execution_count": null,
      "outputs": []
    },
    {
      "cell_type": "code",
      "source": [
        "data_x_model2 = []\n",
        "data_y_model2 = []\n",
        "for (dx, dy) in zip(data_x, data_y):\n",
        "    if dy != 0:\n",
        "        data_x_model2.append(dx)\n",
        "        data_y_model2.append(change_label(dy))"
      ],
      "metadata": {
        "id": "AN_fwqBN0hUc"
      },
      "execution_count": null,
      "outputs": []
    },
    {
      "cell_type": "code",
      "source": [
        "data_x_model2 = np.array(data_x_model2)\n",
        "data_y_model2 = np.array(data_y_model2)"
      ],
      "metadata": {
        "id": "WhDDisWb1b8c"
      },
      "execution_count": null,
      "outputs": []
    },
    {
      "cell_type": "code",
      "source": [
        "np.unique(data_y_model2, return_counts = True)"
      ],
      "metadata": {
        "colab": {
          "base_uri": "https://localhost:8080/"
        },
        "id": "BR_k1i9k1qxB",
        "outputId": "ddd56b8e-de06-47db-fcfb-11fb8b415757"
      },
      "execution_count": null,
      "outputs": [
        {
          "output_type": "execute_result",
          "data": {
            "text/plain": [
              "(array([0, 1, 2]), array([370, 999, 295]))"
            ]
          },
          "metadata": {},
          "execution_count": 11
        }
      ]
    },
    {
      "cell_type": "code",
      "source": [
        "from imblearn.over_sampling import SMOTE\n",
        "oversample = SMOTE()\n",
        "data_x_model_2_overSampled, data_y_model_2_overSampled = oversample.fit_resample(data_x_model2, data_y_model2)"
      ],
      "metadata": {
        "id": "4t6tEshAsyPI"
      },
      "execution_count": null,
      "outputs": []
    },
    {
      "cell_type": "code",
      "source": [
        "np.unique(data_y_model_2_overSampled, return_counts = True)"
      ],
      "metadata": {
        "colab": {
          "base_uri": "https://localhost:8080/"
        },
        "id": "RRlvk1tfsyRQ",
        "outputId": "4dddf625-baf6-49a9-9334-8a4671517dce"
      },
      "execution_count": null,
      "outputs": [
        {
          "output_type": "execute_result",
          "data": {
            "text/plain": [
              "(array([0, 1, 2]), array([999, 999, 999]))"
            ]
          },
          "metadata": {},
          "execution_count": 13
        }
      ]
    },
    {
      "cell_type": "code",
      "source": [],
      "metadata": {
        "id": "R8AKgRiSsyU6"
      },
      "execution_count": null,
      "outputs": []
    },
    {
      "cell_type": "markdown",
      "source": [
        "- 0 -> Mild\n",
        "- 1 -> Moderate\n",
        "- 2 -> Severe"
      ],
      "metadata": {
        "id": "8lBOGCEbqMp_"
      }
    },
    {
      "cell_type": "code",
      "source": [
        "train_x, test_x, train_y, test_y = train_test_split(data_x_model_2_overSampled, data_y_model_2_overSampled, test_size = 0.15)\n",
        "print(train_x.shape)\n",
        "print(train_y.shape)\n",
        "print(test_x.shape)\n",
        "print(test_y.shape)\n",
        "\n",
        "print(np.unique(train_y, return_counts=True))\n",
        "print(np.unique(test_y, return_counts=True))\n"
      ],
      "metadata": {
        "colab": {
          "base_uri": "https://localhost:8080/"
        },
        "id": "AIqLXIJYFO8t",
        "outputId": "15551c36-ba41-49cd-9303-9cb4b316d2d8"
      },
      "execution_count": null,
      "outputs": [
        {
          "output_type": "stream",
          "name": "stdout",
          "text": [
            "(2547, 1024)\n",
            "(2547,)\n",
            "(450, 1024)\n",
            "(450,)\n",
            "(array([0, 1, 2]), array([854, 832, 861]))\n",
            "(array([0, 1, 2]), array([145, 167, 138]))\n"
          ]
        }
      ]
    },
    {
      "cell_type": "code",
      "source": [],
      "metadata": {
        "id": "6NONgxZIG4LT"
      },
      "execution_count": null,
      "outputs": []
    },
    {
      "cell_type": "code",
      "source": [],
      "metadata": {
        "id": "OYkCi4rkG4RP"
      },
      "execution_count": null,
      "outputs": []
    },
    {
      "cell_type": "code",
      "source": [
        "import random\n",
        "import copy\n",
        "import sys\n",
        "import os\n",
        "import sys\n",
        "from tqdm import tqdm\n",
        "import heapq\n",
        "\n",
        "initializer = tf.keras.initializers.HeNormal()\n",
        "vars = finetune_model.trainable_variables\n",
        "loss_fn = tf.keras.losses.SparseCategoricalCrossentropy()\n",
        "acc_fn = tf.keras.metrics.Accuracy()\n",
        "\n",
        "num_molecule = 20\n",
        "mole_coll = 0.3\n",
        "KE_loss_rate = 0.1\n",
        "buffer = 400"
      ],
      "metadata": {
        "id": "iklwZ7pIMWtp"
      },
      "execution_count": null,
      "outputs": []
    },
    {
      "cell_type": "code",
      "source": [
        "class Molecule:\n",
        "    def __init__(self, vars = None, weights = None, velocity = None, ke = None, num_hit = None, local_best = None):\n",
        "        if weights:\n",
        "            self.weights = weights\n",
        "        elif vars:\n",
        "            self.weights = [initializer(shape=s.shape) for s in vars]\n",
        "        self.PE, self.acc = self.get_loss()\n",
        "\n",
        "        if ke:\n",
        "            self.KE = ke\n",
        "        else:\n",
        "            self.KE = 1\n",
        "\n",
        "        self.TE = self.PE + self.KE\n",
        "        self.val_loss, self.val_acc = self.get_loss_val()\n",
        "\n",
        "        if velocity:\n",
        "            self.velocity = velocity\n",
        "        else:\n",
        "            self.velocity = [tf.random.normal(shape=s.shape, stddev = 0.1) for s in vars] #, minval = -1, maxval=1\n",
        "\n",
        "        self.num_hit = 0 # How many time the perticular molecule exploited its search space.\n",
        "\n",
        "        self.local_best = self.weights\n",
        "\n",
        "        self.gradient_average = [tf.zeros(shape=s.shape) for s in vars]\n",
        "\n",
        "    def update_best(self):\n",
        "        if self.PE < self.get_loss_weight(self.local_best)[0]:\n",
        "            self.local_best = self.weights\n",
        "\n",
        "    def update_PE(self):\n",
        "        self.PE, self.acc = self.get_loss()\n",
        "        self.val_loss, self.val_acc = self.get_loss_val()\n",
        "\n",
        "    def get_loss_weight(self, weight):\n",
        "        finetune_model.set_weights(weights=weight)\n",
        "        logits = finetune_model(train_x)\n",
        "        # logits = tf.reshape(logits, (logits.shape[0], ))\n",
        "        loss_value = loss_fn(train_y, logits)\n",
        "        acc_value = accuracy_score(train_y, np.argmax(logits, axis=1))\n",
        "        return loss_value, acc_value\n",
        "\n",
        "    def get_loss(self):\n",
        "        finetune_model.set_weights(weights=self.weights)\n",
        "        logits = finetune_model(train_x)\n",
        "        # logits = tf.reshape(logits, (logits.shape[0], ))\n",
        "        loss_value = loss_fn(train_y, logits)\n",
        "        acc_value = accuracy_score(train_y, np.argmax(logits, axis=1))\n",
        "        return loss_value, acc_value\n",
        "\n",
        "    def get_loss_val(self):\n",
        "        finetune_model.set_weights(weights=self.weights)\n",
        "        logits = finetune_model(test_x)\n",
        "        # logits = tf.reshape(logits, (logits.shape[0], ))\n",
        "        loss_value = loss_fn(test_y, logits)\n",
        "        acc_value = accuracy_score(test_y, np.argmax(logits, axis=1))\n",
        "        return loss_value, acc_value\n",
        "\n",
        "    def reset_average(self):\n",
        "        self.gradient_average = [tf.zeros(shape=s.shape) for s in vars]"
      ],
      "metadata": {
        "id": "0mOkauEGMhp6"
      },
      "execution_count": null,
      "outputs": []
    },
    {
      "cell_type": "code",
      "source": [
        "def create_molecule():\n",
        "    m = Molecule(vars)\n",
        "    m.velocity = [(global_best[i]- m.weights[i]) for i in range(len(global_best))]\n",
        "    return m\n",
        "\n",
        "def pso_update(m):\n",
        "    r1 = random.random()\n",
        "    r2 = random.random()\n",
        "    first_term = [w*l_v for l_v in m.velocity]\n",
        "    second_term = [c1*r1*x for x in [(m.local_best[i]- m.weights[i]) for i in range(len(m.local_best))]]\n",
        "    third_term = [c2*r2*x for x in [(global_best[i]- m.weights[i]) for i in range(len(global_best))]]\n",
        "    m.velocity = [m.KE * (first_term[i] + second_term[i] + third_term[i]) for i in range(len(first_term))]\n",
        "\n",
        "    m.weights = [(m.weights[i]+ m.velocity[i]) for i in range(len(m.weights))]\n",
        "    m.update_PE()\n",
        "    m.num_hit = 0\n",
        "    m.update_best()\n",
        "    m.reset_average()\n",
        "    if m.PE > 10:\n",
        "        m = create_molecule()\n",
        "    del first_term\n",
        "    del second_term\n",
        "    del third_term\n",
        "    gc.collect()\n",
        "    return m\n",
        "\n",
        "def neighbourhood(m, learning_rate, momentum):\n",
        "\n",
        "    with tf.GradientTape(watch_accessed_variables=False) as t:\n",
        "        t.reset()\n",
        "        t.watch(finetune_model.trainable_variables)\n",
        "        finetune_model.set_weights(weights=m.weights)\n",
        "        logits = finetune_model(train_x)\n",
        "        # logits = tf.reshape(logits, (logits.shape[0], ))\n",
        "        loss_value = loss_fn(train_y, logits)\n",
        "\n",
        "    gradients = t.gradient(loss_value, finetune_model.trainable_weights)\n",
        "\n",
        "    for i in range(len(finetune_model.trainable_weights)):\n",
        "        m.gradient_average[i] = momentum * m.gradient_average[i] + (1-momentum) * gradients[i]\n",
        "\n",
        "\n",
        "\n",
        "    new_weights = []\n",
        "    for i in range(len(finetune_model.trainable_weights)):\n",
        "        layer = finetune_model.trainable_weights[i]\n",
        "        layer =  layer - learning_rate * m.gradient_average[i]\n",
        "        new_weights.append(layer)\n",
        "\n",
        "    m.weights = new_weights\n",
        "    m.update_PE()\n",
        "    if m.PE > 10:\n",
        "        m = create_molecule()\n",
        "    del gradients\n",
        "    del new_weights\n",
        "    gc.collect()\n",
        "    return m\n",
        "\n",
        "def onwall_ineffective_collision(m):\n",
        "    return neighbourhood(m, learning_rate, momemtum)\n",
        "\n",
        "def onwall_criteria(m_old, m_new):\n",
        "    pe_new = m_new.PE\n",
        "    if (m_old.PE + m_old.KE >= pe_new):\n",
        "        return True\n",
        "    else:\n",
        "        return False\n",
        "\n",
        "def intermol_criteria(m1, m2, m1_new, m2_new):\n",
        "    pe1 = m1_new.PE\n",
        "    pe2 = m2_new.PE\n",
        "    if (m1.PE + m1.KE + m2.PE + m2.KE >= pe1 + pe2):\n",
        "        return True\n",
        "    else:\n",
        "        return False\n",
        "\n",
        "def intermol_ineffective_collision(m1, m2):\n",
        "    return (neighbourhood(m1, learning_rate, momemtum), neighbourhood(m2, learning_rate, momemtum)) #instead of creating new\n",
        "\n",
        "def best_molecule():\n",
        "    bm = molecule[0]\n",
        "    for m in molecule:\n",
        "        if m.PE < bm.PE:\n",
        "            bm = m\n",
        "    return bm\n",
        "\n",
        "\n",
        "def execute_intermol_ineffective_collision(m1, m2, i, j):\n",
        "    global buffer\n",
        "    m1_copy = copy.deepcopy(m1)\n",
        "    m2_copy = copy.deepcopy(m2)\n",
        "    (m1_new, m2_new) = intermol_ineffective_collision(m1, m2)\n",
        "    if(intermol_criteria(m1_copy, m2_copy, m1_new, m2_new)):\n",
        "        pe_x1 = m1_copy.PE\n",
        "        pe_x2 = m2_copy.PE\n",
        "        ke_x1 = m1_copy.KE\n",
        "        ke_x2 = m2_copy.KE\n",
        "        p = random.random()\n",
        "        m1_new.KE = (pe_x1 + pe_x2 + ke_x1 + ke_x2 - m1_new.PE - m2_new.PE) * p\n",
        "        m2_new.KE = (pe_x1 + pe_x2 + ke_x1 + ke_x2 - m1_new.PE - m2_new.PE) * (1-p)\n",
        "\n",
        "        m1_new.num_hit += 1\n",
        "        m2_new.num_hit += 1\n",
        "\n",
        "        m1_new.update_best()\n",
        "        m2_new.update_best()\n",
        "\n",
        "        if tf.math.is_nan(m1_new.PE) or tf.math.is_nan(m2_new.PE):\n",
        "            print(\"NaN Occured Here\")\n",
        "            sys.exit()\n",
        "        # molecule.append(m1_new)\n",
        "        # molecule.append(m2_new)\n",
        "\n",
        "        molecule[i] = m1_new\n",
        "        molecule[j] = m2_new\n",
        "\n",
        "        logging.info(f\"Current PE : {m1_new.PE} , {m2_new.PE}\")\n",
        "        return True\n",
        "    else:\n",
        "        return False\n",
        "\n",
        "def execute_onwall_collision(m_old, i):\n",
        "    global buffer\n",
        "    m_old_copy = copy.deepcopy(m_old)\n",
        "    m_new = onwall_ineffective_collision(m_old)\n",
        "    if onwall_criteria(m_old_copy, m_new):\n",
        "        p1 = random.uniform(KE_loss_rate, 1)\n",
        "        pe_new = m_new.PE\n",
        "        ke_new = m_new.KE = (m_old_copy.PE - pe_new + m_old_copy.KE) * p1\n",
        "        buffer = buffer + ((m_old_copy.PE - pe_new + m_old_copy.KE)*(1-p1))\n",
        "        m_new.num_hit += 1\n",
        "        m_new.update_best()\n",
        "        if tf.math.is_nan(m_new.PE):\n",
        "            print(\"NaN Occured Here\")\n",
        "            os._exit(0)\n",
        "\n",
        "\n",
        "        # molecule.append(m_new)\n",
        "        molecule[i] = m_new\n",
        "        logging.info(f\"Current PE : {m_new.PE}\")\n",
        "        return True\n",
        "    else:\n",
        "        return False\n",
        "\n",
        "def execute_pso_upadte(m_old, i):\n",
        "    global buffer\n",
        "    m_new = pso_update(m_old)\n",
        "    if tf.math.is_nan(m_new.PE):\n",
        "        print(\"NaN Occured Here\")\n",
        "        os._exit(0)\n",
        "    molecule[i] = m_new\n",
        "    logging.info(f\"Current PE : {m_new.PE}\")\n",
        "\n",
        "\n",
        "\n",
        "def save_molecules(molecules, file_name1 = \"molecule_weights\"):\n",
        "    file_name = BASE_PATH + file_name1\n",
        "    molecule_to_save = []\n",
        "    for m in molecule:\n",
        "        molecule_to_save.append([m.weights, m.velocity, m.num_hit, m.KE, m.local_best])\n",
        "    with open(file_name, \"wb\") as fp:\n",
        "        pickle.dump(molecule_to_save, fp)\n",
        "\n",
        "def read_molecule(file_name1 = \"molecule_weights\"):\n",
        "    file_name = BASE_PATH + file_name1\n",
        "    with open(file_name, \"rb\") as fp:\n",
        "        molecules_meta_data = pickle.load(fp)\n",
        "    molecules = []\n",
        "    for m_data in molecules_meta_data:\n",
        "        molecules.append(Molecule(vars = vars, weights=m_data[0], velocity=m_data[1], num_hit = m_data[2], ke = m_data[3], local_best= m_data[4]))\n",
        "    return molecules"
      ],
      "metadata": {
        "id": "EI0RKzBgMjPb"
      },
      "execution_count": null,
      "outputs": []
    },
    {
      "cell_type": "code",
      "source": [
        "molecule = read_molecule(\"model2_cro_molecule_weights_20_500\")"
      ],
      "metadata": {
        "id": "zmVE8jdZkXvd"
      },
      "execution_count": null,
      "outputs": []
    },
    {
      "cell_type": "code",
      "source": [
        "bm = best_molecule()"
      ],
      "metadata": {
        "id": "W1VQyUvOGDdx"
      },
      "execution_count": null,
      "outputs": []
    },
    {
      "cell_type": "code",
      "source": [
        "file_name = BASE_PATH + \"model2_bm_weights\"\n",
        "with open(file_name, \"wb\") as fp:\n",
        "    pickle.dump(bm.weights, fp)"
      ],
      "metadata": {
        "id": "RKv6U_r6GDgG"
      },
      "execution_count": null,
      "outputs": []
    },
    {
      "cell_type": "code",
      "source": [],
      "metadata": {
        "id": "e3g59OZkGDi0"
      },
      "execution_count": null,
      "outputs": []
    },
    {
      "cell_type": "code",
      "source": [
        "molecule = []\n",
        "for i in tqdm(range(num_molecule)):\n",
        "    m = Molecule(vars)\n",
        "    # m_new = neighbourhood(m, 0.01)\n",
        "    molecule.append(m)"
      ],
      "metadata": {
        "colab": {
          "base_uri": "https://localhost:8080/"
        },
        "id": "hE6yfDC3MmMC",
        "outputId": "c901eebf-4e66-484d-f05c-6b4aba08649d"
      },
      "execution_count": null,
      "outputs": [
        {
          "output_type": "stream",
          "name": "stderr",
          "text": [
            "100%|██████████| 20/20 [00:03<00:00,  6.36it/s]\n"
          ]
        }
      ]
    },
    {
      "cell_type": "code",
      "source": [
        "allPE = []\n",
        "for m in molecule:\n",
        "    allPE.append(m.PE)\n",
        "\n",
        "import matplotlib.pyplot as plt\n",
        "plt.hist(allPE)\n",
        "plt.show()"
      ],
      "metadata": {
        "colab": {
          "base_uri": "https://localhost:8080/",
          "height": 265
        },
        "id": "D_-MphWVMq4l",
        "outputId": "7abc6cda-1f32-4141-9421-561c39519674"
      },
      "execution_count": null,
      "outputs": [
        {
          "output_type": "display_data",
          "data": {
            "text/plain": [
              "<Figure size 432x288 with 1 Axes>"
            ],
            "image/png": "[encoded data removed]"
          },
          "metadata": {
            "needs_background": "light"
          }
        }
      ]
    },
    {
      "cell_type": "code",
      "source": [
        "allAcc = []\n",
        "for m in molecule:\n",
        "    allAcc.append(m.acc)\n",
        "\n",
        "import matplotlib.pyplot as plt\n",
        "plt.hist(allAcc)\n",
        "plt.show()"
      ],
      "metadata": {
        "colab": {
          "base_uri": "https://localhost:8080/",
          "height": 265
        },
        "id": "VP0gBFNN84AY",
        "outputId": "47d774e9-0c2b-4015-a598-dd3aa3910a3d"
      },
      "execution_count": null,
      "outputs": [
        {
          "output_type": "display_data",
          "data": {
            "text/plain": [
              "<Figure size 432x288 with 1 Axes>"
            ],
            "image/png": "[encoded data removed]"
          },
          "metadata": {
            "needs_background": "light"
          }
        }
      ]
    },
    {
      "cell_type": "code",
      "source": [
        "molecule_pe_before = []\n",
        "for m in molecule:\n",
        "    molecule_pe_before.append(m.PE)\n",
        "\n",
        "molecule_acc_before = []\n",
        "for m in molecule:\n",
        "    molecule_acc_before.append(m.acc)\n"
      ],
      "metadata": {
        "id": "GgicpqOa6lZc"
      },
      "execution_count": null,
      "outputs": []
    },
    {
      "cell_type": "code",
      "source": [
        "print(f\"\\nMinimum PE {best_molecule().PE, best_molecule().acc}\")\n",
        "\n",
        "y = 40\n",
        "w = float(0.6)\n",
        "c1 = float(0.1)\n",
        "c2 = float(0.9)\n",
        "learning_rate = 0.005\n",
        "momemtum = 0.5\n",
        "global_best = best_molecule().weights"
      ],
      "metadata": {
        "colab": {
          "base_uri": "https://localhost:8080/"
        },
        "id": "e-8JHC-9M34f",
        "outputId": "6c5aef45-1cfb-426e-f5ba-52b41fb45b2a"
      },
      "execution_count": null,
      "outputs": [
        {
          "output_type": "stream",
          "name": "stdout",
          "text": [
            "\n",
            "Minimum PE (<tf.Tensor: shape=(), dtype=float32, numpy=1.0954696>, 0.41421279937181)\n"
          ]
        }
      ]
    },
    {
      "cell_type": "code",
      "source": [],
      "metadata": {
        "id": "-SbtW8Df_r4z"
      },
      "execution_count": null,
      "outputs": []
    },
    {
      "cell_type": "code",
      "source": [
        "loss_history = []\n",
        "val_loss_history = []\n",
        "acc_history = []\n",
        "val_acc_history = []\n",
        "\n",
        "loss_history_epochs = []\n",
        "val_loss_history_epochs = []\n",
        "acc_history_epochs = []\n",
        "val_acc_history_epochs = []"
      ],
      "metadata": {
        "id": "xkfwvc6BM687"
      },
      "execution_count": null,
      "outputs": []
    },
    {
      "cell_type": "code",
      "source": [],
      "metadata": {
        "id": "rVKJYU9i_JdJ"
      },
      "execution_count": null,
      "outputs": []
    },
    {
      "cell_type": "code",
      "source": [],
      "metadata": {
        "id": "wI2mmv7c_ZBL"
      },
      "execution_count": null,
      "outputs": []
    },
    {
      "cell_type": "code",
      "source": [
        "num_epochs = 500\n",
        "e = 0\n",
        "while(1):\n",
        "    print(f\"Epochs : {e+1}\")\n",
        "    for idx in tqdm(range(len(molecule))):\n",
        "        # idx = random.randint(0, len(molecule)-1)\n",
        "        m = molecule[idx]\n",
        "        # molecule.pop(idx)\n",
        "        if m.num_hit > y:\n",
        "            execute_pso_upadte(m, idx)\n",
        "            logging.info(f\"Epochs : {e+1}\\tPSO Update \")\n",
        "        else:\n",
        "            r = random.random()\n",
        "            if r > 0.5:\n",
        "                i = random.randint(0, len(molecule)-1)\n",
        "                m1 = molecule[i]\n",
        "                # molecule.pop(i)\n",
        "                if execute_intermol_ineffective_collision(m, m1, idx, i):\n",
        "                    logging.info(f\"Epochs : {e+1}\\tInter Mole \")\n",
        "                else:\n",
        "                    logging.info(f\"Epochs : {e+1}\\tNone \")\n",
        "                    molecule[idx].num_hit += 1\n",
        "                    molecule[i].num_hit += 1\n",
        "                    # molecule.append(m)\n",
        "                    # molecule.append(m1)\n",
        "            else:\n",
        "                if execute_onwall_collision(m, idx):\n",
        "                    logging.info(f\"Epochs : {e+1}\\tOn wall \")\n",
        "                else:\n",
        "                    logging.info(f\"Epochs : {e+1}\\tNone \")\n",
        "                    molecule[idx].num_hit += 1\n",
        "                    # molecule.append(m)\n",
        "\n",
        "        global_best_mole = best_molecule()\n",
        "        global_best = global_best_mole.weights\n",
        "        loss_history.append(global_best_mole.PE)\n",
        "        val_loss_history.append(global_best_mole.val_loss)\n",
        "        acc_history.append(global_best_mole.acc)\n",
        "        val_acc_history.append(global_best_mole.val_acc)\n",
        "\n",
        "\n",
        "    print(f\"Loss : {global_best_mole.PE}, Val Loss : {global_best_mole.val_loss} Acc : {global_best_mole.acc}, Val Acc : {global_best_mole.val_acc}\")\n",
        "    loss_history_epochs.append(global_best_mole.PE)\n",
        "    val_loss_history_epochs.append(global_best_mole.val_loss)\n",
        "    acc_history_epochs.append(global_best_mole.acc)\n",
        "    val_acc_history_epochs.append(global_best_mole.val_acc)\n",
        "\n",
        "    e += 1\n",
        "    if e == num_epochs:\n",
        "        break"
      ],
      "metadata": {
        "colab": {
          "base_uri": "https://localhost:8080/"
        },
        "id": "6WvdNRs8M7Du",
        "outputId": "54d741a9-8da6-47a7-ef5e-3a6226a04c45"
      },
      "execution_count": null,
      "outputs": [
        {
          "output_type": "stream",
          "name": "stdout",
          "text": [
            "Epochs : 1\n"
          ]
        },
        {
          "output_type": "stream",
          "name": "stderr",
          "text": [
            "100%|██████████| 20/20 [00:08<00:00,  2.26it/s]\n"
          ]
        },
        {
          "output_type": "stream",
          "name": "stdout",
          "text": [
            "Loss : 1.0699429512023926, Val Loss : 1.0955907106399536 Acc : 0.41460541813898705, Val Acc : 0.4\n",
            "Epochs : 2\n"
          ]
        },
        {
          "output_type": "stream",
          "name": "stderr",
          "text": [
            "100%|██████████| 20/20 [00:05<00:00,  3.62it/s]\n"
          ]
        },
        {
          "output_type": "stream",
          "name": "stdout",
          "text": [
            "Loss : 1.0669363737106323, Val Loss : 1.090558648109436 Acc : 0.4326658814291323, Val Acc : 0.4111111111111111\n",
            "Epochs : 3\n"
          ]
        },
        {
          "output_type": "stream",
          "name": "stderr",
          "text": [
            "100%|██████████| 20/20 [00:05<00:00,  3.52it/s]\n"
          ]
        },
        {
          "output_type": "stream",
          "name": "stdout",
          "text": [
            "Loss : 1.0469605922698975, Val Loss : 1.077964186668396 Acc : 0.44405182567726736, Val Acc : 0.42444444444444446\n",
            "Epochs : 4\n"
          ]
        },
        {
          "output_type": "stream",
          "name": "stderr",
          "text": [
            "100%|██████████| 20/20 [00:05<00:00,  3.67it/s]\n"
          ]
        },
        {
          "output_type": "stream",
          "name": "stdout",
          "text": [
            "Loss : 1.040270209312439, Val Loss : 1.0708168745040894 Acc : 0.4558303886925795, Val Acc : 0.42444444444444446\n",
            "Epochs : 5\n"
          ]
        },
        {
          "output_type": "stream",
          "name": "stderr",
          "text": [
            "100%|██████████| 20/20 [00:06<00:00,  2.98it/s]\n"
          ]
        },
        {
          "output_type": "stream",
          "name": "stdout",
          "text": [
            "Loss : 1.025660753250122, Val Loss : 1.0611149072647095 Acc : 0.4683941892422458, Val Acc : 0.43777777777777777\n",
            "Epochs : 6\n"
          ]
        },
        {
          "output_type": "stream",
          "name": "stderr",
          "text": [
            "100%|██████████| 20/20 [00:06<00:00,  3.21it/s]\n"
          ]
        },
        {
          "output_type": "stream",
          "name": "stdout",
          "text": [
            "Loss : 1.019283413887024, Val Loss : 1.0551973581314087 Acc : 0.4801727522575579, Val Acc : 0.4444444444444444\n",
            "Epochs : 7\n"
          ]
        },
        {
          "output_type": "stream",
          "name": "stderr",
          "text": [
            "100%|██████████| 20/20 [00:06<00:00,  3.13it/s]\n"
          ]
        },
        {
          "output_type": "stream",
          "name": "stdout",
          "text": [
            "Loss : 1.007206678390503, Val Loss : 1.0465182065963745 Acc : 0.4876325088339223, Val Acc : 0.4577777777777778\n",
            "Epochs : 8\n"
          ]
        },
        {
          "output_type": "stream",
          "name": "stderr",
          "text": [
            "100%|██████████| 20/20 [00:06<00:00,  3.05it/s]\n"
          ]
        },
        {
          "output_type": "stream",
          "name": "stdout",
          "text": [
            "Loss : 0.9962546825408936, Val Loss : 1.0379246473312378 Acc : 0.49980369061641144, Val Acc : 0.46\n",
            "Epochs : 9\n"
          ]
        },
        {
          "output_type": "stream",
          "name": "stderr",
          "text": [
            "100%|██████████| 20/20 [00:06<00:00,  3.11it/s]\n"
          ]
        },
        {
          "output_type": "stream",
          "name": "stdout",
          "text": [
            "Loss : 0.9911269545555115, Val Loss : 1.0340696573257446 Acc : 0.5056929721240675, Val Acc : 0.4666666666666667\n",
            "Epochs : 10\n"
          ]
        },
        {
          "output_type": "stream",
          "name": "stderr",
          "text": [
            "100%|██████████| 20/20 [00:06<00:00,  3.27it/s]\n"
          ]
        },
        {
          "output_type": "stream",
          "name": "stdout",
          "text": [
            "Loss : 0.9814851880073547, Val Loss : 1.0266424417495728 Acc : 0.5080486847271299, Val Acc : 0.46444444444444444\n",
            "Epochs : 11\n"
          ]
        },
        {
          "output_type": "stream",
          "name": "stderr",
          "text": [
            "100%|██████████| 20/20 [00:05<00:00,  3.57it/s]\n"
          ]
        },
        {
          "output_type": "stream",
          "name": "stdout",
          "text": [
            "Loss : 0.9690218567848206, Val Loss : 1.0075929164886475 Acc : 0.5465253239104829, Val Acc : 0.4888888888888889\n",
            "Epochs : 12\n"
          ]
        },
        {
          "output_type": "stream",
          "name": "stderr",
          "text": [
            "100%|██████████| 20/20 [00:04<00:00,  4.00it/s]\n"
          ]
        },
        {
          "output_type": "stream",
          "name": "stdout",
          "text": [
            "Loss : 0.9646286368370056, Val Loss : 1.0040135383605957 Acc : 0.552414605418139, Val Acc : 0.4955555555555556\n",
            "Epochs : 13\n"
          ]
        },
        {
          "output_type": "stream",
          "name": "stderr",
          "text": [
            "100%|██████████| 20/20 [00:06<00:00,  3.15it/s]\n"
          ]
        },
        {
          "output_type": "stream",
          "name": "stdout",
          "text": [
            "Loss : 0.9523892402648926, Val Loss : 0.9938919544219971 Acc : 0.5630153121319199, Val Acc : 0.5088888888888888\n",
            "Epochs : 14\n"
          ]
        },
        {
          "output_type": "stream",
          "name": "stderr",
          "text": [
            "100%|██████████| 20/20 [00:04<00:00,  4.11it/s]\n"
          ]
        },
        {
          "output_type": "stream",
          "name": "stdout",
          "text": [
            "Loss : 0.9485999941825867, Val Loss : 0.9907512664794922 Acc : 0.5641931684334511, Val Acc : 0.5066666666666667\n",
            "Epochs : 15\n"
          ]
        },
        {
          "output_type": "stream",
          "name": "stderr",
          "text": [
            "100%|██████████| 20/20 [00:05<00:00,  3.34it/s]\n"
          ]
        },
        {
          "output_type": "stream",
          "name": "stdout",
          "text": [
            "Loss : 0.9414065480232239, Val Loss : 0.9849075078964233 Acc : 0.5720455437769926, Val Acc : 0.5133333333333333\n",
            "Epochs : 16\n"
          ]
        },
        {
          "output_type": "stream",
          "name": "stderr",
          "text": [
            "100%|██████████| 20/20 [00:05<00:00,  3.66it/s]\n"
          ]
        },
        {
          "output_type": "stream",
          "name": "stdout",
          "text": [
            "Loss : 0.9379895329475403, Val Loss : 0.9821186661720276 Acc : 0.574401256380055, Val Acc : 0.5088888888888888\n",
            "Epochs : 17\n"
          ]
        },
        {
          "output_type": "stream",
          "name": "stderr",
          "text": [
            "100%|██████████| 20/20 [00:05<00:00,  3.51it/s]\n"
          ]
        },
        {
          "output_type": "stream",
          "name": "stdout",
          "text": [
            "Loss : 0.9314818978309631, Val Loss : 0.9768797755241394 Acc : 0.5791126815861798, Val Acc : 0.52\n",
            "Epochs : 18\n"
          ]
        },
        {
          "output_type": "stream",
          "name": "stderr",
          "text": [
            "100%|██████████| 20/20 [00:06<00:00,  2.92it/s]\n"
          ]
        },
        {
          "output_type": "stream",
          "name": "stdout",
          "text": [
            "Loss : 0.9253817200660706, Val Loss : 0.9720039963722229 Acc : 0.5865724381625441, Val Acc : 0.5222222222222223\n",
            "Epochs : 19\n"
          ]
        },
        {
          "output_type": "stream",
          "name": "stderr",
          "text": [
            "100%|██████████| 20/20 [00:05<00:00,  3.35it/s]\n"
          ]
        },
        {
          "output_type": "stream",
          "name": "stdout",
          "text": [
            "Loss : 0.9196323752403259, Val Loss : 0.967418909072876 Acc : 0.5904986258343149, Val Acc : 0.5155555555555555\n",
            "Epochs : 20\n"
          ]
        },
        {
          "output_type": "stream",
          "name": "stderr",
          "text": [
            "100%|██████████| 20/20 [00:05<00:00,  3.39it/s]\n"
          ]
        },
        {
          "output_type": "stream",
          "name": "stdout",
          "text": [
            "Loss : 0.9168710112571716, Val Loss : 0.9652259945869446 Acc : 0.5924617196702002, Val Acc : 0.5177777777777778\n",
            "Epochs : 21\n"
          ]
        },
        {
          "output_type": "stream",
          "name": "stderr",
          "text": [
            "100%|██████████| 20/20 [00:06<00:00,  3.23it/s]\n"
          ]
        },
        {
          "output_type": "stream",
          "name": "stdout",
          "text": [
            "Loss : 0.9141766428947449, Val Loss : 0.96307772397995 Acc : 0.5956026698076168, Val Acc : 0.52\n",
            "Epochs : 22\n"
          ]
        },
        {
          "output_type": "stream",
          "name": "stderr",
          "text": [
            "100%|██████████| 20/20 [00:04<00:00,  4.08it/s]\n"
          ]
        },
        {
          "output_type": "stream",
          "name": "stdout",
          "text": [
            "Loss : 0.9089899063110352, Val Loss : 0.958932638168335 Acc : 0.5995288574793876, Val Acc : 0.5311111111111111\n",
            "Epochs : 23\n"
          ]
        },
        {
          "output_type": "stream",
          "name": "stderr",
          "text": [
            "100%|██████████| 20/20 [00:05<00:00,  3.53it/s]\n"
          ]
        },
        {
          "output_type": "stream",
          "name": "stdout",
          "text": [
            "Loss : 0.9040706753730774, Val Loss : 0.9549822807312012 Acc : 0.6003140950137417, Val Acc : 0.5355555555555556\n",
            "Epochs : 24\n"
          ]
        },
        {
          "output_type": "stream",
          "name": "stderr",
          "text": [
            "100%|██████████| 20/20 [00:05<00:00,  3.47it/s]\n"
          ]
        },
        {
          "output_type": "stream",
          "name": "stdout",
          "text": [
            "Loss : 0.8993991017341614, Val Loss : 0.9512364864349365 Acc : 0.6046329014526894, Val Acc : 0.54\n",
            "Epochs : 25\n"
          ]
        },
        {
          "output_type": "stream",
          "name": "stderr",
          "text": [
            "100%|██████████| 20/20 [00:05<00:00,  3.77it/s]\n"
          ]
        },
        {
          "output_type": "stream",
          "name": "stdout",
          "text": [
            "Loss : 0.8990163803100586, Val Loss : 0.949840247631073 Acc : 0.6050255202198666, Val Acc : 0.5511111111111111\n",
            "Epochs : 26\n"
          ]
        },
        {
          "output_type": "stream",
          "name": "stderr",
          "text": [
            "100%|██████████| 20/20 [00:05<00:00,  3.55it/s]\n"
          ]
        },
        {
          "output_type": "stream",
          "name": "stdout",
          "text": [
            "Loss : 0.8938949704170227, Val Loss : 0.9464529156684875 Acc : 0.6093443266588143, Val Acc : 0.5466666666666666\n",
            "Epochs : 27\n"
          ]
        },
        {
          "output_type": "stream",
          "name": "stderr",
          "text": [
            "100%|██████████| 20/20 [00:05<00:00,  3.47it/s]\n"
          ]
        },
        {
          "output_type": "stream",
          "name": "stdout",
          "text": [
            "Loss : 0.8877575397491455, Val Loss : 0.9419408440589905 Acc : 0.6117000392618768, Val Acc : 0.54\n",
            "Epochs : 28\n"
          ]
        },
        {
          "output_type": "stream",
          "name": "stderr",
          "text": [
            "100%|██████████| 20/20 [00:05<00:00,  4.00it/s]\n"
          ]
        },
        {
          "output_type": "stream",
          "name": "stdout",
          "text": [
            "Loss : 0.8857622146606445, Val Loss : 0.9407886266708374 Acc : 0.6109148017275225, Val Acc : 0.54\n",
            "Epochs : 29\n"
          ]
        },
        {
          "output_type": "stream",
          "name": "stderr",
          "text": [
            "100%|██████████| 20/20 [00:05<00:00,  3.84it/s]\n"
          ]
        },
        {
          "output_type": "stream",
          "name": "stdout",
          "text": [
            "Loss : 0.8838095664978027, Val Loss : 0.9390843510627747 Acc : 0.613270514330585, Val Acc : 0.5377777777777778\n",
            "Epochs : 30\n"
          ]
        },
        {
          "output_type": "stream",
          "name": "stderr",
          "text": [
            "100%|██████████| 20/20 [00:05<00:00,  3.62it/s]\n"
          ]
        },
        {
          "output_type": "stream",
          "name": "stdout",
          "text": [
            "Loss : 0.8819142580032349, Val Loss : 0.9374691843986511 Acc : 0.6144483706321162, Val Acc : 0.54\n",
            "Epochs : 31\n"
          ]
        },
        {
          "output_type": "stream",
          "name": "stderr",
          "text": [
            "100%|██████████| 20/20 [00:05<00:00,  3.60it/s]\n"
          ]
        },
        {
          "output_type": "stream",
          "name": "stdout",
          "text": [
            "Loss : 0.8800573348999023, Val Loss : 0.9361606240272522 Acc : 0.6136631330977621, Val Acc : 0.54\n",
            "Epochs : 32\n"
          ]
        },
        {
          "output_type": "stream",
          "name": "stderr",
          "text": [
            "100%|██████████| 20/20 [00:05<00:00,  3.37it/s]\n"
          ]
        },
        {
          "output_type": "stream",
          "name": "stdout",
          "text": [
            "Loss : 0.8764737844467163, Val Loss : 0.9332539439201355 Acc : 0.6183745583038869, Val Acc : 0.5422222222222223\n",
            "Epochs : 33\n"
          ]
        },
        {
          "output_type": "stream",
          "name": "stderr",
          "text": [
            "100%|██████████| 20/20 [00:07<00:00,  2.80it/s]\n"
          ]
        },
        {
          "output_type": "stream",
          "name": "stdout",
          "text": [
            "Loss : 0.8747392892837524, Val Loss : 0.9319466352462769 Acc : 0.6199450333725952, Val Acc : 0.5444444444444444\n",
            "Epochs : 34\n"
          ]
        },
        {
          "output_type": "stream",
          "name": "stderr",
          "text": [
            "100%|██████████| 20/20 [00:05<00:00,  3.35it/s]\n"
          ]
        },
        {
          "output_type": "stream",
          "name": "stdout",
          "text": [
            "Loss : 0.8730382323265076, Val Loss : 0.9306116104125977 Acc : 0.6207302709069493, Val Acc : 0.5422222222222223\n",
            "Epochs : 35\n"
          ]
        },
        {
          "output_type": "stream",
          "name": "stderr",
          "text": [
            "100%|██████████| 20/20 [00:05<00:00,  3.68it/s]\n"
          ]
        },
        {
          "output_type": "stream",
          "name": "stdout",
          "text": [
            "Loss : 0.8713711500167847, Val Loss : 0.929279088973999 Acc : 0.6223007459756577, Val Acc : 0.5422222222222223\n",
            "Epochs : 36\n"
          ]
        },
        {
          "output_type": "stream",
          "name": "stderr",
          "text": [
            "100%|██████████| 20/20 [00:06<00:00,  3.11it/s]\n"
          ]
        },
        {
          "output_type": "stream",
          "name": "stdout",
          "text": [
            "Loss : 0.8697407841682434, Val Loss : 0.9280154705047607 Acc : 0.6230859835100118, Val Acc : 0.5422222222222223\n",
            "Epochs : 37\n"
          ]
        },
        {
          "output_type": "stream",
          "name": "stderr",
          "text": [
            "100%|██████████| 20/20 [00:06<00:00,  3.04it/s]\n"
          ]
        },
        {
          "output_type": "stream",
          "name": "stdout",
          "text": [
            "Loss : 0.8677276372909546, Val Loss : 0.9081145524978638 Acc : 0.6380054966627405, Val Acc : 0.5888888888888889\n",
            "Epochs : 38\n"
          ]
        },
        {
          "output_type": "stream",
          "name": "stderr",
          "text": [
            "100%|██████████| 20/20 [00:05<00:00,  3.39it/s]\n"
          ]
        },
        {
          "output_type": "stream",
          "name": "stdout",
          "text": [
            "Loss : 0.8624523282051086, Val Loss : 0.9041633009910583 Acc : 0.64075382803298, Val Acc : 0.5933333333333334\n",
            "Epochs : 39\n"
          ]
        },
        {
          "output_type": "stream",
          "name": "stderr",
          "text": [
            "100%|██████████| 20/20 [00:06<00:00,  3.18it/s]\n"
          ]
        },
        {
          "output_type": "stream",
          "name": "stdout",
          "text": [
            "Loss : 0.860763430595398, Val Loss : 0.9029063582420349 Acc : 0.6403612092658029, Val Acc : 0.5955555555555555\n",
            "Epochs : 40\n"
          ]
        },
        {
          "output_type": "stream",
          "name": "stderr",
          "text": [
            "100%|██████████| 20/20 [00:05<00:00,  3.84it/s]\n"
          ]
        },
        {
          "output_type": "stream",
          "name": "stdout",
          "text": [
            "Loss : 0.8591085076332092, Val Loss : 0.9016850590705872 Acc : 0.6403612092658029, Val Acc : 0.5955555555555555\n",
            "Epochs : 41\n"
          ]
        },
        {
          "output_type": "stream",
          "name": "stderr",
          "text": [
            "100%|██████████| 20/20 [00:06<00:00,  3.30it/s]\n"
          ]
        },
        {
          "output_type": "stream",
          "name": "stdout",
          "text": [
            "Loss : 0.8574842810630798, Val Loss : 0.9004941582679749 Acc : 0.6399685904986259, Val Acc : 0.5911111111111111\n",
            "Epochs : 42\n"
          ]
        },
        {
          "output_type": "stream",
          "name": "stderr",
          "text": [
            "100%|██████████| 20/20 [00:06<00:00,  3.09it/s]\n"
          ]
        },
        {
          "output_type": "stream",
          "name": "stdout",
          "text": [
            "Loss : 0.8512831926345825, Val Loss : 0.8959466814994812 Acc : 0.6387907341970946, Val Acc : 0.5977777777777777\n",
            "Epochs : 43\n"
          ]
        },
        {
          "output_type": "stream",
          "name": "stderr",
          "text": [
            "100%|██████████| 20/20 [00:05<00:00,  3.49it/s]\n"
          ]
        },
        {
          "output_type": "stream",
          "name": "stdout",
          "text": [
            "Loss : 0.848341703414917, Val Loss : 0.8937709331512451 Acc : 0.6395759717314488, Val Acc : 0.6\n",
            "Epochs : 44\n"
          ]
        },
        {
          "output_type": "stream",
          "name": "stderr",
          "text": [
            "100%|██████████| 20/20 [00:07<00:00,  2.78it/s]\n"
          ]
        },
        {
          "output_type": "stream",
          "name": "stdout",
          "text": [
            "Loss : 0.846905529499054, Val Loss : 0.8927051424980164 Acc : 0.6399685904986259, Val Acc : 0.6\n",
            "Epochs : 45\n"
          ]
        },
        {
          "output_type": "stream",
          "name": "stderr",
          "text": [
            "100%|██████████| 20/20 [00:06<00:00,  3.09it/s]\n"
          ]
        },
        {
          "output_type": "stream",
          "name": "stdout",
          "text": [
            "Loss : 0.8454933762550354, Val Loss : 0.8916537165641785 Acc : 0.6403612092658029, Val Acc : 0.6\n",
            "Epochs : 46\n"
          ]
        },
        {
          "output_type": "stream",
          "name": "stderr",
          "text": [
            "100%|██████████| 20/20 [00:05<00:00,  3.34it/s]\n"
          ]
        },
        {
          "output_type": "stream",
          "name": "stdout",
          "text": [
            "Loss : 0.8427463173866272, Val Loss : 0.889614462852478 Acc : 0.6415390655673341, Val Acc : 0.6022222222222222\n",
            "Epochs : 47\n"
          ]
        },
        {
          "output_type": "stream",
          "name": "stderr",
          "text": [
            "100%|██████████| 20/20 [00:05<00:00,  3.40it/s]\n"
          ]
        },
        {
          "output_type": "stream",
          "name": "stdout",
          "text": [
            "Loss : 0.8387937545776367, Val Loss : 0.8867043256759644 Acc : 0.6454652532391049, Val Acc : 0.6022222222222222\n",
            "Epochs : 48\n"
          ]
        },
        {
          "output_type": "stream",
          "name": "stderr",
          "text": [
            "100%|██████████| 20/20 [00:05<00:00,  3.44it/s]\n"
          ]
        },
        {
          "output_type": "stream",
          "name": "stdout",
          "text": [
            "Loss : 0.8362599611282349, Val Loss : 0.8848356604576111 Acc : 0.646250490773459, Val Acc : 0.6044444444444445\n",
            "Epochs : 49\n"
          ]
        },
        {
          "output_type": "stream",
          "name": "stderr",
          "text": [
            "100%|██████████| 20/20 [00:06<00:00,  3.13it/s]\n"
          ]
        },
        {
          "output_type": "stream",
          "name": "stdout",
          "text": [
            "Loss : 0.835017204284668, Val Loss : 0.8839266896247864 Acc : 0.6466431095406361, Val Acc : 0.6044444444444445\n",
            "Epochs : 50\n"
          ]
        },
        {
          "output_type": "stream",
          "name": "stderr",
          "text": [
            "100%|██████████| 20/20 [00:06<00:00,  3.12it/s]\n"
          ]
        },
        {
          "output_type": "stream",
          "name": "stdout",
          "text": [
            "Loss : 0.8313845992088318, Val Loss : 0.8812640309333801 Acc : 0.6478209658421673, Val Acc : 0.6066666666666667\n",
            "Epochs : 51\n"
          ]
        },
        {
          "output_type": "stream",
          "name": "stderr",
          "text": [
            "100%|██████████| 20/20 [00:06<00:00,  3.07it/s]\n"
          ]
        },
        {
          "output_type": "stream",
          "name": "stdout",
          "text": [
            "Loss : 0.830206573009491, Val Loss : 0.8803941607475281 Acc : 0.6474283470749902, Val Acc : 0.6066666666666667\n",
            "Epochs : 52\n"
          ]
        },
        {
          "output_type": "stream",
          "name": "stderr",
          "text": [
            "100%|██████████| 20/20 [00:05<00:00,  3.68it/s]\n"
          ]
        },
        {
          "output_type": "stream",
          "name": "stdout",
          "text": [
            "Loss : 0.8290424942970276, Val Loss : 0.8795351982116699 Acc : 0.6478209658421673, Val Acc : 0.6111111111111112\n",
            "Epochs : 53\n"
          ]
        },
        {
          "output_type": "stream",
          "name": "stderr",
          "text": [
            "100%|██████████| 20/20 [00:05<00:00,  3.86it/s]\n"
          ]
        },
        {
          "output_type": "stream",
          "name": "stdout",
          "text": [
            "Loss : 0.827892005443573, Val Loss : 0.8786868453025818 Acc : 0.6478209658421673, Val Acc : 0.6111111111111112\n",
            "Epochs : 54\n"
          ]
        },
        {
          "output_type": "stream",
          "name": "stderr",
          "text": [
            "100%|██████████| 20/20 [00:06<00:00,  3.32it/s]\n"
          ]
        },
        {
          "output_type": "stream",
          "name": "stdout",
          "text": [
            "Loss : 0.8256268501281738, Val Loss : 0.8770056962966919 Acc : 0.6497840596780526, Val Acc : 0.6133333333333333\n",
            "Epochs : 55\n"
          ]
        },
        {
          "output_type": "stream",
          "name": "stderr",
          "text": [
            "100%|██████████| 20/20 [00:05<00:00,  3.41it/s]\n"
          ]
        },
        {
          "output_type": "stream",
          "name": "stdout",
          "text": [
            "Loss : 0.8245141506195068, Val Loss : 0.876183271408081 Acc : 0.6501766784452296, Val Acc : 0.6133333333333333\n",
            "Epochs : 56\n"
          ]
        },
        {
          "output_type": "stream",
          "name": "stderr",
          "text": [
            "100%|██████████| 20/20 [00:06<00:00,  3.28it/s]\n"
          ]
        },
        {
          "output_type": "stream",
          "name": "stdout",
          "text": [
            "Loss : 0.8239671587944031, Val Loss : 0.8757771849632263 Acc : 0.6501766784452296, Val Acc : 0.6133333333333333\n",
            "Epochs : 57\n"
          ]
        },
        {
          "output_type": "stream",
          "name": "stderr",
          "text": [
            "100%|██████████| 20/20 [00:05<00:00,  3.96it/s]\n"
          ]
        },
        {
          "output_type": "stream",
          "name": "stdout",
          "text": [
            "Loss : 0.8231515288352966, Val Loss : 0.8751791715621948 Acc : 0.6505692972124067, Val Acc : 0.6155555555555555\n",
            "Epochs : 58\n"
          ]
        },
        {
          "output_type": "stream",
          "name": "stderr",
          "text": [
            "100%|██████████| 20/20 [00:04<00:00,  4.08it/s]\n"
          ]
        },
        {
          "output_type": "stream",
          "name": "stdout",
          "text": [
            "Loss : 0.8222074508666992, Val Loss : 0.8744853138923645 Acc : 0.6513545347467609, Val Acc : 0.6155555555555555\n",
            "Epochs : 59\n"
          ]
        },
        {
          "output_type": "stream",
          "name": "stderr",
          "text": [
            "100%|██████████| 20/20 [00:05<00:00,  3.79it/s]\n"
          ]
        },
        {
          "output_type": "stream",
          "name": "stdout",
          "text": [
            "Loss : 0.8212053775787354, Val Loss : 0.873751699924469 Acc : 0.6521397722811151, Val Acc : 0.6155555555555555\n",
            "Epochs : 60\n"
          ]
        },
        {
          "output_type": "stream",
          "name": "stderr",
          "text": [
            "100%|██████████| 20/20 [00:06<00:00,  3.29it/s]\n"
          ]
        },
        {
          "output_type": "stream",
          "name": "stdout",
          "text": [
            "Loss : 0.8201810121536255, Val Loss : 0.8729991316795349 Acc : 0.6537102473498233, Val Acc : 0.6177777777777778\n",
            "Epochs : 61\n"
          ]
        },
        {
          "output_type": "stream",
          "name": "stderr",
          "text": [
            "100%|██████████| 20/20 [00:05<00:00,  3.45it/s]\n"
          ]
        },
        {
          "output_type": "stream",
          "name": "stdout",
          "text": [
            "Loss : 0.8191545605659485, Val Loss : 0.8722405433654785 Acc : 0.6552807224185316, Val Acc : 0.6177777777777778\n",
            "Epochs : 62\n"
          ]
        },
        {
          "output_type": "stream",
          "name": "stderr",
          "text": [
            "100%|██████████| 20/20 [00:05<00:00,  3.60it/s]\n"
          ]
        },
        {
          "output_type": "stream",
          "name": "stdout",
          "text": [
            "Loss : 0.8181319832801819, Val Loss : 0.871487557888031 Acc : 0.6552807224185316, Val Acc : 0.6177777777777778\n",
            "Epochs : 63\n"
          ]
        },
        {
          "output_type": "stream",
          "name": "stderr",
          "text": [
            "100%|██████████| 20/20 [00:05<00:00,  3.51it/s]\n"
          ]
        },
        {
          "output_type": "stream",
          "name": "stdout",
          "text": [
            "Loss : 0.8171176910400391, Val Loss : 0.870746910572052 Acc : 0.6560659599528857, Val Acc : 0.6177777777777778\n",
            "Epochs : 64\n"
          ]
        },
        {
          "output_type": "stream",
          "name": "stderr",
          "text": [
            "100%|██████████| 20/20 [00:05<00:00,  3.48it/s]\n"
          ]
        },
        {
          "output_type": "stream",
          "name": "stdout",
          "text": [
            "Loss : 0.8161137700080872, Val Loss : 0.8700166940689087 Acc : 0.6576364350215941, Val Acc : 0.6177777777777778\n",
            "Epochs : 65\n"
          ]
        },
        {
          "output_type": "stream",
          "name": "stderr",
          "text": [
            "100%|██████████| 20/20 [00:05<00:00,  3.49it/s]\n"
          ]
        },
        {
          "output_type": "stream",
          "name": "stdout",
          "text": [
            "Loss : 0.8122066855430603, Val Loss : 0.8671757578849792 Acc : 0.6611700039261876, Val Acc : 0.6155555555555555\n",
            "Epochs : 66\n"
          ]
        },
        {
          "output_type": "stream",
          "name": "stderr",
          "text": [
            "100%|██████████| 20/20 [00:06<00:00,  3.10it/s]\n"
          ]
        },
        {
          "output_type": "stream",
          "name": "stdout",
          "text": [
            "Loss : 0.8103145360946655, Val Loss : 0.8658030033111572 Acc : 0.6611700039261876, Val Acc : 0.6177777777777778\n",
            "Epochs : 67\n"
          ]
        },
        {
          "output_type": "stream",
          "name": "stderr",
          "text": [
            "100%|██████████| 20/20 [00:05<00:00,  3.74it/s]\n"
          ]
        },
        {
          "output_type": "stream",
          "name": "stdout",
          "text": [
            "Loss : 0.8084588050842285, Val Loss : 0.8644547462463379 Acc : 0.662740478994896, Val Acc : 0.6177777777777778\n",
            "Epochs : 68\n"
          ]
        },
        {
          "output_type": "stream",
          "name": "stderr",
          "text": [
            "100%|██████████| 20/20 [00:05<00:00,  3.38it/s]\n"
          ]
        },
        {
          "output_type": "stream",
          "name": "stdout",
          "text": [
            "Loss : 0.8075423240661621, Val Loss : 0.8637862205505371 Acc : 0.6623478602277189, Val Acc : 0.62\n",
            "Epochs : 69\n"
          ]
        },
        {
          "output_type": "stream",
          "name": "stderr",
          "text": [
            "100%|██████████| 20/20 [00:05<00:00,  3.34it/s]\n"
          ]
        },
        {
          "output_type": "stream",
          "name": "stdout",
          "text": [
            "Loss : 0.8048363327980042, Val Loss : 0.8618168234825134 Acc : 0.6631330977620731, Val Acc : 0.6177777777777778\n",
            "Epochs : 70\n"
          ]
        },
        {
          "output_type": "stream",
          "name": "stderr",
          "text": [
            "100%|██████████| 20/20 [00:05<00:00,  3.61it/s]\n"
          ]
        },
        {
          "output_type": "stream",
          "name": "stdout",
          "text": [
            "Loss : 0.8022119402885437, Val Loss : 0.8598946332931519 Acc : 0.6631330977620731, Val Acc : 0.6177777777777778\n",
            "Epochs : 71\n"
          ]
        },
        {
          "output_type": "stream",
          "name": "stderr",
          "text": [
            "100%|██████████| 20/20 [00:06<00:00,  3.16it/s]\n"
          ]
        },
        {
          "output_type": "stream",
          "name": "stdout",
          "text": [
            "Loss : 0.8013522624969482, Val Loss : 0.8592670559883118 Acc : 0.6635257165292501, Val Acc : 0.6177777777777778\n",
            "Epochs : 72\n"
          ]
        },
        {
          "output_type": "stream",
          "name": "stderr",
          "text": [
            "100%|██████████| 20/20 [00:06<00:00,  3.23it/s]\n"
          ]
        },
        {
          "output_type": "stream",
          "name": "stdout",
          "text": [
            "Loss : 0.8004989624023438, Val Loss : 0.8586427569389343 Acc : 0.662740478994896, Val Acc : 0.6111111111111112\n",
            "Epochs : 73\n"
          ]
        },
        {
          "output_type": "stream",
          "name": "stderr",
          "text": [
            "100%|██████████| 20/20 [00:06<00:00,  3.32it/s]\n"
          ]
        },
        {
          "output_type": "stream",
          "name": "stdout",
          "text": [
            "Loss : 0.7996525764465332, Val Loss : 0.8580243587493896 Acc : 0.662740478994896, Val Acc : 0.6111111111111112\n",
            "Epochs : 74\n"
          ]
        },
        {
          "output_type": "stream",
          "name": "stderr",
          "text": [
            "100%|██████████| 20/20 [00:05<00:00,  3.62it/s]\n"
          ]
        },
        {
          "output_type": "stream",
          "name": "stdout",
          "text": [
            "Loss : 0.7979798316955566, Val Loss : 0.8567924499511719 Acc : 0.6635257165292501, Val Acc : 0.6111111111111112\n",
            "Epochs : 75\n"
          ]
        },
        {
          "output_type": "stream",
          "name": "stderr",
          "text": [
            "100%|██████████| 20/20 [00:04<00:00,  4.01it/s]\n"
          ]
        },
        {
          "output_type": "stream",
          "name": "stdout",
          "text": [
            "Loss : 0.7971533536911011, Val Loss : 0.8561793565750122 Acc : 0.6643109540636042, Val Acc : 0.6133333333333333\n",
            "Epochs : 76\n"
          ]
        },
        {
          "output_type": "stream",
          "name": "stderr",
          "text": [
            "100%|██████████| 20/20 [00:06<00:00,  3.22it/s]\n"
          ]
        },
        {
          "output_type": "stream",
          "name": "stdout",
          "text": [
            "Loss : 0.7955207824707031, Val Loss : 0.8549751043319702 Acc : 0.6647035728307813, Val Acc : 0.6111111111111112\n",
            "Epochs : 77\n"
          ]
        },
        {
          "output_type": "stream",
          "name": "stderr",
          "text": [
            "100%|██████████| 20/20 [00:05<00:00,  3.36it/s]\n"
          ]
        },
        {
          "output_type": "stream",
          "name": "stdout",
          "text": [
            "Loss : 0.7947143316268921, Val Loss : 0.8543773889541626 Acc : 0.6654888103651354, Val Acc : 0.6111111111111112\n",
            "Epochs : 78\n"
          ]
        },
        {
          "output_type": "stream",
          "name": "stderr",
          "text": [
            "100%|██████████| 20/20 [00:05<00:00,  3.94it/s]\n"
          ]
        },
        {
          "output_type": "stream",
          "name": "stdout",
          "text": [
            "Loss : 0.7939139604568481, Val Loss : 0.8537870049476624 Acc : 0.6670592854338437, Val Acc : 0.6111111111111112\n",
            "Epochs : 79\n"
          ]
        },
        {
          "output_type": "stream",
          "name": "stderr",
          "text": [
            "100%|██████████| 20/20 [00:06<00:00,  3.20it/s]\n"
          ]
        },
        {
          "output_type": "stream",
          "name": "stdout",
          "text": [
            "Loss : 0.7931214570999146, Val Loss : 0.853193998336792 Acc : 0.668237141735375, Val Acc : 0.6111111111111112\n",
            "Epochs : 80\n"
          ]
        },
        {
          "output_type": "stream",
          "name": "stderr",
          "text": [
            "100%|██████████| 20/20 [00:05<00:00,  3.78it/s]\n"
          ]
        },
        {
          "output_type": "stream",
          "name": "stdout",
          "text": [
            "Loss : 0.7923380136489868, Val Loss : 0.8526094555854797 Acc : 0.6678445229681979, Val Acc : 0.6111111111111112\n",
            "Epochs : 81\n"
          ]
        },
        {
          "output_type": "stream",
          "name": "stderr",
          "text": [
            "100%|██████████| 20/20 [00:05<00:00,  3.70it/s]\n"
          ]
        },
        {
          "output_type": "stream",
          "name": "stdout",
          "text": [
            "Loss : 0.7907941341400146, Val Loss : 0.851451575756073 Acc : 0.6694149980369062, Val Acc : 0.6111111111111112\n",
            "Epochs : 82\n"
          ]
        },
        {
          "output_type": "stream",
          "name": "stderr",
          "text": [
            "100%|██████████| 20/20 [00:05<00:00,  3.64it/s]\n"
          ]
        },
        {
          "output_type": "stream",
          "name": "stdout",
          "text": [
            "Loss : 0.7900308966636658, Val Loss : 0.8508784174919128 Acc : 0.6702002355712603, Val Acc : 0.6111111111111112\n",
            "Epochs : 83\n"
          ]
        },
        {
          "output_type": "stream",
          "name": "stderr",
          "text": [
            "100%|██████████| 20/20 [00:05<00:00,  3.51it/s]\n"
          ]
        },
        {
          "output_type": "stream",
          "name": "stdout",
          "text": [
            "Loss : 0.789273202419281, Val Loss : 0.8503178358078003 Acc : 0.6702002355712603, Val Acc : 0.6111111111111112\n",
            "Epochs : 84\n"
          ]
        },
        {
          "output_type": "stream",
          "name": "stderr",
          "text": [
            "100%|██████████| 20/20 [00:05<00:00,  3.55it/s]\n"
          ]
        },
        {
          "output_type": "stream",
          "name": "stdout",
          "text": [
            "Loss : 0.7885211706161499, Val Loss : 0.8497567176818848 Acc : 0.6698076168040832, Val Acc : 0.6111111111111112\n",
            "Epochs : 85\n"
          ]
        },
        {
          "output_type": "stream",
          "name": "stderr",
          "text": [
            "100%|██████████| 20/20 [00:05<00:00,  3.41it/s]\n"
          ]
        },
        {
          "output_type": "stream",
          "name": "stdout",
          "text": [
            "Loss : 0.7885211706161499, Val Loss : 0.8497567176818848 Acc : 0.6698076168040832, Val Acc : 0.6111111111111112\n",
            "Epochs : 86\n"
          ]
        },
        {
          "output_type": "stream",
          "name": "stderr",
          "text": [
            "100%|██████████| 20/20 [00:04<00:00,  4.07it/s]\n"
          ]
        },
        {
          "output_type": "stream",
          "name": "stdout",
          "text": [
            "Loss : 0.788148820400238, Val Loss : 0.8494783639907837 Acc : 0.6694149980369062, Val Acc : 0.6111111111111112\n",
            "Epochs : 87\n"
          ]
        },
        {
          "output_type": "stream",
          "name": "stderr",
          "text": [
            "100%|██████████| 20/20 [00:05<00:00,  3.71it/s]\n"
          ]
        },
        {
          "output_type": "stream",
          "name": "stdout",
          "text": [
            "Loss : 0.7875919938087463, Val Loss : 0.8490606546401978 Acc : 0.6702002355712603, Val Acc : 0.6111111111111112\n",
            "Epochs : 88\n"
          ]
        },
        {
          "output_type": "stream",
          "name": "stderr",
          "text": [
            "100%|██████████| 20/20 [00:04<00:00,  4.27it/s]\n"
          ]
        },
        {
          "output_type": "stream",
          "name": "stdout",
          "text": [
            "Loss : 0.7862540483474731, Val Loss : 0.8480662107467651 Acc : 0.6702002355712603, Val Acc : 0.6111111111111112\n",
            "Epochs : 89\n"
          ]
        },
        {
          "output_type": "stream",
          "name": "stderr",
          "text": [
            "100%|██████████| 20/20 [00:05<00:00,  3.57it/s]\n"
          ]
        },
        {
          "output_type": "stream",
          "name": "stdout",
          "text": [
            "Loss : 0.7848339080810547, Val Loss : 0.8470061421394348 Acc : 0.6702002355712603, Val Acc : 0.6111111111111112\n",
            "Epochs : 90\n"
          ]
        },
        {
          "output_type": "stream",
          "name": "stderr",
          "text": [
            "100%|██████████| 20/20 [00:05<00:00,  3.74it/s]\n"
          ]
        },
        {
          "output_type": "stream",
          "name": "stdout",
          "text": [
            "Loss : 0.7834123969078064, Val Loss : 0.8459436893463135 Acc : 0.6705928543384374, Val Acc : 0.6111111111111112\n",
            "Epochs : 91\n"
          ]
        },
        {
          "output_type": "stream",
          "name": "stderr",
          "text": [
            "100%|██████████| 20/20 [00:06<00:00,  3.29it/s]\n"
          ]
        },
        {
          "output_type": "stream",
          "name": "stdout",
          "text": [
            "Loss : 0.7820035815238953, Val Loss : 0.8448969125747681 Acc : 0.6705928543384374, Val Acc : 0.6155555555555555\n",
            "Epochs : 92\n"
          ]
        },
        {
          "output_type": "stream",
          "name": "stderr",
          "text": [
            "100%|██████████| 20/20 [00:05<00:00,  3.65it/s]\n"
          ]
        },
        {
          "output_type": "stream",
          "name": "stdout",
          "text": [
            "Loss : 0.7813045382499695, Val Loss : 0.8443804979324341 Acc : 0.6705928543384374, Val Acc : 0.6111111111111112\n",
            "Epochs : 93\n"
          ]
        },
        {
          "output_type": "stream",
          "name": "stderr",
          "text": [
            "100%|██████████| 20/20 [00:05<00:00,  3.48it/s]\n"
          ]
        },
        {
          "output_type": "stream",
          "name": "stdout",
          "text": [
            "Loss : 0.7799168825149536, Val Loss : 0.8433572053909302 Acc : 0.6713780918727915, Val Acc : 0.6111111111111112\n",
            "Epochs : 94\n"
          ]
        },
        {
          "output_type": "stream",
          "name": "stderr",
          "text": [
            "100%|██████████| 20/20 [00:06<00:00,  3.10it/s]\n"
          ]
        },
        {
          "output_type": "stream",
          "name": "stdout",
          "text": [
            "Loss : 0.7778749465942383, Val Loss : 0.8418592214584351 Acc : 0.6733411857086768, Val Acc : 0.6111111111111112\n",
            "Epochs : 95\n"
          ]
        },
        {
          "output_type": "stream",
          "name": "stderr",
          "text": [
            "100%|██████████| 20/20 [00:06<00:00,  3.06it/s]\n"
          ]
        },
        {
          "output_type": "stream",
          "name": "stdout",
          "text": [
            "Loss : 0.7758707404136658, Val Loss : 0.8403947353363037 Acc : 0.6749116607773852, Val Acc : 0.6111111111111112\n",
            "Epochs : 96\n"
          ]
        },
        {
          "output_type": "stream",
          "name": "stderr",
          "text": [
            "100%|██████████| 20/20 [00:04<00:00,  4.05it/s]\n"
          ]
        },
        {
          "output_type": "stream",
          "name": "stdout",
          "text": [
            "Loss : 0.7752112150192261, Val Loss : 0.8399098515510559 Acc : 0.6756968983117393, Val Acc : 0.6111111111111112\n",
            "Epochs : 97\n"
          ]
        },
        {
          "output_type": "stream",
          "name": "stderr",
          "text": [
            "100%|██████████| 20/20 [00:06<00:00,  3.29it/s]\n"
          ]
        },
        {
          "output_type": "stream",
          "name": "stdout",
          "text": [
            "Loss : 0.774556577205658, Val Loss : 0.8394289612770081 Acc : 0.6756968983117393, Val Acc : 0.6111111111111112\n",
            "Epochs : 98\n"
          ]
        },
        {
          "output_type": "stream",
          "name": "stderr",
          "text": [
            "100%|██████████| 20/20 [00:06<00:00,  3.25it/s]\n"
          ]
        },
        {
          "output_type": "stream",
          "name": "stdout",
          "text": [
            "Loss : 0.7739077806472778, Val Loss : 0.8389506936073303 Acc : 0.6756968983117393, Val Acc : 0.6111111111111112\n",
            "Epochs : 99\n"
          ]
        },
        {
          "output_type": "stream",
          "name": "stderr",
          "text": [
            "100%|██████████| 20/20 [00:05<00:00,  3.69it/s]\n"
          ]
        },
        {
          "output_type": "stream",
          "name": "stdout",
          "text": [
            "Loss : 0.7732635736465454, Val Loss : 0.8384785056114197 Acc : 0.6753042795445622, Val Acc : 0.6111111111111112\n",
            "Epochs : 100\n"
          ]
        },
        {
          "output_type": "stream",
          "name": "stderr",
          "text": [
            "100%|██████████| 20/20 [00:06<00:00,  3.08it/s]\n"
          ]
        },
        {
          "output_type": "stream",
          "name": "stdout",
          "text": [
            "Loss : 0.7726238369941711, Val Loss : 0.8380052447319031 Acc : 0.6753042795445622, Val Acc : 0.6133333333333333\n",
            "Epochs : 101\n"
          ]
        },
        {
          "output_type": "stream",
          "name": "stderr",
          "text": [
            "100%|██████████| 20/20 [00:06<00:00,  3.21it/s]\n"
          ]
        },
        {
          "output_type": "stream",
          "name": "stdout",
          "text": [
            "Loss : 0.7719894051551819, Val Loss : 0.8375363349914551 Acc : 0.6753042795445622, Val Acc : 0.6133333333333333\n",
            "Epochs : 102\n"
          ]
        },
        {
          "output_type": "stream",
          "name": "stderr",
          "text": [
            "100%|██████████| 20/20 [00:04<00:00,  4.05it/s]\n"
          ]
        },
        {
          "output_type": "stream",
          "name": "stdout",
          "text": [
            "Loss : 0.7713615298271179, Val Loss : 0.8370695114135742 Acc : 0.6756968983117393, Val Acc : 0.6133333333333333\n",
            "Epochs : 103\n"
          ]
        },
        {
          "output_type": "stream",
          "name": "stderr",
          "text": [
            "100%|██████████| 20/20 [00:05<00:00,  3.41it/s]\n"
          ]
        },
        {
          "output_type": "stream",
          "name": "stdout",
          "text": [
            "Loss : 0.7701187133789062, Val Loss : 0.8361431360244751 Acc : 0.6760895170789164, Val Acc : 0.6133333333333333\n",
            "Epochs : 104\n"
          ]
        },
        {
          "output_type": "stream",
          "name": "stderr",
          "text": [
            "100%|██████████| 20/20 [00:05<00:00,  3.51it/s]\n"
          ]
        },
        {
          "output_type": "stream",
          "name": "stdout",
          "text": [
            "Loss : 0.7695025205612183, Val Loss : 0.8356874585151672 Acc : 0.6764821358460934, Val Acc : 0.6133333333333333\n",
            "Epochs : 105\n"
          ]
        },
        {
          "output_type": "stream",
          "name": "stderr",
          "text": [
            "100%|██████████| 20/20 [00:05<00:00,  3.41it/s]\n"
          ]
        },
        {
          "output_type": "stream",
          "name": "stdout",
          "text": [
            "Loss : 0.7688899636268616, Val Loss : 0.8352407217025757 Acc : 0.6764821358460934, Val Acc : 0.6133333333333333\n",
            "Epochs : 106\n"
          ]
        },
        {
          "output_type": "stream",
          "name": "stderr",
          "text": [
            "100%|██████████| 20/20 [00:05<00:00,  3.41it/s]\n"
          ]
        },
        {
          "output_type": "stream",
          "name": "stdout",
          "text": [
            "Loss : 0.7670720815658569, Val Loss : 0.8338987231254578 Acc : 0.6772673733804476, Val Acc : 0.6111111111111112\n",
            "Epochs : 107\n"
          ]
        },
        {
          "output_type": "stream",
          "name": "stderr",
          "text": [
            "100%|██████████| 20/20 [00:06<00:00,  3.33it/s]\n"
          ]
        },
        {
          "output_type": "stream",
          "name": "stdout",
          "text": [
            "Loss : 0.7664718627929688, Val Loss : 0.8334589004516602 Acc : 0.6768747546132705, Val Acc : 0.6133333333333333\n",
            "Epochs : 108\n"
          ]
        },
        {
          "output_type": "stream",
          "name": "stderr",
          "text": [
            "100%|██████████| 20/20 [00:05<00:00,  3.44it/s]\n"
          ]
        },
        {
          "output_type": "stream",
          "name": "stdout",
          "text": [
            "Loss : 0.7658756375312805, Val Loss : 0.8330162763595581 Acc : 0.6780526109148017, Val Acc : 0.6133333333333333\n",
            "Epochs : 109\n"
          ]
        },
        {
          "output_type": "stream",
          "name": "stderr",
          "text": [
            "100%|██████████| 20/20 [00:05<00:00,  3.92it/s]\n"
          ]
        },
        {
          "output_type": "stream",
          "name": "stdout",
          "text": [
            "Loss : 0.7652814388275146, Val Loss : 0.8325726985931396 Acc : 0.6784452296819788, Val Acc : 0.6133333333333333\n",
            "Epochs : 110\n"
          ]
        },
        {
          "output_type": "stream",
          "name": "stderr",
          "text": [
            "100%|██████████| 20/20 [00:06<00:00,  3.30it/s]\n"
          ]
        },
        {
          "output_type": "stream",
          "name": "stdout",
          "text": [
            "Loss : 0.7641013860702515, Val Loss : 0.8317024111747742 Acc : 0.6804083235178642, Val Acc : 0.6133333333333333\n",
            "Epochs : 111\n"
          ]
        },
        {
          "output_type": "stream",
          "name": "stderr",
          "text": [
            "100%|██████████| 20/20 [00:05<00:00,  3.73it/s]\n"
          ]
        },
        {
          "output_type": "stream",
          "name": "stdout",
          "text": [
            "Loss : 0.7635170817375183, Val Loss : 0.8312662839889526 Acc : 0.6808009422850412, Val Acc : 0.6133333333333333\n",
            "Epochs : 112\n"
          ]
        },
        {
          "output_type": "stream",
          "name": "stderr",
          "text": [
            "100%|██████████| 20/20 [00:04<00:00,  4.07it/s]\n"
          ]
        },
        {
          "output_type": "stream",
          "name": "stdout",
          "text": [
            "Loss : 0.7629367709159851, Val Loss : 0.8308348655700684 Acc : 0.6808009422850412, Val Acc : 0.6133333333333333\n",
            "Epochs : 113\n"
          ]
        },
        {
          "output_type": "stream",
          "name": "stderr",
          "text": [
            "100%|██████████| 20/20 [00:04<00:00,  4.07it/s]\n"
          ]
        },
        {
          "output_type": "stream",
          "name": "stdout",
          "text": [
            "Loss : 0.7623600959777832, Val Loss : 0.8304091095924377 Acc : 0.6808009422850412, Val Acc : 0.6133333333333333\n",
            "Epochs : 114\n"
          ]
        },
        {
          "output_type": "stream",
          "name": "stderr",
          "text": [
            "100%|██████████| 20/20 [00:04<00:00,  4.02it/s]\n"
          ]
        },
        {
          "output_type": "stream",
          "name": "stdout",
          "text": [
            "Loss : 0.7623600959777832, Val Loss : 0.8304091095924377 Acc : 0.6808009422850412, Val Acc : 0.6133333333333333\n",
            "Epochs : 115\n"
          ]
        },
        {
          "output_type": "stream",
          "name": "stderr",
          "text": [
            "100%|██████████| 20/20 [00:06<00:00,  3.21it/s]\n"
          ]
        },
        {
          "output_type": "stream",
          "name": "stdout",
          "text": [
            "Loss : 0.7611466646194458, Val Loss : 0.8295095562934875 Acc : 0.6811935610522183, Val Acc : 0.6133333333333333\n",
            "Epochs : 116\n"
          ]
        },
        {
          "output_type": "stream",
          "name": "stderr",
          "text": [
            "100%|██████████| 20/20 [00:05<00:00,  3.88it/s]\n"
          ]
        },
        {
          "output_type": "stream",
          "name": "stdout",
          "text": [
            "Loss : 0.7600682973861694, Val Loss : 0.828711211681366 Acc : 0.6823714173537495, Val Acc : 0.6155555555555555\n",
            "Epochs : 117\n"
          ]
        },
        {
          "output_type": "stream",
          "name": "stderr",
          "text": [
            "100%|██████████| 20/20 [00:05<00:00,  3.50it/s]\n"
          ]
        },
        {
          "output_type": "stream",
          "name": "stdout",
          "text": [
            "Loss : 0.7589578628540039, Val Loss : 0.8278887271881104 Acc : 0.6835492736552807, Val Acc : 0.6177777777777778\n",
            "Epochs : 118\n"
          ]
        },
        {
          "output_type": "stream",
          "name": "stderr",
          "text": [
            "100%|██████████| 20/20 [00:04<00:00,  4.10it/s]\n"
          ]
        },
        {
          "output_type": "stream",
          "name": "stdout",
          "text": [
            "Loss : 0.7584004402160645, Val Loss : 0.827480137348175 Acc : 0.6843345111896348, Val Acc : 0.6177777777777778\n",
            "Epochs : 119\n"
          ]
        },
        {
          "output_type": "stream",
          "name": "stderr",
          "text": [
            "100%|██████████| 20/20 [00:05<00:00,  3.51it/s]\n"
          ]
        },
        {
          "output_type": "stream",
          "name": "stdout",
          "text": [
            "Loss : 0.7578424215316772, Val Loss : 0.8270699977874756 Acc : 0.684727129956812, Val Acc : 0.6177777777777778\n",
            "Epochs : 120\n"
          ]
        },
        {
          "output_type": "stream",
          "name": "stderr",
          "text": [
            "100%|██████████| 20/20 [00:06<00:00,  3.29it/s]\n"
          ]
        },
        {
          "output_type": "stream",
          "name": "stdout",
          "text": [
            "Loss : 0.7561774849891663, Val Loss : 0.825866162776947 Acc : 0.6855123674911661, Val Acc : 0.62\n",
            "Epochs : 121\n"
          ]
        },
        {
          "output_type": "stream",
          "name": "stderr",
          "text": [
            "100%|██████████| 20/20 [00:06<00:00,  3.15it/s]\n"
          ]
        },
        {
          "output_type": "stream",
          "name": "stdout",
          "text": [
            "Loss : 0.7556278705596924, Val Loss : 0.8254688382148743 Acc : 0.6859049862583432, Val Acc : 0.6222222222222222\n",
            "Epochs : 122\n"
          ]
        },
        {
          "output_type": "stream",
          "name": "stderr",
          "text": [
            "100%|██████████| 20/20 [00:05<00:00,  3.88it/s]\n"
          ]
        },
        {
          "output_type": "stream",
          "name": "stdout",
          "text": [
            "Loss : 0.7550820708274841, Val Loss : 0.8250758647918701 Acc : 0.6859049862583432, Val Acc : 0.6222222222222222\n",
            "Epochs : 123\n"
          ]
        },
        {
          "output_type": "stream",
          "name": "stderr",
          "text": [
            "100%|██████████| 20/20 [00:06<00:00,  3.19it/s]\n"
          ]
        },
        {
          "output_type": "stream",
          "name": "stdout",
          "text": [
            "Loss : 0.753462553024292, Val Loss : 0.8239031434059143 Acc : 0.6874754613270514, Val Acc : 0.6244444444444445\n",
            "Epochs : 124\n"
          ]
        },
        {
          "output_type": "stream",
          "name": "stderr",
          "text": [
            "100%|██████████| 20/20 [00:05<00:00,  3.61it/s]\n"
          ]
        },
        {
          "output_type": "stream",
          "name": "stdout",
          "text": [
            "Loss : 0.7529279589653015, Val Loss : 0.8235191702842712 Acc : 0.6878680800942285, Val Acc : 0.6244444444444445\n",
            "Epochs : 125\n"
          ]
        },
        {
          "output_type": "stream",
          "name": "stderr",
          "text": [
            "100%|██████████| 20/20 [00:05<00:00,  3.51it/s]\n"
          ]
        },
        {
          "output_type": "stream",
          "name": "stdout",
          "text": [
            "Loss : 0.7518651485443115, Val Loss : 0.822754979133606 Acc : 0.6882606988614056, Val Acc : 0.6244444444444445\n",
            "Epochs : 126\n"
          ]
        },
        {
          "output_type": "stream",
          "name": "stderr",
          "text": [
            "100%|██████████| 20/20 [00:05<00:00,  3.50it/s]\n"
          ]
        },
        {
          "output_type": "stream",
          "name": "stdout",
          "text": [
            "Loss : 0.7513375282287598, Val Loss : 0.8223779201507568 Acc : 0.6886533176285826, Val Acc : 0.6222222222222222\n",
            "Epochs : 127\n"
          ]
        },
        {
          "output_type": "stream",
          "name": "stderr",
          "text": [
            "100%|██████████| 20/20 [00:05<00:00,  3.95it/s]\n"
          ]
        },
        {
          "output_type": "stream",
          "name": "stdout",
          "text": [
            "Loss : 0.7497707009315491, Val Loss : 0.8212399482727051 Acc : 0.690223792697291, Val Acc : 0.6266666666666667\n",
            "Epochs : 128\n"
          ]
        },
        {
          "output_type": "stream",
          "name": "stderr",
          "text": [
            "100%|██████████| 20/20 [00:06<00:00,  3.22it/s]\n"
          ]
        },
        {
          "output_type": "stream",
          "name": "stdout",
          "text": [
            "Loss : 0.7477208375930786, Val Loss : 0.8197376132011414 Acc : 0.6914016489988222, Val Acc : 0.6266666666666667\n",
            "Epochs : 129\n"
          ]
        },
        {
          "output_type": "stream",
          "name": "stderr",
          "text": [
            "100%|██████████| 20/20 [00:05<00:00,  3.74it/s]\n"
          ]
        },
        {
          "output_type": "stream",
          "name": "stdout",
          "text": [
            "Loss : 0.7472164630889893, Val Loss : 0.8193672895431519 Acc : 0.6917942677659992, Val Acc : 0.6266666666666667\n",
            "Epochs : 130\n"
          ]
        },
        {
          "output_type": "stream",
          "name": "stderr",
          "text": [
            "100%|██████████| 20/20 [00:06<00:00,  3.28it/s]\n"
          ]
        },
        {
          "output_type": "stream",
          "name": "stdout",
          "text": [
            "Loss : 0.7457204461097717, Val Loss : 0.8182588815689087 Acc : 0.6933647428347075, Val Acc : 0.6266666666666667\n",
            "Epochs : 131\n"
          ]
        },
        {
          "output_type": "stream",
          "name": "stderr",
          "text": [
            "100%|██████████| 20/20 [00:05<00:00,  3.49it/s]\n"
          ]
        },
        {
          "output_type": "stream",
          "name": "stdout",
          "text": [
            "Loss : 0.7447367906570435, Val Loss : 0.8175206184387207 Acc : 0.6941499803690616, Val Acc : 0.6266666666666667\n",
            "Epochs : 132\n"
          ]
        },
        {
          "output_type": "stream",
          "name": "stderr",
          "text": [
            "100%|██████████| 20/20 [00:06<00:00,  3.12it/s]\n"
          ]
        },
        {
          "output_type": "stream",
          "name": "stdout",
          "text": [
            "Loss : 0.7437620759010315, Val Loss : 0.8167977333068848 Acc : 0.6953278366705928, Val Acc : 0.6244444444444445\n",
            "Epochs : 133\n"
          ]
        },
        {
          "output_type": "stream",
          "name": "stderr",
          "text": [
            "100%|██████████| 20/20 [00:06<00:00,  3.25it/s]\n"
          ]
        },
        {
          "output_type": "stream",
          "name": "stdout",
          "text": [
            "Loss : 0.7427991032600403, Val Loss : 0.8160716891288757 Acc : 0.69572045543777, Val Acc : 0.6244444444444445\n",
            "Epochs : 134\n"
          ]
        },
        {
          "output_type": "stream",
          "name": "stderr",
          "text": [
            "100%|██████████| 20/20 [00:05<00:00,  3.92it/s]\n"
          ]
        },
        {
          "output_type": "stream",
          "name": "stdout",
          "text": [
            "Loss : 0.7423202395439148, Val Loss : 0.8157111406326294 Acc : 0.69572045543777, Val Acc : 0.6244444444444445\n",
            "Epochs : 135\n"
          ]
        },
        {
          "output_type": "stream",
          "name": "stderr",
          "text": [
            "100%|██████████| 20/20 [00:05<00:00,  3.79it/s]\n"
          ]
        },
        {
          "output_type": "stream",
          "name": "stdout",
          "text": [
            "Loss : 0.7418420314788818, Val Loss : 0.8153494596481323 Acc : 0.69572045543777, Val Acc : 0.6244444444444445\n",
            "Epochs : 136\n"
          ]
        },
        {
          "output_type": "stream",
          "name": "stderr",
          "text": [
            "100%|██████████| 20/20 [00:05<00:00,  3.88it/s]\n"
          ]
        },
        {
          "output_type": "stream",
          "name": "stdout",
          "text": [
            "Loss : 0.7413657307624817, Val Loss : 0.8149914145469666 Acc : 0.6965056929721241, Val Acc : 0.6244444444444445\n",
            "Epochs : 137\n"
          ]
        },
        {
          "output_type": "stream",
          "name": "stderr",
          "text": [
            "100%|██████████| 20/20 [00:05<00:00,  3.65it/s]\n"
          ]
        },
        {
          "output_type": "stream",
          "name": "stdout",
          "text": [
            "Loss : 0.7413657307624817, Val Loss : 0.8149914145469666 Acc : 0.6965056929721241, Val Acc : 0.6244444444444445\n",
            "Epochs : 138\n"
          ]
        },
        {
          "output_type": "stream",
          "name": "stderr",
          "text": [
            "100%|██████████| 20/20 [00:06<00:00,  3.21it/s]\n"
          ]
        },
        {
          "output_type": "stream",
          "name": "stdout",
          "text": [
            "Loss : 0.740364134311676, Val Loss : 0.8142381310462952 Acc : 0.6972909305064782, Val Acc : 0.6244444444444445\n",
            "Epochs : 139\n"
          ]
        },
        {
          "output_type": "stream",
          "name": "stderr",
          "text": [
            "100%|██████████| 20/20 [00:05<00:00,  3.57it/s]\n"
          ]
        },
        {
          "output_type": "stream",
          "name": "stdout",
          "text": [
            "Loss : 0.7394775152206421, Val Loss : 0.8135623335838318 Acc : 0.6984687868080094, Val Acc : 0.6222222222222222\n",
            "Epochs : 140\n"
          ]
        },
        {
          "output_type": "stream",
          "name": "stderr",
          "text": [
            "100%|██████████| 20/20 [00:05<00:00,  3.96it/s]\n"
          ]
        },
        {
          "output_type": "stream",
          "name": "stdout",
          "text": [
            "Loss : 0.7390249967575073, Val Loss : 0.8132182359695435 Acc : 0.6988614055751865, Val Acc : 0.6222222222222222\n",
            "Epochs : 141\n"
          ]
        },
        {
          "output_type": "stream",
          "name": "stderr",
          "text": [
            "100%|██████████| 20/20 [00:05<00:00,  3.54it/s]\n"
          ]
        },
        {
          "output_type": "stream",
          "name": "stdout",
          "text": [
            "Loss : 0.7381187081336975, Val Loss : 0.8125255107879639 Acc : 0.6996466431095406, Val Acc : 0.6244444444444445\n",
            "Epochs : 142\n"
          ]
        },
        {
          "output_type": "stream",
          "name": "stderr",
          "text": [
            "100%|██████████| 20/20 [00:05<00:00,  3.52it/s]\n"
          ]
        },
        {
          "output_type": "stream",
          "name": "stdout",
          "text": [
            "Loss : 0.7376663684844971, Val Loss : 0.8121793866157532 Acc : 0.6988614055751865, Val Acc : 0.6244444444444445\n",
            "Epochs : 143\n"
          ]
        },
        {
          "output_type": "stream",
          "name": "stderr",
          "text": [
            "100%|██████████| 20/20 [00:05<00:00,  3.67it/s]\n"
          ]
        },
        {
          "output_type": "stream",
          "name": "stdout",
          "text": [
            "Loss : 0.7372161746025085, Val Loss : 0.8118324875831604 Acc : 0.6988614055751865, Val Acc : 0.6266666666666667\n",
            "Epochs : 144\n"
          ]
        },
        {
          "output_type": "stream",
          "name": "stderr",
          "text": [
            "100%|██████████| 20/20 [00:06<00:00,  3.08it/s]\n"
          ]
        },
        {
          "output_type": "stream",
          "name": "stdout",
          "text": [
            "Loss : 0.7363218665122986, Val Loss : 0.8111474514007568 Acc : 0.6996466431095406, Val Acc : 0.6266666666666667\n",
            "Epochs : 145\n"
          ]
        },
        {
          "output_type": "stream",
          "name": "stderr",
          "text": [
            "100%|██████████| 20/20 [00:06<00:00,  3.26it/s]\n"
          ]
        },
        {
          "output_type": "stream",
          "name": "stdout",
          "text": [
            "Loss : 0.7358769774436951, Val Loss : 0.8108097910881042 Acc : 0.6996466431095406, Val Acc : 0.6288888888888889\n",
            "Epochs : 146\n"
          ]
        },
        {
          "output_type": "stream",
          "name": "stderr",
          "text": [
            "100%|██████████| 20/20 [00:05<00:00,  3.62it/s]\n"
          ]
        },
        {
          "output_type": "stream",
          "name": "stdout",
          "text": [
            "Loss : 0.7354347109794617, Val Loss : 0.8104733228683472 Acc : 0.7000392618767177, Val Acc : 0.6288888888888889\n",
            "Epochs : 147\n"
          ]
        },
        {
          "output_type": "stream",
          "name": "stderr",
          "text": [
            "100%|██████████| 20/20 [00:06<00:00,  3.26it/s]\n"
          ]
        },
        {
          "output_type": "stream",
          "name": "stdout",
          "text": [
            "Loss : 0.7345566749572754, Val Loss : 0.8098010420799255 Acc : 0.7004318806438948, Val Acc : 0.6288888888888889\n",
            "Epochs : 148\n"
          ]
        },
        {
          "output_type": "stream",
          "name": "stderr",
          "text": [
            "100%|██████████| 20/20 [00:05<00:00,  3.57it/s]\n"
          ]
        },
        {
          "output_type": "stream",
          "name": "stdout",
          "text": [
            "Loss : 0.7336856126785278, Val Loss : 0.8091386556625366 Acc : 0.7008244994110718, Val Acc : 0.6311111111111111\n",
            "Epochs : 149\n"
          ]
        },
        {
          "output_type": "stream",
          "name": "stderr",
          "text": [
            "100%|██████████| 20/20 [00:06<00:00,  3.32it/s]\n"
          ]
        },
        {
          "output_type": "stream",
          "name": "stdout",
          "text": [
            "Loss : 0.7332521677017212, Val Loss : 0.8088099956512451 Acc : 0.7008244994110718, Val Acc : 0.6311111111111111\n",
            "Epochs : 150\n"
          ]
        },
        {
          "output_type": "stream",
          "name": "stderr",
          "text": [
            "100%|██████████| 20/20 [00:05<00:00,  3.58it/s]\n"
          ]
        },
        {
          "output_type": "stream",
          "name": "stdout",
          "text": [
            "Loss : 0.7328195571899414, Val Loss : 0.8084790110588074 Acc : 0.7004318806438948, Val Acc : 0.6311111111111111\n",
            "Epochs : 151\n"
          ]
        },
        {
          "output_type": "stream",
          "name": "stderr",
          "text": [
            "100%|██████████| 20/20 [00:05<00:00,  3.41it/s]\n"
          ]
        },
        {
          "output_type": "stream",
          "name": "stdout",
          "text": [
            "Loss : 0.7323877215385437, Val Loss : 0.8081499338150024 Acc : 0.7004318806438948, Val Acc : 0.6333333333333333\n",
            "Epochs : 152\n"
          ]
        },
        {
          "output_type": "stream",
          "name": "stderr",
          "text": [
            "100%|██████████| 20/20 [00:06<00:00,  3.14it/s]\n"
          ]
        },
        {
          "output_type": "stream",
          "name": "stdout",
          "text": [
            "Loss : 0.731956422328949, Val Loss : 0.8078240156173706 Acc : 0.7004318806438948, Val Acc : 0.6311111111111111\n",
            "Epochs : 153\n"
          ]
        },
        {
          "output_type": "stream",
          "name": "stderr",
          "text": [
            "100%|██████████| 20/20 [00:06<00:00,  3.02it/s]\n"
          ]
        },
        {
          "output_type": "stream",
          "name": "stdout",
          "text": [
            "Loss : 0.7315264344215393, Val Loss : 0.8074946403503418 Acc : 0.7004318806438948, Val Acc : 0.6311111111111111\n",
            "Epochs : 154\n"
          ]
        },
        {
          "output_type": "stream",
          "name": "stderr",
          "text": [
            "100%|██████████| 20/20 [00:06<00:00,  3.02it/s]\n"
          ]
        },
        {
          "output_type": "stream",
          "name": "stdout",
          "text": [
            "Loss : 0.7306727766990662, Val Loss : 0.8068448901176453 Acc : 0.7008244994110718, Val Acc : 0.6311111111111111\n",
            "Epochs : 155\n"
          ]
        },
        {
          "output_type": "stream",
          "name": "stderr",
          "text": [
            "100%|██████████| 20/20 [00:05<00:00,  3.52it/s]\n"
          ]
        },
        {
          "output_type": "stream",
          "name": "stdout",
          "text": [
            "Loss : 0.730248749256134, Val Loss : 0.8065195083618164 Acc : 0.7008244994110718, Val Acc : 0.6288888888888889\n",
            "Epochs : 156\n"
          ]
        },
        {
          "output_type": "stream",
          "name": "stderr",
          "text": [
            "100%|██████████| 20/20 [00:05<00:00,  3.72it/s]\n"
          ]
        },
        {
          "output_type": "stream",
          "name": "stdout",
          "text": [
            "Loss : 0.7298257350921631, Val Loss : 0.8061991333961487 Acc : 0.7016097369454259, Val Acc : 0.6288888888888889\n",
            "Epochs : 157\n"
          ]
        },
        {
          "output_type": "stream",
          "name": "stderr",
          "text": [
            "100%|██████████| 20/20 [00:04<00:00,  4.24it/s]\n"
          ]
        },
        {
          "output_type": "stream",
          "name": "stdout",
          "text": [
            "Loss : 0.728983998298645, Val Loss : 0.8055592179298401 Acc : 0.7016097369454259, Val Acc : 0.6288888888888889\n",
            "Epochs : 158\n"
          ]
        },
        {
          "output_type": "stream",
          "name": "stderr",
          "text": [
            "100%|██████████| 20/20 [00:05<00:00,  3.52it/s]\n"
          ]
        },
        {
          "output_type": "stream",
          "name": "stdout",
          "text": [
            "Loss : 0.7285657525062561, Val Loss : 0.8052419424057007 Acc : 0.7016097369454259, Val Acc : 0.6288888888888889\n",
            "Epochs : 159\n"
          ]
        },
        {
          "output_type": "stream",
          "name": "stderr",
          "text": [
            "100%|██████████| 20/20 [00:05<00:00,  3.52it/s]\n"
          ]
        },
        {
          "output_type": "stream",
          "name": "stdout",
          "text": [
            "Loss : 0.7277337312698364, Val Loss : 0.8046119809150696 Acc : 0.7012171181782489, Val Acc : 0.6266666666666667\n",
            "Epochs : 160\n"
          ]
        },
        {
          "output_type": "stream",
          "name": "stderr",
          "text": [
            "100%|██████████| 20/20 [00:06<00:00,  3.04it/s]\n"
          ]
        },
        {
          "output_type": "stream",
          "name": "stdout",
          "text": [
            "Loss : 0.7269087433815002, Val Loss : 0.8039870262145996 Acc : 0.7012171181782489, Val Acc : 0.6266666666666667\n",
            "Epochs : 161\n"
          ]
        },
        {
          "output_type": "stream",
          "name": "stderr",
          "text": [
            "100%|██████████| 20/20 [00:06<00:00,  3.29it/s]\n"
          ]
        },
        {
          "output_type": "stream",
          "name": "stdout",
          "text": [
            "Loss : 0.7264990210533142, Val Loss : 0.8036773204803467 Acc : 0.7012171181782489, Val Acc : 0.6266666666666667\n",
            "Epochs : 162\n"
          ]
        },
        {
          "output_type": "stream",
          "name": "stderr",
          "text": [
            "100%|██████████| 20/20 [00:05<00:00,  3.36it/s]\n"
          ]
        },
        {
          "output_type": "stream",
          "name": "stdout",
          "text": [
            "Loss : 0.7260903120040894, Val Loss : 0.8033726811408997 Acc : 0.7016097369454259, Val Acc : 0.6266666666666667\n",
            "Epochs : 163\n"
          ]
        },
        {
          "output_type": "stream",
          "name": "stderr",
          "text": [
            "100%|██████████| 20/20 [00:05<00:00,  3.82it/s]\n"
          ]
        },
        {
          "output_type": "stream",
          "name": "stdout",
          "text": [
            "Loss : 0.7256827354431152, Val Loss : 0.803068220615387 Acc : 0.7016097369454259, Val Acc : 0.6266666666666667\n",
            "Epochs : 164\n"
          ]
        },
        {
          "output_type": "stream",
          "name": "stderr",
          "text": [
            "100%|██████████| 20/20 [00:06<00:00,  3.06it/s]\n"
          ]
        },
        {
          "output_type": "stream",
          "name": "stdout",
          "text": [
            "Loss : 0.7252762317657471, Val Loss : 0.8027641177177429 Acc : 0.702002355712603, Val Acc : 0.6266666666666667\n",
            "Epochs : 165\n"
          ]
        },
        {
          "output_type": "stream",
          "name": "stderr",
          "text": [
            "100%|██████████| 20/20 [00:04<00:00,  4.18it/s]\n"
          ]
        },
        {
          "output_type": "stream",
          "name": "stdout",
          "text": [
            "Loss : 0.7248709797859192, Val Loss : 0.8024584054946899 Acc : 0.702002355712603, Val Acc : 0.6266666666666667\n",
            "Epochs : 166\n"
          ]
        },
        {
          "output_type": "stream",
          "name": "stderr",
          "text": [
            "100%|██████████| 20/20 [00:05<00:00,  3.60it/s]\n"
          ]
        },
        {
          "output_type": "stream",
          "name": "stdout",
          "text": [
            "Loss : 0.7244664430618286, Val Loss : 0.8021572828292847 Acc : 0.7027875932469572, Val Acc : 0.6244444444444445\n",
            "Epochs : 167\n"
          ]
        },
        {
          "output_type": "stream",
          "name": "stderr",
          "text": [
            "100%|██████████| 20/20 [00:04<00:00,  4.08it/s]\n"
          ]
        },
        {
          "output_type": "stream",
          "name": "stdout",
          "text": [
            "Loss : 0.7240628004074097, Val Loss : 0.8018577694892883 Acc : 0.7027875932469572, Val Acc : 0.6244444444444445\n",
            "Epochs : 168\n"
          ]
        },
        {
          "output_type": "stream",
          "name": "stderr",
          "text": [
            "100%|██████████| 20/20 [00:05<00:00,  3.58it/s]\n"
          ]
        },
        {
          "output_type": "stream",
          "name": "stdout",
          "text": [
            "Loss : 0.7240628004074097, Val Loss : 0.8018577694892883 Acc : 0.7027875932469572, Val Acc : 0.6244444444444445\n",
            "Epochs : 169\n"
          ]
        },
        {
          "output_type": "stream",
          "name": "stderr",
          "text": [
            "100%|██████████| 20/20 [00:05<00:00,  3.63it/s]\n"
          ]
        },
        {
          "output_type": "stream",
          "name": "stdout",
          "text": [
            "Loss : 0.7235612273216248, Val Loss : 0.8014808297157288 Acc : 0.7027875932469572, Val Acc : 0.6244444444444445\n",
            "Epochs : 170\n"
          ]
        },
        {
          "output_type": "stream",
          "name": "stderr",
          "text": [
            "100%|██████████| 20/20 [00:05<00:00,  3.92it/s]\n"
          ]
        },
        {
          "output_type": "stream",
          "name": "stdout",
          "text": [
            "Loss : 0.7224517464637756, Val Loss : 0.8006553649902344 Acc : 0.7039654495484884, Val Acc : 0.6244444444444445\n",
            "Epochs : 171\n"
          ]
        },
        {
          "output_type": "stream",
          "name": "stderr",
          "text": [
            "100%|██████████| 20/20 [00:05<00:00,  3.56it/s]\n"
          ]
        },
        {
          "output_type": "stream",
          "name": "stdout",
          "text": [
            "Loss : 0.7220609188079834, Val Loss : 0.8003672957420349 Acc : 0.7055359246171967, Val Acc : 0.6244444444444445\n",
            "Epochs : 172\n"
          ]
        },
        {
          "output_type": "stream",
          "name": "stderr",
          "text": [
            "100%|██████████| 20/20 [00:05<00:00,  3.54it/s]\n"
          ]
        },
        {
          "output_type": "stream",
          "name": "stdout",
          "text": [
            "Loss : 0.7216681241989136, Val Loss : 0.800075113773346 Acc : 0.7059285433843737, Val Acc : 0.6244444444444445\n",
            "Epochs : 173\n"
          ]
        },
        {
          "output_type": "stream",
          "name": "stderr",
          "text": [
            "100%|██████████| 20/20 [00:05<00:00,  3.66it/s]\n"
          ]
        },
        {
          "output_type": "stream",
          "name": "stdout",
          "text": [
            "Loss : 0.7208816409111023, Val Loss : 0.7994897961616516 Acc : 0.7063211621515508, Val Acc : 0.6244444444444445\n",
            "Epochs : 174\n"
          ]
        },
        {
          "output_type": "stream",
          "name": "stderr",
          "text": [
            "100%|██████████| 20/20 [00:05<00:00,  3.63it/s]\n"
          ]
        },
        {
          "output_type": "stream",
          "name": "stdout",
          "text": [
            "Loss : 0.7200990319252014, Val Loss : 0.798903226852417 Acc : 0.7067137809187279, Val Acc : 0.6244444444444445\n",
            "Epochs : 175\n"
          ]
        },
        {
          "output_type": "stream",
          "name": "stderr",
          "text": [
            "100%|██████████| 20/20 [00:05<00:00,  3.94it/s]\n"
          ]
        },
        {
          "output_type": "stream",
          "name": "stdout",
          "text": [
            "Loss : 0.7193224430084229, Val Loss : 0.7983185648918152 Acc : 0.7071063996859049, Val Acc : 0.6266666666666667\n",
            "Epochs : 176\n"
          ]
        },
        {
          "output_type": "stream",
          "name": "stderr",
          "text": [
            "100%|██████████| 20/20 [00:05<00:00,  3.68it/s]\n"
          ]
        },
        {
          "output_type": "stream",
          "name": "stdout",
          "text": [
            "Loss : 0.7189351916313171, Val Loss : 0.798026978969574 Acc : 0.707499018453082, Val Acc : 0.6266666666666667\n",
            "Epochs : 177\n"
          ]
        },
        {
          "output_type": "stream",
          "name": "stderr",
          "text": [
            "100%|██████████| 20/20 [00:06<00:00,  3.24it/s]\n"
          ]
        },
        {
          "output_type": "stream",
          "name": "stdout",
          "text": [
            "Loss : 0.7185482978820801, Val Loss : 0.7977362275123596 Acc : 0.707499018453082, Val Acc : 0.6266666666666667\n",
            "Epochs : 178\n"
          ]
        },
        {
          "output_type": "stream",
          "name": "stderr",
          "text": [
            "100%|██████████| 20/20 [00:05<00:00,  3.67it/s]\n"
          ]
        },
        {
          "output_type": "stream",
          "name": "stdout",
          "text": [
            "Loss : 0.7177778482437134, Val Loss : 0.7971519827842712 Acc : 0.7078916372202592, Val Acc : 0.6244444444444445\n",
            "Epochs : 179\n"
          ]
        },
        {
          "output_type": "stream",
          "name": "stderr",
          "text": [
            "100%|██████████| 20/20 [00:05<00:00,  3.59it/s]\n"
          ]
        },
        {
          "output_type": "stream",
          "name": "stdout",
          "text": [
            "Loss : 0.7173943519592285, Val Loss : 0.7968626022338867 Acc : 0.7078916372202592, Val Acc : 0.6244444444444445\n",
            "Epochs : 180\n"
          ]
        },
        {
          "output_type": "stream",
          "name": "stderr",
          "text": [
            "100%|██████████| 20/20 [00:05<00:00,  3.83it/s]\n"
          ]
        },
        {
          "output_type": "stream",
          "name": "stdout",
          "text": [
            "Loss : 0.7170112729072571, Val Loss : 0.7965734601020813 Acc : 0.7078916372202592, Val Acc : 0.6244444444444445\n",
            "Epochs : 181\n"
          ]
        },
        {
          "output_type": "stream",
          "name": "stderr",
          "text": [
            "100%|██████████| 20/20 [00:05<00:00,  3.58it/s]\n"
          ]
        },
        {
          "output_type": "stream",
          "name": "stdout",
          "text": [
            "Loss : 0.7166286706924438, Val Loss : 0.7962828874588013 Acc : 0.7078916372202592, Val Acc : 0.6244444444444445\n",
            "Epochs : 182\n"
          ]
        },
        {
          "output_type": "stream",
          "name": "stderr",
          "text": [
            "100%|██████████| 20/20 [00:05<00:00,  3.44it/s]\n"
          ]
        },
        {
          "output_type": "stream",
          "name": "stdout",
          "text": [
            "Loss : 0.716247022151947, Val Loss : 0.7959965467453003 Acc : 0.7082842559874362, Val Acc : 0.6244444444444445\n",
            "Epochs : 183\n"
          ]
        },
        {
          "output_type": "stream",
          "name": "stderr",
          "text": [
            "100%|██████████| 20/20 [00:06<00:00,  3.09it/s]\n"
          ]
        },
        {
          "output_type": "stream",
          "name": "stdout",
          "text": [
            "Loss : 0.715866208076477, Val Loss : 0.7957114577293396 Acc : 0.7082842559874362, Val Acc : 0.6244444444444445\n",
            "Epochs : 184\n"
          ]
        },
        {
          "output_type": "stream",
          "name": "stderr",
          "text": [
            "100%|██████████| 20/20 [00:06<00:00,  3.30it/s]\n"
          ]
        },
        {
          "output_type": "stream",
          "name": "stdout",
          "text": [
            "Loss : 0.7151088118553162, Val Loss : 0.7951459884643555 Acc : 0.7078916372202592, Val Acc : 0.6244444444444445\n",
            "Epochs : 185\n"
          ]
        },
        {
          "output_type": "stream",
          "name": "stderr",
          "text": [
            "100%|██████████| 20/20 [00:06<00:00,  3.26it/s]\n"
          ]
        },
        {
          "output_type": "stream",
          "name": "stdout",
          "text": [
            "Loss : 0.7147328853607178, Val Loss : 0.7948641180992126 Acc : 0.7078916372202592, Val Acc : 0.6244444444444445\n",
            "Epochs : 186\n"
          ]
        },
        {
          "output_type": "stream",
          "name": "stderr",
          "text": [
            "100%|██████████| 20/20 [00:05<00:00,  3.44it/s]\n"
          ]
        },
        {
          "output_type": "stream",
          "name": "stdout",
          "text": [
            "Loss : 0.7136088609695435, Val Loss : 0.7940229773521423 Acc : 0.7086768747546133, Val Acc : 0.6266666666666667\n",
            "Epochs : 187\n"
          ]
        },
        {
          "output_type": "stream",
          "name": "stderr",
          "text": [
            "100%|██████████| 20/20 [00:05<00:00,  3.57it/s]\n"
          ]
        },
        {
          "output_type": "stream",
          "name": "stdout",
          "text": [
            "Loss : 0.7132366299629211, Val Loss : 0.793743908405304 Acc : 0.7086768747546133, Val Acc : 0.6266666666666667\n",
            "Epochs : 188\n"
          ]
        },
        {
          "output_type": "stream",
          "name": "stderr",
          "text": [
            "100%|██████████| 20/20 [00:05<00:00,  3.63it/s]\n"
          ]
        },
        {
          "output_type": "stream",
          "name": "stdout",
          "text": [
            "Loss : 0.7128669619560242, Val Loss : 0.793464720249176 Acc : 0.7086768747546133, Val Acc : 0.6266666666666667\n",
            "Epochs : 189\n"
          ]
        },
        {
          "output_type": "stream",
          "name": "stderr",
          "text": [
            "100%|██████████| 20/20 [00:05<00:00,  3.40it/s]\n"
          ]
        },
        {
          "output_type": "stream",
          "name": "stdout",
          "text": [
            "Loss : 0.7124987840652466, Val Loss : 0.793188750743866 Acc : 0.7086768747546133, Val Acc : 0.6266666666666667\n",
            "Epochs : 190\n"
          ]
        },
        {
          "output_type": "stream",
          "name": "stderr",
          "text": [
            "100%|██████████| 20/20 [00:05<00:00,  3.72it/s]\n"
          ]
        },
        {
          "output_type": "stream",
          "name": "stdout",
          "text": [
            "Loss : 0.7114036083221436, Val Loss : 0.7923584580421448 Acc : 0.7094621122889674, Val Acc : 0.6266666666666667\n",
            "Epochs : 191\n"
          ]
        },
        {
          "output_type": "stream",
          "name": "stderr",
          "text": [
            "100%|██████████| 20/20 [00:05<00:00,  3.72it/s]\n"
          ]
        },
        {
          "output_type": "stream",
          "name": "stdout",
          "text": [
            "Loss : 0.7110408544540405, Val Loss : 0.7920787334442139 Acc : 0.7098547310561445, Val Acc : 0.6266666666666667\n",
            "Epochs : 192\n"
          ]
        },
        {
          "output_type": "stream",
          "name": "stderr",
          "text": [
            "100%|██████████| 20/20 [00:05<00:00,  3.77it/s]\n"
          ]
        },
        {
          "output_type": "stream",
          "name": "stdout",
          "text": [
            "Loss : 0.7106782793998718, Val Loss : 0.791801393032074 Acc : 0.7106399685904986, Val Acc : 0.6288888888888889\n",
            "Epochs : 193\n"
          ]
        },
        {
          "output_type": "stream",
          "name": "stderr",
          "text": [
            "100%|██████████| 20/20 [00:05<00:00,  3.78it/s]\n"
          ]
        },
        {
          "output_type": "stream",
          "name": "stdout",
          "text": [
            "Loss : 0.7099546790122986, Val Loss : 0.7912489175796509 Acc : 0.7106399685904986, Val Acc : 0.6311111111111111\n",
            "Epochs : 194\n"
          ]
        },
        {
          "output_type": "stream",
          "name": "stderr",
          "text": [
            "100%|██████████| 20/20 [00:05<00:00,  3.72it/s]\n"
          ]
        },
        {
          "output_type": "stream",
          "name": "stdout",
          "text": [
            "Loss : 0.709594190120697, Val Loss : 0.7909719347953796 Acc : 0.7106399685904986, Val Acc : 0.6311111111111111\n",
            "Epochs : 195\n"
          ]
        },
        {
          "output_type": "stream",
          "name": "stderr",
          "text": [
            "100%|██████████| 20/20 [00:05<00:00,  3.39it/s]\n"
          ]
        },
        {
          "output_type": "stream",
          "name": "stdout",
          "text": [
            "Loss : 0.7088742852210999, Val Loss : 0.7904201745986938 Acc : 0.7110325873576757, Val Acc : 0.6311111111111111\n",
            "Epochs : 196\n"
          ]
        },
        {
          "output_type": "stream",
          "name": "stderr",
          "text": [
            "100%|██████████| 20/20 [00:05<00:00,  3.38it/s]\n"
          ]
        },
        {
          "output_type": "stream",
          "name": "stdout",
          "text": [
            "Loss : 0.7084257006645203, Val Loss : 0.7900773286819458 Acc : 0.7114252061248527, Val Acc : 0.6311111111111111\n",
            "Epochs : 197\n"
          ]
        },
        {
          "output_type": "stream",
          "name": "stderr",
          "text": [
            "100%|██████████| 20/20 [00:05<00:00,  3.61it/s]\n"
          ]
        },
        {
          "output_type": "stream",
          "name": "stdout",
          "text": [
            "Loss : 0.7077778577804565, Val Loss : 0.7895841598510742 Acc : 0.7114252061248527, Val Acc : 0.6333333333333333\n",
            "Epochs : 198\n"
          ]
        },
        {
          "output_type": "stream",
          "name": "stderr",
          "text": [
            "100%|██████████| 20/20 [00:05<00:00,  3.73it/s]\n"
          ]
        },
        {
          "output_type": "stream",
          "name": "stdout",
          "text": [
            "Loss : 0.7074335217475891, Val Loss : 0.7893238067626953 Acc : 0.7114252061248527, Val Acc : 0.6333333333333333\n",
            "Epochs : 199\n"
          ]
        },
        {
          "output_type": "stream",
          "name": "stderr",
          "text": [
            "100%|██████████| 20/20 [00:05<00:00,  3.52it/s]\n"
          ]
        },
        {
          "output_type": "stream",
          "name": "stdout",
          "text": [
            "Loss : 0.706734836101532, Val Loss : 0.7887898087501526 Acc : 0.712995681193561, Val Acc : 0.6333333333333333\n",
            "Epochs : 200\n"
          ]
        },
        {
          "output_type": "stream",
          "name": "stderr",
          "text": [
            "100%|██████████| 20/20 [00:05<00:00,  3.53it/s]\n"
          ]
        },
        {
          "output_type": "stream",
          "name": "stdout",
          "text": [
            "Loss : 0.7063849568367004, Val Loss : 0.7885249257087708 Acc : 0.712995681193561, Val Acc : 0.6333333333333333\n",
            "Epochs : 201\n"
          ]
        },
        {
          "output_type": "stream",
          "name": "stderr",
          "text": [
            "100%|██████████| 20/20 [00:05<00:00,  3.87it/s]\n"
          ]
        },
        {
          "output_type": "stream",
          "name": "stdout",
          "text": [
            "Loss : 0.7060362100601196, Val Loss : 0.7882623672485352 Acc : 0.7133882999607382, Val Acc : 0.6355555555555555\n",
            "Epochs : 202\n"
          ]
        },
        {
          "output_type": "stream",
          "name": "stderr",
          "text": [
            "100%|██████████| 20/20 [00:05<00:00,  3.85it/s]\n"
          ]
        },
        {
          "output_type": "stream",
          "name": "stdout",
          "text": [
            "Loss : 0.7056882977485657, Val Loss : 0.7880010604858398 Acc : 0.7133882999607382, Val Acc : 0.6355555555555555\n",
            "Epochs : 203\n"
          ]
        },
        {
          "output_type": "stream",
          "name": "stderr",
          "text": [
            "100%|██████████| 20/20 [00:05<00:00,  3.79it/s]\n"
          ]
        },
        {
          "output_type": "stream",
          "name": "stdout",
          "text": [
            "Loss : 0.7049971222877502, Val Loss : 0.7874815464019775 Acc : 0.7141735374950923, Val Acc : 0.6355555555555555\n",
            "Epochs : 204\n"
          ]
        },
        {
          "output_type": "stream",
          "name": "stderr",
          "text": [
            "100%|██████████| 20/20 [00:05<00:00,  3.53it/s]\n"
          ]
        },
        {
          "output_type": "stream",
          "name": "stdout",
          "text": [
            "Loss : 0.7046539783477783, Val Loss : 0.7872240543365479 Acc : 0.7141735374950923, Val Acc : 0.6355555555555555\n",
            "Epochs : 205\n"
          ]
        },
        {
          "output_type": "stream",
          "name": "stderr",
          "text": [
            "100%|██████████| 20/20 [00:05<00:00,  3.70it/s]\n"
          ]
        },
        {
          "output_type": "stream",
          "name": "stdout",
          "text": [
            "Loss : 0.704312264919281, Val Loss : 0.7869689464569092 Acc : 0.7141735374950923, Val Acc : 0.6355555555555555\n",
            "Epochs : 206\n"
          ]
        },
        {
          "output_type": "stream",
          "name": "stderr",
          "text": [
            "100%|██████████| 20/20 [00:05<00:00,  3.97it/s]\n"
          ]
        },
        {
          "output_type": "stream",
          "name": "stdout",
          "text": [
            "Loss : 0.7039721608161926, Val Loss : 0.786715030670166 Acc : 0.7141735374950923, Val Acc : 0.6355555555555555\n",
            "Epochs : 207\n"
          ]
        },
        {
          "output_type": "stream",
          "name": "stderr",
          "text": [
            "100%|██████████| 20/20 [00:05<00:00,  3.45it/s]\n"
          ]
        },
        {
          "output_type": "stream",
          "name": "stdout",
          "text": [
            "Loss : 0.7029584050178528, Val Loss : 0.7859587073326111 Acc : 0.7137809187279152, Val Acc : 0.6355555555555555\n",
            "Epochs : 208\n"
          ]
        },
        {
          "output_type": "stream",
          "name": "stderr",
          "text": [
            "100%|██████████| 20/20 [00:05<00:00,  3.59it/s]\n"
          ]
        },
        {
          "output_type": "stream",
          "name": "stdout",
          "text": [
            "Loss : 0.7026228308677673, Val Loss : 0.7857084274291992 Acc : 0.7137809187279152, Val Acc : 0.6355555555555555\n",
            "Epochs : 209\n"
          ]
        },
        {
          "output_type": "stream",
          "name": "stderr",
          "text": [
            "100%|██████████| 20/20 [00:06<00:00,  3.08it/s]\n"
          ]
        },
        {
          "output_type": "stream",
          "name": "stdout",
          "text": [
            "Loss : 0.7022885084152222, Val Loss : 0.7854599952697754 Acc : 0.7137809187279152, Val Acc : 0.6355555555555555\n",
            "Epochs : 210\n"
          ]
        },
        {
          "output_type": "stream",
          "name": "stderr",
          "text": [
            "100%|██████████| 20/20 [00:05<00:00,  3.39it/s]\n"
          ]
        },
        {
          "output_type": "stream",
          "name": "stdout",
          "text": [
            "Loss : 0.7016230821609497, Val Loss : 0.7849656939506531 Acc : 0.7141735374950923, Val Acc : 0.6355555555555555\n",
            "Epochs : 211\n"
          ]
        },
        {
          "output_type": "stream",
          "name": "stderr",
          "text": [
            "100%|██████████| 20/20 [00:05<00:00,  3.46it/s]\n"
          ]
        },
        {
          "output_type": "stream",
          "name": "stdout",
          "text": [
            "Loss : 0.7012918591499329, Val Loss : 0.7847176790237427 Acc : 0.7145661562622694, Val Acc : 0.6377777777777778\n",
            "Epochs : 212\n"
          ]
        },
        {
          "output_type": "stream",
          "name": "stderr",
          "text": [
            "100%|██████████| 20/20 [00:05<00:00,  3.86it/s]\n"
          ]
        },
        {
          "output_type": "stream",
          "name": "stdout",
          "text": [
            "Loss : 0.7003051042556763, Val Loss : 0.7839851379394531 Acc : 0.7165292500981547, Val Acc : 0.6377777777777778\n",
            "Epochs : 213\n"
          ]
        },
        {
          "output_type": "stream",
          "name": "stderr",
          "text": [
            "100%|██████████| 20/20 [00:05<00:00,  3.59it/s]\n"
          ]
        },
        {
          "output_type": "stream",
          "name": "stdout",
          "text": [
            "Loss : 0.699652373790741, Val Loss : 0.783504068851471 Acc : 0.7165292500981547, Val Acc : 0.6355555555555555\n",
            "Epochs : 214\n"
          ]
        },
        {
          "output_type": "stream",
          "name": "stderr",
          "text": [
            "100%|██████████| 20/20 [00:05<00:00,  3.41it/s]\n"
          ]
        },
        {
          "output_type": "stream",
          "name": "stdout",
          "text": [
            "Loss : 0.6990019083023071, Val Loss : 0.7830259799957275 Acc : 0.7161366313309776, Val Acc : 0.6355555555555555\n",
            "Epochs : 215\n"
          ]
        },
        {
          "output_type": "stream",
          "name": "stderr",
          "text": [
            "100%|██████████| 20/20 [00:06<00:00,  3.25it/s]\n"
          ]
        },
        {
          "output_type": "stream",
          "name": "stdout",
          "text": [
            "Loss : 0.6986774802207947, Val Loss : 0.7827865481376648 Acc : 0.7173144876325088, Val Acc : 0.6355555555555555\n",
            "Epochs : 216\n"
          ]
        },
        {
          "output_type": "stream",
          "name": "stderr",
          "text": [
            "100%|██████████| 20/20 [00:06<00:00,  3.05it/s]\n"
          ]
        },
        {
          "output_type": "stream",
          "name": "stdout",
          "text": [
            "Loss : 0.6980307102203369, Val Loss : 0.782312273979187 Acc : 0.7180997251668629, Val Acc : 0.6355555555555555\n",
            "Epochs : 217\n"
          ]
        },
        {
          "output_type": "stream",
          "name": "stderr",
          "text": [
            "100%|██████████| 20/20 [00:05<00:00,  3.45it/s]\n"
          ]
        },
        {
          "output_type": "stream",
          "name": "stdout",
          "text": [
            "Loss : 0.697708010673523, Val Loss : 0.7820770740509033 Acc : 0.7196702002355713, Val Acc : 0.6355555555555555\n",
            "Epochs : 218\n"
          ]
        },
        {
          "output_type": "stream",
          "name": "stderr",
          "text": [
            "100%|██████████| 20/20 [00:05<00:00,  3.51it/s]\n"
          ]
        },
        {
          "output_type": "stream",
          "name": "stdout",
          "text": [
            "Loss : 0.6967430710792542, Val Loss : 0.7813706994056702 Acc : 0.7200628190027484, Val Acc : 0.6355555555555555\n",
            "Epochs : 219\n"
          ]
        },
        {
          "output_type": "stream",
          "name": "stderr",
          "text": [
            "100%|██████████| 20/20 [00:05<00:00,  3.51it/s]\n"
          ]
        },
        {
          "output_type": "stream",
          "name": "stdout",
          "text": [
            "Loss : 0.6964228749275208, Val Loss : 0.7811365127563477 Acc : 0.7204554377699254, Val Acc : 0.6355555555555555\n",
            "Epochs : 220\n"
          ]
        },
        {
          "output_type": "stream",
          "name": "stderr",
          "text": [
            "100%|██████████| 20/20 [00:05<00:00,  3.57it/s]\n"
          ]
        },
        {
          "output_type": "stream",
          "name": "stdout",
          "text": [
            "Loss : 0.6961037516593933, Val Loss : 0.7809039950370789 Acc : 0.7204554377699254, Val Acc : 0.6355555555555555\n",
            "Epochs : 221\n"
          ]
        },
        {
          "output_type": "stream",
          "name": "stderr",
          "text": [
            "100%|██████████| 20/20 [00:05<00:00,  3.57it/s]\n"
          ]
        },
        {
          "output_type": "stream",
          "name": "stdout",
          "text": [
            "Loss : 0.6957854628562927, Val Loss : 0.7806689739227295 Acc : 0.7208480565371025, Val Acc : 0.6355555555555555\n",
            "Epochs : 222\n"
          ]
        },
        {
          "output_type": "stream",
          "name": "stderr",
          "text": [
            "100%|██████████| 20/20 [00:05<00:00,  3.96it/s]\n"
          ]
        },
        {
          "output_type": "stream",
          "name": "stdout",
          "text": [
            "Loss : 0.6954677104949951, Val Loss : 0.7804344892501831 Acc : 0.7216332940714566, Val Acc : 0.6355555555555555\n",
            "Epochs : 223\n"
          ]
        },
        {
          "output_type": "stream",
          "name": "stderr",
          "text": [
            "100%|██████████| 20/20 [00:05<00:00,  3.67it/s]\n"
          ]
        },
        {
          "output_type": "stream",
          "name": "stdout",
          "text": [
            "Loss : 0.6954677104949951, Val Loss : 0.7804344892501831 Acc : 0.7216332940714566, Val Acc : 0.6355555555555555\n",
            "Epochs : 224\n"
          ]
        },
        {
          "output_type": "stream",
          "name": "stderr",
          "text": [
            "100%|██████████| 20/20 [00:05<00:00,  3.54it/s]\n"
          ]
        },
        {
          "output_type": "stream",
          "name": "stdout",
          "text": [
            "Loss : 0.6953093409538269, Val Loss : 0.7803195714950562 Acc : 0.7216332940714566, Val Acc : 0.6355555555555555\n",
            "Epochs : 225\n"
          ]
        },
        {
          "output_type": "stream",
          "name": "stderr",
          "text": [
            "100%|██████████| 20/20 [00:05<00:00,  3.40it/s]\n"
          ]
        },
        {
          "output_type": "stream",
          "name": "stdout",
          "text": [
            "Loss : 0.6950721144676208, Val Loss : 0.7801440954208374 Acc : 0.7212406753042796, Val Acc : 0.6355555555555555\n",
            "Epochs : 226\n"
          ]
        },
        {
          "output_type": "stream",
          "name": "stderr",
          "text": [
            "100%|██████████| 20/20 [00:05<00:00,  3.56it/s]\n"
          ]
        },
        {
          "output_type": "stream",
          "name": "stdout",
          "text": [
            "Loss : 0.6947957277297974, Val Loss : 0.7799391150474548 Acc : 0.7212406753042796, Val Acc : 0.6355555555555555\n",
            "Epochs : 227\n"
          ]
        },
        {
          "output_type": "stream",
          "name": "stderr",
          "text": [
            "100%|██████████| 20/20 [00:05<00:00,  3.63it/s]\n"
          ]
        },
        {
          "output_type": "stream",
          "name": "stdout",
          "text": [
            "Loss : 0.6944997310638428, Val Loss : 0.779723584651947 Acc : 0.7212406753042796, Val Acc : 0.6355555555555555\n",
            "Epochs : 228\n"
          ]
        },
        {
          "output_type": "stream",
          "name": "stderr",
          "text": [
            "100%|██████████| 20/20 [00:06<00:00,  3.14it/s]\n"
          ]
        },
        {
          "output_type": "stream",
          "name": "stdout",
          "text": [
            "Loss : 0.6938856244087219, Val Loss : 0.779272735118866 Acc : 0.7212406753042796, Val Acc : 0.64\n",
            "Epochs : 229\n"
          ]
        },
        {
          "output_type": "stream",
          "name": "stderr",
          "text": [
            "100%|██████████| 20/20 [00:05<00:00,  3.58it/s]\n"
          ]
        },
        {
          "output_type": "stream",
          "name": "stdout",
          "text": [
            "Loss : 0.693264365196228, Val Loss : 0.7788169384002686 Acc : 0.7216332940714566, Val Acc : 0.64\n",
            "Epochs : 230\n"
          ]
        },
        {
          "output_type": "stream",
          "name": "stderr",
          "text": [
            "100%|██████████| 20/20 [00:05<00:00,  3.55it/s]\n"
          ]
        },
        {
          "output_type": "stream",
          "name": "stdout",
          "text": [
            "Loss : 0.692643404006958, Val Loss : 0.7783625721931458 Acc : 0.7224185316058107, Val Acc : 0.64\n",
            "Epochs : 231\n"
          ]
        },
        {
          "output_type": "stream",
          "name": "stderr",
          "text": [
            "100%|██████████| 20/20 [00:04<00:00,  4.11it/s]\n"
          ]
        },
        {
          "output_type": "stream",
          "name": "stdout",
          "text": [
            "Loss : 0.6923342943191528, Val Loss : 0.7781383395195007 Acc : 0.7228111503729878, Val Acc : 0.64\n",
            "Epochs : 232\n"
          ]
        },
        {
          "output_type": "stream",
          "name": "stderr",
          "text": [
            "100%|██████████| 20/20 [00:06<00:00,  3.31it/s]\n"
          ]
        },
        {
          "output_type": "stream",
          "name": "stdout",
          "text": [
            "Loss : 0.6917170882225037, Val Loss : 0.7776901125907898 Acc : 0.7228111503729878, Val Acc : 0.64\n",
            "Epochs : 233\n"
          ]
        },
        {
          "output_type": "stream",
          "name": "stderr",
          "text": [
            "100%|██████████| 20/20 [00:05<00:00,  3.49it/s]\n"
          ]
        },
        {
          "output_type": "stream",
          "name": "stdout",
          "text": [
            "Loss : 0.6914089918136597, Val Loss : 0.7774697542190552 Acc : 0.7228111503729878, Val Acc : 0.64\n",
            "Epochs : 234\n"
          ]
        },
        {
          "output_type": "stream",
          "name": "stderr",
          "text": [
            "100%|██████████| 20/20 [00:05<00:00,  3.80it/s]\n"
          ]
        },
        {
          "output_type": "stream",
          "name": "stdout",
          "text": [
            "Loss : 0.6911020278930664, Val Loss : 0.7772488594055176 Acc : 0.7228111503729878, Val Acc : 0.64\n",
            "Epochs : 235\n"
          ]
        },
        {
          "output_type": "stream",
          "name": "stderr",
          "text": [
            "100%|██████████| 20/20 [00:05<00:00,  3.50it/s]\n"
          ]
        },
        {
          "output_type": "stream",
          "name": "stdout",
          "text": [
            "Loss : 0.6907961368560791, Val Loss : 0.7770267724990845 Acc : 0.7228111503729878, Val Acc : 0.64\n",
            "Epochs : 236\n"
          ]
        },
        {
          "output_type": "stream",
          "name": "stderr",
          "text": [
            "100%|██████████| 20/20 [00:05<00:00,  3.37it/s]\n"
          ]
        },
        {
          "output_type": "stream",
          "name": "stdout",
          "text": [
            "Loss : 0.6901865601539612, Val Loss : 0.7765824794769287 Acc : 0.7235963879073419, Val Acc : 0.64\n",
            "Epochs : 237\n"
          ]
        },
        {
          "output_type": "stream",
          "name": "stderr",
          "text": [
            "100%|██████████| 20/20 [00:05<00:00,  3.52it/s]\n"
          ]
        },
        {
          "output_type": "stream",
          "name": "stdout",
          "text": [
            "Loss : 0.6898829936981201, Val Loss : 0.7763627171516418 Acc : 0.723989006674519, Val Acc : 0.64\n",
            "Epochs : 238\n"
          ]
        },
        {
          "output_type": "stream",
          "name": "stderr",
          "text": [
            "100%|██████████| 20/20 [00:04<00:00,  4.23it/s]\n"
          ]
        },
        {
          "output_type": "stream",
          "name": "stdout",
          "text": [
            "Loss : 0.6895802021026611, Val Loss : 0.7761409282684326 Acc : 0.723989006674519, Val Acc : 0.64\n",
            "Epochs : 239\n"
          ]
        },
        {
          "output_type": "stream",
          "name": "stderr",
          "text": [
            "100%|██████████| 20/20 [00:05<00:00,  3.54it/s]\n"
          ]
        },
        {
          "output_type": "stream",
          "name": "stdout",
          "text": [
            "Loss : 0.6892780661582947, Val Loss : 0.7759211659431458 Acc : 0.723989006674519, Val Acc : 0.64\n",
            "Epochs : 240\n"
          ]
        },
        {
          "output_type": "stream",
          "name": "stderr",
          "text": [
            "100%|██████████| 20/20 [00:06<00:00,  3.18it/s]\n"
          ]
        },
        {
          "output_type": "stream",
          "name": "stdout",
          "text": [
            "Loss : 0.6886753439903259, Val Loss : 0.775479257106781 Acc : 0.723989006674519, Val Acc : 0.64\n",
            "Epochs : 241\n"
          ]
        },
        {
          "output_type": "stream",
          "name": "stderr",
          "text": [
            "100%|██████████| 20/20 [00:05<00:00,  3.39it/s]\n"
          ]
        },
        {
          "output_type": "stream",
          "name": "stdout",
          "text": [
            "Loss : 0.6883754730224609, Val Loss : 0.7752612233161926 Acc : 0.723989006674519, Val Acc : 0.64\n",
            "Epochs : 242\n"
          ]
        },
        {
          "output_type": "stream",
          "name": "stderr",
          "text": [
            "100%|██████████| 20/20 [00:05<00:00,  3.42it/s]\n"
          ]
        },
        {
          "output_type": "stream",
          "name": "stdout",
          "text": [
            "Loss : 0.6877775192260742, Val Loss : 0.7748192548751831 Acc : 0.7243816254416962, Val Acc : 0.64\n",
            "Epochs : 243\n"
          ]
        },
        {
          "output_type": "stream",
          "name": "stderr",
          "text": [
            "100%|██████████| 20/20 [00:05<00:00,  3.64it/s]\n"
          ]
        },
        {
          "output_type": "stream",
          "name": "stdout",
          "text": [
            "Loss : 0.6874788999557495, Val Loss : 0.774601399898529 Acc : 0.7243816254416962, Val Acc : 0.64\n",
            "Epochs : 244\n"
          ]
        },
        {
          "output_type": "stream",
          "name": "stderr",
          "text": [
            "100%|██████████| 20/20 [00:05<00:00,  3.48it/s]\n"
          ]
        },
        {
          "output_type": "stream",
          "name": "stdout",
          "text": [
            "Loss : 0.6865862607955933, Val Loss : 0.7739456295967102 Acc : 0.7251668629760503, Val Acc : 0.64\n",
            "Epochs : 245\n"
          ]
        },
        {
          "output_type": "stream",
          "name": "stderr",
          "text": [
            "100%|██████████| 20/20 [00:05<00:00,  3.52it/s]\n"
          ]
        },
        {
          "output_type": "stream",
          "name": "stdout",
          "text": [
            "Loss : 0.6862900853157043, Val Loss : 0.7737274765968323 Acc : 0.7251668629760503, Val Acc : 0.64\n",
            "Epochs : 246\n"
          ]
        },
        {
          "output_type": "stream",
          "name": "stderr",
          "text": [
            "100%|██████████| 20/20 [00:05<00:00,  3.75it/s]\n"
          ]
        },
        {
          "output_type": "stream",
          "name": "stdout",
          "text": [
            "Loss : 0.6859941482543945, Val Loss : 0.7735100388526917 Acc : 0.7247742442088732, Val Acc : 0.6422222222222222\n",
            "Epochs : 247\n"
          ]
        },
        {
          "output_type": "stream",
          "name": "stderr",
          "text": [
            "100%|██████████| 20/20 [00:06<00:00,  3.14it/s]\n"
          ]
        },
        {
          "output_type": "stream",
          "name": "stdout",
          "text": [
            "Loss : 0.6856982707977295, Val Loss : 0.7732943892478943 Acc : 0.7251668629760503, Val Acc : 0.6422222222222222\n",
            "Epochs : 248\n"
          ]
        },
        {
          "output_type": "stream",
          "name": "stderr",
          "text": [
            "100%|██████████| 20/20 [00:05<00:00,  3.42it/s]\n"
          ]
        },
        {
          "output_type": "stream",
          "name": "stdout",
          "text": [
            "Loss : 0.6854032874107361, Val Loss : 0.7730807065963745 Acc : 0.7251668629760503, Val Acc : 0.6422222222222222\n",
            "Epochs : 249\n"
          ]
        },
        {
          "output_type": "stream",
          "name": "stderr",
          "text": [
            "100%|██████████| 20/20 [00:05<00:00,  3.60it/s]\n"
          ]
        },
        {
          "output_type": "stream",
          "name": "stdout",
          "text": [
            "Loss : 0.6845229864120483, Val Loss : 0.7724418044090271 Acc : 0.7251668629760503, Val Acc : 0.6422222222222222\n",
            "Epochs : 250\n"
          ]
        },
        {
          "output_type": "stream",
          "name": "stderr",
          "text": [
            "100%|██████████| 20/20 [00:06<00:00,  3.22it/s]\n"
          ]
        },
        {
          "output_type": "stream",
          "name": "stdout",
          "text": [
            "Loss : 0.6842314004898071, Val Loss : 0.7722287774085999 Acc : 0.7251668629760503, Val Acc : 0.6422222222222222\n",
            "Epochs : 251\n"
          ]
        },
        {
          "output_type": "stream",
          "name": "stderr",
          "text": [
            "100%|██████████| 20/20 [00:05<00:00,  3.71it/s]\n"
          ]
        },
        {
          "output_type": "stream",
          "name": "stdout",
          "text": [
            "Loss : 0.6836506128311157, Val Loss : 0.7718068957328796 Acc : 0.7251668629760503, Val Acc : 0.6422222222222222\n",
            "Epochs : 252\n"
          ]
        },
        {
          "output_type": "stream",
          "name": "stderr",
          "text": [
            "100%|██████████| 20/20 [00:05<00:00,  3.54it/s]\n"
          ]
        },
        {
          "output_type": "stream",
          "name": "stdout",
          "text": [
            "Loss : 0.6833611130714417, Val Loss : 0.7715967893600464 Acc : 0.7251668629760503, Val Acc : 0.6422222222222222\n",
            "Epochs : 253\n"
          ]
        },
        {
          "output_type": "stream",
          "name": "stderr",
          "text": [
            "100%|██████████| 20/20 [00:06<00:00,  2.95it/s]\n"
          ]
        },
        {
          "output_type": "stream",
          "name": "stdout",
          "text": [
            "Loss : 0.6833611130714417, Val Loss : 0.7715967893600464 Acc : 0.7251668629760503, Val Acc : 0.6422222222222222\n",
            "Epochs : 254\n"
          ]
        },
        {
          "output_type": "stream",
          "name": "stderr",
          "text": [
            "100%|██████████| 20/20 [00:06<00:00,  3.19it/s]\n"
          ]
        },
        {
          "output_type": "stream",
          "name": "stdout",
          "text": [
            "Loss : 0.6832168102264404, Val Loss : 0.7714911699295044 Acc : 0.7251668629760503, Val Acc : 0.6422222222222222\n",
            "Epochs : 255\n"
          ]
        },
        {
          "output_type": "stream",
          "name": "stderr",
          "text": [
            "100%|██████████| 20/20 [00:06<00:00,  2.99it/s]\n"
          ]
        },
        {
          "output_type": "stream",
          "name": "stdout",
          "text": [
            "Loss : 0.6830006241798401, Val Loss : 0.7713340520858765 Acc : 0.7251668629760503, Val Acc : 0.6422222222222222\n",
            "Epochs : 256\n"
          ]
        },
        {
          "output_type": "stream",
          "name": "stderr",
          "text": [
            "100%|██████████| 20/20 [00:05<00:00,  3.61it/s]\n"
          ]
        },
        {
          "output_type": "stream",
          "name": "stdout",
          "text": [
            "Loss : 0.6827484965324402, Val Loss : 0.7711507081985474 Acc : 0.7255594817432274, Val Acc : 0.6422222222222222\n",
            "Epochs : 257\n"
          ]
        },
        {
          "output_type": "stream",
          "name": "stderr",
          "text": [
            "100%|██████████| 20/20 [00:05<00:00,  3.46it/s]\n"
          ]
        },
        {
          "output_type": "stream",
          "name": "stdout",
          "text": [
            "Loss : 0.6824790835380554, Val Loss : 0.770953357219696 Acc : 0.7251668629760503, Val Acc : 0.6422222222222222\n",
            "Epochs : 258\n"
          ]
        },
        {
          "output_type": "stream",
          "name": "stderr",
          "text": [
            "100%|██████████| 20/20 [00:05<00:00,  3.35it/s]\n"
          ]
        },
        {
          "output_type": "stream",
          "name": "stdout",
          "text": [
            "Loss : 0.681919276714325, Val Loss : 0.7705460786819458 Acc : 0.7251668629760503, Val Acc : 0.6422222222222222\n",
            "Epochs : 259\n"
          ]
        },
        {
          "output_type": "stream",
          "name": "stderr",
          "text": [
            "100%|██████████| 20/20 [00:06<00:00,  3.10it/s]\n"
          ]
        },
        {
          "output_type": "stream",
          "name": "stdout",
          "text": [
            "Loss : 0.6816359758377075, Val Loss : 0.7703341245651245 Acc : 0.7251668629760503, Val Acc : 0.6422222222222222\n",
            "Epochs : 260\n"
          ]
        },
        {
          "output_type": "stream",
          "name": "stderr",
          "text": [
            "100%|██████████| 20/20 [00:05<00:00,  3.53it/s]\n"
          ]
        },
        {
          "output_type": "stream",
          "name": "stdout",
          "text": [
            "Loss : 0.6813518404960632, Val Loss : 0.7701242566108704 Acc : 0.7251668629760503, Val Acc : 0.6422222222222222\n",
            "Epochs : 261\n"
          ]
        },
        {
          "output_type": "stream",
          "name": "stderr",
          "text": [
            "100%|██████████| 20/20 [00:05<00:00,  3.85it/s]\n"
          ]
        },
        {
          "output_type": "stream",
          "name": "stdout",
          "text": [
            "Loss : 0.6807838678359985, Val Loss : 0.7697016000747681 Acc : 0.7251668629760503, Val Acc : 0.6422222222222222\n",
            "Epochs : 262\n"
          ]
        },
        {
          "output_type": "stream",
          "name": "stderr",
          "text": [
            "100%|██████████| 20/20 [00:06<00:00,  3.05it/s]\n"
          ]
        },
        {
          "output_type": "stream",
          "name": "stdout",
          "text": [
            "Loss : 0.6799334287643433, Val Loss : 0.769061267375946 Acc : 0.7255594817432274, Val Acc : 0.6422222222222222\n",
            "Epochs : 263\n"
          ]
        },
        {
          "output_type": "stream",
          "name": "stderr",
          "text": [
            "100%|██████████| 20/20 [00:05<00:00,  3.65it/s]\n"
          ]
        },
        {
          "output_type": "stream",
          "name": "stdout",
          "text": [
            "Loss : 0.6793684959411621, Val Loss : 0.7686380743980408 Acc : 0.7259521005104044, Val Acc : 0.6422222222222222\n",
            "Epochs : 264\n"
          ]
        },
        {
          "output_type": "stream",
          "name": "stderr",
          "text": [
            "100%|██████████| 20/20 [00:05<00:00,  3.43it/s]\n"
          ]
        },
        {
          "output_type": "stream",
          "name": "stdout",
          "text": [
            "Loss : 0.6790869832038879, Val Loss : 0.7684260606765747 Acc : 0.7259521005104044, Val Acc : 0.6422222222222222\n",
            "Epochs : 265\n"
          ]
        },
        {
          "output_type": "stream",
          "name": "stderr",
          "text": [
            "100%|██████████| 20/20 [00:05<00:00,  3.40it/s]\n"
          ]
        },
        {
          "output_type": "stream",
          "name": "stdout",
          "text": [
            "Loss : 0.6788064241409302, Val Loss : 0.768215000629425 Acc : 0.7259521005104044, Val Acc : 0.6422222222222222\n",
            "Epochs : 266\n"
          ]
        },
        {
          "output_type": "stream",
          "name": "stderr",
          "text": [
            "100%|██████████| 20/20 [00:05<00:00,  3.71it/s]\n"
          ]
        },
        {
          "output_type": "stream",
          "name": "stdout",
          "text": [
            "Loss : 0.678526759147644, Val Loss : 0.768005907535553 Acc : 0.7259521005104044, Val Acc : 0.6422222222222222\n",
            "Epochs : 267\n"
          ]
        },
        {
          "output_type": "stream",
          "name": "stderr",
          "text": [
            "100%|██████████| 20/20 [00:05<00:00,  3.55it/s]\n"
          ]
        },
        {
          "output_type": "stream",
          "name": "stdout",
          "text": [
            "Loss : 0.6782478094100952, Val Loss : 0.7677962779998779 Acc : 0.7259521005104044, Val Acc : 0.6422222222222222\n",
            "Epochs : 268\n"
          ]
        },
        {
          "output_type": "stream",
          "name": "stderr",
          "text": [
            "100%|██████████| 20/20 [00:05<00:00,  3.74it/s]\n"
          ]
        },
        {
          "output_type": "stream",
          "name": "stdout",
          "text": [
            "Loss : 0.6779698729515076, Val Loss : 0.7675880789756775 Acc : 0.7259521005104044, Val Acc : 0.6444444444444445\n",
            "Epochs : 269\n"
          ]
        },
        {
          "output_type": "stream",
          "name": "stderr",
          "text": [
            "100%|██████████| 20/20 [00:05<00:00,  3.48it/s]\n"
          ]
        },
        {
          "output_type": "stream",
          "name": "stdout",
          "text": [
            "Loss : 0.6774159669876099, Val Loss : 0.7671734690666199 Acc : 0.7259521005104044, Val Acc : 0.6444444444444445\n",
            "Epochs : 270\n"
          ]
        },
        {
          "output_type": "stream",
          "name": "stderr",
          "text": [
            "100%|██████████| 20/20 [00:05<00:00,  3.62it/s]\n"
          ]
        },
        {
          "output_type": "stream",
          "name": "stdout",
          "text": [
            "Loss : 0.6768630146980286, Val Loss : 0.7667596936225891 Acc : 0.7263447192775815, Val Acc : 0.6444444444444445\n",
            "Epochs : 271\n"
          ]
        },
        {
          "output_type": "stream",
          "name": "stderr",
          "text": [
            "100%|██████████| 20/20 [00:06<00:00,  3.12it/s]\n"
          ]
        },
        {
          "output_type": "stream",
          "name": "stdout",
          "text": [
            "Loss : 0.676586389541626, Val Loss : 0.7665549516677856 Acc : 0.7267373380447585, Val Acc : 0.6444444444444445\n",
            "Epochs : 272\n"
          ]
        },
        {
          "output_type": "stream",
          "name": "stderr",
          "text": [
            "100%|██████████| 20/20 [00:05<00:00,  3.57it/s]\n"
          ]
        },
        {
          "output_type": "stream",
          "name": "stdout",
          "text": [
            "Loss : 0.6763101816177368, Val Loss : 0.7663483619689941 Acc : 0.7271299568119356, Val Acc : 0.6444444444444445\n",
            "Epochs : 273\n"
          ]
        },
        {
          "output_type": "stream",
          "name": "stderr",
          "text": [
            "100%|██████████| 20/20 [00:05<00:00,  3.74it/s]\n"
          ]
        },
        {
          "output_type": "stream",
          "name": "stdout",
          "text": [
            "Loss : 0.6754872798919678, Val Loss : 0.7657324075698853 Acc : 0.7279151943462897, Val Acc : 0.6466666666666666\n",
            "Epochs : 274\n"
          ]
        },
        {
          "output_type": "stream",
          "name": "stderr",
          "text": [
            "100%|██████████| 20/20 [00:04<00:00,  4.03it/s]\n"
          ]
        },
        {
          "output_type": "stream",
          "name": "stdout",
          "text": [
            "Loss : 0.6752144694328308, Val Loss : 0.7655275464057922 Acc : 0.7275225755791127, Val Acc : 0.6466666666666666\n",
            "Epochs : 275\n"
          ]
        },
        {
          "output_type": "stream",
          "name": "stderr",
          "text": [
            "100%|██████████| 20/20 [00:05<00:00,  3.69it/s]\n"
          ]
        },
        {
          "output_type": "stream",
          "name": "stdout",
          "text": [
            "Loss : 0.6749418377876282, Val Loss : 0.7653219699859619 Acc : 0.7275225755791127, Val Acc : 0.6466666666666666\n",
            "Epochs : 276\n"
          ]
        },
        {
          "output_type": "stream",
          "name": "stderr",
          "text": [
            "100%|██████████| 20/20 [00:05<00:00,  3.62it/s]\n"
          ]
        },
        {
          "output_type": "stream",
          "name": "stdout",
          "text": [
            "Loss : 0.6743977665901184, Val Loss : 0.7649121880531311 Acc : 0.7279151943462897, Val Acc : 0.6466666666666666\n",
            "Epochs : 277\n"
          ]
        },
        {
          "output_type": "stream",
          "name": "stderr",
          "text": [
            "100%|██████████| 20/20 [00:05<00:00,  3.79it/s]\n"
          ]
        },
        {
          "output_type": "stream",
          "name": "stdout",
          "text": [
            "Loss : 0.6741260290145874, Val Loss : 0.764707088470459 Acc : 0.7279151943462897, Val Acc : 0.6466666666666666\n",
            "Epochs : 278\n"
          ]
        },
        {
          "output_type": "stream",
          "name": "stderr",
          "text": [
            "100%|██████████| 20/20 [00:05<00:00,  3.75it/s]\n"
          ]
        },
        {
          "output_type": "stream",
          "name": "stdout",
          "text": [
            "Loss : 0.6738547682762146, Val Loss : 0.7645048499107361 Acc : 0.7287004318806439, Val Acc : 0.6488888888888888\n",
            "Epochs : 279\n"
          ]
        },
        {
          "output_type": "stream",
          "name": "stderr",
          "text": [
            "100%|██████████| 20/20 [00:05<00:00,  3.41it/s]\n"
          ]
        },
        {
          "output_type": "stream",
          "name": "stdout",
          "text": [
            "Loss : 0.6733137965202332, Val Loss : 0.7640986442565918 Acc : 0.7290930506478209, Val Acc : 0.6488888888888888\n",
            "Epochs : 280\n"
          ]
        },
        {
          "output_type": "stream",
          "name": "stderr",
          "text": [
            "100%|██████████| 20/20 [00:05<00:00,  3.36it/s]\n"
          ]
        },
        {
          "output_type": "stream",
          "name": "stdout",
          "text": [
            "Loss : 0.6725059747695923, Val Loss : 0.763497531414032 Acc : 0.729485669414998, Val Acc : 0.6488888888888888\n",
            "Epochs : 281\n"
          ]
        },
        {
          "output_type": "stream",
          "name": "stderr",
          "text": [
            "100%|██████████| 20/20 [00:05<00:00,  3.79it/s]\n"
          ]
        },
        {
          "output_type": "stream",
          "name": "stdout",
          "text": [
            "Loss : 0.6722382307052612, Val Loss : 0.7632957100868225 Acc : 0.7298782881821752, Val Acc : 0.6488888888888888\n",
            "Epochs : 282\n"
          ]
        },
        {
          "output_type": "stream",
          "name": "stderr",
          "text": [
            "100%|██████████| 20/20 [00:05<00:00,  3.54it/s]\n"
          ]
        },
        {
          "output_type": "stream",
          "name": "stdout",
          "text": [
            "Loss : 0.672105073928833, Val Loss : 0.7631960511207581 Acc : 0.729485669414998, Val Acc : 0.6488888888888888\n",
            "Epochs : 283\n"
          ]
        },
        {
          "output_type": "stream",
          "name": "stderr",
          "text": [
            "100%|██████████| 20/20 [00:05<00:00,  3.61it/s]\n"
          ]
        },
        {
          "output_type": "stream",
          "name": "stdout",
          "text": [
            "Loss : 0.6714253425598145, Val Loss : 0.7626853585243225 Acc : 0.7298782881821752, Val Acc : 0.6488888888888888\n",
            "Epochs : 284\n"
          ]
        },
        {
          "output_type": "stream",
          "name": "stderr",
          "text": [
            "100%|██████████| 20/20 [00:05<00:00,  3.80it/s]\n"
          ]
        },
        {
          "output_type": "stream",
          "name": "stdout",
          "text": [
            "Loss : 0.6711695194244385, Val Loss : 0.7624948620796204 Acc : 0.7302709069493521, Val Acc : 0.6488888888888888\n",
            "Epochs : 285\n"
          ]
        },
        {
          "output_type": "stream",
          "name": "stderr",
          "text": [
            "100%|██████████| 20/20 [00:05<00:00,  3.85it/s]\n"
          ]
        },
        {
          "output_type": "stream",
          "name": "stdout",
          "text": [
            "Loss : 0.6709099411964417, Val Loss : 0.7622987627983093 Acc : 0.7302709069493521, Val Acc : 0.6488888888888888\n",
            "Epochs : 286\n"
          ]
        },
        {
          "output_type": "stream",
          "name": "stderr",
          "text": [
            "100%|██████████| 20/20 [00:05<00:00,  3.61it/s]\n"
          ]
        },
        {
          "output_type": "stream",
          "name": "stdout",
          "text": [
            "Loss : 0.6703872680664062, Val Loss : 0.7619117498397827 Acc : 0.7302709069493521, Val Acc : 0.6488888888888888\n",
            "Epochs : 287\n"
          ]
        },
        {
          "output_type": "stream",
          "name": "stderr",
          "text": [
            "100%|██████████| 20/20 [00:05<00:00,  3.89it/s]\n"
          ]
        },
        {
          "output_type": "stream",
          "name": "stdout",
          "text": [
            "Loss : 0.6698639988899231, Val Loss : 0.7615228295326233 Acc : 0.7302709069493521, Val Acc : 0.6488888888888888\n",
            "Epochs : 288\n"
          ]
        },
        {
          "output_type": "stream",
          "name": "stderr",
          "text": [
            "100%|██████████| 20/20 [00:06<00:00,  3.09it/s]\n"
          ]
        },
        {
          "output_type": "stream",
          "name": "stdout",
          "text": [
            "Loss : 0.669341504573822, Val Loss : 0.7611381411552429 Acc : 0.7302709069493521, Val Acc : 0.6488888888888888\n",
            "Epochs : 289\n"
          ]
        },
        {
          "output_type": "stream",
          "name": "stderr",
          "text": [
            "100%|██████████| 20/20 [00:06<00:00,  3.05it/s]\n"
          ]
        },
        {
          "output_type": "stream",
          "name": "stdout",
          "text": [
            "Loss : 0.6688200235366821, Val Loss : 0.7607584595680237 Acc : 0.7298782881821752, Val Acc : 0.6488888888888888\n",
            "Epochs : 290\n"
          ]
        },
        {
          "output_type": "stream",
          "name": "stderr",
          "text": [
            "100%|██████████| 20/20 [00:05<00:00,  3.81it/s]\n"
          ]
        },
        {
          "output_type": "stream",
          "name": "stdout",
          "text": [
            "Loss : 0.6685593724250793, Val Loss : 0.7605681419372559 Acc : 0.7302709069493521, Val Acc : 0.6488888888888888\n",
            "Epochs : 291\n"
          ]
        },
        {
          "output_type": "stream",
          "name": "stderr",
          "text": [
            "100%|██████████| 20/20 [00:05<00:00,  3.79it/s]\n"
          ]
        },
        {
          "output_type": "stream",
          "name": "stdout",
          "text": [
            "Loss : 0.6682989001274109, Val Loss : 0.7603784203529358 Acc : 0.7302709069493521, Val Acc : 0.6466666666666666\n",
            "Epochs : 292\n"
          ]
        },
        {
          "output_type": "stream",
          "name": "stderr",
          "text": [
            "100%|██████████| 20/20 [00:05<00:00,  3.63it/s]\n"
          ]
        },
        {
          "output_type": "stream",
          "name": "stdout",
          "text": [
            "Loss : 0.6680387854576111, Val Loss : 0.7601876258850098 Acc : 0.7306635257165293, Val Acc : 0.6466666666666666\n",
            "Epochs : 293\n"
          ]
        },
        {
          "output_type": "stream",
          "name": "stderr",
          "text": [
            "100%|██████████| 20/20 [00:05<00:00,  3.39it/s]\n"
          ]
        },
        {
          "output_type": "stream",
          "name": "stdout",
          "text": [
            "Loss : 0.6675193309783936, Val Loss : 0.7598119378089905 Acc : 0.7310561444837064, Val Acc : 0.6466666666666666\n",
            "Epochs : 294\n"
          ]
        },
        {
          "output_type": "stream",
          "name": "stderr",
          "text": [
            "100%|██████████| 20/20 [00:05<00:00,  3.44it/s]\n"
          ]
        },
        {
          "output_type": "stream",
          "name": "stdout",
          "text": [
            "Loss : 0.6672603487968445, Val Loss : 0.7596245408058167 Acc : 0.7310561444837064, Val Acc : 0.6466666666666666\n",
            "Epochs : 295\n"
          ]
        },
        {
          "output_type": "stream",
          "name": "stderr",
          "text": [
            "100%|██████████| 20/20 [00:05<00:00,  3.45it/s]\n"
          ]
        },
        {
          "output_type": "stream",
          "name": "stdout",
          "text": [
            "Loss : 0.6670016646385193, Val Loss : 0.7594370245933533 Acc : 0.7310561444837064, Val Acc : 0.6466666666666666\n",
            "Epochs : 296\n"
          ]
        },
        {
          "output_type": "stream",
          "name": "stderr",
          "text": [
            "100%|██████████| 20/20 [00:05<00:00,  3.81it/s]\n"
          ]
        },
        {
          "output_type": "stream",
          "name": "stdout",
          "text": [
            "Loss : 0.6667432188987732, Val Loss : 0.7592493891716003 Acc : 0.7310561444837064, Val Acc : 0.6466666666666666\n",
            "Epochs : 297\n"
          ]
        },
        {
          "output_type": "stream",
          "name": "stderr",
          "text": [
            "100%|██████████| 20/20 [00:05<00:00,  3.56it/s]\n"
          ]
        },
        {
          "output_type": "stream",
          "name": "stdout",
          "text": [
            "Loss : 0.666228175163269, Val Loss : 0.7588770389556885 Acc : 0.7314487632508834, Val Acc : 0.6466666666666666\n",
            "Epochs : 298\n"
          ]
        },
        {
          "output_type": "stream",
          "name": "stderr",
          "text": [
            "100%|██████████| 20/20 [00:05<00:00,  3.80it/s]\n"
          ]
        },
        {
          "output_type": "stream",
          "name": "stdout",
          "text": [
            "Loss : 0.6659712195396423, Val Loss : 0.7586913108825684 Acc : 0.7318413820180605, Val Acc : 0.6466666666666666\n",
            "Epochs : 299\n"
          ]
        },
        {
          "output_type": "stream",
          "name": "stderr",
          "text": [
            "100%|██████████| 20/20 [00:06<00:00,  3.27it/s]\n"
          ]
        },
        {
          "output_type": "stream",
          "name": "stdout",
          "text": [
            "Loss : 0.6657146215438843, Val Loss : 0.7585082054138184 Acc : 0.7318413820180605, Val Acc : 0.6511111111111111\n",
            "Epochs : 300\n"
          ]
        },
        {
          "output_type": "stream",
          "name": "stderr",
          "text": [
            "100%|██████████| 20/20 [00:06<00:00,  3.31it/s]\n"
          ]
        },
        {
          "output_type": "stream",
          "name": "stdout",
          "text": [
            "Loss : 0.6654582619667053, Val Loss : 0.7583210468292236 Acc : 0.7318413820180605, Val Acc : 0.6511111111111111\n",
            "Epochs : 301\n"
          ]
        },
        {
          "output_type": "stream",
          "name": "stderr",
          "text": [
            "100%|██████████| 20/20 [00:05<00:00,  3.61it/s]\n"
          ]
        },
        {
          "output_type": "stream",
          "name": "stdout",
          "text": [
            "Loss : 0.6649476885795593, Val Loss : 0.7579535841941833 Acc : 0.7318413820180605, Val Acc : 0.6511111111111111\n",
            "Epochs : 302\n"
          ]
        },
        {
          "output_type": "stream",
          "name": "stderr",
          "text": [
            "100%|██████████| 20/20 [00:05<00:00,  3.71it/s]\n"
          ]
        },
        {
          "output_type": "stream",
          "name": "stdout",
          "text": [
            "Loss : 0.6644392013549805, Val Loss : 0.7575802803039551 Acc : 0.7318413820180605, Val Acc : 0.6533333333333333\n",
            "Epochs : 303\n"
          ]
        },
        {
          "output_type": "stream",
          "name": "stderr",
          "text": [
            "100%|██████████| 20/20 [00:05<00:00,  3.55it/s]\n"
          ]
        },
        {
          "output_type": "stream",
          "name": "stdout",
          "text": [
            "Loss : 0.6641857624053955, Val Loss : 0.7573977112770081 Acc : 0.7318413820180605, Val Acc : 0.6555555555555556\n",
            "Epochs : 304\n"
          ]
        },
        {
          "output_type": "stream",
          "name": "stderr",
          "text": [
            "100%|██████████| 20/20 [00:05<00:00,  3.82it/s]\n"
          ]
        },
        {
          "output_type": "stream",
          "name": "stdout",
          "text": [
            "Loss : 0.6639325618743896, Val Loss : 0.7572129368782043 Acc : 0.7318413820180605, Val Acc : 0.6555555555555556\n",
            "Epochs : 305\n"
          ]
        },
        {
          "output_type": "stream",
          "name": "stderr",
          "text": [
            "100%|██████████| 20/20 [00:05<00:00,  3.59it/s]\n"
          ]
        },
        {
          "output_type": "stream",
          "name": "stdout",
          "text": [
            "Loss : 0.6636800169944763, Val Loss : 0.7570274472236633 Acc : 0.7318413820180605, Val Acc : 0.6555555555555556\n",
            "Epochs : 306\n"
          ]
        },
        {
          "output_type": "stream",
          "name": "stderr",
          "text": [
            "100%|██████████| 20/20 [00:06<00:00,  3.21it/s]\n"
          ]
        },
        {
          "output_type": "stream",
          "name": "stdout",
          "text": [
            "Loss : 0.6634276509284973, Val Loss : 0.7568454742431641 Acc : 0.7318413820180605, Val Acc : 0.6555555555555556\n",
            "Epochs : 307\n"
          ]
        },
        {
          "output_type": "stream",
          "name": "stderr",
          "text": [
            "100%|██████████| 20/20 [00:05<00:00,  3.67it/s]\n"
          ]
        },
        {
          "output_type": "stream",
          "name": "stdout",
          "text": [
            "Loss : 0.6631757616996765, Val Loss : 0.7566604018211365 Acc : 0.7314487632508834, Val Acc : 0.6555555555555556\n",
            "Epochs : 308\n"
          ]
        },
        {
          "output_type": "stream",
          "name": "stderr",
          "text": [
            "100%|██████████| 20/20 [00:05<00:00,  3.78it/s]\n"
          ]
        },
        {
          "output_type": "stream",
          "name": "stdout",
          "text": [
            "Loss : 0.6624234914779663, Val Loss : 0.7561103105545044 Acc : 0.7318413820180605, Val Acc : 0.6555555555555556\n",
            "Epochs : 309\n"
          ]
        },
        {
          "output_type": "stream",
          "name": "stderr",
          "text": [
            "100%|██████████| 20/20 [00:05<00:00,  3.79it/s]\n"
          ]
        },
        {
          "output_type": "stream",
          "name": "stdout",
          "text": [
            "Loss : 0.6619247794151306, Val Loss : 0.7557501196861267 Acc : 0.7322340007852375, Val Acc : 0.6555555555555556\n",
            "Epochs : 310\n"
          ]
        },
        {
          "output_type": "stream",
          "name": "stderr",
          "text": [
            "100%|██████████| 20/20 [00:05<00:00,  3.51it/s]\n"
          ]
        },
        {
          "output_type": "stream",
          "name": "stdout",
          "text": [
            "Loss : 0.661613404750824, Val Loss : 0.7555210590362549 Acc : 0.7322340007852375, Val Acc : 0.6555555555555556\n",
            "Epochs : 311\n"
          ]
        },
        {
          "output_type": "stream",
          "name": "stderr",
          "text": [
            "100%|██████████| 20/20 [00:05<00:00,  3.90it/s]\n"
          ]
        },
        {
          "output_type": "stream",
          "name": "stdout",
          "text": [
            "Loss : 0.6613956689834595, Val Loss : 0.755361795425415 Acc : 0.7322340007852375, Val Acc : 0.6555555555555556\n",
            "Epochs : 312\n"
          ]
        },
        {
          "output_type": "stream",
          "name": "stderr",
          "text": [
            "100%|██████████| 20/20 [00:06<00:00,  3.22it/s]\n"
          ]
        },
        {
          "output_type": "stream",
          "name": "stdout",
          "text": [
            "Loss : 0.6609225273132324, Val Loss : 0.7550187110900879 Acc : 0.7322340007852375, Val Acc : 0.6555555555555556\n",
            "Epochs : 313\n"
          ]
        },
        {
          "output_type": "stream",
          "name": "stderr",
          "text": [
            "100%|██████████| 20/20 [00:06<00:00,  3.20it/s]\n"
          ]
        },
        {
          "output_type": "stream",
          "name": "stdout",
          "text": [
            "Loss : 0.6604343056678772, Val Loss : 0.7546612620353699 Acc : 0.7322340007852375, Val Acc : 0.6555555555555556\n",
            "Epochs : 314\n"
          ]
        },
        {
          "output_type": "stream",
          "name": "stderr",
          "text": [
            "100%|██████████| 20/20 [00:06<00:00,  3.13it/s]\n"
          ]
        },
        {
          "output_type": "stream",
          "name": "stdout",
          "text": [
            "Loss : 0.659943163394928, Val Loss : 0.754304826259613 Acc : 0.7330192383195917, Val Acc : 0.6555555555555556\n",
            "Epochs : 315\n"
          ]
        },
        {
          "output_type": "stream",
          "name": "stderr",
          "text": [
            "100%|██████████| 20/20 [00:05<00:00,  3.87it/s]\n"
          ]
        },
        {
          "output_type": "stream",
          "name": "stdout",
          "text": [
            "Loss : 0.6594523191452026, Val Loss : 0.7539486289024353 Acc : 0.7330192383195917, Val Acc : 0.6555555555555556\n",
            "Epochs : 316\n"
          ]
        },
        {
          "output_type": "stream",
          "name": "stderr",
          "text": [
            "100%|██████████| 20/20 [00:06<00:00,  3.19it/s]\n"
          ]
        },
        {
          "output_type": "stream",
          "name": "stdout",
          "text": [
            "Loss : 0.6589636206626892, Val Loss : 0.7535907030105591 Acc : 0.7338044758539458, Val Acc : 0.6555555555555556\n",
            "Epochs : 317\n"
          ]
        },
        {
          "output_type": "stream",
          "name": "stderr",
          "text": [
            "100%|██████████| 20/20 [00:05<00:00,  3.61it/s]\n"
          ]
        },
        {
          "output_type": "stream",
          "name": "stdout",
          "text": [
            "Loss : 0.6587201356887817, Val Loss : 0.7534136176109314 Acc : 0.7338044758539458, Val Acc : 0.6555555555555556\n",
            "Epochs : 318\n"
          ]
        },
        {
          "output_type": "stream",
          "name": "stderr",
          "text": [
            "100%|██████████| 20/20 [00:05<00:00,  3.48it/s]\n"
          ]
        },
        {
          "output_type": "stream",
          "name": "stdout",
          "text": [
            "Loss : 0.6584773659706116, Val Loss : 0.7532346844673157 Acc : 0.734982332155477, Val Acc : 0.6555555555555556\n",
            "Epochs : 319\n"
          ]
        },
        {
          "output_type": "stream",
          "name": "stderr",
          "text": [
            "100%|██████████| 20/20 [00:06<00:00,  3.28it/s]\n"
          ]
        },
        {
          "output_type": "stream",
          "name": "stdout",
          "text": [
            "Loss : 0.658235490322113, Val Loss : 0.753059446811676 Acc : 0.734982332155477, Val Acc : 0.6555555555555556\n",
            "Epochs : 320\n"
          ]
        },
        {
          "output_type": "stream",
          "name": "stderr",
          "text": [
            "100%|██████████| 20/20 [00:05<00:00,  3.43it/s]\n"
          ]
        },
        {
          "output_type": "stream",
          "name": "stdout",
          "text": [
            "Loss : 0.6577533483505249, Val Loss : 0.7527087330818176 Acc : 0.7353749509226541, Val Acc : 0.6555555555555556\n",
            "Epochs : 321\n"
          ]
        },
        {
          "output_type": "stream",
          "name": "stderr",
          "text": [
            "100%|██████████| 20/20 [00:05<00:00,  3.68it/s]\n"
          ]
        },
        {
          "output_type": "stream",
          "name": "stdout",
          "text": [
            "Loss : 0.6575130224227905, Val Loss : 0.7525383830070496 Acc : 0.7353749509226541, Val Acc : 0.6533333333333333\n",
            "Epochs : 322\n"
          ]
        },
        {
          "output_type": "stream",
          "name": "stderr",
          "text": [
            "100%|██████████| 20/20 [00:05<00:00,  3.67it/s]\n"
          ]
        },
        {
          "output_type": "stream",
          "name": "stdout",
          "text": [
            "Loss : 0.6567951440811157, Val Loss : 0.7520161867141724 Acc : 0.7357675696898311, Val Acc : 0.6533333333333333\n",
            "Epochs : 323\n"
          ]
        },
        {
          "output_type": "stream",
          "name": "stderr",
          "text": [
            "100%|██████████| 20/20 [00:05<00:00,  3.81it/s]\n"
          ]
        },
        {
          "output_type": "stream",
          "name": "stdout",
          "text": [
            "Loss : 0.6563188433647156, Val Loss : 0.7516699433326721 Acc : 0.7357675696898311, Val Acc : 0.6533333333333333\n",
            "Epochs : 324\n"
          ]
        },
        {
          "output_type": "stream",
          "name": "stderr",
          "text": [
            "100%|██████████| 20/20 [00:06<00:00,  2.98it/s]\n"
          ]
        },
        {
          "output_type": "stream",
          "name": "stdout",
          "text": [
            "Loss : 0.6560814380645752, Val Loss : 0.751498818397522 Acc : 0.7361601884570083, Val Acc : 0.6533333333333333\n",
            "Epochs : 325\n"
          ]
        },
        {
          "output_type": "stream",
          "name": "stderr",
          "text": [
            "100%|██████████| 20/20 [00:05<00:00,  3.39it/s]\n"
          ]
        },
        {
          "output_type": "stream",
          "name": "stdout",
          "text": [
            "Loss : 0.6556078791618347, Val Loss : 0.751156747341156 Acc : 0.7365528072241854, Val Acc : 0.6555555555555556\n",
            "Epochs : 326\n"
          ]
        },
        {
          "output_type": "stream",
          "name": "stderr",
          "text": [
            "100%|██████████| 20/20 [00:05<00:00,  3.74it/s]\n"
          ]
        },
        {
          "output_type": "stream",
          "name": "stdout",
          "text": [
            "Loss : 0.6553716659545898, Val Loss : 0.7509865760803223 Acc : 0.7365528072241854, Val Acc : 0.6555555555555556\n",
            "Epochs : 327\n"
          ]
        },
        {
          "output_type": "stream",
          "name": "stderr",
          "text": [
            "100%|██████████| 20/20 [00:05<00:00,  3.66it/s]\n"
          ]
        },
        {
          "output_type": "stream",
          "name": "stdout",
          "text": [
            "Loss : 0.6549007296562195, Val Loss : 0.7506427764892578 Acc : 0.7369454259913624, Val Acc : 0.6577777777777778\n",
            "Epochs : 328\n"
          ]
        },
        {
          "output_type": "stream",
          "name": "stderr",
          "text": [
            "100%|██████████| 20/20 [00:05<00:00,  3.77it/s]\n"
          ]
        },
        {
          "output_type": "stream",
          "name": "stdout",
          "text": [
            "Loss : 0.6546659469604492, Val Loss : 0.7504701018333435 Acc : 0.7369454259913624, Val Acc : 0.66\n",
            "Epochs : 329\n"
          ]
        },
        {
          "output_type": "stream",
          "name": "stderr",
          "text": [
            "100%|██████████| 20/20 [00:05<00:00,  3.68it/s]\n"
          ]
        },
        {
          "output_type": "stream",
          "name": "stdout",
          "text": [
            "Loss : 0.6544315814971924, Val Loss : 0.7502972483634949 Acc : 0.7369454259913624, Val Acc : 0.66\n",
            "Epochs : 330\n"
          ]
        },
        {
          "output_type": "stream",
          "name": "stderr",
          "text": [
            "100%|██████████| 20/20 [00:06<00:00,  3.29it/s]\n"
          ]
        },
        {
          "output_type": "stream",
          "name": "stdout",
          "text": [
            "Loss : 0.6541973352432251, Val Loss : 0.7501257061958313 Acc : 0.7369454259913624, Val Acc : 0.66\n",
            "Epochs : 331\n"
          ]
        },
        {
          "output_type": "stream",
          "name": "stderr",
          "text": [
            "100%|██████████| 20/20 [00:05<00:00,  3.65it/s]\n"
          ]
        },
        {
          "output_type": "stream",
          "name": "stdout",
          "text": [
            "Loss : 0.6534978151321411, Val Loss : 0.7496106028556824 Acc : 0.7361601884570083, Val Acc : 0.66\n",
            "Epochs : 332\n"
          ]
        },
        {
          "output_type": "stream",
          "name": "stderr",
          "text": [
            "100%|██████████| 20/20 [00:05<00:00,  3.54it/s]\n"
          ]
        },
        {
          "output_type": "stream",
          "name": "stdout",
          "text": [
            "Loss : 0.653265118598938, Val Loss : 0.7494370341300964 Acc : 0.7361601884570083, Val Acc : 0.66\n",
            "Epochs : 333\n"
          ]
        },
        {
          "output_type": "stream",
          "name": "stderr",
          "text": [
            "100%|██████████| 20/20 [00:05<00:00,  3.79it/s]\n"
          ]
        },
        {
          "output_type": "stream",
          "name": "stdout",
          "text": [
            "Loss : 0.6530327796936035, Val Loss : 0.7492688894271851 Acc : 0.7361601884570083, Val Acc : 0.66\n",
            "Epochs : 334\n"
          ]
        },
        {
          "output_type": "stream",
          "name": "stderr",
          "text": [
            "100%|██████████| 20/20 [00:05<00:00,  3.67it/s]\n"
          ]
        },
        {
          "output_type": "stream",
          "name": "stdout",
          "text": [
            "Loss : 0.6528003215789795, Val Loss : 0.7490967512130737 Acc : 0.7369454259913624, Val Acc : 0.6622222222222223\n",
            "Epochs : 335\n"
          ]
        },
        {
          "output_type": "stream",
          "name": "stderr",
          "text": [
            "100%|██████████| 20/20 [00:05<00:00,  3.41it/s]\n"
          ]
        },
        {
          "output_type": "stream",
          "name": "stdout",
          "text": [
            "Loss : 0.6525682210922241, Val Loss : 0.7489248514175415 Acc : 0.7369454259913624, Val Acc : 0.6622222222222223\n",
            "Epochs : 336\n"
          ]
        },
        {
          "output_type": "stream",
          "name": "stderr",
          "text": [
            "100%|██████████| 20/20 [00:05<00:00,  3.71it/s]\n"
          ]
        },
        {
          "output_type": "stream",
          "name": "stdout",
          "text": [
            "Loss : 0.6521052718162537, Val Loss : 0.7485867142677307 Acc : 0.7381232822928936, Val Acc : 0.6622222222222223\n",
            "Epochs : 337\n"
          ]
        },
        {
          "output_type": "stream",
          "name": "stderr",
          "text": [
            "100%|██████████| 20/20 [00:05<00:00,  3.35it/s]\n"
          ]
        },
        {
          "output_type": "stream",
          "name": "stdout",
          "text": [
            "Loss : 0.6519898772239685, Val Loss : 0.748500406742096 Acc : 0.7393011385944248, Val Acc : 0.6622222222222223\n",
            "Epochs : 338\n"
          ]
        },
        {
          "output_type": "stream",
          "name": "stderr",
          "text": [
            "100%|██████████| 20/20 [00:05<00:00,  3.43it/s]\n"
          ]
        },
        {
          "output_type": "stream",
          "name": "stdout",
          "text": [
            "Loss : 0.6516151428222656, Val Loss : 0.7482275366783142 Acc : 0.7393011385944248, Val Acc : 0.6622222222222223\n",
            "Epochs : 339\n"
          ]
        },
        {
          "output_type": "stream",
          "name": "stderr",
          "text": [
            "100%|██████████| 20/20 [00:05<00:00,  3.94it/s]\n"
          ]
        },
        {
          "output_type": "stream",
          "name": "stdout",
          "text": [
            "Loss : 0.6513989567756653, Val Loss : 0.7480722665786743 Acc : 0.7393011385944248, Val Acc : 0.6622222222222223\n",
            "Epochs : 340\n"
          ]
        },
        {
          "output_type": "stream",
          "name": "stderr",
          "text": [
            "100%|██████████| 20/20 [00:05<00:00,  3.47it/s]\n"
          ]
        },
        {
          "output_type": "stream",
          "name": "stdout",
          "text": [
            "Loss : 0.6511757373809814, Val Loss : 0.7479097247123718 Acc : 0.7389085198272477, Val Acc : 0.6622222222222223\n",
            "Epochs : 341\n"
          ]
        },
        {
          "output_type": "stream",
          "name": "stderr",
          "text": [
            "100%|██████████| 20/20 [00:06<00:00,  3.21it/s]\n"
          ]
        },
        {
          "output_type": "stream",
          "name": "stdout",
          "text": [
            "Loss : 0.650949239730835, Val Loss : 0.7477416396141052 Acc : 0.7393011385944248, Val Acc : 0.6644444444444444\n",
            "Epochs : 342\n"
          ]
        },
        {
          "output_type": "stream",
          "name": "stderr",
          "text": [
            "100%|██████████| 20/20 [00:05<00:00,  3.52it/s]\n"
          ]
        },
        {
          "output_type": "stream",
          "name": "stdout",
          "text": [
            "Loss : 0.6504926085472107, Val Loss : 0.7474110722541809 Acc : 0.7400863761287789, Val Acc : 0.6644444444444444\n",
            "Epochs : 343\n"
          ]
        },
        {
          "output_type": "stream",
          "name": "stderr",
          "text": [
            "100%|██████████| 20/20 [00:06<00:00,  3.29it/s]\n"
          ]
        },
        {
          "output_type": "stream",
          "name": "stdout",
          "text": [
            "Loss : 0.6502638459205627, Val Loss : 0.7472422122955322 Acc : 0.7400863761287789, Val Acc : 0.6644444444444444\n",
            "Epochs : 344\n"
          ]
        },
        {
          "output_type": "stream",
          "name": "stderr",
          "text": [
            "100%|██████████| 20/20 [00:05<00:00,  3.92it/s]\n"
          ]
        },
        {
          "output_type": "stream",
          "name": "stdout",
          "text": [
            "Loss : 0.6500347852706909, Val Loss : 0.747078537940979 Acc : 0.7400863761287789, Val Acc : 0.6644444444444444\n",
            "Epochs : 345\n"
          ]
        },
        {
          "output_type": "stream",
          "name": "stderr",
          "text": [
            "100%|██████████| 20/20 [00:05<00:00,  3.81it/s]\n"
          ]
        },
        {
          "output_type": "stream",
          "name": "stdout",
          "text": [
            "Loss : 0.6498058438301086, Val Loss : 0.7469102740287781 Acc : 0.7400863761287789, Val Acc : 0.6644444444444444\n",
            "Epochs : 346\n"
          ]
        },
        {
          "output_type": "stream",
          "name": "stderr",
          "text": [
            "100%|██████████| 20/20 [00:05<00:00,  3.65it/s]\n"
          ]
        },
        {
          "output_type": "stream",
          "name": "stdout",
          "text": [
            "Loss : 0.6495766043663025, Val Loss : 0.7467426657676697 Acc : 0.7400863761287789, Val Acc : 0.6644444444444444\n",
            "Epochs : 347\n"
          ]
        },
        {
          "output_type": "stream",
          "name": "stderr",
          "text": [
            "100%|██████████| 20/20 [00:05<00:00,  3.62it/s]\n"
          ]
        },
        {
          "output_type": "stream",
          "name": "stdout",
          "text": [
            "Loss : 0.6491191387176514, Val Loss : 0.7464091777801514 Acc : 0.7400863761287789, Val Acc : 0.6644444444444444\n",
            "Epochs : 348\n"
          ]
        },
        {
          "output_type": "stream",
          "name": "stderr",
          "text": [
            "100%|██████████| 20/20 [00:05<00:00,  3.80it/s]\n"
          ]
        },
        {
          "output_type": "stream",
          "name": "stdout",
          "text": [
            "Loss : 0.6488909125328064, Val Loss : 0.7462449669837952 Acc : 0.7400863761287789, Val Acc : 0.6644444444444444\n",
            "Epochs : 349\n"
          ]
        },
        {
          "output_type": "stream",
          "name": "stderr",
          "text": [
            "100%|██████████| 20/20 [00:04<00:00,  4.10it/s]\n"
          ]
        },
        {
          "output_type": "stream",
          "name": "stdout",
          "text": [
            "Loss : 0.6486630439758301, Val Loss : 0.7460789084434509 Acc : 0.7400863761287789, Val Acc : 0.6644444444444444\n",
            "Epochs : 350\n"
          ]
        },
        {
          "output_type": "stream",
          "name": "stderr",
          "text": [
            "100%|██████████| 20/20 [00:05<00:00,  3.67it/s]\n"
          ]
        },
        {
          "output_type": "stream",
          "name": "stdout",
          "text": [
            "Loss : 0.6484354138374329, Val Loss : 0.7459086775779724 Acc : 0.7389085198272477, Val Acc : 0.6644444444444444\n",
            "Epochs : 351\n"
          ]
        },
        {
          "output_type": "stream",
          "name": "stderr",
          "text": [
            "100%|██████████| 20/20 [00:05<00:00,  3.68it/s]\n"
          ]
        },
        {
          "output_type": "stream",
          "name": "stdout",
          "text": [
            "Loss : 0.6482081413269043, Val Loss : 0.7457419633865356 Acc : 0.7389085198272477, Val Acc : 0.6644444444444444\n",
            "Epochs : 352\n"
          ]
        },
        {
          "output_type": "stream",
          "name": "stderr",
          "text": [
            "100%|██████████| 20/20 [00:05<00:00,  3.70it/s]\n"
          ]
        },
        {
          "output_type": "stream",
          "name": "stdout",
          "text": [
            "Loss : 0.6477546095848083, Val Loss : 0.7454089522361755 Acc : 0.7389085198272477, Val Acc : 0.6644444444444444\n",
            "Epochs : 353\n"
          ]
        },
        {
          "output_type": "stream",
          "name": "stderr",
          "text": [
            "100%|██████████| 20/20 [00:06<00:00,  3.23it/s]\n"
          ]
        },
        {
          "output_type": "stream",
          "name": "stdout",
          "text": [
            "Loss : 0.6475285887718201, Val Loss : 0.7452406883239746 Acc : 0.7393011385944248, Val Acc : 0.6644444444444444\n",
            "Epochs : 354\n"
          ]
        },
        {
          "output_type": "stream",
          "name": "stderr",
          "text": [
            "100%|██████████| 20/20 [00:06<00:00,  3.00it/s]\n"
          ]
        },
        {
          "output_type": "stream",
          "name": "stdout",
          "text": [
            "Loss : 0.6473029851913452, Val Loss : 0.7450760006904602 Acc : 0.7393011385944248, Val Acc : 0.6644444444444444\n",
            "Epochs : 355\n"
          ]
        },
        {
          "output_type": "stream",
          "name": "stderr",
          "text": [
            "100%|██████████| 20/20 [00:06<00:00,  3.04it/s]\n"
          ]
        },
        {
          "output_type": "stream",
          "name": "stdout",
          "text": [
            "Loss : 0.647077739238739, Val Loss : 0.7449089288711548 Acc : 0.7389085198272477, Val Acc : 0.6644444444444444\n",
            "Epochs : 356\n"
          ]
        },
        {
          "output_type": "stream",
          "name": "stderr",
          "text": [
            "100%|██████████| 20/20 [00:05<00:00,  3.52it/s]\n"
          ]
        },
        {
          "output_type": "stream",
          "name": "stdout",
          "text": [
            "Loss : 0.6468528509140015, Val Loss : 0.7447435259819031 Acc : 0.7389085198272477, Val Acc : 0.6644444444444444\n",
            "Epochs : 357\n"
          ]
        },
        {
          "output_type": "stream",
          "name": "stderr",
          "text": [
            "100%|██████████| 20/20 [00:05<00:00,  3.59it/s]\n"
          ]
        },
        {
          "output_type": "stream",
          "name": "stdout",
          "text": [
            "Loss : 0.6464035511016846, Val Loss : 0.7444143891334534 Acc : 0.7389085198272477, Val Acc : 0.6644444444444444\n",
            "Epochs : 358\n"
          ]
        },
        {
          "output_type": "stream",
          "name": "stderr",
          "text": [
            "100%|██████████| 20/20 [00:05<00:00,  3.97it/s]\n"
          ]
        },
        {
          "output_type": "stream",
          "name": "stdout",
          "text": [
            "Loss : 0.6461793184280396, Val Loss : 0.7442529797554016 Acc : 0.7400863761287789, Val Acc : 0.6666666666666666\n",
            "Epochs : 359\n"
          ]
        },
        {
          "output_type": "stream",
          "name": "stderr",
          "text": [
            "100%|██████████| 20/20 [00:05<00:00,  3.41it/s]\n"
          ]
        },
        {
          "output_type": "stream",
          "name": "stdout",
          "text": [
            "Loss : 0.6459553241729736, Val Loss : 0.7440869212150574 Acc : 0.7396937573616019, Val Acc : 0.6666666666666666\n",
            "Epochs : 360\n"
          ]
        },
        {
          "output_type": "stream",
          "name": "stderr",
          "text": [
            "100%|██████████| 20/20 [00:05<00:00,  3.46it/s]\n"
          ]
        },
        {
          "output_type": "stream",
          "name": "stdout",
          "text": [
            "Loss : 0.6457313895225525, Val Loss : 0.743920087814331 Acc : 0.740478994895956, Val Acc : 0.6688888888888889\n",
            "Epochs : 361\n"
          ]
        },
        {
          "output_type": "stream",
          "name": "stderr",
          "text": [
            "100%|██████████| 20/20 [00:06<00:00,  3.27it/s]\n"
          ]
        },
        {
          "output_type": "stream",
          "name": "stdout",
          "text": [
            "Loss : 0.6455073356628418, Val Loss : 0.7437580823898315 Acc : 0.740478994895956, Val Acc : 0.6688888888888889\n",
            "Epochs : 362\n"
          ]
        },
        {
          "output_type": "stream",
          "name": "stderr",
          "text": [
            "100%|██████████| 20/20 [00:05<00:00,  3.82it/s]\n"
          ]
        },
        {
          "output_type": "stream",
          "name": "stdout",
          "text": [
            "Loss : 0.6452835202217102, Val Loss : 0.7435916066169739 Acc : 0.7408716136631331, Val Acc : 0.6688888888888889\n",
            "Epochs : 363\n"
          ]
        },
        {
          "output_type": "stream",
          "name": "stderr",
          "text": [
            "100%|██████████| 20/20 [00:05<00:00,  3.63it/s]\n"
          ]
        },
        {
          "output_type": "stream",
          "name": "stdout",
          "text": [
            "Loss : 0.6450598239898682, Val Loss : 0.7434263825416565 Acc : 0.7408716136631331, Val Acc : 0.6666666666666666\n",
            "Epochs : 364\n"
          ]
        },
        {
          "output_type": "stream",
          "name": "stderr",
          "text": [
            "100%|██████████| 20/20 [00:05<00:00,  3.80it/s]\n"
          ]
        },
        {
          "output_type": "stream",
          "name": "stdout",
          "text": [
            "Loss : 0.6446129679679871, Val Loss : 0.7430950999259949 Acc : 0.7412642324303101, Val Acc : 0.6666666666666666\n",
            "Epochs : 365\n"
          ]
        },
        {
          "output_type": "stream",
          "name": "stderr",
          "text": [
            "100%|██████████| 20/20 [00:06<00:00,  3.33it/s]\n"
          ]
        },
        {
          "output_type": "stream",
          "name": "stdout",
          "text": [
            "Loss : 0.6441677808761597, Val Loss : 0.7427672147750854 Acc : 0.7412642324303101, Val Acc : 0.6666666666666666\n",
            "Epochs : 366\n"
          ]
        },
        {
          "output_type": "stream",
          "name": "stderr",
          "text": [
            "100%|██████████| 20/20 [00:06<00:00,  3.31it/s]\n"
          ]
        },
        {
          "output_type": "stream",
          "name": "stdout",
          "text": [
            "Loss : 0.6437243223190308, Val Loss : 0.7424411177635193 Acc : 0.7412642324303101, Val Acc : 0.6666666666666666\n",
            "Epochs : 367\n"
          ]
        },
        {
          "output_type": "stream",
          "name": "stderr",
          "text": [
            "100%|██████████| 20/20 [00:06<00:00,  3.20it/s]\n"
          ]
        },
        {
          "output_type": "stream",
          "name": "stdout",
          "text": [
            "Loss : 0.643502950668335, Val Loss : 0.7422777414321899 Acc : 0.7412642324303101, Val Acc : 0.6666666666666666\n",
            "Epochs : 368\n"
          ]
        },
        {
          "output_type": "stream",
          "name": "stderr",
          "text": [
            "100%|██████████| 20/20 [00:04<00:00,  4.10it/s]\n"
          ]
        },
        {
          "output_type": "stream",
          "name": "stdout",
          "text": [
            "Loss : 0.6432816386222839, Val Loss : 0.7421162724494934 Acc : 0.7412642324303101, Val Acc : 0.6666666666666666\n",
            "Epochs : 369\n"
          ]
        },
        {
          "output_type": "stream",
          "name": "stderr",
          "text": [
            "100%|██████████| 20/20 [00:06<00:00,  3.17it/s]\n"
          ]
        },
        {
          "output_type": "stream",
          "name": "stdout",
          "text": [
            "Loss : 0.6428400874137878, Val Loss : 0.741790771484375 Acc : 0.7412642324303101, Val Acc : 0.6666666666666666\n",
            "Epochs : 370\n"
          ]
        },
        {
          "output_type": "stream",
          "name": "stderr",
          "text": [
            "100%|██████████| 20/20 [00:05<00:00,  3.80it/s]\n"
          ]
        },
        {
          "output_type": "stream",
          "name": "stdout",
          "text": [
            "Loss : 0.6428400874137878, Val Loss : 0.741790771484375 Acc : 0.7412642324303101, Val Acc : 0.6666666666666666\n",
            "Epochs : 371\n"
          ]
        },
        {
          "output_type": "stream",
          "name": "stderr",
          "text": [
            "100%|██████████| 20/20 [00:05<00:00,  3.92it/s]\n"
          ]
        },
        {
          "output_type": "stream",
          "name": "stdout",
          "text": [
            "Loss : 0.6427300572395325, Val Loss : 0.7417113184928894 Acc : 0.7412642324303101, Val Acc : 0.6666666666666666\n",
            "Epochs : 372\n"
          ]
        },
        {
          "output_type": "stream",
          "name": "stderr",
          "text": [
            "100%|██████████| 20/20 [00:05<00:00,  3.80it/s]\n"
          ]
        },
        {
          "output_type": "stream",
          "name": "stdout",
          "text": [
            "Loss : 0.6423733830451965, Val Loss : 0.7414479851722717 Acc : 0.7412642324303101, Val Acc : 0.6666666666666666\n",
            "Epochs : 373\n"
          ]
        },
        {
          "output_type": "stream",
          "name": "stderr",
          "text": [
            "100%|██████████| 20/20 [00:05<00:00,  3.54it/s]\n"
          ]
        },
        {
          "output_type": "stream",
          "name": "stdout",
          "text": [
            "Loss : 0.6417405009269714, Val Loss : 0.7409823536872864 Acc : 0.7420494699646644, Val Acc : 0.6666666666666666\n",
            "Epochs : 374\n"
          ]
        },
        {
          "output_type": "stream",
          "name": "stderr",
          "text": [
            "100%|██████████| 20/20 [00:05<00:00,  3.83it/s]\n"
          ]
        },
        {
          "output_type": "stream",
          "name": "stdout",
          "text": [
            "Loss : 0.6413071155548096, Val Loss : 0.740664541721344 Acc : 0.7424420887318414, Val Acc : 0.6666666666666666\n",
            "Epochs : 375\n"
          ]
        },
        {
          "output_type": "stream",
          "name": "stderr",
          "text": [
            "100%|██████████| 20/20 [00:05<00:00,  3.67it/s]\n"
          ]
        },
        {
          "output_type": "stream",
          "name": "stdout",
          "text": [
            "Loss : 0.6408742666244507, Val Loss : 0.740348219871521 Acc : 0.7428347074990185, Val Acc : 0.6666666666666666\n",
            "Epochs : 376\n"
          ]
        },
        {
          "output_type": "stream",
          "name": "stderr",
          "text": [
            "100%|██████████| 20/20 [00:04<00:00,  4.03it/s]\n"
          ]
        },
        {
          "output_type": "stream",
          "name": "stdout",
          "text": [
            "Loss : 0.6404431462287903, Val Loss : 0.7400344014167786 Acc : 0.7428347074990185, Val Acc : 0.6666666666666666\n",
            "Epochs : 377\n"
          ]
        },
        {
          "output_type": "stream",
          "name": "stderr",
          "text": [
            "100%|██████████| 20/20 [00:05<00:00,  3.63it/s]\n"
          ]
        },
        {
          "output_type": "stream",
          "name": "stdout",
          "text": [
            "Loss : 0.640228271484375, Val Loss : 0.7398770451545715 Acc : 0.7432273262661955, Val Acc : 0.6666666666666666\n",
            "Epochs : 378\n"
          ]
        },
        {
          "output_type": "stream",
          "name": "stderr",
          "text": [
            "100%|██████████| 20/20 [00:05<00:00,  3.64it/s]\n"
          ]
        },
        {
          "output_type": "stream",
          "name": "stdout",
          "text": [
            "Loss : 0.6398000121116638, Val Loss : 0.7395648956298828 Acc : 0.7440125638005497, Val Acc : 0.6666666666666666\n",
            "Epochs : 379\n"
          ]
        },
        {
          "output_type": "stream",
          "name": "stderr",
          "text": [
            "100%|██████████| 20/20 [00:05<00:00,  3.45it/s]\n"
          ]
        },
        {
          "output_type": "stream",
          "name": "stdout",
          "text": [
            "Loss : 0.6395864486694336, Val Loss : 0.7394112348556519 Acc : 0.7444051825677267, Val Acc : 0.6666666666666666\n",
            "Epochs : 380\n"
          ]
        },
        {
          "output_type": "stream",
          "name": "stderr",
          "text": [
            "100%|██████████| 20/20 [00:05<00:00,  3.47it/s]\n"
          ]
        },
        {
          "output_type": "stream",
          "name": "stdout",
          "text": [
            "Loss : 0.6393730640411377, Val Loss : 0.739255428314209 Acc : 0.7440125638005497, Val Acc : 0.6666666666666666\n",
            "Epochs : 381\n"
          ]
        },
        {
          "output_type": "stream",
          "name": "stderr",
          "text": [
            "100%|██████████| 20/20 [00:05<00:00,  3.58it/s]\n"
          ]
        },
        {
          "output_type": "stream",
          "name": "stdout",
          "text": [
            "Loss : 0.6391600966453552, Val Loss : 0.7390994429588318 Acc : 0.7440125638005497, Val Acc : 0.6666666666666666\n",
            "Epochs : 382\n"
          ]
        },
        {
          "output_type": "stream",
          "name": "stderr",
          "text": [
            "100%|██████████| 20/20 [00:05<00:00,  3.39it/s]\n"
          ]
        },
        {
          "output_type": "stream",
          "name": "stdout",
          "text": [
            "Loss : 0.638735294342041, Val Loss : 0.7387905716896057 Acc : 0.7444051825677267, Val Acc : 0.6666666666666666\n",
            "Epochs : 383\n"
          ]
        },
        {
          "output_type": "stream",
          "name": "stderr",
          "text": [
            "100%|██████████| 20/20 [00:05<00:00,  3.44it/s]\n"
          ]
        },
        {
          "output_type": "stream",
          "name": "stdout",
          "text": [
            "Loss : 0.6385233402252197, Val Loss : 0.7386338710784912 Acc : 0.7440125638005497, Val Acc : 0.6666666666666666\n",
            "Epochs : 384\n"
          ]
        },
        {
          "output_type": "stream",
          "name": "stderr",
          "text": [
            "100%|██████████| 20/20 [00:05<00:00,  3.67it/s]\n"
          ]
        },
        {
          "output_type": "stream",
          "name": "stdout",
          "text": [
            "Loss : 0.6381010413169861, Val Loss : 0.7383242249488831 Acc : 0.7447978013349038, Val Acc : 0.6666666666666666\n",
            "Epochs : 385\n"
          ]
        },
        {
          "output_type": "stream",
          "name": "stderr",
          "text": [
            "100%|██████████| 20/20 [00:05<00:00,  3.38it/s]\n"
          ]
        },
        {
          "output_type": "stream",
          "name": "stdout",
          "text": [
            "Loss : 0.6378903388977051, Val Loss : 0.738170325756073 Acc : 0.7447978013349038, Val Acc : 0.6666666666666666\n",
            "Epochs : 386\n"
          ]
        },
        {
          "output_type": "stream",
          "name": "stderr",
          "text": [
            "100%|██████████| 20/20 [00:05<00:00,  3.56it/s]\n"
          ]
        },
        {
          "output_type": "stream",
          "name": "stdout",
          "text": [
            "Loss : 0.6374698877334595, Val Loss : 0.7378620505332947 Acc : 0.7451904201020809, Val Acc : 0.6666666666666666\n",
            "Epochs : 387\n"
          ]
        },
        {
          "output_type": "stream",
          "name": "stderr",
          "text": [
            "100%|██████████| 20/20 [00:05<00:00,  3.77it/s]\n"
          ]
        },
        {
          "output_type": "stream",
          "name": "stdout",
          "text": [
            "Loss : 0.6370503902435303, Val Loss : 0.737558126449585 Acc : 0.7451904201020809, Val Acc : 0.6666666666666666\n",
            "Epochs : 388\n"
          ]
        },
        {
          "output_type": "stream",
          "name": "stderr",
          "text": [
            "100%|██████████| 20/20 [00:05<00:00,  3.85it/s]\n"
          ]
        },
        {
          "output_type": "stream",
          "name": "stdout",
          "text": [
            "Loss : 0.6368411779403687, Val Loss : 0.7374042272567749 Acc : 0.7451904201020809, Val Acc : 0.6666666666666666\n",
            "Epochs : 389\n"
          ]
        },
        {
          "output_type": "stream",
          "name": "stderr",
          "text": [
            "100%|██████████| 20/20 [00:05<00:00,  3.80it/s]\n"
          ]
        },
        {
          "output_type": "stream",
          "name": "stdout",
          "text": [
            "Loss : 0.6366320848464966, Val Loss : 0.7372539043426514 Acc : 0.7451904201020809, Val Acc : 0.6666666666666666\n",
            "Epochs : 390\n"
          ]
        },
        {
          "output_type": "stream",
          "name": "stderr",
          "text": [
            "100%|██████████| 20/20 [00:05<00:00,  3.79it/s]\n"
          ]
        },
        {
          "output_type": "stream",
          "name": "stdout",
          "text": [
            "Loss : 0.6364234089851379, Val Loss : 0.7371026873588562 Acc : 0.7451904201020809, Val Acc : 0.6666666666666666\n",
            "Epochs : 391\n"
          ]
        },
        {
          "output_type": "stream",
          "name": "stderr",
          "text": [
            "100%|██████████| 20/20 [00:05<00:00,  3.63it/s]\n"
          ]
        },
        {
          "output_type": "stream",
          "name": "stdout",
          "text": [
            "Loss : 0.6362149119377136, Val Loss : 0.7369502782821655 Acc : 0.7451904201020809, Val Acc : 0.6666666666666666\n",
            "Epochs : 392\n"
          ]
        },
        {
          "output_type": "stream",
          "name": "stderr",
          "text": [
            "100%|██████████| 20/20 [00:05<00:00,  3.45it/s]\n"
          ]
        },
        {
          "output_type": "stream",
          "name": "stdout",
          "text": [
            "Loss : 0.6360065340995789, Val Loss : 0.7368012070655823 Acc : 0.7451904201020809, Val Acc : 0.6666666666666666\n",
            "Epochs : 393\n"
          ]
        },
        {
          "output_type": "stream",
          "name": "stderr",
          "text": [
            "100%|██████████| 20/20 [00:05<00:00,  3.94it/s]\n"
          ]
        },
        {
          "output_type": "stream",
          "name": "stdout",
          "text": [
            "Loss : 0.6357983946800232, Val Loss : 0.7366504073143005 Acc : 0.7455830388692579, Val Acc : 0.6666666666666666\n",
            "Epochs : 394\n"
          ]
        },
        {
          "output_type": "stream",
          "name": "stderr",
          "text": [
            "100%|██████████| 20/20 [00:05<00:00,  3.67it/s]\n"
          ]
        },
        {
          "output_type": "stream",
          "name": "stdout",
          "text": [
            "Loss : 0.6355904936790466, Val Loss : 0.7365007400512695 Acc : 0.7455830388692579, Val Acc : 0.6666666666666666\n",
            "Epochs : 395\n"
          ]
        },
        {
          "output_type": "stream",
          "name": "stderr",
          "text": [
            "100%|██████████| 20/20 [00:05<00:00,  3.68it/s]\n"
          ]
        },
        {
          "output_type": "stream",
          "name": "stdout",
          "text": [
            "Loss : 0.6353828310966492, Val Loss : 0.7363519072532654 Acc : 0.7455830388692579, Val Acc : 0.6666666666666666\n",
            "Epochs : 396\n"
          ]
        },
        {
          "output_type": "stream",
          "name": "stderr",
          "text": [
            "100%|██████████| 20/20 [00:05<00:00,  3.91it/s]\n"
          ]
        },
        {
          "output_type": "stream",
          "name": "stdout",
          "text": [
            "Loss : 0.6349679231643677, Val Loss : 0.7360539436340332 Acc : 0.745975657636435, Val Acc : 0.6666666666666666\n",
            "Epochs : 397\n"
          ]
        },
        {
          "output_type": "stream",
          "name": "stderr",
          "text": [
            "100%|██████████| 20/20 [00:05<00:00,  3.75it/s]\n"
          ]
        },
        {
          "output_type": "stream",
          "name": "stdout",
          "text": [
            "Loss : 0.6347604990005493, Val Loss : 0.7359047532081604 Acc : 0.745975657636435, Val Acc : 0.6666666666666666\n",
            "Epochs : 398\n"
          ]
        },
        {
          "output_type": "stream",
          "name": "stderr",
          "text": [
            "100%|██████████| 20/20 [00:05<00:00,  3.81it/s]\n"
          ]
        },
        {
          "output_type": "stream",
          "name": "stdout",
          "text": [
            "Loss : 0.6343460083007812, Val Loss : 0.7356071472167969 Acc : 0.7463682764036121, Val Acc : 0.6688888888888889\n",
            "Epochs : 399\n"
          ]
        },
        {
          "output_type": "stream",
          "name": "stderr",
          "text": [
            "100%|██████████| 20/20 [00:05<00:00,  3.97it/s]\n"
          ]
        },
        {
          "output_type": "stream",
          "name": "stdout",
          "text": [
            "Loss : 0.6343460083007812, Val Loss : 0.7356071472167969 Acc : 0.7463682764036121, Val Acc : 0.6688888888888889\n",
            "Epochs : 400\n"
          ]
        },
        {
          "output_type": "stream",
          "name": "stderr",
          "text": [
            "100%|██████████| 20/20 [00:06<00:00,  3.31it/s]\n"
          ]
        },
        {
          "output_type": "stream",
          "name": "stdout",
          "text": [
            "Loss : 0.6340870261192322, Val Loss : 0.7354208827018738 Acc : 0.7467608951707891, Val Acc : 0.6688888888888889\n",
            "Epochs : 401\n"
          ]
        },
        {
          "output_type": "stream",
          "name": "stderr",
          "text": [
            "100%|██████████| 20/20 [00:05<00:00,  3.50it/s]\n"
          ]
        },
        {
          "output_type": "stream",
          "name": "stdout",
          "text": [
            "Loss : 0.6337117552757263, Val Loss : 0.735149621963501 Acc : 0.7467608951707891, Val Acc : 0.6688888888888889\n",
            "Epochs : 402\n"
          ]
        },
        {
          "output_type": "stream",
          "name": "stderr",
          "text": [
            "100%|██████████| 20/20 [00:05<00:00,  3.78it/s]\n"
          ]
        },
        {
          "output_type": "stream",
          "name": "stdout",
          "text": [
            "Loss : 0.6335113644599915, Val Loss : 0.7350055575370789 Acc : 0.7463682764036121, Val Acc : 0.6688888888888889\n",
            "Epochs : 403\n"
          ]
        },
        {
          "output_type": "stream",
          "name": "stderr",
          "text": [
            "100%|██████████| 20/20 [00:05<00:00,  3.49it/s]\n"
          ]
        },
        {
          "output_type": "stream",
          "name": "stdout",
          "text": [
            "Loss : 0.6333077549934387, Val Loss : 0.7348596453666687 Acc : 0.7463682764036121, Val Acc : 0.6688888888888889\n",
            "Epochs : 404\n"
          ]
        },
        {
          "output_type": "stream",
          "name": "stderr",
          "text": [
            "100%|██████████| 20/20 [00:06<00:00,  3.30it/s]\n"
          ]
        },
        {
          "output_type": "stream",
          "name": "stdout",
          "text": [
            "Loss : 0.6328975558280945, Val Loss : 0.7345629334449768 Acc : 0.7467608951707891, Val Acc : 0.6688888888888889\n",
            "Epochs : 405\n"
          ]
        },
        {
          "output_type": "stream",
          "name": "stderr",
          "text": [
            "100%|██████████| 20/20 [00:05<00:00,  3.53it/s]\n"
          ]
        },
        {
          "output_type": "stream",
          "name": "stdout",
          "text": [
            "Loss : 0.6324874758720398, Val Loss : 0.7342691421508789 Acc : 0.7463682764036121, Val Acc : 0.6688888888888889\n",
            "Epochs : 406\n"
          ]
        },
        {
          "output_type": "stream",
          "name": "stderr",
          "text": [
            "100%|██████████| 20/20 [00:05<00:00,  3.74it/s]\n"
          ]
        },
        {
          "output_type": "stream",
          "name": "stdout",
          "text": [
            "Loss : 0.6320778727531433, Val Loss : 0.7339764833450317 Acc : 0.7463682764036121, Val Acc : 0.6688888888888889\n",
            "Epochs : 407\n"
          ]
        },
        {
          "output_type": "stream",
          "name": "stderr",
          "text": [
            "100%|██████████| 20/20 [00:05<00:00,  3.62it/s]\n"
          ]
        },
        {
          "output_type": "stream",
          "name": "stdout",
          "text": [
            "Loss : 0.6316677927970886, Val Loss : 0.7336840629577637 Acc : 0.7463682764036121, Val Acc : 0.6688888888888889\n",
            "Epochs : 408\n"
          ]
        },
        {
          "output_type": "stream",
          "name": "stderr",
          "text": [
            "100%|██████████| 20/20 [00:05<00:00,  3.93it/s]\n"
          ]
        },
        {
          "output_type": "stream",
          "name": "stdout",
          "text": [
            "Loss : 0.6314624547958374, Val Loss : 0.7335372567176819 Acc : 0.7463682764036121, Val Acc : 0.6688888888888889\n",
            "Epochs : 409\n"
          ]
        },
        {
          "output_type": "stream",
          "name": "stderr",
          "text": [
            "100%|██████████| 20/20 [00:05<00:00,  3.47it/s]\n"
          ]
        },
        {
          "output_type": "stream",
          "name": "stdout",
          "text": [
            "Loss : 0.6312571167945862, Val Loss : 0.7333887219429016 Acc : 0.7463682764036121, Val Acc : 0.6688888888888889\n",
            "Epochs : 410\n"
          ]
        },
        {
          "output_type": "stream",
          "name": "stderr",
          "text": [
            "100%|██████████| 20/20 [00:05<00:00,  3.73it/s]\n"
          ]
        },
        {
          "output_type": "stream",
          "name": "stdout",
          "text": [
            "Loss : 0.6310520768165588, Val Loss : 0.7332409024238586 Acc : 0.7463682764036121, Val Acc : 0.6688888888888889\n",
            "Epochs : 411\n"
          ]
        },
        {
          "output_type": "stream",
          "name": "stderr",
          "text": [
            "100%|██████████| 20/20 [00:05<00:00,  3.72it/s]\n"
          ]
        },
        {
          "output_type": "stream",
          "name": "stdout",
          "text": [
            "Loss : 0.630847692489624, Val Loss : 0.7330963611602783 Acc : 0.7471535139379663, Val Acc : 0.6688888888888889\n",
            "Epochs : 412\n"
          ]
        },
        {
          "output_type": "stream",
          "name": "stderr",
          "text": [
            "100%|██████████| 20/20 [00:05<00:00,  3.63it/s]\n"
          ]
        },
        {
          "output_type": "stream",
          "name": "stdout",
          "text": [
            "Loss : 0.6306437849998474, Val Loss : 0.7329500317573547 Acc : 0.7479387514723204, Val Acc : 0.6711111111111111\n",
            "Epochs : 413\n"
          ]
        },
        {
          "output_type": "stream",
          "name": "stderr",
          "text": [
            "100%|██████████| 20/20 [00:05<00:00,  3.42it/s]\n"
          ]
        },
        {
          "output_type": "stream",
          "name": "stdout",
          "text": [
            "Loss : 0.6302367448806763, Val Loss : 0.7326587438583374 Acc : 0.7487239890066745, Val Acc : 0.6711111111111111\n",
            "Epochs : 414\n"
          ]
        },
        {
          "output_type": "stream",
          "name": "stderr",
          "text": [
            "100%|██████████| 20/20 [00:05<00:00,  3.38it/s]\n"
          ]
        },
        {
          "output_type": "stream",
          "name": "stdout",
          "text": [
            "Loss : 0.6300337314605713, Val Loss : 0.7325129508972168 Acc : 0.7491166077738516, Val Acc : 0.6711111111111111\n",
            "Epochs : 415\n"
          ]
        },
        {
          "output_type": "stream",
          "name": "stderr",
          "text": [
            "100%|██████████| 20/20 [00:05<00:00,  3.83it/s]\n"
          ]
        },
        {
          "output_type": "stream",
          "name": "stdout",
          "text": [
            "Loss : 0.6298310160636902, Val Loss : 0.732369065284729 Acc : 0.7495092265410287, Val Acc : 0.6711111111111111\n",
            "Epochs : 416\n"
          ]
        },
        {
          "output_type": "stream",
          "name": "stderr",
          "text": [
            "100%|██████████| 20/20 [00:04<00:00,  4.08it/s]\n"
          ]
        },
        {
          "output_type": "stream",
          "name": "stdout",
          "text": [
            "Loss : 0.6296285390853882, Val Loss : 0.7322239279747009 Acc : 0.7495092265410287, Val Acc : 0.6711111111111111\n",
            "Epochs : 417\n"
          ]
        },
        {
          "output_type": "stream",
          "name": "stderr",
          "text": [
            "100%|██████████| 20/20 [00:05<00:00,  3.64it/s]\n"
          ]
        },
        {
          "output_type": "stream",
          "name": "stdout",
          "text": [
            "Loss : 0.6294260621070862, Val Loss : 0.7320815920829773 Acc : 0.7499018453082057, Val Acc : 0.6711111111111111\n",
            "Epochs : 418\n"
          ]
        },
        {
          "output_type": "stream",
          "name": "stderr",
          "text": [
            "100%|██████████| 20/20 [00:05<00:00,  3.35it/s]\n"
          ]
        },
        {
          "output_type": "stream",
          "name": "stdout",
          "text": [
            "Loss : 0.6292238831520081, Val Loss : 0.7319353818893433 Acc : 0.7499018453082057, Val Acc : 0.6711111111111111\n",
            "Epochs : 419\n"
          ]
        },
        {
          "output_type": "stream",
          "name": "stderr",
          "text": [
            "100%|██████████| 20/20 [00:05<00:00,  3.55it/s]\n"
          ]
        },
        {
          "output_type": "stream",
          "name": "stdout",
          "text": [
            "Loss : 0.6290218234062195, Val Loss : 0.7317922711372375 Acc : 0.7499018453082057, Val Acc : 0.6711111111111111\n",
            "Epochs : 420\n"
          ]
        },
        {
          "output_type": "stream",
          "name": "stderr",
          "text": [
            "100%|██████████| 20/20 [00:05<00:00,  3.69it/s]\n"
          ]
        },
        {
          "output_type": "stream",
          "name": "stdout",
          "text": [
            "Loss : 0.6288203597068787, Val Loss : 0.731647789478302 Acc : 0.7499018453082057, Val Acc : 0.6711111111111111\n",
            "Epochs : 421\n"
          ]
        },
        {
          "output_type": "stream",
          "name": "stderr",
          "text": [
            "100%|██████████| 20/20 [00:05<00:00,  3.73it/s]\n"
          ]
        },
        {
          "output_type": "stream",
          "name": "stdout",
          "text": [
            "Loss : 0.6286189556121826, Val Loss : 0.7315011024475098 Acc : 0.7502944640753828, Val Acc : 0.6711111111111111\n",
            "Epochs : 422\n"
          ]
        },
        {
          "output_type": "stream",
          "name": "stderr",
          "text": [
            "100%|██████████| 20/20 [00:06<00:00,  3.24it/s]\n"
          ]
        },
        {
          "output_type": "stream",
          "name": "stdout",
          "text": [
            "Loss : 0.6280171275138855, Val Loss : 0.7310671806335449 Acc : 0.7506870828425599, Val Acc : 0.6711111111111111\n",
            "Epochs : 423\n"
          ]
        },
        {
          "output_type": "stream",
          "name": "stderr",
          "text": [
            "100%|██████████| 20/20 [00:06<00:00,  3.26it/s]\n"
          ]
        },
        {
          "output_type": "stream",
          "name": "stdout",
          "text": [
            "Loss : 0.6276167035102844, Val Loss : 0.7307811975479126 Acc : 0.7506870828425599, Val Acc : 0.6711111111111111\n",
            "Epochs : 424\n"
          ]
        },
        {
          "output_type": "stream",
          "name": "stderr",
          "text": [
            "100%|██████████| 20/20 [00:05<00:00,  3.35it/s]\n"
          ]
        },
        {
          "output_type": "stream",
          "name": "stdout",
          "text": [
            "Loss : 0.627416729927063, Val Loss : 0.7306331396102905 Acc : 0.7506870828425599, Val Acc : 0.6711111111111111\n",
            "Epochs : 425\n"
          ]
        },
        {
          "output_type": "stream",
          "name": "stderr",
          "text": [
            "100%|██████████| 20/20 [00:05<00:00,  3.83it/s]\n"
          ]
        },
        {
          "output_type": "stream",
          "name": "stdout",
          "text": [
            "Loss : 0.6272168755531311, Val Loss : 0.7304920554161072 Acc : 0.7510797016097369, Val Acc : 0.6711111111111111\n",
            "Epochs : 426\n"
          ]
        },
        {
          "output_type": "stream",
          "name": "stderr",
          "text": [
            "100%|██████████| 20/20 [00:05<00:00,  3.70it/s]\n"
          ]
        },
        {
          "output_type": "stream",
          "name": "stdout",
          "text": [
            "Loss : 0.6270171999931335, Val Loss : 0.7303473353385925 Acc : 0.7510797016097369, Val Acc : 0.6733333333333333\n",
            "Epochs : 427\n"
          ]
        },
        {
          "output_type": "stream",
          "name": "stderr",
          "text": [
            "100%|██████████| 20/20 [00:05<00:00,  3.68it/s]\n"
          ]
        },
        {
          "output_type": "stream",
          "name": "stdout",
          "text": [
            "Loss : 0.6268174648284912, Val Loss : 0.7302048802375793 Acc : 0.7510797016097369, Val Acc : 0.6733333333333333\n",
            "Epochs : 428\n"
          ]
        },
        {
          "output_type": "stream",
          "name": "stderr",
          "text": [
            "100%|██████████| 20/20 [00:05<00:00,  3.44it/s]\n"
          ]
        },
        {
          "output_type": "stream",
          "name": "stdout",
          "text": [
            "Loss : 0.6266178488731384, Val Loss : 0.7300620079040527 Acc : 0.7510797016097369, Val Acc : 0.6733333333333333\n",
            "Epochs : 429\n"
          ]
        },
        {
          "output_type": "stream",
          "name": "stderr",
          "text": [
            "100%|██████████| 20/20 [00:05<00:00,  3.38it/s]\n"
          ]
        },
        {
          "output_type": "stream",
          "name": "stdout",
          "text": [
            "Loss : 0.626220166683197, Val Loss : 0.7297760844230652 Acc : 0.7510797016097369, Val Acc : 0.6733333333333333\n",
            "Epochs : 430\n"
          ]
        },
        {
          "output_type": "stream",
          "name": "stderr",
          "text": [
            "100%|██████████| 20/20 [00:06<00:00,  3.32it/s]\n"
          ]
        },
        {
          "output_type": "stream",
          "name": "stdout",
          "text": [
            "Loss : 0.626220166683197, Val Loss : 0.7297760844230652 Acc : 0.7510797016097369, Val Acc : 0.6733333333333333\n",
            "Epochs : 431\n"
          ]
        },
        {
          "output_type": "stream",
          "name": "stderr",
          "text": [
            "100%|██████████| 20/20 [00:04<00:00,  4.04it/s]\n"
          ]
        },
        {
          "output_type": "stream",
          "name": "stdout",
          "text": [
            "Loss : 0.6259729862213135, Val Loss : 0.7295979857444763 Acc : 0.7510797016097369, Val Acc : 0.6755555555555556\n",
            "Epochs : 432\n"
          ]
        },
        {
          "output_type": "stream",
          "name": "stderr",
          "text": [
            "100%|██████████| 20/20 [00:05<00:00,  3.47it/s]\n"
          ]
        },
        {
          "output_type": "stream",
          "name": "stdout",
          "text": [
            "Loss : 0.6258000731468201, Val Loss : 0.7294715046882629 Acc : 0.7510797016097369, Val Acc : 0.6755555555555556\n",
            "Epochs : 433\n"
          ]
        },
        {
          "output_type": "stream",
          "name": "stderr",
          "text": [
            "100%|██████████| 20/20 [00:05<00:00,  3.69it/s]\n"
          ]
        },
        {
          "output_type": "stream",
          "name": "stdout",
          "text": [
            "Loss : 0.6254240274429321, Val Loss : 0.7291994690895081 Acc : 0.751472320376914, Val Acc : 0.6755555555555556\n",
            "Epochs : 434\n"
          ]
        },
        {
          "output_type": "stream",
          "name": "stderr",
          "text": [
            "100%|██████████| 20/20 [00:04<00:00,  4.07it/s]\n"
          ]
        },
        {
          "output_type": "stream",
          "name": "stdout",
          "text": [
            "Loss : 0.6250351071357727, Val Loss : 0.7289171814918518 Acc : 0.751472320376914, Val Acc : 0.6755555555555556\n",
            "Epochs : 435\n"
          ]
        },
        {
          "output_type": "stream",
          "name": "stderr",
          "text": [
            "100%|██████████| 20/20 [00:05<00:00,  3.60it/s]\n"
          ]
        },
        {
          "output_type": "stream",
          "name": "stdout",
          "text": [
            "Loss : 0.624839186668396, Val Loss : 0.7287754416465759 Acc : 0.7518649391440911, Val Acc : 0.6755555555555556\n",
            "Epochs : 436\n"
          ]
        },
        {
          "output_type": "stream",
          "name": "stderr",
          "text": [
            "100%|██████████| 20/20 [00:06<00:00,  3.30it/s]\n"
          ]
        },
        {
          "output_type": "stream",
          "name": "stdout",
          "text": [
            "Loss : 0.6246431469917297, Val Loss : 0.7286317944526672 Acc : 0.7518649391440911, Val Acc : 0.6777777777777778\n",
            "Epochs : 437\n"
          ]
        },
        {
          "output_type": "stream",
          "name": "stderr",
          "text": [
            "100%|██████████| 20/20 [00:05<00:00,  3.64it/s]\n"
          ]
        },
        {
          "output_type": "stream",
          "name": "stdout",
          "text": [
            "Loss : 0.6244470477104187, Val Loss : 0.7284919023513794 Acc : 0.7518649391440911, Val Acc : 0.6777777777777778\n",
            "Epochs : 438\n"
          ]
        },
        {
          "output_type": "stream",
          "name": "stderr",
          "text": [
            "100%|██████████| 20/20 [00:04<00:00,  4.00it/s]\n"
          ]
        },
        {
          "output_type": "stream",
          "name": "stdout",
          "text": [
            "Loss : 0.6242510676383972, Val Loss : 0.7283504009246826 Acc : 0.7518649391440911, Val Acc : 0.6777777777777778\n",
            "Epochs : 439\n"
          ]
        },
        {
          "output_type": "stream",
          "name": "stderr",
          "text": [
            "100%|██████████| 20/20 [00:05<00:00,  3.55it/s]\n"
          ]
        },
        {
          "output_type": "stream",
          "name": "stdout",
          "text": [
            "Loss : 0.6238600015640259, Val Loss : 0.7280706167221069 Acc : 0.7526501766784452, Val Acc : 0.6777777777777778\n",
            "Epochs : 440\n"
          ]
        },
        {
          "output_type": "stream",
          "name": "stderr",
          "text": [
            "100%|██████████| 20/20 [00:04<00:00,  4.11it/s]\n"
          ]
        },
        {
          "output_type": "stream",
          "name": "stdout",
          "text": [
            "Loss : 0.6236648559570312, Val Loss : 0.727932870388031 Acc : 0.7526501766784452, Val Acc : 0.6777777777777778\n",
            "Epochs : 441\n"
          ]
        },
        {
          "output_type": "stream",
          "name": "stderr",
          "text": [
            "100%|██████████| 20/20 [00:05<00:00,  3.56it/s]\n"
          ]
        },
        {
          "output_type": "stream",
          "name": "stdout",
          "text": [
            "Loss : 0.6234700679779053, Val Loss : 0.7277902960777283 Acc : 0.7534354142127994, Val Acc : 0.6777777777777778\n",
            "Epochs : 442\n"
          ]
        },
        {
          "output_type": "stream",
          "name": "stderr",
          "text": [
            "100%|██████████| 20/20 [00:05<00:00,  3.75it/s]\n"
          ]
        },
        {
          "output_type": "stream",
          "name": "stdout",
          "text": [
            "Loss : 0.6232755780220032, Val Loss : 0.7276521325111389 Acc : 0.7534354142127994, Val Acc : 0.6777777777777778\n",
            "Epochs : 443\n"
          ]
        },
        {
          "output_type": "stream",
          "name": "stderr",
          "text": [
            "100%|██████████| 20/20 [00:06<00:00,  3.24it/s]\n"
          ]
        },
        {
          "output_type": "stream",
          "name": "stdout",
          "text": [
            "Loss : 0.623081386089325, Val Loss : 0.7275094985961914 Acc : 0.7534354142127994, Val Acc : 0.6777777777777778\n",
            "Epochs : 444\n"
          ]
        },
        {
          "output_type": "stream",
          "name": "stderr",
          "text": [
            "100%|██████████| 20/20 [00:05<00:00,  3.51it/s]\n"
          ]
        },
        {
          "output_type": "stream",
          "name": "stdout",
          "text": [
            "Loss : 0.6228872537612915, Val Loss : 0.7273688316345215 Acc : 0.7534354142127994, Val Acc : 0.6777777777777778\n",
            "Epochs : 445\n"
          ]
        },
        {
          "output_type": "stream",
          "name": "stderr",
          "text": [
            "100%|██████████| 20/20 [00:05<00:00,  3.67it/s]\n"
          ]
        },
        {
          "output_type": "stream",
          "name": "stdout",
          "text": [
            "Loss : 0.6226931214332581, Val Loss : 0.7272313833236694 Acc : 0.7534354142127994, Val Acc : 0.6777777777777778\n",
            "Epochs : 446\n"
          ]
        },
        {
          "output_type": "stream",
          "name": "stderr",
          "text": [
            "100%|██████████| 20/20 [00:05<00:00,  3.42it/s]\n"
          ]
        },
        {
          "output_type": "stream",
          "name": "stdout",
          "text": [
            "Loss : 0.6224992871284485, Val Loss : 0.7270897030830383 Acc : 0.7542206517471535, Val Acc : 0.6777777777777778\n",
            "Epochs : 447\n"
          ]
        },
        {
          "output_type": "stream",
          "name": "stderr",
          "text": [
            "100%|██████████| 20/20 [00:05<00:00,  3.82it/s]\n"
          ]
        },
        {
          "output_type": "stream",
          "name": "stdout",
          "text": [
            "Loss : 0.622305691242218, Val Loss : 0.7269451022148132 Acc : 0.7538280329799765, Val Acc : 0.6777777777777778\n",
            "Epochs : 448\n"
          ]
        },
        {
          "output_type": "stream",
          "name": "stderr",
          "text": [
            "100%|██████████| 20/20 [00:05<00:00,  3.76it/s]\n"
          ]
        },
        {
          "output_type": "stream",
          "name": "stdout",
          "text": [
            "Loss : 0.6221123337745667, Val Loss : 0.726806104183197 Acc : 0.7542206517471535, Val Acc : 0.6777777777777778\n",
            "Epochs : 449\n"
          ]
        },
        {
          "output_type": "stream",
          "name": "stderr",
          "text": [
            "100%|██████████| 20/20 [00:05<00:00,  3.64it/s]\n"
          ]
        },
        {
          "output_type": "stream",
          "name": "stdout",
          "text": [
            "Loss : 0.6219192743301392, Val Loss : 0.7266673445701599 Acc : 0.7542206517471535, Val Acc : 0.6777777777777778\n",
            "Epochs : 450\n"
          ]
        },
        {
          "output_type": "stream",
          "name": "stderr",
          "text": [
            "100%|██████████| 20/20 [00:05<00:00,  3.43it/s]\n"
          ]
        },
        {
          "output_type": "stream",
          "name": "stdout",
          "text": [
            "Loss : 0.6213411688804626, Val Loss : 0.7262440323829651 Acc : 0.7542206517471535, Val Acc : 0.6777777777777778\n",
            "Epochs : 451\n"
          ]
        },
        {
          "output_type": "stream",
          "name": "stderr",
          "text": [
            "100%|██████████| 20/20 [00:05<00:00,  3.40it/s]\n"
          ]
        },
        {
          "output_type": "stream",
          "name": "stdout",
          "text": [
            "Loss : 0.6211491823196411, Val Loss : 0.7260953783988953 Acc : 0.7542206517471535, Val Acc : 0.6777777777777778\n",
            "Epochs : 452\n"
          ]
        },
        {
          "output_type": "stream",
          "name": "stderr",
          "text": [
            "100%|██████████| 20/20 [00:05<00:00,  3.50it/s]\n"
          ]
        },
        {
          "output_type": "stream",
          "name": "stdout",
          "text": [
            "Loss : 0.620957612991333, Val Loss : 0.7259575724601746 Acc : 0.7542206517471535, Val Acc : 0.6777777777777778\n",
            "Epochs : 453\n"
          ]
        },
        {
          "output_type": "stream",
          "name": "stderr",
          "text": [
            "100%|██████████| 20/20 [00:04<00:00,  4.03it/s]\n"
          ]
        },
        {
          "output_type": "stream",
          "name": "stdout",
          "text": [
            "Loss : 0.6207663416862488, Val Loss : 0.725818932056427 Acc : 0.7542206517471535, Val Acc : 0.68\n",
            "Epochs : 454\n"
          ]
        },
        {
          "output_type": "stream",
          "name": "stderr",
          "text": [
            "100%|██████████| 20/20 [00:06<00:00,  3.18it/s]\n"
          ]
        },
        {
          "output_type": "stream",
          "name": "stdout",
          "text": [
            "Loss : 0.6205756068229675, Val Loss : 0.7256741523742676 Acc : 0.7542206517471535, Val Acc : 0.68\n",
            "Epochs : 455\n"
          ]
        },
        {
          "output_type": "stream",
          "name": "stderr",
          "text": [
            "100%|██████████| 20/20 [00:06<00:00,  3.32it/s]\n"
          ]
        },
        {
          "output_type": "stream",
          "name": "stdout",
          "text": [
            "Loss : 0.6203849911689758, Val Loss : 0.7255356907844543 Acc : 0.7542206517471535, Val Acc : 0.68\n",
            "Epochs : 456\n"
          ]
        },
        {
          "output_type": "stream",
          "name": "stderr",
          "text": [
            "100%|██████████| 20/20 [00:06<00:00,  3.12it/s]\n"
          ]
        },
        {
          "output_type": "stream",
          "name": "stdout",
          "text": [
            "Loss : 0.6200045943260193, Val Loss : 0.7252511382102966 Acc : 0.7542206517471535, Val Acc : 0.68\n",
            "Epochs : 457\n"
          ]
        },
        {
          "output_type": "stream",
          "name": "stderr",
          "text": [
            "100%|██████████| 20/20 [00:06<00:00,  3.22it/s]\n"
          ]
        },
        {
          "output_type": "stream",
          "name": "stdout",
          "text": [
            "Loss : 0.6198146939277649, Val Loss : 0.7251099348068237 Acc : 0.7542206517471535, Val Acc : 0.68\n",
            "Epochs : 458\n"
          ]
        },
        {
          "output_type": "stream",
          "name": "stderr",
          "text": [
            "100%|██████████| 20/20 [00:05<00:00,  3.36it/s]\n"
          ]
        },
        {
          "output_type": "stream",
          "name": "stdout",
          "text": [
            "Loss : 0.619436502456665, Val Loss : 0.7248269319534302 Acc : 0.7542206517471535, Val Acc : 0.68\n",
            "Epochs : 459\n"
          ]
        },
        {
          "output_type": "stream",
          "name": "stderr",
          "text": [
            "100%|██████████| 20/20 [00:05<00:00,  3.50it/s]\n"
          ]
        },
        {
          "output_type": "stream",
          "name": "stdout",
          "text": [
            "Loss : 0.6188711524009705, Val Loss : 0.7244045734405518 Acc : 0.7550058892815077, Val Acc : 0.68\n",
            "Epochs : 460\n"
          ]
        },
        {
          "output_type": "stream",
          "name": "stderr",
          "text": [
            "100%|██████████| 20/20 [00:06<00:00,  3.21it/s]\n"
          ]
        },
        {
          "output_type": "stream",
          "name": "stdout",
          "text": [
            "Loss : 0.6186835169792175, Val Loss : 0.7242648601531982 Acc : 0.7550058892815077, Val Acc : 0.68\n",
            "Epochs : 461\n"
          ]
        },
        {
          "output_type": "stream",
          "name": "stderr",
          "text": [
            "100%|██████████| 20/20 [00:06<00:00,  3.33it/s]\n"
          ]
        },
        {
          "output_type": "stream",
          "name": "stdout",
          "text": [
            "Loss : 0.6183091998100281, Val Loss : 0.7239857316017151 Acc : 0.7546132705143306, Val Acc : 0.6822222222222222\n",
            "Epochs : 462\n"
          ]
        },
        {
          "output_type": "stream",
          "name": "stderr",
          "text": [
            "100%|██████████| 20/20 [00:05<00:00,  3.90it/s]\n"
          ]
        },
        {
          "output_type": "stream",
          "name": "stdout",
          "text": [
            "Loss : 0.6181225776672363, Val Loss : 0.723845899105072 Acc : 0.7550058892815077, Val Acc : 0.6844444444444444\n",
            "Epochs : 463\n"
          ]
        },
        {
          "output_type": "stream",
          "name": "stderr",
          "text": [
            "100%|██████████| 20/20 [00:05<00:00,  3.93it/s]\n"
          ]
        },
        {
          "output_type": "stream",
          "name": "stdout",
          "text": [
            "Loss : 0.6178898811340332, Val Loss : 0.72367262840271 Acc : 0.7550058892815077, Val Acc : 0.6844444444444444\n",
            "Epochs : 464\n"
          ]
        },
        {
          "output_type": "stream",
          "name": "stderr",
          "text": [
            "100%|██████████| 20/20 [00:06<00:00,  3.21it/s]\n"
          ]
        },
        {
          "output_type": "stream",
          "name": "stdout",
          "text": [
            "Loss : 0.6175529956817627, Val Loss : 0.7234205603599548 Acc : 0.7550058892815077, Val Acc : 0.6844444444444444\n",
            "Epochs : 465\n"
          ]
        },
        {
          "output_type": "stream",
          "name": "stderr",
          "text": [
            "100%|██████████| 20/20 [00:04<00:00,  4.09it/s]\n"
          ]
        },
        {
          "output_type": "stream",
          "name": "stdout",
          "text": [
            "Loss : 0.6171907186508179, Val Loss : 0.7231451869010925 Acc : 0.7550058892815077, Val Acc : 0.6844444444444444\n",
            "Epochs : 466\n"
          ]
        },
        {
          "output_type": "stream",
          "name": "stderr",
          "text": [
            "100%|██████████| 20/20 [00:06<00:00,  3.31it/s]\n"
          ]
        },
        {
          "output_type": "stream",
          "name": "stdout",
          "text": [
            "Loss : 0.6170070171356201, Val Loss : 0.7230119109153748 Acc : 0.7553985080486847, Val Acc : 0.6844444444444444\n",
            "Epochs : 467\n"
          ]
        },
        {
          "output_type": "stream",
          "name": "stderr",
          "text": [
            "100%|██████████| 20/20 [00:06<00:00,  3.07it/s]\n"
          ]
        },
        {
          "output_type": "stream",
          "name": "stdout",
          "text": [
            "Loss : 0.6164534687995911, Val Loss : 0.7225978374481201 Acc : 0.7553985080486847, Val Acc : 0.6844444444444444\n",
            "Epochs : 468\n"
          ]
        },
        {
          "output_type": "stream",
          "name": "stderr",
          "text": [
            "100%|██████████| 20/20 [00:05<00:00,  3.45it/s]\n"
          ]
        },
        {
          "output_type": "stream",
          "name": "stdout",
          "text": [
            "Loss : 0.6162688732147217, Val Loss : 0.7224547266960144 Acc : 0.7553985080486847, Val Acc : 0.6866666666666666\n",
            "Epochs : 469\n"
          ]
        },
        {
          "output_type": "stream",
          "name": "stderr",
          "text": [
            "100%|██████████| 20/20 [00:05<00:00,  3.43it/s]\n"
          ]
        },
        {
          "output_type": "stream",
          "name": "stdout",
          "text": [
            "Loss : 0.6160845160484314, Val Loss : 0.7223232984542847 Acc : 0.7553985080486847, Val Acc : 0.6866666666666666\n",
            "Epochs : 470\n"
          ]
        },
        {
          "output_type": "stream",
          "name": "stderr",
          "text": [
            "100%|██████████| 20/20 [00:06<00:00,  3.18it/s]\n"
          ]
        },
        {
          "output_type": "stream",
          "name": "stdout",
          "text": [
            "Loss : 0.6157159209251404, Val Loss : 0.7220478057861328 Acc : 0.7550058892815077, Val Acc : 0.6866666666666666\n",
            "Epochs : 471\n"
          ]
        },
        {
          "output_type": "stream",
          "name": "stderr",
          "text": [
            "100%|██████████| 20/20 [00:04<00:00,  4.11it/s]\n"
          ]
        },
        {
          "output_type": "stream",
          "name": "stdout",
          "text": [
            "Loss : 0.6155319809913635, Val Loss : 0.7219104766845703 Acc : 0.7550058892815077, Val Acc : 0.6866666666666666\n",
            "Epochs : 472\n"
          ]
        },
        {
          "output_type": "stream",
          "name": "stderr",
          "text": [
            "100%|██████████| 20/20 [00:05<00:00,  3.49it/s]\n"
          ]
        },
        {
          "output_type": "stream",
          "name": "stdout",
          "text": [
            "Loss : 0.6153480410575867, Val Loss : 0.7217726111412048 Acc : 0.7550058892815077, Val Acc : 0.6866666666666666\n",
            "Epochs : 473\n"
          ]
        },
        {
          "output_type": "stream",
          "name": "stderr",
          "text": [
            "100%|██████████| 20/20 [00:06<00:00,  3.29it/s]\n"
          ]
        },
        {
          "output_type": "stream",
          "name": "stdout",
          "text": [
            "Loss : 0.6147972345352173, Val Loss : 0.7213615775108337 Acc : 0.7553985080486847, Val Acc : 0.6866666666666666\n",
            "Epochs : 474\n"
          ]
        },
        {
          "output_type": "stream",
          "name": "stderr",
          "text": [
            "100%|██████████| 20/20 [00:05<00:00,  3.61it/s]\n"
          ]
        },
        {
          "output_type": "stream",
          "name": "stdout",
          "text": [
            "Loss : 0.6144304275512695, Val Loss : 0.7210861444473267 Acc : 0.7553985080486847, Val Acc : 0.6866666666666666\n",
            "Epochs : 475\n"
          ]
        },
        {
          "output_type": "stream",
          "name": "stderr",
          "text": [
            "100%|██████████| 20/20 [00:05<00:00,  3.65it/s]\n"
          ]
        },
        {
          "output_type": "stream",
          "name": "stdout",
          "text": [
            "Loss : 0.6142471432685852, Val Loss : 0.7209475636482239 Acc : 0.7553985080486847, Val Acc : 0.6866666666666666\n",
            "Epochs : 476\n"
          ]
        },
        {
          "output_type": "stream",
          "name": "stderr",
          "text": [
            "100%|██████████| 20/20 [00:05<00:00,  3.75it/s]\n"
          ]
        },
        {
          "output_type": "stream",
          "name": "stdout",
          "text": [
            "Loss : 0.6138802766799927, Val Loss : 0.7206696271896362 Acc : 0.7553985080486847, Val Acc : 0.6866666666666666\n",
            "Epochs : 477\n"
          ]
        },
        {
          "output_type": "stream",
          "name": "stderr",
          "text": [
            "100%|██████████| 20/20 [00:05<00:00,  3.61it/s]\n"
          ]
        },
        {
          "output_type": "stream",
          "name": "stdout",
          "text": [
            "Loss : 0.6136969923973083, Val Loss : 0.7205339074134827 Acc : 0.7553985080486847, Val Acc : 0.6866666666666666\n",
            "Epochs : 478\n"
          ]
        },
        {
          "output_type": "stream",
          "name": "stderr",
          "text": [
            "100%|██████████| 20/20 [00:06<00:00,  3.28it/s]\n"
          ]
        },
        {
          "output_type": "stream",
          "name": "stdout",
          "text": [
            "Loss : 0.613513708114624, Val Loss : 0.7203915119171143 Acc : 0.7553985080486847, Val Acc : 0.6866666666666666\n",
            "Epochs : 479\n"
          ]
        },
        {
          "output_type": "stream",
          "name": "stderr",
          "text": [
            "100%|██████████| 20/20 [00:05<00:00,  3.80it/s]\n"
          ]
        },
        {
          "output_type": "stream",
          "name": "stdout",
          "text": [
            "Loss : 0.6131478548049927, Val Loss : 0.7201149463653564 Acc : 0.7557911268158618, Val Acc : 0.6866666666666666\n",
            "Epochs : 480\n"
          ]
        },
        {
          "output_type": "stream",
          "name": "stderr",
          "text": [
            "100%|██████████| 20/20 [00:06<00:00,  3.12it/s]\n"
          ]
        },
        {
          "output_type": "stream",
          "name": "stdout",
          "text": [
            "Loss : 0.6129653453826904, Val Loss : 0.7199732065200806 Acc : 0.7561837455830389, Val Acc : 0.6866666666666666\n",
            "Epochs : 481\n"
          ]
        },
        {
          "output_type": "stream",
          "name": "stderr",
          "text": [
            "100%|██████████| 20/20 [00:06<00:00,  3.18it/s]\n"
          ]
        },
        {
          "output_type": "stream",
          "name": "stdout",
          "text": [
            "Loss : 0.612782895565033, Val Loss : 0.7198333144187927 Acc : 0.7557911268158618, Val Acc : 0.6866666666666666\n",
            "Epochs : 482\n"
          ]
        },
        {
          "output_type": "stream",
          "name": "stderr",
          "text": [
            "100%|██████████| 20/20 [00:05<00:00,  3.51it/s]\n"
          ]
        },
        {
          "output_type": "stream",
          "name": "stdout",
          "text": [
            "Loss : 0.6124179363250732, Val Loss : 0.7195553779602051 Acc : 0.7557911268158618, Val Acc : 0.6888888888888889\n",
            "Epochs : 483\n"
          ]
        },
        {
          "output_type": "stream",
          "name": "stderr",
          "text": [
            "100%|██████████| 20/20 [00:06<00:00,  3.02it/s]\n"
          ]
        },
        {
          "output_type": "stream",
          "name": "stdout",
          "text": [
            "Loss : 0.6122360825538635, Val Loss : 0.719418466091156 Acc : 0.7557911268158618, Val Acc : 0.6888888888888889\n",
            "Epochs : 484\n"
          ]
        },
        {
          "output_type": "stream",
          "name": "stderr",
          "text": [
            "100%|██████████| 20/20 [00:05<00:00,  3.66it/s]\n"
          ]
        },
        {
          "output_type": "stream",
          "name": "stdout",
          "text": [
            "Loss : 0.6120546460151672, Val Loss : 0.7192791700363159 Acc : 0.7557911268158618, Val Acc : 0.6888888888888889\n",
            "Epochs : 485\n"
          ]
        },
        {
          "output_type": "stream",
          "name": "stderr",
          "text": [
            "100%|██████████| 20/20 [00:06<00:00,  3.08it/s]\n"
          ]
        },
        {
          "output_type": "stream",
          "name": "stdout",
          "text": [
            "Loss : 0.6118733286857605, Val Loss : 0.7191445827484131 Acc : 0.7557911268158618, Val Acc : 0.6888888888888889\n",
            "Epochs : 486\n"
          ]
        },
        {
          "output_type": "stream",
          "name": "stderr",
          "text": [
            "100%|██████████| 20/20 [00:05<00:00,  3.73it/s]\n"
          ]
        },
        {
          "output_type": "stream",
          "name": "stdout",
          "text": [
            "Loss : 0.6116921901702881, Val Loss : 0.7190059423446655 Acc : 0.7557911268158618, Val Acc : 0.6888888888888889\n",
            "Epochs : 487\n"
          ]
        },
        {
          "output_type": "stream",
          "name": "stderr",
          "text": [
            "100%|██████████| 20/20 [00:05<00:00,  3.41it/s]\n"
          ]
        },
        {
          "output_type": "stream",
          "name": "stdout",
          "text": [
            "Loss : 0.6115111708641052, Val Loss : 0.7188682556152344 Acc : 0.7557911268158618, Val Acc : 0.6888888888888889\n",
            "Epochs : 488\n"
          ]
        },
        {
          "output_type": "stream",
          "name": "stderr",
          "text": [
            "100%|██████████| 20/20 [00:05<00:00,  3.72it/s]\n"
          ]
        },
        {
          "output_type": "stream",
          "name": "stdout",
          "text": [
            "Loss : 0.6111499667167664, Val Loss : 0.7185953259468079 Acc : 0.7565763643502159, Val Acc : 0.6888888888888889\n",
            "Epochs : 489\n"
          ]
        },
        {
          "output_type": "stream",
          "name": "stderr",
          "text": [
            "100%|██████████| 20/20 [00:05<00:00,  3.66it/s]\n"
          ]
        },
        {
          "output_type": "stream",
          "name": "stdout",
          "text": [
            "Loss : 0.6109696626663208, Val Loss : 0.7184584140777588 Acc : 0.756968983117393, Val Acc : 0.6888888888888889\n",
            "Epochs : 490\n"
          ]
        },
        {
          "output_type": "stream",
          "name": "stderr",
          "text": [
            "100%|██████████| 20/20 [00:05<00:00,  3.41it/s]\n"
          ]
        },
        {
          "output_type": "stream",
          "name": "stdout",
          "text": [
            "Loss : 0.61078941822052, Val Loss : 0.7183258533477783 Acc : 0.756968983117393, Val Acc : 0.6888888888888889\n",
            "Epochs : 491\n"
          ]
        },
        {
          "output_type": "stream",
          "name": "stderr",
          "text": [
            "100%|██████████| 20/20 [00:05<00:00,  3.35it/s]\n"
          ]
        },
        {
          "output_type": "stream",
          "name": "stdout",
          "text": [
            "Loss : 0.6106994152069092, Val Loss : 0.7182536721229553 Acc : 0.7573616018845701, Val Acc : 0.6888888888888889\n",
            "Epochs : 492\n"
          ]
        },
        {
          "output_type": "stream",
          "name": "stderr",
          "text": [
            "100%|██████████| 20/20 [00:06<00:00,  3.21it/s]\n"
          ]
        },
        {
          "output_type": "stream",
          "name": "stdout",
          "text": [
            "Loss : 0.610564649105072, Val Loss : 0.7181558609008789 Acc : 0.756968983117393, Val Acc : 0.6888888888888889\n",
            "Epochs : 493\n"
          ]
        },
        {
          "output_type": "stream",
          "name": "stderr",
          "text": [
            "100%|██████████| 20/20 [00:06<00:00,  3.15it/s]\n"
          ]
        },
        {
          "output_type": "stream",
          "name": "stdout",
          "text": [
            "Loss : 0.6104075312614441, Val Loss : 0.7180318236351013 Acc : 0.7573616018845701, Val Acc : 0.6888888888888889\n",
            "Epochs : 494\n"
          ]
        },
        {
          "output_type": "stream",
          "name": "stderr",
          "text": [
            "100%|██████████| 20/20 [00:05<00:00,  3.54it/s]\n"
          ]
        },
        {
          "output_type": "stream",
          "name": "stdout",
          "text": [
            "Loss : 0.6102391481399536, Val Loss : 0.717907726764679 Acc : 0.7577542206517471, Val Acc : 0.6888888888888889\n",
            "Epochs : 495\n"
          ]
        },
        {
          "output_type": "stream",
          "name": "stderr",
          "text": [
            "100%|██████████| 20/20 [00:05<00:00,  3.70it/s]\n"
          ]
        },
        {
          "output_type": "stream",
          "name": "stdout",
          "text": [
            "Loss : 0.6100653409957886, Val Loss : 0.7177743911743164 Acc : 0.7577542206517471, Val Acc : 0.6888888888888889\n",
            "Epochs : 496\n"
          ]
        },
        {
          "output_type": "stream",
          "name": "stderr",
          "text": [
            "100%|██████████| 20/20 [00:06<00:00,  3.32it/s]\n"
          ]
        },
        {
          "output_type": "stream",
          "name": "stdout",
          "text": [
            "Loss : 0.609710693359375, Val Loss : 0.7175037860870361 Acc : 0.7577542206517471, Val Acc : 0.6888888888888889\n",
            "Epochs : 497\n"
          ]
        },
        {
          "output_type": "stream",
          "name": "stderr",
          "text": [
            "100%|██████████| 20/20 [00:05<00:00,  3.34it/s]\n"
          ]
        },
        {
          "output_type": "stream",
          "name": "stdout",
          "text": [
            "Loss : 0.6095320582389832, Val Loss : 0.7173647284507751 Acc : 0.7577542206517471, Val Acc : 0.6888888888888889\n",
            "Epochs : 498\n"
          ]
        },
        {
          "output_type": "stream",
          "name": "stderr",
          "text": [
            "100%|██████████| 20/20 [00:05<00:00,  3.57it/s]\n"
          ]
        },
        {
          "output_type": "stream",
          "name": "stdout",
          "text": [
            "Loss : 0.6093029975891113, Val Loss : 0.71174556016922 Acc : 0.7605025520219867, Val Acc : 0.6777777777777778\n",
            "Epochs : 499\n"
          ]
        },
        {
          "output_type": "stream",
          "name": "stderr",
          "text": [
            "100%|██████████| 20/20 [00:06<00:00,  3.23it/s]\n"
          ]
        },
        {
          "output_type": "stream",
          "name": "stdout",
          "text": [
            "Loss : 0.6091174483299255, Val Loss : 0.71160489320755 Acc : 0.7605025520219867, Val Acc : 0.6777777777777778\n",
            "Epochs : 500\n"
          ]
        },
        {
          "output_type": "stream",
          "name": "stderr",
          "text": [
            "100%|██████████| 20/20 [00:05<00:00,  3.34it/s]"
          ]
        },
        {
          "output_type": "stream",
          "name": "stdout",
          "text": [
            "Loss : 0.608747661113739, Val Loss : 0.7113251686096191 Acc : 0.7608951707891637, Val Acc : 0.6822222222222222\n"
          ]
        },
        {
          "output_type": "stream",
          "name": "stderr",
          "text": [
            "\n"
          ]
        }
      ]
    },
    {
      "cell_type": "markdown",
      "source": [
        "- Loss : 0.3686802387237549,\n",
        "- Val Loss : 0.40306156873703003\n",
        "- Acc : 0.8287721872329712,\n",
        "- Val Acc : 0.8287723660469055"
      ],
      "metadata": {
        "id": "sBmMfZPSxcuY"
      }
    },
    {
      "cell_type": "code",
      "source": [],
      "metadata": {
        "id": "SaxISw_O--nW"
      },
      "execution_count": null,
      "outputs": []
    },
    {
      "cell_type": "code",
      "source": [
        "import matplotlib.pyplot as plt\n",
        "x = [i for i in range(1, len(loss_history)+1)]\n",
        "x1 = [20*i for i in range(1, len(loss_history_epochs)+1)]\n",
        "fig = plt.figure(figsize=(20,5))\n",
        "\n",
        "plt.plot(x1, loss_history_epochs, color = '#ff0000', marker='o')\n",
        "plt.plot(x, loss_history, label = \"train\", color= '#20e658')\n",
        "plt.plot(x, val_loss_history, label = 'test', color = '#3954db')\n",
        "\n",
        "\n",
        "# plt.ylim(ymin=0.4,ymax=1.35)\n",
        "plt.xlabel(\"Epochs\")\n",
        "plt.ylabel(\"Loss\")\n",
        "plt.legend()\n",
        "plt.show()\n",
        "plt.savefig(BASE_PATH+\"loss.png\")"
      ],
      "metadata": {
        "id": "2Xquqxn_NTiw",
        "colab": {
          "base_uri": "https://localhost:8080/",
          "height": 352
        },
        "outputId": "21bb5e8a-bc38-4fe3-f726-e83eb21dc028"
      },
      "execution_count": null,
      "outputs": [
        {
          "output_type": "display_data",
          "data": {
            "text/plain": [
              "<Figure size 1440x360 with 1 Axes>"
            ],
            "image/png": "[encoded data removed]"
          },
          "metadata": {
            "needs_background": "light"
          }
        },
        {
          "output_type": "display_data",
          "data": {
            "text/plain": [
              "<Figure size 432x288 with 0 Axes>"
            ]
          },
          "metadata": {}
        }
      ]
    },
    {
      "cell_type": "code",
      "source": [
        "import matplotlib.pyplot as plt\n",
        "# x = [i for i in range(1, len(loss_history)+1)]\n",
        "x1 = [i for i in range(1, len(loss_history_epochs)+1)]\n",
        "fig = plt.figure(figsize=(20,5))\n",
        "\n",
        "plt.plot(x1, loss_history_epochs, color = '#ff0000')\n",
        "# plt.plot(x, loss_history, label = \"train\", color= '#a89deb')\n",
        "# plt.plot(x, val_loss_history, label = 'test', color = '#9debb3')\n",
        "# plt.ylim(ymin=0.4,ymax=1.35)\n",
        "plt.xlabel(\"Reactions\")\n",
        "plt.ylabel(\"Loss\")\n",
        "plt.legend()\n",
        "plt.show()\n",
        "plt.savefig(BASE_PATH+\"loss.png\")"
      ],
      "metadata": {
        "id": "HByPyyVFwU8Z",
        "colab": {
          "base_uri": "https://localhost:8080/",
          "height": 369
        },
        "outputId": "4caf8347-10e9-4936-9658-5961e6220cea"
      },
      "execution_count": null,
      "outputs": [
        {
          "output_type": "stream",
          "name": "stderr",
          "text": [
            "WARNING:matplotlib.legend:No handles with labels found to put in legend.\n"
          ]
        },
        {
          "output_type": "display_data",
          "data": {
            "text/plain": [
              "<Figure size 1440x360 with 1 Axes>"
            ],
            "image/png": "[encoded data removed]"
          },
          "metadata": {
            "needs_background": "light"
          }
        },
        {
          "output_type": "display_data",
          "data": {
            "text/plain": [
              "<Figure size 432x288 with 0 Axes>"
            ]
          },
          "metadata": {}
        }
      ]
    },
    {
      "cell_type": "code",
      "source": [
        "import matplotlib.pyplot as plt\n",
        "x = [i for i in range(1, len(loss_history)+1)]\n",
        "# x1 = [50*i for i in range(1, len(loss_history_epochs)+1)]\n",
        "fig = plt.figure(figsize=(20,5))\n",
        "\n",
        "# plt.plot(x1, loss_history_epochs, color = '#ff0000', marker='o')\n",
        "plt.plot(x, loss_history, label = \"train\", color= '#20e658')\n",
        "plt.plot(x, val_loss_history, label = 'test', color = '#3954db')\n",
        "# plt.ylim(ymin=0.4,ymax=1.35)\n",
        "plt.xlabel(\"Reactions\")\n",
        "plt.ylabel(\"Loss\")\n",
        "plt.legend()\n",
        "plt.show()\n",
        "plt.savefig(BASE_PATH+\"loss.png\")"
      ],
      "metadata": {
        "id": "5J-7VR4jwa9s",
        "colab": {
          "base_uri": "https://localhost:8080/",
          "height": 352
        },
        "outputId": "226e612d-48f6-4a60-e637-004d0f647441"
      },
      "execution_count": null,
      "outputs": [
        {
          "output_type": "display_data",
          "data": {
            "text/plain": [
              "<Figure size 1440x360 with 1 Axes>"
            ],
            "image/png": "[encoded data removed]"
          },
          "metadata": {
            "needs_background": "light"
          }
        },
        {
          "output_type": "display_data",
          "data": {
            "text/plain": [
              "<Figure size 432x288 with 0 Axes>"
            ]
          },
          "metadata": {}
        }
      ]
    },
    {
      "cell_type": "code",
      "source": [],
      "metadata": {
        "id": "761gpWAAYMDR"
      },
      "execution_count": null,
      "outputs": []
    },
    {
      "cell_type": "code",
      "source": [
        "import matplotlib.pyplot as plt\n",
        "x = [i for i in range(1, len(acc_history)+1)]\n",
        "x1 = [20*i for i in range(1, len(acc_history_epochs)+1)]\n",
        "\n",
        "fig = plt.figure(figsize=(20,5))\n",
        "\n",
        "plt.plot(x1, acc_history_epochs, color = '#ff0000')\n",
        "plt.plot(x, acc_history, label = \"train\", color= '#20e658')\n",
        "plt.plot(x, val_acc_history, label = 'test', color = '#3954db')\n",
        "# plt.ylim(ymin=0.2,ymax=0.85)\n",
        "plt.xlabel(\"Reactions\")\n",
        "plt.ylabel(\"Accuracy\")\n",
        "plt.legend()\n",
        "plt.show()\n",
        "plt.savefig(BASE_PATH+\"accuracy.png\")"
      ],
      "metadata": {
        "id": "2-cY3-LjXmbY",
        "colab": {
          "base_uri": "https://localhost:8080/",
          "height": 352
        },
        "outputId": "6db225cf-d64f-464a-fc9f-7d3f425539ad"
      },
      "execution_count": null,
      "outputs": [
        {
          "output_type": "display_data",
          "data": {
            "text/plain": [
              "<Figure size 1440x360 with 1 Axes>"
            ],
            "image/png": "[encoded data removed]"
          },
          "metadata": {
            "needs_background": "light"
          }
        },
        {
          "output_type": "display_data",
          "data": {
            "text/plain": [
              "<Figure size 432x288 with 0 Axes>"
            ]
          },
          "metadata": {}
        }
      ]
    },
    {
      "cell_type": "code",
      "source": [
        "import matplotlib.pyplot as plt\n",
        "# x = [i for i in range(1, len(acc_history)+1)]\n",
        "x1 = [i for i in range(1, len(acc_history_epochs)+1)]\n",
        "\n",
        "fig = plt.figure(figsize=(20,5))\n",
        "\n",
        "plt.plot(x1, acc_history_epochs, color = '#ff0000')\n",
        "# plt.plot(x, acc_history, label = \"train\", color= '#a89deb')\n",
        "# plt.plot(x, val_acc_history, label = 'test', color = '#9debb3')\n",
        "# plt.ylim(ymin=0.2,ymax=0.85)\n",
        "# plt.xlim(xmin=0,xmax=500)\n",
        "\n",
        "plt.xlabel(\"Epochs\")\n",
        "plt.ylabel(\"Accuracy\")\n",
        "plt.legend()\n",
        "plt.show()\n",
        "plt.savefig(BASE_PATH+\"accuracy.png\")"
      ],
      "metadata": {
        "id": "DmXEPjO3wjBG",
        "colab": {
          "base_uri": "https://localhost:8080/",
          "height": 369
        },
        "outputId": "c8df2f6f-356d-49dc-9a06-a78480cd48ef"
      },
      "execution_count": null,
      "outputs": [
        {
          "output_type": "stream",
          "name": "stderr",
          "text": [
            "WARNING:matplotlib.legend:No handles with labels found to put in legend.\n"
          ]
        },
        {
          "output_type": "display_data",
          "data": {
            "text/plain": [
              "<Figure size 1440x360 with 1 Axes>"
            ],
            "image/png": "[encoded data removed]"
          },
          "metadata": {
            "needs_background": "light"
          }
        },
        {
          "output_type": "display_data",
          "data": {
            "text/plain": [
              "<Figure size 432x288 with 0 Axes>"
            ]
          },
          "metadata": {}
        }
      ]
    },
    {
      "cell_type": "code",
      "source": [
        "import matplotlib.pyplot as plt\n",
        "x = [i for i in range(1, len(acc_history)+1)]\n",
        "# x1 = [50*i for i in range(1, len(acc_history_epochs)+1)]\n",
        "\n",
        "fig = plt.figure(figsize=(20,5))\n",
        "\n",
        "# plt.plot(x1, acc_history_epochs, color = '#ff0000', marker='o')\n",
        "plt.plot(x, acc_history, label = \"train\", color= '#20e658')\n",
        "plt.plot(x, val_acc_history, label = 'test', color = '#3954db')\n",
        "# plt.ylim(ymin=0.2,ymax=0.85)\n",
        "plt.xlabel(\"Epochs\")\n",
        "plt.ylabel(\"Accuracy\")\n",
        "plt.legend()\n",
        "plt.show()\n",
        "plt.savefig(BASE_PATH+\"accuracy.png\")"
      ],
      "metadata": {
        "id": "C1Y3sr3YwjGD",
        "colab": {
          "base_uri": "https://localhost:8080/",
          "height": 352
        },
        "outputId": "d14f4f25-478c-4ea9-cb9c-027a86d82276"
      },
      "execution_count": null,
      "outputs": [
        {
          "output_type": "display_data",
          "data": {
            "text/plain": [
              "<Figure size 1440x360 with 1 Axes>"
            ],
            "image/png": "[encoded data removed]"
          },
          "metadata": {
            "needs_background": "light"
          }
        },
        {
          "output_type": "display_data",
          "data": {
            "text/plain": [
              "<Figure size 432x288 with 0 Axes>"
            ]
          },
          "metadata": {}
        }
      ]
    },
    {
      "cell_type": "code",
      "source": [
        "best_acc_mole = molecule[0]\n",
        "best_loss_mole = molecule[0]\n",
        "for m in molecule:\n",
        "    print(m.PE.numpy(), m.acc, m.val_loss.numpy(), m.val_acc)\n",
        "    if m.PE < best_loss_mole.PE:\n",
        "        best_loss_mole = m\n",
        "    if m.acc > best_acc_mole.acc:\n",
        "        best_acc_mole = m"
      ],
      "metadata": {
        "id": "nHXPUL227hxa",
        "colab": {
          "base_uri": "https://localhost:8080/"
        },
        "outputId": "3cac5bea-3f95-4935-9b18-398fd4ffa84f"
      },
      "execution_count": null,
      "outputs": [
        {
          "output_type": "stream",
          "name": "stdout",
          "text": [
            "0.6260998 0.7357675696898311 0.72964805 0.6844444444444444\n",
            "0.6257906 0.7467608951707891 0.7399158 0.6644444444444444\n",
            "0.60874766 0.7608951707891637 0.71132517 0.6822222222222222\n",
            "0.6294661 0.7381232822928936 0.73471624 0.6755555555555556\n",
            "0.62922215 0.7495092265410287 0.7376714 0.6533333333333333\n",
            "0.6373276 0.7491166077738516 0.7476502 0.66\n",
            "0.62123 0.7467608951707891 0.72690874 0.6822222222222222\n",
            "0.6280324 0.7408716136631331 0.73101705 0.6733333333333333\n",
            "0.6170755 0.7522575579112681 0.72871983 0.68\n",
            "0.61767757 0.7546132705143306 0.73584 0.6688888888888889\n",
            "0.625143 0.7487239890066745 0.73526883 0.6777777777777778\n",
            "0.6348214 0.7369454259913624 0.7476414 0.6444444444444445\n",
            "0.6273599 0.7447978013349038 0.74901056 0.66\n",
            "0.6369593 0.7451904201020809 0.73430854 0.6733333333333333\n",
            "0.6089946 0.7581468394189242 0.71695256 0.6888888888888889\n",
            "0.6112247 0.7612877895563408 0.72376287 0.6866666666666666\n",
            "0.6249304 0.7491166077738516 0.7375715 0.6622222222222223\n",
            "0.62110656 0.7553985080486847 0.72989005 0.6688888888888889\n",
            "0.63372666 0.7451904201020809 0.73330945 0.6733333333333333\n",
            "0.62285644 0.7510797016097369 0.72140557 0.6711111111111111\n"
          ]
        }
      ]
    },
    {
      "cell_type": "code",
      "source": [
        "best_acc_mole.PE.numpy(), best_acc_mole.acc"
      ],
      "metadata": {
        "id": "stFmun4W7hz2",
        "colab": {
          "base_uri": "https://localhost:8080/"
        },
        "outputId": "64896f37-dcc8-48a9-ea24-b3d9d64ea290"
      },
      "execution_count": null,
      "outputs": [
        {
          "output_type": "execute_result",
          "data": {
            "text/plain": [
              "(0.6112247, 0.7612877895563408)"
            ]
          },
          "metadata": {},
          "execution_count": 34
        }
      ]
    },
    {
      "cell_type": "code",
      "source": [
        "best_loss_mole.PE.numpy(), best_loss_mole.acc"
      ],
      "metadata": {
        "id": "4LqsoJGc7h3k",
        "colab": {
          "base_uri": "https://localhost:8080/"
        },
        "outputId": "0766791b-35ad-4c51-d43e-d1de3154fc4a"
      },
      "execution_count": null,
      "outputs": [
        {
          "output_type": "execute_result",
          "data": {
            "text/plain": [
              "(0.60874766, 0.7608951707891637)"
            ]
          },
          "metadata": {},
          "execution_count": 35
        }
      ]
    },
    {
      "cell_type": "code",
      "source": [
        "!pip install tensorflow_addons"
      ],
      "metadata": {
        "id": "IJIqJwPa7h5u",
        "colab": {
          "base_uri": "https://localhost:8080/"
        },
        "outputId": "4b75a786-b951-4700-d419-290e85e1a1f0"
      },
      "execution_count": null,
      "outputs": [
        {
          "output_type": "stream",
          "name": "stdout",
          "text": [
            "Collecting tensorflow_addons\n",
            "  Downloading tensorflow_addons-0.16.1-cp37-cp37m-manylinux_2_12_x86_64.manylinux2010_x86_64.whl (1.1 MB)\n",
            "\u001b[?25l\r\u001b[K     |▎                               | 10 kB 26.5 MB/s eta 0:00:01\r\u001b[K     |▋                               | 20 kB 21.7 MB/s eta 0:00:01\r\u001b[K     |▉                               | 30 kB 10.7 MB/s eta 0:00:01\r\u001b[K     |█▏                              | 40 kB 8.7 MB/s eta 0:00:01\r\u001b[K     |█▌                              | 51 kB 4.5 MB/s eta 0:00:01\r\u001b[K     |█▊                              | 61 kB 5.3 MB/s eta 0:00:01\r\u001b[K     |██                              | 71 kB 5.3 MB/s eta 0:00:01\r\u001b[K     |██▍                             | 81 kB 5.4 MB/s eta 0:00:01\r\u001b[K     |██▋                             | 92 kB 6.1 MB/s eta 0:00:01\r\u001b[K     |███                             | 102 kB 5.1 MB/s eta 0:00:01\r\u001b[K     |███▏                            | 112 kB 5.1 MB/s eta 0:00:01\r\u001b[K     |███▌                            | 122 kB 5.1 MB/s eta 0:00:01\r\u001b[K     |███▉                            | 133 kB 5.1 MB/s eta 0:00:01\r\u001b[K     |████                            | 143 kB 5.1 MB/s eta 0:00:01\r\u001b[K     |████▍                           | 153 kB 5.1 MB/s eta 0:00:01\r\u001b[K     |████▊                           | 163 kB 5.1 MB/s eta 0:00:01\r\u001b[K     |█████                           | 174 kB 5.1 MB/s eta 0:00:01\r\u001b[K     |█████▎                          | 184 kB 5.1 MB/s eta 0:00:01\r\u001b[K     |█████▌                          | 194 kB 5.1 MB/s eta 0:00:01\r\u001b[K     |█████▉                          | 204 kB 5.1 MB/s eta 0:00:01\r\u001b[K     |██████▏                         | 215 kB 5.1 MB/s eta 0:00:01\r\u001b[K     |██████▍                         | 225 kB 5.1 MB/s eta 0:00:01\r\u001b[K     |██████▊                         | 235 kB 5.1 MB/s eta 0:00:01\r\u001b[K     |███████                         | 245 kB 5.1 MB/s eta 0:00:01\r\u001b[K     |███████▎                        | 256 kB 5.1 MB/s eta 0:00:01\r\u001b[K     |███████▋                        | 266 kB 5.1 MB/s eta 0:00:01\r\u001b[K     |███████▉                        | 276 kB 5.1 MB/s eta 0:00:01\r\u001b[K     |████████▏                       | 286 kB 5.1 MB/s eta 0:00:01\r\u001b[K     |████████▌                       | 296 kB 5.1 MB/s eta 0:00:01\r\u001b[K     |████████▊                       | 307 kB 5.1 MB/s eta 0:00:01\r\u001b[K     |█████████                       | 317 kB 5.1 MB/s eta 0:00:01\r\u001b[K     |█████████▍                      | 327 kB 5.1 MB/s eta 0:00:01\r\u001b[K     |█████████▋                      | 337 kB 5.1 MB/s eta 0:00:01\r\u001b[K     |██████████                      | 348 kB 5.1 MB/s eta 0:00:01\r\u001b[K     |██████████▏                     | 358 kB 5.1 MB/s eta 0:00:01\r\u001b[K     |██████████▌                     | 368 kB 5.1 MB/s eta 0:00:01\r\u001b[K     |██████████▉                     | 378 kB 5.1 MB/s eta 0:00:01\r\u001b[K     |███████████                     | 389 kB 5.1 MB/s eta 0:00:01\r\u001b[K     |███████████▍                    | 399 kB 5.1 MB/s eta 0:00:01\r\u001b[K     |███████████▊                    | 409 kB 5.1 MB/s eta 0:00:01\r\u001b[K     |████████████                    | 419 kB 5.1 MB/s eta 0:00:01\r\u001b[K     |████████████▎                   | 430 kB 5.1 MB/s eta 0:00:01\r\u001b[K     |████████████▌                   | 440 kB 5.1 MB/s eta 0:00:01\r\u001b[K     |████████████▉                   | 450 kB 5.1 MB/s eta 0:00:01\r\u001b[K     |█████████████▏                  | 460 kB 5.1 MB/s eta 0:00:01\r\u001b[K     |█████████████▍                  | 471 kB 5.1 MB/s eta 0:00:01\r\u001b[K     |█████████████▊                  | 481 kB 5.1 MB/s eta 0:00:01\r\u001b[K     |██████████████                  | 491 kB 5.1 MB/s eta 0:00:01\r\u001b[K     |██████████████▎                 | 501 kB 5.1 MB/s eta 0:00:01\r\u001b[K     |██████████████▋                 | 512 kB 5.1 MB/s eta 0:00:01\r\u001b[K     |██████████████▉                 | 522 kB 5.1 MB/s eta 0:00:01\r\u001b[K     |███████████████▏                | 532 kB 5.1 MB/s eta 0:00:01\r\u001b[K     |███████████████▌                | 542 kB 5.1 MB/s eta 0:00:01\r\u001b[K     |███████████████▊                | 552 kB 5.1 MB/s eta 0:00:01\r\u001b[K     |████████████████                | 563 kB 5.1 MB/s eta 0:00:01\r\u001b[K     |████████████████▍               | 573 kB 5.1 MB/s eta 0:00:01\r\u001b[K     |████████████████▋               | 583 kB 5.1 MB/s eta 0:00:01\r\u001b[K     |█████████████████               | 593 kB 5.1 MB/s eta 0:00:01\r\u001b[K     |█████████████████▏              | 604 kB 5.1 MB/s eta 0:00:01\r\u001b[K     |█████████████████▌              | 614 kB 5.1 MB/s eta 0:00:01\r\u001b[K     |█████████████████▉              | 624 kB 5.1 MB/s eta 0:00:01\r\u001b[K     |██████████████████              | 634 kB 5.1 MB/s eta 0:00:01\r\u001b[K     |██████████████████▍             | 645 kB 5.1 MB/s eta 0:00:01\r\u001b[K     |██████████████████▊             | 655 kB 5.1 MB/s eta 0:00:01\r\u001b[K     |███████████████████             | 665 kB 5.1 MB/s eta 0:00:01\r\u001b[K     |███████████████████▎            | 675 kB 5.1 MB/s eta 0:00:01\r\u001b[K     |███████████████████▌            | 686 kB 5.1 MB/s eta 0:00:01\r\u001b[K     |███████████████████▉            | 696 kB 5.1 MB/s eta 0:00:01\r\u001b[K     |████████████████████▏           | 706 kB 5.1 MB/s eta 0:00:01\r\u001b[K     |████████████████████▍           | 716 kB 5.1 MB/s eta 0:00:01\r\u001b[K     |████████████████████▊           | 727 kB 5.1 MB/s eta 0:00:01\r\u001b[K     |█████████████████████           | 737 kB 5.1 MB/s eta 0:00:01\r\u001b[K     |█████████████████████▎          | 747 kB 5.1 MB/s eta 0:00:01\r\u001b[K     |█████████████████████▋          | 757 kB 5.1 MB/s eta 0:00:01\r\u001b[K     |█████████████████████▉          | 768 kB 5.1 MB/s eta 0:00:01\r\u001b[K     |██████████████████████▏         | 778 kB 5.1 MB/s eta 0:00:01\r\u001b[K     |██████████████████████▌         | 788 kB 5.1 MB/s eta 0:00:01\r\u001b[K     |██████████████████████▊         | 798 kB 5.1 MB/s eta 0:00:01\r\u001b[K     |███████████████████████         | 808 kB 5.1 MB/s eta 0:00:01\r\u001b[K     |███████████████████████▍        | 819 kB 5.1 MB/s eta 0:00:01\r\u001b[K     |███████████████████████▋        | 829 kB 5.1 MB/s eta 0:00:01\r\u001b[K     |████████████████████████        | 839 kB 5.1 MB/s eta 0:00:01\r\u001b[K     |████████████████████████▏       | 849 kB 5.1 MB/s eta 0:00:01\r\u001b[K     |████████████████████████▌       | 860 kB 5.1 MB/s eta 0:00:01\r\u001b[K     |████████████████████████▉       | 870 kB 5.1 MB/s eta 0:00:01\r\u001b[K     |█████████████████████████       | 880 kB 5.1 MB/s eta 0:00:01\r\u001b[K     |█████████████████████████▍      | 890 kB 5.1 MB/s eta 0:00:01\r\u001b[K     |█████████████████████████▊      | 901 kB 5.1 MB/s eta 0:00:01\r\u001b[K     |██████████████████████████      | 911 kB 5.1 MB/s eta 0:00:01\r\u001b[K     |██████████████████████████▎     | 921 kB 5.1 MB/s eta 0:00:01\r\u001b[K     |██████████████████████████▌     | 931 kB 5.1 MB/s eta 0:00:01\r\u001b[K     |██████████████████████████▉     | 942 kB 5.1 MB/s eta 0:00:01\r\u001b[K     |███████████████████████████▏    | 952 kB 5.1 MB/s eta 0:00:01\r\u001b[K     |███████████████████████████▍    | 962 kB 5.1 MB/s eta 0:00:01\r\u001b[K     |███████████████████████████▊    | 972 kB 5.1 MB/s eta 0:00:01\r\u001b[K     |████████████████████████████    | 983 kB 5.1 MB/s eta 0:00:01\r\u001b[K     |████████████████████████████▎   | 993 kB 5.1 MB/s eta 0:00:01\r\u001b[K     |████████████████████████████▋   | 1.0 MB 5.1 MB/s eta 0:00:01\r\u001b[K     |████████████████████████████▉   | 1.0 MB 5.1 MB/s eta 0:00:01\r\u001b[K     |█████████████████████████████▏  | 1.0 MB 5.1 MB/s eta 0:00:01\r\u001b[K     |█████████████████████████████▌  | 1.0 MB 5.1 MB/s eta 0:00:01\r\u001b[K     |█████████████████████████████▊  | 1.0 MB 5.1 MB/s eta 0:00:01\r\u001b[K     |██████████████████████████████  | 1.1 MB 5.1 MB/s eta 0:00:01\r\u001b[K     |██████████████████████████████▍ | 1.1 MB 5.1 MB/s eta 0:00:01\r\u001b[K     |██████████████████████████████▋ | 1.1 MB 5.1 MB/s eta 0:00:01\r\u001b[K     |███████████████████████████████ | 1.1 MB 5.1 MB/s eta 0:00:01\r\u001b[K     |███████████████████████████████▏| 1.1 MB 5.1 MB/s eta 0:00:01\r\u001b[K     |███████████████████████████████▌| 1.1 MB 5.1 MB/s eta 0:00:01\r\u001b[K     |███████████████████████████████▉| 1.1 MB 5.1 MB/s eta 0:00:01\r\u001b[K     |████████████████████████████████| 1.1 MB 5.1 MB/s \n",
            "\u001b[?25hRequirement already satisfied: typeguard>=2.7 in /usr/local/lib/python3.7/dist-packages (from tensorflow_addons) (2.7.1)\n",
            "Installing collected packages: tensorflow-addons\n",
            "Successfully installed tensorflow-addons-0.16.1\n"
          ]
        }
      ]
    },
    {
      "cell_type": "code",
      "source": [
        "import tensorflow_addons as tfa"
      ],
      "metadata": {
        "id": "WT-4VZot7h9T"
      },
      "execution_count": null,
      "outputs": []
    },
    {
      "cell_type": "code",
      "source": [
        "def best_loss_molecule():\n",
        "    bm = molecule[0]\n",
        "    for m in molecule:\n",
        "        if m.PE < bm.PE:\n",
        "            bm = m\n",
        "    return bm\n"
      ],
      "metadata": {
        "id": "nvCbl8dzRdts"
      },
      "execution_count": null,
      "outputs": []
    },
    {
      "cell_type": "code",
      "source": [
        "from sklearn.metrics import confusion_matrix\n",
        "from sklearn.metrics import precision_score\n",
        "from sklearn.metrics import recall_score\n",
        "from sklearn.metrics import f1_score\n",
        "from sklearn.metrics import cohen_kappa_score\n",
        "from sklearn.metrics import accuracy_score\n",
        "from sklearn.metrics import log_loss"
      ],
      "metadata": {
        "id": "ddO0a-z_OGzn"
      },
      "execution_count": null,
      "outputs": []
    },
    {
      "cell_type": "code",
      "source": [],
      "metadata": {
        "id": "Wgr8CQq-II-t"
      },
      "execution_count": null,
      "outputs": []
    },
    {
      "cell_type": "code",
      "source": [
        "import tensorflow_addons as tfa\n",
        "\n",
        "train_y_one_hot = np.zeros((train_y.size, 3))\n",
        "train_y_one_hot[np.arange(train_y.size),train_y] = 1\n",
        "\n",
        "test_y_one_hot = np.zeros((test_y.size, 3))\n",
        "test_y_one_hot[np.arange(test_y.size),test_y] = 1"
      ],
      "metadata": {
        "id": "EaRMhvpxIJD6"
      },
      "execution_count": null,
      "outputs": []
    },
    {
      "cell_type": "code",
      "source": [
        "#Training Data\n",
        "def train_metrics_calculator(final_molecule):\n",
        "    f1_metric = tfa.metrics.F1Score(num_classes=3)\n",
        "    ck_metric = tfa.metrics.CohenKappa(num_classes=3, sparse_labels=True)\n",
        "    finetune_model.set_weights(weights=final_molecule.weights)\n",
        "    logits = finetune_model(train_x)\n",
        "    f1_metric.update_state(train_y_one_hot, logits)\n",
        "    f1_result = f1_metric.result()\n",
        "\n",
        "    ck_metric.update_state(train_y , np.argmax(logits, axis = 1))\n",
        "    ck_result = ck_metric.result()\n",
        "\n",
        "    print(f1_result.numpy())\n",
        "    print(ck_result.numpy())"
      ],
      "metadata": {
        "id": "nzxaeL7xRUIO"
      },
      "execution_count": null,
      "outputs": []
    },
    {
      "cell_type": "code",
      "source": [
        "def test_metrics_calculator(final_molecule):\n",
        "    f1_metric_test = tfa.metrics.F1Score(num_classes=3)\n",
        "    ck_metric_test = tfa.metrics.CohenKappa(num_classes=3, sparse_labels=True)\n",
        "\n",
        "    finetune_model.set_weights(weights=final_molecule.weights)\n",
        "    logits_test = finetune_model(test_x)\n",
        "    f1_metric_test.update_state(test_y_one_hot, logits_test)\n",
        "    f1_result_test = f1_metric_test.result()\n",
        "\n",
        "    ck_metric_test.update_state(test_y , np.argmax(logits_test, axis = 1))\n",
        "    ck_result_test = ck_metric_test.result()\n",
        "\n",
        "    print(f1_result_test.numpy())\n",
        "    print(ck_result_test.numpy())"
      ],
      "metadata": {
        "id": "mOWPJZfoRUKt"
      },
      "execution_count": null,
      "outputs": []
    },
    {
      "cell_type": "code",
      "source": [
        "m = best_loss_molecule()\n",
        "train_metrics_calculator(m)"
      ],
      "metadata": {
        "colab": {
          "base_uri": "https://localhost:8080/"
        },
        "id": "6b8GyU7B_83j",
        "outputId": "764a757a-590c-4f29-b947-cf04bac7020a"
      },
      "execution_count": null,
      "outputs": [
        {
          "output_type": "stream",
          "name": "stdout",
          "text": [
            "[0.8180282  0.70638824 0.7534003 ]\n",
            "0.64127153\n"
          ]
        }
      ]
    },
    {
      "cell_type": "code",
      "source": [
        "test_metrics_calculator(m)"
      ],
      "metadata": {
        "colab": {
          "base_uri": "https://localhost:8080/"
        },
        "id": "OhsiO1GqXuzF",
        "outputId": "98568923-4509-4b95-9443-515510757c92"
      },
      "execution_count": null,
      "outputs": [
        {
          "output_type": "stream",
          "name": "stdout",
          "text": [
            "[0.7409836 0.6006826 0.7019868]\n",
            "0.5239222\n"
          ]
        }
      ]
    },
    {
      "cell_type": "code",
      "source": [
        "finetune_model.set_weights(weights=m.weights)\n",
        "logits = finetune_model(train_x)\n",
        "y_pred = np.argmax(logits, axis = 1)\n",
        "from sklearn.metrics import confusion_matrix\n",
        "print(confusion_matrix(train_y, y_pred))\n",
        "\n",
        "import seaborn as sns\n",
        "sns.heatmap(confusion_matrix(train_y, y_pred, normalize='true'), cmap='Blues',annot=True)"
      ],
      "metadata": {
        "id": "buihJ1blTICa",
        "colab": {
          "base_uri": "https://localhost:8080/",
          "height": 336
        },
        "outputId": "ebec6fb6-2e22-4852-ee3d-96a0c5232a5f"
      },
      "execution_count": null,
      "outputs": [
        {
          "output_type": "stream",
          "name": "stdout",
          "text": [
            "[[726  71  58]\n",
            " [121 575 146]\n",
            " [ 73 140 637]]\n"
          ]
        },
        {
          "output_type": "execute_result",
          "data": {
            "text/plain": [
              "<matplotlib.axes._subplots.AxesSubplot at 0x7fd83024ff90>"
            ]
          },
          "metadata": {},
          "execution_count": 45
        },
        {
          "output_type": "display_data",
          "data": {
            "text/plain": [
              "<Figure size 432x288 with 2 Axes>"
            ],
            "image/png": "[encoded data removed]"
          },
          "metadata": {
            "needs_background": "light"
          }
        }
      ]
    },
    {
      "cell_type": "code",
      "source": [
        "finetune_model.set_weights(weights=m.weights)\n",
        "logits = finetune_model(test_x)\n",
        "y_pred = np.argmax(logits, axis = 1)\n",
        "from sklearn.metrics import confusion_matrix\n",
        "print(confusion_matrix(test_y, y_pred))\n",
        "\n",
        "import seaborn as sns\n",
        "sns.heatmap(confusion_matrix(test_y, y_pred, normalize='true'), cmap='Blues',annot=True)"
      ],
      "metadata": {
        "id": "YGaWCbt9TNxr",
        "colab": {
          "base_uri": "https://localhost:8080/",
          "height": 336
        },
        "outputId": "7031f479-4db0-4c1e-8778-1aa6ebb437a6"
      },
      "execution_count": null,
      "outputs": [
        {
          "output_type": "stream",
          "name": "stdout",
          "text": [
            "[[113  20  11]\n",
            " [ 33  88  36]\n",
            " [ 15  28 106]]\n"
          ]
        },
        {
          "output_type": "execute_result",
          "data": {
            "text/plain": [
              "<matplotlib.axes._subplots.AxesSubplot at 0x7fd82b582390>"
            ]
          },
          "metadata": {},
          "execution_count": 46
        },
        {
          "output_type": "display_data",
          "data": {
            "text/plain": [
              "<Figure size 432x288 with 2 Axes>"
            ],
            "image/png": "[encoded data removed]"
          },
          "metadata": {
            "needs_background": "light"
          }
        }
      ]
    },
    {
      "cell_type": "code",
      "source": [
        "def metrics_calculator(final_molecule):\n",
        "    train_y_one_hot = np.zeros((data_y_model2.size, 3))\n",
        "    train_y_one_hot[np.arange(data_y_model2.size),data_y_model2] = 1\n",
        "\n",
        "    f1_metric = tfa.metrics.F1Score(num_classes=3)\n",
        "    ck_metric = tfa.metrics.CohenKappa(num_classes=3, sparse_labels=True)\n",
        "    finetune_model.set_weights(weights=final_molecule.weights)\n",
        "    logits = finetune_model(data_x_model2)\n",
        "    f1_metric.update_state(train_y_one_hot, logits)\n",
        "    f1_result = f1_metric.result()\n",
        "\n",
        "    ck_metric.update_state(data_y_model2 , np.argmax(logits, axis = 1))\n",
        "    ck_result = ck_metric.result()\n",
        "\n",
        "    print(f1_result.numpy())\n",
        "    print(ck_result.numpy())"
      ],
      "metadata": {
        "id": "Mmswqe4LeDh3"
      },
      "execution_count": null,
      "outputs": []
    },
    {
      "cell_type": "code",
      "source": [
        "metrics_calculator(m)"
      ],
      "metadata": {
        "colab": {
          "base_uri": "https://localhost:8080/"
        },
        "id": "pWvk6y1QeDkQ",
        "outputId": "e01ce366-f767-42d0-bffb-c2e4d9c9d9de"
      },
      "execution_count": null,
      "outputs": [
        {
          "output_type": "stream",
          "name": "stdout",
          "text": [
            "[0.68720376 0.7487296  0.5638149 ]\n",
            "0.5004997\n"
          ]
        }
      ]
    },
    {
      "cell_type": "code",
      "source": [
        "finetune_model.set_weights(weights=m.weights)\n",
        "logits = finetune_model(data_x_model2)\n",
        "y_pred = np.argmax(logits, axis = 1)\n",
        "from sklearn.metrics import confusion_matrix\n",
        "print(confusion_matrix(data_y_model2, y_pred))\n",
        "print(cohen_kappa_score(data_y_model2, y_pred))\n",
        "\n",
        "import seaborn as sns\n",
        "sns.heatmap(confusion_matrix(data_y_model2, y_pred, normalize='true'), cmap='Blues',annot=True)"
      ],
      "metadata": {
        "colab": {
          "base_uri": "https://localhost:8080/",
          "height": 354
        },
        "id": "z1sN-mN5eDm7",
        "outputId": "9d24bfaf-6fff-44be-f803-868845c40828"
      },
      "execution_count": null,
      "outputs": [
        {
          "output_type": "stream",
          "name": "stdout",
          "text": [
            "[[290  45  35]\n",
            " [154 663 182]\n",
            " [ 30  64 201]]\n",
            "0.5004997121799105\n"
          ]
        },
        {
          "output_type": "execute_result",
          "data": {
            "text/plain": [
              "<matplotlib.axes._subplots.AxesSubplot at 0x7fd82a8803d0>"
            ]
          },
          "metadata": {},
          "execution_count": 54
        },
        {
          "output_type": "display_data",
          "data": {
            "text/plain": [
              "<Figure size 432x288 with 2 Axes>"
            ],
            "image/png": "[encoded data removed]"
          },
          "metadata": {
            "needs_background": "light"
          }
        }
      ]
    },
    {
      "cell_type": "code",
      "source": [],
      "metadata": {
        "id": "cfdlLmtteDtq"
      },
      "execution_count": null,
      "outputs": []
    },
    {
      "cell_type": "code",
      "source": [
        "save_molecules(molecule, \"model2_cro_molecule_weights_20_500\")"
      ],
      "metadata": {
        "id": "rdKeNNMB430q"
      },
      "execution_count": null,
      "outputs": []
    },
    {
      "cell_type": "code",
      "source": [
        "histories = BASE_PATH + \"model2_history_20_500\"\n",
        "with open(histories, 'wb') as f:\n",
        "    pickle.dump(loss_history, f)\n",
        "    pickle.dump(loss_history_epochs, f)\n",
        "    pickle.dump(acc_history, f)\n",
        "    pickle.dump(acc_history_epochs, f)\n",
        "    pickle.dump(val_loss_history, f)\n",
        "    pickle.dump(val_loss_history_epochs, f)\n",
        "    pickle.dump(val_acc_history, f)\n",
        "    pickle.dump(val_acc_history_epochs, f)"
      ],
      "metadata": {
        "id": "s-yXyKL-uhw5"
      },
      "execution_count": null,
      "outputs": []
    },
    {
      "cell_type": "code",
      "source": [],
      "metadata": {
        "id": "g3hEwucN9JM3"
      },
      "execution_count": null,
      "outputs": []
    },
    {
      "cell_type": "code",
      "source": [],
      "metadata": {
        "id": "5MmLh0-790vI"
      },
      "execution_count": null,
      "outputs": []
    },
    {
      "cell_type": "code",
      "source": [],
      "metadata": {
        "id": "C5fKAvjpTGhq"
      },
      "execution_count": null,
      "outputs": []
    },
    {
      "cell_type": "code",
      "source": [],
      "metadata": {
        "id": "OdIbxSxkTLyw"
      },
      "execution_count": null,
      "outputs": []
    }
  ]
}