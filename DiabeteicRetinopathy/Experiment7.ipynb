{
  "cells": [
    {
      "cell_type": "code",
      "execution_count": null,
      "metadata": {
        "colab": {
          "base_uri": "https://localhost:8080/"
        },
        "id": "woeX8vhsL1Fz",
        "outputId": "0808c36a-390c-4bb7-c974-3d051e0e3632"
      },
      "outputs": [
        {
          "name": "stdout",
          "output_type": "stream",
          "text": [
            "Mounted at /content/gdrive\n"
          ]
        }
      ],
      "source": [
        "from google.colab import drive\n",
        "drive.mount('/content/gdrive')"
      ]
    },
    {
      "cell_type": "code",
      "execution_count": null,
      "metadata": {
        "colab": {
          "base_uri": "https://localhost:8080/"
        },
        "id": "gyHgS_luUAiO",
        "outputId": "e6703c0d-0ca7-4c32-acb7-f6205a728fe9"
      },
      "outputs": [
        {
          "name": "stdout",
          "output_type": "stream",
          "text": [
            "Collecting tensorflow_addons\n",
            "  Downloading tensorflow_addons-0.16.1-cp37-cp37m-manylinux_2_12_x86_64.manylinux2010_x86_64.whl (1.1 MB)\n",
            "\u001b[?25l\r\u001b[K     |▎                               | 10 kB 24.5 MB/s eta 0:00:01\r\u001b[K     |▋                               | 20 kB 22.7 MB/s eta 0:00:01\r\u001b[K     |▉                               | 30 kB 17.1 MB/s eta 0:00:01\r\u001b[K     |█▏                              | 40 kB 15.0 MB/s eta 0:00:01\r\u001b[K     |█▌                              | 51 kB 7.4 MB/s eta 0:00:01\r\u001b[K     |█▊                              | 61 kB 8.7 MB/s eta 0:00:01\r\u001b[K     |██                              | 71 kB 9.7 MB/s eta 0:00:01\r\u001b[K     |██▍                             | 81 kB 8.9 MB/s eta 0:00:01\r\u001b[K     |██▋                             | 92 kB 9.9 MB/s eta 0:00:01\r\u001b[K     |███                             | 102 kB 8.2 MB/s eta 0:00:01\r\u001b[K     |███▏                            | 112 kB 8.2 MB/s eta 0:00:01\r\u001b[K     |███▌                            | 122 kB 8.2 MB/s eta 0:00:01\r\u001b[K     |███▉                            | 133 kB 8.2 MB/s eta 0:00:01\r\u001b[K     |████                            | 143 kB 8.2 MB/s eta 0:00:01\r\u001b[K     |████▍                           | 153 kB 8.2 MB/s eta 0:00:01\r\u001b[K     |████▊                           | 163 kB 8.2 MB/s eta 0:00:01\r\u001b[K     |█████                           | 174 kB 8.2 MB/s eta 0:00:01\r\u001b[K     |█████▎                          | 184 kB 8.2 MB/s eta 0:00:01\r\u001b[K     |█████▌                          | 194 kB 8.2 MB/s eta 0:00:01\r\u001b[K     |█████▉                          | 204 kB 8.2 MB/s eta 0:00:01\r\u001b[K     |██████▏                         | 215 kB 8.2 MB/s eta 0:00:01\r\u001b[K     |██████▍                         | 225 kB 8.2 MB/s eta 0:00:01\r\u001b[K     |██████▊                         | 235 kB 8.2 MB/s eta 0:00:01\r\u001b[K     |███████                         | 245 kB 8.2 MB/s eta 0:00:01\r\u001b[K     |███████▎                        | 256 kB 8.2 MB/s eta 0:00:01\r\u001b[K     |███████▋                        | 266 kB 8.2 MB/s eta 0:00:01\r\u001b[K     |███████▉                        | 276 kB 8.2 MB/s eta 0:00:01\r\u001b[K     |████████▏                       | 286 kB 8.2 MB/s eta 0:00:01\r\u001b[K     |████████▌                       | 296 kB 8.2 MB/s eta 0:00:01\r\u001b[K     |████████▊                       | 307 kB 8.2 MB/s eta 0:00:01\r\u001b[K     |█████████                       | 317 kB 8.2 MB/s eta 0:00:01\r\u001b[K     |█████████▍                      | 327 kB 8.2 MB/s eta 0:00:01\r\u001b[K     |█████████▋                      | 337 kB 8.2 MB/s eta 0:00:01\r\u001b[K     |██████████                      | 348 kB 8.2 MB/s eta 0:00:01\r\u001b[K     |██████████▏                     | 358 kB 8.2 MB/s eta 0:00:01\r\u001b[K     |██████████▌                     | 368 kB 8.2 MB/s eta 0:00:01\r\u001b[K     |██████████▉                     | 378 kB 8.2 MB/s eta 0:00:01\r\u001b[K     |███████████                     | 389 kB 8.2 MB/s eta 0:00:01\r\u001b[K     |███████████▍                    | 399 kB 8.2 MB/s eta 0:00:01\r\u001b[K     |███████████▊                    | 409 kB 8.2 MB/s eta 0:00:01\r\u001b[K     |████████████                    | 419 kB 8.2 MB/s eta 0:00:01\r\u001b[K     |████████████▎                   | 430 kB 8.2 MB/s eta 0:00:01\r\u001b[K     |████████████▌                   | 440 kB 8.2 MB/s eta 0:00:01\r\u001b[K     |████████████▉                   | 450 kB 8.2 MB/s eta 0:00:01\r\u001b[K     |█████████████▏                  | 460 kB 8.2 MB/s eta 0:00:01\r\u001b[K     |█████████████▍                  | 471 kB 8.2 MB/s eta 0:00:01\r\u001b[K     |█████████████▊                  | 481 kB 8.2 MB/s eta 0:00:01\r\u001b[K     |██████████████                  | 491 kB 8.2 MB/s eta 0:00:01\r\u001b[K     |██████████████▎                 | 501 kB 8.2 MB/s eta 0:00:01\r\u001b[K     |██████████████▋                 | 512 kB 8.2 MB/s eta 0:00:01\r\u001b[K     |██████████████▉                 | 522 kB 8.2 MB/s eta 0:00:01\r\u001b[K     |███████████████▏                | 532 kB 8.2 MB/s eta 0:00:01\r\u001b[K     |███████████████▌                | 542 kB 8.2 MB/s eta 0:00:01\r\u001b[K     |███████████████▊                | 552 kB 8.2 MB/s eta 0:00:01\r\u001b[K     |████████████████                | 563 kB 8.2 MB/s eta 0:00:01\r\u001b[K     |████████████████▍               | 573 kB 8.2 MB/s eta 0:00:01\r\u001b[K     |████████████████▋               | 583 kB 8.2 MB/s eta 0:00:01\r\u001b[K     |█████████████████               | 593 kB 8.2 MB/s eta 0:00:01\r\u001b[K     |█████████████████▏              | 604 kB 8.2 MB/s eta 0:00:01\r\u001b[K     |█████████████████▌              | 614 kB 8.2 MB/s eta 0:00:01\r\u001b[K     |█████████████████▉              | 624 kB 8.2 MB/s eta 0:00:01\r\u001b[K     |██████████████████              | 634 kB 8.2 MB/s eta 0:00:01\r\u001b[K     |██████████████████▍             | 645 kB 8.2 MB/s eta 0:00:01\r\u001b[K     |██████████████████▊             | 655 kB 8.2 MB/s eta 0:00:01\r\u001b[K     |███████████████████             | 665 kB 8.2 MB/s eta 0:00:01\r\u001b[K     |███████████████████▎            | 675 kB 8.2 MB/s eta 0:00:01\r\u001b[K     |███████████████████▌            | 686 kB 8.2 MB/s eta 0:00:01\r\u001b[K     |███████████████████▉            | 696 kB 8.2 MB/s eta 0:00:01\r\u001b[K     |████████████████████▏           | 706 kB 8.2 MB/s eta 0:00:01\r\u001b[K     |████████████████████▍           | 716 kB 8.2 MB/s eta 0:00:01\r\u001b[K     |████████████████████▊           | 727 kB 8.2 MB/s eta 0:00:01\r\u001b[K     |█████████████████████           | 737 kB 8.2 MB/s eta 0:00:01\r\u001b[K     |█████████████████████▎          | 747 kB 8.2 MB/s eta 0:00:01\r\u001b[K     |█████████████████████▋          | 757 kB 8.2 MB/s eta 0:00:01\r\u001b[K     |█████████████████████▉          | 768 kB 8.2 MB/s eta 0:00:01\r\u001b[K     |██████████████████████▏         | 778 kB 8.2 MB/s eta 0:00:01\r\u001b[K     |██████████████████████▌         | 788 kB 8.2 MB/s eta 0:00:01\r\u001b[K     |██████████████████████▊         | 798 kB 8.2 MB/s eta 0:00:01\r\u001b[K     |███████████████████████         | 808 kB 8.2 MB/s eta 0:00:01\r\u001b[K     |███████████████████████▍        | 819 kB 8.2 MB/s eta 0:00:01\r\u001b[K     |███████████████████████▋        | 829 kB 8.2 MB/s eta 0:00:01\r\u001b[K     |████████████████████████        | 839 kB 8.2 MB/s eta 0:00:01\r\u001b[K     |████████████████████████▏       | 849 kB 8.2 MB/s eta 0:00:01\r\u001b[K     |████████████████████████▌       | 860 kB 8.2 MB/s eta 0:00:01\r\u001b[K     |████████████████████████▉       | 870 kB 8.2 MB/s eta 0:00:01\r\u001b[K     |█████████████████████████       | 880 kB 8.2 MB/s eta 0:00:01\r\u001b[K     |█████████████████████████▍      | 890 kB 8.2 MB/s eta 0:00:01\r\u001b[K     |█████████████████████████▊      | 901 kB 8.2 MB/s eta 0:00:01\r\u001b[K     |██████████████████████████      | 911 kB 8.2 MB/s eta 0:00:01\r\u001b[K     |██████████████████████████▎     | 921 kB 8.2 MB/s eta 0:00:01\r\u001b[K     |██████████████████████████▌     | 931 kB 8.2 MB/s eta 0:00:01\r\u001b[K     |██████████████████████████▉     | 942 kB 8.2 MB/s eta 0:00:01\r\u001b[K     |███████████████████████████▏    | 952 kB 8.2 MB/s eta 0:00:01\r\u001b[K     |███████████████████████████▍    | 962 kB 8.2 MB/s eta 0:00:01\r\u001b[K     |███████████████████████████▊    | 972 kB 8.2 MB/s eta 0:00:01\r\u001b[K     |████████████████████████████    | 983 kB 8.2 MB/s eta 0:00:01\r\u001b[K     |████████████████████████████▎   | 993 kB 8.2 MB/s eta 0:00:01\r\u001b[K     |████████████████████████████▋   | 1.0 MB 8.2 MB/s eta 0:00:01\r\u001b[K     |████████████████████████████▉   | 1.0 MB 8.2 MB/s eta 0:00:01\r\u001b[K     |█████████████████████████████▏  | 1.0 MB 8.2 MB/s eta 0:00:01\r\u001b[K     |█████████████████████████████▌  | 1.0 MB 8.2 MB/s eta 0:00:01\r\u001b[K     |█████████████████████████████▊  | 1.0 MB 8.2 MB/s eta 0:00:01\r\u001b[K     |██████████████████████████████  | 1.1 MB 8.2 MB/s eta 0:00:01\r\u001b[K     |██████████████████████████████▍ | 1.1 MB 8.2 MB/s eta 0:00:01\r\u001b[K     |██████████████████████████████▋ | 1.1 MB 8.2 MB/s eta 0:00:01\r\u001b[K     |███████████████████████████████ | 1.1 MB 8.2 MB/s eta 0:00:01\r\u001b[K     |███████████████████████████████▏| 1.1 MB 8.2 MB/s eta 0:00:01\r\u001b[K     |███████████████████████████████▌| 1.1 MB 8.2 MB/s eta 0:00:01\r\u001b[K     |███████████████████████████████▉| 1.1 MB 8.2 MB/s eta 0:00:01\r\u001b[K     |████████████████████████████████| 1.1 MB 8.2 MB/s \n",
            "\u001b[?25hRequirement already satisfied: typeguard>=2.7 in /usr/local/lib/python3.7/dist-packages (from tensorflow_addons) (2.7.1)\n",
            "Installing collected packages: tensorflow-addons\n",
            "Successfully installed tensorflow-addons-0.16.1\n"
          ]
        }
      ],
      "source": [
        "!pip install tensorflow_addons"
      ]
    },
    {
      "cell_type": "code",
      "execution_count": null,
      "metadata": {
        "id": "dJSp8QqML7Qj"
      },
      "outputs": [],
      "source": [
        "import matplotlib.pyplot as plt\n",
        "import numpy as np\n",
        "import pandas as pd\n",
        "import tensorflow as tf\n",
        "import tensorflow.keras as keras\n",
        "import os\n",
        "import gc\n",
        "# from keras.applications import DenseNet121\n",
        "from tensorflow.keras.models import Model\n",
        "# from tensorflow.keras import Input\n",
        "from keras.models import Sequential\n",
        "from keras.layers import Dense, Dropout, Flatten, GlobalAveragePooling2D, Lambda, BatchNormalization\n",
        "from tensorflow.keras import backend as K\n",
        "from keras.preprocessing.image import ImageDataGenerator\n",
        "from sklearn.model_selection import train_test_split\n",
        "\n",
        "from tensorflow.keras.preprocessing.image import ImageDataGenerator,img_to_array\n",
        "import os\n",
        "import cv2\n",
        "from tqdm import tqdm\n",
        "from sklearn.preprocessing import LabelBinarizer\n",
        "import tensorflow_addons as tfa\n",
        "\n",
        "import logging\n",
        "import pickle\n"
      ]
    },
    {
      "cell_type": "code",
      "execution_count": null,
      "metadata": {
        "id": "4wNmtXQEMDVd"
      },
      "outputs": [],
      "source": [
        "BASE_PATH = \"/content/gdrive/MyDrive/KaggleDataBTP/gaussian_filtered_images/\""
      ]
    },
    {
      "cell_type": "code",
      "execution_count": null,
      "metadata": {
        "id": "bNpOqfga_lUx"
      },
      "outputs": [],
      "source": [
        "# logging.basicConfig(filename = \"cro.log\", level=logging.DEBUG, filemode='w+', format='%(name)s - %(levelname)s - %(message)s')"
      ]
    },
    {
      "cell_type": "code",
      "execution_count": null,
      "metadata": {
        "id": "y4ZHMop3MGbM"
      },
      "outputs": [],
      "source": [
        "def recall_m(y_true, y_pred):\n",
        "  true_positives = K.sum(K.round(K.clip(y_true * y_pred, 0, 1)))\n",
        "  possible_positives = K.sum(K.round(K.clip(y_true, 0, 1)))\n",
        "  recall = true_positives / (possible_positives + K.epsilon())\n",
        "  return recall\n",
        "\n",
        "def precision_m(y_true, y_pred):\n",
        "  true_positives = K.sum(K.round(K.clip(y_true * y_pred, 0, 1)))\n",
        "  predicted_positives = K.sum(K.round(K.clip(y_pred, 0, 1)))\n",
        "  precision = true_positives / (predicted_positives + K.epsilon())\n",
        "  return precision\n",
        "\n",
        "def f1_m(y_true, y_pred):\n",
        "  precision = precision_m(y_true, y_pred)\n",
        "  recall = recall_m(y_true, y_pred)\n",
        "  return 2*((precision*recall)/(precision+recall+K.epsilon()))"
      ]
    },
    {
      "cell_type": "code",
      "execution_count": null,
      "metadata": {
        "id": "3i7lQ9sAMJgp"
      },
      "outputs": [],
      "source": [
        "def buildfinetunemodel():\n",
        "    input = tf.keras.Input(shape=1024)\n",
        "    x = tf.keras.layers.Dropout(0.5)(input)\n",
        "    x= tf.keras.layers.Dense(1024,activation='relu')(x)\n",
        "    x= tf.keras.layers.Dropout(0.5)(x)\n",
        "    x= tf.keras.layers.Dense(1024,activation='relu')(x)\n",
        "    output=tf.keras.layers.Dense(4,activation='softmax')(x)\n",
        "    finetune_model = tf.keras.Model(input, output)\n",
        "    finetune_model.compile(loss='categorical_crossentropy',\n",
        "                metrics=['accuracy', f1_m])\n",
        "\n",
        "\n",
        "    return finetune_model"
      ]
    },
    {
      "cell_type": "code",
      "execution_count": null,
      "metadata": {
        "colab": {
          "base_uri": "https://localhost:8080/"
        },
        "id": "njNZVdbGMNZ3",
        "outputId": "528ba165-7b0b-4571-82af-028a049be3ac"
      },
      "outputs": [
        {
          "name": "stdout",
          "output_type": "stream",
          "text": [
            "Model: \"model\"\n",
            "_________________________________________________________________\n",
            " Layer (type)                Output Shape              Param #   \n",
            "=================================================================\n",
            " input_1 (InputLayer)        [(None, 1024)]            0         \n",
            "                                                                 \n",
            " dropout (Dropout)           (None, 1024)              0         \n",
            "                                                                 \n",
            " dense (Dense)               (None, 1024)              1049600   \n",
            "                                                                 \n",
            " dropout_1 (Dropout)         (None, 1024)              0         \n",
            "                                                                 \n",
            " dense_1 (Dense)             (None, 1024)              1049600   \n",
            "                                                                 \n",
            " dense_2 (Dense)             (None, 4)                 4100      \n",
            "                                                                 \n",
            "=================================================================\n",
            "Total params: 2,103,300\n",
            "Trainable params: 2,103,300\n",
            "Non-trainable params: 0\n",
            "_________________________________________________________________\n"
          ]
        }
      ],
      "source": [
        "finetune_model = buildfinetunemodel()\n",
        "finetune_model.summary()"
      ]
    },
    {
      "cell_type": "code",
      "execution_count": null,
      "metadata": {
        "colab": {
          "base_uri": "https://localhost:8080/"
        },
        "id": "M5zrvqW9MPcg",
        "outputId": "45abb09b-1571-4b00-fdd4-d18c15cd861a"
      },
      "outputs": [
        {
          "name": "stdout",
          "output_type": "stream",
          "text": [
            "(2948, 1024)\n",
            "(2948,)\n",
            "(521, 1024)\n",
            "(521,)\n"
          ]
        }
      ],
      "source": [
        "data_x = np.load(BASE_PATH + \"data_x.npy\")\n",
        "data_y = np.load(BASE_PATH + \"data_y.npy\")\n",
        "train_x, test_x, train_y, test_y = train_test_split(data_x, data_y, test_size = 0.15)\n",
        "print(train_x.shape)\n",
        "print(train_y.shape)\n",
        "print(test_x.shape)\n",
        "print(test_y.shape)"
      ]
    },
    {
      "cell_type": "code",
      "execution_count": null,
      "metadata": {
        "id": "eEJsvjZiVhXG"
      },
      "outputs": [],
      "source": []
    },
    {
      "cell_type": "code",
      "execution_count": null,
      "metadata": {
        "colab": {
          "base_uri": "https://localhost:8080/"
        },
        "id": "hdiWztPvU6BU",
        "outputId": "c9e365ad-185e-4b68-fead-4c97cd627191"
      },
      "outputs": [
        {
          "data": {
            "text/plain": [
              "array([[1., 0., 0., 0.],\n",
              "       [1., 0., 0., 0.],\n",
              "       [1., 0., 0., 0.],\n",
              "       ...,\n",
              "       [1., 0., 0., 0.],\n",
              "       [0., 0., 0., 1.],\n",
              "       [1., 0., 0., 0.]])"
            ]
          },
          "execution_count": 10,
          "metadata": {},
          "output_type": "execute_result"
        }
      ],
      "source": [
        "train_y_one_hot = np.zeros((train_y.size, 4))\n",
        "train_y_one_hot[np.arange(train_y.size),train_y] = 1\n",
        "train_y_one_hot"
      ]
    },
    {
      "cell_type": "code",
      "execution_count": null,
      "metadata": {
        "colab": {
          "base_uri": "https://localhost:8080/"
        },
        "id": "noxU1GyAYTig",
        "outputId": "d7c4f0f3-0ae1-4ca6-8390-bc5b2c5949e0"
      },
      "outputs": [
        {
          "data": {
            "text/plain": [
              "array([[1., 0., 0., 0.],\n",
              "       [1., 0., 0., 0.],\n",
              "       [0., 1., 0., 0.],\n",
              "       ...,\n",
              "       [0., 0., 1., 0.],\n",
              "       [1., 0., 0., 0.],\n",
              "       [0., 1., 0., 0.]])"
            ]
          },
          "execution_count": 11,
          "metadata": {},
          "output_type": "execute_result"
        }
      ],
      "source": [
        "test_y_one_hot = np.zeros((test_y.size, 4))\n",
        "test_y_one_hot[np.arange(test_y.size),test_y] = 1\n",
        "test_y_one_hot"
      ]
    },
    {
      "cell_type": "code",
      "execution_count": null,
      "metadata": {
        "id": "Ii7lnHbZS6_f"
      },
      "outputs": [],
      "source": []
    },
    {
      "cell_type": "code",
      "execution_count": null,
      "metadata": {
        "id": "g2xLLu6kS7Iq"
      },
      "outputs": [],
      "source": []
    },
    {
      "cell_type": "code",
      "execution_count": null,
      "metadata": {
        "id": "iklwZ7pIMWtp"
      },
      "outputs": [],
      "source": [
        "import random\n",
        "import copy\n",
        "import sys\n",
        "import os\n",
        "import sys\n",
        "from tqdm import tqdm\n",
        "import heapq\n",
        "\n",
        "initializer = tf.keras.initializers.HeNormal()\n",
        "vars = finetune_model.trainable_variables\n",
        "loss_fn = keras.losses.SparseCategoricalCrossentropy()\n",
        "acc_fn = tf.keras.metrics.Accuracy()\n",
        "\n",
        "num_molecule = 20\n",
        "mole_coll = 0.3\n",
        "KE_loss_rate = 0.1\n",
        "buffer = 400"
      ]
    },
    {
      "cell_type": "code",
      "execution_count": null,
      "metadata": {
        "id": "0mOkauEGMhp6"
      },
      "outputs": [],
      "source": [
        "class Molecule:\n",
        "    def __init__(self, vars = None, weights = None, velocity = None, ke = None, num_hit = None, local_best = None):\n",
        "        if weights:\n",
        "            self.weights = weights\n",
        "        elif vars:\n",
        "            self.weights = [initializer(shape=s.shape) for s in vars]\n",
        "        # self.f1_metric = tfa.metrics.F1Score(num_classes=4)\n",
        "        # self.ck_metric = tfa.metrics.CohenKappa(num_classes=4, sparse_labels=True)\n",
        "        self.PE, self.acc = self.get_loss()\n",
        "\n",
        "        self.KE = 1\n",
        "        self.TE = self.PE + self.KE\n",
        "        self.val_loss, self.val_acc = self.get_loss_val()\n",
        "\n",
        "        if velocity:\n",
        "            self.velocity = velocity\n",
        "        else:\n",
        "            self.velocity = [tf.random.normal(shape=s.shape, stddev = 0.1) for s in vars] #, minval = -1, maxval=1\n",
        "\n",
        "        self.num_hit = 0 # How many time the perticular molecule exploited its search space.\n",
        "\n",
        "        self.local_best = self.weights\n",
        "\n",
        "    def update_best(self):\n",
        "        if self.PE < self.get_loss_weight(self.local_best)[0]:\n",
        "            self.local_best = self.weights\n",
        "\n",
        "    def update_PE(self):\n",
        "        self.PE, self.acc = self.get_loss()\n",
        "        self.val_loss, self.val_acc = self.get_loss_val()\n",
        "\n",
        "    def get_loss_weight(self, weight):\n",
        "        finetune_model.set_weights(weights=weight)\n",
        "        logits = finetune_model(train_x)\n",
        "        loss_value = loss_fn(train_y, logits)\n",
        "        acc_value = acc_fn(train_y, np.argmax(logits, axis = 1))\n",
        "        return loss_value, acc_value\n",
        "\n",
        "    def get_loss(self):\n",
        "        finetune_model.set_weights(weights=self.weights)\n",
        "        logits = finetune_model(train_x)\n",
        "\n",
        "        loss_value = loss_fn(train_y, logits)\n",
        "        acc_value = acc_fn(train_y, np.argmax(logits, axis = 1))\n",
        "\n",
        "        # self.f1_metric.update_state(train_y_one_hot, logits)\n",
        "        # f1_result = self.f1_metric.result()\n",
        "\n",
        "        # self.ck_metric.update_state(train_y , np.argmax(logits, axis = 1))\n",
        "        # ck_result = self.ck_metric.result()\n",
        "\n",
        "        return (loss_value, acc_value)\n",
        "\n",
        "    def get_loss_val(self):\n",
        "        finetune_model.set_weights(weights=self.weights)\n",
        "        logits = finetune_model(test_x)\n",
        "\n",
        "        loss_value = loss_fn(test_y, logits)\n",
        "        acc_value = acc_fn(test_y, np.argmax(logits, axis = 1))\n",
        "\n",
        "        # self.f1_metric.update_state(test_y_one_hot, logits)\n",
        "        # f1_result = self.f1_metric.result()\n",
        "\n",
        "        # self.ck_metric.update_state(test_y , np.argmax(logits, axis = 1))\n",
        "        # ck_result = self.ck_metric.result()\n",
        "\n",
        "        return (loss_value, acc_value)"
      ]
    },
    {
      "cell_type": "code",
      "execution_count": null,
      "metadata": {
        "id": "EI0RKzBgMjPb"
      },
      "outputs": [],
      "source": [
        "def create_molecule():\n",
        "    m = Molecule(vars)\n",
        "    m.velocity = [(global_best[i]- m.weights[i]) for i in range(len(global_best))]\n",
        "    return m\n",
        "\n",
        "def pso_update(m):\n",
        "    r1 = random.random()\n",
        "    r2 = random.random()\n",
        "    first_term = [w*l_v for l_v in m.velocity]\n",
        "    second_term = [c1*r1*x for x in [(m.local_best[i]- m.weights[i]) for i in range(len(m.local_best))]]\n",
        "    third_term = [c2*r2*x for x in [(global_best[i]- m.weights[i]) for i in range(len(global_best))]]\n",
        "    m.velocity = [m.KE * (first_term[i] + second_term[i] + third_term[i]) for i in range(len(first_term))]\n",
        "\n",
        "    m.weights = [(m.weights[i]+ m.velocity[i]) for i in range(len(m.weights))]\n",
        "    m.update_PE()\n",
        "    m.num_hit = 0\n",
        "    m.update_best()\n",
        "    if m.PE > 10:\n",
        "        m = create_molecule()\n",
        "    del first_term\n",
        "    del second_term\n",
        "    del third_term\n",
        "    gc.collect()\n",
        "    return m\n",
        "\n",
        "def neighbourhood(m, learning_rate):\n",
        "\n",
        "    with tf.GradientTape(watch_accessed_variables=False) as t:\n",
        "        t.reset()\n",
        "        t.watch(finetune_model.trainable_variables)\n",
        "        finetune_model.set_weights(weights=m.weights)\n",
        "        logits = finetune_model(train_x)\n",
        "        loss_value = loss_fn(train_y, logits)\n",
        "\n",
        "    gradients = t.gradient(loss_value, finetune_model.trainable_weights)\n",
        "\n",
        "    new_weights = []\n",
        "    for i in range(len(finetune_model.trainable_weights)):\n",
        "        layer = finetune_model.trainable_weights[i]\n",
        "        layer =  layer - learning_rate * gradients[i]\n",
        "        new_weights.append(layer)\n",
        "\n",
        "    m.weights = new_weights\n",
        "    m.update_PE()\n",
        "    if m.PE > 10:\n",
        "        m = create_molecule()\n",
        "    del gradients\n",
        "    del new_weights\n",
        "    gc.collect()\n",
        "    return m\n",
        "\n",
        "def onwall_ineffective_collision(m):\n",
        "    return neighbourhood(m, 0.01)\n",
        "\n",
        "def onwall_criteria(m_old, m_new):\n",
        "    pe_new = m_new.PE\n",
        "    if (m_old[0] + m_old[1] >= pe_new):\n",
        "        return True\n",
        "    else:\n",
        "        return False\n",
        "\n",
        "def intermol_criteria(m1, m2, m1_new, m2_new):\n",
        "    pe1 = m1_new.PE\n",
        "    pe2 = m2_new.PE\n",
        "    if (m1[0] + m1[1] + m2[0] + m2[1] >= pe1 + pe2):\n",
        "        return True\n",
        "    else:\n",
        "        return False\n",
        "\n",
        "def intermol_ineffective_collision(m1, m2):\n",
        "    return (neighbourhood(m1, 0.01), neighbourhood(m2, 0.01)) #instead of creating new\n",
        "\n",
        "def best_molecule():\n",
        "    bm = molecule[0]\n",
        "    for m in molecule:\n",
        "        if m.PE < bm.PE:\n",
        "            bm = m\n",
        "    return bm\n",
        "\n",
        "\n",
        "def execute_intermol_ineffective_collision(m1, m2, i, j):\n",
        "    global buffer\n",
        "    # m1_copy = copy.deepcopy(m1)\n",
        "    # m2_copy = copy.deepcopy(m2)\n",
        "\n",
        "    pe_x1 = copy.deepcopy(m1.PE)\n",
        "    pe_x2 = copy.deepcopy(m2.PE)\n",
        "    ke_x1 = copy.deepcopy(m1.KE)\n",
        "    ke_x2 = copy.deepcopy(m2.KE)\n",
        "\n",
        "    (m1_new, m2_new) = intermol_ineffective_collision(m1, m2)\n",
        "    if(intermol_criteria((pe_x1, ke_x1), (pe_x2, ke_x2), m1_new, m2_new)):\n",
        "        # pe_x1 = m1_copy.PE\n",
        "        # pe_x2 = m2_copy.PE\n",
        "        # ke_x1 = m1_copy.KE\n",
        "        # ke_x2 = m2_copy.KE\n",
        "        p = random.random()\n",
        "        m1_new.KE = (pe_x1 + pe_x2 + ke_x1 + ke_x2 - m1_new.PE - m2_new.PE) * p\n",
        "        m2_new.KE = (pe_x1 + pe_x2 + ke_x1 + ke_x2 - m1_new.PE - m2_new.PE) * (1-p)\n",
        "\n",
        "        m1_new.num_hit += 1\n",
        "        m2_new.num_hit += 1\n",
        "\n",
        "        m1_new.update_best()\n",
        "        m2_new.update_best()\n",
        "\n",
        "        if tf.math.is_nan(m1_new.PE) or tf.math.is_nan(m2_new.PE):\n",
        "            print(\"NaN Occured Here\")\n",
        "            sys.exit()\n",
        "        # molecule.append(m1_new)\n",
        "        # molecule.append(m2_new)\n",
        "\n",
        "        molecule[i] = m1_new\n",
        "        molecule[j] = m2_new\n",
        "\n",
        "        logging.info(f\"Current PE : {m1_new.PE} , {m2_new.PE}\")\n",
        "        return True\n",
        "    else:\n",
        "        return False\n",
        "\n",
        "def execute_onwall_collision(m_old, i):\n",
        "    global buffer\n",
        "    # m_old_copy = copy.deepcopy(m_old)\n",
        "    pe_m_old = copy.deepcopy(m_old.PE)\n",
        "    ke_m_old = copy.deepcopy(m_old.KE)\n",
        "\n",
        "    m_new = onwall_ineffective_collision(m_old)\n",
        "    if onwall_criteria((pe_m_old, ke_m_old), m_new):\n",
        "        p1 = random.uniform(KE_loss_rate, 1)\n",
        "        pe_new = m_new.PE\n",
        "        ke_new = m_new.KE = (pe_m_old - pe_new + ke_m_old) * p1\n",
        "        buffer = buffer + ((pe_m_old - pe_new + ke_m_old)*(1-p1))\n",
        "        m_new.num_hit += 1\n",
        "        m_new.update_best()\n",
        "        if tf.math.is_nan(m_new.PE):\n",
        "            print(\"NaN Occured Here\")\n",
        "            os._exit(0)\n",
        "\n",
        "\n",
        "        # molecule.append(m_new)\n",
        "        molecule[i] = m_new\n",
        "        logging.info(f\"Current PE : {m_new.PE}\")\n",
        "        return True\n",
        "    else:\n",
        "        return False\n",
        "\n",
        "def execute_pso_upadte(m_old, i):\n",
        "    global buffer\n",
        "    m_new = pso_update(m_old)\n",
        "    if tf.math.is_nan(m_new.PE):\n",
        "        print(\"NaN Occured Here\")\n",
        "        os._exit(0)\n",
        "    molecule[i] = m_new\n",
        "    logging.info(f\"Current PE : {m_new.PE}\")\n",
        "\n",
        "\n",
        "\n",
        "def save_molecules(molecules, file_name1 = \"molecule_weights\"):\n",
        "    file_name = BASE_PATH + file_name1\n",
        "    molecule_to_save = []\n",
        "    for m in molecule:\n",
        "        molecule_to_save.append([m.weights, m.velocity, m.num_hit, m.KE, m.local_best])\n",
        "    with open(file_name, \"wb\") as fp:\n",
        "        pickle.dump(molecule_to_save, fp)\n",
        "\n",
        "def read_molecule(file_name1 = \"molecule_weights\"):\n",
        "    file_name = BASE_PATH + file_name1\n",
        "    with open(file_name, \"rb\") as fp:\n",
        "        molecules_meta_data = pickle.load(fp)\n",
        "    molecules = []\n",
        "    for m_data in molecules_meta_data:\n",
        "        molecules.append(Molecule(weights=m_data[0], velocity=m_data[1], num_hit = m_data[2], ke = m_data[3], local_best= m_data[4]))\n",
        "    return molecules"
      ]
    },
    {
      "cell_type": "code",
      "execution_count": null,
      "metadata": {
        "colab": {
          "base_uri": "https://localhost:8080/"
        },
        "id": "hE6yfDC3MmMC",
        "outputId": "fb3036d0-aa3d-4e41-d631-f328ab88d0e0"
      },
      "outputs": [
        {
          "name": "stderr",
          "output_type": "stream",
          "text": [
            "100%|██████████| 20/20 [00:02<00:00,  7.42it/s]\n"
          ]
        }
      ],
      "source": [
        "molecule = []\n",
        "for i in tqdm(range(num_molecule)):\n",
        "    m = Molecule(vars)\n",
        "    # m_new = neighbourhood(m, 0.01)\n",
        "    molecule.append(m)"
      ]
    },
    {
      "cell_type": "code",
      "execution_count": null,
      "metadata": {
        "colab": {
          "base_uri": "https://localhost:8080/",
          "height": 265
        },
        "id": "D_-MphWVMq4l",
        "outputId": "3f344313-64dc-4538-b072-b129f08449f4"
      },
      "outputs": [
        {
          "data": {
            "image/png": "[encoded data removed]",
            "text/plain": [
              "<Figure size 432x288 with 1 Axes>"
            ]
          },
          "metadata": {
            "needs_background": "light"
          },
          "output_type": "display_data"
        }
      ],
      "source": [
        "allPE = []\n",
        "for m in molecule:\n",
        "    allPE.append(m.PE)\n",
        "\n",
        "import matplotlib.pyplot as plt\n",
        "plt.hist(allPE)\n",
        "plt.show()"
      ]
    },
    {
      "cell_type": "code",
      "execution_count": null,
      "metadata": {
        "colab": {
          "base_uri": "https://localhost:8080/",
          "height": 265
        },
        "id": "1JrYyvrPZ7WF",
        "outputId": "34ec6b61-46c5-41d5-81fc-5437ef58f1c9"
      },
      "outputs": [
        {
          "data": {
            "image/png": "[encoded data removed]",
            "text/plain": [
              "<Figure size 432x288 with 1 Axes>"
            ]
          },
          "metadata": {
            "needs_background": "light"
          },
          "output_type": "display_data"
        }
      ],
      "source": [
        "allAcc = []\n",
        "for m in molecule:\n",
        "    allAcc.append(m.acc)\n",
        "\n",
        "import matplotlib.pyplot as plt\n",
        "plt.hist(allAcc)\n",
        "plt.show()"
      ]
    },
    {
      "cell_type": "code",
      "execution_count": null,
      "metadata": {
        "id": "GgicpqOa6lZc"
      },
      "outputs": [],
      "source": [
        "molecule_pe_before = []\n",
        "for m in molecule:\n",
        "    molecule_pe_before.append(m.PE)\n",
        "\n",
        "molecule_acc_before = []\n",
        "for m in molecule:\n",
        "    molecule_acc_before.append(m.acc)\n",
        "\n",
        "# molecule_f1_before = []\n",
        "# for m in molecule:\n",
        "#     molecule_f1_before.append(m.f1_score)\n",
        "\n",
        "# molecule_ck_before = []\n",
        "# for m in molecule:\n",
        "#     molecule_ck_before.append(m.ck_score)\n"
      ]
    },
    {
      "cell_type": "code",
      "execution_count": null,
      "metadata": {
        "colab": {
          "base_uri": "https://localhost:8080/"
        },
        "id": "e-8JHC-9M34f",
        "outputId": "ed4925fe-9c2b-4073-ded0-18fcff7b7a69"
      },
      "outputs": [
        {
          "name": "stdout",
          "output_type": "stream",
          "text": [
            "\n",
            "Minimum PE 1.3057348728179932\n"
          ]
        }
      ],
      "source": [
        "print(f\"\\nMinimum PE {best_molecule().PE}\")\n",
        "\n",
        "y = 40\n",
        "w = float(0.3)\n",
        "c1 = float(0.1)\n",
        "c2 = float(0.9)\n",
        "global_best = best_molecule().weights"
      ]
    },
    {
      "cell_type": "code",
      "execution_count": null,
      "metadata": {
        "id": "-SbtW8Df_r4z"
      },
      "outputs": [],
      "source": []
    },
    {
      "cell_type": "code",
      "execution_count": null,
      "metadata": {
        "id": "xkfwvc6BM687"
      },
      "outputs": [],
      "source": [
        "loss_history = []\n",
        "val_loss_history = []\n",
        "acc_history = []\n",
        "val_acc_history = []\n",
        "# ck_history = []\n",
        "# val_ck_history = []\n",
        "\n",
        "\n",
        "\n",
        "loss_history_epochs = []\n",
        "val_loss_history_epochs = []\n",
        "acc_history_epochs = []\n",
        "val_acc_history_epochs = []\n",
        "# ck_history_epochs = []\n",
        "# val_ck_history_epochs = []"
      ]
    },
    {
      "cell_type": "code",
      "execution_count": null,
      "metadata": {
        "id": "rVKJYU9i_JdJ"
      },
      "outputs": [],
      "source": []
    },
    {
      "cell_type": "code",
      "execution_count": null,
      "metadata": {
        "id": "wI2mmv7c_ZBL"
      },
      "outputs": [],
      "source": []
    },
    {
      "cell_type": "code",
      "execution_count": null,
      "metadata": {
        "colab": {
          "base_uri": "https://localhost:8080/"
        },
        "id": "6WvdNRs8M7Du",
        "outputId": "246794e7-4583-4edf-97f1-e43189fd2844"
      },
      "outputs": [
        {
          "name": "stdout",
          "output_type": "stream",
          "text": [
            "Epochs : 1\n"
          ]
        },
        {
          "name": "stderr",
          "output_type": "stream",
          "text": [
            "100%|██████████| 20/20 [00:06<00:00,  3.04it/s]\n"
          ]
        },
        {
          "name": "stdout",
          "output_type": "stream",
          "text": [
            "Loss : 1.3451707363128662, Val Loss : 1.3063671588897705 Acc : 0.3239443004131317, Val Acc : 0.32387712597846985\n",
            "Epochs : 2\n"
          ]
        },
        {
          "name": "stderr",
          "output_type": "stream",
          "text": [
            "100%|██████████| 20/20 [00:06<00:00,  3.17it/s]\n"
          ]
        },
        {
          "name": "stdout",
          "output_type": "stream",
          "text": [
            "Loss : 1.0825392007827759, Val Loss : 1.0491139888763428 Acc : 0.35819199681282043, Val Acc : 0.3586098253726959\n",
            "Epochs : 3\n"
          ]
        },
        {
          "name": "stderr",
          "output_type": "stream",
          "text": [
            "100%|██████████| 20/20 [00:06<00:00,  3.02it/s]\n"
          ]
        },
        {
          "name": "stdout",
          "output_type": "stream",
          "text": [
            "Loss : 0.883448600769043, Val Loss : 0.8556553721427917 Acc : 0.36602771282196045, Val Acc : 0.36636918783187866\n",
            "Epochs : 4\n"
          ]
        },
        {
          "name": "stderr",
          "output_type": "stream",
          "text": [
            "100%|██████████| 20/20 [00:05<00:00,  3.99it/s]\n"
          ]
        },
        {
          "name": "stdout",
          "output_type": "stream",
          "text": [
            "Loss : 0.8513786196708679, Val Loss : 0.868495762348175 Acc : 0.37866073846817017, Val Acc : 0.37888994812965393\n",
            "Epochs : 5\n"
          ]
        },
        {
          "name": "stderr",
          "output_type": "stream",
          "text": [
            "100%|██████████| 20/20 [00:06<00:00,  3.13it/s]\n"
          ]
        },
        {
          "name": "stdout",
          "output_type": "stream",
          "text": [
            "Loss : 0.8323857188224792, Val Loss : 0.8189100623130798 Acc : 0.418738454580307, Val Acc : 0.41892021894454956\n",
            "Epochs : 6\n"
          ]
        },
        {
          "name": "stderr",
          "output_type": "stream",
          "text": [
            "100%|██████████| 20/20 [00:05<00:00,  3.56it/s]\n"
          ]
        },
        {
          "name": "stdout",
          "output_type": "stream",
          "text": [
            "Loss : 0.753970205783844, Val Loss : 0.766963541507721 Acc : 0.4581243693828583, Val Acc : 0.458243727684021\n",
            "Epochs : 7\n"
          ]
        },
        {
          "name": "stderr",
          "output_type": "stream",
          "text": [
            "100%|██████████| 20/20 [00:06<00:00,  3.31it/s]\n"
          ]
        },
        {
          "name": "stdout",
          "output_type": "stream",
          "text": [
            "Loss : 0.7414360046386719, Val Loss : 0.738530158996582 Acc : 0.4908040761947632, Val Acc : 0.49090704321861267\n",
            "Epochs : 8\n"
          ]
        },
        {
          "name": "stderr",
          "output_type": "stream",
          "text": [
            "100%|██████████| 20/20 [00:06<00:00,  3.11it/s]\n"
          ]
        },
        {
          "name": "stdout",
          "output_type": "stream",
          "text": [
            "Loss : 0.718595027923584, Val Loss : 0.7144373655319214 Acc : 0.5312149524688721, Val Acc : 0.5312798023223877\n",
            "Epochs : 9\n"
          ]
        },
        {
          "name": "stderr",
          "output_type": "stream",
          "text": [
            "100%|██████████| 20/20 [00:06<00:00,  3.03it/s]\n"
          ]
        },
        {
          "name": "stdout",
          "output_type": "stream",
          "text": [
            "Loss : 0.7129861116409302, Val Loss : 0.7005820274353027 Acc : 0.5405900478363037, Val Acc : 0.5406560897827148\n",
            "Epochs : 10\n"
          ]
        },
        {
          "name": "stderr",
          "output_type": "stream",
          "text": [
            "100%|██████████| 20/20 [00:07<00:00,  2.61it/s]\n"
          ]
        },
        {
          "name": "stdout",
          "output_type": "stream",
          "text": [
            "Loss : 0.7080222368240356, Val Loss : 0.7020893096923828 Acc : 0.5612528920173645, Val Acc : 0.5613003969192505\n",
            "Epochs : 11\n"
          ]
        },
        {
          "name": "stderr",
          "output_type": "stream",
          "text": [
            "100%|██████████| 20/20 [00:05<00:00,  3.55it/s]\n"
          ]
        },
        {
          "name": "stdout",
          "output_type": "stream",
          "text": [
            "Loss : 0.7033984661102295, Val Loss : 0.6922740936279297 Acc : 0.576202929019928, Val Acc : 0.5762468576431274\n",
            "Epochs : 12\n"
          ]
        },
        {
          "name": "stderr",
          "output_type": "stream",
          "text": [
            "100%|██████████| 20/20 [00:08<00:00,  2.24it/s]\n"
          ]
        },
        {
          "name": "stdout",
          "output_type": "stream",
          "text": [
            "Loss : 0.6889337301254272, Val Loss : 0.6815769076347351 Acc : 0.5977428555488586, Val Acc : 0.5977798104286194\n",
            "Epochs : 13\n"
          ]
        },
        {
          "name": "stderr",
          "output_type": "stream",
          "text": [
            "100%|██████████| 20/20 [00:06<00:00,  3.26it/s]\n"
          ]
        },
        {
          "name": "stdout",
          "output_type": "stream",
          "text": [
            "Loss : 0.6807284355163574, Val Loss : 0.6735101342201233 Acc : 0.6042567491531372, Val Acc : 0.6042914986610413\n",
            "Epochs : 14\n"
          ]
        },
        {
          "name": "stderr",
          "output_type": "stream",
          "text": [
            "100%|██████████| 20/20 [00:08<00:00,  2.25it/s]\n"
          ]
        },
        {
          "name": "stdout",
          "output_type": "stream",
          "text": [
            "Loss : 0.6697253584861755, Val Loss : 0.6607211828231812 Acc : 0.611042857170105, Val Acc : 0.6110748648643494\n",
            "Epochs : 15\n"
          ]
        },
        {
          "name": "stderr",
          "output_type": "stream",
          "text": [
            "100%|██████████| 20/20 [00:05<00:00,  3.33it/s]\n"
          ]
        },
        {
          "name": "stdout",
          "output_type": "stream",
          "text": [
            "Loss : 0.6663558483123779, Val Loss : 0.6593492031097412 Acc : 0.6205525398254395, Val Acc : 0.6205803751945496\n",
            "Epochs : 16\n"
          ]
        },
        {
          "name": "stderr",
          "output_type": "stream",
          "text": [
            "100%|██████████| 20/20 [00:06<00:00,  3.20it/s]\n"
          ]
        },
        {
          "name": "stdout",
          "output_type": "stream",
          "text": [
            "Loss : 0.6631065607070923, Val Loss : 0.6541903614997864 Acc : 0.6286224126815796, Val Acc : 0.628646969795227\n",
            "Epochs : 17\n"
          ]
        },
        {
          "name": "stderr",
          "output_type": "stream",
          "text": [
            "100%|██████████| 20/20 [00:06<00:00,  3.11it/s]\n"
          ]
        },
        {
          "name": "stdout",
          "output_type": "stream",
          "text": [
            "Loss : 0.6599879264831543, Val Loss : 0.6531113982200623 Acc : 0.6355850696563721, Val Acc : 0.6356070041656494\n",
            "Epochs : 18\n"
          ]
        },
        {
          "name": "stderr",
          "output_type": "stream",
          "text": [
            "100%|██████████| 20/20 [00:06<00:00,  2.86it/s]\n"
          ]
        },
        {
          "name": "stdout",
          "output_type": "stream",
          "text": [
            "Loss : 0.6540976166725159, Val Loss : 0.647348940372467 Acc : 0.6423707604408264, Val Acc : 0.6423903107643127\n",
            "Epochs : 19\n"
          ]
        },
        {
          "name": "stderr",
          "output_type": "stream",
          "text": [
            "100%|██████████| 20/20 [00:06<00:00,  3.12it/s]\n"
          ]
        },
        {
          "name": "stdout",
          "output_type": "stream",
          "text": [
            "Loss : 0.6512988805770874, Val Loss : 0.6425313353538513 Acc : 0.6489637494087219, Val Acc : 0.6489810347557068\n",
            "Epochs : 20\n"
          ]
        },
        {
          "name": "stderr",
          "output_type": "stream",
          "text": [
            "100%|██████████| 20/20 [00:06<00:00,  3.05it/s]\n"
          ]
        },
        {
          "name": "stdout",
          "output_type": "stream",
          "text": [
            "Loss : 0.6485994458198547, Val Loss : 0.6420045495033264 Acc : 0.6541421413421631, Val Acc : 0.654158353805542\n",
            "Epochs : 21\n"
          ]
        },
        {
          "name": "stderr",
          "output_type": "stream",
          "text": [
            "100%|██████████| 20/20 [00:06<00:00,  3.25it/s]\n"
          ]
        },
        {
          "name": "stdout",
          "output_type": "stream",
          "text": [
            "Loss : 0.645990788936615, Val Loss : 0.6373061537742615 Acc : 0.6584262251853943, Val Acc : 0.6584406495094299\n",
            "Epochs : 22\n"
          ]
        },
        {
          "name": "stderr",
          "output_type": "stream",
          "text": [
            "100%|██████████| 20/20 [00:08<00:00,  2.42it/s]\n"
          ]
        },
        {
          "name": "stdout",
          "output_type": "stream",
          "text": [
            "Loss : 0.6410378217697144, Val Loss : 0.632418155670166 Acc : 0.6627445220947266, Val Acc : 0.6627576947212219\n",
            "Epochs : 23\n"
          ]
        },
        {
          "name": "stderr",
          "output_type": "stream",
          "text": [
            "100%|██████████| 20/20 [00:07<00:00,  2.52it/s]\n"
          ]
        },
        {
          "name": "stdout",
          "output_type": "stream",
          "text": [
            "Loss : 0.636385440826416, Val Loss : 0.6278280019760132 Acc : 0.6684272885322571, Val Acc : 0.6684392094612122\n",
            "Epochs : 24\n"
          ]
        },
        {
          "name": "stderr",
          "output_type": "stream",
          "text": [
            "100%|██████████| 20/20 [00:07<00:00,  2.71it/s]\n"
          ]
        },
        {
          "name": "stdout",
          "output_type": "stream",
          "text": [
            "Loss : 0.6341667175292969, Val Loss : 0.6281659007072449 Acc : 0.6708657741546631, Val Acc : 0.6708779335021973\n",
            "Epochs : 25\n"
          ]
        },
        {
          "name": "stderr",
          "output_type": "stream",
          "text": [
            "100%|██████████| 20/20 [00:06<00:00,  3.14it/s]\n"
          ]
        },
        {
          "name": "stdout",
          "output_type": "stream",
          "text": [
            "Loss : 0.6320120692253113, Val Loss : 0.6235013604164124 Acc : 0.674264132976532, Val Acc : 0.6742749810218811\n",
            "Epochs : 26\n"
          ]
        },
        {
          "name": "stderr",
          "output_type": "stream",
          "text": [
            "100%|██████████| 20/20 [00:07<00:00,  2.62it/s]\n"
          ]
        },
        {
          "name": "stdout",
          "output_type": "stream",
          "text": [
            "Loss : 0.6323752999305725, Val Loss : 0.6234879493713379 Acc : 0.6773216724395752, Val Acc : 0.677331805229187\n",
            "Epochs : 27\n"
          ]
        },
        {
          "name": "stderr",
          "output_type": "stream",
          "text": [
            "100%|██████████| 20/20 [00:07<00:00,  2.67it/s]\n"
          ]
        },
        {
          "name": "stdout",
          "output_type": "stream",
          "text": [
            "Loss : 0.6264204382896423, Val Loss : 0.621973991394043 Acc : 0.6824718117713928, Val Acc : 0.6824811100959778\n",
            "Epochs : 28\n"
          ]
        },
        {
          "name": "stderr",
          "output_type": "stream",
          "text": [
            "100%|██████████| 20/20 [00:05<00:00,  3.64it/s]\n"
          ]
        },
        {
          "name": "stdout",
          "output_type": "stream",
          "text": [
            "Loss : 0.6227831244468689, Val Loss : 0.6186617612838745 Acc : 0.6839215755462646, Val Acc : 0.6839305758476257\n",
            "Epochs : 29\n"
          ]
        },
        {
          "name": "stderr",
          "output_type": "stream",
          "text": [
            "100%|██████████| 20/20 [00:06<00:00,  3.09it/s]\n"
          ]
        },
        {
          "name": "stdout",
          "output_type": "stream",
          "text": [
            "Loss : 0.6193829774856567, Val Loss : 0.6155919432640076 Acc : 0.6866033673286438, Val Acc : 0.6866114139556885\n",
            "Epochs : 30\n"
          ]
        },
        {
          "name": "stderr",
          "output_type": "stream",
          "text": [
            "100%|██████████| 20/20 [00:07<00:00,  2.51it/s]\n"
          ]
        },
        {
          "name": "stdout",
          "output_type": "stream",
          "text": [
            "Loss : 0.6177489161491394, Val Loss : 0.6086245179176331 Acc : 0.6881068348884583, Val Acc : 0.688115119934082\n",
            "Epochs : 31\n"
          ]
        },
        {
          "name": "stderr",
          "output_type": "stream",
          "text": [
            "100%|██████████| 20/20 [00:05<00:00,  3.73it/s]\n"
          ]
        },
        {
          "name": "stdout",
          "output_type": "stream",
          "text": [
            "Loss : 0.6162111163139343, Val Loss : 0.6127875447273254 Acc : 0.6902279257774353, Val Acc : 0.6902359127998352\n",
            "Epochs : 32\n"
          ]
        },
        {
          "name": "stderr",
          "output_type": "stream",
          "text": [
            "100%|██████████| 20/20 [00:06<00:00,  3.04it/s]\n"
          ]
        },
        {
          "name": "stdout",
          "output_type": "stream",
          "text": [
            "Loss : 0.6147090196609497, Val Loss : 0.6054062843322754 Acc : 0.6923642754554749, Val Acc : 0.692371666431427\n",
            "Epochs : 33\n"
          ]
        },
        {
          "name": "stderr",
          "output_type": "stream",
          "text": [
            "100%|██████████| 20/20 [00:07<00:00,  2.55it/s]\n"
          ]
        },
        {
          "name": "stdout",
          "output_type": "stream",
          "text": [
            "Loss : 0.613037109375, Val Loss : 0.6071790456771851 Acc : 0.6947445869445801, Val Acc : 0.6947510838508606\n",
            "Epochs : 34\n"
          ]
        },
        {
          "name": "stderr",
          "output_type": "stream",
          "text": [
            "100%|██████████| 20/20 [00:08<00:00,  2.50it/s]\n"
          ]
        },
        {
          "name": "stdout",
          "output_type": "stream",
          "text": [
            "Loss : 0.6084898114204407, Val Loss : 0.6070795655250549 Acc : 0.6976407170295715, Val Acc : 0.6976473331451416\n",
            "Epochs : 35\n"
          ]
        },
        {
          "name": "stderr",
          "output_type": "stream",
          "text": [
            "100%|██████████| 20/20 [00:06<00:00,  2.94it/s]\n"
          ]
        },
        {
          "name": "stdout",
          "output_type": "stream",
          "text": [
            "Loss : 0.6056320071220398, Val Loss : 0.604266345500946 Acc : 0.6988281607627869, Val Acc : 0.6988345384597778\n",
            "Epochs : 36\n"
          ]
        },
        {
          "name": "stderr",
          "output_type": "stream",
          "text": [
            "100%|██████████| 20/20 [00:07<00:00,  2.59it/s]\n"
          ]
        },
        {
          "name": "stdout",
          "output_type": "stream",
          "text": [
            "Loss : 0.6029019951820374, Val Loss : 0.6016132831573486 Acc : 0.7008203268051147, Val Acc : 0.7008262872695923\n",
            "Epochs : 37\n"
          ]
        },
        {
          "name": "stderr",
          "output_type": "stream",
          "text": [
            "100%|██████████| 20/20 [00:06<00:00,  3.02it/s]\n"
          ]
        },
        {
          "name": "stdout",
          "output_type": "stream",
          "text": [
            "Loss : 0.5990239381790161, Val Loss : 0.5931033492088318 Acc : 0.7031077146530151, Val Acc : 0.7031136155128479\n",
            "Epochs : 38\n"
          ]
        },
        {
          "name": "stderr",
          "output_type": "stream",
          "text": [
            "100%|██████████| 20/20 [00:06<00:00,  3.00it/s]\n"
          ]
        },
        {
          "name": "stdout",
          "output_type": "stream",
          "text": [
            "Loss : 0.5978015065193176, Val Loss : 0.5967553853988647 Acc : 0.7043350338935852, Val Acc : 0.7043407559394836\n",
            "Epochs : 39\n"
          ]
        },
        {
          "name": "stderr",
          "output_type": "stream",
          "text": [
            "100%|██████████| 20/20 [00:06<00:00,  3.11it/s]\n"
          ]
        },
        {
          "name": "stdout",
          "output_type": "stream",
          "text": [
            "Loss : 0.5954276919364929, Val Loss : 0.5945724248886108 Acc : 0.7060800194740295, Val Acc : 0.7060854434967041\n",
            "Epochs : 40\n"
          ]
        },
        {
          "name": "stderr",
          "output_type": "stream",
          "text": [
            "100%|██████████| 20/20 [00:07<00:00,  2.75it/s]\n"
          ]
        },
        {
          "name": "stdout",
          "output_type": "stream",
          "text": [
            "Loss : 0.5942640900611877, Val Loss : 0.5882429480552673 Acc : 0.7075080275535583, Val Acc : 0.7075132131576538\n",
            "Epochs : 41\n"
          ]
        },
        {
          "name": "stderr",
          "output_type": "stream",
          "text": [
            "100%|██████████| 20/20 [00:06<00:00,  3.22it/s]\n"
          ]
        },
        {
          "name": "stdout",
          "output_type": "stream",
          "text": [
            "Loss : 0.593151867389679, Val Loss : 0.5925382375717163 Acc : 0.709017276763916, Val Acc : 0.7090222239494324\n",
            "Epochs : 42\n"
          ]
        },
        {
          "name": "stderr",
          "output_type": "stream",
          "text": [
            "100%|██████████| 20/20 [00:07<00:00,  2.60it/s]\n"
          ]
        },
        {
          "name": "stdout",
          "output_type": "stream",
          "text": [
            "Loss : 0.5920414328575134, Val Loss : 0.585952639579773 Acc : 0.7103870511054993, Val Acc : 0.7103918194770813\n",
            "Epochs : 43\n"
          ]
        },
        {
          "name": "stderr",
          "output_type": "stream",
          "text": [
            "100%|██████████| 20/20 [00:07<00:00,  2.78it/s]\n"
          ]
        },
        {
          "name": "stdout",
          "output_type": "stream",
          "text": [
            "Loss : 0.5909934043884277, Val Loss : 0.5906684994697571 Acc : 0.7117813229560852, Val Acc : 0.711786150932312\n",
            "Epochs : 44\n"
          ]
        },
        {
          "name": "stderr",
          "output_type": "stream",
          "text": [
            "100%|██████████| 20/20 [00:07<00:00,  2.73it/s]\n"
          ]
        },
        {
          "name": "stdout",
          "output_type": "stream",
          "text": [
            "Loss : 0.5889672636985779, Val Loss : 0.5889744758605957 Acc : 0.7131061553955078, Val Acc : 0.713110625743866\n",
            "Epochs : 45\n"
          ]
        },
        {
          "name": "stderr",
          "output_type": "stream",
          "text": [
            "100%|██████████| 20/20 [00:05<00:00,  3.42it/s]\n"
          ]
        },
        {
          "name": "stdout",
          "output_type": "stream",
          "text": [
            "Loss : 0.5879721641540527, Val Loss : 0.5816394686698914 Acc : 0.7143771052360535, Val Acc : 0.7143810391426086\n",
            "Epochs : 46\n"
          ]
        },
        {
          "name": "stderr",
          "output_type": "stream",
          "text": [
            "100%|██████████| 20/20 [00:07<00:00,  2.77it/s]\n"
          ]
        },
        {
          "name": "stdout",
          "output_type": "stream",
          "text": [
            "Loss : 0.587062656879425, Val Loss : 0.5874404311180115 Acc : 0.7154693603515625, Val Acc : 0.7154737114906311\n",
            "Epochs : 47\n"
          ]
        },
        {
          "name": "stderr",
          "output_type": "stream",
          "text": [
            "100%|██████████| 20/20 [00:06<00:00,  3.22it/s]\n"
          ]
        },
        {
          "name": "stdout",
          "output_type": "stream",
          "text": [
            "Loss : 0.5861395001411438, Val Loss : 0.579627275466919 Acc : 0.7166951298713684, Val Acc : 0.7166988253593445\n",
            "Epochs : 48\n"
          ]
        },
        {
          "name": "stderr",
          "output_type": "stream",
          "text": [
            "100%|██████████| 20/20 [00:07<00:00,  2.85it/s]\n"
          ]
        },
        {
          "name": "stdout",
          "output_type": "stream",
          "text": [
            "Loss : 0.5853166580200195, Val Loss : 0.5861124992370605 Acc : 0.7178443670272827, Val Acc : 0.717848539352417\n",
            "Epochs : 49\n"
          ]
        },
        {
          "name": "stderr",
          "output_type": "stream",
          "text": [
            "100%|██████████| 20/20 [00:09<00:00,  2.05it/s]\n"
          ]
        },
        {
          "name": "stdout",
          "output_type": "stream",
          "text": [
            "Loss : 0.5844577550888062, Val Loss : 0.577716588973999 Acc : 0.7190872430801392, Val Acc : 0.7190907001495361\n",
            "Epochs : 50\n"
          ]
        },
        {
          "name": "stderr",
          "output_type": "stream",
          "text": [
            "100%|██████████| 20/20 [00:07<00:00,  2.53it/s]\n"
          ]
        },
        {
          "name": "stdout",
          "output_type": "stream",
          "text": [
            "Loss : 0.5823605060577393, Val Loss : 0.5840827226638794 Acc : 0.7207366824150085, Val Acc : 0.7207400798797607\n",
            "Epochs : 51\n"
          ]
        },
        {
          "name": "stderr",
          "output_type": "stream",
          "text": [
            "100%|██████████| 20/20 [00:07<00:00,  2.78it/s]\n"
          ]
        },
        {
          "name": "stdout",
          "output_type": "stream",
          "text": [
            "Loss : 0.5816838145256042, Val Loss : 0.5742740631103516 Acc : 0.7213733196258545, Val Acc : 0.7213764190673828\n",
            "Epochs : 52\n"
          ]
        },
        {
          "name": "stderr",
          "output_type": "stream",
          "text": [
            "100%|██████████| 20/20 [00:09<00:00,  2.22it/s]\n"
          ]
        },
        {
          "name": "stdout",
          "output_type": "stream",
          "text": [
            "Loss : 0.580609917640686, Val Loss : 0.5727719664573669 Acc : 0.7225151062011719, Val Acc : 0.7225181460380554\n",
            "Epochs : 53\n"
          ]
        },
        {
          "name": "stderr",
          "output_type": "stream",
          "text": [
            "100%|██████████| 20/20 [00:07<00:00,  2.64it/s]\n"
          ]
        },
        {
          "name": "stdout",
          "output_type": "stream",
          "text": [
            "Loss : 0.5806116461753845, Val Loss : 0.5727733373641968 Acc : 0.7235130071640015, Val Acc : 0.7235159873962402\n",
            "Epochs : 54\n"
          ]
        },
        {
          "name": "stderr",
          "output_type": "stream",
          "text": [
            "100%|██████████| 20/20 [00:10<00:00,  1.88it/s]\n"
          ]
        },
        {
          "name": "stdout",
          "output_type": "stream",
          "text": [
            "Loss : 0.5802649855613708, Val Loss : 0.5831433534622192 Acc : 0.7244833111763, Val Acc : 0.7244862914085388\n",
            "Epochs : 55\n"
          ]
        },
        {
          "name": "stderr",
          "output_type": "stream",
          "text": [
            "100%|██████████| 20/20 [00:08<00:00,  2.44it/s]\n"
          ]
        },
        {
          "name": "stdout",
          "output_type": "stream",
          "text": [
            "Loss : 0.579794704914093, Val Loss : 0.5714770555496216 Acc : 0.7255032658576965, Val Acc : 0.7255062460899353\n",
            "Epochs : 56\n"
          ]
        },
        {
          "name": "stderr",
          "output_type": "stream",
          "text": [
            "100%|██████████| 20/20 [00:06<00:00,  2.93it/s]\n"
          ]
        },
        {
          "name": "stdout",
          "output_type": "stream",
          "text": [
            "Loss : 0.5796147584915161, Val Loss : 0.5831667184829712 Acc : 0.7263513207435608, Val Acc : 0.7263538837432861\n",
            "Epochs : 57\n"
          ]
        },
        {
          "name": "stderr",
          "output_type": "stream",
          "text": [
            "100%|██████████| 20/20 [00:07<00:00,  2.64it/s]\n"
          ]
        },
        {
          "name": "stdout",
          "output_type": "stream",
          "text": [
            "Loss : 0.5792532563209534, Val Loss : 0.5704283118247986 Acc : 0.7272030115127563, Val Acc : 0.7272058725357056\n",
            "Epochs : 58\n"
          ]
        },
        {
          "name": "stderr",
          "output_type": "stream",
          "text": [
            "100%|██████████| 20/20 [00:06<00:00,  2.98it/s]\n"
          ]
        },
        {
          "name": "stdout",
          "output_type": "stream",
          "text": [
            "Loss : 0.5790521502494812, Val Loss : 0.569642186164856 Acc : 0.7284101843833923, Val Acc : 0.7284128665924072\n",
            "Epochs : 59\n"
          ]
        },
        {
          "name": "stderr",
          "output_type": "stream",
          "text": [
            "100%|██████████| 20/20 [00:07<00:00,  2.82it/s]\n"
          ]
        },
        {
          "name": "stdout",
          "output_type": "stream",
          "text": [
            "Loss : 0.5789568424224854, Val Loss : 0.5705457329750061 Acc : 0.7288433909416199, Val Acc : 0.7288460731506348\n",
            "Epochs : 60\n"
          ]
        },
        {
          "name": "stderr",
          "output_type": "stream",
          "text": [
            "100%|██████████| 20/20 [00:07<00:00,  2.84it/s]\n"
          ]
        },
        {
          "name": "stdout",
          "output_type": "stream",
          "text": [
            "Loss : 0.5773444175720215, Val Loss : 0.5689886212348938 Acc : 0.729762077331543, Val Acc : 0.7297648787498474\n",
            "Epochs : 61\n"
          ]
        },
        {
          "name": "stderr",
          "output_type": "stream",
          "text": [
            "100%|██████████| 20/20 [00:07<00:00,  2.67it/s]\n"
          ]
        },
        {
          "name": "stdout",
          "output_type": "stream",
          "text": [
            "Loss : 0.5750063061714172, Val Loss : 0.5667756199836731 Acc : 0.7304647564888, Val Acc : 0.7304674983024597\n",
            "Epochs : 62\n"
          ]
        },
        {
          "name": "stderr",
          "output_type": "stream",
          "text": [
            "100%|██████████| 20/20 [00:06<00:00,  2.88it/s]\n"
          ]
        },
        {
          "name": "stdout",
          "output_type": "stream",
          "text": [
            "Loss : 0.5734934210777283, Val Loss : 0.5653316974639893 Acc : 0.7316653728485107, Val Acc : 0.7316680550575256\n",
            "Epochs : 63\n"
          ]
        },
        {
          "name": "stderr",
          "output_type": "stream",
          "text": [
            "100%|██████████| 20/20 [00:06<00:00,  3.30it/s]\n"
          ]
        },
        {
          "name": "stdout",
          "output_type": "stream",
          "text": [
            "Loss : 0.5712964534759521, Val Loss : 0.5632274746894836 Acc : 0.7324119806289673, Val Acc : 0.7324146032333374\n",
            "Epochs : 64\n"
          ]
        },
        {
          "name": "stderr",
          "output_type": "stream",
          "text": [
            "100%|██████████| 20/20 [00:09<00:00,  2.19it/s]\n"
          ]
        },
        {
          "name": "stdout",
          "output_type": "stream",
          "text": [
            "Loss : 0.5705773234367371, Val Loss : 0.5625864863395691 Acc : 0.732864499092102, Val Acc : 0.7328671216964722\n",
            "Epochs : 65\n"
          ]
        },
        {
          "name": "stderr",
          "output_type": "stream",
          "text": [
            "100%|██████████| 20/20 [00:08<00:00,  2.23it/s]\n"
          ]
        },
        {
          "name": "stdout",
          "output_type": "stream",
          "text": [
            "Loss : 0.5691589713096619, Val Loss : 0.5612700581550598 Acc : 0.7338062524795532, Val Acc : 0.7338087558746338\n",
            "Epochs : 66\n"
          ]
        },
        {
          "name": "stderr",
          "output_type": "stream",
          "text": [
            "100%|██████████| 20/20 [00:07<00:00,  2.67it/s]\n"
          ]
        },
        {
          "name": "stdout",
          "output_type": "stream",
          "text": [
            "Loss : 0.5684583187103271, Val Loss : 0.5606029629707336 Acc : 0.7344720363616943, Val Acc : 0.7344744801521301\n",
            "Epochs : 67\n"
          ]
        },
        {
          "name": "stderr",
          "output_type": "stream",
          "text": [
            "100%|██████████| 20/20 [00:06<00:00,  2.91it/s]\n"
          ]
        },
        {
          "name": "stdout",
          "output_type": "stream",
          "text": [
            "Loss : 0.5677663087844849, Val Loss : 0.55998295545578 Acc : 0.7351816892623901, Val Acc : 0.7351840734481812\n",
            "Epochs : 68\n"
          ]
        },
        {
          "name": "stderr",
          "output_type": "stream",
          "text": [
            "100%|██████████| 20/20 [00:05<00:00,  3.54it/s]\n"
          ]
        },
        {
          "name": "stdout",
          "output_type": "stream",
          "text": [
            "Loss : 0.5663397908210754, Val Loss : 0.5718628168106079 Acc : 0.7358117699623108, Val Acc : 0.7358139157295227\n",
            "Epochs : 69\n"
          ]
        },
        {
          "name": "stderr",
          "output_type": "stream",
          "text": [
            "100%|██████████| 20/20 [00:06<00:00,  3.18it/s]\n"
          ]
        },
        {
          "name": "stdout",
          "output_type": "stream",
          "text": [
            "Loss : 0.5654125809669495, Val Loss : 0.5556908249855042 Acc : 0.7364310026168823, Val Acc : 0.7364333271980286\n",
            "Epochs : 70\n"
          ]
        },
        {
          "name": "stderr",
          "output_type": "stream",
          "text": [
            "100%|██████████| 20/20 [00:05<00:00,  3.39it/s]\n"
          ]
        },
        {
          "name": "stdout",
          "output_type": "stream",
          "text": [
            "Loss : 0.5638076663017273, Val Loss : 0.5543330907821655 Acc : 0.7373377084732056, Val Acc : 0.737339973449707\n",
            "Epochs : 71\n"
          ]
        },
        {
          "name": "stderr",
          "output_type": "stream",
          "text": [
            "100%|██████████| 20/20 [00:06<00:00,  3.31it/s]\n"
          ]
        },
        {
          "name": "stdout",
          "output_type": "stream",
          "text": [
            "Loss : 0.5616329908370972, Val Loss : 0.5669988989830017 Acc : 0.7379663586616516, Val Acc : 0.7379684448242188\n",
            "Epochs : 72\n"
          ]
        },
        {
          "name": "stderr",
          "output_type": "stream",
          "text": [
            "100%|██████████| 20/20 [00:05<00:00,  3.82it/s]\n"
          ]
        },
        {
          "name": "stdout",
          "output_type": "stream",
          "text": [
            "Loss : 0.5608364939689636, Val Loss : 0.5518311262130737 Acc : 0.7384547591209412, Val Acc : 0.7384570240974426\n",
            "Epochs : 73\n"
          ]
        },
        {
          "name": "stderr",
          "output_type": "stream",
          "text": [
            "100%|██████████| 20/20 [00:12<00:00,  1.60it/s]\n"
          ]
        },
        {
          "name": "stdout",
          "output_type": "stream",
          "text": [
            "Loss : 0.559470534324646, Val Loss : 0.5506682991981506 Acc : 0.7391870617866516, Val Acc : 0.7391893863677979\n",
            "Epochs : 74\n"
          ]
        },
        {
          "name": "stderr",
          "output_type": "stream",
          "text": [
            "100%|██████████| 20/20 [00:06<00:00,  2.90it/s]\n"
          ]
        },
        {
          "name": "stdout",
          "output_type": "stream",
          "text": [
            "Loss : 0.5581822395324707, Val Loss : 0.5495675206184387 Acc : 0.7397454977035522, Val Acc : 0.7397478222846985\n",
            "Epochs : 75\n"
          ]
        },
        {
          "name": "stderr",
          "output_type": "stream",
          "text": [
            "100%|██████████| 20/20 [00:05<00:00,  3.67it/s]\n"
          ]
        },
        {
          "name": "stdout",
          "output_type": "stream",
          "text": [
            "Loss : 0.5576164126396179, Val Loss : 0.5630021691322327 Acc : 0.7403689026832581, Val Acc : 0.7403708696365356\n",
            "Epochs : 76\n"
          ]
        },
        {
          "name": "stderr",
          "output_type": "stream",
          "text": [
            "100%|██████████| 20/20 [00:07<00:00,  2.73it/s]\n"
          ]
        },
        {
          "name": "stdout",
          "output_type": "stream",
          "text": [
            "Loss : 0.5570483207702637, Val Loss : 0.5503256916999817 Acc : 0.7411189079284668, Val Acc : 0.7411208748817444\n",
            "Epochs : 77\n"
          ]
        },
        {
          "name": "stderr",
          "output_type": "stream",
          "text": [
            "100%|██████████| 20/20 [00:05<00:00,  3.45it/s]\n"
          ]
        },
        {
          "name": "stdout",
          "output_type": "stream",
          "text": [
            "Loss : 0.5563852787017822, Val Loss : 0.5618099570274353 Acc : 0.7418572902679443, Val Acc : 0.7418590784072876\n",
            "Epochs : 78\n"
          ]
        },
        {
          "name": "stderr",
          "output_type": "stream",
          "text": [
            "100%|██████████| 20/20 [00:07<00:00,  2.79it/s]\n"
          ]
        },
        {
          "name": "stdout",
          "output_type": "stream",
          "text": [
            "Loss : 0.5557151436805725, Val Loss : 0.5474465489387512 Acc : 0.7421902418136597, Val Acc : 0.742192268371582\n",
            "Epochs : 79\n"
          ]
        },
        {
          "name": "stderr",
          "output_type": "stream",
          "text": [
            "100%|██████████| 20/20 [00:07<00:00,  2.73it/s]\n"
          ]
        },
        {
          "name": "stdout",
          "output_type": "stream",
          "text": [
            "Loss : 0.5551954507827759, Val Loss : 0.5606775283813477 Acc : 0.7428172826766968, Val Acc : 0.74281907081604\n",
            "Epochs : 80\n"
          ]
        },
        {
          "name": "stderr",
          "output_type": "stream",
          "text": [
            "100%|██████████| 20/20 [00:07<00:00,  2.56it/s]\n"
          ]
        },
        {
          "name": "stdout",
          "output_type": "stream",
          "text": [
            "Loss : 0.5545472502708435, Val Loss : 0.5464507341384888 Acc : 0.743399441242218, Val Acc : 0.7434014081954956\n",
            "Epochs : 81\n"
          ]
        },
        {
          "name": "stderr",
          "output_type": "stream",
          "text": [
            "100%|██████████| 20/20 [00:07<00:00,  2.64it/s]\n"
          ]
        },
        {
          "name": "stdout",
          "output_type": "stream",
          "text": [
            "Loss : 0.5540479421615601, Val Loss : 0.5596049427986145 Acc : 0.7439827919006348, Val Acc : 0.7439844608306885\n",
            "Epochs : 82\n"
          ]
        },
        {
          "name": "stderr",
          "output_type": "stream",
          "text": [
            "100%|██████████| 20/20 [00:09<00:00,  2.09it/s]\n"
          ]
        },
        {
          "name": "stdout",
          "output_type": "stream",
          "text": [
            "Loss : 0.5534369349479675, Val Loss : 0.5455033779144287 Acc : 0.7445505857467651, Val Acc : 0.744552493095398\n",
            "Epochs : 83\n"
          ]
        },
        {
          "name": "stderr",
          "output_type": "stream",
          "text": [
            "100%|██████████| 20/20 [00:08<00:00,  2.43it/s]\n"
          ]
        },
        {
          "name": "stdout",
          "output_type": "stream",
          "text": [
            "Loss : 0.5529683828353882, Val Loss : 0.5586221218109131 Acc : 0.7451146245002747, Val Acc : 0.7451162934303284\n",
            "Epochs : 84\n"
          ]
        },
        {
          "name": "stderr",
          "output_type": "stream",
          "text": [
            "100%|██████████| 20/20 [00:05<00:00,  3.48it/s]\n"
          ]
        },
        {
          "name": "stdout",
          "output_type": "stream",
          "text": [
            "Loss : 0.5523710250854492, Val Loss : 0.5445945858955383 Acc : 0.7456508278846741, Val Acc : 0.7456527352333069\n",
            "Epochs : 85\n"
          ]
        },
        {
          "name": "stderr",
          "output_type": "stream",
          "text": [
            "100%|██████████| 20/20 [00:06<00:00,  3.33it/s]\n"
          ]
        },
        {
          "name": "stdout",
          "output_type": "stream",
          "text": [
            "Loss : 0.5515395998954773, Val Loss : 0.5454199910163879 Acc : 0.7462349534034729, Val Acc : 0.7462366223335266\n",
            "Epochs : 86\n"
          ]
        },
        {
          "name": "stderr",
          "output_type": "stream",
          "text": [
            "100%|██████████| 20/20 [00:06<00:00,  3.23it/s]\n"
          ]
        },
        {
          "name": "stdout",
          "output_type": "stream",
          "text": [
            "Loss : 0.5510146021842957, Val Loss : 0.5450651049613953 Acc : 0.7467346787452698, Val Acc : 0.7467362880706787\n",
            "Epochs : 87\n"
          ]
        },
        {
          "name": "stderr",
          "output_type": "stream",
          "text": [
            "100%|██████████| 20/20 [00:06<00:00,  2.96it/s]\n"
          ]
        },
        {
          "name": "stdout",
          "output_type": "stream",
          "text": [
            "Loss : 0.5494630932807922, Val Loss : 0.5435947179794312 Acc : 0.7476378679275513, Val Acc : 0.7476394176483154\n",
            "Epochs : 88\n"
          ]
        },
        {
          "name": "stderr",
          "output_type": "stream",
          "text": [
            "100%|██████████| 20/20 [00:05<00:00,  3.47it/s]\n"
          ]
        },
        {
          "name": "stdout",
          "output_type": "stream",
          "text": [
            "Loss : 0.5489533543586731, Val Loss : 0.5432334542274475 Acc : 0.7478267550468445, Val Acc : 0.7478283047676086\n",
            "Epochs : 89\n"
          ]
        },
        {
          "name": "stderr",
          "output_type": "stream",
          "text": [
            "100%|██████████| 20/20 [00:05<00:00,  3.88it/s]\n"
          ]
        },
        {
          "name": "stdout",
          "output_type": "stream",
          "text": [
            "Loss : 0.5484466552734375, Val Loss : 0.5426939129829407 Acc : 0.7483372092247009, Val Acc : 0.7483387589454651\n",
            "Epochs : 90\n"
          ]
        },
        {
          "name": "stderr",
          "output_type": "stream",
          "text": [
            "100%|██████████| 20/20 [00:05<00:00,  3.34it/s]\n"
          ]
        },
        {
          "name": "stdout",
          "output_type": "stream",
          "text": [
            "Loss : 0.547439694404602, Val Loss : 0.5418007969856262 Acc : 0.7490512132644653, Val Acc : 0.7490527629852295\n",
            "Epochs : 91\n"
          ]
        },
        {
          "name": "stderr",
          "output_type": "stream",
          "text": [
            "100%|██████████| 20/20 [00:05<00:00,  3.34it/s]\n"
          ]
        },
        {
          "name": "stdout",
          "output_type": "stream",
          "text": [
            "Loss : 0.5469404458999634, Val Loss : 0.5414443016052246 Acc : 0.7492148876190186, Val Acc : 0.7492163777351379\n",
            "Epochs : 92\n"
          ]
        },
        {
          "name": "stderr",
          "output_type": "stream",
          "text": [
            "100%|██████████| 20/20 [00:06<00:00,  3.02it/s]\n"
          ]
        },
        {
          "name": "stdout",
          "output_type": "stream",
          "text": [
            "Loss : 0.5459542870521545, Val Loss : 0.5405718684196472 Acc : 0.7499194145202637, Val Acc : 0.7499209046363831\n",
            "Epochs : 93\n"
          ]
        },
        {
          "name": "stderr",
          "output_type": "stream",
          "text": [
            "100%|██████████| 20/20 [00:05<00:00,  3.34it/s]\n"
          ]
        },
        {
          "name": "stdout",
          "output_type": "stream",
          "text": [
            "Loss : 0.5454658269882202, Val Loss : 0.5400527119636536 Acc : 0.7502861022949219, Val Acc : 0.7502875328063965\n",
            "Epochs : 94\n"
          ]
        },
        {
          "name": "stderr",
          "output_type": "stream",
          "text": [
            "100%|██████████| 20/20 [00:05<00:00,  3.67it/s]\n"
          ]
        },
        {
          "name": "stdout",
          "output_type": "stream",
          "text": [
            "Loss : 0.5449811220169067, Val Loss : 0.5397008061408997 Acc : 0.7507150769233704, Val Acc : 0.7507164478302002\n",
            "Epochs : 95\n"
          ]
        },
        {
          "name": "stderr",
          "output_type": "stream",
          "text": [
            "100%|██████████| 20/20 [00:06<00:00,  3.33it/s]\n"
          ]
        },
        {
          "name": "stdout",
          "output_type": "stream",
          "text": [
            "Loss : 0.5440248847007751, Val Loss : 0.5388627052307129 Acc : 0.7511500716209412, Val Acc : 0.751151442527771\n",
            "Epochs : 96\n"
          ]
        },
        {
          "name": "stderr",
          "output_type": "stream",
          "text": [
            "100%|██████████| 20/20 [00:06<00:00,  3.03it/s]\n"
          ]
        },
        {
          "name": "stdout",
          "output_type": "stream",
          "text": [
            "Loss : 0.543550431728363, Val Loss : 0.5383713841438293 Acc : 0.751560389995575, Val Acc : 0.7515617609024048\n",
            "Epochs : 97\n"
          ]
        },
        {
          "name": "stderr",
          "output_type": "stream",
          "text": [
            "100%|██████████| 20/20 [00:07<00:00,  2.85it/s]\n"
          ]
        },
        {
          "name": "stdout",
          "output_type": "stream",
          "text": [
            "Loss : 0.5430777668952942, Val Loss : 0.5380333065986633 Acc : 0.7520488500595093, Val Acc : 0.7520502209663391\n",
            "Epochs : 98\n"
          ]
        },
        {
          "name": "stderr",
          "output_type": "stream",
          "text": [
            "100%|██████████| 20/20 [00:07<00:00,  2.76it/s]\n"
          ]
        },
        {
          "name": "stdout",
          "output_type": "stream",
          "text": [
            "Loss : 0.5426080226898193, Val Loss : 0.5375508666038513 Acc : 0.7526028156280518, Val Acc : 0.7526041269302368\n",
            "Epochs : 99\n"
          ]
        },
        {
          "name": "stderr",
          "output_type": "stream",
          "text": [
            "100%|██████████| 20/20 [00:05<00:00,  3.83it/s]\n"
          ]
        },
        {
          "name": "stdout",
          "output_type": "stream",
          "text": [
            "Loss : 0.5421434044837952, Val Loss : 0.5372191071510315 Acc : 0.7530301809310913, Val Acc : 0.7530314326286316\n",
            "Epochs : 100\n"
          ]
        },
        {
          "name": "stderr",
          "output_type": "stream",
          "text": [
            "100%|██████████| 20/20 [00:07<00:00,  2.86it/s]\n"
          ]
        },
        {
          "name": "stdout",
          "output_type": "stream",
          "text": [
            "Loss : 0.5412235856056213, Val Loss : 0.536424994468689 Acc : 0.7534677982330322, Val Acc : 0.7534690499305725\n",
            "Epochs : 101\n"
          ]
        },
        {
          "name": "stderr",
          "output_type": "stream",
          "text": [
            "100%|██████████| 20/20 [00:06<00:00,  3.01it/s]\n"
          ]
        },
        {
          "name": "stdout",
          "output_type": "stream",
          "text": [
            "Loss : 0.5407702326774597, Val Loss : 0.5359412431716919 Acc : 0.7539429664611816, Val Acc : 0.7539442181587219\n",
            "Epochs : 102\n"
          ]
        },
        {
          "name": "stderr",
          "output_type": "stream",
          "text": [
            "100%|██████████| 20/20 [00:06<00:00,  3.10it/s]\n"
          ]
        },
        {
          "name": "stdout",
          "output_type": "stream",
          "text": [
            "Loss : 0.5403201580047607, Val Loss : 0.5356428623199463 Acc : 0.7543416619300842, Val Acc : 0.7543428540229797\n",
            "Epochs : 103\n"
          ]
        },
        {
          "name": "stderr",
          "output_type": "stream",
          "text": [
            "100%|██████████| 20/20 [00:06<00:00,  3.33it/s]\n"
          ]
        },
        {
          "name": "stdout",
          "output_type": "stream",
          "text": [
            "Loss : 0.5398718118667603, Val Loss : 0.5351577401161194 Acc : 0.7547622919082642, Val Acc : 0.7547634840011597\n",
            "Epochs : 104\n"
          ]
        },
        {
          "name": "stderr",
          "output_type": "stream",
          "text": [
            "100%|██████████| 20/20 [00:06<00:00,  3.12it/s]\n"
          ]
        },
        {
          "name": "stdout",
          "output_type": "stream",
          "text": [
            "Loss : 0.5394243597984314, Val Loss : 0.5348600745201111 Acc : 0.7551893591880798, Val Acc : 0.7551904916763306\n",
            "Epochs : 105\n"
          ]
        },
        {
          "name": "stderr",
          "output_type": "stream",
          "text": [
            "100%|██████████| 20/20 [00:06<00:00,  3.02it/s]\n"
          ]
        },
        {
          "name": "stdout",
          "output_type": "stream",
          "text": [
            "Loss : 0.53853440284729, Val Loss : 0.5340787172317505 Acc : 0.7555945515632629, Val Acc : 0.7555956840515137\n",
            "Epochs : 106\n"
          ]
        },
        {
          "name": "stderr",
          "output_type": "stream",
          "text": [
            "100%|██████████| 20/20 [00:05<00:00,  3.69it/s]\n"
          ]
        },
        {
          "name": "stdout",
          "output_type": "stream",
          "text": [
            "Loss : 0.5380933284759521, Val Loss : 0.533588707447052 Acc : 0.7560336589813232, Val Acc : 0.756034791469574\n",
            "Epochs : 107\n"
          ]
        },
        {
          "name": "stderr",
          "output_type": "stream",
          "text": [
            "100%|██████████| 20/20 [00:06<00:00,  3.13it/s]\n"
          ]
        },
        {
          "name": "stdout",
          "output_type": "stream",
          "text": [
            "Loss : 0.5376537442207336, Val Loss : 0.5333070755004883 Acc : 0.7563657760620117, Val Acc : 0.7563669085502625\n",
            "Epochs : 108\n"
          ]
        },
        {
          "name": "stderr",
          "output_type": "stream",
          "text": [
            "100%|██████████| 20/20 [00:06<00:00,  3.04it/s]\n"
          ]
        },
        {
          "name": "stdout",
          "output_type": "stream",
          "text": [
            "Loss : 0.537216305732727, Val Loss : 0.5328085422515869 Acc : 0.7567639946937561, Val Acc : 0.7567650675773621\n",
            "Epochs : 109\n"
          ]
        },
        {
          "name": "stderr",
          "output_type": "stream",
          "text": [
            "100%|██████████| 20/20 [00:06<00:00,  3.14it/s]\n"
          ]
        },
        {
          "name": "stdout",
          "output_type": "stream",
          "text": [
            "Loss : 0.5368338823318481, Val Loss : 0.532588005065918 Acc : 0.7572588920593262, Val Acc : 0.7572600245475769\n",
            "Epochs : 110\n"
          ]
        },
        {
          "name": "stderr",
          "output_type": "stream",
          "text": [
            "100%|██████████| 20/20 [00:06<00:00,  3.13it/s]\n"
          ]
        },
        {
          "name": "stdout",
          "output_type": "stream",
          "text": [
            "Loss : 0.5357896685600281, Val Loss : 0.5328021049499512 Acc : 0.7578125596046448, Val Acc : 0.7578139305114746\n",
            "Epochs : 111\n"
          ]
        },
        {
          "name": "stderr",
          "output_type": "stream",
          "text": [
            "100%|██████████| 20/20 [00:07<00:00,  2.78it/s]\n"
          ]
        },
        {
          "name": "stdout",
          "output_type": "stream",
          "text": [
            "Loss : 0.5344926118850708, Val Loss : 0.53183513879776 Acc : 0.7581900954246521, Val Acc : 0.7581914663314819\n",
            "Epochs : 112\n"
          ]
        },
        {
          "name": "stderr",
          "output_type": "stream",
          "text": [
            "100%|██████████| 20/20 [00:07<00:00,  2.72it/s]\n"
          ]
        },
        {
          "name": "stdout",
          "output_type": "stream",
          "text": [
            "Loss : 0.5336433053016663, Val Loss : 0.531063973903656 Acc : 0.7582423686981201, Val Acc : 0.75824373960495\n",
            "Epochs : 113\n"
          ]
        },
        {
          "name": "stderr",
          "output_type": "stream",
          "text": [
            "100%|██████████| 20/20 [00:08<00:00,  2.25it/s]\n"
          ]
        },
        {
          "name": "stdout",
          "output_type": "stream",
          "text": [
            "Loss : 0.5328073501586914, Val Loss : 0.5303083062171936 Acc : 0.758634626865387, Val Acc : 0.7586360573768616\n",
            "Epochs : 114\n"
          ]
        },
        {
          "name": "stderr",
          "output_type": "stream",
          "text": [
            "100%|██████████| 20/20 [00:05<00:00,  3.60it/s]\n"
          ]
        },
        {
          "name": "stdout",
          "output_type": "stream",
          "text": [
            "Loss : 0.5328110456466675, Val Loss : 0.5303125381469727 Acc : 0.7589267492294312, Val Acc : 0.758928120136261\n",
            "Epochs : 115\n"
          ]
        },
        {
          "name": "stderr",
          "output_type": "stream",
          "text": [
            "100%|██████████| 20/20 [00:06<00:00,  3.20it/s]\n"
          ]
        },
        {
          "name": "stdout",
          "output_type": "stream",
          "text": [
            "Loss : 0.5319891571998596, Val Loss : 0.52957683801651 Acc : 0.7595140337944031, Val Acc : 0.7595154047012329\n",
            "Epochs : 116\n"
          ]
        },
        {
          "name": "stderr",
          "output_type": "stream",
          "text": [
            "100%|██████████| 20/20 [00:06<00:00,  3.30it/s]\n"
          ]
        },
        {
          "name": "stdout",
          "output_type": "stream",
          "text": [
            "Loss : 0.531582236289978, Val Loss : 0.5290069580078125 Acc : 0.7596026062965393, Val Acc : 0.7596039175987244\n",
            "Epochs : 117\n"
          ]
        },
        {
          "name": "stderr",
          "output_type": "stream",
          "text": [
            "100%|██████████| 20/20 [00:06<00:00,  3.18it/s]\n"
          ]
        },
        {
          "name": "stdout",
          "output_type": "stream",
          "text": [
            "Loss : 0.5303764939308167, Val Loss : 0.5281373262405396 Acc : 0.7601635456085205, Val Acc : 0.7601648569107056\n",
            "Epochs : 118\n"
          ]
        },
        {
          "name": "stderr",
          "output_type": "stream",
          "text": [
            "100%|██████████| 20/20 [00:06<00:00,  3.05it/s]\n"
          ]
        },
        {
          "name": "stdout",
          "output_type": "stream",
          "text": [
            "Loss : 0.5299791693687439, Val Loss : 0.527574896812439 Acc : 0.7602853178977966, Val Acc : 0.7602866888046265\n",
            "Epochs : 119\n"
          ]
        },
        {
          "name": "stderr",
          "output_type": "stream",
          "text": [
            "100%|██████████| 20/20 [00:08<00:00,  2.34it/s]\n"
          ]
        },
        {
          "name": "stdout",
          "output_type": "stream",
          "text": [
            "Loss : 0.5295851826667786, Val Loss : 0.5274380445480347 Acc : 0.7606160640716553, Val Acc : 0.7606173157691956\n",
            "Epochs : 120\n"
          ]
        },
        {
          "name": "stderr",
          "output_type": "stream",
          "text": [
            "100%|██████████| 20/20 [00:08<00:00,  2.48it/s]\n"
          ]
        },
        {
          "name": "stdout",
          "output_type": "stream",
          "text": [
            "Loss : 0.5288047790527344, Val Loss : 0.5267496109008789 Acc : 0.7611836194992065, Val Acc : 0.7611848711967468\n",
            "Epochs : 121\n"
          ]
        },
        {
          "name": "stderr",
          "output_type": "stream",
          "text": [
            "100%|██████████| 20/20 [00:06<00:00,  3.31it/s]\n"
          ]
        },
        {
          "name": "stdout",
          "output_type": "stream",
          "text": [
            "Loss : 0.528037965297699, Val Loss : 0.5260803699493408 Acc : 0.7613723278045654, Val Acc : 0.7613735198974609\n",
            "Epochs : 122\n"
          ]
        },
        {
          "name": "stderr",
          "output_type": "stream",
          "text": [
            "100%|██████████| 20/20 [00:05<00:00,  3.44it/s]\n"
          ]
        },
        {
          "name": "stdout",
          "output_type": "stream",
          "text": [
            "Loss : 0.5276589393615723, Val Loss : 0.5255261659622192 Acc : 0.7615334391593933, Val Acc : 0.7615346312522888\n",
            "Epochs : 123\n"
          ]
        },
        {
          "name": "stderr",
          "output_type": "stream",
          "text": [
            "100%|██████████| 20/20 [00:06<00:00,  3.22it/s]\n"
          ]
        },
        {
          "name": "stdout",
          "output_type": "stream",
          "text": [
            "Loss : 0.5272817015647888, Val Loss : 0.5254307389259338 Acc : 0.7618386745452881, Val Acc : 0.7618398666381836\n",
            "Epochs : 124\n"
          ]
        },
        {
          "name": "stderr",
          "output_type": "stream",
          "text": [
            "100%|██████████| 20/20 [00:07<00:00,  2.83it/s]\n"
          ]
        },
        {
          "name": "stdout",
          "output_type": "stream",
          "text": [
            "Loss : 0.526533305644989, Val Loss : 0.5247929096221924 Acc : 0.7624179720878601, Val Acc : 0.7624191641807556\n",
            "Epochs : 125\n"
          ]
        },
        {
          "name": "stderr",
          "output_type": "stream",
          "text": [
            "100%|██████████| 20/20 [00:09<00:00,  2.04it/s]\n"
          ]
        },
        {
          "name": "stdout",
          "output_type": "stream",
          "text": [
            "Loss : 0.5254327058792114, Val Loss : 0.5235763192176819 Acc : 0.7625488042831421, Val Acc : 0.7625500559806824\n",
            "Epochs : 126\n"
          ]
        },
        {
          "name": "stderr",
          "output_type": "stream",
          "text": [
            "100%|██████████| 20/20 [00:08<00:00,  2.41it/s]\n"
          ]
        },
        {
          "name": "stdout",
          "output_type": "stream",
          "text": [
            "Loss : 0.5250700116157532, Val Loss : 0.5235299468040466 Acc : 0.7628140449523926, Val Acc : 0.7628151774406433\n",
            "Epochs : 127\n"
          ]
        },
        {
          "name": "stderr",
          "output_type": "stream",
          "text": [
            "100%|██████████| 20/20 [00:05<00:00,  3.35it/s]\n"
          ]
        },
        {
          "name": "stdout",
          "output_type": "stream",
          "text": [
            "Loss : 0.5243520140647888, Val Loss : 0.5229209661483765 Acc : 0.7633972764015198, Val Acc : 0.7633983492851257\n",
            "Epochs : 128\n"
          ]
        },
        {
          "name": "stderr",
          "output_type": "stream",
          "text": [
            "100%|██████████| 20/20 [00:05<00:00,  3.61it/s]\n"
          ]
        },
        {
          "name": "stdout",
          "output_type": "stream",
          "text": [
            "Loss : 0.5239962339401245, Val Loss : 0.522321879863739 Acc : 0.7634438872337341, Val Acc : 0.7634450793266296\n",
            "Epochs : 129\n"
          ]
        },
        {
          "name": "stderr",
          "output_type": "stream",
          "text": [
            "100%|██████████| 20/20 [00:05<00:00,  3.83it/s]\n"
          ]
        },
        {
          "name": "stdout",
          "output_type": "stream",
          "text": [
            "Loss : 0.5232913494110107, Val Loss : 0.5217135548591614 Acc : 0.7639082670211792, Val Acc : 0.7639093995094299\n",
            "Epochs : 130\n"
          ]
        },
        {
          "name": "stderr",
          "output_type": "stream",
          "text": [
            "100%|██████████| 20/20 [00:05<00:00,  3.59it/s]\n"
          ]
        },
        {
          "name": "stdout",
          "output_type": "stream",
          "text": [
            "Loss : 0.5225919485092163, Val Loss : 0.5211117267608643 Acc : 0.7642387747764587, Val Acc : 0.7642398476600647\n",
            "Epochs : 131\n"
          ]
        },
        {
          "name": "stderr",
          "output_type": "stream",
          "text": [
            "100%|██████████| 20/20 [00:05<00:00,  3.59it/s]\n"
          ]
        },
        {
          "name": "stdout",
          "output_type": "stream",
          "text": [
            "Loss : 0.5222447514533997, Val Loss : 0.52116459608078 Acc : 0.7643239498138428, Val Acc : 0.7643250226974487\n",
            "Epochs : 132\n"
          ]
        },
        {
          "name": "stderr",
          "output_type": "stream",
          "text": [
            "100%|██████████| 20/20 [00:04<00:00,  4.25it/s]\n"
          ]
        },
        {
          "name": "stdout",
          "output_type": "stream",
          "text": [
            "Loss : 0.5219008922576904, Val Loss : 0.5205195546150208 Acc : 0.7646217346191406, Val Acc : 0.7646228075027466\n",
            "Epochs : 133\n"
          ]
        },
        {
          "name": "stderr",
          "output_type": "stream",
          "text": [
            "100%|██████████| 20/20 [00:05<00:00,  3.83it/s]\n"
          ]
        },
        {
          "name": "stdout",
          "output_type": "stream",
          "text": [
            "Loss : 0.5215590000152588, Val Loss : 0.5205838084220886 Acc : 0.7648681998252869, Val Acc : 0.764869213104248\n",
            "Epochs : 134\n"
          ]
        },
        {
          "name": "stderr",
          "output_type": "stream",
          "text": [
            "100%|██████████| 20/20 [00:04<00:00,  4.00it/s]\n"
          ]
        },
        {
          "name": "stdout",
          "output_type": "stream",
          "text": [
            "Loss : 0.5212188959121704, Val Loss : 0.5199330449104309 Acc : 0.7651374936103821, Val Acc : 0.7651386260986328\n",
            "Epochs : 135\n"
          ]
        },
        {
          "name": "stderr",
          "output_type": "stream",
          "text": [
            "100%|██████████| 20/20 [00:05<00:00,  3.73it/s]\n"
          ]
        },
        {
          "name": "stdout",
          "output_type": "stream",
          "text": [
            "Loss : 0.5208815336227417, Val Loss : 0.5200178623199463 Acc : 0.7653909921646118, Val Acc : 0.7653921246528625\n",
            "Epochs : 136\n"
          ]
        },
        {
          "name": "stderr",
          "output_type": "stream",
          "text": [
            "100%|██████████| 20/20 [00:05<00:00,  3.89it/s]\n"
          ]
        },
        {
          "name": "stdout",
          "output_type": "stream",
          "text": [
            "Loss : 0.5202128291130066, Val Loss : 0.5194718241691589 Acc : 0.7656896114349365, Val Acc : 0.7656906843185425\n",
            "Epochs : 137\n"
          ]
        },
        {
          "name": "stderr",
          "output_type": "stream",
          "text": [
            "100%|██████████| 20/20 [00:04<00:00,  4.18it/s]\n"
          ]
        },
        {
          "name": "stdout",
          "output_type": "stream",
          "text": [
            "Loss : 0.5198809504508972, Val Loss : 0.5187867283821106 Acc : 0.7659384608268738, Val Acc : 0.765939474105835\n",
            "Epochs : 138\n"
          ]
        },
        {
          "name": "stderr",
          "output_type": "stream",
          "text": [
            "100%|██████████| 20/20 [00:05<00:00,  3.50it/s]\n"
          ]
        },
        {
          "name": "stdout",
          "output_type": "stream",
          "text": [
            "Loss : 0.5192221999168396, Val Loss : 0.5182251334190369 Acc : 0.7662325501441956, Val Acc : 0.766233503818512\n",
            "Epochs : 139\n"
          ]
        },
        {
          "name": "stderr",
          "output_type": "stream",
          "text": [
            "100%|██████████| 20/20 [00:05<00:00,  3.78it/s]\n"
          ]
        },
        {
          "name": "stdout",
          "output_type": "stream",
          "text": [
            "Loss : 0.5188966393470764, Val Loss : 0.5184080600738525 Acc : 0.7664554119110107, Val Acc : 0.7664564847946167\n",
            "Epochs : 140\n"
          ]
        },
        {
          "name": "stderr",
          "output_type": "stream",
          "text": [
            "100%|██████████| 20/20 [00:05<00:00,  3.94it/s]\n"
          ]
        },
        {
          "name": "stdout",
          "output_type": "stream",
          "text": [
            "Loss : 0.5185742974281311, Val Loss : 0.5176690816879272 Acc : 0.7667036652565002, Val Acc : 0.7667046785354614\n",
            "Epochs : 141\n"
          ]
        },
        {
          "name": "stderr",
          "output_type": "stream",
          "text": [
            "100%|██████████| 20/20 [00:05<00:00,  3.92it/s]\n"
          ]
        },
        {
          "name": "stdout",
          "output_type": "stream",
          "text": [
            "Loss : 0.5182543396949768, Val Loss : 0.5178977847099304 Acc : 0.7669596076011658, Val Acc : 0.766960620880127\n",
            "Epochs : 142\n"
          ]
        },
        {
          "name": "stderr",
          "output_type": "stream",
          "text": [
            "100%|██████████| 20/20 [00:05<00:00,  3.92it/s]\n"
          ]
        },
        {
          "name": "stdout",
          "output_type": "stream",
          "text": [
            "Loss : 0.5179362297058105, Val Loss : 0.517116367816925 Acc : 0.7671946883201599, Val Acc : 0.7671956419944763\n",
            "Epochs : 143\n"
          ]
        },
        {
          "name": "stderr",
          "output_type": "stream",
          "text": [
            "100%|██████████| 20/20 [00:05<00:00,  3.81it/s]\n"
          ]
        },
        {
          "name": "stdout",
          "output_type": "stream",
          "text": [
            "Loss : 0.5176208019256592, Val Loss : 0.5173937082290649 Acc : 0.7674633860588074, Val Acc : 0.7674644589424133\n",
            "Epochs : 144\n"
          ]
        },
        {
          "name": "stderr",
          "output_type": "stream",
          "text": [
            "100%|██████████| 20/20 [00:08<00:00,  2.48it/s]\n"
          ]
        },
        {
          "name": "stdout",
          "output_type": "stream",
          "text": [
            "Loss : 0.5169979333877563, Val Loss : 0.5169056057929993 Acc : 0.7679036259651184, Val Acc : 0.7679046988487244\n",
            "Epochs : 145\n"
          ]
        },
        {
          "name": "stderr",
          "output_type": "stream",
          "text": [
            "100%|██████████| 20/20 [00:05<00:00,  3.72it/s]\n"
          ]
        },
        {
          "name": "stdout",
          "output_type": "stream",
          "text": [
            "Loss : 0.5166900753974915, Val Loss : 0.5160375237464905 Acc : 0.7679259777069092, Val Acc : 0.7679268717765808\n",
            "Epochs : 146\n"
          ]
        },
        {
          "name": "stderr",
          "output_type": "stream",
          "text": [
            "100%|██████████| 20/20 [00:05<00:00,  3.51it/s]\n"
          ]
        },
        {
          "name": "stdout",
          "output_type": "stream",
          "text": [
            "Loss : 0.5154802799224854, Val Loss : 0.514968752861023 Acc : 0.7683730721473694, Val Acc : 0.768373966217041\n",
            "Epochs : 147\n"
          ]
        },
        {
          "name": "stderr",
          "output_type": "stream",
          "text": [
            "100%|██████████| 20/20 [00:05<00:00,  3.94it/s]\n"
          ]
        },
        {
          "name": "stdout",
          "output_type": "stream",
          "text": [
            "Loss : 0.514889121055603, Val Loss : 0.5144364237785339 Acc : 0.7684746980667114, Val Acc : 0.7684755921363831\n",
            "Epochs : 148\n"
          ]
        },
        {
          "name": "stderr",
          "output_type": "stream",
          "text": [
            "100%|██████████| 20/20 [00:05<00:00,  3.81it/s]\n"
          ]
        },
        {
          "name": "stdout",
          "output_type": "stream",
          "text": [
            "Loss : 0.5143060684204102, Val Loss : 0.5139039754867554 Acc : 0.7688549757003784, Val Acc : 0.7688559293746948\n",
            "Epochs : 149\n"
          ]
        },
        {
          "name": "stderr",
          "output_type": "stream",
          "text": [
            "100%|██████████| 20/20 [00:05<00:00,  3.39it/s]\n"
          ]
        },
        {
          "name": "stdout",
          "output_type": "stream",
          "text": [
            "Loss : 0.5137305855751038, Val Loss : 0.5133777856826782 Acc : 0.7689284682273865, Val Acc : 0.7689293026924133\n",
            "Epochs : 150\n"
          ]
        },
        {
          "name": "stderr",
          "output_type": "stream",
          "text": [
            "100%|██████████| 20/20 [00:06<00:00,  3.33it/s]\n"
          ]
        },
        {
          "name": "stdout",
          "output_type": "stream",
          "text": [
            "Loss : 0.5134451389312744, Val Loss : 0.5143008828163147 Acc : 0.769126296043396, Val Acc : 0.7691273093223572\n",
            "Epochs : 151\n"
          ]
        },
        {
          "name": "stderr",
          "output_type": "stream",
          "text": [
            "100%|██████████| 20/20 [00:05<00:00,  3.80it/s]\n"
          ]
        },
        {
          "name": "stdout",
          "output_type": "stream",
          "text": [
            "Loss : 0.5131608843803406, Val Loss : 0.5128577947616577 Acc : 0.7693830728530884, Val Acc : 0.7693839073181152\n",
            "Epochs : 152\n"
          ]
        },
        {
          "name": "stderr",
          "output_type": "stream",
          "text": [
            "100%|██████████| 20/20 [00:05<00:00,  3.68it/s]\n"
          ]
        },
        {
          "name": "stdout",
          "output_type": "stream",
          "text": [
            "Loss : 0.5125996470451355, Val Loss : 0.5123419165611267 Acc : 0.7696268558502197, Val Acc : 0.7696276903152466\n",
            "Epochs : 153\n"
          ]
        },
        {
          "name": "stderr",
          "output_type": "stream",
          "text": [
            "100%|██████████| 20/20 [00:05<00:00,  3.93it/s]\n"
          ]
        },
        {
          "name": "stdout",
          "output_type": "stream",
          "text": [
            "Loss : 0.5120468735694885, Val Loss : 0.5118337869644165 Acc : 0.7699009776115417, Val Acc : 0.7699018120765686\n",
            "Epochs : 154\n"
          ]
        },
        {
          "name": "stderr",
          "output_type": "stream",
          "text": [
            "100%|██████████| 20/20 [00:05<00:00,  3.36it/s]\n"
          ]
        },
        {
          "name": "stdout",
          "output_type": "stream",
          "text": [
            "Loss : 0.5115056037902832, Val Loss : 0.5113234519958496 Acc : 0.7702172994613647, Val Acc : 0.7702180743217468\n",
            "Epochs : 155\n"
          ]
        },
        {
          "name": "stderr",
          "output_type": "stream",
          "text": [
            "100%|██████████| 20/20 [00:05<00:00,  3.49it/s]\n"
          ]
        },
        {
          "name": "stdout",
          "output_type": "stream",
          "text": [
            "Loss : 0.5112403631210327, Val Loss : 0.51289302110672 Acc : 0.7702948451042175, Val Acc : 0.7702958583831787\n",
            "Epochs : 156\n"
          ]
        },
        {
          "name": "stderr",
          "output_type": "stream",
          "text": [
            "100%|██████████| 20/20 [00:05<00:00,  3.55it/s]\n"
          ]
        },
        {
          "name": "stdout",
          "output_type": "stream",
          "text": [
            "Loss : 0.5109781622886658, Val Loss : 0.5108133554458618 Acc : 0.7705227732658386, Val Acc : 0.7705235481262207\n",
            "Epochs : 157\n"
          ]
        },
        {
          "name": "stderr",
          "output_type": "stream",
          "text": [
            "100%|██████████| 20/20 [00:04<00:00,  4.35it/s]\n"
          ]
        },
        {
          "name": "stdout",
          "output_type": "stream",
          "text": [
            "Loss : 0.510720431804657, Val Loss : 0.5125977396965027 Acc : 0.7707506418228149, Val Acc : 0.7707515954971313\n",
            "Epochs : 158\n"
          ]
        },
        {
          "name": "stderr",
          "output_type": "stream",
          "text": [
            "100%|██████████| 20/20 [00:04<00:00,  4.04it/s]\n"
          ]
        },
        {
          "name": "stdout",
          "output_type": "stream",
          "text": [
            "Loss : 0.5104653835296631, Val Loss : 0.5103013515472412 Acc : 0.770928144454956, Val Acc : 0.7709289193153381\n",
            "Epochs : 159\n"
          ]
        },
        {
          "name": "stderr",
          "output_type": "stream",
          "text": [
            "100%|██████████| 20/20 [00:04<00:00,  4.01it/s]\n"
          ]
        },
        {
          "name": "stdout",
          "output_type": "stream",
          "text": [
            "Loss : 0.5102167129516602, Val Loss : 0.5123381614685059 Acc : 0.7711236476898193, Val Acc : 0.771124541759491\n",
            "Epochs : 160\n"
          ]
        },
        {
          "name": "stderr",
          "output_type": "stream",
          "text": [
            "100%|██████████| 20/20 [00:05<00:00,  3.78it/s]\n"
          ]
        },
        {
          "name": "stdout",
          "output_type": "stream",
          "text": [
            "Loss : 0.5099713802337646, Val Loss : 0.5097810626029968 Acc : 0.7713153958320618, Val Acc : 0.7713162302970886\n",
            "Epochs : 161\n"
          ]
        },
        {
          "name": "stderr",
          "output_type": "stream",
          "text": [
            "100%|██████████| 20/20 [00:06<00:00,  3.30it/s]\n"
          ]
        },
        {
          "name": "stdout",
          "output_type": "stream",
          "text": [
            "Loss : 0.5097336769104004, Val Loss : 0.5121121406555176 Acc : 0.7715156078338623, Val Acc : 0.7715165019035339\n",
            "Epochs : 162\n"
          ]
        },
        {
          "name": "stderr",
          "output_type": "stream",
          "text": [
            "100%|██████████| 20/20 [00:05<00:00,  3.78it/s]\n"
          ]
        },
        {
          "name": "stdout",
          "output_type": "stream",
          "text": [
            "Loss : 0.5095002055168152, Val Loss : 0.50926274061203 Acc : 0.7717348337173462, Val Acc : 0.7717355489730835\n",
            "Epochs : 163\n"
          ]
        },
        {
          "name": "stderr",
          "output_type": "stream",
          "text": [
            "100%|██████████| 20/20 [00:05<00:00,  3.56it/s]\n"
          ]
        },
        {
          "name": "stdout",
          "output_type": "stream",
          "text": [
            "Loss : 0.5092764496803284, Val Loss : 0.5119386315345764 Acc : 0.771928608417511, Val Acc : 0.7719294428825378\n",
            "Epochs : 164\n"
          ]
        },
        {
          "name": "stderr",
          "output_type": "stream",
          "text": [
            "100%|██████████| 20/20 [00:05<00:00,  3.90it/s]\n"
          ]
        },
        {
          "name": "stdout",
          "output_type": "stream",
          "text": [
            "Loss : 0.5090562105178833, Val Loss : 0.508750855922699 Acc : 0.7721529006958008, Val Acc : 0.7721536159515381\n",
            "Epochs : 165\n"
          ]
        },
        {
          "name": "stderr",
          "output_type": "stream",
          "text": [
            "100%|██████████| 20/20 [00:05<00:00,  3.93it/s]\n"
          ]
        },
        {
          "name": "stdout",
          "output_type": "stream",
          "text": [
            "Loss : 0.5086430907249451, Val Loss : 0.5082449913024902 Acc : 0.7724155783653259, Val Acc : 0.7724162936210632\n",
            "Epochs : 166\n"
          ]
        },
        {
          "name": "stderr",
          "output_type": "stream",
          "text": [
            "100%|██████████| 20/20 [00:05<00:00,  3.66it/s]\n"
          ]
        },
        {
          "name": "stdout",
          "output_type": "stream",
          "text": [
            "Loss : 0.5084548592567444, Val Loss : 0.5117560029029846 Acc : 0.7725265026092529, Val Acc : 0.772527277469635\n",
            "Epochs : 167\n"
          ]
        },
        {
          "name": "stderr",
          "output_type": "stream",
          "text": [
            "100%|██████████| 20/20 [00:05<00:00,  3.85it/s]\n"
          ]
        },
        {
          "name": "stdout",
          "output_type": "stream",
          "text": [
            "Loss : 0.5081002712249756, Val Loss : 0.5117595791816711 Acc : 0.7727189064025879, Val Acc : 0.77271968126297\n",
            "Epochs : 168\n"
          ]
        },
        {
          "name": "stderr",
          "output_type": "stream",
          "text": [
            "100%|██████████| 20/20 [00:05<00:00,  3.91it/s]\n"
          ]
        },
        {
          "name": "stdout",
          "output_type": "stream",
          "text": [
            "Loss : 0.507934033870697, Val Loss : 0.5072677731513977 Acc : 0.7728903889656067, Val Acc : 0.772891104221344\n",
            "Epochs : 169\n"
          ]
        },
        {
          "name": "stderr",
          "output_type": "stream",
          "text": [
            "100%|██████████| 20/20 [00:05<00:00,  3.72it/s]\n"
          ]
        },
        {
          "name": "stdout",
          "output_type": "stream",
          "text": [
            "Loss : 0.5077969431877136, Val Loss : 0.5118463039398193 Acc : 0.7730728983879089, Val Acc : 0.773073673248291\n",
            "Epochs : 170\n"
          ]
        },
        {
          "name": "stderr",
          "output_type": "stream",
          "text": [
            "100%|██████████| 20/20 [00:05<00:00,  3.98it/s]\n"
          ]
        },
        {
          "name": "stdout",
          "output_type": "stream",
          "text": [
            "Loss : 0.5076598525047302, Val Loss : 0.5068142414093018 Acc : 0.7732478976249695, Val Acc : 0.7732486128807068\n",
            "Epochs : 171\n"
          ]
        },
        {
          "name": "stderr",
          "output_type": "stream",
          "text": [
            "100%|██████████| 20/20 [00:05<00:00,  3.97it/s]\n"
          ]
        },
        {
          "name": "stdout",
          "output_type": "stream",
          "text": [
            "Loss : 0.5075575113296509, Val Loss : 0.5120359659194946 Acc : 0.7734097242355347, Val Acc : 0.7734105587005615\n",
            "Epochs : 172\n"
          ]
        },
        {
          "name": "stderr",
          "output_type": "stream",
          "text": [
            "100%|██████████| 20/20 [00:05<00:00,  3.78it/s]\n"
          ]
        },
        {
          "name": "stdout",
          "output_type": "stream",
          "text": [
            "Loss : 0.5075575113296509, Val Loss : 0.5120359659194946 Acc : 0.7735705375671387, Val Acc : 0.7735713720321655\n",
            "Epochs : 173\n"
          ]
        },
        {
          "name": "stderr",
          "output_type": "stream",
          "text": [
            "100%|██████████| 20/20 [00:05<00:00,  3.43it/s]\n"
          ]
        },
        {
          "name": "stdout",
          "output_type": "stream",
          "text": [
            "Loss : 0.5073984265327454, Val Loss : 0.5123497247695923 Acc : 0.7737522721290588, Val Acc : 0.7737530469894409\n",
            "Epochs : 174\n"
          ]
        },
        {
          "name": "stderr",
          "output_type": "stream",
          "text": [
            "100%|██████████| 20/20 [00:05<00:00,  3.87it/s]\n"
          ]
        },
        {
          "name": "stdout",
          "output_type": "stream",
          "text": [
            "Loss : 0.5073326230049133, Val Loss : 0.5060131549835205 Acc : 0.773935079574585, Val Acc : 0.7739357352256775\n",
            "Epochs : 175\n"
          ]
        },
        {
          "name": "stderr",
          "output_type": "stream",
          "text": [
            "100%|██████████| 20/20 [00:04<00:00,  4.12it/s]\n"
          ]
        },
        {
          "name": "stdout",
          "output_type": "stream",
          "text": [
            "Loss : 0.5069683790206909, Val Loss : 0.5142015218734741 Acc : 0.7741630673408508, Val Acc : 0.7741636037826538\n",
            "Epochs : 176\n"
          ]
        },
        {
          "name": "stderr",
          "output_type": "stream",
          "text": [
            "100%|██████████| 20/20 [00:06<00:00,  3.31it/s]\n"
          ]
        },
        {
          "name": "stdout",
          "output_type": "stream",
          "text": [
            "Loss : 0.5062029957771301, Val Loss : 0.5136110782623291 Acc : 0.7744429111480713, Val Acc : 0.7744434475898743\n",
            "Epochs : 177\n"
          ]
        },
        {
          "name": "stderr",
          "output_type": "stream",
          "text": [
            "100%|██████████| 20/20 [00:05<00:00,  3.82it/s]\n"
          ]
        },
        {
          "name": "stdout",
          "output_type": "stream",
          "text": [
            "Loss : 0.5059505701065063, Val Loss : 0.5133822560310364 Acc : 0.7745153903961182, Val Acc : 0.7745158672332764\n",
            "Epochs : 178\n"
          ]
        },
        {
          "name": "stderr",
          "output_type": "stream",
          "text": [
            "100%|██████████| 20/20 [00:05<00:00,  3.70it/s]\n"
          ]
        },
        {
          "name": "stdout",
          "output_type": "stream",
          "text": [
            "Loss : 0.5056989789009094, Val Loss : 0.513203501701355 Acc : 0.774689257144928, Val Acc : 0.7746897339820862\n",
            "Epochs : 179\n"
          ]
        },
        {
          "name": "stderr",
          "output_type": "stream",
          "text": [
            "100%|██████████| 20/20 [00:05<00:00,  3.42it/s]\n"
          ]
        },
        {
          "name": "stdout",
          "output_type": "stream",
          "text": [
            "Loss : 0.5054485201835632, Val Loss : 0.5129818320274353 Acc : 0.7748852372169495, Val Acc : 0.7748857140541077\n",
            "Epochs : 180\n"
          ]
        },
        {
          "name": "stderr",
          "output_type": "stream",
          "text": [
            "100%|██████████| 20/20 [00:05<00:00,  3.53it/s]\n"
          ]
        },
        {
          "name": "stdout",
          "output_type": "stream",
          "text": [
            "Loss : 0.5051997303962708, Val Loss : 0.5128015875816345 Acc : 0.7750504016876221, Val Acc : 0.7750508189201355\n",
            "Epochs : 181\n"
          ]
        },
        {
          "name": "stderr",
          "output_type": "stream",
          "text": [
            "100%|██████████| 20/20 [00:05<00:00,  3.64it/s]\n"
          ]
        },
        {
          "name": "stdout",
          "output_type": "stream",
          "text": [
            "Loss : 0.5047045350074768, Val Loss : 0.5124129056930542 Acc : 0.775331437587738, Val Acc : 0.7753318548202515\n",
            "Epochs : 182\n"
          ]
        },
        {
          "name": "stderr",
          "output_type": "stream",
          "text": [
            "100%|██████████| 20/20 [00:05<00:00,  3.79it/s]\n"
          ]
        },
        {
          "name": "stdout",
          "output_type": "stream",
          "text": [
            "Loss : 0.5044589042663574, Val Loss : 0.5122057795524597 Acc : 0.7753992676734924, Val Acc : 0.7753996849060059\n",
            "Epochs : 183\n"
          ]
        },
        {
          "name": "stderr",
          "output_type": "stream",
          "text": [
            "100%|██████████| 20/20 [00:05<00:00,  3.56it/s]\n"
          ]
        },
        {
          "name": "stdout",
          "output_type": "stream",
          "text": [
            "Loss : 0.5039713978767395, Val Loss : 0.5118200778961182 Acc : 0.7755721807479858, Val Acc : 0.7755725979804993\n",
            "Epochs : 184\n"
          ]
        },
        {
          "name": "stderr",
          "output_type": "stream",
          "text": [
            "100%|██████████| 20/20 [00:05<00:00,  3.39it/s]\n"
          ]
        },
        {
          "name": "stdout",
          "output_type": "stream",
          "text": [
            "Loss : 0.5037295818328857, Val Loss : 0.5116454362869263 Acc : 0.7757354974746704, Val Acc : 0.7757359147071838\n",
            "Epochs : 185\n"
          ]
        },
        {
          "name": "stderr",
          "output_type": "stream",
          "text": [
            "100%|██████████| 20/20 [00:06<00:00,  3.22it/s]\n"
          ]
        },
        {
          "name": "stdout",
          "output_type": "stream",
          "text": [
            "Loss : 0.5034884214401245, Val Loss : 0.5114362239837646 Acc : 0.7759371399879456, Val Acc : 0.775937557220459\n",
            "Epochs : 186\n"
          ]
        },
        {
          "name": "stderr",
          "output_type": "stream",
          "text": [
            "100%|██████████| 20/20 [00:04<00:00,  4.04it/s]\n"
          ]
        },
        {
          "name": "stdout",
          "output_type": "stream",
          "text": [
            "Loss : 0.5032488703727722, Val Loss : 0.5112646222114563 Acc : 0.776116132736206, Val Acc : 0.7761165499687195\n",
            "Epochs : 187\n"
          ]
        },
        {
          "name": "stderr",
          "output_type": "stream",
          "text": [
            "100%|██████████| 20/20 [00:05<00:00,  3.59it/s]\n"
          ]
        },
        {
          "name": "stdout",
          "output_type": "stream",
          "text": [
            "Loss : 0.5030100345611572, Val Loss : 0.5110594630241394 Acc : 0.7762741446495056, Val Acc : 0.776274561882019\n",
            "Epochs : 188\n"
          ]
        },
        {
          "name": "stderr",
          "output_type": "stream",
          "text": [
            "100%|██████████| 20/20 [00:05<00:00,  3.60it/s]\n"
          ]
        },
        {
          "name": "stdout",
          "output_type": "stream",
          "text": [
            "Loss : 0.5027714371681213, Val Loss : 0.5108797550201416 Acc : 0.7764378190040588, Val Acc : 0.7764382362365723\n",
            "Epochs : 189\n"
          ]
        },
        {
          "name": "stderr",
          "output_type": "stream",
          "text": [
            "100%|██████████| 20/20 [00:05<00:00,  3.80it/s]\n"
          ]
        },
        {
          "name": "stdout",
          "output_type": "stream",
          "text": [
            "Loss : 0.5022983551025391, Val Loss : 0.5104933381080627 Acc : 0.7766181826591492, Val Acc : 0.7766185998916626\n",
            "Epochs : 190\n"
          ]
        },
        {
          "name": "stderr",
          "output_type": "stream",
          "text": [
            "100%|██████████| 20/20 [00:05<00:00,  3.51it/s]\n"
          ]
        },
        {
          "name": "stdout",
          "output_type": "stream",
          "text": [
            "Loss : 0.5018309354782104, Val Loss : 0.5101115107536316 Acc : 0.7767717838287354, Val Acc : 0.776772141456604\n",
            "Epochs : 191\n"
          ]
        },
        {
          "name": "stderr",
          "output_type": "stream",
          "text": [
            "100%|██████████| 20/20 [00:05<00:00,  3.86it/s]\n"
          ]
        },
        {
          "name": "stdout",
          "output_type": "stream",
          "text": [
            "Loss : 0.5015981197357178, Val Loss : 0.5099034905433655 Acc : 0.7769257426261902, Val Acc : 0.7769261598587036\n",
            "Epochs : 192\n"
          ]
        },
        {
          "name": "stderr",
          "output_type": "stream",
          "text": [
            "100%|██████████| 20/20 [00:04<00:00,  4.35it/s]\n"
          ]
        },
        {
          "name": "stdout",
          "output_type": "stream",
          "text": [
            "Loss : 0.5015981197357178, Val Loss : 0.5099035501480103 Acc : 0.7770802974700928, Val Acc : 0.7770807147026062\n",
            "Epochs : 193\n"
          ]
        },
        {
          "name": "stderr",
          "output_type": "stream",
          "text": [
            "100%|██████████| 20/20 [00:05<00:00,  3.51it/s]\n"
          ]
        },
        {
          "name": "stdout",
          "output_type": "stream",
          "text": [
            "Loss : 0.5013655424118042, Val Loss : 0.5097295641899109 Acc : 0.7772252559661865, Val Acc : 0.7772256135940552\n",
            "Epochs : 194\n"
          ]
        },
        {
          "name": "stderr",
          "output_type": "stream",
          "text": [
            "100%|██████████| 20/20 [00:05<00:00,  3.51it/s]\n"
          ]
        },
        {
          "name": "stdout",
          "output_type": "stream",
          "text": [
            "Loss : 0.5011342167854309, Val Loss : 0.5095223784446716 Acc : 0.7773821353912354, Val Acc : 0.7773825526237488\n",
            "Epochs : 195\n"
          ]
        },
        {
          "name": "stderr",
          "output_type": "stream",
          "text": [
            "100%|██████████| 20/20 [00:04<00:00,  4.01it/s]\n"
          ]
        },
        {
          "name": "stdout",
          "output_type": "stream",
          "text": [
            "Loss : 0.5009036064147949, Val Loss : 0.5093480944633484 Acc : 0.7775365114212036, Val Acc : 0.7775368690490723\n",
            "Epochs : 196\n"
          ]
        },
        {
          "name": "stderr",
          "output_type": "stream",
          "text": [
            "100%|██████████| 20/20 [00:04<00:00,  4.05it/s]\n"
          ]
        },
        {
          "name": "stdout",
          "output_type": "stream",
          "text": [
            "Loss : 0.5006733536720276, Val Loss : 0.5091362595558167 Acc : 0.7776786088943481, Val Acc : 0.7776790261268616\n",
            "Epochs : 197\n"
          ]
        },
        {
          "name": "stderr",
          "output_type": "stream",
          "text": [
            "100%|██████████| 20/20 [00:04<00:00,  4.37it/s]\n"
          ]
        },
        {
          "name": "stdout",
          "output_type": "stream",
          "text": [
            "Loss : 0.5004434585571289, Val Loss : 0.5089643597602844 Acc : 0.7778274416923523, Val Acc : 0.777827799320221\n",
            "Epochs : 198\n"
          ]
        },
        {
          "name": "stderr",
          "output_type": "stream",
          "text": [
            "100%|██████████| 20/20 [00:05<00:00,  3.53it/s]\n"
          ]
        },
        {
          "name": "stdout",
          "output_type": "stream",
          "text": [
            "Loss : 0.5002142190933228, Val Loss : 0.5087546706199646 Acc : 0.7779635190963745, Val Acc : 0.7779638767242432\n",
            "Epochs : 199\n"
          ]
        },
        {
          "name": "stderr",
          "output_type": "stream",
          "text": [
            "100%|██████████| 20/20 [00:05<00:00,  3.66it/s]\n"
          ]
        },
        {
          "name": "stdout",
          "output_type": "stream",
          "text": [
            "Loss : 0.4999852478504181, Val Loss : 0.5085837244987488 Acc : 0.7781279683113098, Val Acc : 0.7781283259391785\n",
            "Epochs : 200\n"
          ]
        },
        {
          "name": "stderr",
          "output_type": "stream",
          "text": [
            "100%|██████████| 20/20 [00:05<00:00,  3.52it/s]\n"
          ]
        },
        {
          "name": "stdout",
          "output_type": "stream",
          "text": [
            "Loss : 0.4995301067829132, Val Loss : 0.508201539516449 Acc : 0.7783461809158325, Val Acc : 0.7783465385437012\n",
            "Epochs : 201\n"
          ]
        },
        {
          "name": "stderr",
          "output_type": "stream",
          "text": [
            "100%|██████████| 20/20 [00:05<00:00,  3.69it/s]\n"
          ]
        },
        {
          "name": "stdout",
          "output_type": "stream",
          "text": [
            "Loss : 0.49907955527305603, Val Loss : 0.5078207850456238 Acc : 0.7784839868545532, Val Acc : 0.7784843444824219\n",
            "Epochs : 202\n"
          ]
        },
        {
          "name": "stderr",
          "output_type": "stream",
          "text": [
            "100%|██████████| 20/20 [00:05<00:00,  3.35it/s]\n"
          ]
        },
        {
          "name": "stdout",
          "output_type": "stream",
          "text": [
            "Loss : 0.49885642528533936, Val Loss : 0.5076093077659607 Acc : 0.778588056564331, Val Acc : 0.7785884141921997\n",
            "Epochs : 203\n"
          ]
        },
        {
          "name": "stderr",
          "output_type": "stream",
          "text": [
            "100%|██████████| 20/20 [00:05<00:00,  3.57it/s]\n"
          ]
        },
        {
          "name": "stdout",
          "output_type": "stream",
          "text": [
            "Loss : 0.4984108507633209, Val Loss : 0.5072342157363892 Acc : 0.7788302302360535, Val Acc : 0.7788305878639221\n",
            "Epochs : 204\n"
          ]
        },
        {
          "name": "stderr",
          "output_type": "stream",
          "text": [
            "100%|██████████| 20/20 [00:05<00:00,  3.88it/s]\n"
          ]
        },
        {
          "name": "stdout",
          "output_type": "stream",
          "text": [
            "Loss : 0.4979674518108368, Val Loss : 0.5068603754043579 Acc : 0.7789590358734131, Val Acc : 0.778959333896637\n",
            "Epochs : 205\n"
          ]
        },
        {
          "name": "stderr",
          "output_type": "stream",
          "text": [
            "100%|██████████| 20/20 [00:04<00:00,  4.25it/s]\n"
          ]
        },
        {
          "name": "stdout",
          "output_type": "stream",
          "text": [
            "Loss : 0.49774789810180664, Val Loss : 0.5066967010498047 Acc : 0.7790248990058899, Val Acc : 0.7790251970291138\n",
            "Epochs : 206\n"
          ]
        },
        {
          "name": "stderr",
          "output_type": "stream",
          "text": [
            "100%|██████████| 20/20 [00:05<00:00,  3.55it/s]\n"
          ]
        },
        {
          "name": "stdout",
          "output_type": "stream",
          "text": [
            "Loss : 0.49752935767173767, Val Loss : 0.5064833760261536 Acc : 0.7791680693626404, Val Acc : 0.779168426990509\n",
            "Epochs : 207\n"
          ]
        },
        {
          "name": "stderr",
          "output_type": "stream",
          "text": [
            "100%|██████████| 20/20 [00:05<00:00,  3.53it/s]\n"
          ]
        },
        {
          "name": "stdout",
          "output_type": "stream",
          "text": [
            "Loss : 0.49687671661376953, Val Loss : 0.5059604048728943 Acc : 0.7793599367141724, Val Acc : 0.779360294342041\n",
            "Epochs : 208\n"
          ]
        },
        {
          "name": "stderr",
          "output_type": "stream",
          "text": [
            "100%|██████████| 20/20 [00:05<00:00,  3.90it/s]\n"
          ]
        },
        {
          "name": "stdout",
          "output_type": "stream",
          "text": [
            "Loss : 0.49666041135787964, Val Loss : 0.5057474970817566 Acc : 0.7794501781463623, Val Acc : 0.7794504761695862\n",
            "Epochs : 209\n"
          ]
        },
        {
          "name": "stderr",
          "output_type": "stream",
          "text": [
            "100%|██████████| 20/20 [00:05<00:00,  3.54it/s]\n"
          ]
        },
        {
          "name": "stdout",
          "output_type": "stream",
          "text": [
            "Loss : 0.49644461274147034, Val Loss : 0.5055983662605286 Acc : 0.7795881032943726, Val Acc : 0.7795884013175964\n",
            "Epochs : 210\n"
          ]
        },
        {
          "name": "stderr",
          "output_type": "stream",
          "text": [
            "100%|██████████| 20/20 [00:06<00:00,  3.33it/s]\n"
          ]
        },
        {
          "name": "stdout",
          "output_type": "stream",
          "text": [
            "Loss : 0.4960160553455353, Val Loss : 0.5052468180656433 Acc : 0.7797960638999939, Val Acc : 0.7797964215278625\n",
            "Epochs : 211\n"
          ]
        },
        {
          "name": "stderr",
          "output_type": "stream",
          "text": [
            "100%|██████████| 20/20 [00:05<00:00,  3.52it/s]\n"
          ]
        },
        {
          "name": "stdout",
          "output_type": "stream",
          "text": [
            "Loss : 0.4958028197288513, Val Loss : 0.5050368309020996 Acc : 0.7798829674720764, Val Acc : 0.7798832654953003\n",
            "Epochs : 212\n"
          ]
        },
        {
          "name": "stderr",
          "output_type": "stream",
          "text": [
            "100%|██████████| 20/20 [00:05<00:00,  3.38it/s]\n"
          ]
        },
        {
          "name": "stdout",
          "output_type": "stream",
          "text": [
            "Loss : 0.49537694454193115, Val Loss : 0.5046843886375427 Acc : 0.7800285220146179, Val Acc : 0.7800288200378418\n",
            "Epochs : 213\n"
          ]
        },
        {
          "name": "stderr",
          "output_type": "stream",
          "text": [
            "100%|██████████| 20/20 [00:06<00:00,  3.32it/s]\n"
          ]
        },
        {
          "name": "stdout",
          "output_type": "stream",
          "text": [
            "Loss : 0.49516522884368896, Val Loss : 0.5045386552810669 Acc : 0.7801754474639893, Val Acc : 0.7801757454872131\n",
            "Epochs : 214\n"
          ]
        },
        {
          "name": "stderr",
          "output_type": "stream",
          "text": [
            "100%|██████████| 20/20 [00:05<00:00,  3.43it/s]\n"
          ]
        },
        {
          "name": "stdout",
          "output_type": "stream",
          "text": [
            "Loss : 0.49495425820350647, Val Loss : 0.5043379068374634 Acc : 0.7803354859352112, Val Acc : 0.7803357839584351\n",
            "Epochs : 215\n"
          ]
        },
        {
          "name": "stderr",
          "output_type": "stream",
          "text": [
            "100%|██████████| 20/20 [00:05<00:00,  3.88it/s]\n"
          ]
        },
        {
          "name": "stdout",
          "output_type": "stream",
          "text": [
            "Loss : 0.4947439432144165, Val Loss : 0.5041959285736084 Acc : 0.7804713845252991, Val Acc : 0.780471682548523\n",
            "Epochs : 216\n"
          ]
        },
        {
          "name": "stderr",
          "output_type": "stream",
          "text": [
            "100%|██████████| 20/20 [00:05<00:00,  3.40it/s]\n"
          ]
        },
        {
          "name": "stdout",
          "output_type": "stream",
          "text": [
            "Loss : 0.49453413486480713, Val Loss : 0.5039836764335632 Acc : 0.7806089520454407, Val Acc : 0.7806093096733093\n",
            "Epochs : 217\n"
          ]
        },
        {
          "name": "stderr",
          "output_type": "stream",
          "text": [
            "100%|██████████| 20/20 [00:05<00:00,  3.97it/s]\n"
          ]
        },
        {
          "name": "stdout",
          "output_type": "stream",
          "text": [
            "Loss : 0.49432572722435, Val Loss : 0.503856360912323 Acc : 0.7807412147521973, Val Acc : 0.7807415127754211\n",
            "Epochs : 218\n"
          ]
        },
        {
          "name": "stderr",
          "output_type": "stream",
          "text": [
            "100%|██████████| 20/20 [00:05<00:00,  3.88it/s]\n"
          ]
        },
        {
          "name": "stdout",
          "output_type": "stream",
          "text": [
            "Loss : 0.49391210079193115, Val Loss : 0.5035152435302734 Acc : 0.7809190154075623, Val Acc : 0.7809193134307861\n",
            "Epochs : 219\n"
          ]
        },
        {
          "name": "stderr",
          "output_type": "stream",
          "text": [
            "100%|██████████| 20/20 [00:04<00:00,  4.04it/s]\n"
          ]
        },
        {
          "name": "stdout",
          "output_type": "stream",
          "text": [
            "Loss : 0.49370670318603516, Val Loss : 0.5032969117164612 Acc : 0.7809938192367554, Val Acc : 0.780994176864624\n",
            "Epochs : 220\n"
          ]
        },
        {
          "name": "stderr",
          "output_type": "stream",
          "text": [
            "100%|██████████| 20/20 [00:06<00:00,  3.12it/s]\n"
          ]
        },
        {
          "name": "stdout",
          "output_type": "stream",
          "text": [
            "Loss : 0.49329760670661926, Val Loss : 0.5029526948928833 Acc : 0.7811235785484314, Val Acc : 0.7811238765716553\n",
            "Epochs : 221\n"
          ]
        },
        {
          "name": "stderr",
          "output_type": "stream",
          "text": [
            "100%|██████████| 20/20 [00:05<00:00,  3.64it/s]\n"
          ]
        },
        {
          "name": "stdout",
          "output_type": "stream",
          "text": [
            "Loss : 0.49309417605400085, Val Loss : 0.5028489828109741 Acc : 0.7812595367431641, Val Acc : 0.7812598943710327\n",
            "Epochs : 222\n"
          ]
        },
        {
          "name": "stderr",
          "output_type": "stream",
          "text": [
            "100%|██████████| 20/20 [00:05<00:00,  3.88it/s]\n"
          ]
        },
        {
          "name": "stdout",
          "output_type": "stream",
          "text": [
            "Loss : 0.4928916394710541, Val Loss : 0.50261390209198 Acc : 0.7813861966133118, Val Acc : 0.7813865542411804\n",
            "Epochs : 223\n"
          ]
        },
        {
          "name": "stderr",
          "output_type": "stream",
          "text": [
            "100%|██████████| 20/20 [00:05<00:00,  3.98it/s]\n"
          ]
        },
        {
          "name": "stdout",
          "output_type": "stream",
          "text": [
            "Loss : 0.49248799681663513, Val Loss : 0.502275288105011 Acc : 0.7815753817558289, Val Acc : 0.7815756797790527\n",
            "Epochs : 224\n"
          ]
        },
        {
          "name": "stderr",
          "output_type": "stream",
          "text": [
            "100%|██████████| 20/20 [00:05<00:00,  3.37it/s]\n"
          ]
        },
        {
          "name": "stdout",
          "output_type": "stream",
          "text": [
            "Loss : 0.4920865595340729, Val Loss : 0.5019360184669495 Acc : 0.7816822528839111, Val Acc : 0.781682550907135\n",
            "Epochs : 225\n"
          ]
        },
        {
          "name": "stderr",
          "output_type": "stream",
          "text": [
            "100%|██████████| 20/20 [00:05<00:00,  3.53it/s]\n"
          ]
        },
        {
          "name": "stdout",
          "output_type": "stream",
          "text": [
            "Loss : 0.49188703298568726, Val Loss : 0.5018653273582458 Acc : 0.7817733883857727, Val Acc : 0.7817737460136414\n",
            "Epochs : 226\n"
          ]
        },
        {
          "name": "stderr",
          "output_type": "stream",
          "text": [
            "100%|██████████| 20/20 [00:05<00:00,  3.72it/s]\n"
          ]
        },
        {
          "name": "stdout",
          "output_type": "stream",
          "text": [
            "Loss : 0.4916873872280121, Val Loss : 0.5016052722930908 Acc : 0.7819036245346069, Val Acc : 0.7819039225578308\n",
            "Epochs : 227\n"
          ]
        },
        {
          "name": "stderr",
          "output_type": "stream",
          "text": [
            "100%|██████████| 20/20 [00:04<00:00,  4.00it/s]\n"
          ]
        },
        {
          "name": "stdout",
          "output_type": "stream",
          "text": [
            "Loss : 0.49148836731910706, Val Loss : 0.5015379190444946 Acc : 0.7820189595222473, Val Acc : 0.782019317150116\n",
            "Epochs : 228\n"
          ]
        },
        {
          "name": "stderr",
          "output_type": "stream",
          "text": [
            "100%|██████████| 20/20 [00:05<00:00,  3.77it/s]\n"
          ]
        },
        {
          "name": "stdout",
          "output_type": "stream",
          "text": [
            "Loss : 0.49129003286361694, Val Loss : 0.5012693405151367 Acc : 0.7821349501609802, Val Acc : 0.7821352481842041\n",
            "Epochs : 229\n"
          ]
        },
        {
          "name": "stderr",
          "output_type": "stream",
          "text": [
            "100%|██████████| 20/20 [00:05<00:00,  3.77it/s]\n"
          ]
        },
        {
          "name": "stdout",
          "output_type": "stream",
          "text": [
            "Loss : 0.4910925626754761, Val Loss : 0.5012204051017761 Acc : 0.782254159450531, Val Acc : 0.7822544574737549\n",
            "Epochs : 230\n"
          ]
        },
        {
          "name": "stderr",
          "output_type": "stream",
          "text": [
            "100%|██████████| 20/20 [00:05<00:00,  3.71it/s]\n"
          ]
        },
        {
          "name": "stdout",
          "output_type": "stream",
          "text": [
            "Loss : 0.490895539522171, Val Loss : 0.5009434819221497 Acc : 0.7823669910430908, Val Acc : 0.7823672890663147\n",
            "Epochs : 231\n"
          ]
        },
        {
          "name": "stderr",
          "output_type": "stream",
          "text": [
            "100%|██████████| 20/20 [00:05<00:00,  3.67it/s]\n"
          ]
        },
        {
          "name": "stdout",
          "output_type": "stream",
          "text": [
            "Loss : 0.49069902300834656, Val Loss : 0.5008991360664368 Acc : 0.7824931740760803, Val Acc : 0.7824934720993042\n",
            "Epochs : 232\n"
          ]
        },
        {
          "name": "stderr",
          "output_type": "stream",
          "text": [
            "100%|██████████| 20/20 [00:05<00:00,  3.64it/s]\n"
          ]
        },
        {
          "name": "stdout",
          "output_type": "stream",
          "text": [
            "Loss : 0.4903077781200409, Val Loss : 0.500590443611145 Acc : 0.7826949954032898, Val Acc : 0.7826952934265137\n",
            "Epochs : 233\n"
          ]
        },
        {
          "name": "stderr",
          "output_type": "stream",
          "text": [
            "100%|██████████| 20/20 [00:05<00:00,  3.50it/s]\n"
          ]
        },
        {
          "name": "stdout",
          "output_type": "stream",
          "text": [
            "Loss : 0.490113228559494, Val Loss : 0.5002925395965576 Acc : 0.7827420234680176, Val Acc : 0.7827423214912415\n",
            "Epochs : 234\n"
          ]
        },
        {
          "name": "stderr",
          "output_type": "stream",
          "text": [
            "100%|██████████| 20/20 [00:05<00:00,  3.79it/s]\n"
          ]
        },
        {
          "name": "stdout",
          "output_type": "stream",
          "text": [
            "Loss : 0.4899190068244934, Val Loss : 0.5002760291099548 Acc : 0.7828590869903564, Val Acc : 0.7828593850135803\n",
            "Epochs : 235\n"
          ]
        },
        {
          "name": "stderr",
          "output_type": "stream",
          "text": [
            "100%|██████████| 20/20 [00:05<00:00,  3.57it/s]\n"
          ]
        },
        {
          "name": "stdout",
          "output_type": "stream",
          "text": [
            "Loss : 0.4895317554473877, Val Loss : 0.4999631643295288 Acc : 0.7829797267913818, Val Acc : 0.7829800248146057\n",
            "Epochs : 236\n"
          ]
        },
        {
          "name": "stderr",
          "output_type": "stream",
          "text": [
            "100%|██████████| 20/20 [00:05<00:00,  3.79it/s]\n"
          ]
        },
        {
          "name": "stdout",
          "output_type": "stream",
          "text": [
            "Loss : 0.48933884501457214, Val Loss : 0.49964937567710876 Acc : 0.7830975651741028, Val Acc : 0.7830978631973267\n",
            "Epochs : 237\n"
          ]
        },
        {
          "name": "stderr",
          "output_type": "stream",
          "text": [
            "100%|██████████| 20/20 [00:04<00:00,  4.03it/s]\n"
          ]
        },
        {
          "name": "stdout",
          "output_type": "stream",
          "text": [
            "Loss : 0.4891463816165924, Val Loss : 0.49965375661849976 Acc : 0.7832090258598328, Val Acc : 0.7832093238830566\n",
            "Epochs : 238\n"
          ]
        },
        {
          "name": "stderr",
          "output_type": "stream",
          "text": [
            "100%|██████████| 20/20 [00:05<00:00,  3.76it/s]\n"
          ]
        },
        {
          "name": "stdout",
          "output_type": "stream",
          "text": [
            "Loss : 0.4889543652534485, Val Loss : 0.4993247985839844 Acc : 0.783320963382721, Val Acc : 0.7833212614059448\n",
            "Epochs : 239\n"
          ]
        },
        {
          "name": "stderr",
          "output_type": "stream",
          "text": [
            "100%|██████████| 20/20 [00:05<00:00,  3.53it/s]\n"
          ]
        },
        {
          "name": "stdout",
          "output_type": "stream",
          "text": [
            "Loss : 0.48857173323631287, Val Loss : 0.4990045726299286 Acc : 0.7834922671318054, Val Acc : 0.7834925651550293\n",
            "Epochs : 240\n"
          ]
        },
        {
          "name": "stderr",
          "output_type": "stream",
          "text": [
            "100%|██████████| 20/20 [00:05<00:00,  3.75it/s]\n"
          ]
        },
        {
          "name": "stdout",
          "output_type": "stream",
          "text": [
            "Loss : 0.4880028963088989, Val Loss : 0.4987395703792572 Acc : 0.7835528254508972, Val Acc : 0.7835531234741211\n",
            "Epochs : 241\n"
          ]
        },
        {
          "name": "stderr",
          "output_type": "stream",
          "text": [
            "100%|██████████| 20/20 [00:05<00:00,  3.92it/s]\n"
          ]
        },
        {
          "name": "stdout",
          "output_type": "stream",
          "text": [
            "Loss : 0.48762625455856323, Val Loss : 0.49843621253967285 Acc : 0.7836648225784302, Val Acc : 0.7836650609970093\n",
            "Epochs : 242\n"
          ]
        },
        {
          "name": "stderr",
          "output_type": "stream",
          "text": [
            "100%|██████████| 20/20 [00:06<00:00,  3.24it/s]\n"
          ]
        },
        {
          "name": "stdout",
          "output_type": "stream",
          "text": [
            "Loss : 0.48725003004074097, Val Loss : 0.4981335699558258 Acc : 0.7837839722633362, Val Acc : 0.7837842106819153\n",
            "Epochs : 243\n"
          ]
        },
        {
          "name": "stderr",
          "output_type": "stream",
          "text": [
            "100%|██████████| 20/20 [00:05<00:00,  3.88it/s]\n"
          ]
        },
        {
          "name": "stdout",
          "output_type": "stream",
          "text": [
            "Loss : 0.4870620667934418, Val Loss : 0.49771732091903687 Acc : 0.783905029296875, Val Acc : 0.7839053273200989\n",
            "Epochs : 244\n"
          ]
        },
        {
          "name": "stderr",
          "output_type": "stream",
          "text": [
            "100%|██████████| 20/20 [00:06<00:00,  3.12it/s]\n"
          ]
        },
        {
          "name": "stdout",
          "output_type": "stream",
          "text": [
            "Loss : 0.4866876006126404, Val Loss : 0.49740225076675415 Acc : 0.7840276956558228, Val Acc : 0.7840279936790466\n",
            "Epochs : 245\n"
          ]
        },
        {
          "name": "stderr",
          "output_type": "stream",
          "text": [
            "100%|██████████| 20/20 [00:05<00:00,  3.64it/s]\n"
          ]
        },
        {
          "name": "stdout",
          "output_type": "stream",
          "text": [
            "Loss : 0.48631569743156433, Val Loss : 0.49709033966064453 Acc : 0.78415447473526, Val Acc : 0.7841547131538391\n",
            "Epochs : 246\n"
          ]
        },
        {
          "name": "stderr",
          "output_type": "stream",
          "text": [
            "100%|██████████| 20/20 [00:05<00:00,  3.62it/s]\n"
          ]
        },
        {
          "name": "stdout",
          "output_type": "stream",
          "text": [
            "Loss : 0.48594531416893005, Val Loss : 0.4967759847640991 Acc : 0.7842724919319153, Val Acc : 0.7842727899551392\n",
            "Epochs : 247\n"
          ]
        },
        {
          "name": "stderr",
          "output_type": "stream",
          "text": [
            "100%|██████████| 20/20 [00:06<00:00,  3.23it/s]\n"
          ]
        },
        {
          "name": "stdout",
          "output_type": "stream",
          "text": [
            "Loss : 0.48576030135154724, Val Loss : 0.49694764614105225 Acc : 0.7843866348266602, Val Acc : 0.7843868732452393\n",
            "Epochs : 248\n"
          ]
        },
        {
          "name": "stderr",
          "output_type": "stream",
          "text": [
            "100%|██████████| 20/20 [00:05<00:00,  3.78it/s]\n"
          ]
        },
        {
          "name": "stdout",
          "output_type": "stream",
          "text": [
            "Loss : 0.48557552695274353, Val Loss : 0.49646419286727905 Acc : 0.7845062017440796, Val Acc : 0.7845064401626587\n",
            "Epochs : 249\n"
          ]
        },
        {
          "name": "stderr",
          "output_type": "stream",
          "text": [
            "100%|██████████| 20/20 [00:04<00:00,  4.01it/s]\n"
          ]
        },
        {
          "name": "stdout",
          "output_type": "stream",
          "text": [
            "Loss : 0.4852084517478943, Val Loss : 0.49614447355270386 Acc : 0.7846591472625732, Val Acc : 0.7846593856811523\n",
            "Epochs : 250\n"
          ]
        },
        {
          "name": "stderr",
          "output_type": "stream",
          "text": [
            "100%|██████████| 20/20 [00:05<00:00,  3.51it/s]\n"
          ]
        },
        {
          "name": "stdout",
          "output_type": "stream",
          "text": [
            "Loss : 0.48502659797668457, Val Loss : 0.4963509440422058 Acc : 0.7847110629081726, Val Acc : 0.7847113013267517\n",
            "Epochs : 251\n"
          ]
        },
        {
          "name": "stderr",
          "output_type": "stream",
          "text": [
            "100%|██████████| 20/20 [00:04<00:00,  4.59it/s]\n"
          ]
        },
        {
          "name": "stdout",
          "output_type": "stream",
          "text": [
            "Loss : 0.4844832718372345, Val Loss : 0.49550560116767883 Acc : 0.7848225235939026, Val Acc : 0.7848227620124817\n",
            "Epochs : 252\n"
          ]
        },
        {
          "name": "stderr",
          "output_type": "stream",
          "text": [
            "100%|██████████| 20/20 [00:05<00:00,  3.89it/s]\n"
          ]
        },
        {
          "name": "stdout",
          "output_type": "stream",
          "text": [
            "Loss : 0.4844832718372345, Val Loss : 0.49550560116767883 Acc : 0.7849001884460449, Val Acc : 0.7849004864692688\n",
            "Epochs : 253\n"
          ]
        },
        {
          "name": "stderr",
          "output_type": "stream",
          "text": [
            "100%|██████████| 20/20 [00:06<00:00,  3.22it/s]\n"
          ]
        },
        {
          "name": "stdout",
          "output_type": "stream",
          "text": [
            "Loss : 0.4843035340309143, Val Loss : 0.4957772195339203 Acc : 0.7850084900856018, Val Acc : 0.7850086688995361\n",
            "Epochs : 254\n"
          ]
        },
        {
          "name": "stderr",
          "output_type": "stream",
          "text": [
            "100%|██████████| 20/20 [00:04<00:00,  4.03it/s]\n"
          ]
        },
        {
          "name": "stdout",
          "output_type": "stream",
          "text": [
            "Loss : 0.4839468002319336, Val Loss : 0.49550318717956543 Acc : 0.7851265668869019, Val Acc : 0.785126805305481\n",
            "Epochs : 255\n"
          ]
        },
        {
          "name": "stderr",
          "output_type": "stream",
          "text": [
            "100%|██████████| 20/20 [00:05<00:00,  3.52it/s]\n"
          ]
        },
        {
          "name": "stdout",
          "output_type": "stream",
          "text": [
            "Loss : 0.48376956582069397, Val Loss : 0.4948868751525879 Acc : 0.7852281928062439, Val Acc : 0.785228431224823\n",
            "Epochs : 256\n"
          ]
        },
        {
          "name": "stderr",
          "output_type": "stream",
          "text": [
            "100%|██████████| 20/20 [00:05<00:00,  3.96it/s]\n"
          ]
        },
        {
          "name": "stdout",
          "output_type": "stream",
          "text": [
            "Loss : 0.48341670632362366, Val Loss : 0.4945696294307709 Acc : 0.7853941321372986, Val Acc : 0.7853943705558777\n",
            "Epochs : 257\n"
          ]
        },
        {
          "name": "stderr",
          "output_type": "stream",
          "text": [
            "100%|██████████| 20/20 [00:05<00:00,  3.45it/s]\n"
          ]
        },
        {
          "name": "stdout",
          "output_type": "stream",
          "text": [
            "Loss : 0.48306623101234436, Val Loss : 0.49425724148750305 Acc : 0.7854372262954712, Val Acc : 0.7854374647140503\n",
            "Epochs : 258\n"
          ]
        },
        {
          "name": "stderr",
          "output_type": "stream",
          "text": [
            "100%|██████████| 20/20 [00:05<00:00,  3.81it/s]\n"
          ]
        },
        {
          "name": "stdout",
          "output_type": "stream",
          "text": [
            "Loss : 0.4828917980194092, Val Loss : 0.4946992099285126 Acc : 0.7855390906333923, Val Acc : 0.7855393290519714\n",
            "Epochs : 259\n"
          ]
        },
        {
          "name": "stderr",
          "output_type": "stream",
          "text": [
            "100%|██████████| 20/20 [00:05<00:00,  3.81it/s]\n"
          ]
        },
        {
          "name": "stdout",
          "output_type": "stream",
          "text": [
            "Loss : 0.48254555463790894, Val Loss : 0.4944431781768799 Acc : 0.7856597304344177, Val Acc : 0.7856599688529968\n",
            "Epochs : 260\n"
          ]
        },
        {
          "name": "stderr",
          "output_type": "stream",
          "text": [
            "100%|██████████| 20/20 [00:05<00:00,  3.80it/s]\n"
          ]
        },
        {
          "name": "stdout",
          "output_type": "stream",
          "text": [
            "Loss : 0.48220115900039673, Val Loss : 0.4941907525062561 Acc : 0.7857413291931152, Val Acc : 0.7857415676116943\n",
            "Epochs : 261\n"
          ]
        },
        {
          "name": "stderr",
          "output_type": "stream",
          "text": [
            "100%|██████████| 20/20 [00:04<00:00,  4.17it/s]\n"
          ]
        },
        {
          "name": "stdout",
          "output_type": "stream",
          "text": [
            "Loss : 0.48203057050704956, Val Loss : 0.49333739280700684 Acc : 0.7858419418334961, Val Acc : 0.7858421802520752\n",
            "Epochs : 262\n"
          ]
        },
        {
          "name": "stderr",
          "output_type": "stream",
          "text": [
            "100%|██████████| 20/20 [00:05<00:00,  3.83it/s]\n"
          ]
        },
        {
          "name": "stdout",
          "output_type": "stream",
          "text": [
            "Loss : 0.48169296979904175, Val Loss : 0.49302899837493896 Acc : 0.7859469652175903, Val Acc : 0.7859472036361694\n",
            "Epochs : 263\n"
          ]
        },
        {
          "name": "stderr",
          "output_type": "stream",
          "text": [
            "100%|██████████| 20/20 [00:04<00:00,  4.07it/s]\n"
          ]
        },
        {
          "name": "stdout",
          "output_type": "stream",
          "text": [
            "Loss : 0.48152536153793335, Val Loss : 0.4937218725681305 Acc : 0.7860255241394043, Val Acc : 0.7860257625579834\n",
            "Epochs : 264\n"
          ]
        },
        {
          "name": "stderr",
          "output_type": "stream",
          "text": [
            "100%|██████████| 20/20 [00:05<00:00,  3.68it/s]\n"
          ]
        },
        {
          "name": "stdout",
          "output_type": "stream",
          "text": [
            "Loss : 0.4811924397945404, Val Loss : 0.4934951961040497 Acc : 0.786177396774292, Val Acc : 0.7861775755882263\n",
            "Epochs : 265\n"
          ]
        },
        {
          "name": "stderr",
          "output_type": "stream",
          "text": [
            "100%|██████████| 20/20 [00:05<00:00,  3.68it/s]\n"
          ]
        },
        {
          "name": "stdout",
          "output_type": "stream",
          "text": [
            "Loss : 0.4810267984867096, Val Loss : 0.49241161346435547 Acc : 0.7862069010734558, Val Acc : 0.7862071394920349\n",
            "Epochs : 266\n"
          ]
        },
        {
          "name": "stderr",
          "output_type": "stream",
          "text": [
            "100%|██████████| 20/20 [00:05<00:00,  3.65it/s]\n"
          ]
        },
        {
          "name": "stdout",
          "output_type": "stream",
          "text": [
            "Loss : 0.4806990921497345, Val Loss : 0.492100328207016 Acc : 0.7863633632659912, Val Acc : 0.7863636016845703\n",
            "Epochs : 267\n"
          ]
        },
        {
          "name": "stderr",
          "output_type": "stream",
          "text": [
            "100%|██████████| 20/20 [00:05<00:00,  3.40it/s]\n"
          ]
        },
        {
          "name": "stdout",
          "output_type": "stream",
          "text": [
            "Loss : 0.4803745746612549, Val Loss : 0.49178677797317505 Acc : 0.7864702939987183, Val Acc : 0.7864704728126526\n",
            "Epochs : 268\n"
          ]
        },
        {
          "name": "stderr",
          "output_type": "stream",
          "text": [
            "100%|██████████| 20/20 [00:05<00:00,  3.66it/s]\n"
          ]
        },
        {
          "name": "stdout",
          "output_type": "stream",
          "text": [
            "Loss : 0.48021405935287476, Val Loss : 0.49286070466041565 Acc : 0.7865104079246521, Val Acc : 0.7865106463432312\n",
            "Epochs : 269\n"
          ]
        },
        {
          "name": "stderr",
          "output_type": "stream",
          "text": [
            "100%|██████████| 20/20 [00:04<00:00,  4.21it/s]\n"
          ]
        },
        {
          "name": "stdout",
          "output_type": "stream",
          "text": [
            "Loss : 0.4798983037471771, Val Loss : 0.4926685094833374 Acc : 0.7866299152374268, Val Acc : 0.7866300940513611\n",
            "Epochs : 270\n"
          ]
        },
        {
          "name": "stderr",
          "output_type": "stream",
          "text": [
            "100%|██████████| 20/20 [00:05<00:00,  3.93it/s]\n"
          ]
        },
        {
          "name": "stdout",
          "output_type": "stream",
          "text": [
            "Loss : 0.47974249720573425, Val Loss : 0.4911557137966156 Acc : 0.786698579788208, Val Acc : 0.7866988182067871\n",
            "Epochs : 271\n"
          ]
        },
        {
          "name": "stderr",
          "output_type": "stream",
          "text": [
            "100%|██████████| 20/20 [00:05<00:00,  3.57it/s]\n"
          ]
        },
        {
          "name": "stdout",
          "output_type": "stream",
          "text": [
            "Loss : 0.47958770394325256, Val Loss : 0.4924900531768799 Acc : 0.7867870330810547, Val Acc : 0.786787211894989\n",
            "Epochs : 272\n"
          ]
        },
        {
          "name": "stderr",
          "output_type": "stream",
          "text": [
            "100%|██████████| 20/20 [00:05<00:00,  3.69it/s]\n"
          ]
        },
        {
          "name": "stdout",
          "output_type": "stream",
          "text": [
            "Loss : 0.47943511605262756, Val Loss : 0.49083343148231506 Acc : 0.7868912816047668, Val Acc : 0.7868914604187012\n",
            "Epochs : 273\n"
          ]
        },
        {
          "name": "stderr",
          "output_type": "stream",
          "text": [
            "100%|██████████| 20/20 [00:05<00:00,  3.76it/s]\n"
          ]
        },
        {
          "name": "stdout",
          "output_type": "stream",
          "text": [
            "Loss : 0.479135125875473, Val Loss : 0.4905167520046234 Acc : 0.787017285823822, Val Acc : 0.7870174646377563\n",
            "Epochs : 274\n"
          ]
        },
        {
          "name": "stderr",
          "output_type": "stream",
          "text": [
            "100%|██████████| 20/20 [00:05<00:00,  3.36it/s]\n"
          ]
        },
        {
          "name": "stdout",
          "output_type": "stream",
          "text": [
            "Loss : 0.4789885878562927, Val Loss : 0.4921857416629791 Acc : 0.7870835661888123, Val Acc : 0.7870838046073914\n",
            "Epochs : 275\n"
          ]
        },
        {
          "name": "stderr",
          "output_type": "stream",
          "text": [
            "100%|██████████| 20/20 [00:04<00:00,  4.10it/s]\n"
          ]
        },
        {
          "name": "stdout",
          "output_type": "stream",
          "text": [
            "Loss : 0.47856035828590393, Val Loss : 0.48988187313079834 Acc : 0.787232518196106, Val Acc : 0.7872327566146851\n",
            "Epochs : 276\n"
          ]
        },
        {
          "name": "stderr",
          "output_type": "stream",
          "text": [
            "100%|██████████| 20/20 [00:05<00:00,  3.55it/s]\n"
          ]
        },
        {
          "name": "stdout",
          "output_type": "stream",
          "text": [
            "Loss : 0.4784248471260071, Val Loss : 0.49197322130203247 Acc : 0.7872669100761414, Val Acc : 0.7872671484947205\n",
            "Epochs : 277\n"
          ]
        },
        {
          "name": "stderr",
          "output_type": "stream",
          "text": [
            "100%|██████████| 20/20 [00:06<00:00,  3.32it/s]\n"
          ]
        },
        {
          "name": "stdout",
          "output_type": "stream",
          "text": [
            "Loss : 0.47829070687294006, Val Loss : 0.4895669221878052 Acc : 0.7873735427856445, Val Acc : 0.7873737215995789\n",
            "Epochs : 278\n"
          ]
        },
        {
          "name": "stderr",
          "output_type": "stream",
          "text": [
            "100%|██████████| 20/20 [00:05<00:00,  3.67it/s]\n"
          ]
        },
        {
          "name": "stdout",
          "output_type": "stream",
          "text": [
            "Loss : 0.4779230058193207, Val Loss : 0.4918939173221588 Acc : 0.7875246405601501, Val Acc : 0.7875248789787292\n",
            "Epochs : 279\n"
          ]
        },
        {
          "name": "stderr",
          "output_type": "stream",
          "text": [
            "100%|██████████| 20/20 [00:05<00:00,  3.47it/s]\n"
          ]
        },
        {
          "name": "stdout",
          "output_type": "stream",
          "text": [
            "Loss : 0.4779230058193207, Val Loss : 0.4918939173221588 Acc : 0.7875699400901794, Val Acc : 0.7875701785087585\n",
            "Epochs : 280\n"
          ]
        },
        {
          "name": "stderr",
          "output_type": "stream",
          "text": [
            "100%|██████████| 20/20 [00:06<00:00,  3.16it/s]\n"
          ]
        },
        {
          "name": "stdout",
          "output_type": "stream",
          "text": [
            "Loss : 0.47770577669143677, Val Loss : 0.4919217526912689 Acc : 0.7876717448234558, Val Acc : 0.7876719236373901\n",
            "Epochs : 281\n"
          ]
        },
        {
          "name": "stderr",
          "output_type": "stream",
          "text": [
            "100%|██████████| 20/20 [00:05<00:00,  3.62it/s]\n"
          ]
        },
        {
          "name": "stdout",
          "output_type": "stream",
          "text": [
            "Loss : 0.47760531306266785, Val Loss : 0.4886295795440674 Acc : 0.7877671122550964, Val Acc : 0.7877674102783203\n",
            "Epochs : 282\n"
          ]
        },
        {
          "name": "stderr",
          "output_type": "stream",
          "text": [
            "100%|██████████| 20/20 [00:05<00:00,  3.83it/s]\n"
          ]
        },
        {
          "name": "stdout",
          "output_type": "stream",
          "text": [
            "Loss : 0.4775192141532898, Val Loss : 0.49200183153152466 Acc : 0.7878566384315491, Val Acc : 0.7878568768501282\n",
            "Epochs : 283\n"
          ]
        },
        {
          "name": "stderr",
          "output_type": "stream",
          "text": [
            "100%|██████████| 20/20 [00:05<00:00,  3.46it/s]\n"
          ]
        },
        {
          "name": "stdout",
          "output_type": "stream",
          "text": [
            "Loss : 0.4774359166622162, Val Loss : 0.48832473158836365 Acc : 0.787948489189148, Val Acc : 0.7879486680030823\n",
            "Epochs : 284\n"
          ]
        },
        {
          "name": "stderr",
          "output_type": "stream",
          "text": [
            "100%|██████████| 20/20 [00:05<00:00,  3.46it/s]\n"
          ]
        },
        {
          "name": "stdout",
          "output_type": "stream",
          "text": [
            "Loss : 0.4773118197917938, Val Loss : 0.4880359470844269 Acc : 0.7880620956420898, Val Acc : 0.788062334060669\n",
            "Epochs : 285\n"
          ]
        },
        {
          "name": "stderr",
          "output_type": "stream",
          "text": [
            "100%|██████████| 20/20 [00:05<00:00,  3.54it/s]\n"
          ]
        },
        {
          "name": "stdout",
          "output_type": "stream",
          "text": [
            "Loss : 0.47727319598197937, Val Loss : 0.4923534393310547 Acc : 0.7881375551223755, Val Acc : 0.7881377935409546\n",
            "Epochs : 286\n"
          ]
        },
        {
          "name": "stderr",
          "output_type": "stream",
          "text": [
            "100%|██████████| 20/20 [00:05<00:00,  3.68it/s]\n"
          ]
        },
        {
          "name": "stdout",
          "output_type": "stream",
          "text": [
            "Loss : 0.4772431254386902, Val Loss : 0.48776865005493164 Acc : 0.788221001625061, Val Acc : 0.7882212996482849\n",
            "Epochs : 287\n"
          ]
        },
        {
          "name": "stderr",
          "output_type": "stream",
          "text": [
            "100%|██████████| 20/20 [00:05<00:00,  3.50it/s]\n"
          ]
        },
        {
          "name": "stdout",
          "output_type": "stream",
          "text": [
            "Loss : 0.47724100947380066, Val Loss : 0.49266481399536133 Acc : 0.7883091568946838, Val Acc : 0.7883093953132629\n",
            "Epochs : 288\n"
          ]
        },
        {
          "name": "stderr",
          "output_type": "stream",
          "text": [
            "100%|██████████| 20/20 [00:05<00:00,  3.36it/s]\n"
          ]
        },
        {
          "name": "stdout",
          "output_type": "stream",
          "text": [
            "Loss : 0.47728776931762695, Val Loss : 0.49309054017066956 Acc : 0.7883963584899902, Val Acc : 0.7883965969085693\n",
            "Epochs : 289\n"
          ]
        },
        {
          "name": "stderr",
          "output_type": "stream",
          "text": [
            "100%|██████████| 20/20 [00:04<00:00,  4.04it/s]\n"
          ]
        },
        {
          "name": "stdout",
          "output_type": "stream",
          "text": [
            "Loss : 0.4773380756378174, Val Loss : 0.48734143376350403 Acc : 0.7884849905967712, Val Acc : 0.7884852290153503\n",
            "Epochs : 290\n"
          ]
        },
        {
          "name": "stderr",
          "output_type": "stream",
          "text": [
            "100%|██████████| 20/20 [00:05<00:00,  3.38it/s]\n"
          ]
        },
        {
          "name": "stdout",
          "output_type": "stream",
          "text": [
            "Loss : 0.47772130370140076, Val Loss : 0.49441444873809814 Acc : 0.7886039018630981, Val Acc : 0.7886041402816772\n",
            "Epochs : 291\n"
          ]
        },
        {
          "name": "stderr",
          "output_type": "stream",
          "text": [
            "100%|██████████| 20/20 [00:06<00:00,  3.12it/s]\n"
          ]
        },
        {
          "name": "stdout",
          "output_type": "stream",
          "text": [
            "Loss : 0.47789159417152405, Val Loss : 0.48718830943107605 Acc : 0.7886624336242676, Val Acc : 0.7886627316474915\n",
            "Epochs : 292\n"
          ]
        },
        {
          "name": "stderr",
          "output_type": "stream",
          "text": [
            "100%|██████████| 20/20 [00:06<00:00,  3.21it/s]\n"
          ]
        },
        {
          "name": "stdout",
          "output_type": "stream",
          "text": [
            "Loss : 0.478744775056839, Val Loss : 0.4964991509914398 Acc : 0.7888025045394897, Val Acc : 0.7888027429580688\n",
            "Epochs : 293\n"
          ]
        },
        {
          "name": "stderr",
          "output_type": "stream",
          "text": [
            "100%|██████████| 20/20 [00:06<00:00,  3.22it/s]\n"
          ]
        },
        {
          "name": "stdout",
          "output_type": "stream",
          "text": [
            "Loss : 0.4790703356266022, Val Loss : 0.4874853789806366 Acc : 0.7888565063476562, Val Acc : 0.7888566851615906\n",
            "Epochs : 294\n"
          ]
        },
        {
          "name": "stderr",
          "output_type": "stream",
          "text": [
            "100%|██████████| 20/20 [00:05<00:00,  3.61it/s]\n"
          ]
        },
        {
          "name": "stdout",
          "output_type": "stream",
          "text": [
            "Loss : 0.47953110933303833, Val Loss : 0.49788135290145874 Acc : 0.7889401316642761, Val Acc : 0.7889403700828552\n",
            "Epochs : 295\n"
          ]
        },
        {
          "name": "stderr",
          "output_type": "stream",
          "text": [
            "100%|██████████| 20/20 [00:05<00:00,  3.90it/s]\n"
          ]
        },
        {
          "name": "stdout",
          "output_type": "stream",
          "text": [
            "Loss : 0.47963255643844604, Val Loss : 0.48958417773246765 Acc : 0.7890505790710449, Val Acc : 0.789050817489624\n",
            "Epochs : 296\n"
          ]
        },
        {
          "name": "stderr",
          "output_type": "stream",
          "text": [
            "100%|██████████| 20/20 [00:05<00:00,  3.65it/s]\n"
          ]
        },
        {
          "name": "stdout",
          "output_type": "stream",
          "text": [
            "Loss : 0.47982460260391235, Val Loss : 0.5037194490432739 Acc : 0.7891310453414917, Val Acc : 0.7891312837600708\n",
            "Epochs : 297\n"
          ]
        },
        {
          "name": "stderr",
          "output_type": "stream",
          "text": [
            "100%|██████████| 20/20 [00:05<00:00,  3.48it/s]\n"
          ]
        },
        {
          "name": "stdout",
          "output_type": "stream",
          "text": [
            "Loss : 0.4794100821018219, Val Loss : 0.489419549703598 Acc : 0.7892159223556519, Val Acc : 0.789216160774231\n",
            "Epochs : 298\n"
          ]
        },
        {
          "name": "stderr",
          "output_type": "stream",
          "text": [
            "100%|██████████| 20/20 [00:05<00:00,  3.50it/s]\n"
          ]
        },
        {
          "name": "stdout",
          "output_type": "stream",
          "text": [
            "Loss : 0.4791768789291382, Val Loss : 0.48924991488456726 Acc : 0.7893026471138, Val Acc : 0.7893028855323792\n",
            "Epochs : 299\n"
          ]
        },
        {
          "name": "stderr",
          "output_type": "stream",
          "text": [
            "100%|██████████| 20/20 [00:05<00:00,  3.96it/s]\n"
          ]
        },
        {
          "name": "stdout",
          "output_type": "stream",
          "text": [
            "Loss : 0.4793669581413269, Val Loss : 0.503469705581665 Acc : 0.7893756031990051, Val Acc : 0.7893758416175842\n",
            "Epochs : 300\n"
          ]
        },
        {
          "name": "stderr",
          "output_type": "stream",
          "text": [
            "100%|██████████| 20/20 [00:05<00:00,  3.69it/s]\n"
          ]
        },
        {
          "name": "stdout",
          "output_type": "stream",
          "text": [
            "Loss : 0.4789513945579529, Val Loss : 0.4890863597393036 Acc : 0.789454996585846, Val Acc : 0.789455235004425\n",
            "Epochs : 301\n"
          ]
        },
        {
          "name": "stderr",
          "output_type": "stream",
          "text": [
            "100%|██████████| 20/20 [00:06<00:00,  3.15it/s]\n"
          ]
        },
        {
          "name": "stdout",
          "output_type": "stream",
          "text": [
            "Loss : 0.4791513681411743, Val Loss : 0.5033683180809021 Acc : 0.7895326614379883, Val Acc : 0.7895328998565674\n",
            "Epochs : 302\n"
          ]
        },
        {
          "name": "stderr",
          "output_type": "stream",
          "text": [
            "100%|██████████| 20/20 [00:05<00:00,  3.59it/s]\n"
          ]
        },
        {
          "name": "stdout",
          "output_type": "stream",
          "text": [
            "Loss : 0.4787294566631317, Val Loss : 0.48892343044281006 Acc : 0.7896155118942261, Val Acc : 0.7896157503128052\n",
            "Epochs : 303\n"
          ]
        },
        {
          "name": "stderr",
          "output_type": "stream",
          "text": [
            "100%|██████████| 20/20 [00:05<00:00,  3.76it/s]\n"
          ]
        },
        {
          "name": "stdout",
          "output_type": "stream",
          "text": [
            "Loss : 0.4785012900829315, Val Loss : 0.48875904083251953 Acc : 0.789707362651825, Val Acc : 0.789707601070404\n",
            "Epochs : 304\n"
          ]
        },
        {
          "name": "stderr",
          "output_type": "stream",
          "text": [
            "100%|██████████| 20/20 [00:05<00:00,  3.56it/s]\n"
          ]
        },
        {
          "name": "stdout",
          "output_type": "stream",
          "text": [
            "Loss : 0.47870948910713196, Val Loss : 0.5031414031982422 Acc : 0.7897782921791077, Val Acc : 0.789778470993042\n",
            "Epochs : 305\n"
          ]
        },
        {
          "name": "stderr",
          "output_type": "stream",
          "text": [
            "100%|██████████| 20/20 [00:06<00:00,  2.96it/s]\n"
          ]
        },
        {
          "name": "stdout",
          "output_type": "stream",
          "text": [
            "Loss : 0.478280633687973, Val Loss : 0.4886009395122528 Acc : 0.7898659706115723, Val Acc : 0.7898662090301514\n",
            "Epochs : 306\n"
          ]
        },
        {
          "name": "stderr",
          "output_type": "stream",
          "text": [
            "100%|██████████| 20/20 [00:05<00:00,  3.49it/s]\n"
          ]
        },
        {
          "name": "stdout",
          "output_type": "stream",
          "text": [
            "Loss : 0.47805261611938477, Val Loss : 0.48844000697135925 Acc : 0.7899723052978516, Val Acc : 0.7899725437164307\n",
            "Epochs : 307\n"
          ]
        },
        {
          "name": "stderr",
          "output_type": "stream",
          "text": [
            "100%|██████████| 20/20 [00:05<00:00,  3.36it/s]\n"
          ]
        },
        {
          "name": "stdout",
          "output_type": "stream",
          "text": [
            "Loss : 0.47818872332572937, Val Loss : 0.48315784335136414 Acc : 0.7899916768074036, Val Acc : 0.7899920344352722\n",
            "Epochs : 308\n"
          ]
        },
        {
          "name": "stderr",
          "output_type": "stream",
          "text": [
            "100%|██████████| 20/20 [00:05<00:00,  3.84it/s]\n"
          ]
        },
        {
          "name": "stdout",
          "output_type": "stream",
          "text": [
            "Loss : 0.4778188467025757, Val Loss : 0.48827028274536133 Acc : 0.79011470079422, Val Acc : 0.7901149392127991\n",
            "Epochs : 309\n"
          ]
        },
        {
          "name": "stderr",
          "output_type": "stream",
          "text": [
            "100%|██████████| 20/20 [00:05<00:00,  3.72it/s]\n"
          ]
        },
        {
          "name": "stdout",
          "output_type": "stream",
          "text": [
            "Loss : 0.4777942895889282, Val Loss : 0.5026357769966125 Acc : 0.790188729763031, Val Acc : 0.7901889681816101\n",
            "Epochs : 310\n"
          ]
        },
        {
          "name": "stderr",
          "output_type": "stream",
          "text": [
            "100%|██████████| 20/20 [00:06<00:00,  3.29it/s]\n"
          ]
        },
        {
          "name": "stdout",
          "output_type": "stream",
          "text": [
            "Loss : 0.4775625765323639, Val Loss : 0.5025034546852112 Acc : 0.7902801632881165, Val Acc : 0.7902804017066956\n",
            "Epochs : 311\n"
          ]
        },
        {
          "name": "stderr",
          "output_type": "stream",
          "text": [
            "100%|██████████| 20/20 [00:05<00:00,  3.87it/s]\n"
          ]
        },
        {
          "name": "stdout",
          "output_type": "stream",
          "text": [
            "Loss : 0.47710269689559937, Val Loss : 0.48775964975357056 Acc : 0.7903475761413574, Val Acc : 0.7903477549552917\n",
            "Epochs : 312\n"
          ]
        },
        {
          "name": "stderr",
          "output_type": "stream",
          "text": [
            "100%|██████████| 20/20 [00:05<00:00,  3.94it/s]\n"
          ]
        },
        {
          "name": "stdout",
          "output_type": "stream",
          "text": [
            "Loss : 0.47686317563056946, Val Loss : 0.4875936508178711 Acc : 0.7904183268547058, Val Acc : 0.7904185652732849\n",
            "Epochs : 313\n"
          ]
        },
        {
          "name": "stderr",
          "output_type": "stream",
          "text": [
            "100%|██████████| 20/20 [00:05<00:00,  3.43it/s]\n"
          ]
        },
        {
          "name": "stdout",
          "output_type": "stream",
          "text": [
            "Loss : 0.47682762145996094, Val Loss : 0.5020521879196167 Acc : 0.790523886680603, Val Acc : 0.7905241250991821\n",
            "Epochs : 314\n"
          ]
        },
        {
          "name": "stderr",
          "output_type": "stream",
          "text": [
            "100%|██████████| 20/20 [00:06<00:00,  3.18it/s]\n"
          ]
        },
        {
          "name": "stdout",
          "output_type": "stream",
          "text": [
            "Loss : 0.4763416349887848, Val Loss : 0.4872257709503174 Acc : 0.7905798554420471, Val Acc : 0.7905800938606262\n",
            "Epochs : 315\n"
          ]
        },
        {
          "name": "stderr",
          "output_type": "stream",
          "text": [
            "100%|██████████| 20/20 [00:05<00:00,  3.53it/s]\n"
          ]
        },
        {
          "name": "stdout",
          "output_type": "stream",
          "text": [
            "Loss : 0.476555198431015, Val Loss : 0.5018572211265564 Acc : 0.7906568050384521, Val Acc : 0.7906570434570312\n",
            "Epochs : 316\n"
          ]
        },
        {
          "name": "stderr",
          "output_type": "stream",
          "text": [
            "100%|██████████| 20/20 [00:05<00:00,  3.58it/s]\n"
          ]
        },
        {
          "name": "stdout",
          "output_type": "stream",
          "text": [
            "Loss : 0.47607430815696716, Val Loss : 0.48703572154045105 Acc : 0.7907356023788452, Val Acc : 0.7907357811927795\n",
            "Epochs : 317\n"
          ]
        },
        {
          "name": "stderr",
          "output_type": "stream",
          "text": [
            "100%|██████████| 20/20 [00:06<00:00,  3.17it/s]\n"
          ]
        },
        {
          "name": "stdout",
          "output_type": "stream",
          "text": [
            "Loss : 0.47629421949386597, Val Loss : 0.501679003238678 Acc : 0.7908225655555725, Val Acc : 0.7908227443695068\n",
            "Epochs : 318\n"
          ]
        },
        {
          "name": "stderr",
          "output_type": "stream",
          "text": [
            "100%|██████████| 20/20 [00:06<00:00,  3.24it/s]\n"
          ]
        },
        {
          "name": "stdout",
          "output_type": "stream",
          "text": [
            "Loss : 0.4758073091506958, Val Loss : 0.4868479371070862 Acc : 0.7909018397331238, Val Acc : 0.7909020781517029\n",
            "Epochs : 319\n"
          ]
        },
        {
          "name": "stderr",
          "output_type": "stream",
          "text": [
            "100%|██████████| 20/20 [00:06<00:00,  3.25it/s]\n"
          ]
        },
        {
          "name": "stdout",
          "output_type": "stream",
          "text": [
            "Loss : 0.4760258197784424, Val Loss : 0.5014941096305847 Acc : 0.7909809947013855, Val Acc : 0.7909812927246094\n",
            "Epochs : 320\n"
          ]
        },
        {
          "name": "stderr",
          "output_type": "stream",
          "text": [
            "100%|██████████| 20/20 [00:05<00:00,  3.49it/s]\n"
          ]
        },
        {
          "name": "stdout",
          "output_type": "stream",
          "text": [
            "Loss : 0.47575443983078003, Val Loss : 0.5012953281402588 Acc : 0.7910590767860413, Val Acc : 0.7910593748092651\n",
            "Epochs : 321\n"
          ]
        },
        {
          "name": "stderr",
          "output_type": "stream",
          "text": [
            "100%|██████████| 20/20 [00:05<00:00,  3.39it/s]\n"
          ]
        },
        {
          "name": "stdout",
          "output_type": "stream",
          "text": [
            "Loss : 0.47526511549949646, Val Loss : 0.4864574372768402 Acc : 0.7911432385444641, Val Acc : 0.7911434769630432\n",
            "Epochs : 322\n"
          ]
        },
        {
          "name": "stderr",
          "output_type": "stream",
          "text": [
            "100%|██████████| 20/20 [00:05<00:00,  3.49it/s]\n"
          ]
        },
        {
          "name": "stdout",
          "output_type": "stream",
          "text": [
            "Loss : 0.475477397441864, Val Loss : 0.5010939240455627 Acc : 0.7912123203277588, Val Acc : 0.7912125587463379\n",
            "Epochs : 323\n"
          ]
        },
        {
          "name": "stderr",
          "output_type": "stream",
          "text": [
            "100%|██████████| 20/20 [00:06<00:00,  3.07it/s]\n"
          ]
        },
        {
          "name": "stdout",
          "output_type": "stream",
          "text": [
            "Loss : 0.4749968349933624, Val Loss : 0.4862569570541382 Acc : 0.791297435760498, Val Acc : 0.7912976741790771\n",
            "Epochs : 324\n"
          ]
        },
        {
          "name": "stderr",
          "output_type": "stream",
          "text": [
            "100%|██████████| 20/20 [00:05<00:00,  3.50it/s]\n"
          ]
        },
        {
          "name": "stdout",
          "output_type": "stream",
          "text": [
            "Loss : 0.47499677538871765, Val Loss : 0.4862569570541382 Acc : 0.7913751602172852, Val Acc : 0.7913753390312195\n",
            "Epochs : 325\n"
          ]
        },
        {
          "name": "stderr",
          "output_type": "stream",
          "text": [
            "100%|██████████| 20/20 [00:05<00:00,  3.40it/s]\n"
          ]
        },
        {
          "name": "stdout",
          "output_type": "stream",
          "text": [
            "Loss : 0.4752187728881836, Val Loss : 0.5009096264839172 Acc : 0.7914496660232544, Val Acc : 0.7914498448371887\n",
            "Epochs : 326\n"
          ]
        },
        {
          "name": "stderr",
          "output_type": "stream",
          "text": [
            "100%|██████████| 20/20 [00:05<00:00,  3.39it/s]\n"
          ]
        },
        {
          "name": "stdout",
          "output_type": "stream",
          "text": [
            "Loss : 0.47473061084747314, Val Loss : 0.4860633313655853 Acc : 0.791528046131134, Val Acc : 0.7915282249450684\n",
            "Epochs : 327\n"
          ]
        },
        {
          "name": "stderr",
          "output_type": "stream",
          "text": [
            "100%|██████████| 20/20 [00:05<00:00,  3.52it/s]\n"
          ]
        },
        {
          "name": "stdout",
          "output_type": "stream",
          "text": [
            "Loss : 0.47494834661483765, Val Loss : 0.5007093548774719 Acc : 0.7916033267974854, Val Acc : 0.7916035652160645\n",
            "Epochs : 328\n"
          ]
        },
        {
          "name": "stderr",
          "output_type": "stream",
          "text": [
            "100%|██████████| 20/20 [00:05<00:00,  3.38it/s]\n"
          ]
        },
        {
          "name": "stdout",
          "output_type": "stream",
          "text": [
            "Loss : 0.4744632840156555, Val Loss : 0.48586297035217285 Acc : 0.7916741371154785, Val Acc : 0.7916743159294128\n",
            "Epochs : 329\n"
          ]
        },
        {
          "name": "stderr",
          "output_type": "stream",
          "text": [
            "100%|██████████| 20/20 [00:05<00:00,  3.36it/s]\n"
          ]
        },
        {
          "name": "stdout",
          "output_type": "stream",
          "text": [
            "Loss : 0.47437334060668945, Val Loss : 0.48058509826660156 Acc : 0.7917120456695557, Val Acc : 0.7917122840881348\n",
            "Epochs : 330\n"
          ]
        },
        {
          "name": "stderr",
          "output_type": "stream",
          "text": [
            "100%|██████████| 20/20 [00:05<00:00,  3.60it/s]\n"
          ]
        },
        {
          "name": "stdout",
          "output_type": "stream",
          "text": [
            "Loss : 0.4741087555885315, Val Loss : 0.4804130494594574 Acc : 0.7918400764465332, Val Acc : 0.7918403148651123\n",
            "Epochs : 331\n"
          ]
        },
        {
          "name": "stderr",
          "output_type": "stream",
          "text": [
            "100%|██████████| 20/20 [00:05<00:00,  3.40it/s]\n"
          ]
        },
        {
          "name": "stdout",
          "output_type": "stream",
          "text": [
            "Loss : 0.4744058847427368, Val Loss : 0.5003131628036499 Acc : 0.7918950915336609, Val Acc : 0.7918952703475952\n",
            "Epochs : 332\n"
          ]
        },
        {
          "name": "stderr",
          "output_type": "stream",
          "text": [
            "100%|██████████| 20/20 [00:06<00:00,  3.00it/s]\n"
          ]
        },
        {
          "name": "stdout",
          "output_type": "stream",
          "text": [
            "Loss : 0.473844438791275, Val Loss : 0.48024171590805054 Acc : 0.7919357419013977, Val Acc : 0.7919359803199768\n",
            "Epochs : 333\n"
          ]
        },
        {
          "name": "stderr",
          "output_type": "stream",
          "text": [
            "100%|██████████| 20/20 [00:05<00:00,  3.38it/s]\n"
          ]
        },
        {
          "name": "stdout",
          "output_type": "stream",
          "text": [
            "Loss : 0.47383737564086914, Val Loss : 0.49988865852355957 Acc : 0.7920863032341003, Val Acc : 0.7920865416526794\n",
            "Epochs : 334\n"
          ]
        },
        {
          "name": "stderr",
          "output_type": "stream",
          "text": [
            "100%|██████████| 20/20 [00:05<00:00,  3.35it/s]\n"
          ]
        },
        {
          "name": "stdout",
          "output_type": "stream",
          "text": [
            "Loss : 0.473341703414917, Val Loss : 0.4850656986236572 Acc : 0.7921364903450012, Val Acc : 0.7921366691589355\n",
            "Epochs : 335\n"
          ]
        },
        {
          "name": "stderr",
          "output_type": "stream",
          "text": [
            "100%|██████████| 20/20 [00:06<00:00,  3.29it/s]\n"
          ]
        },
        {
          "name": "stdout",
          "output_type": "stream",
          "text": [
            "Loss : 0.4733087420463562, Val Loss : 0.47989413142204285 Acc : 0.7922261357307434, Val Acc : 0.7922264337539673\n",
            "Epochs : 336\n"
          ]
        },
        {
          "name": "stderr",
          "output_type": "stream",
          "text": [
            "100%|██████████| 20/20 [00:05<00:00,  3.60it/s]\n"
          ]
        },
        {
          "name": "stdout",
          "output_type": "stream",
          "text": [
            "Loss : 0.47306758165359497, Val Loss : 0.48487159609794617 Acc : 0.7922825813293457, Val Acc : 0.7922828197479248\n",
            "Epochs : 337\n"
          ]
        },
        {
          "name": "stderr",
          "output_type": "stream",
          "text": [
            "100%|██████████| 20/20 [00:06<00:00,  3.25it/s]\n"
          ]
        },
        {
          "name": "stdout",
          "output_type": "stream",
          "text": [
            "Loss : 0.4727868437767029, Val Loss : 0.4846731424331665 Acc : 0.7923533916473389, Val Acc : 0.7923535704612732\n",
            "Epochs : 338\n"
          ]
        },
        {
          "name": "stderr",
          "output_type": "stream",
          "text": [
            "100%|██████████| 20/20 [00:06<00:00,  3.25it/s]\n"
          ]
        },
        {
          "name": "stdout",
          "output_type": "stream",
          "text": [
            "Loss : 0.4730045199394226, Val Loss : 0.49927666783332825 Acc : 0.7924301028251648, Val Acc : 0.7924303412437439\n",
            "Epochs : 339\n"
          ]
        },
        {
          "name": "stderr",
          "output_type": "stream",
          "text": [
            "100%|██████████| 20/20 [00:04<00:00,  4.10it/s]\n"
          ]
        },
        {
          "name": "stdout",
          "output_type": "stream",
          "text": [
            "Loss : 0.47250235080718994, Val Loss : 0.4844728708267212 Acc : 0.7924957275390625, Val Acc : 0.7924959063529968\n",
            "Epochs : 340\n"
          ]
        },
        {
          "name": "stderr",
          "output_type": "stream",
          "text": [
            "100%|██████████| 20/20 [00:05<00:00,  3.79it/s]\n"
          ]
        },
        {
          "name": "stdout",
          "output_type": "stream",
          "text": [
            "Loss : 0.47271040081977844, Val Loss : 0.4990481436252594 Acc : 0.7925592660903931, Val Acc : 0.7925594449043274\n",
            "Epochs : 341\n"
          ]
        },
        {
          "name": "stderr",
          "output_type": "stream",
          "text": [
            "100%|██████████| 20/20 [00:06<00:00,  3.28it/s]\n"
          ]
        },
        {
          "name": "stdout",
          "output_type": "stream",
          "text": [
            "Loss : 0.4722214341163635, Val Loss : 0.4842722415924072 Acc : 0.7926243543624878, Val Acc : 0.7926245331764221\n",
            "Epochs : 342\n"
          ]
        },
        {
          "name": "stderr",
          "output_type": "stream",
          "text": [
            "100%|██████████| 20/20 [00:05<00:00,  3.48it/s]\n"
          ]
        },
        {
          "name": "stdout",
          "output_type": "stream",
          "text": [
            "Loss : 0.4722546637058258, Val Loss : 0.47921130061149597 Acc : 0.7926679849624634, Val Acc : 0.7926682233810425\n",
            "Epochs : 343\n"
          ]
        },
        {
          "name": "stderr",
          "output_type": "stream",
          "text": [
            "100%|██████████| 20/20 [00:05<00:00,  3.62it/s]\n"
          ]
        },
        {
          "name": "stdout",
          "output_type": "stream",
          "text": [
            "Loss : 0.47194603085517883, Val Loss : 0.4840760827064514 Acc : 0.7927745580673218, Val Acc : 0.7927747368812561\n",
            "Epochs : 344\n"
          ]
        },
        {
          "name": "stderr",
          "output_type": "stream",
          "text": [
            "100%|██████████| 20/20 [00:05<00:00,  3.62it/s]\n"
          ]
        },
        {
          "name": "stdout",
          "output_type": "stream",
          "text": [
            "Loss : 0.47200730443000793, Val Loss : 0.4790506064891815 Acc : 0.79280024766922, Val Acc : 0.7928004860877991\n",
            "Epochs : 345\n"
          ]
        },
        {
          "name": "stderr",
          "output_type": "stream",
          "text": [
            "100%|██████████| 20/20 [00:05<00:00,  3.88it/s]\n"
          ]
        },
        {
          "name": "stdout",
          "output_type": "stream",
          "text": [
            "Loss : 0.47165584564208984, Val Loss : 0.4838660657405853 Acc : 0.7929041385650635, Val Acc : 0.7929043173789978\n",
            "Epochs : 346\n"
          ]
        },
        {
          "name": "stderr",
          "output_type": "stream",
          "text": [
            "100%|██████████| 20/20 [00:06<00:00,  3.28it/s]\n"
          ]
        },
        {
          "name": "stdout",
          "output_type": "stream",
          "text": [
            "Loss : 0.4713800549507141, Val Loss : 0.48366934061050415 Acc : 0.7929918169975281, Val Acc : 0.7929919958114624\n",
            "Epochs : 347\n"
          ]
        },
        {
          "name": "stderr",
          "output_type": "stream",
          "text": [
            "100%|██████████| 20/20 [00:05<00:00,  3.49it/s]\n"
          ]
        },
        {
          "name": "stdout",
          "output_type": "stream",
          "text": [
            "Loss : 0.4716002643108368, Val Loss : 0.4982054829597473 Acc : 0.7930436730384827, Val Acc : 0.793043851852417\n",
            "Epochs : 348\n"
          ]
        },
        {
          "name": "stderr",
          "output_type": "stream",
          "text": [
            "100%|██████████| 20/20 [00:05<00:00,  3.80it/s]\n"
          ]
        },
        {
          "name": "stdout",
          "output_type": "stream",
          "text": [
            "Loss : 0.4713301658630371, Val Loss : 0.49800264835357666 Acc : 0.7931144833564758, Val Acc : 0.7931146621704102\n",
            "Epochs : 349\n"
          ]
        },
        {
          "name": "stderr",
          "output_type": "stream",
          "text": [
            "100%|██████████| 20/20 [00:05<00:00,  3.53it/s]\n"
          ]
        },
        {
          "name": "stdout",
          "output_type": "stream",
          "text": [
            "Loss : 0.4708338975906372, Val Loss : 0.4832814335823059 Acc : 0.793179452419281, Val Acc : 0.7931796312332153\n",
            "Epochs : 350\n"
          ]
        },
        {
          "name": "stderr",
          "output_type": "stream",
          "text": [
            "100%|██████████| 20/20 [00:05<00:00,  3.48it/s]\n"
          ]
        },
        {
          "name": "stdout",
          "output_type": "stream",
          "text": [
            "Loss : 0.4710572063922882, Val Loss : 0.497802197933197 Acc : 0.793242335319519, Val Acc : 0.7932425141334534\n",
            "Epochs : 351\n"
          ]
        },
        {
          "name": "stderr",
          "output_type": "stream",
          "text": [
            "100%|██████████| 20/20 [00:06<00:00,  3.15it/s]\n"
          ]
        },
        {
          "name": "stdout",
          "output_type": "stream",
          "text": [
            "Loss : 0.4705701768398285, Val Loss : 0.4830964207649231 Acc : 0.793315589427948, Val Acc : 0.7933157682418823\n",
            "Epochs : 352\n"
          ]
        },
        {
          "name": "stderr",
          "output_type": "stream",
          "text": [
            "100%|██████████| 20/20 [00:06<00:00,  3.08it/s]\n"
          ]
        },
        {
          "name": "stdout",
          "output_type": "stream",
          "text": [
            "Loss : 0.4707987904548645, Val Loss : 0.49761658906936646 Acc : 0.793397843837738, Val Acc : 0.7933980226516724\n",
            "Epochs : 353\n"
          ]
        },
        {
          "name": "stderr",
          "output_type": "stream",
          "text": [
            "100%|██████████| 20/20 [00:06<00:00,  3.27it/s]\n"
          ]
        },
        {
          "name": "stdout",
          "output_type": "stream",
          "text": [
            "Loss : 0.46980491280555725, Val Loss : 0.4825499951839447 Acc : 0.7934899926185608, Val Acc : 0.7934901714324951\n",
            "Epochs : 354\n"
          ]
        },
        {
          "name": "stderr",
          "output_type": "stream",
          "text": [
            "100%|██████████| 20/20 [00:05<00:00,  3.48it/s]\n"
          ]
        },
        {
          "name": "stdout",
          "output_type": "stream",
          "text": [
            "Loss : 0.469552606344223, Val Loss : 0.48236697912216187 Acc : 0.7935420274734497, Val Acc : 0.793542206287384\n",
            "Epochs : 355\n"
          ]
        },
        {
          "name": "stderr",
          "output_type": "stream",
          "text": [
            "100%|██████████| 20/20 [00:05<00:00,  3.59it/s]\n"
          ]
        },
        {
          "name": "stdout",
          "output_type": "stream",
          "text": [
            "Loss : 0.4697895348072052, Val Loss : 0.49689945578575134 Acc : 0.7936112880706787, Val Acc : 0.793611466884613\n",
            "Epochs : 356\n"
          ]
        },
        {
          "name": "stderr",
          "output_type": "stream",
          "text": [
            "100%|██████████| 20/20 [00:05<00:00,  3.77it/s]\n"
          ]
        },
        {
          "name": "stdout",
          "output_type": "stream",
          "text": [
            "Loss : 0.4693078398704529, Val Loss : 0.4821932017803192 Acc : 0.7936715483665466, Val Acc : 0.7936717867851257\n",
            "Epochs : 357\n"
          ]
        },
        {
          "name": "stderr",
          "output_type": "stream",
          "text": [
            "100%|██████████| 20/20 [00:05<00:00,  3.61it/s]\n"
          ]
        },
        {
          "name": "stdout",
          "output_type": "stream",
          "text": [
            "Loss : 0.46954408288002014, Val Loss : 0.4967263638973236 Acc : 0.7937365174293518, Val Acc : 0.7937366962432861\n",
            "Epochs : 358\n"
          ]
        },
        {
          "name": "stderr",
          "output_type": "stream",
          "text": [
            "100%|██████████| 20/20 [00:06<00:00,  3.10it/s]\n"
          ]
        },
        {
          "name": "stdout",
          "output_type": "stream",
          "text": [
            "Loss : 0.4692988097667694, Val Loss : 0.496554970741272 Acc : 0.7938080430030823, Val Acc : 0.7938082218170166\n",
            "Epochs : 359\n"
          ]
        },
        {
          "name": "stderr",
          "output_type": "stream",
          "text": [
            "100%|██████████| 20/20 [00:05<00:00,  3.52it/s]\n"
          ]
        },
        {
          "name": "stdout",
          "output_type": "stream",
          "text": [
            "Loss : 0.4688051640987396, Val Loss : 0.48183971643447876 Acc : 0.7938821315765381, Val Acc : 0.7938823103904724\n",
            "Epochs : 360\n"
          ]
        },
        {
          "name": "stderr",
          "output_type": "stream",
          "text": [
            "100%|██████████| 20/20 [00:06<00:00,  3.08it/s]\n"
          ]
        },
        {
          "name": "stdout",
          "output_type": "stream",
          "text": [
            "Loss : 0.46880051493644714, Val Loss : 0.49620065093040466 Acc : 0.7939502000808716, Val Acc : 0.7939503788948059\n",
            "Epochs : 361\n"
          ]
        },
        {
          "name": "stderr",
          "output_type": "stream",
          "text": [
            "100%|██████████| 20/20 [00:05<00:00,  3.38it/s]\n"
          ]
        },
        {
          "name": "stdout",
          "output_type": "stream",
          "text": [
            "Loss : 0.46830689907073975, Val Loss : 0.48149046301841736 Acc : 0.7940236926078796, Val Acc : 0.794023871421814\n",
            "Epochs : 362\n"
          ]
        },
        {
          "name": "stderr",
          "output_type": "stream",
          "text": [
            "100%|██████████| 20/20 [00:06<00:00,  3.30it/s]\n"
          ]
        },
        {
          "name": "stdout",
          "output_type": "stream",
          "text": [
            "Loss : 0.46806180477142334, Val Loss : 0.4813173711299896 Acc : 0.7940962314605713, Val Acc : 0.7940964698791504\n",
            "Epochs : 363\n"
          ]
        },
        {
          "name": "stderr",
          "output_type": "stream",
          "text": [
            "100%|██████████| 20/20 [00:05<00:00,  3.63it/s]\n"
          ]
        },
        {
          "name": "stdout",
          "output_type": "stream",
          "text": [
            "Loss : 0.46830570697784424, Val Loss : 0.49584725499153137 Acc : 0.794158935546875, Val Acc : 0.7941591143608093\n",
            "Epochs : 364\n"
          ]
        },
        {
          "name": "stderr",
          "output_type": "stream",
          "text": [
            "100%|██████████| 20/20 [00:05<00:00,  3.50it/s]\n"
          ]
        },
        {
          "name": "stdout",
          "output_type": "stream",
          "text": [
            "Loss : 0.4678095877170563, Val Loss : 0.4811377227306366 Acc : 0.7942278981208801, Val Acc : 0.7942280769348145\n",
            "Epochs : 365\n"
          ]
        },
        {
          "name": "stderr",
          "output_type": "stream",
          "text": [
            "100%|██████████| 20/20 [00:06<00:00,  3.08it/s]\n"
          ]
        },
        {
          "name": "stdout",
          "output_type": "stream",
          "text": [
            "Loss : 0.46756160259246826, Val Loss : 0.4809581935405731 Acc : 0.7942986488342285, Val Acc : 0.7942988872528076\n",
            "Epochs : 366\n"
          ]
        },
        {
          "name": "stderr",
          "output_type": "stream",
          "text": [
            "100%|██████████| 20/20 [00:05<00:00,  3.64it/s]\n"
          ]
        },
        {
          "name": "stdout",
          "output_type": "stream",
          "text": [
            "Loss : 0.4674234092235565, Val Loss : 0.4760739207267761 Acc : 0.7943458557128906, Val Acc : 0.7943460941314697\n",
            "Epochs : 367\n"
          ]
        },
        {
          "name": "stderr",
          "output_type": "stream",
          "text": [
            "100%|██████████| 20/20 [00:06<00:00,  3.30it/s]\n"
          ]
        },
        {
          "name": "stdout",
          "output_type": "stream",
          "text": [
            "Loss : 0.467050164937973, Val Loss : 0.4805925786495209 Acc : 0.7944374084472656, Val Acc : 0.7944376468658447\n",
            "Epochs : 368\n"
          ]
        },
        {
          "name": "stderr",
          "output_type": "stream",
          "text": [
            "100%|██████████| 20/20 [00:05<00:00,  3.51it/s]\n"
          ]
        },
        {
          "name": "stdout",
          "output_type": "stream",
          "text": [
            "Loss : 0.4668002724647522, Val Loss : 0.48041000962257385 Acc : 0.7945054173469543, Val Acc : 0.7945055961608887\n",
            "Epochs : 369\n"
          ]
        },
        {
          "name": "stderr",
          "output_type": "stream",
          "text": [
            "100%|██████████| 20/20 [00:05<00:00,  3.38it/s]\n"
          ]
        },
        {
          "name": "stdout",
          "output_type": "stream",
          "text": [
            "Loss : 0.4665578603744507, Val Loss : 0.475528359413147 Acc : 0.7945610284805298, Val Acc : 0.7945612668991089\n",
            "Epochs : 370\n"
          ]
        },
        {
          "name": "stderr",
          "output_type": "stream",
          "text": [
            "100%|██████████| 20/20 [00:06<00:00,  3.09it/s]\n"
          ]
        },
        {
          "name": "stdout",
          "output_type": "stream",
          "text": [
            "Loss : 0.46617811918258667, Val Loss : 0.47528550028800964 Acc : 0.7946158051490784, Val Acc : 0.7946159839630127\n",
            "Epochs : 371\n"
          ]
        },
        {
          "name": "stderr",
          "output_type": "stream",
          "text": [
            "100%|██████████| 20/20 [00:05<00:00,  3.75it/s]\n"
          ]
        },
        {
          "name": "stdout",
          "output_type": "stream",
          "text": [
            "Loss : 0.4662962257862091, Val Loss : 0.4800516366958618 Acc : 0.794714093208313, Val Acc : 0.7947142720222473\n",
            "Epochs : 372\n"
          ]
        },
        {
          "name": "stderr",
          "output_type": "stream",
          "text": [
            "100%|██████████| 20/20 [00:05<00:00,  3.77it/s]\n"
          ]
        },
        {
          "name": "stdout",
          "output_type": "stream",
          "text": [
            "Loss : 0.46603092551231384, Val Loss : 0.49043986201286316 Acc : 0.7947441339492798, Val Acc : 0.7947443723678589\n",
            "Epochs : 373\n"
          ]
        },
        {
          "name": "stderr",
          "output_type": "stream",
          "text": [
            "100%|██████████| 20/20 [00:05<00:00,  3.49it/s]\n"
          ]
        },
        {
          "name": "stdout",
          "output_type": "stream",
          "text": [
            "Loss : 0.46573877334594727, Val Loss : 0.49021655321121216 Acc : 0.7948057651519775, Val Acc : 0.7948059439659119\n",
            "Epochs : 374\n"
          ]
        },
        {
          "name": "stderr",
          "output_type": "stream",
          "text": [
            "100%|██████████| 20/20 [00:05<00:00,  3.61it/s]\n"
          ]
        },
        {
          "name": "stdout",
          "output_type": "stream",
          "text": [
            "Loss : 0.46525582671165466, Val Loss : 0.474700391292572 Acc : 0.7948577404022217, Val Acc : 0.7948580384254456\n",
            "Epochs : 375\n"
          ]
        },
        {
          "name": "stderr",
          "output_type": "stream",
          "text": [
            "100%|██████████| 20/20 [00:05<00:00,  3.59it/s]\n"
          ]
        },
        {
          "name": "stdout",
          "output_type": "stream",
          "text": [
            "Loss : 0.4650202691555023, Val Loss : 0.47454598546028137 Acc : 0.7949503660202026, Val Acc : 0.7949506044387817\n",
            "Epochs : 376\n"
          ]
        },
        {
          "name": "stderr",
          "output_type": "stream",
          "text": [
            "100%|██████████| 20/20 [00:06<00:00,  3.17it/s]\n"
          ]
        },
        {
          "name": "stdout",
          "output_type": "stream",
          "text": [
            "Loss : 0.46482130885124207, Val Loss : 0.4744158983230591 Acc : 0.7950372099876404, Val Acc : 0.7950373888015747\n",
            "Epochs : 377\n"
          ]
        },
        {
          "name": "stderr",
          "output_type": "stream",
          "text": [
            "100%|██████████| 20/20 [00:06<00:00,  3.26it/s]\n"
          ]
        },
        {
          "name": "stdout",
          "output_type": "stream",
          "text": [
            "Loss : 0.4648301303386688, Val Loss : 0.47901615500450134 Acc : 0.7951139211654663, Val Acc : 0.7951140999794006\n",
            "Epochs : 378\n"
          ]
        },
        {
          "name": "stderr",
          "output_type": "stream",
          "text": [
            "100%|██████████| 20/20 [00:06<00:00,  3.28it/s]\n"
          ]
        },
        {
          "name": "stdout",
          "output_type": "stream",
          "text": [
            "Loss : 0.4643665552139282, Val Loss : 0.4741041362285614 Acc : 0.795182466506958, Val Acc : 0.7951827049255371\n",
            "Epochs : 379\n"
          ]
        },
        {
          "name": "stderr",
          "output_type": "stream",
          "text": [
            "100%|██████████| 20/20 [00:05<00:00,  3.39it/s]\n"
          ]
        },
        {
          "name": "stdout",
          "output_type": "stream",
          "text": [
            "Loss : 0.46459269523620605, Val Loss : 0.47884926199913025 Acc : 0.79522705078125, Val Acc : 0.7952272295951843\n",
            "Epochs : 380\n"
          ]
        },
        {
          "name": "stderr",
          "output_type": "stream",
          "text": [
            "100%|██████████| 20/20 [00:05<00:00,  3.51it/s]\n"
          ]
        },
        {
          "name": "stdout",
          "output_type": "stream",
          "text": [
            "Loss : 0.46458426117897034, Val Loss : 0.4898744225502014 Acc : 0.7952598333358765, Val Acc : 0.795259952545166\n",
            "Epochs : 381\n"
          ]
        },
        {
          "name": "stderr",
          "output_type": "stream",
          "text": [
            "100%|██████████| 20/20 [00:05<00:00,  3.64it/s]\n"
          ]
        },
        {
          "name": "stdout",
          "output_type": "stream",
          "text": [
            "Loss : 0.4641745984554291, Val Loss : 0.4739748239517212 Acc : 0.7953141927719116, Val Acc : 0.7953144311904907\n",
            "Epochs : 382\n"
          ]
        },
        {
          "name": "stderr",
          "output_type": "stream",
          "text": [
            "100%|██████████| 20/20 [00:05<00:00,  3.76it/s]\n"
          ]
        },
        {
          "name": "stdout",
          "output_type": "stream",
          "text": [
            "Loss : 0.4645253121852875, Val Loss : 0.48997247219085693 Acc : 0.7953746914863586, Val Acc : 0.795374870300293\n",
            "Epochs : 383\n"
          ]
        },
        {
          "name": "stderr",
          "output_type": "stream",
          "text": [
            "100%|██████████| 20/20 [00:06<00:00,  3.29it/s]\n"
          ]
        },
        {
          "name": "stdout",
          "output_type": "stream",
          "text": [
            "Loss : 0.464132696390152, Val Loss : 0.4785291254520416 Acc : 0.79547119140625, Val Acc : 0.7954713702201843\n",
            "Epochs : 384\n"
          ]
        },
        {
          "name": "stderr",
          "output_type": "stream",
          "text": [
            "100%|██████████| 20/20 [00:06<00:00,  3.25it/s]\n"
          ]
        },
        {
          "name": "stdout",
          "output_type": "stream",
          "text": [
            "Loss : 0.4638825058937073, Val Loss : 0.4783536195755005 Acc : 0.7955431342124939, Val Acc : 0.795543372631073\n",
            "Epochs : 385\n"
          ]
        },
        {
          "name": "stderr",
          "output_type": "stream",
          "text": [
            "100%|██████████| 20/20 [00:05<00:00,  3.37it/s]\n"
          ]
        },
        {
          "name": "stdout",
          "output_type": "stream",
          "text": [
            "Loss : 0.46390387415885925, Val Loss : 0.49265509843826294 Acc : 0.7956234812736511, Val Acc : 0.7956237196922302\n",
            "Epochs : 386\n"
          ]
        },
        {
          "name": "stderr",
          "output_type": "stream",
          "text": [
            "100%|██████████| 20/20 [00:05<00:00,  3.74it/s]\n"
          ]
        },
        {
          "name": "stdout",
          "output_type": "stream",
          "text": [
            "Loss : 0.4634518623352051, Val Loss : 0.4923456013202667 Acc : 0.7956699132919312, Val Acc : 0.7956700921058655\n",
            "Epochs : 387\n"
          ]
        },
        {
          "name": "stderr",
          "output_type": "stream",
          "text": [
            "100%|██████████| 20/20 [00:05<00:00,  3.60it/s]\n"
          ]
        },
        {
          "name": "stdout",
          "output_type": "stream",
          "text": [
            "Loss : 0.46275782585144043, Val Loss : 0.4775630533695221 Acc : 0.7957254648208618, Val Acc : 0.7957257032394409\n",
            "Epochs : 388\n"
          ]
        },
        {
          "name": "stderr",
          "output_type": "stream",
          "text": [
            "100%|██████████| 20/20 [00:06<00:00,  3.19it/s]\n"
          ]
        },
        {
          "name": "stdout",
          "output_type": "stream",
          "text": [
            "Loss : 0.46255141496658325, Val Loss : 0.4774180054664612 Acc : 0.7958019375801086, Val Acc : 0.7958021759986877\n",
            "Epochs : 389\n"
          ]
        },
        {
          "name": "stderr",
          "output_type": "stream",
          "text": [
            "100%|██████████| 20/20 [00:06<00:00,  2.99it/s]\n"
          ]
        },
        {
          "name": "stdout",
          "output_type": "stream",
          "text": [
            "Loss : 0.4628305435180664, Val Loss : 0.4919598698616028 Acc : 0.7958524227142334, Val Acc : 0.7958526015281677\n",
            "Epochs : 390\n"
          ]
        },
        {
          "name": "stderr",
          "output_type": "stream",
          "text": [
            "100%|██████████| 20/20 [00:06<00:00,  3.31it/s]\n"
          ]
        },
        {
          "name": "stdout",
          "output_type": "stream",
          "text": [
            "Loss : 0.46261587738990784, Val Loss : 0.4918212294578552 Acc : 0.7959197759628296, Val Acc : 0.7959199547767639\n",
            "Epochs : 391\n"
          ]
        },
        {
          "name": "stderr",
          "output_type": "stream",
          "text": [
            "100%|██████████| 20/20 [00:06<00:00,  3.13it/s]\n"
          ]
        },
        {
          "name": "stdout",
          "output_type": "stream",
          "text": [
            "Loss : 0.4624142646789551, Val Loss : 0.49169886112213135 Acc : 0.7959886193275452, Val Acc : 0.7959887981414795\n",
            "Epochs : 392\n"
          ]
        },
        {
          "name": "stderr",
          "output_type": "stream",
          "text": [
            "100%|██████████| 20/20 [00:05<00:00,  3.35it/s]\n"
          ]
        },
        {
          "name": "stdout",
          "output_type": "stream",
          "text": [
            "Loss : 0.46171823143959045, Val Loss : 0.4768274426460266 Acc : 0.7960466146469116, Val Acc : 0.796046793460846\n",
            "Epochs : 393\n"
          ]
        },
        {
          "name": "stderr",
          "output_type": "stream",
          "text": [
            "100%|██████████| 20/20 [00:06<00:00,  3.28it/s]\n"
          ]
        },
        {
          "name": "stdout",
          "output_type": "stream",
          "text": [
            "Loss : 0.461852490901947, Val Loss : 0.49138882756233215 Acc : 0.796114444732666, Val Acc : 0.7961146235466003\n",
            "Epochs : 394\n"
          ]
        },
        {
          "name": "stderr",
          "output_type": "stream",
          "text": [
            "100%|██████████| 20/20 [00:05<00:00,  3.64it/s]\n"
          ]
        },
        {
          "name": "stdout",
          "output_type": "stream",
          "text": [
            "Loss : 0.46166133880615234, Val Loss : 0.49128273129463196 Acc : 0.7961754202842712, Val Acc : 0.7961755990982056\n",
            "Epochs : 395\n"
          ]
        },
        {
          "name": "stderr",
          "output_type": "stream",
          "text": [
            "100%|██████████| 20/20 [00:05<00:00,  3.49it/s]\n"
          ]
        },
        {
          "name": "stdout",
          "output_type": "stream",
          "text": [
            "Loss : 0.4611601233482361, Val Loss : 0.47643551230430603 Acc : 0.7962335348129272, Val Acc : 0.7962337136268616\n",
            "Epochs : 396\n"
          ]
        },
        {
          "name": "stderr",
          "output_type": "stream",
          "text": [
            "100%|██████████| 20/20 [00:06<00:00,  3.08it/s]\n"
          ]
        },
        {
          "name": "stdout",
          "output_type": "stream",
          "text": [
            "Loss : 0.46130990982055664, Val Loss : 0.4911143481731415 Acc : 0.796301007270813, Val Acc : 0.7963011860847473\n",
            "Epochs : 397\n"
          ]
        },
        {
          "name": "stderr",
          "output_type": "stream",
          "text": [
            "100%|██████████| 20/20 [00:04<00:00,  4.02it/s]\n"
          ]
        },
        {
          "name": "stdout",
          "output_type": "stream",
          "text": [
            "Loss : 0.46080511808395386, Val Loss : 0.4761914908885956 Acc : 0.7963539958000183, Val Acc : 0.7963541746139526\n",
            "Epochs : 398\n"
          ]
        },
        {
          "name": "stderr",
          "output_type": "stream",
          "text": [
            "100%|██████████| 20/20 [00:05<00:00,  3.63it/s]\n"
          ]
        },
        {
          "name": "stdout",
          "output_type": "stream",
          "text": [
            "Loss : 0.46093985438346863, Val Loss : 0.49091866612434387 Acc : 0.7964163422584534, Val Acc : 0.7964165210723877\n",
            "Epochs : 399\n"
          ]
        },
        {
          "name": "stderr",
          "output_type": "stream",
          "text": [
            "100%|██████████| 20/20 [00:06<00:00,  3.25it/s]\n"
          ]
        },
        {
          "name": "stdout",
          "output_type": "stream",
          "text": [
            "Loss : 0.4607267379760742, Val Loss : 0.49078118801116943 Acc : 0.7964810729026794, Val Acc : 0.7964812517166138\n",
            "Epochs : 400\n"
          ]
        },
        {
          "name": "stderr",
          "output_type": "stream",
          "text": [
            "100%|██████████| 20/20 [00:05<00:00,  3.49it/s]\n"
          ]
        },
        {
          "name": "stdout",
          "output_type": "stream",
          "text": [
            "Loss : 0.4605230391025543, Val Loss : 0.4906536936759949 Acc : 0.7965458631515503, Val Acc : 0.7965460419654846\n",
            "Epochs : 401\n"
          ]
        },
        {
          "name": "stderr",
          "output_type": "stream",
          "text": [
            "100%|██████████| 20/20 [00:06<00:00,  3.17it/s]\n"
          ]
        },
        {
          "name": "stdout",
          "output_type": "stream",
          "text": [
            "Loss : 0.46031713485717773, Val Loss : 0.4905250370502472 Acc : 0.796600341796875, Val Acc : 0.7966005206108093\n",
            "Epochs : 402\n"
          ]
        },
        {
          "name": "stderr",
          "output_type": "stream",
          "text": [
            "100%|██████████| 20/20 [00:05<00:00,  3.41it/s]\n"
          ]
        },
        {
          "name": "stdout",
          "output_type": "stream",
          "text": [
            "Loss : 0.4603114128112793, Val Loss : 0.4905175566673279 Acc : 0.7966634035110474, Val Acc : 0.7966636419296265\n",
            "Epochs : 403\n"
          ]
        },
        {
          "name": "stderr",
          "output_type": "stream",
          "text": [
            "100%|██████████| 20/20 [00:06<00:00,  3.16it/s]\n"
          ]
        },
        {
          "name": "stdout",
          "output_type": "stream",
          "text": [
            "Loss : 0.45977190136909485, Val Loss : 0.4754934310913086 Acc : 0.7967223525047302, Val Acc : 0.7967225313186646\n",
            "Epochs : 404\n"
          ]
        },
        {
          "name": "stderr",
          "output_type": "stream",
          "text": [
            "100%|██████████| 20/20 [00:05<00:00,  3.76it/s]\n"
          ]
        },
        {
          "name": "stdout",
          "output_type": "stream",
          "text": [
            "Loss : 0.46008482575416565, Val Loss : 0.49036121368408203 Acc : 0.7967846393585205, Val Acc : 0.7967848181724548\n",
            "Epochs : 405\n"
          ]
        },
        {
          "name": "stderr",
          "output_type": "stream",
          "text": [
            "100%|██████████| 20/20 [00:06<00:00,  3.10it/s]\n"
          ]
        },
        {
          "name": "stdout",
          "output_type": "stream",
          "text": [
            "Loss : 0.45954951643943787, Val Loss : 0.4753435552120209 Acc : 0.7968447208404541, Val Acc : 0.7968448996543884\n",
            "Epochs : 406\n"
          ]
        },
        {
          "name": "stderr",
          "output_type": "stream",
          "text": [
            "100%|██████████| 20/20 [00:06<00:00,  3.15it/s]\n"
          ]
        },
        {
          "name": "stdout",
          "output_type": "stream",
          "text": [
            "Loss : 0.45987266302108765, Val Loss : 0.4902183413505554 Acc : 0.7969058752059937, Val Acc : 0.796906054019928\n",
            "Epochs : 407\n"
          ]
        },
        {
          "name": "stderr",
          "output_type": "stream",
          "text": [
            "100%|██████████| 20/20 [00:06<00:00,  3.27it/s]\n"
          ]
        },
        {
          "name": "stdout",
          "output_type": "stream",
          "text": [
            "Loss : 0.4593316912651062, Val Loss : 0.4751943349838257 Acc : 0.7969706058502197, Val Acc : 0.796970784664154\n",
            "Epochs : 408\n"
          ]
        },
        {
          "name": "stderr",
          "output_type": "stream",
          "text": [
            "100%|██████████| 20/20 [00:06<00:00,  3.07it/s]\n"
          ]
        },
        {
          "name": "stdout",
          "output_type": "stream",
          "text": [
            "Loss : 0.45965903997421265, Val Loss : 0.4900756776332855 Acc : 0.7970395088195801, Val Acc : 0.7970396876335144\n",
            "Epochs : 409\n"
          ]
        },
        {
          "name": "stderr",
          "output_type": "stream",
          "text": [
            "100%|██████████| 20/20 [00:06<00:00,  3.18it/s]\n"
          ]
        },
        {
          "name": "stdout",
          "output_type": "stream",
          "text": [
            "Loss : 0.45911985635757446, Val Loss : 0.4750470519065857 Acc : 0.797100841999054, Val Acc : 0.7971010208129883\n",
            "Epochs : 410\n"
          ]
        },
        {
          "name": "stderr",
          "output_type": "stream",
          "text": [
            "100%|██████████| 20/20 [00:05<00:00,  3.48it/s]\n"
          ]
        },
        {
          "name": "stdout",
          "output_type": "stream",
          "text": [
            "Loss : 0.459444135427475, Val Loss : 0.48992881178855896 Acc : 0.7971615791320801, Val Acc : 0.7971617579460144\n",
            "Epochs : 411\n"
          ]
        },
        {
          "name": "stderr",
          "output_type": "stream",
          "text": [
            "100%|██████████| 20/20 [00:05<00:00,  3.52it/s]\n"
          ]
        },
        {
          "name": "stdout",
          "output_type": "stream",
          "text": [
            "Loss : 0.45890432596206665, Val Loss : 0.47489720582962036 Acc : 0.7972157597541809, Val Acc : 0.7972159385681152\n",
            "Epochs : 412\n"
          ]
        },
        {
          "name": "stderr",
          "output_type": "stream",
          "text": [
            "100%|██████████| 20/20 [00:05<00:00,  3.49it/s]\n"
          ]
        },
        {
          "name": "stdout",
          "output_type": "stream",
          "text": [
            "Loss : 0.4586917757987976, Val Loss : 0.4747518301010132 Acc : 0.7972757816314697, Val Acc : 0.797275960445404\n",
            "Epochs : 413\n"
          ]
        },
        {
          "name": "stderr",
          "output_type": "stream",
          "text": [
            "100%|██████████| 20/20 [00:06<00:00,  3.08it/s]\n"
          ]
        },
        {
          "name": "stdout",
          "output_type": "stream",
          "text": [
            "Loss : 0.4582490921020508, Val Loss : 0.4744552969932556 Acc : 0.7973413467407227, Val Acc : 0.797341525554657\n",
            "Epochs : 414\n"
          ]
        },
        {
          "name": "stderr",
          "output_type": "stream",
          "text": [
            "100%|██████████| 20/20 [00:06<00:00,  3.19it/s]\n"
          ]
        },
        {
          "name": "stdout",
          "output_type": "stream",
          "text": [
            "Loss : 0.4583621919155121, Val Loss : 0.4892215430736542 Acc : 0.797402024269104, Val Acc : 0.7974022030830383\n",
            "Epochs : 415\n"
          ]
        },
        {
          "name": "stderr",
          "output_type": "stream",
          "text": [
            "100%|██████████| 20/20 [00:06<00:00,  3.17it/s]\n"
          ]
        },
        {
          "name": "stdout",
          "output_type": "stream",
          "text": [
            "Loss : 0.458144873380661, Val Loss : 0.48908260464668274 Acc : 0.7974628210067749, Val Acc : 0.7974629998207092\n",
            "Epochs : 416\n"
          ]
        },
        {
          "name": "stderr",
          "output_type": "stream",
          "text": [
            "100%|██████████| 20/20 [00:06<00:00,  3.28it/s]\n"
          ]
        },
        {
          "name": "stdout",
          "output_type": "stream",
          "text": [
            "Loss : 0.45760366320610046, Val Loss : 0.4740290641784668 Acc : 0.797521710395813, Val Acc : 0.7975218296051025\n",
            "Epochs : 417\n"
          ]
        },
        {
          "name": "stderr",
          "output_type": "stream",
          "text": [
            "100%|██████████| 20/20 [00:05<00:00,  3.62it/s]\n"
          ]
        },
        {
          "name": "stdout",
          "output_type": "stream",
          "text": [
            "Loss : 0.4579356908798218, Val Loss : 0.4889518618583679 Acc : 0.7975800633430481, Val Acc : 0.7975802421569824\n",
            "Epochs : 418\n"
          ]
        },
        {
          "name": "stderr",
          "output_type": "stream",
          "text": [
            "100%|██████████| 20/20 [00:06<00:00,  2.90it/s]\n"
          ]
        },
        {
          "name": "stdout",
          "output_type": "stream",
          "text": [
            "Loss : 0.45772185921669006, Val Loss : 0.4888212978839874 Acc : 0.7976513504981995, Val Acc : 0.797651469707489\n",
            "Epochs : 419\n"
          ]
        },
        {
          "name": "stderr",
          "output_type": "stream",
          "text": [
            "100%|██████████| 20/20 [00:05<00:00,  3.49it/s]\n"
          ]
        },
        {
          "name": "stdout",
          "output_type": "stream",
          "text": [
            "Loss : 0.4575132429599762, Val Loss : 0.48869144916534424 Acc : 0.797703742980957, Val Acc : 0.7977039217948914\n",
            "Epochs : 420\n"
          ]
        },
        {
          "name": "stderr",
          "output_type": "stream",
          "text": [
            "100%|██████████| 20/20 [00:05<00:00,  3.48it/s]\n"
          ]
        },
        {
          "name": "stdout",
          "output_type": "stream",
          "text": [
            "Loss : 0.4569561779499054, Val Loss : 0.4736024737358093 Acc : 0.7977607846260071, Val Acc : 0.7977609634399414\n",
            "Epochs : 421\n"
          ]
        },
        {
          "name": "stderr",
          "output_type": "stream",
          "text": [
            "100%|██████████| 20/20 [00:05<00:00,  3.57it/s]\n"
          ]
        },
        {
          "name": "stdout",
          "output_type": "stream",
          "text": [
            "Loss : 0.45730525255203247, Val Loss : 0.4885605275630951 Acc : 0.7978174686431885, Val Acc : 0.7978176474571228\n",
            "Epochs : 422\n"
          ]
        },
        {
          "name": "stderr",
          "output_type": "stream",
          "text": [
            "100%|██████████| 20/20 [00:05<00:00,  3.61it/s]\n"
          ]
        },
        {
          "name": "stdout",
          "output_type": "stream",
          "text": [
            "Loss : 0.45710837841033936, Val Loss : 0.4884464144706726 Acc : 0.7978761196136475, Val Acc : 0.7978762984275818\n",
            "Epochs : 423\n"
          ]
        },
        {
          "name": "stderr",
          "output_type": "stream",
          "text": [
            "100%|██████████| 20/20 [00:06<00:00,  3.09it/s]\n"
          ]
        },
        {
          "name": "stdout",
          "output_type": "stream",
          "text": [
            "Loss : 0.4565551280975342, Val Loss : 0.4733400344848633 Acc : 0.7979283332824707, Val Acc : 0.797928512096405\n",
            "Epochs : 424\n"
          ]
        },
        {
          "name": "stderr",
          "output_type": "stream",
          "text": [
            "100%|██████████| 20/20 [00:05<00:00,  3.52it/s]\n"
          ]
        },
        {
          "name": "stdout",
          "output_type": "stream",
          "text": [
            "Loss : 0.45690780878067017, Val Loss : 0.4883279502391815 Acc : 0.7979881167411804, Val Acc : 0.7979882955551147\n",
            "Epochs : 425\n"
          ]
        },
        {
          "name": "stderr",
          "output_type": "stream",
          "text": [
            "100%|██████████| 20/20 [00:06<00:00,  3.28it/s]\n"
          ]
        },
        {
          "name": "stdout",
          "output_type": "stream",
          "text": [
            "Loss : 0.45671820640563965, Val Loss : 0.4882185459136963 Acc : 0.7980464100837708, Val Acc : 0.7980465888977051\n",
            "Epochs : 426\n"
          ]
        },
        {
          "name": "stderr",
          "output_type": "stream",
          "text": [
            "100%|██████████| 20/20 [00:05<00:00,  3.50it/s]\n"
          ]
        },
        {
          "name": "stdout",
          "output_type": "stream",
          "text": [
            "Loss : 0.4561663269996643, Val Loss : 0.4730801582336426 Acc : 0.798105001449585, Val Acc : 0.7981051206588745\n",
            "Epochs : 427\n"
          ]
        },
        {
          "name": "stderr",
          "output_type": "stream",
          "text": [
            "100%|██████████| 20/20 [00:05<00:00,  3.47it/s]\n"
          ]
        },
        {
          "name": "stdout",
          "output_type": "stream",
          "text": [
            "Loss : 0.45653221011161804, Val Loss : 0.4881151020526886 Acc : 0.7981600165367126, Val Acc : 0.7981601357460022\n",
            "Epochs : 428\n"
          ]
        },
        {
          "name": "stderr",
          "output_type": "stream",
          "text": [
            "100%|██████████| 20/20 [00:05<00:00,  3.75it/s]\n"
          ]
        },
        {
          "name": "stdout",
          "output_type": "stream",
          "text": [
            "Loss : 0.45635318756103516, Val Loss : 0.4880204498767853 Acc : 0.7982157468795776, Val Acc : 0.798215925693512\n",
            "Epochs : 429\n"
          ]
        },
        {
          "name": "stderr",
          "output_type": "stream",
          "text": [
            "100%|██████████| 20/20 [00:06<00:00,  3.17it/s]\n"
          ]
        },
        {
          "name": "stdout",
          "output_type": "stream",
          "text": [
            "Loss : 0.45618152618408203, Val Loss : 0.4879361093044281 Acc : 0.7982725501060486, Val Acc : 0.7982726693153381\n",
            "Epochs : 430\n"
          ]
        },
        {
          "name": "stderr",
          "output_type": "stream",
          "text": [
            "100%|██████████| 20/20 [00:05<00:00,  3.64it/s]\n"
          ]
        },
        {
          "name": "stdout",
          "output_type": "stream",
          "text": [
            "Loss : 0.4556185305118561, Val Loss : 0.4727080166339874 Acc : 0.7983357906341553, Val Acc : 0.7983359694480896\n",
            "Epochs : 431\n"
          ]
        },
        {
          "name": "stderr",
          "output_type": "stream",
          "text": [
            "100%|██████████| 20/20 [00:06<00:00,  3.28it/s]\n"
          ]
        },
        {
          "name": "stdout",
          "output_type": "stream",
          "text": [
            "Loss : 0.4558221697807312, Val Loss : 0.48774468898773193 Acc : 0.79839688539505, Val Acc : 0.7983970046043396\n",
            "Epochs : 432\n"
          ]
        },
        {
          "name": "stderr",
          "output_type": "stream",
          "text": [
            "100%|██████████| 20/20 [00:05<00:00,  3.50it/s]\n"
          ]
        },
        {
          "name": "stdout",
          "output_type": "stream",
          "text": [
            "Loss : 0.4552532732486725, Val Loss : 0.47246089577674866 Acc : 0.7984409332275391, Val Acc : 0.7984411120414734\n",
            "Epochs : 433\n"
          ]
        },
        {
          "name": "stderr",
          "output_type": "stream",
          "text": [
            "100%|██████████| 20/20 [00:05<00:00,  3.37it/s]\n"
          ]
        },
        {
          "name": "stdout",
          "output_type": "stream",
          "text": [
            "Loss : 0.45563745498657227, Val Loss : 0.48763835430145264 Acc : 0.798501193523407, Val Acc : 0.7985013723373413\n",
            "Epochs : 434\n"
          ]
        },
        {
          "name": "stderr",
          "output_type": "stream",
          "text": [
            "100%|██████████| 20/20 [00:05<00:00,  3.74it/s]\n"
          ]
        },
        {
          "name": "stdout",
          "output_type": "stream",
          "text": [
            "Loss : 0.4554634690284729, Val Loss : 0.4875495135784149 Acc : 0.7985565066337585, Val Acc : 0.7985566258430481\n",
            "Epochs : 435\n"
          ]
        },
        {
          "name": "stderr",
          "output_type": "stream",
          "text": [
            "100%|██████████| 20/20 [00:05<00:00,  3.44it/s]\n"
          ]
        },
        {
          "name": "stdout",
          "output_type": "stream",
          "text": [
            "Loss : 0.45527902245521545, Val Loss : 0.48744842410087585 Acc : 0.7986199855804443, Val Acc : 0.7986201643943787\n",
            "Epochs : 436\n"
          ]
        },
        {
          "name": "stderr",
          "output_type": "stream",
          "text": [
            "100%|██████████| 20/20 [00:06<00:00,  3.06it/s]\n"
          ]
        },
        {
          "name": "stdout",
          "output_type": "stream",
          "text": [
            "Loss : 0.4547107517719269, Val Loss : 0.4720911979675293 Acc : 0.7986661791801453, Val Acc : 0.7986663579940796\n",
            "Epochs : 437\n"
          ]
        },
        {
          "name": "stderr",
          "output_type": "stream",
          "text": [
            "100%|██████████| 20/20 [00:05<00:00,  3.41it/s]\n"
          ]
        },
        {
          "name": "stdout",
          "output_type": "stream",
          "text": [
            "Loss : 0.45452892780303955, Val Loss : 0.4719669818878174 Acc : 0.7987236976623535, Val Acc : 0.7987238764762878\n",
            "Epochs : 438\n"
          ]
        },
        {
          "name": "stderr",
          "output_type": "stream",
          "text": [
            "100%|██████████| 20/20 [00:05<00:00,  3.59it/s]\n"
          ]
        },
        {
          "name": "stdout",
          "output_type": "stream",
          "text": [
            "Loss : 0.45435622334480286, Val Loss : 0.4718514084815979 Acc : 0.7987818717956543, Val Acc : 0.7987819910049438\n",
            "Epochs : 439\n"
          ]
        },
        {
          "name": "stderr",
          "output_type": "stream",
          "text": [
            "100%|██████████| 20/20 [00:06<00:00,  3.13it/s]\n"
          ]
        },
        {
          "name": "stdout",
          "output_type": "stream",
          "text": [
            "Loss : 0.45419031381607056, Val Loss : 0.4717406630516052 Acc : 0.7988326549530029, Val Acc : 0.7988327741622925\n",
            "Epochs : 440\n"
          ]
        },
        {
          "name": "stderr",
          "output_type": "stream",
          "text": [
            "100%|██████████| 20/20 [00:06<00:00,  3.06it/s]\n"
          ]
        },
        {
          "name": "stdout",
          "output_type": "stream",
          "text": [
            "Loss : 0.45403116941452026, Val Loss : 0.4716315269470215 Acc : 0.7988960146903992, Val Acc : 0.7988961338996887\n",
            "Epochs : 441\n"
          ]
        },
        {
          "name": "stderr",
          "output_type": "stream",
          "text": [
            "100%|██████████| 20/20 [00:06<00:00,  3.27it/s]\n"
          ]
        },
        {
          "name": "stdout",
          "output_type": "stream",
          "text": [
            "Loss : 0.4543079435825348, Val Loss : 0.48701661825180054 Acc : 0.7989564538002014, Val Acc : 0.798956573009491\n",
            "Epochs : 442\n"
          ]
        },
        {
          "name": "stderr",
          "output_type": "stream",
          "text": [
            "100%|██████████| 20/20 [00:05<00:00,  3.53it/s]\n"
          ]
        },
        {
          "name": "stdout",
          "output_type": "stream",
          "text": [
            "Loss : 0.4535784125328064, Val Loss : 0.47131797671318054 Acc : 0.7990085482597351, Val Acc : 0.7990087270736694\n",
            "Epochs : 443\n"
          ]
        },
        {
          "name": "stderr",
          "output_type": "stream",
          "text": [
            "100%|██████████| 20/20 [00:05<00:00,  3.80it/s]\n"
          ]
        },
        {
          "name": "stdout",
          "output_type": "stream",
          "text": [
            "Loss : 0.45341721177101135, Val Loss : 0.4712047874927521 Acc : 0.7990604639053345, Val Acc : 0.7990606427192688\n",
            "Epochs : 444\n"
          ]
        },
        {
          "name": "stderr",
          "output_type": "stream",
          "text": [
            "100%|██████████| 20/20 [00:06<00:00,  3.15it/s]\n"
          ]
        },
        {
          "name": "stdout",
          "output_type": "stream",
          "text": [
            "Loss : 0.45326629281044006, Val Loss : 0.47109749913215637 Acc : 0.7991257309913635, Val Acc : 0.7991258502006531\n",
            "Epochs : 445\n"
          ]
        },
        {
          "name": "stderr",
          "output_type": "stream",
          "text": [
            "100%|██████████| 20/20 [00:05<00:00,  3.76it/s]\n"
          ]
        },
        {
          "name": "stdout",
          "output_type": "stream",
          "text": [
            "Loss : 0.45370399951934814, Val Loss : 0.486754834651947 Acc : 0.7991662621498108, Val Acc : 0.7991664409637451\n",
            "Epochs : 446\n"
          ]
        },
        {
          "name": "stderr",
          "output_type": "stream",
          "text": [
            "100%|██████████| 20/20 [00:06<00:00,  3.27it/s]\n"
          ]
        },
        {
          "name": "stdout",
          "output_type": "stream",
          "text": [
            "Loss : 0.4530946612358093, Val Loss : 0.4709848165512085 Acc : 0.7992199659347534, Val Acc : 0.799220085144043\n",
            "Epochs : 447\n"
          ]
        },
        {
          "name": "stderr",
          "output_type": "stream",
          "text": [
            "100%|██████████| 20/20 [00:05<00:00,  3.38it/s]\n"
          ]
        },
        {
          "name": "stdout",
          "output_type": "stream",
          "text": [
            "Loss : 0.4535413682460785, Val Loss : 0.4866751432418823 Acc : 0.7992764115333557, Val Acc : 0.7992765307426453\n",
            "Epochs : 448\n"
          ]
        },
        {
          "name": "stderr",
          "output_type": "stream",
          "text": [
            "100%|██████████| 20/20 [00:05<00:00,  3.74it/s]\n"
          ]
        },
        {
          "name": "stdout",
          "output_type": "stream",
          "text": [
            "Loss : 0.45293155312538147, Val Loss : 0.470875084400177 Acc : 0.7993288040161133, Val Acc : 0.7993289828300476\n",
            "Epochs : 449\n"
          ]
        },
        {
          "name": "stderr",
          "output_type": "stream",
          "text": [
            "100%|██████████| 20/20 [00:05<00:00,  3.57it/s]\n"
          ]
        },
        {
          "name": "stdout",
          "output_type": "stream",
          "text": [
            "Loss : 0.45337194204330444, Val Loss : 0.4865903854370117 Acc : 0.7993746995925903, Val Acc : 0.7993748188018799\n",
            "Epochs : 450\n"
          ]
        },
        {
          "name": "stderr",
          "output_type": "stream",
          "text": [
            "100%|██████████| 20/20 [00:06<00:00,  3.29it/s]\n"
          ]
        },
        {
          "name": "stdout",
          "output_type": "stream",
          "text": [
            "Loss : 0.45320194959640503, Val Loss : 0.4865019619464874 Acc : 0.7994305491447449, Val Acc : 0.7994306683540344\n",
            "Epochs : 451\n"
          ]
        },
        {
          "name": "stderr",
          "output_type": "stream",
          "text": [
            "100%|██████████| 20/20 [00:05<00:00,  3.36it/s]\n"
          ]
        },
        {
          "name": "stdout",
          "output_type": "stream",
          "text": [
            "Loss : 0.45302483439445496, Val Loss : 0.486404687166214 Acc : 0.7994869351387024, Val Acc : 0.7994870543479919\n",
            "Epochs : 452\n"
          ]
        },
        {
          "name": "stderr",
          "output_type": "stream",
          "text": [
            "100%|██████████| 20/20 [00:06<00:00,  3.06it/s]\n"
          ]
        },
        {
          "name": "stdout",
          "output_type": "stream",
          "text": [
            "Loss : 0.45286068320274353, Val Loss : 0.4863247871398926 Acc : 0.7995397448539734, Val Acc : 0.7995398640632629\n",
            "Epochs : 453\n"
          ]
        },
        {
          "name": "stderr",
          "output_type": "stream",
          "text": [
            "100%|██████████| 20/20 [00:05<00:00,  3.39it/s]\n"
          ]
        },
        {
          "name": "stdout",
          "output_type": "stream",
          "text": [
            "Loss : 0.4522317945957184, Val Loss : 0.47040730714797974 Acc : 0.7995951175689697, Val Acc : 0.7995953559875488\n",
            "Epochs : 454\n"
          ]
        },
        {
          "name": "stderr",
          "output_type": "stream",
          "text": [
            "100%|██████████| 20/20 [00:06<00:00,  3.20it/s]\n"
          ]
        },
        {
          "name": "stdout",
          "output_type": "stream",
          "text": [
            "Loss : 0.4526814818382263, Val Loss : 0.4862227439880371 Acc : 0.7996523380279541, Val Acc : 0.7996524572372437\n",
            "Epochs : 455\n"
          ]
        },
        {
          "name": "stderr",
          "output_type": "stream",
          "text": [
            "100%|██████████| 20/20 [00:05<00:00,  3.38it/s]\n"
          ]
        },
        {
          "name": "stdout",
          "output_type": "stream",
          "text": [
            "Loss : 0.45204925537109375, Val Loss : 0.47028395533561707 Acc : 0.7997094988822937, Val Acc : 0.7997096180915833\n",
            "Epochs : 456\n"
          ]
        },
        {
          "name": "stderr",
          "output_type": "stream",
          "text": [
            "100%|██████████| 20/20 [00:06<00:00,  3.26it/s]\n"
          ]
        },
        {
          "name": "stdout",
          "output_type": "stream",
          "text": [
            "Loss : 0.45250359177589417, Val Loss : 0.4861268997192383 Acc : 0.7997596263885498, Val Acc : 0.7997597455978394\n",
            "Epochs : 457\n"
          ]
        },
        {
          "name": "stderr",
          "output_type": "stream",
          "text": [
            "100%|██████████| 20/20 [00:06<00:00,  3.06it/s]\n"
          ]
        },
        {
          "name": "stdout",
          "output_type": "stream",
          "text": [
            "Loss : 0.45185157656669617, Val Loss : 0.47015807032585144 Acc : 0.7998207807540894, Val Acc : 0.7998208999633789\n",
            "Epochs : 458\n"
          ]
        },
        {
          "name": "stderr",
          "output_type": "stream",
          "text": [
            "100%|██████████| 20/20 [00:06<00:00,  3.14it/s]\n"
          ]
        },
        {
          "name": "stdout",
          "output_type": "stream",
          "text": [
            "Loss : 0.4522964358329773, Val Loss : 0.48599404096603394 Acc : 0.7998769879341125, Val Acc : 0.7998770475387573\n",
            "Epochs : 459\n"
          ]
        },
        {
          "name": "stderr",
          "output_type": "stream",
          "text": [
            "100%|██████████| 20/20 [00:06<00:00,  3.30it/s]\n"
          ]
        },
        {
          "name": "stdout",
          "output_type": "stream",
          "text": [
            "Loss : 0.4516434669494629, Val Loss : 0.47002092003822327 Acc : 0.7999323010444641, Val Acc : 0.7999324798583984\n",
            "Epochs : 460\n"
          ]
        },
        {
          "name": "stderr",
          "output_type": "stream",
          "text": [
            "100%|██████████| 20/20 [00:05<00:00,  3.47it/s]\n"
          ]
        },
        {
          "name": "stdout",
          "output_type": "stream",
          "text": [
            "Loss : 0.4518621563911438, Val Loss : 0.48569878935813904 Acc : 0.7999891042709351, Val Acc : 0.7999892234802246\n",
            "Epochs : 461\n"
          ]
        },
        {
          "name": "stderr",
          "output_type": "stream",
          "text": [
            "100%|██████████| 20/20 [00:05<00:00,  3.37it/s]\n"
          ]
        },
        {
          "name": "stdout",
          "output_type": "stream",
          "text": [
            "Loss : 0.4511990249156952, Val Loss : 0.46973201632499695 Acc : 0.8000386953353882, Val Acc : 0.8000388741493225\n",
            "Epochs : 462\n"
          ]
        },
        {
          "name": "stderr",
          "output_type": "stream",
          "text": [
            "100%|██████████| 20/20 [00:06<00:00,  3.17it/s]\n"
          ]
        },
        {
          "name": "stdout",
          "output_type": "stream",
          "text": [
            "Loss : 0.45096269249916077, Val Loss : 0.4695796072483063 Acc : 0.8001110553741455, Val Acc : 0.8001112341880798\n",
            "Epochs : 463\n"
          ]
        },
        {
          "name": "stderr",
          "output_type": "stream",
          "text": [
            "100%|██████████| 20/20 [00:06<00:00,  3.24it/s]\n"
          ]
        },
        {
          "name": "stdout",
          "output_type": "stream",
          "text": [
            "Loss : 0.4513915479183197, Val Loss : 0.48535799980163574 Acc : 0.8001435399055481, Val Acc : 0.8001435995101929\n",
            "Epochs : 464\n"
          ]
        },
        {
          "name": "stderr",
          "output_type": "stream",
          "text": [
            "100%|██████████| 20/20 [00:05<00:00,  3.60it/s]\n"
          ]
        },
        {
          "name": "stdout",
          "output_type": "stream",
          "text": [
            "Loss : 0.45071935653686523, Val Loss : 0.46942004561424255 Acc : 0.8001998066902161, Val Acc : 0.8001999855041504\n",
            "Epochs : 465\n"
          ]
        },
        {
          "name": "stderr",
          "output_type": "stream",
          "text": [
            "100%|██████████| 20/20 [00:05<00:00,  3.45it/s]\n"
          ]
        },
        {
          "name": "stdout",
          "output_type": "stream",
          "text": [
            "Loss : 0.45048752427101135, Val Loss : 0.4692694842815399 Acc : 0.8002473711967468, Val Acc : 0.8002476096153259\n",
            "Epochs : 466\n"
          ]
        },
        {
          "name": "stderr",
          "output_type": "stream",
          "text": [
            "100%|██████████| 20/20 [00:05<00:00,  3.34it/s]\n"
          ]
        },
        {
          "name": "stdout",
          "output_type": "stream",
          "text": [
            "Loss : 0.4509149491786957, Val Loss : 0.485004186630249 Acc : 0.8002973198890686, Val Acc : 0.8002974390983582\n",
            "Epochs : 467\n"
          ]
        },
        {
          "name": "stderr",
          "output_type": "stream",
          "text": [
            "100%|██████████| 20/20 [00:05<00:00,  3.58it/s]\n"
          ]
        },
        {
          "name": "stdout",
          "output_type": "stream",
          "text": [
            "Loss : 0.4502559006214142, Val Loss : 0.4691157937049866 Acc : 0.800352156162262, Val Acc : 0.8003523349761963\n",
            "Epochs : 468\n"
          ]
        },
        {
          "name": "stderr",
          "output_type": "stream",
          "text": [
            "100%|██████████| 20/20 [00:05<00:00,  3.52it/s]\n"
          ]
        },
        {
          "name": "stdout",
          "output_type": "stream",
          "text": [
            "Loss : 0.45068010687828064, Val Loss : 0.48483186960220337 Acc : 0.8003975749015808, Val Acc : 0.8003976941108704\n",
            "Epochs : 469\n"
          ]
        },
        {
          "name": "stderr",
          "output_type": "stream",
          "text": [
            "100%|██████████| 20/20 [00:05<00:00,  3.47it/s]\n"
          ]
        },
        {
          "name": "stdout",
          "output_type": "stream",
          "text": [
            "Loss : 0.45002323389053345, Val Loss : 0.4689621329307556 Acc : 0.8004491329193115, Val Acc : 0.8004493117332458\n",
            "Epochs : 470\n"
          ]
        },
        {
          "name": "stderr",
          "output_type": "stream",
          "text": [
            "100%|██████████| 20/20 [00:05<00:00,  3.46it/s]\n"
          ]
        },
        {
          "name": "stdout",
          "output_type": "stream",
          "text": [
            "Loss : 0.45045074820518494, Val Loss : 0.4846644103527069 Acc : 0.8004977107048035, Val Acc : 0.8004977703094482\n",
            "Epochs : 471\n"
          ]
        },
        {
          "name": "stderr",
          "output_type": "stream",
          "text": [
            "100%|██████████| 20/20 [00:06<00:00,  3.06it/s]\n"
          ]
        },
        {
          "name": "stdout",
          "output_type": "stream",
          "text": [
            "Loss : 0.45024359226226807, Val Loss : 0.48452821373939514 Acc : 0.8005533814430237, Val Acc : 0.8005535006523132\n",
            "Epochs : 472\n"
          ]
        },
        {
          "name": "stderr",
          "output_type": "stream",
          "text": [
            "100%|██████████| 20/20 [00:05<00:00,  3.72it/s]\n"
          ]
        },
        {
          "name": "stdout",
          "output_type": "stream",
          "text": [
            "Loss : 0.44959867000579834, Val Loss : 0.4686814546585083 Acc : 0.8006035089492798, Val Acc : 0.8006036877632141\n",
            "Epochs : 473\n"
          ]
        },
        {
          "name": "stderr",
          "output_type": "stream",
          "text": [
            "100%|██████████| 20/20 [00:06<00:00,  3.17it/s]\n"
          ]
        },
        {
          "name": "stdout",
          "output_type": "stream",
          "text": [
            "Loss : 0.44939714670181274, Val Loss : 0.468550443649292 Acc : 0.8006564378738403, Val Acc : 0.8006566166877747\n",
            "Epochs : 474\n"
          ]
        },
        {
          "name": "stderr",
          "output_type": "stream",
          "text": [
            "100%|██████████| 20/20 [00:06<00:00,  3.25it/s]\n"
          ]
        },
        {
          "name": "stdout",
          "output_type": "stream",
          "text": [
            "Loss : 0.4498515725135803, Val Loss : 0.4842822551727295 Acc : 0.8007121682167053, Val Acc : 0.8007122278213501\n",
            "Epochs : 475\n"
          ]
        },
        {
          "name": "stderr",
          "output_type": "stream",
          "text": [
            "100%|██████████| 20/20 [00:06<00:00,  3.16it/s]\n"
          ]
        },
        {
          "name": "stdout",
          "output_type": "stream",
          "text": [
            "Loss : 0.4492086172103882, Val Loss : 0.46842437982559204 Acc : 0.8007625341415405, Val Acc : 0.8007627129554749\n",
            "Epochs : 476\n"
          ]
        },
        {
          "name": "stderr",
          "output_type": "stream",
          "text": [
            "100%|██████████| 20/20 [00:05<00:00,  3.50it/s]\n"
          ]
        },
        {
          "name": "stdout",
          "output_type": "stream",
          "text": [
            "Loss : 0.4496573507785797, Val Loss : 0.4841601848602295 Acc : 0.8008193373680115, Val Acc : 0.800819456577301\n",
            "Epochs : 477\n"
          ]
        },
        {
          "name": "stderr",
          "output_type": "stream",
          "text": [
            "100%|██████████| 20/20 [00:05<00:00,  3.72it/s]\n"
          ]
        },
        {
          "name": "stdout",
          "output_type": "stream",
          "text": [
            "Loss : 0.4490113854408264, Val Loss : 0.468293160200119 Acc : 0.8008638024330139, Val Acc : 0.8008639812469482\n",
            "Epochs : 478\n"
          ]
        },
        {
          "name": "stderr",
          "output_type": "stream",
          "text": [
            "100%|██████████| 20/20 [00:05<00:00,  3.37it/s]\n"
          ]
        },
        {
          "name": "stdout",
          "output_type": "stream",
          "text": [
            "Loss : 0.44881120324134827, Val Loss : 0.46816331148147583 Acc : 0.8009148240089417, Val Acc : 0.800915002822876\n",
            "Epochs : 479\n"
          ]
        },
        {
          "name": "stderr",
          "output_type": "stream",
          "text": [
            "100%|██████████| 20/20 [00:05<00:00,  3.98it/s]\n"
          ]
        },
        {
          "name": "stdout",
          "output_type": "stream",
          "text": [
            "Loss : 0.44927000999450684, Val Loss : 0.4839140474796295 Acc : 0.8009577393531799, Val Acc : 0.8009577989578247\n",
            "Epochs : 480\n"
          ]
        },
        {
          "name": "stderr",
          "output_type": "stream",
          "text": [
            "100%|██████████| 20/20 [00:05<00:00,  3.69it/s]\n"
          ]
        },
        {
          "name": "stdout",
          "output_type": "stream",
          "text": [
            "Loss : 0.44861719012260437, Val Loss : 0.46803608536720276 Acc : 0.8010008931159973, Val Acc : 0.8010010719299316\n",
            "Epochs : 481\n"
          ]
        },
        {
          "name": "stderr",
          "output_type": "stream",
          "text": [
            "100%|██████████| 20/20 [00:05<00:00,  3.73it/s]\n"
          ]
        },
        {
          "name": "stdout",
          "output_type": "stream",
          "text": [
            "Loss : 0.4490698575973511, Val Loss : 0.483780175447464 Acc : 0.8010446429252625, Val Acc : 0.801044762134552\n",
            "Epochs : 482\n"
          ]
        },
        {
          "name": "stderr",
          "output_type": "stream",
          "text": [
            "100%|██████████| 20/20 [00:06<00:00,  3.31it/s]\n"
          ]
        },
        {
          "name": "stdout",
          "output_type": "stream",
          "text": [
            "Loss : 0.4484154284000397, Val Loss : 0.46790316700935364 Acc : 0.8011018633842468, Val Acc : 0.8011020421981812\n",
            "Epochs : 483\n"
          ]
        },
        {
          "name": "stderr",
          "output_type": "stream",
          "text": [
            "100%|██████████| 20/20 [00:05<00:00,  3.34it/s]\n"
          ]
        },
        {
          "name": "stdout",
          "output_type": "stream",
          "text": [
            "Loss : 0.44886520504951477, Val Loss : 0.4836447536945343 Acc : 0.8011499643325806, Val Acc : 0.8011500239372253\n",
            "Epochs : 484\n"
          ]
        },
        {
          "name": "stderr",
          "output_type": "stream",
          "text": [
            "100%|██████████| 20/20 [00:06<00:00,  3.33it/s]\n"
          ]
        },
        {
          "name": "stdout",
          "output_type": "stream",
          "text": [
            "Loss : 0.4486696422100067, Val Loss : 0.4835147559642792 Acc : 0.8012005090713501, Val Acc : 0.8012006282806396\n",
            "Epochs : 485\n"
          ]
        },
        {
          "name": "stderr",
          "output_type": "stream",
          "text": [
            "100%|██████████| 20/20 [00:05<00:00,  3.59it/s]\n"
          ]
        },
        {
          "name": "stdout",
          "output_type": "stream",
          "text": [
            "Loss : 0.4480069577693939, Val Loss : 0.4676341414451599 Acc : 0.801247239112854, Val Acc : 0.8012474179267883\n",
            "Epochs : 486\n"
          ]
        },
        {
          "name": "stderr",
          "output_type": "stream",
          "text": [
            "100%|██████████| 20/20 [00:05<00:00,  3.73it/s]\n"
          ]
        },
        {
          "name": "stdout",
          "output_type": "stream",
          "text": [
            "Loss : 0.44846269488334656, Val Loss : 0.48337018489837646 Acc : 0.8012891411781311, Val Acc : 0.8012892007827759\n",
            "Epochs : 487\n"
          ]
        },
        {
          "name": "stderr",
          "output_type": "stream",
          "text": [
            "100%|██████████| 20/20 [00:05<00:00,  3.36it/s]\n"
          ]
        },
        {
          "name": "stdout",
          "output_type": "stream",
          "text": [
            "Loss : 0.4477998614311218, Val Loss : 0.46749672293663025 Acc : 0.8013426661491394, Val Acc : 0.8013428449630737\n",
            "Epochs : 488\n"
          ]
        },
        {
          "name": "stderr",
          "output_type": "stream",
          "text": [
            "100%|██████████| 20/20 [00:05<00:00,  3.51it/s]\n"
          ]
        },
        {
          "name": "stdout",
          "output_type": "stream",
          "text": [
            "Loss : 0.4477998614311218, Val Loss : 0.46749672293663025 Acc : 0.801385223865509, Val Acc : 0.8013853430747986\n",
            "Epochs : 489\n"
          ]
        },
        {
          "name": "stderr",
          "output_type": "stream",
          "text": [
            "100%|██████████| 20/20 [00:05<00:00,  3.36it/s]\n"
          ]
        },
        {
          "name": "stdout",
          "output_type": "stream",
          "text": [
            "Loss : 0.44824984669685364, Val Loss : 0.4832238256931305 Acc : 0.8014364838600159, Val Acc : 0.8014366030693054\n",
            "Epochs : 490\n"
          ]
        },
        {
          "name": "stderr",
          "output_type": "stream",
          "text": [
            "100%|██████████| 20/20 [00:05<00:00,  3.38it/s]\n"
          ]
        },
        {
          "name": "stdout",
          "output_type": "stream",
          "text": [
            "Loss : 0.4475949704647064, Val Loss : 0.46735984086990356 Acc : 0.8014877438545227, Val Acc : 0.801487922668457\n",
            "Epochs : 491\n"
          ]
        },
        {
          "name": "stderr",
          "output_type": "stream",
          "text": [
            "100%|██████████| 20/20 [00:05<00:00,  3.63it/s]\n"
          ]
        },
        {
          "name": "stdout",
          "output_type": "stream",
          "text": [
            "Loss : 0.44805920124053955, Val Loss : 0.48309677839279175 Acc : 0.801533043384552, Val Acc : 0.8015331029891968\n",
            "Epochs : 492\n"
          ]
        },
        {
          "name": "stderr",
          "output_type": "stream",
          "text": [
            "100%|██████████| 20/20 [00:06<00:00,  3.17it/s]\n"
          ]
        },
        {
          "name": "stdout",
          "output_type": "stream",
          "text": [
            "Loss : 0.4478641450405121, Val Loss : 0.4829689860343933 Acc : 0.8015917539596558, Val Acc : 0.8015918135643005\n",
            "Epochs : 493\n"
          ]
        },
        {
          "name": "stderr",
          "output_type": "stream",
          "text": [
            "100%|██████████| 20/20 [00:05<00:00,  3.39it/s]\n"
          ]
        },
        {
          "name": "stdout",
          "output_type": "stream",
          "text": [
            "Loss : 0.44701114296913147, Val Loss : 0.46696555614471436 Acc : 0.8016476631164551, Val Acc : 0.8016478419303894\n",
            "Epochs : 494\n"
          ]
        },
        {
          "name": "stderr",
          "output_type": "stream",
          "text": [
            "100%|██████████| 20/20 [00:06<00:00,  3.26it/s]\n"
          ]
        },
        {
          "name": "stdout",
          "output_type": "stream",
          "text": [
            "Loss : 0.4474893808364868, Val Loss : 0.48273947834968567 Acc : 0.8016816973686218, Val Acc : 0.8016817569732666\n",
            "Epochs : 495\n"
          ]
        },
        {
          "name": "stderr",
          "output_type": "stream",
          "text": [
            "100%|██████████| 20/20 [00:05<00:00,  3.57it/s]\n"
          ]
        },
        {
          "name": "stdout",
          "output_type": "stream",
          "text": [
            "Loss : 0.44683995842933655, Val Loss : 0.46685007214546204 Acc : 0.8017300963401794, Val Acc : 0.801730215549469\n",
            "Epochs : 496\n"
          ]
        },
        {
          "name": "stderr",
          "output_type": "stream",
          "text": [
            "100%|██████████| 20/20 [00:05<00:00,  3.56it/s]\n"
          ]
        },
        {
          "name": "stdout",
          "output_type": "stream",
          "text": [
            "Loss : 0.44667813181877136, Val Loss : 0.46674486994743347 Acc : 0.8017760515213013, Val Acc : 0.8017762303352356\n",
            "Epochs : 497\n"
          ]
        },
        {
          "name": "stderr",
          "output_type": "stream",
          "text": [
            "100%|██████████| 20/20 [00:06<00:00,  2.93it/s]\n"
          ]
        },
        {
          "name": "stdout",
          "output_type": "stream",
          "text": [
            "Loss : 0.4470149874687195, Val Loss : 0.4825228452682495 Acc : 0.8018277883529663, Val Acc : 0.8018278479576111\n",
            "Epochs : 498\n"
          ]
        },
        {
          "name": "stderr",
          "output_type": "stream",
          "text": [
            "100%|██████████| 20/20 [00:05<00:00,  3.39it/s]\n"
          ]
        },
        {
          "name": "stdout",
          "output_type": "stream",
          "text": [
            "Loss : 0.4468561112880707, Val Loss : 0.48245179653167725 Acc : 0.8018760085105896, Val Acc : 0.8018761277198792\n",
            "Epochs : 499\n"
          ]
        },
        {
          "name": "stderr",
          "output_type": "stream",
          "text": [
            "100%|██████████| 20/20 [00:06<00:00,  3.26it/s]\n"
          ]
        },
        {
          "name": "stdout",
          "output_type": "stream",
          "text": [
            "Loss : 0.44619062542915344, Val Loss : 0.46642962098121643 Acc : 0.8019274473190308, Val Acc : 0.8019276261329651\n",
            "Epochs : 500\n"
          ]
        },
        {
          "name": "stderr",
          "output_type": "stream",
          "text": [
            "100%|██████████| 20/20 [00:05<00:00,  3.47it/s]"
          ]
        },
        {
          "name": "stdout",
          "output_type": "stream",
          "text": [
            "Loss : 0.44667455554008484, Val Loss : 0.48235195875167847 Acc : 0.8019769191741943, Val Acc : 0.8019769787788391\n"
          ]
        },
        {
          "name": "stderr",
          "output_type": "stream",
          "text": [
            "\n"
          ]
        }
      ],
      "source": [
        "num_epochs = 500\n",
        "e = 0\n",
        "while(1):\n",
        "    print(f\"Epochs : {e+1}\")\n",
        "    for idx in tqdm(range(len(molecule))):\n",
        "        # idx = random.randint(0, len(molecule)-1)\n",
        "        m = molecule[idx]\n",
        "        # molecule.pop(idx)\n",
        "        if m.num_hit > y:\n",
        "            execute_pso_upadte(m, idx)\n",
        "            logging.info(f\"Epochs : {e+1}\\tPSO Update \")\n",
        "        else:\n",
        "            r = random.random()\n",
        "            if r > 0.5:\n",
        "                i = random.randint(0, len(molecule)-1)\n",
        "                m1 = molecule[i]\n",
        "                # molecule.pop(i)\n",
        "                if execute_intermol_ineffective_collision(m, m1, idx, i):\n",
        "                    logging.info(f\"Epochs : {e+1}\\tInter Mole \")\n",
        "                else:\n",
        "                    logging.info(f\"Epochs : {e+1}\\tNone \")\n",
        "                    molecule[idx].num_hit += 1\n",
        "                    molecule[i].num_hit += 1\n",
        "                    # molecule.append(m)\n",
        "                    # molecule.append(m1)\n",
        "            else:\n",
        "                if execute_onwall_collision(m, idx):\n",
        "                    logging.info(f\"Epochs : {e+1}\\tOn wall \")\n",
        "                else:\n",
        "                    logging.info(f\"Epochs : {e+1}\\tNone \")\n",
        "                    molecule[idx].num_hit += 1\n",
        "                    # molecule.append(m)\n",
        "\n",
        "        global_best_mole = best_molecule()\n",
        "        global_best = global_best_mole.weights\n",
        "        loss_history.append(global_best_mole.PE)\n",
        "        val_loss_history.append(global_best_mole.val_loss)\n",
        "        acc_history.append(global_best_mole.acc)\n",
        "        val_acc_history.append(global_best_mole.val_acc)\n",
        "        # ck_history.append(global_best_mole.ck_score)\n",
        "        # val_ck_history.append(global_best_mole.val_ck_score)\n",
        "\n",
        "\n",
        "\n",
        "    print(f\"Loss : {global_best_mole.PE}, Val Loss : {global_best_mole.val_loss} Acc : {global_best_mole.acc}, Val Acc : {global_best_mole.val_acc}\")\n",
        "    # print(f\"F1 : {global_best_mole.f1_score} Val F1 : {global_best_mole.val_f1_score} CK : {global_best_mole.ck_score} val_CK : {global_best_mole.val_ck_score}\")\n",
        "    loss_history_epochs.append(global_best_mole.PE)\n",
        "    val_loss_history_epochs.append(global_best_mole.val_loss)\n",
        "    acc_history_epochs.append(global_best_mole.acc)\n",
        "    val_acc_history_epochs.append(global_best_mole.val_acc)\n",
        "    # ck_history_epochs.append(global_best_mole.ck_score)\n",
        "    # val_ck_history_epochs.append(global_best_mole.val_ck_score)\n",
        "\n",
        "\n",
        "    e += 1\n",
        "    if e == num_epochs:\n",
        "        break"
      ]
    },
    {
      "cell_type": "markdown",
      "metadata": {
        "id": "sBmMfZPSxcuY"
      },
      "source": [
        "- Loss : 0.44314050674438477,\n",
        "- Val Loss : 0.46831753849983215\n",
        "- Acc : 0.8012453317642212,\n",
        "- Val Acc : 0.8012455105781555\n",
        "- F1 : [ 0.9484198, 0.4731338, 0.7533872, 0.2504238]\n",
        "- Val F1 : [0.9484242,  0.47311932, 0.75339437, 0.25040618]\n",
        "- CK : 0.6769512891769409\n",
        "- val_CK : 0.6769576072692871\n"
      ]
    },
    {
      "cell_type": "code",
      "execution_count": null,
      "metadata": {
        "id": "SaxISw_O--nW"
      },
      "outputs": [],
      "source": []
    },
    {
      "cell_type": "code",
      "execution_count": null,
      "metadata": {
        "colab": {
          "base_uri": "https://localhost:8080/",
          "height": 335
        },
        "id": "2Xquqxn_NTiw",
        "outputId": "1cb4ce18-45aa-4a7e-f782-687be070357e"
      },
      "outputs": [
        {
          "data": {
            "image/png": "[encoded data removed]",
            "text/plain": [
              "<Figure size 1440x360 with 1 Axes>"
            ]
          },
          "metadata": {
            "needs_background": "light"
          },
          "output_type": "display_data"
        },
        {
          "data": {
            "text/plain": [
              "<Figure size 432x288 with 0 Axes>"
            ]
          },
          "metadata": {},
          "output_type": "display_data"
        }
      ],
      "source": [
        "import matplotlib.pyplot as plt\n",
        "x = [i for i in range(1, len(loss_history)+1)]\n",
        "x1 = [20*i for i in range(1, len(loss_history_epochs)+1)]\n",
        "fig = plt.figure(figsize=(20,5))\n",
        "\n",
        "plt.plot(x1, loss_history_epochs, color = '#ff0000', marker='o')\n",
        "plt.plot(x, loss_history, label = \"train\", color= '#20e658')\n",
        "plt.plot(x, val_loss_history, label = 'test', color = '#3954db')\n",
        "\n",
        "\n",
        "plt.ylim(ymin=0.4,ymax=1.35)\n",
        "plt.xlabel(\"Epochs\")\n",
        "plt.ylabel(\"Loss\")\n",
        "plt.legend()\n",
        "plt.show()\n",
        "plt.savefig(BASE_PATH+\"loss.png\")"
      ]
    },
    {
      "cell_type": "code",
      "execution_count": null,
      "metadata": {
        "colab": {
          "base_uri": "https://localhost:8080/",
          "height": 335
        },
        "id": "HByPyyVFwU8Z",
        "outputId": "649ce3d3-dda0-4a1c-9371-afcb0fb74887"
      },
      "outputs": [
        {
          "data": {
            "image/png": "[encoded data removed]",
            "text/plain": [
              "<Figure size 1440x360 with 1 Axes>"
            ]
          },
          "metadata": {
            "needs_background": "light"
          },
          "output_type": "display_data"
        },
        {
          "data": {
            "text/plain": [
              "<Figure size 432x288 with 0 Axes>"
            ]
          },
          "metadata": {},
          "output_type": "display_data"
        }
      ],
      "source": [
        "import matplotlib.pyplot as plt\n",
        "# x = [i for i in range(1, len(loss_history)+1)]\n",
        "x1 = [i for i in range(1, len(loss_history_epochs)+1)]\n",
        "fig = plt.figure(figsize=(20,5))\n",
        "\n",
        "plt.plot(x1, loss_history_epochs, color = '#f25252', label = \"Train\")\n",
        "plt.plot(x1, val_loss_history_epochs, color = '#52f258', label = \"Test\")\n",
        "\n",
        "# plt.plot(x, loss_history, label = \"train\", color= '#a89deb')\n",
        "# plt.plot(x, val_loss_history, label = 'test', color = '#9debb3')\n",
        "plt.xlabel(\"Epochs\")\n",
        "plt.ylabel(\"Loss\")\n",
        "plt.legend()\n",
        "plt.show()\n",
        "plt.savefig(BASE_PATH+\"loss.png\")"
      ]
    },
    {
      "cell_type": "code",
      "execution_count": null,
      "metadata": {
        "colab": {
          "base_uri": "https://localhost:8080/",
          "height": 335
        },
        "id": "5J-7VR4jwa9s",
        "outputId": "3734cb1f-b6cf-4883-b371-f35bfb1b51df"
      },
      "outputs": [
        {
          "data": {
            "image/png": "[encoded data removed]",
            "text/plain": [
              "<Figure size 1440x360 with 1 Axes>"
            ]
          },
          "metadata": {
            "needs_background": "light"
          },
          "output_type": "display_data"
        },
        {
          "data": {
            "text/plain": [
              "<Figure size 432x288 with 0 Axes>"
            ]
          },
          "metadata": {},
          "output_type": "display_data"
        }
      ],
      "source": [
        "import matplotlib.pyplot as plt\n",
        "x = [i for i in range(1, len(loss_history)+1)]\n",
        "# x1 = [50*i for i in range(1, len(loss_history_epochs)+1)]\n",
        "fig = plt.figure(figsize=(20,5))\n",
        "\n",
        "# plt.plot(x1, loss_history_epochs, color = '#ff0000', marker='o')\n",
        "plt.plot(x, loss_history, label = \"train\", color= '#20e658')\n",
        "plt.plot(x, val_loss_history, label = 'test', color = '#3954db')\n",
        "plt.ylim(ymin=0.4,ymax=1.35)\n",
        "plt.xlabel(\"Epochs\")\n",
        "plt.ylabel(\"Loss\")\n",
        "plt.legend()\n",
        "plt.show()\n",
        "plt.savefig(BASE_PATH+\"loss.png\")"
      ]
    },
    {
      "cell_type": "code",
      "execution_count": null,
      "metadata": {
        "id": "761gpWAAYMDR"
      },
      "outputs": [],
      "source": []
    },
    {
      "cell_type": "code",
      "execution_count": null,
      "metadata": {
        "colab": {
          "base_uri": "https://localhost:8080/",
          "height": 335
        },
        "id": "2-cY3-LjXmbY",
        "outputId": "5294cc2c-c77a-43ac-96b7-8201912e314d"
      },
      "outputs": [
        {
          "data": {
            "image/png": "[encoded data removed]",
            "text/plain": [
              "<Figure size 1440x360 with 1 Axes>"
            ]
          },
          "metadata": {
            "needs_background": "light"
          },
          "output_type": "display_data"
        },
        {
          "data": {
            "text/plain": [
              "<Figure size 432x288 with 0 Axes>"
            ]
          },
          "metadata": {},
          "output_type": "display_data"
        }
      ],
      "source": [
        "import matplotlib.pyplot as plt\n",
        "x = [i for i in range(1, len(acc_history)+1)]\n",
        "x1 = [20*i for i in range(1, len(acc_history_epochs)+1)]\n",
        "\n",
        "fig = plt.figure(figsize=(20,5))\n",
        "\n",
        "plt.plot(x1, acc_history_epochs, color = '#ff0000', marker='o')\n",
        "plt.plot(x, acc_history, label = \"train\", color= '#20e658')\n",
        "plt.plot(x, val_acc_history, label = 'test', color = '#3954db')\n",
        "plt.ylim(ymin=0.2,ymax=0.85)\n",
        "plt.xlabel(\"Epochs\")\n",
        "plt.ylabel(\"Accuracy\")\n",
        "plt.legend()\n",
        "plt.show()\n",
        "plt.savefig(BASE_PATH+\"accuracy.png\")"
      ]
    },
    {
      "cell_type": "code",
      "execution_count": null,
      "metadata": {
        "colab": {
          "base_uri": "https://localhost:8080/",
          "height": 335
        },
        "id": "DmXEPjO3wjBG",
        "outputId": "2c8baeb1-3a29-44e2-8934-ec80cf7bfa84"
      },
      "outputs": [
        {
          "data": {
            "image/png": "[encoded data removed]",
            "text/plain": [
              "<Figure size 1440x360 with 1 Axes>"
            ]
          },
          "metadata": {
            "needs_background": "light"
          },
          "output_type": "display_data"
        },
        {
          "data": {
            "text/plain": [
              "<Figure size 432x288 with 0 Axes>"
            ]
          },
          "metadata": {},
          "output_type": "display_data"
        }
      ],
      "source": [
        "import matplotlib.pyplot as plt\n",
        "# x = [i for i in range(1, len(acc_history)+1)]\n",
        "x1 = [i for i in range(1, len(acc_history_epochs)+1)]\n",
        "\n",
        "fig = plt.figure(figsize=(20,5))\n",
        "\n",
        "plt.plot(x1, acc_history_epochs, color = '#f25252', label = \"Train\")\n",
        "plt.plot(x1, val_acc_history_epochs, color = '#52f258', label = \"Test\")\n",
        "\n",
        "# plt.plot(x, acc_history, label = \"train\", color= '#a89deb')\n",
        "# plt.plot(x, val_acc_history, label = 'test', color = '#9debb3')\n",
        "# plt.ylim(ymin=0.2,ymax=0.85)\n",
        "plt.xlabel(\"Epochs\")\n",
        "plt.ylabel(\"Accuracy\")\n",
        "plt.legend()\n",
        "plt.show()\n",
        "plt.savefig(BASE_PATH+\"accuracy.png\")"
      ]
    },
    {
      "cell_type": "code",
      "execution_count": null,
      "metadata": {
        "colab": {
          "base_uri": "https://localhost:8080/",
          "height": 335
        },
        "id": "C1Y3sr3YwjGD",
        "outputId": "7e7d9d00-f4c0-4c31-c388-8a94a38d9b7b"
      },
      "outputs": [
        {
          "data": {
            "image/png": "[encoded data removed]",
            "text/plain": [
              "<Figure size 1440x360 with 1 Axes>"
            ]
          },
          "metadata": {
            "needs_background": "light"
          },
          "output_type": "display_data"
        },
        {
          "data": {
            "text/plain": [
              "<Figure size 432x288 with 0 Axes>"
            ]
          },
          "metadata": {},
          "output_type": "display_data"
        }
      ],
      "source": [
        "import matplotlib.pyplot as plt\n",
        "x = [i for i in range(1, len(acc_history)+1)]\n",
        "# x1 = [50*i for i in range(1, len(acc_history_epochs)+1)]\n",
        "\n",
        "fig = plt.figure(figsize=(20,5))\n",
        "\n",
        "# plt.plot(x1, acc_history_epochs, color = '#ff0000', marker='o')\n",
        "plt.plot(x, acc_history, label = \"train\", color= '#20e658')\n",
        "plt.plot(x, val_acc_history, label = 'test', color = '#3954db')\n",
        "plt.ylim(ymin=0.2,ymax=0.85)\n",
        "plt.xlabel(\"Epochs\")\n",
        "plt.ylabel(\"Accuracy\")\n",
        "plt.legend()\n",
        "plt.show()\n",
        "plt.savefig(BASE_PATH+\"accuracy.png\")"
      ]
    },
    {
      "cell_type": "code",
      "execution_count": null,
      "metadata": {
        "id": "mbBS5AwCehBS"
      },
      "outputs": [],
      "source": []
    },
    {
      "cell_type": "code",
      "execution_count": null,
      "metadata": {
        "colab": {
          "base_uri": "https://localhost:8080/"
        },
        "id": "Ku5z8whuBSwQ",
        "outputId": "7533be54-25b2-4b84-e34f-a65744eecaee"
      },
      "outputs": [
        {
          "name": "stdout",
          "output_type": "stream",
          "text": [
            "0.45499218 0.801966\n",
            "0.44899383 0.80198675\n",
            "0.45588347 0.80195093\n",
            "0.4520828 0.80196315\n",
            "0.45443863 0.80195606\n",
            "0.45044613 0.8019594\n",
            "0.45254868 0.8019607\n",
            "0.4530054 0.8019814\n",
            "0.45625854 0.80196536\n",
            "0.44841936 0.80196804\n",
            "0.4559235 0.80197173\n",
            "0.4560686 0.8019749\n",
            "0.44667456 0.8019769\n",
            "0.4555982 0.8019784\n",
            "0.45141917 0.8019804\n",
            "0.45799863 0.80198395\n",
            "0.45450673 0.8019857\n",
            "0.453936 0.80198944\n",
            "0.46124583 0.8019909\n",
            "0.45096964 0.80199236\n"
          ]
        }
      ],
      "source": [
        "for m in molecule:\n",
        "    print(m.PE.numpy(), m.acc.numpy())"
      ]
    },
    {
      "cell_type": "code",
      "execution_count": null,
      "metadata": {
        "colab": {
          "base_uri": "https://localhost:8080/"
        },
        "id": "oVdOKdIvBSzg",
        "outputId": "b8d1d6ce-6fd8-484c-bc42-b1fc31d3a8b0"
      },
      "outputs": [
        {
          "data": {
            "text/plain": [
              "array([[1769,   28,    6,    2],\n",
              "       [  48,  239,   63,   20],\n",
              "       [  62,  108,  784,   45],\n",
              "       [  10,   42,  136,  107]])"
            ]
          },
          "execution_count": 30,
          "metadata": {},
          "output_type": "execute_result"
        }
      ],
      "source": [
        "molecule_for_cm = best_molecule()\n",
        "finetune_model.set_weights(weights=molecule_for_cm.weights)\n",
        "logits = finetune_model(data_x)\n",
        "y_pred = np.argmax(logits, axis = 1)\n",
        "from sklearn.metrics import confusion_matrix\n",
        "confusion_matrix(data_y, y_pred)"
      ]
    },
    {
      "cell_type": "code",
      "execution_count": null,
      "metadata": {
        "colab": {
          "base_uri": "https://localhost:8080/",
          "height": 296
        },
        "id": "WM84000bBS2a",
        "outputId": "1bdff804-e9dd-4025-8d4f-19ceef1846c0"
      },
      "outputs": [
        {
          "data": {
            "text/plain": [
              "Text(33.0, 0.5, 'True Label')"
            ]
          },
          "execution_count": 36,
          "metadata": {},
          "output_type": "execute_result"
        },
        {
          "data": {
            "image/png": "[encoded data removed]",
            "text/plain": [
              "<Figure size 432x288 with 2 Axes>"
            ]
          },
          "metadata": {
            "needs_background": "light"
          },
          "output_type": "display_data"
        }
      ],
      "source": [
        "import seaborn as sns\n",
        "s = sns.heatmap(confusion_matrix(data_y, y_pred, normalize='true'), cmap='Blues',annot=True)\n",
        "s.set_xlabel('Pred Label', fontsize=10)\n",
        "s.set_ylabel('True Label', fontsize=10)"
      ]
    },
    {
      "cell_type": "code",
      "execution_count": null,
      "metadata": {
        "id": "IyujCvi_7pgC"
      },
      "outputs": [],
      "source": [
        "from sklearn.metrics import confusion_matrix\n",
        "from sklearn.metrics import precision_score\n",
        "from sklearn.metrics import recall_score\n",
        "from sklearn.metrics import f1_score\n",
        "from sklearn.metrics import cohen_kappa_score\n",
        "from sklearn.metrics import accuracy_score\n",
        "from sklearn.metrics import log_loss"
      ]
    },
    {
      "cell_type": "code",
      "execution_count": null,
      "metadata": {
        "id": "qQq36bqZ7pop"
      },
      "outputs": [],
      "source": [
        "def metrics_calculator(final_molecule):\n",
        "    train_y_one_hot = np.zeros((data_y.size, 4))\n",
        "    train_y_one_hot[np.arange(data_y.size),data_y] = 1\n",
        "\n",
        "    f1_metric = tfa.metrics.F1Score(num_classes=4)\n",
        "    ck_metric = tfa.metrics.CohenKappa(num_classes=4, sparse_labels=True)\n",
        "    finetune_model.set_weights(weights=final_molecule.weights)\n",
        "    logits = finetune_model(data_x)\n",
        "    f1_metric.update_state(train_y_one_hot, logits)\n",
        "    f1_result = f1_metric.result()\n",
        "\n",
        "    ck_metric.update_state(data_y , np.argmax(logits, axis=1))\n",
        "    ck_result = ck_metric.result()\n",
        "\n",
        "    p = precision_score(data_y, np.argmax(logits, axis=1), average=None)\n",
        "    r = recall_score(data_y, np.argmax(logits, axis=1), average=None)\n",
        "    f = f1_score(data_y, np.argmax(logits, axis=1), average = None)\n",
        "    ck = cohen_kappa_score(data_y, np.argmax(logits, axis=1))\n",
        "    acc = accuracy_score(data_y, np.argmax(logits, axis=1))\n",
        "\n",
        "\n",
        "\n",
        "\n",
        "    print(f1_result.numpy())\n",
        "    print(ck_result.numpy())\n",
        "    print(f\"Precision : {p}\")\n",
        "    print(f\"Recall : {r}\")\n",
        "    print(f\"F1 Score : {f}\")\n",
        "    print(f\"CK Score : {ck}\")\n",
        "    print(f\"Acc Score : {acc}\")"
      ]
    },
    {
      "cell_type": "code",
      "execution_count": null,
      "metadata": {
        "colab": {
          "base_uri": "https://localhost:8080/"
        },
        "id": "IvjDM2t-7prz",
        "outputId": "fa8b04eb-eb1f-4586-8b8a-5b7054abd5bf"
      },
      "outputs": [
        {
          "name": "stdout",
          "output_type": "stream",
          "text": [
            "[0.9577694 0.6073698 0.7887324 0.45629  ]\n",
            "0.7338967\n",
            "Precision : [0.93647433 0.57314149 0.79271992 0.61494253]\n",
            "Recall : [0.9800554  0.64594595 0.78478478 0.36271186]\n",
            "F1 Score : [0.95776936 0.60736976 0.78873239 0.45628998]\n",
            "CK Score : 0.7338966730523498\n",
            "Acc Score : 0.8356875180167195\n"
          ]
        }
      ],
      "source": [
        "metrics_calculator(best_molecule())"
      ]
    },
    {
      "cell_type": "code",
      "execution_count": null,
      "metadata": {
        "colab": {
          "base_uri": "https://localhost:8080/"
        },
        "id": "NefgtSgy7pvf",
        "outputId": "defaf29e-549d-491b-90c6-ff2dd37bdaff"
      },
      "outputs": [
        {
          "name": "stdout",
          "output_type": "stream",
          "text": [
            "Hello\n"
          ]
        }
      ],
      "source": []
    },
    {
      "cell_type": "code",
      "execution_count": null,
      "metadata": {
        "id": "rdKeNNMB430q"
      },
      "outputs": [],
      "source": [
        "save_molecules(molecule, \"f1_ck_molecule_weights_20_500\")"
      ]
    },
    {
      "cell_type": "code",
      "execution_count": null,
      "metadata": {
        "id": "s-yXyKL-uhw5"
      },
      "outputs": [],
      "source": [
        "histories = BASE_PATH + \"f1_ck_history_20_500\"\n",
        "with open(histories, 'wb') as f:\n",
        "    pickle.dump(loss_history, f)\n",
        "    pickle.dump(loss_history_epochs, f)\n",
        "    pickle.dump(acc_history, f)\n",
        "    pickle.dump(acc_history_epochs, f)\n",
        "    pickle.dump(val_loss_history, f)\n",
        "    pickle.dump(val_loss_history_epochs, f)\n",
        "    pickle.dump(val_acc_history, f)\n",
        "    pickle.dump(val_acc_history_epochs, f)"
      ]
    },
    {
      "cell_type": "markdown",
      "metadata": {
        "id": "7Y3iZgHorcgt"
      },
      "source": [
        "100 Epochs\n",
        "50 Molecule"
      ]
    },
    {
      "cell_type": "code",
      "execution_count": null,
      "metadata": {
        "colab": {
          "base_uri": "https://localhost:8080/",
          "height": 279
        },
        "id": "g3hEwucN9JM3",
        "outputId": "3b2a9631-df61-4903-9675-cfcf84dc896d"
      },
      "outputs": [
        {
          "data": {
            "image/png": "[encoded data removed]",
            "text/plain": [
              "<Figure size 432x288 with 1 Axes>"
            ]
          },
          "metadata": {
            "needs_background": "light"
          },
          "output_type": "display_data"
        }
      ],
      "source": [
        "allPE = []\n",
        "for m in molecule:\n",
        "    allPE.append(m.PE)\n",
        "\n",
        "import matplotlib.pyplot as plt\n",
        "plt.hist(allPE, label = \"After\")\n",
        "plt.hist(molecule_pe_before, label = \"Before\")\n",
        "plt.xlabel(\"Loss\")\n",
        "plt.ylabel(\"Number of Molecule\")\n",
        "plt.legend()\n",
        "plt.show()"
      ]
    },
    {
      "cell_type": "code",
      "execution_count": null,
      "metadata": {
        "id": "5MmLh0-790vI"
      },
      "outputs": [],
      "source": []
    },
    {
      "cell_type": "code",
      "execution_count": null,
      "metadata": {
        "colab": {
          "base_uri": "https://localhost:8080/"
        },
        "id": "X_mYCcuuYwOq",
        "outputId": "64cf5542-0cab-49a0-d557-015eb73d533b"
      },
      "outputs": [
        {
          "name": "stdout",
          "output_type": "stream",
          "text": [
            "tf.Tensor(0.80199236, shape=(), dtype=float32)\n"
          ]
        }
      ],
      "source": [
        "max_acc = 0\n",
        "for i in molecule:\n",
        "    if i.acc > max_acc:\n",
        "        max_acc = i.acc\n",
        "\n",
        "print(max_acc)"
      ]
    },
    {
      "cell_type": "code",
      "execution_count": null,
      "metadata": {
        "id": "C5fKAvjpTGhq"
      },
      "outputs": [],
      "source": []
    },
    {
      "cell_type": "code",
      "execution_count": null,
      "metadata": {
        "id": "OdIbxSxkTLyw"
      },
      "outputs": [],
      "source": []
    }
  ],
  "metadata": {
    "accelerator": "GPU",
    "colab": {
      "provenance": []
    },
    "kernelspec": {
      "display_name": "Python 3",
      "name": "python3"
    },
    "language_info": {
      "name": "python"
    }
  },
  "nbformat": 4,
  "nbformat_minor": 0
}
