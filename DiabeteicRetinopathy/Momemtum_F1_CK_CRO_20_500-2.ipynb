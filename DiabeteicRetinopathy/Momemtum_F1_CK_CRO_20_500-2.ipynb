{
  "nbformat": 4,
  "nbformat_minor": 0,
  "metadata": {
    "colab": {
      "provenance": []
    },
    "kernelspec": {
      "name": "python3",
      "display_name": "Python 3"
    },
    "language_info": {
      "name": "python"
    },
    "accelerator": "GPU"
  },
  "cells": [
    {
      "cell_type": "code",
      "execution_count": null,
      "metadata": {
        "colab": {
          "base_uri": "https://localhost:8080/"
        },
        "id": "woeX8vhsL1Fz",
        "outputId": "1a2605ce-a262-4e9b-e759-89db382d7281"
      },
      "outputs": [
        {
          "output_type": "stream",
          "name": "stdout",
          "text": [
            "Mounted at /content/gdrive/\n"
          ]
        }
      ],
      "source": [
        "from google.colab import drive\n",
        "drive.mount('/content/gdrive/')"
      ]
    },
    {
      "cell_type": "code",
      "source": [
        "import matplotlib.pyplot as plt\n",
        "import numpy as np\n",
        "import pandas as pd\n",
        "import tensorflow as tf\n",
        "import tensorflow.keras as keras\n",
        "import os\n",
        "import gc\n",
        "# from keras.applications import DenseNet121\n",
        "from tensorflow.keras.models import Model\n",
        "# from tensorflow.keras import Input\n",
        "from keras.models import Sequential\n",
        "from keras.layers import Dense, Dropout, Flatten, GlobalAveragePooling2D, Lambda, BatchNormalization\n",
        "from tensorflow.keras import backend as K\n",
        "from keras.preprocessing.image import ImageDataGenerator\n",
        "from sklearn.model_selection import train_test_split\n",
        "\n",
        "from tensorflow.keras.preprocessing.image import ImageDataGenerator,img_to_array\n",
        "import os\n",
        "import cv2\n",
        "from tqdm import tqdm\n",
        "from sklearn.preprocessing import LabelBinarizer\n",
        "\n",
        "import logging\n",
        "import pickle\n",
        "\n",
        "from sklearn.metrics import confusion_matrix\n",
        "from sklearn.metrics import precision_score\n",
        "from sklearn.metrics import recall_score\n",
        "from sklearn.metrics import f1_score\n",
        "from sklearn.metrics import cohen_kappa_score\n",
        "from sklearn.metrics import accuracy_score\n",
        "from sklearn.metrics import log_loss"
      ],
      "metadata": {
        "id": "dJSp8QqML7Qj"
      },
      "execution_count": null,
      "outputs": []
    },
    {
      "cell_type": "code",
      "source": [
        "BASE_PATH = \"/content/gdrive/MyDrive/KaggleDataBTP/gaussian_filtered_images/Pipeline_Model_testing/Model_1/\""
      ],
      "metadata": {
        "id": "4wNmtXQEMDVd"
      },
      "execution_count": null,
      "outputs": []
    },
    {
      "cell_type": "code",
      "source": [
        "# logging.basicConfig(filename = \"cro.log\", level=logging.DEBUG, filemode='w+', format='%(name)s - %(levelname)s - %(message)s')"
      ],
      "metadata": {
        "id": "bNpOqfga_lUx"
      },
      "execution_count": null,
      "outputs": []
    },
    {
      "cell_type": "code",
      "source": [],
      "metadata": {
        "id": "y4ZHMop3MGbM"
      },
      "execution_count": null,
      "outputs": []
    },
    {
      "cell_type": "code",
      "source": [
        "def buildfinetunemodel():\n",
        "    input = tf.keras.Input(shape=1024)\n",
        "    x = tf.keras.layers.Activation(activation='relu')(input)\n",
        "    x = tf.keras.layers.Dropout(0.5)(x)\n",
        "    x= tf.keras.layers.Dense(1024,activation='relu')(x)\n",
        "    x= tf.keras.layers.Dropout(0.5)(x)\n",
        "    x= tf.keras.layers.Dense(1024)(x)\n",
        "    output=tf.keras.layers.Dense(1,activation='sigmoid')(x)\n",
        "    finetune_model = tf.keras.Model(input, output)\n",
        "    finetune_model.compile(loss='binary_crossentropy',\n",
        "                metrics=['accuracy'])\n",
        "\n",
        "\n",
        "    return finetune_model"
      ],
      "metadata": {
        "id": "3i7lQ9sAMJgp"
      },
      "execution_count": null,
      "outputs": []
    },
    {
      "cell_type": "code",
      "source": [
        "finetune_model = buildfinetunemodel()\n",
        "finetune_model.summary()"
      ],
      "metadata": {
        "colab": {
          "base_uri": "https://localhost:8080/"
        },
        "id": "njNZVdbGMNZ3",
        "outputId": "1b3d2363-b8ef-48af-cbf0-f9898cb3c5a7"
      },
      "execution_count": null,
      "outputs": [
        {
          "output_type": "stream",
          "name": "stdout",
          "text": [
            "Model: \"model\"\n",
            "_________________________________________________________________\n",
            " Layer (type)                Output Shape              Param #   \n",
            "=================================================================\n",
            " input_1 (InputLayer)        [(None, 1024)]            0         \n",
            "                                                                 \n",
            " activation (Activation)     (None, 1024)              0         \n",
            "                                                                 \n",
            " dropout (Dropout)           (None, 1024)              0         \n",
            "                                                                 \n",
            " dense (Dense)               (None, 1024)              1049600   \n",
            "                                                                 \n",
            " dropout_1 (Dropout)         (None, 1024)              0         \n",
            "                                                                 \n",
            " dense_1 (Dense)             (None, 1024)              1049600   \n",
            "                                                                 \n",
            " dense_2 (Dense)             (None, 1)                 1025      \n",
            "                                                                 \n",
            "=================================================================\n",
            "Total params: 2,100,225\n",
            "Trainable params: 2,100,225\n",
            "Non-trainable params: 0\n",
            "_________________________________________________________________\n"
          ]
        }
      ]
    },
    {
      "cell_type": "code",
      "source": [
        "def change_label(x):\n",
        "    if x == 1 or x == 2 or x == 3:\n",
        "        return 1\n",
        "    else:\n",
        "        return 0"
      ],
      "metadata": {
        "id": "0WMEgk4-F7NU"
      },
      "execution_count": null,
      "outputs": []
    },
    {
      "cell_type": "code",
      "source": [
        "data_x = np.load(BASE_PATH + \"data_x.npy\")\n",
        "data_y = np.load(BASE_PATH + \"data_y.npy\")\n",
        "data_y_binary = np.array([change_label(y) for y in data_y])\n",
        "np.unique(data_y_binary, return_counts=True)"
      ],
      "metadata": {
        "colab": {
          "base_uri": "https://localhost:8080/"
        },
        "id": "M5zrvqW9MPcg",
        "outputId": "1a1f658b-2f3a-417d-c5fb-8ab4862d4ca8"
      },
      "execution_count": null,
      "outputs": [
        {
          "output_type": "execute_result",
          "data": {
            "text/plain": [
              "(array([0, 1]), array([1805, 1664]))"
            ]
          },
          "metadata": {},
          "execution_count": 8
        }
      ]
    },
    {
      "cell_type": "code",
      "source": [
        "train_x, test_x, train_y, test_y = train_test_split(data_x, data_y_binary, test_size = 0.15)\n",
        "print(train_x.shape)\n",
        "print(train_y.shape)\n",
        "print(test_x.shape)\n",
        "print(test_y.shape)\n",
        "\n",
        "print(np.unique(train_y, return_counts=True))\n",
        "print(np.unique(test_y, return_counts=True))\n"
      ],
      "metadata": {
        "colab": {
          "base_uri": "https://localhost:8080/"
        },
        "id": "AIqLXIJYFO8t",
        "outputId": "427df0c7-2497-4046-9d27-8934813f621d"
      },
      "execution_count": null,
      "outputs": [
        {
          "output_type": "stream",
          "name": "stdout",
          "text": [
            "(2948, 1024)\n",
            "(2948,)\n",
            "(521, 1024)\n",
            "(521,)\n",
            "(array([0, 1]), array([1521, 1427]))\n",
            "(array([0, 1]), array([284, 237]))\n"
          ]
        }
      ]
    },
    {
      "cell_type": "code",
      "source": [],
      "metadata": {
        "id": "6NONgxZIG4LT"
      },
      "execution_count": null,
      "outputs": []
    },
    {
      "cell_type": "code",
      "source": [],
      "metadata": {
        "id": "OYkCi4rkG4RP"
      },
      "execution_count": null,
      "outputs": []
    },
    {
      "cell_type": "code",
      "source": [
        "import random\n",
        "import copy\n",
        "import sys\n",
        "import os\n",
        "import sys\n",
        "from tqdm import tqdm\n",
        "import heapq\n",
        "\n",
        "initializer = tf.keras.initializers.HeNormal()\n",
        "vars = finetune_model.trainable_variables\n",
        "loss_fn = tf.keras.losses.BinaryCrossentropy()\n",
        "acc_fn = tf.keras.metrics.Accuracy()\n",
        "\n",
        "num_molecule = 20\n",
        "mole_coll = 0.3\n",
        "KE_loss_rate = 0.1\n",
        "buffer = 400"
      ],
      "metadata": {
        "id": "iklwZ7pIMWtp"
      },
      "execution_count": null,
      "outputs": []
    },
    {
      "cell_type": "code",
      "source": [
        "class Molecule:\n",
        "    def __init__(self, vars = None, weights = None, velocity = None, ke = None, num_hit = None, local_best = None):\n",
        "        if weights:\n",
        "            self.weights = weights\n",
        "        elif vars:\n",
        "            self.weights = [initializer(shape=s.shape) for s in vars]\n",
        "        self.PE, self.acc = self.get_loss()\n",
        "\n",
        "        if ke:\n",
        "            self.KE = ke\n",
        "        else:\n",
        "            self.KE = 1\n",
        "\n",
        "        self.TE = self.PE + self.KE\n",
        "        self.val_loss, self.val_acc = self.get_loss_val()\n",
        "\n",
        "        if velocity:\n",
        "            self.velocity = velocity\n",
        "        else:\n",
        "            self.velocity = [tf.random.normal(shape=s.shape, stddev = 0.1) for s in vars] #, minval = -1, maxval=1\n",
        "\n",
        "        self.num_hit = 0 # How many time the perticular molecule exploited its search space.\n",
        "\n",
        "        self.local_best = self.weights\n",
        "\n",
        "        self.gradient_average = [tf.zeros(shape=s.shape) for s in vars]\n",
        "\n",
        "    def update_best(self):\n",
        "        if self.PE < self.get_loss_weight(self.local_best)[0]:\n",
        "            self.local_best = self.weights\n",
        "\n",
        "    def update_PE(self):\n",
        "        self.PE, self.acc = self.get_loss()\n",
        "        self.val_loss, self.val_acc = self.get_loss_val()\n",
        "\n",
        "    def get_loss_weight(self, weight):\n",
        "        finetune_model.set_weights(weights=weight)\n",
        "        logits = finetune_model(train_x)\n",
        "        logits = tf.reshape(logits, (logits.shape[0], ))\n",
        "        loss_value = loss_fn(train_y, logits)\n",
        "        acc_value = accuracy_score(train_y, logits > 0.5)\n",
        "        return loss_value, acc_value\n",
        "\n",
        "    def get_loss(self):\n",
        "        finetune_model.set_weights(weights=self.weights)\n",
        "        logits = finetune_model(train_x)\n",
        "        logits = tf.reshape(logits, (logits.shape[0], ))\n",
        "        loss_value = loss_fn(train_y, logits)\n",
        "        acc_value = accuracy_score(train_y, logits > 0.5)\n",
        "        return loss_value, acc_value\n",
        "\n",
        "    def get_loss_val(self):\n",
        "        finetune_model.set_weights(weights=self.weights)\n",
        "        logits = finetune_model(test_x)\n",
        "        logits = tf.reshape(logits, (logits.shape[0], ))\n",
        "        loss_value = loss_fn(test_y, logits)\n",
        "        acc_value = accuracy_score(test_y, logits > 0.5)\n",
        "        return loss_value, acc_value\n",
        "\n",
        "    def reset_average(self):\n",
        "        self.gradient_average = [tf.zeros(shape=s.shape) for s in vars]"
      ],
      "metadata": {
        "id": "0mOkauEGMhp6"
      },
      "execution_count": null,
      "outputs": []
    },
    {
      "cell_type": "code",
      "source": [
        "def create_molecule():\n",
        "    m = Molecule(vars)\n",
        "    m.velocity = [(global_best[i]- m.weights[i]) for i in range(len(global_best))]\n",
        "    return m\n",
        "\n",
        "def pso_update(m):\n",
        "    r1 = random.random()\n",
        "    r2 = random.random()\n",
        "    first_term = [w*l_v for l_v in m.velocity]\n",
        "    second_term = [c1*r1*x for x in [(m.local_best[i]- m.weights[i]) for i in range(len(m.local_best))]]\n",
        "    third_term = [c2*r2*x for x in [(global_best[i]- m.weights[i]) for i in range(len(global_best))]]\n",
        "    m.velocity = [m.KE * (first_term[i] + second_term[i] + third_term[i]) for i in range(len(first_term))]\n",
        "\n",
        "    m.weights = [(m.weights[i]+ m.velocity[i]) for i in range(len(m.weights))]\n",
        "    m.update_PE()\n",
        "    m.num_hit = 0\n",
        "    m.update_best()\n",
        "    m.reset_average()\n",
        "    if m.PE > 10:\n",
        "        m = create_molecule()\n",
        "    del first_term\n",
        "    del second_term\n",
        "    del third_term\n",
        "    gc.collect()\n",
        "    return m\n",
        "\n",
        "def neighbourhood(m, learning_rate, momentum):\n",
        "\n",
        "    with tf.GradientTape(watch_accessed_variables=False) as t:\n",
        "        t.reset()\n",
        "        t.watch(finetune_model.trainable_variables)\n",
        "        finetune_model.set_weights(weights=m.weights)\n",
        "        logits = finetune_model(train_x)\n",
        "        logits = tf.reshape(logits, (logits.shape[0], ))\n",
        "        loss_value = loss_fn(train_y, logits)\n",
        "\n",
        "    gradients = t.gradient(loss_value, finetune_model.trainable_weights)\n",
        "\n",
        "    for i in range(len(finetune_model.trainable_weights)):\n",
        "        m.gradient_average[i] = momentum * m.gradient_average[i] + (1-momentum) * gradients[i]\n",
        "\n",
        "\n",
        "\n",
        "    new_weights = []\n",
        "    for i in range(len(finetune_model.trainable_weights)):\n",
        "        layer = finetune_model.trainable_weights[i]\n",
        "        layer =  layer - learning_rate * m.gradient_average[i]\n",
        "        new_weights.append(layer)\n",
        "\n",
        "    m.weights = new_weights\n",
        "    m.update_PE()\n",
        "    if m.PE > 10:\n",
        "        m = create_molecule()\n",
        "    del gradients\n",
        "    del new_weights\n",
        "    gc.collect()\n",
        "    return m\n",
        "\n",
        "def onwall_ineffective_collision(m):\n",
        "    return neighbourhood(m, learning_rate, momemtum)\n",
        "\n",
        "def onwall_criteria(m_old, m_new):\n",
        "    pe_new = m_new.PE\n",
        "    if (m_old.PE + m_old.KE >= pe_new):\n",
        "        return True\n",
        "    else:\n",
        "        return False\n",
        "\n",
        "def intermol_criteria(m1, m2, m1_new, m2_new):\n",
        "    pe1 = m1_new.PE\n",
        "    pe2 = m2_new.PE\n",
        "    if (m1.PE + m1.KE + m2.PE + m2.KE >= pe1 + pe2):\n",
        "        return True\n",
        "    else:\n",
        "        return False\n",
        "\n",
        "def intermol_ineffective_collision(m1, m2):\n",
        "    return (neighbourhood(m1, learning_rate, momemtum), neighbourhood(m2, learning_rate, momemtum)) #instead of creating new\n",
        "\n",
        "def best_molecule():\n",
        "    bm = molecule[0]\n",
        "    for m in molecule:\n",
        "        if m.PE < bm.PE:\n",
        "            bm = m\n",
        "    return bm\n",
        "\n",
        "\n",
        "def execute_intermol_ineffective_collision(m1, m2, i, j):\n",
        "    global buffer\n",
        "    m1_copy = copy.deepcopy(m1)\n",
        "    m2_copy = copy.deepcopy(m2)\n",
        "    (m1_new, m2_new) = intermol_ineffective_collision(m1, m2)\n",
        "    if(intermol_criteria(m1_copy, m2_copy, m1_new, m2_new)):\n",
        "        pe_x1 = m1_copy.PE\n",
        "        pe_x2 = m2_copy.PE\n",
        "        ke_x1 = m1_copy.KE\n",
        "        ke_x2 = m2_copy.KE\n",
        "        p = random.random()\n",
        "        m1_new.KE = (pe_x1 + pe_x2 + ke_x1 + ke_x2 - m1_new.PE - m2_new.PE) * p\n",
        "        m2_new.KE = (pe_x1 + pe_x2 + ke_x1 + ke_x2 - m1_new.PE - m2_new.PE) * (1-p)\n",
        "\n",
        "        m1_new.num_hit += 1\n",
        "        m2_new.num_hit += 1\n",
        "\n",
        "        m1_new.update_best()\n",
        "        m2_new.update_best()\n",
        "\n",
        "        if tf.math.is_nan(m1_new.PE) or tf.math.is_nan(m2_new.PE):\n",
        "            print(\"NaN Occured Here\")\n",
        "            sys.exit()\n",
        "        # molecule.append(m1_new)\n",
        "        # molecule.append(m2_new)\n",
        "\n",
        "        molecule[i] = m1_new\n",
        "        molecule[j] = m2_new\n",
        "\n",
        "        logging.info(f\"Current PE : {m1_new.PE} , {m2_new.PE}\")\n",
        "        return True\n",
        "    else:\n",
        "        return False\n",
        "\n",
        "def execute_onwall_collision(m_old, i):\n",
        "    global buffer\n",
        "    m_old_copy = copy.deepcopy(m_old)\n",
        "    m_new = onwall_ineffective_collision(m_old)\n",
        "    if onwall_criteria(m_old_copy, m_new):\n",
        "        p1 = random.uniform(KE_loss_rate, 1)\n",
        "        pe_new = m_new.PE\n",
        "        ke_new = m_new.KE = (m_old_copy.PE - pe_new + m_old_copy.KE) * p1\n",
        "        buffer = buffer + ((m_old_copy.PE - pe_new + m_old_copy.KE)*(1-p1))\n",
        "        m_new.num_hit += 1\n",
        "        m_new.update_best()\n",
        "        if tf.math.is_nan(m_new.PE):\n",
        "            print(\"NaN Occured Here\")\n",
        "            os._exit(0)\n",
        "\n",
        "\n",
        "        # molecule.append(m_new)\n",
        "        molecule[i] = m_new\n",
        "        logging.info(f\"Current PE : {m_new.PE}\")\n",
        "        return True\n",
        "    else:\n",
        "        return False\n",
        "\n",
        "def execute_pso_upadte(m_old, i):\n",
        "    global buffer\n",
        "    m_new = pso_update(m_old)\n",
        "    if tf.math.is_nan(m_new.PE):\n",
        "        print(\"NaN Occured Here\")\n",
        "        os._exit(0)\n",
        "    molecule[i] = m_new\n",
        "    logging.info(f\"Current PE : {m_new.PE}\")\n",
        "\n",
        "\n",
        "\n",
        "def save_molecules(molecules, file_name1 = \"molecule_weights\"):\n",
        "    file_name = BASE_PATH + file_name1\n",
        "    molecule_to_save = []\n",
        "    for m in molecule:\n",
        "        molecule_to_save.append([m.weights, m.velocity, m.num_hit, m.KE, m.local_best])\n",
        "    with open(file_name, \"wb\") as fp:\n",
        "        pickle.dump(molecule_to_save, fp)\n",
        "\n",
        "def read_molecule(file_name1 = \"molecule_weights\"):\n",
        "    file_name = BASE_PATH + file_name1\n",
        "    with open(file_name, \"rb\") as fp:\n",
        "        molecules_meta_data = pickle.load(fp)\n",
        "    molecules = []\n",
        "    for m_data in molecules_meta_data:\n",
        "        molecules.append(Molecule(vars = vars, weights=m_data[0], velocity=m_data[1], num_hit = m_data[2], ke = m_data[3], local_best= m_data[4]))\n",
        "    return molecules"
      ],
      "metadata": {
        "id": "EI0RKzBgMjPb"
      },
      "execution_count": null,
      "outputs": []
    },
    {
      "cell_type": "code",
      "source": [
        "molecule = read_molecule(\"Model_1_momemtum_f1_ck_cro_molecule_weights_20_500\")"
      ],
      "metadata": {
        "id": "zmVE8jdZkXvd"
      },
      "execution_count": null,
      "outputs": []
    },
    {
      "cell_type": "code",
      "source": [
        "bm = best_molecule()"
      ],
      "metadata": {
        "id": "VaL7TfSmEz-0"
      },
      "execution_count": null,
      "outputs": []
    },
    {
      "cell_type": "code",
      "source": [
        "file_name = BASE_PATH + \"model1_bm_weights\"\n",
        "with open(file_name, \"wb\") as fp:\n",
        "    pickle.dump(bm.weights, fp)"
      ],
      "metadata": {
        "id": "_H3aTrrME_4R"
      },
      "execution_count": null,
      "outputs": []
    },
    {
      "cell_type": "code",
      "source": [],
      "metadata": {
        "id": "js6u7e5xE_8K"
      },
      "execution_count": null,
      "outputs": []
    },
    {
      "cell_type": "code",
      "source": [],
      "metadata": {
        "id": "aLIW3dpXE_-6"
      },
      "execution_count": null,
      "outputs": []
    },
    {
      "cell_type": "code",
      "source": [
        "# molecule = []\n",
        "# for i in tqdm(range(num_molecule)):\n",
        "#     m = Molecule(vars)\n",
        "#     # m_new = neighbourhood(m, 0.01)\n",
        "#     molecule.append(m)"
      ],
      "metadata": {
        "colab": {
          "base_uri": "https://localhost:8080/"
        },
        "id": "hE6yfDC3MmMC",
        "outputId": "b5f02003-0efb-4079-ff5f-3a8aa5747422"
      },
      "execution_count": null,
      "outputs": [
        {
          "output_type": "stream",
          "name": "stderr",
          "text": [
            "100%|██████████| 20/20 [00:03<00:00,  6.22it/s]\n"
          ]
        }
      ]
    },
    {
      "cell_type": "code",
      "source": [
        "allPE = []\n",
        "for m in molecule:\n",
        "    allPE.append(m.PE)\n",
        "\n",
        "import matplotlib.pyplot as plt\n",
        "plt.hist(allPE)\n",
        "plt.show()"
      ],
      "metadata": {
        "colab": {
          "base_uri": "https://localhost:8080/",
          "height": 265
        },
        "id": "D_-MphWVMq4l",
        "outputId": "0ab78e08-e3e7-4c7f-fe86-8889cac43395"
      },
      "execution_count": null,
      "outputs": [
        {
          "output_type": "display_data",
          "data": {
            "text/plain": [
              "<Figure size 432x288 with 1 Axes>"
            ],
            "image/png": "[encoded data removed]"
          },
          "metadata": {
            "needs_background": "light"
          }
        }
      ]
    },
    {
      "cell_type": "code",
      "source": [
        "allAcc = []\n",
        "for m in molecule:\n",
        "    allAcc.append(m.acc)\n",
        "\n",
        "import matplotlib.pyplot as plt\n",
        "plt.hist(allAcc)\n",
        "plt.show()"
      ],
      "metadata": {
        "colab": {
          "base_uri": "https://localhost:8080/",
          "height": 265
        },
        "id": "VP0gBFNN84AY",
        "outputId": "be7f1c5f-3901-4342-85f7-66cf9aa4838c"
      },
      "execution_count": null,
      "outputs": [
        {
          "output_type": "display_data",
          "data": {
            "text/plain": [
              "<Figure size 432x288 with 1 Axes>"
            ],
            "image/png": "[encoded data removed]"
          },
          "metadata": {
            "needs_background": "light"
          }
        }
      ]
    },
    {
      "cell_type": "code",
      "source": [
        "molecule_pe_before = []\n",
        "for m in molecule:\n",
        "    molecule_pe_before.append(m.PE)\n",
        "\n",
        "molecule_acc_before = []\n",
        "for m in molecule:\n",
        "    molecule_acc_before.append(m.acc)\n"
      ],
      "metadata": {
        "id": "GgicpqOa6lZc"
      },
      "execution_count": null,
      "outputs": []
    },
    {
      "cell_type": "code",
      "source": [
        "print(f\"\\nMinimum PE {best_molecule().PE, best_molecule().acc}\")\n",
        "\n",
        "y = 40\n",
        "w = float(0.6)\n",
        "c1 = float(0.1)\n",
        "c2 = float(0.9)\n",
        "learning_rate = 0.01\n",
        "momemtum = 0.5\n",
        "global_best = best_molecule().weights"
      ],
      "metadata": {
        "colab": {
          "base_uri": "https://localhost:8080/"
        },
        "id": "e-8JHC-9M34f",
        "outputId": "983efbbc-45d6-4754-fca9-84121ed84c84"
      },
      "execution_count": null,
      "outputs": [
        {
          "output_type": "stream",
          "name": "stdout",
          "text": [
            "\n",
            "Minimum PE (<tf.Tensor: shape=(), dtype=float32, numpy=0.6115412>, 0.7313432835820896)\n"
          ]
        }
      ]
    },
    {
      "cell_type": "code",
      "source": [],
      "metadata": {
        "id": "-SbtW8Df_r4z"
      },
      "execution_count": null,
      "outputs": []
    },
    {
      "cell_type": "code",
      "source": [
        "loss_history = []\n",
        "val_loss_history = []\n",
        "acc_history = []\n",
        "val_acc_history = []\n",
        "\n",
        "loss_history_epochs = []\n",
        "val_loss_history_epochs = []\n",
        "acc_history_epochs = []\n",
        "val_acc_history_epochs = []"
      ],
      "metadata": {
        "id": "xkfwvc6BM687"
      },
      "execution_count": null,
      "outputs": []
    },
    {
      "cell_type": "code",
      "source": [],
      "metadata": {
        "id": "rVKJYU9i_JdJ"
      },
      "execution_count": null,
      "outputs": []
    },
    {
      "cell_type": "code",
      "source": [],
      "metadata": {
        "id": "wI2mmv7c_ZBL"
      },
      "execution_count": null,
      "outputs": []
    },
    {
      "cell_type": "code",
      "source": [
        "num_epochs = 500\n",
        "e = 0\n",
        "while(1):\n",
        "    print(f\"Epochs : {e+1}\")\n",
        "    for idx in tqdm(range(len(molecule))):\n",
        "        # idx = random.randint(0, len(molecule)-1)\n",
        "        m = molecule[idx]\n",
        "        # molecule.pop(idx)\n",
        "        if m.num_hit > y:\n",
        "            execute_pso_upadte(m, idx)\n",
        "            logging.info(f\"Epochs : {e+1}\\tPSO Update \")\n",
        "        else:\n",
        "            r = random.random()\n",
        "            if r > 0.5:\n",
        "                i = random.randint(0, len(molecule)-1)\n",
        "                m1 = molecule[i]\n",
        "                # molecule.pop(i)\n",
        "                if execute_intermol_ineffective_collision(m, m1, idx, i):\n",
        "                    logging.info(f\"Epochs : {e+1}\\tInter Mole \")\n",
        "                else:\n",
        "                    logging.info(f\"Epochs : {e+1}\\tNone \")\n",
        "                    molecule[idx].num_hit += 1\n",
        "                    molecule[i].num_hit += 1\n",
        "                    # molecule.append(m)\n",
        "                    # molecule.append(m1)\n",
        "            else:\n",
        "                if execute_onwall_collision(m, idx):\n",
        "                    logging.info(f\"Epochs : {e+1}\\tOn wall \")\n",
        "                else:\n",
        "                    logging.info(f\"Epochs : {e+1}\\tNone \")\n",
        "                    molecule[idx].num_hit += 1\n",
        "                    # molecule.append(m)\n",
        "\n",
        "        global_best_mole = best_molecule()\n",
        "        global_best = global_best_mole.weights\n",
        "        loss_history.append(global_best_mole.PE)\n",
        "        val_loss_history.append(global_best_mole.val_loss)\n",
        "        acc_history.append(global_best_mole.acc)\n",
        "        val_acc_history.append(global_best_mole.val_acc)\n",
        "\n",
        "\n",
        "    print(f\"Loss : {global_best_mole.PE}, Val Loss : {global_best_mole.val_loss} Acc : {global_best_mole.acc}, Val Acc : {global_best_mole.val_acc}\")\n",
        "    loss_history_epochs.append(global_best_mole.PE)\n",
        "    val_loss_history_epochs.append(global_best_mole.val_loss)\n",
        "    acc_history_epochs.append(global_best_mole.acc)\n",
        "    val_acc_history_epochs.append(global_best_mole.val_acc)\n",
        "\n",
        "    e += 1\n",
        "    if e == num_epochs:\n",
        "        break"
      ],
      "metadata": {
        "colab": {
          "base_uri": "https://localhost:8080/"
        },
        "id": "6WvdNRs8M7Du",
        "outputId": "b2f3a236-c53d-4ff2-c240-d076bfd87106"
      },
      "execution_count": null,
      "outputs": [
        {
          "output_type": "stream",
          "name": "stdout",
          "text": [
            "Epochs : 1\n"
          ]
        },
        {
          "output_type": "stream",
          "name": "stderr",
          "text": [
            "100%|██████████| 20/20 [00:07<00:00,  2.80it/s]\n"
          ]
        },
        {
          "output_type": "stream",
          "name": "stdout",
          "text": [
            "Loss : 0.5181357860565186, Val Loss : 0.5139263272285461 Acc : 0.8175033921302578, Val Acc : 0.8291746641074856\n",
            "Epochs : 2\n"
          ]
        },
        {
          "output_type": "stream",
          "name": "stderr",
          "text": [
            "100%|██████████| 20/20 [00:05<00:00,  3.40it/s]\n"
          ]
        },
        {
          "output_type": "stream",
          "name": "stdout",
          "text": [
            "Loss : 0.3540897071361542, Val Loss : 0.33806371688842773 Acc : 0.8819538670284939, Val Acc : 0.8867562380038387\n",
            "Epochs : 3\n"
          ]
        },
        {
          "output_type": "stream",
          "name": "stderr",
          "text": [
            "100%|██████████| 20/20 [00:06<00:00,  3.02it/s]\n"
          ]
        },
        {
          "output_type": "stream",
          "name": "stdout",
          "text": [
            "Loss : 0.30764779448509216, Val Loss : 0.2951536178588867 Acc : 0.8883989145183175, Val Acc : 0.8944337811900192\n",
            "Epochs : 4\n"
          ]
        },
        {
          "output_type": "stream",
          "name": "stderr",
          "text": [
            "100%|██████████| 20/20 [00:06<00:00,  3.01it/s]\n"
          ]
        },
        {
          "output_type": "stream",
          "name": "stdout",
          "text": [
            "Loss : 0.29008913040161133, Val Loss : 0.2778288424015045 Acc : 0.8978968792401628, Val Acc : 0.9001919385796545\n",
            "Epochs : 5\n"
          ]
        },
        {
          "output_type": "stream",
          "name": "stderr",
          "text": [
            "100%|██████████| 20/20 [00:06<00:00,  2.90it/s]\n"
          ]
        },
        {
          "output_type": "stream",
          "name": "stdout",
          "text": [
            "Loss : 0.284669429063797, Val Loss : 0.27474504709243774 Acc : 0.8992537313432836, Val Acc : 0.9040307101727447\n",
            "Epochs : 6\n"
          ]
        },
        {
          "output_type": "stream",
          "name": "stderr",
          "text": [
            "100%|██████████| 20/20 [00:07<00:00,  2.70it/s]\n"
          ]
        },
        {
          "output_type": "stream",
          "name": "stdout",
          "text": [
            "Loss : 0.2790662944316864, Val Loss : 0.26633208990097046 Acc : 0.9029850746268657, Val Acc : 0.9078694817658349\n",
            "Epochs : 7\n"
          ]
        },
        {
          "output_type": "stream",
          "name": "stderr",
          "text": [
            "100%|██████████| 20/20 [00:06<00:00,  3.02it/s]\n"
          ]
        },
        {
          "output_type": "stream",
          "name": "stdout",
          "text": [
            "Loss : 0.2742850184440613, Val Loss : 0.26147302985191345 Acc : 0.9043419267299865, Val Acc : 0.9136276391554703\n",
            "Epochs : 8\n"
          ]
        },
        {
          "output_type": "stream",
          "name": "stderr",
          "text": [
            "100%|██████████| 20/20 [00:06<00:00,  3.05it/s]\n"
          ]
        },
        {
          "output_type": "stream",
          "name": "stdout",
          "text": [
            "Loss : 0.25869977474212646, Val Loss : 0.2462591975927353 Acc : 0.9121438263229308, Val Acc : 0.9309021113243762\n",
            "Epochs : 9\n"
          ]
        },
        {
          "output_type": "stream",
          "name": "stderr",
          "text": [
            "100%|██████████| 20/20 [00:05<00:00,  3.36it/s]\n"
          ]
        },
        {
          "output_type": "stream",
          "name": "stdout",
          "text": [
            "Loss : 0.2554512917995453, Val Loss : 0.243264839053154 Acc : 0.9128222523744912, Val Acc : 0.9328214971209213\n",
            "Epochs : 10\n"
          ]
        },
        {
          "output_type": "stream",
          "name": "stderr",
          "text": [
            "100%|██████████| 20/20 [00:05<00:00,  3.56it/s]\n"
          ]
        },
        {
          "output_type": "stream",
          "name": "stdout",
          "text": [
            "Loss : 0.2512681484222412, Val Loss : 0.24681589007377625 Acc : 0.9192672998643148, Val Acc : 0.9309021113243762\n",
            "Epochs : 11\n"
          ]
        },
        {
          "output_type": "stream",
          "name": "stderr",
          "text": [
            "100%|██████████| 20/20 [00:06<00:00,  3.31it/s]\n"
          ]
        },
        {
          "output_type": "stream",
          "name": "stdout",
          "text": [
            "Loss : 0.24836038053035736, Val Loss : 0.24348916113376617 Acc : 0.9209633649932157, Val Acc : 0.9309021113243762\n",
            "Epochs : 12\n"
          ]
        },
        {
          "output_type": "stream",
          "name": "stderr",
          "text": [
            "100%|██████████| 20/20 [00:05<00:00,  3.38it/s]\n"
          ]
        },
        {
          "output_type": "stream",
          "name": "stdout",
          "text": [
            "Loss : 0.24420781433582306, Val Loss : 0.23224468529224396 Acc : 0.9189280868385346, Val Acc : 0.9424184261036468\n",
            "Epochs : 13\n"
          ]
        },
        {
          "output_type": "stream",
          "name": "stderr",
          "text": [
            "100%|██████████| 20/20 [00:06<00:00,  3.29it/s]\n"
          ]
        },
        {
          "output_type": "stream",
          "name": "stdout",
          "text": [
            "Loss : 0.2397538125514984, Val Loss : 0.22455313801765442 Acc : 0.9216417910447762, Val Acc : 0.9404990403071017\n",
            "Epochs : 14\n"
          ]
        },
        {
          "output_type": "stream",
          "name": "stderr",
          "text": [
            "100%|██████████| 20/20 [00:05<00:00,  3.96it/s]\n"
          ]
        },
        {
          "output_type": "stream",
          "name": "stdout",
          "text": [
            "Loss : 0.23544152081012726, Val Loss : 0.22024470567703247 Acc : 0.9240162822252375, Val Acc : 0.944337811900192\n",
            "Epochs : 15\n"
          ]
        },
        {
          "output_type": "stream",
          "name": "stderr",
          "text": [
            "100%|██████████| 20/20 [00:06<00:00,  3.16it/s]\n"
          ]
        },
        {
          "output_type": "stream",
          "name": "stdout",
          "text": [
            "Loss : 0.23298077285289764, Val Loss : 0.2216983139514923 Acc : 0.9236770691994572, Val Acc : 0.944337811900192\n",
            "Epochs : 16\n"
          ]
        },
        {
          "output_type": "stream",
          "name": "stderr",
          "text": [
            "100%|██████████| 20/20 [00:06<00:00,  3.26it/s]\n"
          ]
        },
        {
          "output_type": "stream",
          "name": "stdout",
          "text": [
            "Loss : 0.22734451293945312, Val Loss : 0.21654582023620605 Acc : 0.926729986431479, Val Acc : 0.946257197696737\n",
            "Epochs : 17\n"
          ]
        },
        {
          "output_type": "stream",
          "name": "stderr",
          "text": [
            "100%|██████████| 20/20 [00:06<00:00,  3.16it/s]\n"
          ]
        },
        {
          "output_type": "stream",
          "name": "stdout",
          "text": [
            "Loss : 0.22394664585590363, Val Loss : 0.21349689364433289 Acc : 0.9284260515603799, Val Acc : 0.946257197696737\n",
            "Epochs : 18\n"
          ]
        },
        {
          "output_type": "stream",
          "name": "stderr",
          "text": [
            "100%|██████████| 20/20 [00:07<00:00,  2.80it/s]\n"
          ]
        },
        {
          "output_type": "stream",
          "name": "stdout",
          "text": [
            "Loss : 0.2216256856918335, Val Loss : 0.20706595480442047 Acc : 0.9294436906377205, Val Acc : 0.9481765834932822\n",
            "Epochs : 19\n"
          ]
        },
        {
          "output_type": "stream",
          "name": "stderr",
          "text": [
            "100%|██████████| 20/20 [00:05<00:00,  3.52it/s]\n"
          ]
        },
        {
          "output_type": "stream",
          "name": "stdout",
          "text": [
            "Loss : 0.22018857300281525, Val Loss : 0.20575183629989624 Acc : 0.9308005427408412, Val Acc : 0.9481765834932822\n",
            "Epochs : 20\n"
          ]
        },
        {
          "output_type": "stream",
          "name": "stderr",
          "text": [
            "100%|██████████| 20/20 [00:06<00:00,  3.15it/s]\n"
          ]
        },
        {
          "output_type": "stream",
          "name": "stdout",
          "text": [
            "Loss : 0.21786648035049438, Val Loss : 0.20815958082675934 Acc : 0.9328358208955224, Val Acc : 0.9481765834932822\n",
            "Epochs : 21\n"
          ]
        },
        {
          "output_type": "stream",
          "name": "stderr",
          "text": [
            "100%|██████████| 20/20 [00:06<00:00,  2.97it/s]\n"
          ]
        },
        {
          "output_type": "stream",
          "name": "stdout",
          "text": [
            "Loss : 0.2151433378458023, Val Loss : 0.20581687986850739 Acc : 0.9341926729986432, Val Acc : 0.9481765834932822\n",
            "Epochs : 22\n"
          ]
        },
        {
          "output_type": "stream",
          "name": "stderr",
          "text": [
            "100%|██████████| 20/20 [00:06<00:00,  3.10it/s]\n"
          ]
        },
        {
          "output_type": "stream",
          "name": "stdout",
          "text": [
            "Loss : 0.21139265596866608, Val Loss : 0.20261956751346588 Acc : 0.9345318860244234, Val Acc : 0.9481765834932822\n",
            "Epochs : 23\n"
          ]
        },
        {
          "output_type": "stream",
          "name": "stderr",
          "text": [
            "100%|██████████| 20/20 [00:06<00:00,  3.11it/s]\n"
          ]
        },
        {
          "output_type": "stream",
          "name": "stdout",
          "text": [
            "Loss : 0.21022284030914307, Val Loss : 0.20163002610206604 Acc : 0.9345318860244234, Val Acc : 0.9481765834932822\n",
            "Epochs : 24\n"
          ]
        },
        {
          "output_type": "stream",
          "name": "stderr",
          "text": [
            "100%|██████████| 20/20 [00:05<00:00,  3.41it/s]\n"
          ]
        },
        {
          "output_type": "stream",
          "name": "stdout",
          "text": [
            "Loss : 0.21012921631336212, Val Loss : 0.20149017870426178 Acc : 0.9345318860244234, Val Acc : 0.9481765834932822\n",
            "Epochs : 25\n"
          ]
        },
        {
          "output_type": "stream",
          "name": "stderr",
          "text": [
            "100%|██████████| 20/20 [00:05<00:00,  3.67it/s]\n"
          ]
        },
        {
          "output_type": "stream",
          "name": "stdout",
          "text": [
            "Loss : 0.20874269306659698, Val Loss : 0.2005435973405838 Acc : 0.9352103120759837, Val Acc : 0.9481765834932822\n",
            "Epochs : 26\n"
          ]
        },
        {
          "output_type": "stream",
          "name": "stderr",
          "text": [
            "100%|██████████| 20/20 [00:05<00:00,  3.91it/s]\n"
          ]
        },
        {
          "output_type": "stream",
          "name": "stdout",
          "text": [
            "Loss : 0.20779673755168915, Val Loss : 0.1996992975473404 Acc : 0.9352103120759837, Val Acc : 0.9500959692898272\n",
            "Epochs : 27\n"
          ]
        },
        {
          "output_type": "stream",
          "name": "stderr",
          "text": [
            "100%|██████████| 20/20 [00:06<00:00,  3.26it/s]\n"
          ]
        },
        {
          "output_type": "stream",
          "name": "stdout",
          "text": [
            "Loss : 0.2058068811893463, Val Loss : 0.1979750096797943 Acc : 0.9362279511533242, Val Acc : 0.9500959692898272\n",
            "Epochs : 28\n"
          ]
        },
        {
          "output_type": "stream",
          "name": "stderr",
          "text": [
            "100%|██████████| 20/20 [00:06<00:00,  3.15it/s]\n"
          ]
        },
        {
          "output_type": "stream",
          "name": "stdout",
          "text": [
            "Loss : 0.20481684803962708, Val Loss : 0.19717705249786377 Acc : 0.9358887381275441, Val Acc : 0.9500959692898272\n",
            "Epochs : 29\n"
          ]
        },
        {
          "output_type": "stream",
          "name": "stderr",
          "text": [
            "100%|██████████| 20/20 [00:05<00:00,  3.36it/s]\n"
          ]
        },
        {
          "output_type": "stream",
          "name": "stdout",
          "text": [
            "Loss : 0.20384597778320312, Val Loss : 0.19638517498970032 Acc : 0.9358887381275441, Val Acc : 0.9500959692898272\n",
            "Epochs : 30\n"
          ]
        },
        {
          "output_type": "stream",
          "name": "stderr",
          "text": [
            "100%|██████████| 20/20 [00:06<00:00,  3.11it/s]\n"
          ]
        },
        {
          "output_type": "stream",
          "name": "stdout",
          "text": [
            "Loss : 0.2028973251581192, Val Loss : 0.19559505581855774 Acc : 0.9362279511533242, Val Acc : 0.9500959692898272\n",
            "Epochs : 31\n"
          ]
        },
        {
          "output_type": "stream",
          "name": "stderr",
          "text": [
            "100%|██████████| 20/20 [00:05<00:00,  3.49it/s]\n"
          ]
        },
        {
          "output_type": "stream",
          "name": "stdout",
          "text": [
            "Loss : 0.2010703682899475, Val Loss : 0.19408710300922394 Acc : 0.9362279511533242, Val Acc : 0.9500959692898272\n",
            "Epochs : 32\n"
          ]
        },
        {
          "output_type": "stream",
          "name": "stderr",
          "text": [
            "100%|██████████| 20/20 [00:06<00:00,  2.93it/s]\n"
          ]
        },
        {
          "output_type": "stream",
          "name": "stdout",
          "text": [
            "Loss : 0.19933724403381348, Val Loss : 0.19268080592155457 Acc : 0.9365671641791045, Val Acc : 0.9481765834932822\n",
            "Epochs : 33\n"
          ]
        },
        {
          "output_type": "stream",
          "name": "stderr",
          "text": [
            "100%|██████████| 20/20 [00:05<00:00,  3.35it/s]\n"
          ]
        },
        {
          "output_type": "stream",
          "name": "stdout",
          "text": [
            "Loss : 0.19850493967533112, Val Loss : 0.19200399518013 Acc : 0.9365671641791045, Val Acc : 0.9481765834932822\n",
            "Epochs : 34\n"
          ]
        },
        {
          "output_type": "stream",
          "name": "stderr",
          "text": [
            "100%|██████████| 20/20 [00:05<00:00,  3.44it/s]\n"
          ]
        },
        {
          "output_type": "stream",
          "name": "stdout",
          "text": [
            "Loss : 0.19690503180027008, Val Loss : 0.19070802628993988 Acc : 0.9382632293080054, Val Acc : 0.9481765834932822\n",
            "Epochs : 35\n"
          ]
        },
        {
          "output_type": "stream",
          "name": "stderr",
          "text": [
            "100%|██████████| 20/20 [00:06<00:00,  3.11it/s]\n"
          ]
        },
        {
          "output_type": "stream",
          "name": "stdout",
          "text": [
            "Loss : 0.19611355662345886, Val Loss : 0.18586911261081696 Acc : 0.9436906377204884, Val Acc : 0.9520153550863724\n",
            "Epochs : 36\n"
          ]
        },
        {
          "output_type": "stream",
          "name": "stderr",
          "text": [
            "100%|██████████| 20/20 [00:06<00:00,  3.01it/s]\n"
          ]
        },
        {
          "output_type": "stream",
          "name": "stdout",
          "text": [
            "Loss : 0.19535355269908905, Val Loss : 0.1851797252893448 Acc : 0.9443690637720489, Val Acc : 0.9520153550863724\n",
            "Epochs : 37\n"
          ]
        },
        {
          "output_type": "stream",
          "name": "stderr",
          "text": [
            "100%|██████████| 20/20 [00:06<00:00,  3.30it/s]\n"
          ]
        },
        {
          "output_type": "stream",
          "name": "stdout",
          "text": [
            "Loss : 0.19388513267040253, Val Loss : 0.1838538497686386 Acc : 0.944708276797829, Val Acc : 0.9520153550863724\n",
            "Epochs : 38\n"
          ]
        },
        {
          "output_type": "stream",
          "name": "stderr",
          "text": [
            "100%|██████████| 20/20 [00:06<00:00,  3.11it/s]\n"
          ]
        },
        {
          "output_type": "stream",
          "name": "stdout",
          "text": [
            "Loss : 0.19248634576797485, Val Loss : 0.18259461224079132 Acc : 0.9453867028493894, Val Acc : 0.9520153550863724\n",
            "Epochs : 39\n"
          ]
        },
        {
          "output_type": "stream",
          "name": "stderr",
          "text": [
            "100%|██████████| 20/20 [00:06<00:00,  3.22it/s]\n"
          ]
        },
        {
          "output_type": "stream",
          "name": "stdout",
          "text": [
            "Loss : 0.19181112945079803, Val Loss : 0.18198800086975098 Acc : 0.9460651289009498, Val Acc : 0.9520153550863724\n",
            "Epochs : 40\n"
          ]
        },
        {
          "output_type": "stream",
          "name": "stderr",
          "text": [
            "100%|██████████| 20/20 [00:05<00:00,  3.35it/s]\n"
          ]
        },
        {
          "output_type": "stream",
          "name": "stdout",
          "text": [
            "Loss : 0.19115103781223297, Val Loss : 0.1813976913690567 Acc : 0.9460651289009498, Val Acc : 0.9520153550863724\n",
            "Epochs : 41\n"
          ]
        },
        {
          "output_type": "stream",
          "name": "stderr",
          "text": [
            "100%|██████████| 20/20 [00:06<00:00,  2.86it/s]\n"
          ]
        },
        {
          "output_type": "stream",
          "name": "stdout",
          "text": [
            "Loss : 0.1898745745420456, Val Loss : 0.1802571713924408 Acc : 0.9460651289009498, Val Acc : 0.9520153550863724\n",
            "Epochs : 42\n"
          ]
        },
        {
          "output_type": "stream",
          "name": "stderr",
          "text": [
            "100%|██████████| 20/20 [00:05<00:00,  3.37it/s]\n"
          ]
        },
        {
          "output_type": "stream",
          "name": "stdout",
          "text": [
            "Loss : 0.18880413472652435, Val Loss : 0.18417668342590332 Acc : 0.9413161465400272, Val Acc : 0.9481765834932822\n",
            "Epochs : 43\n"
          ]
        },
        {
          "output_type": "stream",
          "name": "stderr",
          "text": [
            "100%|██████████| 20/20 [00:06<00:00,  3.17it/s]\n"
          ]
        },
        {
          "output_type": "stream",
          "name": "stdout",
          "text": [
            "Loss : 0.18580807745456696, Val Loss : 0.1766408234834671 Acc : 0.94640434192673, Val Acc : 0.9520153550863724\n",
            "Epochs : 44\n"
          ]
        },
        {
          "output_type": "stream",
          "name": "stderr",
          "text": [
            "100%|██████████| 20/20 [00:06<00:00,  3.26it/s]\n"
          ]
        },
        {
          "output_type": "stream",
          "name": "stdout",
          "text": [
            "Loss : 0.18527163565158844, Val Loss : 0.17616772651672363 Acc : 0.9470827679782904, Val Acc : 0.9520153550863724\n",
            "Epochs : 45\n"
          ]
        },
        {
          "output_type": "stream",
          "name": "stderr",
          "text": [
            "100%|██████████| 20/20 [00:06<00:00,  3.02it/s]\n"
          ]
        },
        {
          "output_type": "stream",
          "name": "stdout",
          "text": [
            "Loss : 0.18372035026550293, Val Loss : 0.1748088002204895 Acc : 0.9474219810040706, Val Acc : 0.9520153550863724\n",
            "Epochs : 46\n"
          ]
        },
        {
          "output_type": "stream",
          "name": "stderr",
          "text": [
            "100%|██████████| 20/20 [00:06<00:00,  3.24it/s]\n"
          ]
        },
        {
          "output_type": "stream",
          "name": "stdout",
          "text": [
            "Loss : 0.1822548508644104, Val Loss : 0.17353349924087524 Acc : 0.9474219810040706, Val Acc : 0.9539347408829175\n",
            "Epochs : 47\n"
          ]
        },
        {
          "output_type": "stream",
          "name": "stderr",
          "text": [
            "100%|██████████| 20/20 [00:06<00:00,  3.04it/s]\n"
          ]
        },
        {
          "output_type": "stream",
          "name": "stdout",
          "text": [
            "Loss : 0.1817830204963684, Val Loss : 0.17312495410442352 Acc : 0.9474219810040706, Val Acc : 0.9539347408829175\n",
            "Epochs : 48\n"
          ]
        },
        {
          "output_type": "stream",
          "name": "stderr",
          "text": [
            "100%|██████████| 20/20 [00:05<00:00,  3.89it/s]\n"
          ]
        },
        {
          "output_type": "stream",
          "name": "stdout",
          "text": [
            "Loss : 0.181319460272789, Val Loss : 0.17272314429283142 Acc : 0.9474219810040706, Val Acc : 0.9539347408829175\n",
            "Epochs : 49\n"
          ]
        },
        {
          "output_type": "stream",
          "name": "stderr",
          "text": [
            "100%|██████████| 20/20 [00:06<00:00,  3.20it/s]\n"
          ]
        },
        {
          "output_type": "stream",
          "name": "stdout",
          "text": [
            "Loss : 0.18041348457336426, Val Loss : 0.17194165289402008 Acc : 0.9474219810040706, Val Acc : 0.9539347408829175\n",
            "Epochs : 50\n"
          ]
        },
        {
          "output_type": "stream",
          "name": "stderr",
          "text": [
            "100%|██████████| 20/20 [00:05<00:00,  3.38it/s]\n"
          ]
        },
        {
          "output_type": "stream",
          "name": "stdout",
          "text": [
            "Loss : 0.18041390180587769, Val Loss : 0.17194202542304993 Acc : 0.9474219810040706, Val Acc : 0.9539347408829175\n",
            "Epochs : 51\n"
          ]
        },
        {
          "output_type": "stream",
          "name": "stderr",
          "text": [
            "100%|██████████| 20/20 [00:06<00:00,  3.09it/s]\n"
          ]
        },
        {
          "output_type": "stream",
          "name": "stdout",
          "text": [
            "Loss : 0.180193692445755, Val Loss : 0.1717531979084015 Acc : 0.9474219810040706, Val Acc : 0.9539347408829175\n",
            "Epochs : 52\n"
          ]
        },
        {
          "output_type": "stream",
          "name": "stderr",
          "text": [
            "100%|██████████| 20/20 [00:06<00:00,  3.31it/s]\n"
          ]
        },
        {
          "output_type": "stream",
          "name": "stdout",
          "text": [
            "Loss : 0.17948780953884125, Val Loss : 0.17114809155464172 Acc : 0.9477611940298507, Val Acc : 0.9539347408829175\n",
            "Epochs : 53\n"
          ]
        },
        {
          "output_type": "stream",
          "name": "stderr",
          "text": [
            "100%|██████████| 20/20 [00:05<00:00,  3.53it/s]\n"
          ]
        },
        {
          "output_type": "stream",
          "name": "stdout",
          "text": [
            "Loss : 0.17868110537528992, Val Loss : 0.17045973241329193 Acc : 0.9477611940298507, Val Acc : 0.9539347408829175\n",
            "Epochs : 54\n"
          ]
        },
        {
          "output_type": "stream",
          "name": "stderr",
          "text": [
            "100%|██████████| 20/20 [00:06<00:00,  3.31it/s]\n"
          ]
        },
        {
          "output_type": "stream",
          "name": "stdout",
          "text": [
            "Loss : 0.17786957323551178, Val Loss : 0.16976746916770935 Acc : 0.9481004070556309, Val Acc : 0.9539347408829175\n",
            "Epochs : 55\n"
          ]
        },
        {
          "output_type": "stream",
          "name": "stderr",
          "text": [
            "100%|██████████| 20/20 [00:05<00:00,  3.39it/s]\n"
          ]
        },
        {
          "output_type": "stream",
          "name": "stdout",
          "text": [
            "Loss : 0.1774696409702301, Val Loss : 0.1694270819425583 Acc : 0.9481004070556309, Val Acc : 0.9539347408829175\n",
            "Epochs : 56\n"
          ]
        },
        {
          "output_type": "stream",
          "name": "stderr",
          "text": [
            "100%|██████████| 20/20 [00:05<00:00,  3.40it/s]\n"
          ]
        },
        {
          "output_type": "stream",
          "name": "stdout",
          "text": [
            "Loss : 0.17707586288452148, Val Loss : 0.16909226775169373 Acc : 0.9481004070556309, Val Acc : 0.9539347408829175\n",
            "Epochs : 57\n"
          ]
        },
        {
          "output_type": "stream",
          "name": "stderr",
          "text": [
            "100%|██████████| 20/20 [00:05<00:00,  3.70it/s]\n"
          ]
        },
        {
          "output_type": "stream",
          "name": "stdout",
          "text": [
            "Loss : 0.17668752372264862, Val Loss : 0.16876518726348877 Acc : 0.9484396200814111, Val Acc : 0.9539347408829175\n",
            "Epochs : 58\n"
          ]
        },
        {
          "output_type": "stream",
          "name": "stderr",
          "text": [
            "100%|██████████| 20/20 [00:06<00:00,  3.13it/s]\n"
          ]
        },
        {
          "output_type": "stream",
          "name": "stdout",
          "text": [
            "Loss : 0.17592597007751465, Val Loss : 0.16812841594219208 Acc : 0.9484396200814111, Val Acc : 0.9539347408829175\n",
            "Epochs : 59\n"
          ]
        },
        {
          "output_type": "stream",
          "name": "stderr",
          "text": [
            "100%|██████████| 20/20 [00:05<00:00,  3.73it/s]\n"
          ]
        },
        {
          "output_type": "stream",
          "name": "stdout",
          "text": [
            "Loss : 0.17555317282676697, Val Loss : 0.16781780123710632 Acc : 0.9484396200814111, Val Acc : 0.9539347408829175\n",
            "Epochs : 60\n"
          ]
        },
        {
          "output_type": "stream",
          "name": "stderr",
          "text": [
            "100%|██████████| 20/20 [00:05<00:00,  3.53it/s]\n"
          ]
        },
        {
          "output_type": "stream",
          "name": "stdout",
          "text": [
            "Loss : 0.17518632113933563, Val Loss : 0.1675109565258026 Acc : 0.9484396200814111, Val Acc : 0.9539347408829175\n",
            "Epochs : 61\n"
          ]
        },
        {
          "output_type": "stream",
          "name": "stderr",
          "text": [
            "100%|██████████| 20/20 [00:06<00:00,  3.18it/s]\n"
          ]
        },
        {
          "output_type": "stream",
          "name": "stdout",
          "text": [
            "Loss : 0.17482493817806244, Val Loss : 0.16720741987228394 Acc : 0.9484396200814111, Val Acc : 0.9539347408829175\n",
            "Epochs : 62\n"
          ]
        },
        {
          "output_type": "stream",
          "name": "stderr",
          "text": [
            "100%|██████████| 20/20 [00:06<00:00,  3.16it/s]\n"
          ]
        },
        {
          "output_type": "stream",
          "name": "stdout",
          "text": [
            "Loss : 0.17446863651275635, Val Loss : 0.16690731048583984 Acc : 0.9484396200814111, Val Acc : 0.9539347408829175\n",
            "Epochs : 63\n"
          ]
        },
        {
          "output_type": "stream",
          "name": "stderr",
          "text": [
            "100%|██████████| 20/20 [00:05<00:00,  3.45it/s]\n"
          ]
        },
        {
          "output_type": "stream",
          "name": "stdout",
          "text": [
            "Loss : 0.1741168349981308, Val Loss : 0.1666126847267151 Acc : 0.9484396200814111, Val Acc : 0.9539347408829175\n",
            "Epochs : 64\n"
          ]
        },
        {
          "output_type": "stream",
          "name": "stderr",
          "text": [
            "100%|██████████| 20/20 [00:06<00:00,  3.02it/s]\n"
          ]
        },
        {
          "output_type": "stream",
          "name": "stdout",
          "text": [
            "Loss : 0.1737692654132843, Val Loss : 0.16632401943206787 Acc : 0.9484396200814111, Val Acc : 0.9539347408829175\n",
            "Epochs : 65\n"
          ]
        },
        {
          "output_type": "stream",
          "name": "stderr",
          "text": [
            "100%|██████████| 20/20 [00:04<00:00,  4.26it/s]\n"
          ]
        },
        {
          "output_type": "stream",
          "name": "stdout",
          "text": [
            "Loss : 0.17342591285705566, Val Loss : 0.16604062914848328 Acc : 0.9491180461329715, Val Acc : 0.9539347408829175\n",
            "Epochs : 66\n"
          ]
        },
        {
          "output_type": "stream",
          "name": "stderr",
          "text": [
            "100%|██████████| 20/20 [00:06<00:00,  3.31it/s]\n"
          ]
        },
        {
          "output_type": "stream",
          "name": "stdout",
          "text": [
            "Loss : 0.17275087535381317, Val Loss : 0.16548827290534973 Acc : 0.9494572591587517, Val Acc : 0.9539347408829175\n",
            "Epochs : 67\n"
          ]
        },
        {
          "output_type": "stream",
          "name": "stderr",
          "text": [
            "100%|██████████| 20/20 [00:06<00:00,  3.23it/s]\n"
          ]
        },
        {
          "output_type": "stream",
          "name": "stdout",
          "text": [
            "Loss : 0.17241936922073364, Val Loss : 0.16521719098091125 Acc : 0.9501356852103121, Val Acc : 0.9539347408829175\n",
            "Epochs : 68\n"
          ]
        },
        {
          "output_type": "stream",
          "name": "stderr",
          "text": [
            "100%|██████████| 20/20 [00:06<00:00,  3.13it/s]\n"
          ]
        },
        {
          "output_type": "stream",
          "name": "stdout",
          "text": [
            "Loss : 0.17209157347679138, Val Loss : 0.16494989395141602 Acc : 0.9501356852103121, Val Acc : 0.9539347408829175\n",
            "Epochs : 69\n"
          ]
        },
        {
          "output_type": "stream",
          "name": "stderr",
          "text": [
            "100%|██████████| 20/20 [00:05<00:00,  3.51it/s]\n"
          ]
        },
        {
          "output_type": "stream",
          "name": "stdout",
          "text": [
            "Loss : 0.1714480072259903, Val Loss : 0.1644289493560791 Acc : 0.9504748982360922, Val Acc : 0.9539347408829175\n",
            "Epochs : 70\n"
          ]
        },
        {
          "output_type": "stream",
          "name": "stderr",
          "text": [
            "100%|██████████| 20/20 [00:05<00:00,  3.56it/s]\n"
          ]
        },
        {
          "output_type": "stream",
          "name": "stdout",
          "text": [
            "Loss : 0.17113274335861206, Val Loss : 0.1641741544008255 Acc : 0.9504748982360922, Val Acc : 0.9539347408829175\n",
            "Epochs : 71\n"
          ]
        },
        {
          "output_type": "stream",
          "name": "stderr",
          "text": [
            "100%|██████████| 20/20 [00:06<00:00,  3.03it/s]\n"
          ]
        },
        {
          "output_type": "stream",
          "name": "stdout",
          "text": [
            "Loss : 0.17021439969539642, Val Loss : 0.16342860460281372 Acc : 0.9508141112618724, Val Acc : 0.9539347408829175\n",
            "Epochs : 72\n"
          ]
        },
        {
          "output_type": "stream",
          "name": "stderr",
          "text": [
            "100%|██████████| 20/20 [00:05<00:00,  3.42it/s]\n"
          ]
        },
        {
          "output_type": "stream",
          "name": "stdout",
          "text": [
            "Loss : 0.1693343222141266, Val Loss : 0.16272397339344025 Acc : 0.9511533242876526, Val Acc : 0.9539347408829175\n",
            "Epochs : 73\n"
          ]
        },
        {
          "output_type": "stream",
          "name": "stderr",
          "text": [
            "100%|██████████| 20/20 [00:06<00:00,  3.16it/s]\n"
          ]
        },
        {
          "output_type": "stream",
          "name": "stdout",
          "text": [
            "Loss : 0.16904856264591217, Val Loss : 0.16249312460422516 Acc : 0.9511533242876526, Val Acc : 0.9539347408829175\n",
            "Epochs : 74\n"
          ]
        },
        {
          "output_type": "stream",
          "name": "stderr",
          "text": [
            "100%|██████████| 20/20 [00:06<00:00,  3.15it/s]\n"
          ]
        },
        {
          "output_type": "stream",
          "name": "stdout",
          "text": [
            "Loss : 0.16876636445522308, Val Loss : 0.16226619482040405 Acc : 0.9514925373134329, Val Acc : 0.9539347408829175\n",
            "Epochs : 75\n"
          ]
        },
        {
          "output_type": "stream",
          "name": "stderr",
          "text": [
            "100%|██████████| 20/20 [00:05<00:00,  3.78it/s]\n"
          ]
        },
        {
          "output_type": "stream",
          "name": "stdout",
          "text": [
            "Loss : 0.16848737001419067, Val Loss : 0.16204366087913513 Acc : 0.9514925373134329, Val Acc : 0.9539347408829175\n",
            "Epochs : 76\n"
          ]
        },
        {
          "output_type": "stream",
          "name": "stderr",
          "text": [
            "100%|██████████| 20/20 [00:06<00:00,  3.02it/s]\n"
          ]
        },
        {
          "output_type": "stream",
          "name": "stdout",
          "text": [
            "Loss : 0.16793981194496155, Val Loss : 0.1616079956293106 Acc : 0.9514925373134329, Val Acc : 0.9539347408829175\n",
            "Epochs : 77\n"
          ]
        },
        {
          "output_type": "stream",
          "name": "stderr",
          "text": [
            "100%|██████████| 20/20 [00:05<00:00,  3.70it/s]\n"
          ]
        },
        {
          "output_type": "stream",
          "name": "stdout",
          "text": [
            "Loss : 0.16740474104881287, Val Loss : 0.16118314862251282 Acc : 0.9521709633649932, Val Acc : 0.9558541266794626\n",
            "Epochs : 78\n"
          ]
        },
        {
          "output_type": "stream",
          "name": "stderr",
          "text": [
            "100%|██████████| 20/20 [00:05<00:00,  3.72it/s]\n"
          ]
        },
        {
          "output_type": "stream",
          "name": "stdout",
          "text": [
            "Loss : 0.1671413630247116, Val Loss : 0.16097646951675415 Acc : 0.9521709633649932, Val Acc : 0.9558541266794626\n",
            "Epochs : 79\n"
          ]
        },
        {
          "output_type": "stream",
          "name": "stderr",
          "text": [
            "100%|██████████| 20/20 [00:05<00:00,  3.36it/s]\n"
          ]
        },
        {
          "output_type": "stream",
          "name": "stdout",
          "text": [
            "Loss : 0.1668807417154312, Val Loss : 0.16077157855033875 Acc : 0.9521709633649932, Val Acc : 0.9558541266794626\n",
            "Epochs : 80\n"
          ]
        },
        {
          "output_type": "stream",
          "name": "stderr",
          "text": [
            "100%|██████████| 20/20 [00:05<00:00,  3.83it/s]\n"
          ]
        },
        {
          "output_type": "stream",
          "name": "stdout",
          "text": [
            "Loss : 0.16675230860710144, Val Loss : 0.16066932678222656 Acc : 0.9521709633649932, Val Acc : 0.9558541266794626\n",
            "Epochs : 81\n"
          ]
        },
        {
          "output_type": "stream",
          "name": "stderr",
          "text": [
            "100%|██████████| 20/20 [00:06<00:00,  3.20it/s]\n"
          ]
        },
        {
          "output_type": "stream",
          "name": "stdout",
          "text": [
            "Loss : 0.16656069457530975, Val Loss : 0.1605173498392105 Acc : 0.9521709633649932, Val Acc : 0.9558541266794626\n",
            "Epochs : 82\n"
          ]
        },
        {
          "output_type": "stream",
          "name": "stderr",
          "text": [
            "100%|██████████| 20/20 [00:06<00:00,  3.32it/s]\n"
          ]
        },
        {
          "output_type": "stream",
          "name": "stdout",
          "text": [
            "Loss : 0.16610276699066162, Val Loss : 0.1601586639881134 Acc : 0.9528493894165536, Val Acc : 0.9558541266794626\n",
            "Epochs : 83\n"
          ]
        },
        {
          "output_type": "stream",
          "name": "stderr",
          "text": [
            "100%|██████████| 20/20 [00:06<00:00,  3.12it/s]\n"
          ]
        },
        {
          "output_type": "stream",
          "name": "stdout",
          "text": [
            "Loss : 0.16586098074913025, Val Loss : 0.15996938943862915 Acc : 0.9525101763907734, Val Acc : 0.9558541266794626\n",
            "Epochs : 84\n"
          ]
        },
        {
          "output_type": "stream",
          "name": "stderr",
          "text": [
            "100%|██████████| 20/20 [00:06<00:00,  3.07it/s]\n"
          ]
        },
        {
          "output_type": "stream",
          "name": "stdout",
          "text": [
            "Loss : 0.16561771929264069, Val Loss : 0.15977776050567627 Acc : 0.9525101763907734, Val Acc : 0.9558541266794626\n",
            "Epochs : 85\n"
          ]
        },
        {
          "output_type": "stream",
          "name": "stderr",
          "text": [
            "100%|██████████| 20/20 [00:05<00:00,  3.73it/s]\n"
          ]
        },
        {
          "output_type": "stream",
          "name": "stdout",
          "text": [
            "Loss : 0.16537484526634216, Val Loss : 0.1595878154039383 Acc : 0.9525101763907734, Val Acc : 0.9558541266794626\n",
            "Epochs : 86\n"
          ]
        },
        {
          "output_type": "stream",
          "name": "stderr",
          "text": [
            "100%|██████████| 20/20 [00:04<00:00,  4.04it/s]\n"
          ]
        },
        {
          "output_type": "stream",
          "name": "stdout",
          "text": [
            "Loss : 0.16513368487358093, Val Loss : 0.15939952433109283 Acc : 0.9525101763907734, Val Acc : 0.9558541266794626\n",
            "Epochs : 87\n"
          ]
        },
        {
          "output_type": "stream",
          "name": "stderr",
          "text": [
            "100%|██████████| 20/20 [00:05<00:00,  3.71it/s]\n"
          ]
        },
        {
          "output_type": "stream",
          "name": "stdout",
          "text": [
            "Loss : 0.16489505767822266, Val Loss : 0.1592118740081787 Acc : 0.9521709633649932, Val Acc : 0.9558541266794626\n",
            "Epochs : 88\n"
          ]
        },
        {
          "output_type": "stream",
          "name": "stderr",
          "text": [
            "100%|██████████| 20/20 [00:05<00:00,  3.45it/s]\n"
          ]
        },
        {
          "output_type": "stream",
          "name": "stdout",
          "text": [
            "Loss : 0.1646588295698166, Val Loss : 0.15902654826641083 Acc : 0.9521709633649932, Val Acc : 0.9558541266794626\n",
            "Epochs : 89\n"
          ]
        },
        {
          "output_type": "stream",
          "name": "stderr",
          "text": [
            "100%|██████████| 20/20 [00:06<00:00,  3.30it/s]\n"
          ]
        },
        {
          "output_type": "stream",
          "name": "stdout",
          "text": [
            "Loss : 0.16442497074604034, Val Loss : 0.15884406864643097 Acc : 0.9521709633649932, Val Acc : 0.9558541266794626\n",
            "Epochs : 90\n"
          ]
        },
        {
          "output_type": "stream",
          "name": "stderr",
          "text": [
            "100%|██████████| 20/20 [00:05<00:00,  3.55it/s]\n"
          ]
        },
        {
          "output_type": "stream",
          "name": "stdout",
          "text": [
            "Loss : 0.16419337689876556, Val Loss : 0.15866433084011078 Acc : 0.9521709633649932, Val Acc : 0.9558541266794626\n",
            "Epochs : 91\n"
          ]
        },
        {
          "output_type": "stream",
          "name": "stderr",
          "text": [
            "100%|██████████| 20/20 [00:05<00:00,  3.62it/s]\n"
          ]
        },
        {
          "output_type": "stream",
          "name": "stdout",
          "text": [
            "Loss : 0.16396410763263702, Val Loss : 0.15848688781261444 Acc : 0.9521709633649932, Val Acc : 0.9558541266794626\n",
            "Epochs : 92\n"
          ]
        },
        {
          "output_type": "stream",
          "name": "stderr",
          "text": [
            "100%|██████████| 20/20 [00:06<00:00,  2.87it/s]\n"
          ]
        },
        {
          "output_type": "stream",
          "name": "stdout",
          "text": [
            "Loss : 0.16373731195926666, Val Loss : 0.1583096981048584 Acc : 0.9525101763907734, Val Acc : 0.9558541266794626\n",
            "Epochs : 93\n"
          ]
        },
        {
          "output_type": "stream",
          "name": "stderr",
          "text": [
            "100%|██████████| 20/20 [00:06<00:00,  3.23it/s]\n"
          ]
        },
        {
          "output_type": "stream",
          "name": "stdout",
          "text": [
            "Loss : 0.16328944265842438, Val Loss : 0.15795990824699402 Acc : 0.9525101763907734, Val Acc : 0.9558541266794626\n",
            "Epochs : 94\n"
          ]
        },
        {
          "output_type": "stream",
          "name": "stderr",
          "text": [
            "100%|██████████| 20/20 [00:05<00:00,  3.42it/s]\n"
          ]
        },
        {
          "output_type": "stream",
          "name": "stdout",
          "text": [
            "Loss : 0.16284964978694916, Val Loss : 0.15762053430080414 Acc : 0.9525101763907734, Val Acc : 0.9558541266794626\n",
            "Epochs : 95\n"
          ]
        },
        {
          "output_type": "stream",
          "name": "stderr",
          "text": [
            "100%|██████████| 20/20 [00:07<00:00,  2.81it/s]\n"
          ]
        },
        {
          "output_type": "stream",
          "name": "stdout",
          "text": [
            "Loss : 0.16263233125209808, Val Loss : 0.15745358169078827 Acc : 0.9525101763907734, Val Acc : 0.9558541266794626\n",
            "Epochs : 96\n"
          ]
        },
        {
          "output_type": "stream",
          "name": "stderr",
          "text": [
            "100%|██████████| 20/20 [00:05<00:00,  3.35it/s]\n"
          ]
        },
        {
          "output_type": "stream",
          "name": "stdout",
          "text": [
            "Loss : 0.16241751611232758, Val Loss : 0.15728789567947388 Acc : 0.9525101763907734, Val Acc : 0.9558541266794626\n",
            "Epochs : 97\n"
          ]
        },
        {
          "output_type": "stream",
          "name": "stderr",
          "text": [
            "100%|██████████| 20/20 [00:06<00:00,  3.16it/s]\n"
          ]
        },
        {
          "output_type": "stream",
          "name": "stdout",
          "text": [
            "Loss : 0.16220498085021973, Val Loss : 0.15712422132492065 Acc : 0.9525101763907734, Val Acc : 0.9558541266794626\n",
            "Epochs : 98\n"
          ]
        },
        {
          "output_type": "stream",
          "name": "stderr",
          "text": [
            "100%|██████████| 20/20 [00:06<00:00,  3.04it/s]\n"
          ]
        },
        {
          "output_type": "stream",
          "name": "stdout",
          "text": [
            "Loss : 0.16199436783790588, Val Loss : 0.15696236491203308 Acc : 0.9525101763907734, Val Acc : 0.9558541266794626\n",
            "Epochs : 99\n"
          ]
        },
        {
          "output_type": "stream",
          "name": "stderr",
          "text": [
            "100%|██████████| 20/20 [00:09<00:00,  2.12it/s]\n"
          ]
        },
        {
          "output_type": "stream",
          "name": "stdout",
          "text": [
            "Loss : 0.1617855429649353, Val Loss : 0.1568029820919037 Acc : 0.9525101763907734, Val Acc : 0.9558541266794626\n",
            "Epochs : 100\n"
          ]
        },
        {
          "output_type": "stream",
          "name": "stderr",
          "text": [
            "100%|██████████| 20/20 [00:06<00:00,  3.06it/s]\n"
          ]
        },
        {
          "output_type": "stream",
          "name": "stdout",
          "text": [
            "Loss : 0.16137324273586273, Val Loss : 0.15648598968982697 Acc : 0.9525101763907734, Val Acc : 0.9558541266794626\n",
            "Epochs : 101\n"
          ]
        },
        {
          "output_type": "stream",
          "name": "stderr",
          "text": [
            "100%|██████████| 20/20 [00:05<00:00,  3.63it/s]\n"
          ]
        },
        {
          "output_type": "stream",
          "name": "stdout",
          "text": [
            "Loss : 0.16116967797279358, Val Loss : 0.15632973611354828 Acc : 0.9525101763907734, Val Acc : 0.9558541266794626\n",
            "Epochs : 102\n"
          ]
        },
        {
          "output_type": "stream",
          "name": "stderr",
          "text": [
            "100%|██████████| 20/20 [00:06<00:00,  3.10it/s]\n"
          ]
        },
        {
          "output_type": "stream",
          "name": "stdout",
          "text": [
            "Loss : 0.16096793115139008, Val Loss : 0.1561768800020218 Acc : 0.9525101763907734, Val Acc : 0.9558541266794626\n",
            "Epochs : 103\n"
          ]
        },
        {
          "output_type": "stream",
          "name": "stderr",
          "text": [
            "100%|██████████| 20/20 [00:06<00:00,  3.05it/s]\n"
          ]
        },
        {
          "output_type": "stream",
          "name": "stdout",
          "text": [
            "Loss : 0.16057071089744568, Val Loss : 0.15587270259857178 Acc : 0.9525101763907734, Val Acc : 0.9558541266794626\n",
            "Epochs : 104\n"
          ]
        },
        {
          "output_type": "stream",
          "name": "stderr",
          "text": [
            "100%|██████████| 20/20 [00:05<00:00,  3.43it/s]\n"
          ]
        },
        {
          "output_type": "stream",
          "name": "stdout",
          "text": [
            "Loss : 0.16037511825561523, Val Loss : 0.155722513794899 Acc : 0.9528493894165536, Val Acc : 0.9558541266794626\n",
            "Epochs : 105\n"
          ]
        },
        {
          "output_type": "stream",
          "name": "stderr",
          "text": [
            "100%|██████████| 20/20 [00:06<00:00,  2.99it/s]\n"
          ]
        },
        {
          "output_type": "stream",
          "name": "stdout",
          "text": [
            "Loss : 0.15979906916618347, Val Loss : 0.15527980029582977 Acc : 0.9531886024423338, Val Acc : 0.9558541266794626\n",
            "Epochs : 106\n"
          ]
        },
        {
          "output_type": "stream",
          "name": "stderr",
          "text": [
            "100%|██████████| 20/20 [00:05<00:00,  3.35it/s]\n"
          ]
        },
        {
          "output_type": "stream",
          "name": "stdout",
          "text": [
            "Loss : 0.15961027145385742, Val Loss : 0.15513397753238678 Acc : 0.9531886024423338, Val Acc : 0.9558541266794626\n",
            "Epochs : 107\n"
          ]
        },
        {
          "output_type": "stream",
          "name": "stderr",
          "text": [
            "100%|██████████| 20/20 [00:07<00:00,  2.70it/s]\n"
          ]
        },
        {
          "output_type": "stream",
          "name": "stdout",
          "text": [
            "Loss : 0.15923736989498138, Val Loss : 0.1548435240983963 Acc : 0.9531886024423338, Val Acc : 0.9558541266794626\n",
            "Epochs : 108\n"
          ]
        },
        {
          "output_type": "stream",
          "name": "stderr",
          "text": [
            "100%|██████████| 20/20 [00:05<00:00,  3.58it/s]\n"
          ]
        },
        {
          "output_type": "stream",
          "name": "stdout",
          "text": [
            "Loss : 0.1590532660484314, Val Loss : 0.15470105409622192 Acc : 0.9531886024423338, Val Acc : 0.9558541266794626\n",
            "Epochs : 109\n"
          ]
        },
        {
          "output_type": "stream",
          "name": "stderr",
          "text": [
            "100%|██████████| 20/20 [00:06<00:00,  3.22it/s]\n"
          ]
        },
        {
          "output_type": "stream",
          "name": "stdout",
          "text": [
            "Loss : 0.1586897075176239, Val Loss : 0.1544184684753418 Acc : 0.9535278154681139, Val Acc : 0.9558541266794626\n",
            "Epochs : 110\n"
          ]
        },
        {
          "output_type": "stream",
          "name": "stderr",
          "text": [
            "100%|██████████| 20/20 [00:05<00:00,  3.47it/s]\n"
          ]
        },
        {
          "output_type": "stream",
          "name": "stdout",
          "text": [
            "Loss : 0.15833193063735962, Val Loss : 0.1541415899991989 Acc : 0.9535278154681139, Val Acc : 0.9558541266794626\n",
            "Epochs : 111\n"
          ]
        },
        {
          "output_type": "stream",
          "name": "stderr",
          "text": [
            "100%|██████████| 20/20 [00:06<00:00,  3.28it/s]\n"
          ]
        },
        {
          "output_type": "stream",
          "name": "stdout",
          "text": [
            "Loss : 0.15811210870742798, Val Loss : 0.15396922826766968 Acc : 0.9535278154681139, Val Acc : 0.9558541266794626\n",
            "Epochs : 112\n"
          ]
        },
        {
          "output_type": "stream",
          "name": "stderr",
          "text": [
            "100%|██████████| 20/20 [00:05<00:00,  3.67it/s]\n"
          ]
        },
        {
          "output_type": "stream",
          "name": "stdout",
          "text": [
            "Loss : 0.15795931220054626, Val Loss : 0.15385018289089203 Acc : 0.9535278154681139, Val Acc : 0.9558541266794626\n",
            "Epochs : 113\n"
          ]
        },
        {
          "output_type": "stream",
          "name": "stderr",
          "text": [
            "100%|██████████| 20/20 [00:06<00:00,  3.25it/s]\n"
          ]
        },
        {
          "output_type": "stream",
          "name": "stdout",
          "text": [
            "Loss : 0.15746092796325684, Val Loss : 0.15346543490886688 Acc : 0.9538670284938942, Val Acc : 0.9558541266794626\n",
            "Epochs : 114\n"
          ]
        },
        {
          "output_type": "stream",
          "name": "stderr",
          "text": [
            "100%|██████████| 20/20 [00:05<00:00,  3.44it/s]\n"
          ]
        },
        {
          "output_type": "stream",
          "name": "stdout",
          "text": [
            "Loss : 0.1572919487953186, Val Loss : 0.1533355861902237 Acc : 0.9538670284938942, Val Acc : 0.9558541266794626\n",
            "Epochs : 115\n"
          ]
        },
        {
          "output_type": "stream",
          "name": "stderr",
          "text": [
            "100%|██████████| 20/20 [00:05<00:00,  3.79it/s]\n"
          ]
        },
        {
          "output_type": "stream",
          "name": "stdout",
          "text": [
            "Loss : 0.15712358057498932, Val Loss : 0.15320493280887604 Acc : 0.9538670284938942, Val Acc : 0.9558541266794626\n",
            "Epochs : 116\n"
          ]
        },
        {
          "output_type": "stream",
          "name": "stderr",
          "text": [
            "100%|██████████| 20/20 [00:06<00:00,  3.20it/s]\n"
          ]
        },
        {
          "output_type": "stream",
          "name": "stdout",
          "text": [
            "Loss : 0.15662534534931183, Val Loss : 0.1528175324201584 Acc : 0.9538670284938942, Val Acc : 0.9558541266794626\n",
            "Epochs : 117\n"
          ]
        },
        {
          "output_type": "stream",
          "name": "stderr",
          "text": [
            "100%|██████████| 20/20 [00:05<00:00,  3.53it/s]\n"
          ]
        },
        {
          "output_type": "stream",
          "name": "stdout",
          "text": [
            "Loss : 0.15646204352378845, Val Loss : 0.1526925414800644 Acc : 0.9538670284938942, Val Acc : 0.9558541266794626\n",
            "Epochs : 118\n"
          ]
        },
        {
          "output_type": "stream",
          "name": "stderr",
          "text": [
            "100%|██████████| 20/20 [00:05<00:00,  3.38it/s]\n"
          ]
        },
        {
          "output_type": "stream",
          "name": "stdout",
          "text": [
            "Loss : 0.1563001275062561, Val Loss : 0.15256772935390472 Acc : 0.9538670284938942, Val Acc : 0.9558541266794626\n",
            "Epochs : 119\n"
          ]
        },
        {
          "output_type": "stream",
          "name": "stderr",
          "text": [
            "100%|██████████| 20/20 [00:06<00:00,  3.26it/s]\n"
          ]
        },
        {
          "output_type": "stream",
          "name": "stdout",
          "text": [
            "Loss : 0.15613941848278046, Val Loss : 0.15244339406490326 Acc : 0.9538670284938942, Val Acc : 0.9558541266794626\n",
            "Epochs : 120\n"
          ]
        },
        {
          "output_type": "stream",
          "name": "stderr",
          "text": [
            "100%|██████████| 20/20 [00:06<00:00,  3.27it/s]\n"
          ]
        },
        {
          "output_type": "stream",
          "name": "stdout",
          "text": [
            "Loss : 0.15597985684871674, Val Loss : 0.15231989324092865 Acc : 0.9542062415196744, Val Acc : 0.9558541266794626\n",
            "Epochs : 121\n"
          ]
        },
        {
          "output_type": "stream",
          "name": "stderr",
          "text": [
            "100%|██████████| 20/20 [00:06<00:00,  3.26it/s]\n"
          ]
        },
        {
          "output_type": "stream",
          "name": "stdout",
          "text": [
            "Loss : 0.15582135319709778, Val Loss : 0.1521986871957779 Acc : 0.9542062415196744, Val Acc : 0.9558541266794626\n",
            "Epochs : 122\n"
          ]
        },
        {
          "output_type": "stream",
          "name": "stderr",
          "text": [
            "100%|██████████| 20/20 [00:06<00:00,  3.25it/s]\n"
          ]
        },
        {
          "output_type": "stream",
          "name": "stdout",
          "text": [
            "Loss : 0.15550687909126282, Val Loss : 0.15196242928504944 Acc : 0.9542062415196744, Val Acc : 0.9558541266794626\n",
            "Epochs : 123\n"
          ]
        },
        {
          "output_type": "stream",
          "name": "stderr",
          "text": [
            "100%|██████████| 20/20 [00:05<00:00,  3.40it/s]\n"
          ]
        },
        {
          "output_type": "stream",
          "name": "stdout",
          "text": [
            "Loss : 0.1553511768579483, Val Loss : 0.1518445611000061 Acc : 0.9542062415196744, Val Acc : 0.9558541266794626\n",
            "Epochs : 124\n"
          ]
        },
        {
          "output_type": "stream",
          "name": "stderr",
          "text": [
            "100%|██████████| 20/20 [00:06<00:00,  3.20it/s]\n"
          ]
        },
        {
          "output_type": "stream",
          "name": "stdout",
          "text": [
            "Loss : 0.15504321455955505, Val Loss : 0.15161022543907166 Acc : 0.9542062415196744, Val Acc : 0.9558541266794626\n",
            "Epochs : 125\n"
          ]
        },
        {
          "output_type": "stream",
          "name": "stderr",
          "text": [
            "100%|██████████| 20/20 [00:06<00:00,  3.04it/s]\n"
          ]
        },
        {
          "output_type": "stream",
          "name": "stdout",
          "text": [
            "Loss : 0.1545892059803009, Val Loss : 0.1512676477432251 Acc : 0.9545454545454546, Val Acc : 0.9558541266794626\n",
            "Epochs : 126\n"
          ]
        },
        {
          "output_type": "stream",
          "name": "stderr",
          "text": [
            "100%|██████████| 20/20 [00:06<00:00,  2.99it/s]\n"
          ]
        },
        {
          "output_type": "stream",
          "name": "stdout",
          "text": [
            "Loss : 0.1544399857521057, Val Loss : 0.15115465223789215 Acc : 0.9545454545454546, Val Acc : 0.9558541266794626\n",
            "Epochs : 127\n"
          ]
        },
        {
          "output_type": "stream",
          "name": "stderr",
          "text": [
            "100%|██████████| 20/20 [00:05<00:00,  3.64it/s]\n"
          ]
        },
        {
          "output_type": "stream",
          "name": "stdout",
          "text": [
            "Loss : 0.15429159998893738, Val Loss : 0.15104198455810547 Acc : 0.9545454545454546, Val Acc : 0.9558541266794626\n",
            "Epochs : 128\n"
          ]
        },
        {
          "output_type": "stream",
          "name": "stderr",
          "text": [
            "100%|██████████| 20/20 [00:06<00:00,  2.98it/s]\n"
          ]
        },
        {
          "output_type": "stream",
          "name": "stdout",
          "text": [
            "Loss : 0.15414416790008545, Val Loss : 0.15093077719211578 Acc : 0.9545454545454546, Val Acc : 0.9558541266794626\n",
            "Epochs : 129\n"
          ]
        },
        {
          "output_type": "stream",
          "name": "stderr",
          "text": [
            "100%|██████████| 20/20 [00:06<00:00,  3.16it/s]\n"
          ]
        },
        {
          "output_type": "stream",
          "name": "stdout",
          "text": [
            "Loss : 0.15399761497974396, Val Loss : 0.15082022547721863 Acc : 0.9545454545454546, Val Acc : 0.9558541266794626\n",
            "Epochs : 130\n"
          ]
        },
        {
          "output_type": "stream",
          "name": "stderr",
          "text": [
            "100%|██████████| 20/20 [00:06<00:00,  2.95it/s]\n"
          ]
        },
        {
          "output_type": "stream",
          "name": "stdout",
          "text": [
            "Loss : 0.15356339514255524, Val Loss : 0.1504926234483719 Acc : 0.9545454545454546, Val Acc : 0.9558541266794626\n",
            "Epochs : 131\n"
          ]
        },
        {
          "output_type": "stream",
          "name": "stderr",
          "text": [
            "100%|██████████| 20/20 [00:05<00:00,  3.63it/s]\n"
          ]
        },
        {
          "output_type": "stream",
          "name": "stdout",
          "text": [
            "Loss : 0.15327826142311096, Val Loss : 0.15028008818626404 Acc : 0.9545454545454546, Val Acc : 0.9558541266794626\n",
            "Epochs : 132\n"
          ]
        },
        {
          "output_type": "stream",
          "name": "stderr",
          "text": [
            "100%|██████████| 20/20 [00:05<00:00,  3.36it/s]\n"
          ]
        },
        {
          "output_type": "stream",
          "name": "stdout",
          "text": [
            "Loss : 0.15299655497074127, Val Loss : 0.1500680297613144 Acc : 0.9545454545454546, Val Acc : 0.9558541266794626\n",
            "Epochs : 133\n"
          ]
        },
        {
          "output_type": "stream",
          "name": "stderr",
          "text": [
            "100%|██████████| 20/20 [00:06<00:00,  3.10it/s]\n"
          ]
        },
        {
          "output_type": "stream",
          "name": "stdout",
          "text": [
            "Loss : 0.15285693109035492, Val Loss : 0.1499619483947754 Acc : 0.9545454545454546, Val Acc : 0.9558541266794626\n",
            "Epochs : 134\n"
          ]
        },
        {
          "output_type": "stream",
          "name": "stderr",
          "text": [
            "100%|██████████| 20/20 [00:06<00:00,  2.94it/s]\n"
          ]
        },
        {
          "output_type": "stream",
          "name": "stdout",
          "text": [
            "Loss : 0.1525803655385971, Val Loss : 0.14975188672542572 Acc : 0.9545454545454546, Val Acc : 0.9558541266794626\n",
            "Epochs : 135\n"
          ]
        },
        {
          "output_type": "stream",
          "name": "stderr",
          "text": [
            "100%|██████████| 20/20 [00:06<00:00,  3.26it/s]\n"
          ]
        },
        {
          "output_type": "stream",
          "name": "stdout",
          "text": [
            "Loss : 0.15244363248348236, Val Loss : 0.1496480256319046 Acc : 0.9545454545454546, Val Acc : 0.9558541266794626\n",
            "Epochs : 136\n"
          ]
        },
        {
          "output_type": "stream",
          "name": "stderr",
          "text": [
            "100%|██████████| 20/20 [00:05<00:00,  3.41it/s]\n"
          ]
        },
        {
          "output_type": "stream",
          "name": "stdout",
          "text": [
            "Loss : 0.1523078829050064, Val Loss : 0.14954395592212677 Acc : 0.9545454545454546, Val Acc : 0.9558541266794626\n",
            "Epochs : 137\n"
          ]
        },
        {
          "output_type": "stream",
          "name": "stderr",
          "text": [
            "100%|██████████| 20/20 [00:06<00:00,  3.19it/s]\n"
          ]
        },
        {
          "output_type": "stream",
          "name": "stdout",
          "text": [
            "Loss : 0.15217262506484985, Val Loss : 0.14944082498550415 Acc : 0.9545454545454546, Val Acc : 0.9558541266794626\n",
            "Epochs : 138\n"
          ]
        },
        {
          "output_type": "stream",
          "name": "stderr",
          "text": [
            "100%|██████████| 20/20 [00:06<00:00,  3.10it/s]\n"
          ]
        },
        {
          "output_type": "stream",
          "name": "stdout",
          "text": [
            "Loss : 0.15217262506484985, Val Loss : 0.14944082498550415 Acc : 0.9545454545454546, Val Acc : 0.9558541266794626\n",
            "Epochs : 139\n"
          ]
        },
        {
          "output_type": "stream",
          "name": "stderr",
          "text": [
            "100%|██████████| 20/20 [00:06<00:00,  3.21it/s]\n"
          ]
        },
        {
          "output_type": "stream",
          "name": "stdout",
          "text": [
            "Loss : 0.15200498700141907, Val Loss : 0.1493120789527893 Acc : 0.9545454545454546, Val Acc : 0.9558541266794626\n",
            "Epochs : 140\n"
          ]
        },
        {
          "output_type": "stream",
          "name": "stderr",
          "text": [
            "100%|██████████| 20/20 [00:06<00:00,  3.04it/s]\n"
          ]
        },
        {
          "output_type": "stream",
          "name": "stdout",
          "text": [
            "Loss : 0.15188808739185333, Val Loss : 0.14922361075878143 Acc : 0.9545454545454546, Val Acc : 0.9558541266794626\n",
            "Epochs : 141\n"
          ]
        },
        {
          "output_type": "stream",
          "name": "stderr",
          "text": [
            "100%|██████████| 20/20 [00:06<00:00,  2.95it/s]\n"
          ]
        },
        {
          "output_type": "stream",
          "name": "stdout",
          "text": [
            "Loss : 0.15176331996917725, Val Loss : 0.14912840723991394 Acc : 0.9545454545454546, Val Acc : 0.9558541266794626\n",
            "Epochs : 142\n"
          ]
        },
        {
          "output_type": "stream",
          "name": "stderr",
          "text": [
            "100%|██████████| 20/20 [00:06<00:00,  3.32it/s]\n"
          ]
        },
        {
          "output_type": "stream",
          "name": "stdout",
          "text": [
            "Loss : 0.15150517225265503, Val Loss : 0.14893300831317902 Acc : 0.9545454545454546, Val Acc : 0.9558541266794626\n",
            "Epochs : 143\n"
          ]
        },
        {
          "output_type": "stream",
          "name": "stderr",
          "text": [
            "100%|██████████| 20/20 [00:05<00:00,  3.54it/s]\n"
          ]
        },
        {
          "output_type": "stream",
          "name": "stdout",
          "text": [
            "Loss : 0.15137474238872528, Val Loss : 0.1488364189863205 Acc : 0.9545454545454546, Val Acc : 0.9558541266794626\n",
            "Epochs : 144\n"
          ]
        },
        {
          "output_type": "stream",
          "name": "stderr",
          "text": [
            "100%|██████████| 20/20 [00:06<00:00,  3.17it/s]\n"
          ]
        },
        {
          "output_type": "stream",
          "name": "stdout",
          "text": [
            "Loss : 0.15124459564685822, Val Loss : 0.14873868227005005 Acc : 0.9545454545454546, Val Acc : 0.9558541266794626\n",
            "Epochs : 145\n"
          ]
        },
        {
          "output_type": "stream",
          "name": "stderr",
          "text": [
            "100%|██████████| 20/20 [00:06<00:00,  3.20it/s]\n"
          ]
        },
        {
          "output_type": "stream",
          "name": "stdout",
          "text": [
            "Loss : 0.15073032677173615, Val Loss : 0.14835450053215027 Acc : 0.9545454545454546, Val Acc : 0.9558541266794626\n",
            "Epochs : 146\n"
          ]
        },
        {
          "output_type": "stream",
          "name": "stderr",
          "text": [
            "100%|██████████| 20/20 [00:05<00:00,  3.59it/s]\n"
          ]
        },
        {
          "output_type": "stream",
          "name": "stdout",
          "text": [
            "Loss : 0.15047703683376312, Val Loss : 0.14816801249980927 Acc : 0.9548846675712347, Val Acc : 0.9558541266794626\n",
            "Epochs : 147\n"
          ]
        },
        {
          "output_type": "stream",
          "name": "stderr",
          "text": [
            "100%|██████████| 20/20 [00:07<00:00,  2.86it/s]\n"
          ]
        },
        {
          "output_type": "stream",
          "name": "stdout",
          "text": [
            "Loss : 0.1502261757850647, Val Loss : 0.14797912538051605 Acc : 0.9552238805970149, Val Acc : 0.9577735124760077\n",
            "Epochs : 148\n"
          ]
        },
        {
          "output_type": "stream",
          "name": "stderr",
          "text": [
            "100%|██████████| 20/20 [00:06<00:00,  3.02it/s]\n"
          ]
        },
        {
          "output_type": "stream",
          "name": "stdout",
          "text": [
            "Loss : 0.1501016467809677, Val Loss : 0.14788593351840973 Acc : 0.9552238805970149, Val Acc : 0.9577735124760077\n",
            "Epochs : 149\n"
          ]
        },
        {
          "output_type": "stream",
          "name": "stderr",
          "text": [
            "100%|██████████| 20/20 [00:06<00:00,  3.06it/s]\n"
          ]
        },
        {
          "output_type": "stream",
          "name": "stdout",
          "text": [
            "Loss : 0.14985421299934387, Val Loss : 0.1477005034685135 Acc : 0.9552238805970149, Val Acc : 0.9577735124760077\n",
            "Epochs : 150\n"
          ]
        },
        {
          "output_type": "stream",
          "name": "stderr",
          "text": [
            "100%|██████████| 20/20 [00:06<00:00,  2.89it/s]\n"
          ]
        },
        {
          "output_type": "stream",
          "name": "stdout",
          "text": [
            "Loss : 0.14973144233226776, Val Loss : 0.14760839939117432 Acc : 0.9552238805970149, Val Acc : 0.9577735124760077\n",
            "Epochs : 151\n"
          ]
        },
        {
          "output_type": "stream",
          "name": "stderr",
          "text": [
            "100%|██████████| 20/20 [00:06<00:00,  2.94it/s]\n"
          ]
        },
        {
          "output_type": "stream",
          "name": "stdout",
          "text": [
            "Loss : 0.14948764443397522, Val Loss : 0.14742518961429596 Acc : 0.9555630936227951, Val Acc : 0.9577735124760077\n",
            "Epochs : 152\n"
          ]
        },
        {
          "output_type": "stream",
          "name": "stderr",
          "text": [
            "100%|██████████| 20/20 [00:06<00:00,  3.33it/s]\n"
          ]
        },
        {
          "output_type": "stream",
          "name": "stdout",
          "text": [
            "Loss : 0.1492452323436737, Val Loss : 0.14724203944206238 Acc : 0.9555630936227951, Val Acc : 0.9577735124760077\n",
            "Epochs : 153\n"
          ]
        },
        {
          "output_type": "stream",
          "name": "stderr",
          "text": [
            "100%|██████████| 20/20 [00:06<00:00,  3.19it/s]\n"
          ]
        },
        {
          "output_type": "stream",
          "name": "stdout",
          "text": [
            "Loss : 0.14912475645542145, Val Loss : 0.1471499651670456 Acc : 0.9559023066485753, Val Acc : 0.9577735124760077\n",
            "Epochs : 154\n"
          ]
        },
        {
          "output_type": "stream",
          "name": "stderr",
          "text": [
            "100%|██████████| 20/20 [00:06<00:00,  3.15it/s]\n"
          ]
        },
        {
          "output_type": "stream",
          "name": "stdout",
          "text": [
            "Loss : 0.14888498187065125, Val Loss : 0.14696890115737915 Acc : 0.9559023066485753, Val Acc : 0.9577735124760077\n",
            "Epochs : 155\n"
          ]
        },
        {
          "output_type": "stream",
          "name": "stderr",
          "text": [
            "100%|██████████| 20/20 [00:06<00:00,  3.19it/s]\n"
          ]
        },
        {
          "output_type": "stream",
          "name": "stdout",
          "text": [
            "Loss : 0.14864754676818848, Val Loss : 0.14679096639156342 Acc : 0.9559023066485753, Val Acc : 0.9577735124760077\n",
            "Epochs : 156\n"
          ]
        },
        {
          "output_type": "stream",
          "name": "stderr",
          "text": [
            "100%|██████████| 20/20 [00:06<00:00,  3.31it/s]\n"
          ]
        },
        {
          "output_type": "stream",
          "name": "stdout",
          "text": [
            "Loss : 0.14852982759475708, Val Loss : 0.1467016637325287 Acc : 0.9559023066485753, Val Acc : 0.9577735124760077\n",
            "Epochs : 157\n"
          ]
        },
        {
          "output_type": "stream",
          "name": "stderr",
          "text": [
            "100%|██████████| 20/20 [00:06<00:00,  3.22it/s]\n"
          ]
        },
        {
          "output_type": "stream",
          "name": "stdout",
          "text": [
            "Loss : 0.14841273427009583, Val Loss : 0.1466149538755417 Acc : 0.9559023066485753, Val Acc : 0.9577735124760077\n",
            "Epochs : 158\n"
          ]
        },
        {
          "output_type": "stream",
          "name": "stderr",
          "text": [
            "100%|██████████| 20/20 [00:06<00:00,  3.22it/s]\n"
          ]
        },
        {
          "output_type": "stream",
          "name": "stdout",
          "text": [
            "Loss : 0.14818105101585388, Val Loss : 0.1464410126209259 Acc : 0.9559023066485753, Val Acc : 0.9577735124760077\n",
            "Epochs : 159\n"
          ]
        },
        {
          "output_type": "stream",
          "name": "stderr",
          "text": [
            "100%|██████████| 20/20 [00:06<00:00,  3.29it/s]\n"
          ]
        },
        {
          "output_type": "stream",
          "name": "stdout",
          "text": [
            "Loss : 0.14795225858688354, Val Loss : 0.14626720547676086 Acc : 0.9559023066485753, Val Acc : 0.9577735124760077\n",
            "Epochs : 160\n"
          ]
        },
        {
          "output_type": "stream",
          "name": "stderr",
          "text": [
            "100%|██████████| 20/20 [00:05<00:00,  3.79it/s]\n"
          ]
        },
        {
          "output_type": "stream",
          "name": "stdout",
          "text": [
            "Loss : 0.14783865213394165, Val Loss : 0.14618270099163055 Acc : 0.9559023066485753, Val Acc : 0.9577735124760077\n",
            "Epochs : 161\n"
          ]
        },
        {
          "output_type": "stream",
          "name": "stderr",
          "text": [
            "100%|██████████| 20/20 [00:06<00:00,  3.23it/s]\n"
          ]
        },
        {
          "output_type": "stream",
          "name": "stdout",
          "text": [
            "Loss : 0.14761309325695038, Val Loss : 0.14601542055606842 Acc : 0.9559023066485753, Val Acc : 0.9577735124760077\n",
            "Epochs : 162\n"
          ]
        },
        {
          "output_type": "stream",
          "name": "stderr",
          "text": [
            "100%|██████████| 20/20 [00:05<00:00,  3.39it/s]\n"
          ]
        },
        {
          "output_type": "stream",
          "name": "stdout",
          "text": [
            "Loss : 0.14738911390304565, Val Loss : 0.145846888422966 Acc : 0.9559023066485753, Val Acc : 0.9616122840690979\n",
            "Epochs : 163\n"
          ]
        },
        {
          "output_type": "stream",
          "name": "stderr",
          "text": [
            "100%|██████████| 20/20 [00:06<00:00,  3.32it/s]\n"
          ]
        },
        {
          "output_type": "stream",
          "name": "stdout",
          "text": [
            "Loss : 0.14727774262428284, Val Loss : 0.14576439559459686 Acc : 0.9559023066485753, Val Acc : 0.9616122840690979\n",
            "Epochs : 164\n"
          ]
        },
        {
          "output_type": "stream",
          "name": "stderr",
          "text": [
            "100%|██████████| 20/20 [00:05<00:00,  3.62it/s]\n"
          ]
        },
        {
          "output_type": "stream",
          "name": "stdout",
          "text": [
            "Loss : 0.1471397876739502, Val Loss : 0.14566443860530853 Acc : 0.9565807327001357, Val Acc : 0.963531669865643\n",
            "Epochs : 165\n"
          ]
        },
        {
          "output_type": "stream",
          "name": "stderr",
          "text": [
            "100%|██████████| 20/20 [00:05<00:00,  3.69it/s]\n"
          ]
        },
        {
          "output_type": "stream",
          "name": "stdout",
          "text": [
            "Loss : 0.14704349637031555, Val Loss : 0.14559434354305267 Acc : 0.9565807327001357, Val Acc : 0.963531669865643\n",
            "Epochs : 166\n"
          ]
        },
        {
          "output_type": "stream",
          "name": "stderr",
          "text": [
            "100%|██████████| 20/20 [00:06<00:00,  3.18it/s]\n"
          ]
        },
        {
          "output_type": "stream",
          "name": "stdout",
          "text": [
            "Loss : 0.1469406932592392, Val Loss : 0.14551779627799988 Acc : 0.9565807327001357, Val Acc : 0.963531669865643\n",
            "Epochs : 167\n"
          ]
        },
        {
          "output_type": "stream",
          "name": "stderr",
          "text": [
            "100%|██████████| 20/20 [00:05<00:00,  3.61it/s]\n"
          ]
        },
        {
          "output_type": "stream",
          "name": "stdout",
          "text": [
            "Loss : 0.1468348205089569, Val Loss : 0.1454399675130844 Acc : 0.9565807327001357, Val Acc : 0.963531669865643\n",
            "Epochs : 168\n"
          ]
        },
        {
          "output_type": "stream",
          "name": "stderr",
          "text": [
            "100%|██████████| 20/20 [00:05<00:00,  3.50it/s]\n"
          ]
        },
        {
          "output_type": "stream",
          "name": "stdout",
          "text": [
            "Loss : 0.14651274681091309, Val Loss : 0.14520496129989624 Acc : 0.9565807327001357, Val Acc : 0.963531669865643\n",
            "Epochs : 169\n"
          ]
        },
        {
          "output_type": "stream",
          "name": "stderr",
          "text": [
            "100%|██████████| 20/20 [00:07<00:00,  2.76it/s]\n"
          ]
        },
        {
          "output_type": "stream",
          "name": "stdout",
          "text": [
            "Loss : 0.14629961550235748, Val Loss : 0.14504975080490112 Acc : 0.9565807327001357, Val Acc : 0.963531669865643\n",
            "Epochs : 170\n"
          ]
        },
        {
          "output_type": "stream",
          "name": "stderr",
          "text": [
            "100%|██████████| 20/20 [00:05<00:00,  3.51it/s]\n"
          ]
        },
        {
          "output_type": "stream",
          "name": "stdout",
          "text": [
            "Loss : 0.1461937427520752, Val Loss : 0.1449715942144394 Acc : 0.9565807327001357, Val Acc : 0.963531669865643\n",
            "Epochs : 171\n"
          ]
        },
        {
          "output_type": "stream",
          "name": "stderr",
          "text": [
            "100%|██████████| 20/20 [00:05<00:00,  3.42it/s]\n"
          ]
        },
        {
          "output_type": "stream",
          "name": "stdout",
          "text": [
            "Loss : 0.14608845114707947, Val Loss : 0.14489206671714783 Acc : 0.9565807327001357, Val Acc : 0.963531669865643\n",
            "Epochs : 172\n"
          ]
        },
        {
          "output_type": "stream",
          "name": "stderr",
          "text": [
            "100%|██████████| 20/20 [00:06<00:00,  3.09it/s]\n"
          ]
        },
        {
          "output_type": "stream",
          "name": "stdout",
          "text": [
            "Loss : 0.14598390460014343, Val Loss : 0.14481423795223236 Acc : 0.9565807327001357, Val Acc : 0.963531669865643\n",
            "Epochs : 173\n"
          ]
        },
        {
          "output_type": "stream",
          "name": "stderr",
          "text": [
            "100%|██████████| 20/20 [00:05<00:00,  3.43it/s]\n"
          ]
        },
        {
          "output_type": "stream",
          "name": "stdout",
          "text": [
            "Loss : 0.14588004350662231, Val Loss : 0.14473770558834076 Acc : 0.9565807327001357, Val Acc : 0.963531669865643\n",
            "Epochs : 174\n"
          ]
        },
        {
          "output_type": "stream",
          "name": "stderr",
          "text": [
            "100%|██████████| 20/20 [00:06<00:00,  3.20it/s]\n"
          ]
        },
        {
          "output_type": "stream",
          "name": "stdout",
          "text": [
            "Loss : 0.14557048678398132, Val Loss : 0.14450626075267792 Acc : 0.9565807327001357, Val Acc : 0.963531669865643\n",
            "Epochs : 175\n"
          ]
        },
        {
          "output_type": "stream",
          "name": "stderr",
          "text": [
            "100%|██████████| 20/20 [00:06<00:00,  3.21it/s]\n"
          ]
        },
        {
          "output_type": "stream",
          "name": "stdout",
          "text": [
            "Loss : 0.14536648988723755, Val Loss : 0.1443561613559723 Acc : 0.9565807327001357, Val Acc : 0.963531669865643\n",
            "Epochs : 176\n"
          ]
        },
        {
          "output_type": "stream",
          "name": "stderr",
          "text": [
            "100%|██████████| 20/20 [00:05<00:00,  3.43it/s]\n"
          ]
        },
        {
          "output_type": "stream",
          "name": "stdout",
          "text": [
            "Loss : 0.14516420662403107, Val Loss : 0.1442067176103592 Acc : 0.9565807327001357, Val Acc : 0.963531669865643\n",
            "Epochs : 177\n"
          ]
        },
        {
          "output_type": "stream",
          "name": "stderr",
          "text": [
            "100%|██████████| 20/20 [00:05<00:00,  3.48it/s]\n"
          ]
        },
        {
          "output_type": "stream",
          "name": "stdout",
          "text": [
            "Loss : 0.14496475458145142, Val Loss : 0.14405964314937592 Acc : 0.9572591587516961, Val Acc : 0.963531669865643\n",
            "Epochs : 178\n"
          ]
        },
        {
          "output_type": "stream",
          "name": "stderr",
          "text": [
            "100%|██████████| 20/20 [00:06<00:00,  3.20it/s]\n"
          ]
        },
        {
          "output_type": "stream",
          "name": "stdout",
          "text": [
            "Loss : 0.14476722478866577, Val Loss : 0.14391161501407623 Acc : 0.9575983717774763, Val Acc : 0.963531669865643\n",
            "Epochs : 179\n"
          ]
        },
        {
          "output_type": "stream",
          "name": "stderr",
          "text": [
            "100%|██████████| 20/20 [00:06<00:00,  3.01it/s]\n"
          ]
        },
        {
          "output_type": "stream",
          "name": "stdout",
          "text": [
            "Loss : 0.1444738209247589, Val Loss : 0.14369221031665802 Acc : 0.9575983717774763, Val Acc : 0.963531669865643\n",
            "Epochs : 180\n"
          ]
        },
        {
          "output_type": "stream",
          "name": "stderr",
          "text": [
            "100%|██████████| 20/20 [00:05<00:00,  3.72it/s]\n"
          ]
        },
        {
          "output_type": "stream",
          "name": "stdout",
          "text": [
            "Loss : 0.14437681436538696, Val Loss : 0.14361999928951263 Acc : 0.9575983717774763, Val Acc : 0.963531669865643\n",
            "Epochs : 181\n"
          ]
        },
        {
          "output_type": "stream",
          "name": "stderr",
          "text": [
            "100%|██████████| 20/20 [00:05<00:00,  3.37it/s]\n"
          ]
        },
        {
          "output_type": "stream",
          "name": "stdout",
          "text": [
            "Loss : 0.14428015053272247, Val Loss : 0.14354820549488068 Acc : 0.9575983717774763, Val Acc : 0.963531669865643\n",
            "Epochs : 182\n"
          ]
        },
        {
          "output_type": "stream",
          "name": "stderr",
          "text": [
            "100%|██████████| 20/20 [00:05<00:00,  3.81it/s]\n"
          ]
        },
        {
          "output_type": "stream",
          "name": "stdout",
          "text": [
            "Loss : 0.14418382942676544, Val Loss : 0.1434745341539383 Acc : 0.9575983717774763, Val Acc : 0.963531669865643\n",
            "Epochs : 183\n"
          ]
        },
        {
          "output_type": "stream",
          "name": "stderr",
          "text": [
            "100%|██████████| 20/20 [00:07<00:00,  2.76it/s]\n"
          ]
        },
        {
          "output_type": "stream",
          "name": "stdout",
          "text": [
            "Loss : 0.14399178326129913, Val Loss : 0.14333145320415497 Acc : 0.9575983717774763, Val Acc : 0.963531669865643\n",
            "Epochs : 184\n"
          ]
        },
        {
          "output_type": "stream",
          "name": "stderr",
          "text": [
            "100%|██████████| 20/20 [00:05<00:00,  3.66it/s]\n"
          ]
        },
        {
          "output_type": "stream",
          "name": "stdout",
          "text": [
            "Loss : 0.14389631152153015, Val Loss : 0.1432599425315857 Acc : 0.9575983717774763, Val Acc : 0.963531669865643\n",
            "Epochs : 185\n"
          ]
        },
        {
          "output_type": "stream",
          "name": "stderr",
          "text": [
            "100%|██████████| 20/20 [00:06<00:00,  2.92it/s]\n"
          ]
        },
        {
          "output_type": "stream",
          "name": "stdout",
          "text": [
            "Loss : 0.1436123102903366, Val Loss : 0.14304549992084503 Acc : 0.9575983717774763, Val Acc : 0.963531669865643\n",
            "Epochs : 186\n"
          ]
        },
        {
          "output_type": "stream",
          "name": "stderr",
          "text": [
            "100%|██████████| 20/20 [00:06<00:00,  3.03it/s]\n"
          ]
        },
        {
          "output_type": "stream",
          "name": "stdout",
          "text": [
            "Loss : 0.1435183733701706, Val Loss : 0.14297644793987274 Acc : 0.9575983717774763, Val Acc : 0.963531669865643\n",
            "Epochs : 187\n"
          ]
        },
        {
          "output_type": "stream",
          "name": "stderr",
          "text": [
            "100%|██████████| 20/20 [00:05<00:00,  3.41it/s]\n"
          ]
        },
        {
          "output_type": "stream",
          "name": "stdout",
          "text": [
            "Loss : 0.14333178102970123, Val Loss : 0.14283621311187744 Acc : 0.9575983717774763, Val Acc : 0.963531669865643\n",
            "Epochs : 188\n"
          ]
        },
        {
          "output_type": "stream",
          "name": "stderr",
          "text": [
            "100%|██████████| 20/20 [00:06<00:00,  3.06it/s]\n"
          ]
        },
        {
          "output_type": "stream",
          "name": "stdout",
          "text": [
            "Loss : 0.1432390958070755, Val Loss : 0.14276334643363953 Acc : 0.9575983717774763, Val Acc : 0.963531669865643\n",
            "Epochs : 189\n"
          ]
        },
        {
          "output_type": "stream",
          "name": "stderr",
          "text": [
            "100%|██████████| 20/20 [00:05<00:00,  3.38it/s]\n"
          ]
        },
        {
          "output_type": "stream",
          "name": "stdout",
          "text": [
            "Loss : 0.1432390958070755, Val Loss : 0.14276334643363953 Acc : 0.9575983717774763, Val Acc : 0.963531669865643\n",
            "Epochs : 190\n"
          ]
        },
        {
          "output_type": "stream",
          "name": "stderr",
          "text": [
            "100%|██████████| 20/20 [00:06<00:00,  3.16it/s]\n"
          ]
        },
        {
          "output_type": "stream",
          "name": "stdout",
          "text": [
            "Loss : 0.14319300651550293, Val Loss : 0.14272847771644592 Acc : 0.9575983717774763, Val Acc : 0.963531669865643\n",
            "Epochs : 191\n"
          ]
        },
        {
          "output_type": "stream",
          "name": "stderr",
          "text": [
            "100%|██████████| 20/20 [00:05<00:00,  3.69it/s]\n"
          ]
        },
        {
          "output_type": "stream",
          "name": "stdout",
          "text": [
            "Loss : 0.14312399923801422, Val Loss : 0.1426757574081421 Acc : 0.9575983717774763, Val Acc : 0.963531669865643\n",
            "Epochs : 192\n"
          ]
        },
        {
          "output_type": "stream",
          "name": "stderr",
          "text": [
            "100%|██████████| 20/20 [00:06<00:00,  3.03it/s]\n"
          ]
        },
        {
          "output_type": "stream",
          "name": "stdout",
          "text": [
            "Loss : 0.14304359257221222, Val Loss : 0.14261494576931 Acc : 0.9575983717774763, Val Acc : 0.963531669865643\n",
            "Epochs : 193\n"
          ]
        },
        {
          "output_type": "stream",
          "name": "stderr",
          "text": [
            "100%|██████████| 20/20 [00:05<00:00,  3.44it/s]\n"
          ]
        },
        {
          "output_type": "stream",
          "name": "stdout",
          "text": [
            "Loss : 0.1429576426744461, Val Loss : 0.14254973828792572 Acc : 0.9575983717774763, Val Acc : 0.963531669865643\n",
            "Epochs : 194\n"
          ]
        },
        {
          "output_type": "stream",
          "name": "stderr",
          "text": [
            "100%|██████████| 20/20 [00:06<00:00,  3.30it/s]\n"
          ]
        },
        {
          "output_type": "stream",
          "name": "stdout",
          "text": [
            "Loss : 0.1428692489862442, Val Loss : 0.14248177409172058 Acc : 0.9575983717774763, Val Acc : 0.963531669865643\n",
            "Epochs : 195\n"
          ]
        },
        {
          "output_type": "stream",
          "name": "stderr",
          "text": [
            "100%|██████████| 20/20 [00:05<00:00,  3.56it/s]\n"
          ]
        },
        {
          "output_type": "stream",
          "name": "stdout",
          "text": [
            "Loss : 0.14268970489501953, Val Loss : 0.14234566688537598 Acc : 0.9575983717774763, Val Acc : 0.963531669865643\n",
            "Epochs : 196\n"
          ]
        },
        {
          "output_type": "stream",
          "name": "stderr",
          "text": [
            "100%|██████████| 20/20 [00:06<00:00,  3.05it/s]\n"
          ]
        },
        {
          "output_type": "stream",
          "name": "stdout",
          "text": [
            "Loss : 0.1425098329782486, Val Loss : 0.14220856130123138 Acc : 0.9575983717774763, Val Acc : 0.963531669865643\n",
            "Epochs : 197\n"
          ]
        },
        {
          "output_type": "stream",
          "name": "stderr",
          "text": [
            "100%|██████████| 20/20 [00:06<00:00,  3.32it/s]\n"
          ]
        },
        {
          "output_type": "stream",
          "name": "stdout",
          "text": [
            "Loss : 0.14233121275901794, Val Loss : 0.14207331836223602 Acc : 0.9575983717774763, Val Acc : 0.963531669865643\n",
            "Epochs : 198\n"
          ]
        },
        {
          "output_type": "stream",
          "name": "stderr",
          "text": [
            "100%|██████████| 20/20 [00:06<00:00,  3.32it/s]\n"
          ]
        },
        {
          "output_type": "stream",
          "name": "stdout",
          "text": [
            "Loss : 0.14224229753017426, Val Loss : 0.14200443029403687 Acc : 0.9575983717774763, Val Acc : 0.963531669865643\n",
            "Epochs : 199\n"
          ]
        },
        {
          "output_type": "stream",
          "name": "stderr",
          "text": [
            "100%|██████████| 20/20 [00:05<00:00,  3.68it/s]\n"
          ]
        },
        {
          "output_type": "stream",
          "name": "stdout",
          "text": [
            "Loss : 0.14206542074680328, Val Loss : 0.14186979830265045 Acc : 0.9575983717774763, Val Acc : 0.963531669865643\n",
            "Epochs : 200\n"
          ]
        },
        {
          "output_type": "stream",
          "name": "stderr",
          "text": [
            "100%|██████████| 20/20 [00:05<00:00,  3.36it/s]\n"
          ]
        },
        {
          "output_type": "stream",
          "name": "stdout",
          "text": [
            "Loss : 0.14197741448879242, Val Loss : 0.14180147647857666 Acc : 0.9575983717774763, Val Acc : 0.963531669865643\n",
            "Epochs : 201\n"
          ]
        },
        {
          "output_type": "stream",
          "name": "stderr",
          "text": [
            "100%|██████████| 20/20 [00:05<00:00,  3.41it/s]\n"
          ]
        },
        {
          "output_type": "stream",
          "name": "stdout",
          "text": [
            "Loss : 0.1418897658586502, Val Loss : 0.14173442125320435 Acc : 0.9575983717774763, Val Acc : 0.963531669865643\n",
            "Epochs : 202\n"
          ]
        },
        {
          "output_type": "stream",
          "name": "stderr",
          "text": [
            "100%|██████████| 20/20 [00:06<00:00,  3.14it/s]\n"
          ]
        },
        {
          "output_type": "stream",
          "name": "stdout",
          "text": [
            "Loss : 0.14180251955986023, Val Loss : 0.14166903495788574 Acc : 0.9575983717774763, Val Acc : 0.963531669865643\n",
            "Epochs : 203\n"
          ]
        },
        {
          "output_type": "stream",
          "name": "stderr",
          "text": [
            "100%|██████████| 20/20 [00:05<00:00,  3.80it/s]\n"
          ]
        },
        {
          "output_type": "stream",
          "name": "stdout",
          "text": [
            "Loss : 0.1417156159877777, Val Loss : 0.14160394668579102 Acc : 0.9575983717774763, Val Acc : 0.963531669865643\n",
            "Epochs : 204\n"
          ]
        },
        {
          "output_type": "stream",
          "name": "stderr",
          "text": [
            "100%|██████████| 20/20 [00:06<00:00,  3.20it/s]\n"
          ]
        },
        {
          "output_type": "stream",
          "name": "stdout",
          "text": [
            "Loss : 0.1415427178144455, Val Loss : 0.141472727060318 Acc : 0.9575983717774763, Val Acc : 0.963531669865643\n",
            "Epochs : 205\n"
          ]
        },
        {
          "output_type": "stream",
          "name": "stderr",
          "text": [
            "100%|██████████| 20/20 [00:05<00:00,  3.38it/s]\n"
          ]
        },
        {
          "output_type": "stream",
          "name": "stdout",
          "text": [
            "Loss : 0.14145678281784058, Val Loss : 0.1414063274860382 Acc : 0.9575983717774763, Val Acc : 0.963531669865643\n",
            "Epochs : 206\n"
          ]
        },
        {
          "output_type": "stream",
          "name": "stderr",
          "text": [
            "100%|██████████| 20/20 [00:06<00:00,  3.24it/s]\n"
          ]
        },
        {
          "output_type": "stream",
          "name": "stdout",
          "text": [
            "Loss : 0.1413709968328476, Val Loss : 0.14134028553962708 Acc : 0.9575983717774763, Val Acc : 0.963531669865643\n",
            "Epochs : 207\n"
          ]
        },
        {
          "output_type": "stream",
          "name": "stderr",
          "text": [
            "100%|██████████| 20/20 [00:06<00:00,  2.95it/s]\n"
          ]
        },
        {
          "output_type": "stream",
          "name": "stdout",
          "text": [
            "Loss : 0.14127865433692932, Val Loss : 0.14785490930080414 Acc : 0.9586160108548168, Val Acc : 0.963531669865643\n",
            "Epochs : 208\n"
          ]
        },
        {
          "output_type": "stream",
          "name": "stderr",
          "text": [
            "100%|██████████| 20/20 [00:06<00:00,  3.20it/s]\n"
          ]
        },
        {
          "output_type": "stream",
          "name": "stdout",
          "text": [
            "Loss : 0.1410938799381256, Val Loss : 0.14771586656570435 Acc : 0.9586160108548168, Val Acc : 0.963531669865643\n",
            "Epochs : 209\n"
          ]
        },
        {
          "output_type": "stream",
          "name": "stderr",
          "text": [
            "100%|██████████| 20/20 [00:05<00:00,  3.50it/s]\n"
          ]
        },
        {
          "output_type": "stream",
          "name": "stdout",
          "text": [
            "Loss : 0.14091049134731293, Val Loss : 0.1475796401500702 Acc : 0.9586160108548168, Val Acc : 0.963531669865643\n",
            "Epochs : 210\n"
          ]
        },
        {
          "output_type": "stream",
          "name": "stderr",
          "text": [
            "100%|██████████| 20/20 [00:06<00:00,  3.13it/s]\n"
          ]
        },
        {
          "output_type": "stream",
          "name": "stdout",
          "text": [
            "Loss : 0.1408192217350006, Val Loss : 0.14751236140727997 Acc : 0.9586160108548168, Val Acc : 0.963531669865643\n",
            "Epochs : 211\n"
          ]
        },
        {
          "output_type": "stream",
          "name": "stderr",
          "text": [
            "100%|██████████| 20/20 [00:05<00:00,  3.98it/s]\n"
          ]
        },
        {
          "output_type": "stream",
          "name": "stdout",
          "text": [
            "Loss : 0.14072832465171814, Val Loss : 0.14744356274604797 Acc : 0.9586160108548168, Val Acc : 0.963531669865643\n",
            "Epochs : 212\n"
          ]
        },
        {
          "output_type": "stream",
          "name": "stderr",
          "text": [
            "100%|██████████| 20/20 [00:06<00:00,  3.27it/s]\n"
          ]
        },
        {
          "output_type": "stream",
          "name": "stdout",
          "text": [
            "Loss : 0.14054732024669647, Val Loss : 0.14730840921401978 Acc : 0.9586160108548168, Val Acc : 0.963531669865643\n",
            "Epochs : 213\n"
          ]
        },
        {
          "output_type": "stream",
          "name": "stderr",
          "text": [
            "100%|██████████| 20/20 [00:06<00:00,  3.03it/s]\n"
          ]
        },
        {
          "output_type": "stream",
          "name": "stdout",
          "text": [
            "Loss : 0.1404573768377304, Val Loss : 0.14724254608154297 Acc : 0.9586160108548168, Val Acc : 0.963531669865643\n",
            "Epochs : 214\n"
          ]
        },
        {
          "output_type": "stream",
          "name": "stderr",
          "text": [
            "100%|██████████| 20/20 [00:06<00:00,  3.22it/s]\n"
          ]
        },
        {
          "output_type": "stream",
          "name": "stdout",
          "text": [
            "Loss : 0.1402786821126938, Val Loss : 0.14710840582847595 Acc : 0.9586160108548168, Val Acc : 0.963531669865643\n",
            "Epochs : 215\n"
          ]
        },
        {
          "output_type": "stream",
          "name": "stderr",
          "text": [
            "100%|██████████| 20/20 [00:06<00:00,  3.10it/s]\n"
          ]
        },
        {
          "output_type": "stream",
          "name": "stdout",
          "text": [
            "Loss : 0.14018972218036652, Val Loss : 0.14704303443431854 Acc : 0.9586160108548168, Val Acc : 0.963531669865643\n",
            "Epochs : 216\n"
          ]
        },
        {
          "output_type": "stream",
          "name": "stderr",
          "text": [
            "100%|██████████| 20/20 [00:06<00:00,  2.90it/s]\n"
          ]
        },
        {
          "output_type": "stream",
          "name": "stdout",
          "text": [
            "Loss : 0.14010128378868103, Val Loss : 0.14697766304016113 Acc : 0.9586160108548168, Val Acc : 0.963531669865643\n",
            "Epochs : 217\n"
          ]
        },
        {
          "output_type": "stream",
          "name": "stderr",
          "text": [
            "100%|██████████| 20/20 [00:05<00:00,  3.70it/s]\n"
          ]
        },
        {
          "output_type": "stream",
          "name": "stdout",
          "text": [
            "Loss : 0.14001330733299255, Val Loss : 0.14691239595413208 Acc : 0.9586160108548168, Val Acc : 0.963531669865643\n",
            "Epochs : 218\n"
          ]
        },
        {
          "output_type": "stream",
          "name": "stderr",
          "text": [
            "100%|██████████| 20/20 [00:05<00:00,  3.33it/s]\n"
          ]
        },
        {
          "output_type": "stream",
          "name": "stdout",
          "text": [
            "Loss : 0.1398383378982544, Val Loss : 0.1467818319797516 Acc : 0.9586160108548168, Val Acc : 0.963531669865643\n",
            "Epochs : 219\n"
          ]
        },
        {
          "output_type": "stream",
          "name": "stderr",
          "text": [
            "100%|██████████| 20/20 [00:06<00:00,  3.24it/s]\n"
          ]
        },
        {
          "output_type": "stream",
          "name": "stdout",
          "text": [
            "Loss : 0.13975143432617188, Val Loss : 0.14671841263771057 Acc : 0.9586160108548168, Val Acc : 0.963531669865643\n",
            "Epochs : 220\n"
          ]
        },
        {
          "output_type": "stream",
          "name": "stderr",
          "text": [
            "100%|██████████| 20/20 [00:04<00:00,  4.10it/s]\n"
          ]
        },
        {
          "output_type": "stream",
          "name": "stdout",
          "text": [
            "Loss : 0.13975149393081665, Val Loss : 0.14671848714351654 Acc : 0.9586160108548168, Val Acc : 0.963531669865643\n",
            "Epochs : 221\n"
          ]
        },
        {
          "output_type": "stream",
          "name": "stderr",
          "text": [
            "100%|██████████| 20/20 [00:05<00:00,  3.50it/s]\n"
          ]
        },
        {
          "output_type": "stream",
          "name": "stdout",
          "text": [
            "Loss : 0.1397082507610321, Val Loss : 0.1466866284608841 Acc : 0.9586160108548168, Val Acc : 0.963531669865643\n",
            "Epochs : 222\n"
          ]
        },
        {
          "output_type": "stream",
          "name": "stderr",
          "text": [
            "100%|██████████| 20/20 [00:05<00:00,  3.54it/s]\n"
          ]
        },
        {
          "output_type": "stream",
          "name": "stdout",
          "text": [
            "Loss : 0.13961687684059143, Val Loss : 0.14001376926898956 Acc : 0.9579375848032564, Val Acc : 0.963531669865643\n",
            "Epochs : 223\n"
          ]
        },
        {
          "output_type": "stream",
          "name": "stderr",
          "text": [
            "100%|██████████| 20/20 [00:05<00:00,  3.88it/s]\n"
          ]
        },
        {
          "output_type": "stream",
          "name": "stdout",
          "text": [
            "Loss : 0.13954207301139832, Val Loss : 0.1399565041065216 Acc : 0.9579375848032564, Val Acc : 0.963531669865643\n",
            "Epochs : 224\n"
          ]
        },
        {
          "output_type": "stream",
          "name": "stderr",
          "text": [
            "100%|██████████| 20/20 [00:05<00:00,  3.90it/s]\n"
          ]
        },
        {
          "output_type": "stream",
          "name": "stdout",
          "text": [
            "Loss : 0.1394047886133194, Val Loss : 0.14646315574645996 Acc : 0.9586160108548168, Val Acc : 0.963531669865643\n",
            "Epochs : 225\n"
          ]
        },
        {
          "output_type": "stream",
          "name": "stderr",
          "text": [
            "100%|██████████| 20/20 [00:06<00:00,  2.97it/s]\n"
          ]
        },
        {
          "output_type": "stream",
          "name": "stdout",
          "text": [
            "Loss : 0.13932062685489655, Val Loss : 0.14640142023563385 Acc : 0.9586160108548168, Val Acc : 0.963531669865643\n",
            "Epochs : 226\n"
          ]
        },
        {
          "output_type": "stream",
          "name": "stderr",
          "text": [
            "100%|██████████| 20/20 [00:05<00:00,  3.49it/s]\n"
          ]
        },
        {
          "output_type": "stream",
          "name": "stdout",
          "text": [
            "Loss : 0.139229878783226, Val Loss : 0.13971538841724396 Acc : 0.9579375848032564, Val Acc : 0.963531669865643\n",
            "Epochs : 227\n"
          ]
        },
        {
          "output_type": "stream",
          "name": "stderr",
          "text": [
            "100%|██████████| 20/20 [00:05<00:00,  3.33it/s]\n"
          ]
        },
        {
          "output_type": "stream",
          "name": "stdout",
          "text": [
            "Loss : 0.1390666961669922, Val Loss : 0.1462162584066391 Acc : 0.9586160108548168, Val Acc : 0.963531669865643\n",
            "Epochs : 228\n"
          ]
        },
        {
          "output_type": "stream",
          "name": "stderr",
          "text": [
            "100%|██████████| 20/20 [00:06<00:00,  3.30it/s]\n"
          ]
        },
        {
          "output_type": "stream",
          "name": "stdout",
          "text": [
            "Loss : 0.13889829814434052, Val Loss : 0.1460924595594406 Acc : 0.9589552238805971, Val Acc : 0.963531669865643\n",
            "Epochs : 229\n"
          ]
        },
        {
          "output_type": "stream",
          "name": "stderr",
          "text": [
            "100%|██████████| 20/20 [00:05<00:00,  3.64it/s]\n"
          ]
        },
        {
          "output_type": "stream",
          "name": "stdout",
          "text": [
            "Loss : 0.13864775002002716, Val Loss : 0.14591066539287567 Acc : 0.9589552238805971, Val Acc : 0.963531669865643\n",
            "Epochs : 230\n"
          ]
        },
        {
          "output_type": "stream",
          "name": "stderr",
          "text": [
            "100%|██████████| 20/20 [00:06<00:00,  3.06it/s]\n"
          ]
        },
        {
          "output_type": "stream",
          "name": "stdout",
          "text": [
            "Loss : 0.13856467604637146, Val Loss : 0.14584898948669434 Acc : 0.9589552238805971, Val Acc : 0.963531669865643\n",
            "Epochs : 231\n"
          ]
        },
        {
          "output_type": "stream",
          "name": "stderr",
          "text": [
            "100%|██████████| 20/20 [00:06<00:00,  3.18it/s]\n"
          ]
        },
        {
          "output_type": "stream",
          "name": "stdout",
          "text": [
            "Loss : 0.13848184049129486, Val Loss : 0.14578916132450104 Acc : 0.9589552238805971, Val Acc : 0.963531669865643\n",
            "Epochs : 232\n"
          ]
        },
        {
          "output_type": "stream",
          "name": "stderr",
          "text": [
            "100%|██████████| 20/20 [00:06<00:00,  3.17it/s]\n"
          ]
        },
        {
          "output_type": "stream",
          "name": "stdout",
          "text": [
            "Loss : 0.1383991688489914, Val Loss : 0.14572803676128387 Acc : 0.9592944369063772, Val Acc : 0.963531669865643\n",
            "Epochs : 233\n"
          ]
        },
        {
          "output_type": "stream",
          "name": "stderr",
          "text": [
            "100%|██████████| 20/20 [00:06<00:00,  3.12it/s]\n"
          ]
        },
        {
          "output_type": "stream",
          "name": "stdout",
          "text": [
            "Loss : 0.13831661641597748, Val Loss : 0.14566795527935028 Acc : 0.9592944369063772, Val Acc : 0.963531669865643\n",
            "Epochs : 234\n"
          ]
        },
        {
          "output_type": "stream",
          "name": "stderr",
          "text": [
            "100%|██████████| 20/20 [00:06<00:00,  3.29it/s]\n"
          ]
        },
        {
          "output_type": "stream",
          "name": "stdout",
          "text": [
            "Loss : 0.13815224170684814, Val Loss : 0.1455482840538025 Acc : 0.9592944369063772, Val Acc : 0.963531669865643\n",
            "Epochs : 235\n"
          ]
        },
        {
          "output_type": "stream",
          "name": "stderr",
          "text": [
            "100%|██████████| 20/20 [00:05<00:00,  3.37it/s]\n"
          ]
        },
        {
          "output_type": "stream",
          "name": "stdout",
          "text": [
            "Loss : 0.13807040452957153, Val Loss : 0.14548999071121216 Acc : 0.9592944369063772, Val Acc : 0.963531669865643\n",
            "Epochs : 236\n"
          ]
        },
        {
          "output_type": "stream",
          "name": "stderr",
          "text": [
            "100%|██████████| 20/20 [00:05<00:00,  3.39it/s]\n"
          ]
        },
        {
          "output_type": "stream",
          "name": "stdout",
          "text": [
            "Loss : 0.13798880577087402, Val Loss : 0.14543069899082184 Acc : 0.9592944369063772, Val Acc : 0.963531669865643\n",
            "Epochs : 237\n"
          ]
        },
        {
          "output_type": "stream",
          "name": "stderr",
          "text": [
            "100%|██████████| 20/20 [00:05<00:00,  3.55it/s]\n"
          ]
        },
        {
          "output_type": "stream",
          "name": "stdout",
          "text": [
            "Loss : 0.13774530589580536, Val Loss : 0.14525744318962097 Acc : 0.9592944369063772, Val Acc : 0.963531669865643\n",
            "Epochs : 238\n"
          ]
        },
        {
          "output_type": "stream",
          "name": "stderr",
          "text": [
            "100%|██████████| 20/20 [00:06<00:00,  3.13it/s]\n"
          ]
        },
        {
          "output_type": "stream",
          "name": "stdout",
          "text": [
            "Loss : 0.1375843733549118, Val Loss : 0.1451423168182373 Acc : 0.9592944369063772, Val Acc : 0.963531669865643\n",
            "Epochs : 239\n"
          ]
        },
        {
          "output_type": "stream",
          "name": "stderr",
          "text": [
            "100%|██████████| 20/20 [00:06<00:00,  3.18it/s]\n"
          ]
        },
        {
          "output_type": "stream",
          "name": "stdout",
          "text": [
            "Loss : 0.13742437958717346, Val Loss : 0.14502927660942078 Acc : 0.9592944369063772, Val Acc : 0.963531669865643\n",
            "Epochs : 240\n"
          ]
        },
        {
          "output_type": "stream",
          "name": "stderr",
          "text": [
            "100%|██████████| 20/20 [00:06<00:00,  3.18it/s]\n"
          ]
        },
        {
          "output_type": "stream",
          "name": "stdout",
          "text": [
            "Loss : 0.13734473288059235, Val Loss : 0.1449729949235916 Acc : 0.9592944369063772, Val Acc : 0.963531669865643\n",
            "Epochs : 241\n"
          ]
        },
        {
          "output_type": "stream",
          "name": "stderr",
          "text": [
            "100%|██████████| 20/20 [00:05<00:00,  3.65it/s]\n"
          ]
        },
        {
          "output_type": "stream",
          "name": "stdout",
          "text": [
            "Loss : 0.13726544380187988, Val Loss : 0.14491739869117737 Acc : 0.9592944369063772, Val Acc : 0.963531669865643\n",
            "Epochs : 242\n"
          ]
        },
        {
          "output_type": "stream",
          "name": "stderr",
          "text": [
            "100%|██████████| 20/20 [00:06<00:00,  3.03it/s]\n"
          ]
        },
        {
          "output_type": "stream",
          "name": "stdout",
          "text": [
            "Loss : 0.1371077299118042, Val Loss : 0.1448068469762802 Acc : 0.9592944369063772, Val Acc : 0.963531669865643\n",
            "Epochs : 243\n"
          ]
        },
        {
          "output_type": "stream",
          "name": "stderr",
          "text": [
            "100%|██████████| 20/20 [00:06<00:00,  3.27it/s]\n"
          ]
        },
        {
          "output_type": "stream",
          "name": "stdout",
          "text": [
            "Loss : 0.13702929019927979, Val Loss : 0.14475302398204803 Acc : 0.9592944369063772, Val Acc : 0.963531669865643\n",
            "Epochs : 244\n"
          ]
        },
        {
          "output_type": "stream",
          "name": "stderr",
          "text": [
            "100%|██████████| 20/20 [00:06<00:00,  3.07it/s]\n"
          ]
        },
        {
          "output_type": "stream",
          "name": "stdout",
          "text": [
            "Loss : 0.13695116341114044, Val Loss : 0.1446993201971054 Acc : 0.9596336499321574, Val Acc : 0.9654510556621881\n",
            "Epochs : 245\n"
          ]
        },
        {
          "output_type": "stream",
          "name": "stderr",
          "text": [
            "100%|██████████| 20/20 [00:06<00:00,  3.30it/s]\n"
          ]
        },
        {
          "output_type": "stream",
          "name": "stdout",
          "text": [
            "Loss : 0.13687336444854736, Val Loss : 0.1446431428194046 Acc : 0.9596336499321574, Val Acc : 0.9654510556621881\n",
            "Epochs : 246\n"
          ]
        },
        {
          "output_type": "stream",
          "name": "stderr",
          "text": [
            "100%|██████████| 20/20 [00:05<00:00,  3.42it/s]\n"
          ]
        },
        {
          "output_type": "stream",
          "name": "stdout",
          "text": [
            "Loss : 0.13671866059303284, Val Loss : 0.1445348858833313 Acc : 0.9596336499321574, Val Acc : 0.9654510556621881\n",
            "Epochs : 247\n"
          ]
        },
        {
          "output_type": "stream",
          "name": "stderr",
          "text": [
            "100%|██████████| 20/20 [00:06<00:00,  3.11it/s]\n"
          ]
        },
        {
          "output_type": "stream",
          "name": "stdout",
          "text": [
            "Loss : 0.1364884227514267, Val Loss : 0.14437247812747955 Acc : 0.9596336499321574, Val Acc : 0.9654510556621881\n",
            "Epochs : 248\n"
          ]
        },
        {
          "output_type": "stream",
          "name": "stderr",
          "text": [
            "100%|██████████| 20/20 [00:05<00:00,  3.51it/s]\n"
          ]
        },
        {
          "output_type": "stream",
          "name": "stdout",
          "text": [
            "Loss : 0.1364884227514267, Val Loss : 0.14437247812747955 Acc : 0.9596336499321574, Val Acc : 0.9654510556621881\n",
            "Epochs : 249\n"
          ]
        },
        {
          "output_type": "stream",
          "name": "stderr",
          "text": [
            "100%|██████████| 20/20 [00:06<00:00,  3.23it/s]\n"
          ]
        },
        {
          "output_type": "stream",
          "name": "stdout",
          "text": [
            "Loss : 0.13645024597644806, Val Loss : 0.14434632658958435 Acc : 0.9596336499321574, Val Acc : 0.9654510556621881\n",
            "Epochs : 250\n"
          ]
        },
        {
          "output_type": "stream",
          "name": "stderr",
          "text": [
            "100%|██████████| 20/20 [00:06<00:00,  3.17it/s]\n"
          ]
        },
        {
          "output_type": "stream",
          "name": "stdout",
          "text": [
            "Loss : 0.13639311492443085, Val Loss : 0.14430591464042664 Acc : 0.9596336499321574, Val Acc : 0.9654510556621881\n",
            "Epochs : 251\n"
          ]
        },
        {
          "output_type": "stream",
          "name": "stderr",
          "text": [
            "100%|██████████| 20/20 [00:05<00:00,  3.69it/s]\n"
          ]
        },
        {
          "output_type": "stream",
          "name": "stdout",
          "text": [
            "Loss : 0.1362554132938385, Val Loss : 0.14420728385448456 Acc : 0.9596336499321574, Val Acc : 0.9654510556621881\n",
            "Epochs : 252\n"
          ]
        },
        {
          "output_type": "stream",
          "name": "stderr",
          "text": [
            "100%|██████████| 20/20 [00:05<00:00,  3.71it/s]\n"
          ]
        },
        {
          "output_type": "stream",
          "name": "stdout",
          "text": [
            "Loss : 0.13618206977844238, Val Loss : 0.14415600895881653 Acc : 0.9596336499321574, Val Acc : 0.9654510556621881\n",
            "Epochs : 253\n"
          ]
        },
        {
          "output_type": "stream",
          "name": "stderr",
          "text": [
            "100%|██████████| 20/20 [00:06<00:00,  3.18it/s]\n"
          ]
        },
        {
          "output_type": "stream",
          "name": "stdout",
          "text": [
            "Loss : 0.13603319227695465, Val Loss : 0.14405030012130737 Acc : 0.9596336499321574, Val Acc : 0.9654510556621881\n",
            "Epochs : 254\n"
          ]
        },
        {
          "output_type": "stream",
          "name": "stderr",
          "text": [
            "100%|██████████| 20/20 [00:04<00:00,  4.02it/s]\n"
          ]
        },
        {
          "output_type": "stream",
          "name": "stdout",
          "text": [
            "Loss : 0.13595853745937347, Val Loss : 0.14399661123752594 Acc : 0.9596336499321574, Val Acc : 0.9654510556621881\n",
            "Epochs : 255\n"
          ]
        },
        {
          "output_type": "stream",
          "name": "stderr",
          "text": [
            "100%|██████████| 20/20 [00:05<00:00,  3.50it/s]\n"
          ]
        },
        {
          "output_type": "stream",
          "name": "stdout",
          "text": [
            "Loss : 0.13580957055091858, Val Loss : 0.14389261603355408 Acc : 0.9596336499321574, Val Acc : 0.9654510556621881\n",
            "Epochs : 256\n"
          ]
        },
        {
          "output_type": "stream",
          "name": "stderr",
          "text": [
            "100%|██████████| 20/20 [00:06<00:00,  3.00it/s]\n"
          ]
        },
        {
          "output_type": "stream",
          "name": "stdout",
          "text": [
            "Loss : 0.13573528826236725, Val Loss : 0.1438402235507965 Acc : 0.9596336499321574, Val Acc : 0.9654510556621881\n",
            "Epochs : 257\n"
          ]
        },
        {
          "output_type": "stream",
          "name": "stderr",
          "text": [
            "100%|██████████| 20/20 [00:06<00:00,  2.96it/s]\n"
          ]
        },
        {
          "output_type": "stream",
          "name": "stdout",
          "text": [
            "Loss : 0.13551363348960876, Val Loss : 0.14368100464344025 Acc : 0.9603120759837178, Val Acc : 0.9654510556621881\n",
            "Epochs : 258\n"
          ]
        },
        {
          "output_type": "stream",
          "name": "stderr",
          "text": [
            "100%|██████████| 20/20 [00:06<00:00,  3.25it/s]\n"
          ]
        },
        {
          "output_type": "stream",
          "name": "stdout",
          "text": [
            "Loss : 0.13544026017189026, Val Loss : 0.14362922310829163 Acc : 0.9603120759837178, Val Acc : 0.9654510556621881\n",
            "Epochs : 259\n"
          ]
        },
        {
          "output_type": "stream",
          "name": "stderr",
          "text": [
            "100%|██████████| 20/20 [00:05<00:00,  3.74it/s]\n"
          ]
        },
        {
          "output_type": "stream",
          "name": "stdout",
          "text": [
            "Loss : 0.13536715507507324, Val Loss : 0.14357756078243256 Acc : 0.9603120759837178, Val Acc : 0.9654510556621881\n",
            "Epochs : 260\n"
          ]
        },
        {
          "output_type": "stream",
          "name": "stderr",
          "text": [
            "100%|██████████| 20/20 [00:06<00:00,  3.01it/s]\n"
          ]
        },
        {
          "output_type": "stream",
          "name": "stdout",
          "text": [
            "Loss : 0.13529425859451294, Val Loss : 0.14352665841579437 Acc : 0.9603120759837178, Val Acc : 0.9654510556621881\n",
            "Epochs : 261\n"
          ]
        },
        {
          "output_type": "stream",
          "name": "stderr",
          "text": [
            "100%|██████████| 20/20 [00:06<00:00,  2.99it/s]\n"
          ]
        },
        {
          "output_type": "stream",
          "name": "stdout",
          "text": [
            "Loss : 0.1352214366197586, Val Loss : 0.14347553253173828 Acc : 0.9603120759837178, Val Acc : 0.9654510556621881\n",
            "Epochs : 262\n"
          ]
        },
        {
          "output_type": "stream",
          "name": "stderr",
          "text": [
            "100%|██████████| 20/20 [00:05<00:00,  3.44it/s]\n"
          ]
        },
        {
          "output_type": "stream",
          "name": "stdout",
          "text": [
            "Loss : 0.13514861464500427, Val Loss : 0.14342422783374786 Acc : 0.9603120759837178, Val Acc : 0.9654510556621881\n",
            "Epochs : 263\n"
          ]
        },
        {
          "output_type": "stream",
          "name": "stderr",
          "text": [
            "100%|██████████| 20/20 [00:05<00:00,  3.80it/s]\n"
          ]
        },
        {
          "output_type": "stream",
          "name": "stdout",
          "text": [
            "Loss : 0.13507594168186188, Val Loss : 0.1433737576007843 Acc : 0.9603120759837178, Val Acc : 0.9654510556621881\n",
            "Epochs : 264\n"
          ]
        },
        {
          "output_type": "stream",
          "name": "stderr",
          "text": [
            "100%|██████████| 20/20 [00:05<00:00,  3.50it/s]\n"
          ]
        },
        {
          "output_type": "stream",
          "name": "stdout",
          "text": [
            "Loss : 0.13500340282917023, Val Loss : 0.14332349598407745 Acc : 0.9603120759837178, Val Acc : 0.9654510556621881\n",
            "Epochs : 265\n"
          ]
        },
        {
          "output_type": "stream",
          "name": "stderr",
          "text": [
            "100%|██████████| 20/20 [00:05<00:00,  3.56it/s]\n"
          ]
        },
        {
          "output_type": "stream",
          "name": "stdout",
          "text": [
            "Loss : 0.1349310278892517, Val Loss : 0.1432715803384781 Acc : 0.9606512890094979, Val Acc : 0.9654510556621881\n",
            "Epochs : 266\n"
          ]
        },
        {
          "output_type": "stream",
          "name": "stderr",
          "text": [
            "100%|██████████| 20/20 [00:06<00:00,  3.04it/s]\n"
          ]
        },
        {
          "output_type": "stream",
          "name": "stdout",
          "text": [
            "Loss : 0.13478678464889526, Val Loss : 0.1431700438261032 Acc : 0.9606512890094979, Val Acc : 0.9654510556621881\n",
            "Epochs : 267\n"
          ]
        },
        {
          "output_type": "stream",
          "name": "stderr",
          "text": [
            "100%|██████████| 20/20 [00:05<00:00,  3.35it/s]\n"
          ]
        },
        {
          "output_type": "stream",
          "name": "stdout",
          "text": [
            "Loss : 0.13464370369911194, Val Loss : 0.14307072758674622 Acc : 0.9606512890094979, Val Acc : 0.9654510556621881\n",
            "Epochs : 268\n"
          ]
        },
        {
          "output_type": "stream",
          "name": "stderr",
          "text": [
            "100%|██████████| 20/20 [00:05<00:00,  3.66it/s]\n"
          ]
        },
        {
          "output_type": "stream",
          "name": "stdout",
          "text": [
            "Loss : 0.13457240164279938, Val Loss : 0.14302124083042145 Acc : 0.9606512890094979, Val Acc : 0.9654510556621881\n",
            "Epochs : 269\n"
          ]
        },
        {
          "output_type": "stream",
          "name": "stderr",
          "text": [
            "100%|██████████| 20/20 [00:06<00:00,  3.15it/s]\n"
          ]
        },
        {
          "output_type": "stream",
          "name": "stdout",
          "text": [
            "Loss : 0.13443045318126678, Val Loss : 0.14292316138744354 Acc : 0.9603120759837178, Val Acc : 0.9654510556621881\n",
            "Epochs : 270\n"
          ]
        },
        {
          "output_type": "stream",
          "name": "stderr",
          "text": [
            "100%|██████████| 20/20 [00:05<00:00,  3.65it/s]\n"
          ]
        },
        {
          "output_type": "stream",
          "name": "stdout",
          "text": [
            "Loss : 0.13435974717140198, Val Loss : 0.1428733766078949 Acc : 0.9603120759837178, Val Acc : 0.9654510556621881\n",
            "Epochs : 271\n"
          ]
        },
        {
          "output_type": "stream",
          "name": "stderr",
          "text": [
            "100%|██████████| 20/20 [00:06<00:00,  3.15it/s]\n"
          ]
        },
        {
          "output_type": "stream",
          "name": "stdout",
          "text": [
            "Loss : 0.13428927958011627, Val Loss : 0.14282433688640594 Acc : 0.9603120759837178, Val Acc : 0.9654510556621881\n",
            "Epochs : 272\n"
          ]
        },
        {
          "output_type": "stream",
          "name": "stderr",
          "text": [
            "100%|██████████| 20/20 [00:05<00:00,  3.75it/s]\n"
          ]
        },
        {
          "output_type": "stream",
          "name": "stdout",
          "text": [
            "Loss : 0.13421913981437683, Val Loss : 0.14277619123458862 Acc : 0.9603120759837178, Val Acc : 0.9654510556621881\n",
            "Epochs : 273\n"
          ]
        },
        {
          "output_type": "stream",
          "name": "stderr",
          "text": [
            "100%|██████████| 20/20 [00:05<00:00,  3.60it/s]\n"
          ]
        },
        {
          "output_type": "stream",
          "name": "stdout",
          "text": [
            "Loss : 0.1341492235660553, Val Loss : 0.14272958040237427 Acc : 0.9603120759837178, Val Acc : 0.9654510556621881\n",
            "Epochs : 274\n"
          ]
        },
        {
          "output_type": "stream",
          "name": "stderr",
          "text": [
            "100%|██████████| 20/20 [00:05<00:00,  3.38it/s]\n"
          ]
        },
        {
          "output_type": "stream",
          "name": "stdout",
          "text": [
            "Loss : 0.13400988280773163, Val Loss : 0.14263327419757843 Acc : 0.9603120759837178, Val Acc : 0.9654510556621881\n",
            "Epochs : 275\n"
          ]
        },
        {
          "output_type": "stream",
          "name": "stderr",
          "text": [
            "100%|██████████| 20/20 [00:05<00:00,  3.77it/s]\n"
          ]
        },
        {
          "output_type": "stream",
          "name": "stdout",
          "text": [
            "Loss : 0.13394057750701904, Val Loss : 0.14258533716201782 Acc : 0.9603120759837178, Val Acc : 0.9654510556621881\n",
            "Epochs : 276\n"
          ]
        },
        {
          "output_type": "stream",
          "name": "stderr",
          "text": [
            "100%|██████████| 20/20 [00:06<00:00,  3.15it/s]\n"
          ]
        },
        {
          "output_type": "stream",
          "name": "stdout",
          "text": [
            "Loss : 0.13387154042720795, Val Loss : 0.1425374299287796 Acc : 0.9603120759837178, Val Acc : 0.9654510556621881\n",
            "Epochs : 277\n"
          ]
        },
        {
          "output_type": "stream",
          "name": "stderr",
          "text": [
            "100%|██████████| 20/20 [00:05<00:00,  3.36it/s]\n"
          ]
        },
        {
          "output_type": "stream",
          "name": "stdout",
          "text": [
            "Loss : 0.13380277156829834, Val Loss : 0.14249137043952942 Acc : 0.9603120759837178, Val Acc : 0.9654510556621881\n",
            "Epochs : 278\n"
          ]
        },
        {
          "output_type": "stream",
          "name": "stderr",
          "text": [
            "100%|██████████| 20/20 [00:06<00:00,  3.08it/s]\n"
          ]
        },
        {
          "output_type": "stream",
          "name": "stdout",
          "text": [
            "Loss : 0.13366596400737762, Val Loss : 0.14239969849586487 Acc : 0.9599728629579376, Val Acc : 0.9654510556621881\n",
            "Epochs : 279\n"
          ]
        },
        {
          "output_type": "stream",
          "name": "stderr",
          "text": [
            "100%|██████████| 20/20 [00:05<00:00,  3.55it/s]\n"
          ]
        },
        {
          "output_type": "stream",
          "name": "stdout",
          "text": [
            "Loss : 0.1335979402065277, Val Loss : 0.14235256612300873 Acc : 0.9599728629579376, Val Acc : 0.9654510556621881\n",
            "Epochs : 280\n"
          ]
        },
        {
          "output_type": "stream",
          "name": "stderr",
          "text": [
            "100%|██████████| 20/20 [00:05<00:00,  3.54it/s]\n"
          ]
        },
        {
          "output_type": "stream",
          "name": "stdout",
          "text": [
            "Loss : 0.1335979402065277, Val Loss : 0.14235256612300873 Acc : 0.9599728629579376, Val Acc : 0.9654510556621881\n",
            "Epochs : 281\n"
          ]
        },
        {
          "output_type": "stream",
          "name": "stderr",
          "text": [
            "100%|██████████| 20/20 [00:06<00:00,  3.24it/s]\n"
          ]
        },
        {
          "output_type": "stream",
          "name": "stdout",
          "text": [
            "Loss : 0.13351331651210785, Val Loss : 0.14229626953601837 Acc : 0.9599728629579376, Val Acc : 0.9654510556621881\n",
            "Epochs : 282\n"
          ]
        },
        {
          "output_type": "stream",
          "name": "stderr",
          "text": [
            "100%|██████████| 20/20 [00:05<00:00,  3.53it/s]\n"
          ]
        },
        {
          "output_type": "stream",
          "name": "stdout",
          "text": [
            "Loss : 0.13345420360565186, Val Loss : 0.14225417375564575 Acc : 0.9599728629579376, Val Acc : 0.9654510556621881\n",
            "Epochs : 283\n"
          ]
        },
        {
          "output_type": "stream",
          "name": "stderr",
          "text": [
            "100%|██████████| 20/20 [00:06<00:00,  3.10it/s]\n"
          ]
        },
        {
          "output_type": "stream",
          "name": "stdout",
          "text": [
            "Loss : 0.13325990736484528, Val Loss : 0.14212407171726227 Acc : 0.9599728629579376, Val Acc : 0.9654510556621881\n",
            "Epochs : 284\n"
          ]
        },
        {
          "output_type": "stream",
          "name": "stderr",
          "text": [
            "100%|██████████| 20/20 [00:05<00:00,  3.71it/s]\n"
          ]
        },
        {
          "output_type": "stream",
          "name": "stdout",
          "text": [
            "Loss : 0.1331935077905655, Val Loss : 0.14207735657691956 Acc : 0.9603120759837178, Val Acc : 0.9654510556621881\n",
            "Epochs : 285\n"
          ]
        },
        {
          "output_type": "stream",
          "name": "stderr",
          "text": [
            "100%|██████████| 20/20 [00:06<00:00,  3.30it/s]\n"
          ]
        },
        {
          "output_type": "stream",
          "name": "stdout",
          "text": [
            "Loss : 0.13306055963039398, Val Loss : 0.14198832213878632 Acc : 0.9603120759837178, Val Acc : 0.9654510556621881\n",
            "Epochs : 286\n"
          ]
        },
        {
          "output_type": "stream",
          "name": "stderr",
          "text": [
            "100%|██████████| 20/20 [00:05<00:00,  3.46it/s]\n"
          ]
        },
        {
          "output_type": "stream",
          "name": "stdout",
          "text": [
            "Loss : 0.1329277753829956, Val Loss : 0.14189794659614563 Acc : 0.9603120759837178, Val Acc : 0.9654510556621881\n",
            "Epochs : 287\n"
          ]
        },
        {
          "output_type": "stream",
          "name": "stderr",
          "text": [
            "100%|██████████| 20/20 [00:06<00:00,  3.29it/s]\n"
          ]
        },
        {
          "output_type": "stream",
          "name": "stdout",
          "text": [
            "Loss : 0.13279570639133453, Val Loss : 0.14180988073349 Acc : 0.9603120759837178, Val Acc : 0.9654510556621881\n",
            "Epochs : 288\n"
          ]
        },
        {
          "output_type": "stream",
          "name": "stderr",
          "text": [
            "100%|██████████| 20/20 [00:05<00:00,  3.38it/s]\n"
          ]
        },
        {
          "output_type": "stream",
          "name": "stdout",
          "text": [
            "Loss : 0.13272994756698608, Val Loss : 0.141764298081398 Acc : 0.9603120759837178, Val Acc : 0.9654510556621881\n",
            "Epochs : 289\n"
          ]
        },
        {
          "output_type": "stream",
          "name": "stderr",
          "text": [
            "100%|██████████| 20/20 [00:05<00:00,  3.35it/s]\n"
          ]
        },
        {
          "output_type": "stream",
          "name": "stdout",
          "text": [
            "Loss : 0.13259868323802948, Val Loss : 0.1416725516319275 Acc : 0.9603120759837178, Val Acc : 0.9654510556621881\n",
            "Epochs : 290\n"
          ]
        },
        {
          "output_type": "stream",
          "name": "stderr",
          "text": [
            "100%|██████████| 20/20 [00:06<00:00,  3.16it/s]\n"
          ]
        },
        {
          "output_type": "stream",
          "name": "stdout",
          "text": [
            "Loss : 0.132402703166008, Val Loss : 0.1415398269891739 Acc : 0.9603120759837178, Val Acc : 0.9654510556621881\n",
            "Epochs : 291\n"
          ]
        },
        {
          "output_type": "stream",
          "name": "stderr",
          "text": [
            "100%|██████████| 20/20 [00:05<00:00,  3.34it/s]\n"
          ]
        },
        {
          "output_type": "stream",
          "name": "stdout",
          "text": [
            "Loss : 0.1322076916694641, Val Loss : 0.14140619337558746 Acc : 0.9606512890094979, Val Acc : 0.9654510556621881\n",
            "Epochs : 292\n"
          ]
        },
        {
          "output_type": "stream",
          "name": "stderr",
          "text": [
            "100%|██████████| 20/20 [00:06<00:00,  3.04it/s]\n"
          ]
        },
        {
          "output_type": "stream",
          "name": "stdout",
          "text": [
            "Loss : 0.132013738155365, Val Loss : 0.141275554895401 Acc : 0.9606512890094979, Val Acc : 0.9654510556621881\n",
            "Epochs : 293\n"
          ]
        },
        {
          "output_type": "stream",
          "name": "stderr",
          "text": [
            "100%|██████████| 20/20 [00:05<00:00,  3.46it/s]\n"
          ]
        },
        {
          "output_type": "stream",
          "name": "stdout",
          "text": [
            "Loss : 0.13188493251800537, Val Loss : 0.14118918776512146 Acc : 0.9606512890094979, Val Acc : 0.9654510556621881\n",
            "Epochs : 294\n"
          ]
        },
        {
          "output_type": "stream",
          "name": "stderr",
          "text": [
            "100%|██████████| 20/20 [00:06<00:00,  3.31it/s]\n"
          ]
        },
        {
          "output_type": "stream",
          "name": "stdout",
          "text": [
            "Loss : 0.13182063400745392, Val Loss : 0.1411454826593399 Acc : 0.9606512890094979, Val Acc : 0.9654510556621881\n",
            "Epochs : 295\n"
          ]
        },
        {
          "output_type": "stream",
          "name": "stderr",
          "text": [
            "100%|██████████| 20/20 [00:06<00:00,  3.06it/s]\n"
          ]
        },
        {
          "output_type": "stream",
          "name": "stdout",
          "text": [
            "Loss : 0.13169215619564056, Val Loss : 0.1410599797964096 Acc : 0.9606512890094979, Val Acc : 0.9654510556621881\n",
            "Epochs : 296\n"
          ]
        },
        {
          "output_type": "stream",
          "name": "stderr",
          "text": [
            "100%|██████████| 20/20 [00:05<00:00,  3.49it/s]\n"
          ]
        },
        {
          "output_type": "stream",
          "name": "stdout",
          "text": [
            "Loss : 0.13162805140018463, Val Loss : 0.14101634919643402 Acc : 0.9606512890094979, Val Acc : 0.9654510556621881\n",
            "Epochs : 297\n"
          ]
        },
        {
          "output_type": "stream",
          "name": "stderr",
          "text": [
            "100%|██████████| 20/20 [00:05<00:00,  3.35it/s]\n"
          ]
        },
        {
          "output_type": "stream",
          "name": "stdout",
          "text": [
            "Loss : 0.13150031864643097, Val Loss : 0.1409319043159485 Acc : 0.9606512890094979, Val Acc : 0.9654510556621881\n",
            "Epochs : 298\n"
          ]
        },
        {
          "output_type": "stream",
          "name": "stderr",
          "text": [
            "100%|██████████| 20/20 [00:05<00:00,  3.37it/s]\n"
          ]
        },
        {
          "output_type": "stream",
          "name": "stdout",
          "text": [
            "Loss : 0.13143661618232727, Val Loss : 0.14088808000087738 Acc : 0.9606512890094979, Val Acc : 0.9654510556621881\n",
            "Epochs : 299\n"
          ]
        },
        {
          "output_type": "stream",
          "name": "stderr",
          "text": [
            "100%|██████████| 20/20 [00:05<00:00,  3.37it/s]\n"
          ]
        },
        {
          "output_type": "stream",
          "name": "stdout",
          "text": [
            "Loss : 0.13137312233448029, Val Loss : 0.14084529876708984 Acc : 0.9606512890094979, Val Acc : 0.9654510556621881\n",
            "Epochs : 300\n"
          ]
        },
        {
          "output_type": "stream",
          "name": "stderr",
          "text": [
            "100%|██████████| 20/20 [00:06<00:00,  3.16it/s]\n"
          ]
        },
        {
          "output_type": "stream",
          "name": "stdout",
          "text": [
            "Loss : 0.13130971789360046, Val Loss : 0.1408039778470993 Acc : 0.9606512890094979, Val Acc : 0.9654510556621881\n",
            "Epochs : 301\n"
          ]
        },
        {
          "output_type": "stream",
          "name": "stderr",
          "text": [
            "100%|██████████| 20/20 [00:06<00:00,  3.01it/s]\n"
          ]
        },
        {
          "output_type": "stream",
          "name": "stdout",
          "text": [
            "Loss : 0.13118335604667664, Val Loss : 0.14071901142597198 Acc : 0.9606512890094979, Val Acc : 0.9654510556621881\n",
            "Epochs : 302\n"
          ]
        },
        {
          "output_type": "stream",
          "name": "stderr",
          "text": [
            "100%|██████████| 20/20 [00:05<00:00,  3.45it/s]\n"
          ]
        },
        {
          "output_type": "stream",
          "name": "stdout",
          "text": [
            "Loss : 0.13112035393714905, Val Loss : 0.14067372679710388 Acc : 0.9606512890094979, Val Acc : 0.9654510556621881\n",
            "Epochs : 303\n"
          ]
        },
        {
          "output_type": "stream",
          "name": "stderr",
          "text": [
            "100%|██████████| 20/20 [00:06<00:00,  3.33it/s]\n"
          ]
        },
        {
          "output_type": "stream",
          "name": "stdout",
          "text": [
            "Loss : 0.13105741143226624, Val Loss : 0.1406296342611313 Acc : 0.9606512890094979, Val Acc : 0.9654510556621881\n",
            "Epochs : 304\n"
          ]
        },
        {
          "output_type": "stream",
          "name": "stderr",
          "text": [
            "100%|██████████| 20/20 [00:05<00:00,  3.39it/s]\n"
          ]
        },
        {
          "output_type": "stream",
          "name": "stdout",
          "text": [
            "Loss : 0.13093166053295135, Val Loss : 0.14054462313652039 Acc : 0.9606512890094979, Val Acc : 0.9654510556621881\n",
            "Epochs : 305\n"
          ]
        },
        {
          "output_type": "stream",
          "name": "stderr",
          "text": [
            "100%|██████████| 20/20 [00:06<00:00,  2.96it/s]\n"
          ]
        },
        {
          "output_type": "stream",
          "name": "stdout",
          "text": [
            "Loss : 0.13083752989768982, Val Loss : 0.14047886431217194 Acc : 0.9606512890094979, Val Acc : 0.9654510556621881\n",
            "Epochs : 306\n"
          ]
        },
        {
          "output_type": "stream",
          "name": "stderr",
          "text": [
            "100%|██████████| 20/20 [00:06<00:00,  3.23it/s]\n"
          ]
        },
        {
          "output_type": "stream",
          "name": "stdout",
          "text": [
            "Loss : 0.13073579967021942, Val Loss : 0.14040827751159668 Acc : 0.9606512890094979, Val Acc : 0.9654510556621881\n",
            "Epochs : 307\n"
          ]
        },
        {
          "output_type": "stream",
          "name": "stderr",
          "text": [
            "100%|██████████| 20/20 [00:06<00:00,  3.32it/s]\n"
          ]
        },
        {
          "output_type": "stream",
          "name": "stdout",
          "text": [
            "Loss : 0.13061679899692535, Val Loss : 0.14032454788684845 Acc : 0.9606512890094979, Val Acc : 0.9654510556621881\n",
            "Epochs : 308\n"
          ]
        },
        {
          "output_type": "stream",
          "name": "stderr",
          "text": [
            "100%|██████████| 20/20 [00:06<00:00,  3.20it/s]\n"
          ]
        },
        {
          "output_type": "stream",
          "name": "stdout",
          "text": [
            "Loss : 0.13043175637722015, Val Loss : 0.14019641280174255 Acc : 0.9606512890094979, Val Acc : 0.9654510556621881\n",
            "Epochs : 309\n"
          ]
        },
        {
          "output_type": "stream",
          "name": "stderr",
          "text": [
            "100%|██████████| 20/20 [00:06<00:00,  2.92it/s]\n"
          ]
        },
        {
          "output_type": "stream",
          "name": "stdout",
          "text": [
            "Loss : 0.13036999106407166, Val Loss : 0.14015361666679382 Acc : 0.9606512890094979, Val Acc : 0.9654510556621881\n",
            "Epochs : 310\n"
          ]
        },
        {
          "output_type": "stream",
          "name": "stderr",
          "text": [
            "100%|██████████| 20/20 [00:05<00:00,  3.44it/s]\n"
          ]
        },
        {
          "output_type": "stream",
          "name": "stdout",
          "text": [
            "Loss : 0.1302468180656433, Val Loss : 0.14007003605365753 Acc : 0.9606512890094979, Val Acc : 0.9654510556621881\n",
            "Epochs : 311\n"
          ]
        },
        {
          "output_type": "stream",
          "name": "stderr",
          "text": [
            "100%|██████████| 20/20 [00:06<00:00,  3.01it/s]\n"
          ]
        },
        {
          "output_type": "stream",
          "name": "stdout",
          "text": [
            "Loss : 0.13006266951560974, Val Loss : 0.1399400681257248 Acc : 0.9606512890094979, Val Acc : 0.9654510556621881\n",
            "Epochs : 312\n"
          ]
        },
        {
          "output_type": "stream",
          "name": "stderr",
          "text": [
            "100%|██████████| 20/20 [00:05<00:00,  3.59it/s]\n"
          ]
        },
        {
          "output_type": "stream",
          "name": "stdout",
          "text": [
            "Loss : 0.1299402415752411, Val Loss : 0.1398579478263855 Acc : 0.9606512890094979, Val Acc : 0.9654510556621881\n",
            "Epochs : 313\n"
          ]
        },
        {
          "output_type": "stream",
          "name": "stderr",
          "text": [
            "100%|██████████| 20/20 [00:06<00:00,  2.91it/s]\n"
          ]
        },
        {
          "output_type": "stream",
          "name": "stdout",
          "text": [
            "Loss : 0.12981824576854706, Val Loss : 0.1397717446088791 Acc : 0.9606512890094979, Val Acc : 0.9654510556621881\n",
            "Epochs : 314\n"
          ]
        },
        {
          "output_type": "stream",
          "name": "stderr",
          "text": [
            "100%|██████████| 20/20 [00:06<00:00,  3.18it/s]\n"
          ]
        },
        {
          "output_type": "stream",
          "name": "stdout",
          "text": [
            "Loss : 0.12969674170017242, Val Loss : 0.13968878984451294 Acc : 0.9606512890094979, Val Acc : 0.9654510556621881\n",
            "Epochs : 315\n"
          ]
        },
        {
          "output_type": "stream",
          "name": "stderr",
          "text": [
            "100%|██████████| 20/20 [00:05<00:00,  3.70it/s]\n"
          ]
        },
        {
          "output_type": "stream",
          "name": "stdout",
          "text": [
            "Loss : 0.12957565486431122, Val Loss : 0.13960407674312592 Acc : 0.9606512890094979, Val Acc : 0.9654510556621881\n",
            "Epochs : 316\n"
          ]
        },
        {
          "output_type": "stream",
          "name": "stderr",
          "text": [
            "100%|██████████| 20/20 [00:06<00:00,  3.24it/s]\n"
          ]
        },
        {
          "output_type": "stream",
          "name": "stdout",
          "text": [
            "Loss : 0.12951529026031494, Val Loss : 0.13956232368946075 Acc : 0.9606512890094979, Val Acc : 0.9654510556621881\n",
            "Epochs : 317\n"
          ]
        },
        {
          "output_type": "stream",
          "name": "stderr",
          "text": [
            "100%|██████████| 20/20 [00:06<00:00,  3.13it/s]\n"
          ]
        },
        {
          "output_type": "stream",
          "name": "stdout",
          "text": [
            "Loss : 0.129455104470253, Val Loss : 0.13952098786830902 Acc : 0.9606512890094979, Val Acc : 0.9654510556621881\n",
            "Epochs : 318\n"
          ]
        },
        {
          "output_type": "stream",
          "name": "stderr",
          "text": [
            "100%|██████████| 20/20 [00:06<00:00,  3.29it/s]\n"
          ]
        },
        {
          "output_type": "stream",
          "name": "stdout",
          "text": [
            "Loss : 0.1293950378894806, Val Loss : 0.13947898149490356 Acc : 0.9606512890094979, Val Acc : 0.9654510556621881\n",
            "Epochs : 319\n"
          ]
        },
        {
          "output_type": "stream",
          "name": "stderr",
          "text": [
            "100%|██████████| 20/20 [00:06<00:00,  3.11it/s]\n"
          ]
        },
        {
          "output_type": "stream",
          "name": "stdout",
          "text": [
            "Loss : 0.12933498620986938, Val Loss : 0.1394374817609787 Acc : 0.9606512890094979, Val Acc : 0.9654510556621881\n",
            "Epochs : 320\n"
          ]
        },
        {
          "output_type": "stream",
          "name": "stderr",
          "text": [
            "100%|██████████| 20/20 [00:06<00:00,  3.26it/s]\n"
          ]
        },
        {
          "output_type": "stream",
          "name": "stdout",
          "text": [
            "Loss : 0.12927503883838654, Val Loss : 0.13939620554447174 Acc : 0.9606512890094979, Val Acc : 0.9654510556621881\n",
            "Epochs : 321\n"
          ]
        },
        {
          "output_type": "stream",
          "name": "stderr",
          "text": [
            "100%|██████████| 20/20 [00:05<00:00,  3.61it/s]\n"
          ]
        },
        {
          "output_type": "stream",
          "name": "stdout",
          "text": [
            "Loss : 0.12921521067619324, Val Loss : 0.1393546313047409 Acc : 0.9606512890094979, Val Acc : 0.9654510556621881\n",
            "Epochs : 322\n"
          ]
        },
        {
          "output_type": "stream",
          "name": "stderr",
          "text": [
            "100%|██████████| 20/20 [00:06<00:00,  3.10it/s]\n"
          ]
        },
        {
          "output_type": "stream",
          "name": "stdout",
          "text": [
            "Loss : 0.12915559113025665, Val Loss : 0.13931269943714142 Acc : 0.9606512890094979, Val Acc : 0.9654510556621881\n",
            "Epochs : 323\n"
          ]
        },
        {
          "output_type": "stream",
          "name": "stderr",
          "text": [
            "100%|██████████| 20/20 [00:06<00:00,  3.06it/s]\n"
          ]
        },
        {
          "output_type": "stream",
          "name": "stdout",
          "text": [
            "Loss : 0.129036545753479, Val Loss : 0.13923081755638123 Acc : 0.9606512890094979, Val Acc : 0.9654510556621881\n",
            "Epochs : 324\n"
          ]
        },
        {
          "output_type": "stream",
          "name": "stderr",
          "text": [
            "100%|██████████| 20/20 [00:06<00:00,  2.95it/s]\n"
          ]
        },
        {
          "output_type": "stream",
          "name": "stdout",
          "text": [
            "Loss : 0.12891775369644165, Val Loss : 0.13914690911769867 Acc : 0.9606512890094979, Val Acc : 0.9654510556621881\n",
            "Epochs : 325\n"
          ]
        },
        {
          "output_type": "stream",
          "name": "stderr",
          "text": [
            "100%|██████████| 20/20 [00:06<00:00,  2.99it/s]\n"
          ]
        },
        {
          "output_type": "stream",
          "name": "stdout",
          "text": [
            "Loss : 0.1287403106689453, Val Loss : 0.13902604579925537 Acc : 0.9606512890094979, Val Acc : 0.9654510556621881\n",
            "Epochs : 326\n"
          ]
        },
        {
          "output_type": "stream",
          "name": "stderr",
          "text": [
            "100%|██████████| 20/20 [00:06<00:00,  3.22it/s]\n"
          ]
        },
        {
          "output_type": "stream",
          "name": "stdout",
          "text": [
            "Loss : 0.12868142127990723, Val Loss : 0.13898563385009766 Acc : 0.9606512890094979, Val Acc : 0.9654510556621881\n",
            "Epochs : 327\n"
          ]
        },
        {
          "output_type": "stream",
          "name": "stderr",
          "text": [
            "100%|██████████| 20/20 [00:06<00:00,  3.12it/s]\n"
          ]
        },
        {
          "output_type": "stream",
          "name": "stdout",
          "text": [
            "Loss : 0.12850525975227356, Val Loss : 0.1388644427061081 Acc : 0.9606512890094979, Val Acc : 0.9654510556621881\n",
            "Epochs : 328\n"
          ]
        },
        {
          "output_type": "stream",
          "name": "stderr",
          "text": [
            "100%|██████████| 20/20 [00:05<00:00,  3.52it/s]\n"
          ]
        },
        {
          "output_type": "stream",
          "name": "stdout",
          "text": [
            "Loss : 0.1284472644329071, Val Loss : 0.13882726430892944 Acc : 0.9606512890094979, Val Acc : 0.9654510556621881\n",
            "Epochs : 329\n"
          ]
        },
        {
          "output_type": "stream",
          "name": "stderr",
          "text": [
            "100%|██████████| 20/20 [00:06<00:00,  3.11it/s]\n"
          ]
        },
        {
          "output_type": "stream",
          "name": "stdout",
          "text": [
            "Loss : 0.12841850519180298, Val Loss : 0.13880717754364014 Acc : 0.9606512890094979, Val Acc : 0.9654510556621881\n",
            "Epochs : 330\n"
          ]
        },
        {
          "output_type": "stream",
          "name": "stderr",
          "text": [
            "100%|██████████| 20/20 [00:06<00:00,  3.28it/s]\n"
          ]
        },
        {
          "output_type": "stream",
          "name": "stdout",
          "text": [
            "Loss : 0.12837539613246918, Val Loss : 0.13877877593040466 Acc : 0.9606512890094979, Val Acc : 0.9654510556621881\n",
            "Epochs : 331\n"
          ]
        },
        {
          "output_type": "stream",
          "name": "stderr",
          "text": [
            "100%|██████████| 20/20 [00:04<00:00,  4.03it/s]\n"
          ]
        },
        {
          "output_type": "stream",
          "name": "stdout",
          "text": [
            "Loss : 0.1283251792192459, Val Loss : 0.1387447863817215 Acc : 0.9606512890094979, Val Acc : 0.9654510556621881\n",
            "Epochs : 332\n"
          ]
        },
        {
          "output_type": "stream",
          "name": "stderr",
          "text": [
            "100%|██████████| 20/20 [00:06<00:00,  3.08it/s]\n"
          ]
        },
        {
          "output_type": "stream",
          "name": "stdout",
          "text": [
            "Loss : 0.12821583449840546, Val Loss : 0.13867205381393433 Acc : 0.9606512890094979, Val Acc : 0.9654510556621881\n",
            "Epochs : 333\n"
          ]
        },
        {
          "output_type": "stream",
          "name": "stderr",
          "text": [
            "100%|██████████| 20/20 [00:06<00:00,  3.32it/s]\n"
          ]
        },
        {
          "output_type": "stream",
          "name": "stdout",
          "text": [
            "Loss : 0.12815943360328674, Val Loss : 0.13863274455070496 Acc : 0.9606512890094979, Val Acc : 0.9654510556621881\n",
            "Epochs : 334\n"
          ]
        },
        {
          "output_type": "stream",
          "name": "stderr",
          "text": [
            "100%|██████████| 20/20 [00:05<00:00,  3.34it/s]\n"
          ]
        },
        {
          "output_type": "stream",
          "name": "stdout",
          "text": [
            "Loss : 0.12798869609832764, Val Loss : 0.13851946592330933 Acc : 0.9606512890094979, Val Acc : 0.9654510556621881\n",
            "Epochs : 335\n"
          ]
        },
        {
          "output_type": "stream",
          "name": "stderr",
          "text": [
            "100%|██████████| 20/20 [00:06<00:00,  3.06it/s]\n"
          ]
        },
        {
          "output_type": "stream",
          "name": "stdout",
          "text": [
            "Loss : 0.12793175876140594, Val Loss : 0.13848040997982025 Acc : 0.9606512890094979, Val Acc : 0.9654510556621881\n",
            "Epochs : 336\n"
          ]
        },
        {
          "output_type": "stream",
          "name": "stderr",
          "text": [
            "100%|██████████| 20/20 [00:06<00:00,  3.02it/s]\n"
          ]
        },
        {
          "output_type": "stream",
          "name": "stdout",
          "text": [
            "Loss : 0.12776148319244385, Val Loss : 0.13836383819580078 Acc : 0.9609905020352781, Val Acc : 0.9654510556621881\n",
            "Epochs : 337\n"
          ]
        },
        {
          "output_type": "stream",
          "name": "stderr",
          "text": [
            "100%|██████████| 20/20 [00:06<00:00,  3.25it/s]\n"
          ]
        },
        {
          "output_type": "stream",
          "name": "stdout",
          "text": [
            "Loss : 0.12759223580360413, Val Loss : 0.13824918866157532 Acc : 0.9609905020352781, Val Acc : 0.9654510556621881\n",
            "Epochs : 338\n"
          ]
        },
        {
          "output_type": "stream",
          "name": "stderr",
          "text": [
            "100%|██████████| 20/20 [00:05<00:00,  3.47it/s]\n"
          ]
        },
        {
          "output_type": "stream",
          "name": "stdout",
          "text": [
            "Loss : 0.1274239420890808, Val Loss : 0.1381348818540573 Acc : 0.9609905020352781, Val Acc : 0.9654510556621881\n",
            "Epochs : 339\n"
          ]
        },
        {
          "output_type": "stream",
          "name": "stderr",
          "text": [
            "100%|██████████| 20/20 [00:06<00:00,  3.21it/s]\n"
          ]
        },
        {
          "output_type": "stream",
          "name": "stdout",
          "text": [
            "Loss : 0.1273680180311203, Val Loss : 0.13809886574745178 Acc : 0.9609905020352781, Val Acc : 0.9654510556621881\n",
            "Epochs : 340\n"
          ]
        },
        {
          "output_type": "stream",
          "name": "stderr",
          "text": [
            "100%|██████████| 20/20 [00:05<00:00,  3.52it/s]\n"
          ]
        },
        {
          "output_type": "stream",
          "name": "stdout",
          "text": [
            "Loss : 0.12731216847896576, Val Loss : 0.1380622386932373 Acc : 0.9609905020352781, Val Acc : 0.9654510556621881\n",
            "Epochs : 341\n"
          ]
        },
        {
          "output_type": "stream",
          "name": "stderr",
          "text": [
            "100%|██████████| 20/20 [00:06<00:00,  3.23it/s]\n"
          ]
        },
        {
          "output_type": "stream",
          "name": "stdout",
          "text": [
            "Loss : 0.12725643813610077, Val Loss : 0.13802506029605865 Acc : 0.9609905020352781, Val Acc : 0.9654510556621881\n",
            "Epochs : 342\n"
          ]
        },
        {
          "output_type": "stream",
          "name": "stderr",
          "text": [
            "100%|██████████| 20/20 [00:06<00:00,  3.30it/s]\n"
          ]
        },
        {
          "output_type": "stream",
          "name": "stdout",
          "text": [
            "Loss : 0.12720075249671936, Val Loss : 0.1379873901605606 Acc : 0.9609905020352781, Val Acc : 0.9654510556621881\n",
            "Epochs : 343\n"
          ]
        },
        {
          "output_type": "stream",
          "name": "stderr",
          "text": [
            "100%|██████████| 20/20 [00:05<00:00,  3.49it/s]\n"
          ]
        },
        {
          "output_type": "stream",
          "name": "stdout",
          "text": [
            "Loss : 0.12714508175849915, Val Loss : 0.1379493623971939 Acc : 0.9609905020352781, Val Acc : 0.9654510556621881\n",
            "Epochs : 344\n"
          ]
        },
        {
          "output_type": "stream",
          "name": "stderr",
          "text": [
            "100%|██████████| 20/20 [00:05<00:00,  3.42it/s]\n"
          ]
        },
        {
          "output_type": "stream",
          "name": "stdout",
          "text": [
            "Loss : 0.12708966434001923, Val Loss : 0.1379106342792511 Acc : 0.9609905020352781, Val Acc : 0.9654510556621881\n",
            "Epochs : 345\n"
          ]
        },
        {
          "output_type": "stream",
          "name": "stderr",
          "text": [
            "100%|██████████| 20/20 [00:06<00:00,  3.12it/s]\n"
          ]
        },
        {
          "output_type": "stream",
          "name": "stdout",
          "text": [
            "Loss : 0.12703435122966766, Val Loss : 0.13787387311458588 Acc : 0.9606512890094979, Val Acc : 0.9654510556621881\n",
            "Epochs : 346\n"
          ]
        },
        {
          "output_type": "stream",
          "name": "stderr",
          "text": [
            "100%|██████████| 20/20 [00:05<00:00,  3.43it/s]\n"
          ]
        },
        {
          "output_type": "stream",
          "name": "stdout",
          "text": [
            "Loss : 0.12697918713092804, Val Loss : 0.1378367841243744 Acc : 0.9606512890094979, Val Acc : 0.9654510556621881\n",
            "Epochs : 347\n"
          ]
        },
        {
          "output_type": "stream",
          "name": "stderr",
          "text": [
            "100%|██████████| 20/20 [00:06<00:00,  3.04it/s]\n"
          ]
        },
        {
          "output_type": "stream",
          "name": "stdout",
          "text": [
            "Loss : 0.12692415714263916, Val Loss : 0.13780029118061066 Acc : 0.9606512890094979, Val Acc : 0.9654510556621881\n",
            "Epochs : 348\n"
          ]
        },
        {
          "output_type": "stream",
          "name": "stderr",
          "text": [
            "100%|██████████| 20/20 [00:06<00:00,  3.16it/s]\n"
          ]
        },
        {
          "output_type": "stream",
          "name": "stdout",
          "text": [
            "Loss : 0.12686915695667267, Val Loss : 0.13776114583015442 Acc : 0.9606512890094979, Val Acc : 0.9654510556621881\n",
            "Epochs : 349\n"
          ]
        },
        {
          "output_type": "stream",
          "name": "stderr",
          "text": [
            "100%|██████████| 20/20 [00:05<00:00,  3.37it/s]\n"
          ]
        },
        {
          "output_type": "stream",
          "name": "stdout",
          "text": [
            "Loss : 0.1268143355846405, Val Loss : 0.1377238631248474 Acc : 0.9606512890094979, Val Acc : 0.9654510556621881\n",
            "Epochs : 350\n"
          ]
        },
        {
          "output_type": "stream",
          "name": "stderr",
          "text": [
            "100%|██████████| 20/20 [00:07<00:00,  2.69it/s]\n"
          ]
        },
        {
          "output_type": "stream",
          "name": "stdout",
          "text": [
            "Loss : 0.12675964832305908, Val Loss : 0.13768748939037323 Acc : 0.9606512890094979, Val Acc : 0.9654510556621881\n",
            "Epochs : 351\n"
          ]
        },
        {
          "output_type": "stream",
          "name": "stderr",
          "text": [
            "100%|██████████| 20/20 [00:06<00:00,  3.14it/s]\n"
          ]
        },
        {
          "output_type": "stream",
          "name": "stdout",
          "text": [
            "Loss : 0.1267050951719284, Val Loss : 0.1376495659351349 Acc : 0.9606512890094979, Val Acc : 0.9654510556621881\n",
            "Epochs : 352\n"
          ]
        },
        {
          "output_type": "stream",
          "name": "stderr",
          "text": [
            "100%|██████████| 20/20 [00:05<00:00,  3.61it/s]\n"
          ]
        },
        {
          "output_type": "stream",
          "name": "stdout",
          "text": [
            "Loss : 0.12659625709056854, Val Loss : 0.13757731020450592 Acc : 0.9606512890094979, Val Acc : 0.9654510556621881\n",
            "Epochs : 353\n"
          ]
        },
        {
          "output_type": "stream",
          "name": "stderr",
          "text": [
            "100%|██████████| 20/20 [00:06<00:00,  3.31it/s]\n"
          ]
        },
        {
          "output_type": "stream",
          "name": "stdout",
          "text": [
            "Loss : 0.12648791074752808, Val Loss : 0.1375015377998352 Acc : 0.9606512890094979, Val Acc : 0.9654510556621881\n",
            "Epochs : 354\n"
          ]
        },
        {
          "output_type": "stream",
          "name": "stderr",
          "text": [
            "100%|██████████| 20/20 [00:06<00:00,  3.02it/s]\n"
          ]
        },
        {
          "output_type": "stream",
          "name": "stdout",
          "text": [
            "Loss : 0.12638016045093536, Val Loss : 0.13742758333683014 Acc : 0.9606512890094979, Val Acc : 0.9654510556621881\n",
            "Epochs : 355\n"
          ]
        },
        {
          "output_type": "stream",
          "name": "stderr",
          "text": [
            "100%|██████████| 20/20 [00:05<00:00,  3.58it/s]\n"
          ]
        },
        {
          "output_type": "stream",
          "name": "stdout",
          "text": [
            "Loss : 0.1263265609741211, Val Loss : 0.1373913586139679 Acc : 0.9606512890094979, Val Acc : 0.9654510556621881\n",
            "Epochs : 356\n"
          ]
        },
        {
          "output_type": "stream",
          "name": "stderr",
          "text": [
            "100%|██████████| 20/20 [00:06<00:00,  3.07it/s]\n"
          ]
        },
        {
          "output_type": "stream",
          "name": "stdout",
          "text": [
            "Loss : 0.12621991336345673, Val Loss : 0.13732139766216278 Acc : 0.9606512890094979, Val Acc : 0.9654510556621881\n",
            "Epochs : 357\n"
          ]
        },
        {
          "output_type": "stream",
          "name": "stderr",
          "text": [
            "100%|██████████| 20/20 [00:05<00:00,  3.81it/s]\n"
          ]
        },
        {
          "output_type": "stream",
          "name": "stdout",
          "text": [
            "Loss : 0.12615348398685455, Val Loss : 0.13727524876594543 Acc : 0.9606512890094979, Val Acc : 0.9654510556621881\n",
            "Epochs : 358\n"
          ]
        },
        {
          "output_type": "stream",
          "name": "stderr",
          "text": [
            "100%|██████████| 20/20 [00:06<00:00,  3.03it/s]\n"
          ]
        },
        {
          "output_type": "stream",
          "name": "stdout",
          "text": [
            "Loss : 0.1261070966720581, Val Loss : 0.13724398612976074 Acc : 0.9606512890094979, Val Acc : 0.9654510556621881\n",
            "Epochs : 359\n"
          ]
        },
        {
          "output_type": "stream",
          "name": "stderr",
          "text": [
            "100%|██████████| 20/20 [00:05<00:00,  3.63it/s]\n"
          ]
        },
        {
          "output_type": "stream",
          "name": "stdout",
          "text": [
            "Loss : 0.1260574460029602, Val Loss : 0.13721150159835815 Acc : 0.9606512890094979, Val Acc : 0.9654510556621881\n",
            "Epochs : 360\n"
          ]
        },
        {
          "output_type": "stream",
          "name": "stderr",
          "text": [
            "100%|██████████| 20/20 [00:05<00:00,  3.45it/s]\n"
          ]
        },
        {
          "output_type": "stream",
          "name": "stdout",
          "text": [
            "Loss : 0.12600615620613098, Val Loss : 0.13717864453792572 Acc : 0.9606512890094979, Val Acc : 0.9654510556621881\n",
            "Epochs : 361\n"
          ]
        },
        {
          "output_type": "stream",
          "name": "stderr",
          "text": [
            "100%|██████████| 20/20 [00:05<00:00,  3.42it/s]\n"
          ]
        },
        {
          "output_type": "stream",
          "name": "stdout",
          "text": [
            "Loss : 0.12595409154891968, Val Loss : 0.13714420795440674 Acc : 0.9606512890094979, Val Acc : 0.9654510556621881\n",
            "Epochs : 362\n"
          ]
        },
        {
          "output_type": "stream",
          "name": "stderr",
          "text": [
            "100%|██████████| 20/20 [00:06<00:00,  3.29it/s]\n"
          ]
        },
        {
          "output_type": "stream",
          "name": "stdout",
          "text": [
            "Loss : 0.12590163946151733, Val Loss : 0.1371081918478012 Acc : 0.9606512890094979, Val Acc : 0.9654510556621881\n",
            "Epochs : 363\n"
          ]
        },
        {
          "output_type": "stream",
          "name": "stderr",
          "text": [
            "100%|██████████| 20/20 [00:06<00:00,  3.19it/s]\n"
          ]
        },
        {
          "output_type": "stream",
          "name": "stdout",
          "text": [
            "Loss : 0.12579627335071564, Val Loss : 0.13704022765159607 Acc : 0.9606512890094979, Val Acc : 0.9654510556621881\n",
            "Epochs : 364\n"
          ]
        },
        {
          "output_type": "stream",
          "name": "stderr",
          "text": [
            "100%|██████████| 20/20 [00:05<00:00,  3.65it/s]\n"
          ]
        },
        {
          "output_type": "stream",
          "name": "stdout",
          "text": [
            "Loss : 0.12574359774589539, Val Loss : 0.13700328767299652 Acc : 0.9606512890094979, Val Acc : 0.9654510556621881\n",
            "Epochs : 365\n"
          ]
        },
        {
          "output_type": "stream",
          "name": "stderr",
          "text": [
            "100%|██████████| 20/20 [00:06<00:00,  3.00it/s]\n"
          ]
        },
        {
          "output_type": "stream",
          "name": "stdout",
          "text": [
            "Loss : 0.12569095194339752, Val Loss : 0.13696815073490143 Acc : 0.9606512890094979, Val Acc : 0.9654510556621881\n",
            "Epochs : 366\n"
          ]
        },
        {
          "output_type": "stream",
          "name": "stderr",
          "text": [
            "100%|██████████| 20/20 [00:05<00:00,  3.75it/s]\n"
          ]
        },
        {
          "output_type": "stream",
          "name": "stdout",
          "text": [
            "Loss : 0.12563838064670563, Val Loss : 0.13693177700042725 Acc : 0.9606512890094979, Val Acc : 0.9654510556621881\n",
            "Epochs : 367\n"
          ]
        },
        {
          "output_type": "stream",
          "name": "stderr",
          "text": [
            "100%|██████████| 20/20 [00:06<00:00,  2.96it/s]\n"
          ]
        },
        {
          "output_type": "stream",
          "name": "stdout",
          "text": [
            "Loss : 0.12553350627422333, Val Loss : 0.13686271011829376 Acc : 0.9609905020352781, Val Acc : 0.9654510556621881\n",
            "Epochs : 368\n"
          ]
        },
        {
          "output_type": "stream",
          "name": "stderr",
          "text": [
            "100%|██████████| 20/20 [00:06<00:00,  3.22it/s]\n"
          ]
        },
        {
          "output_type": "stream",
          "name": "stdout",
          "text": [
            "Loss : 0.12542885541915894, Val Loss : 0.13678909838199615 Acc : 0.9609905020352781, Val Acc : 0.9654510556621881\n",
            "Epochs : 369\n"
          ]
        },
        {
          "output_type": "stream",
          "name": "stderr",
          "text": [
            "100%|██████████| 20/20 [00:06<00:00,  3.25it/s]\n"
          ]
        },
        {
          "output_type": "stream",
          "name": "stdout",
          "text": [
            "Loss : 0.1253766417503357, Val Loss : 0.1367540955543518 Acc : 0.9609905020352781, Val Acc : 0.9654510556621881\n",
            "Epochs : 370\n"
          ]
        },
        {
          "output_type": "stream",
          "name": "stderr",
          "text": [
            "100%|██████████| 20/20 [00:06<00:00,  3.28it/s]\n"
          ]
        },
        {
          "output_type": "stream",
          "name": "stdout",
          "text": [
            "Loss : 0.125324547290802, Val Loss : 0.13671892881393433 Acc : 0.9609905020352781, Val Acc : 0.9654510556621881\n",
            "Epochs : 371\n"
          ]
        },
        {
          "output_type": "stream",
          "name": "stderr",
          "text": [
            "100%|██████████| 20/20 [00:06<00:00,  3.08it/s]\n"
          ]
        },
        {
          "output_type": "stream",
          "name": "stdout",
          "text": [
            "Loss : 0.1252727210521698, Val Loss : 0.1366817206144333 Acc : 0.9609905020352781, Val Acc : 0.9654510556621881\n",
            "Epochs : 372\n"
          ]
        },
        {
          "output_type": "stream",
          "name": "stderr",
          "text": [
            "100%|██████████| 20/20 [00:05<00:00,  3.56it/s]\n"
          ]
        },
        {
          "output_type": "stream",
          "name": "stdout",
          "text": [
            "Loss : 0.12516935169696808, Val Loss : 0.13661104440689087 Acc : 0.9609905020352781, Val Acc : 0.9654510556621881\n",
            "Epochs : 373\n"
          ]
        },
        {
          "output_type": "stream",
          "name": "stderr",
          "text": [
            "100%|██████████| 20/20 [00:05<00:00,  3.42it/s]\n"
          ]
        },
        {
          "output_type": "stream",
          "name": "stdout",
          "text": [
            "Loss : 0.1251177340745926, Val Loss : 0.1365765482187271 Acc : 0.9609905020352781, Val Acc : 0.9654510556621881\n",
            "Epochs : 374\n"
          ]
        },
        {
          "output_type": "stream",
          "name": "stderr",
          "text": [
            "100%|██████████| 20/20 [00:06<00:00,  3.20it/s]\n"
          ]
        },
        {
          "output_type": "stream",
          "name": "stdout",
          "text": [
            "Loss : 0.12501445412635803, Val Loss : 0.13650797307491302 Acc : 0.9609905020352781, Val Acc : 0.9654510556621881\n",
            "Epochs : 375\n"
          ]
        },
        {
          "output_type": "stream",
          "name": "stderr",
          "text": [
            "100%|██████████| 20/20 [00:06<00:00,  3.31it/s]\n"
          ]
        },
        {
          "output_type": "stream",
          "name": "stdout",
          "text": [
            "Loss : 0.12485974282026291, Val Loss : 0.13640472292900085 Acc : 0.9609905020352781, Val Acc : 0.9654510556621881\n",
            "Epochs : 376\n"
          ]
        },
        {
          "output_type": "stream",
          "name": "stderr",
          "text": [
            "100%|██████████| 20/20 [00:05<00:00,  3.41it/s]\n"
          ]
        },
        {
          "output_type": "stream",
          "name": "stdout",
          "text": [
            "Loss : 0.12480837851762772, Val Loss : 0.13637089729309082 Acc : 0.9609905020352781, Val Acc : 0.9654510556621881\n",
            "Epochs : 377\n"
          ]
        },
        {
          "output_type": "stream",
          "name": "stderr",
          "text": [
            "100%|██████████| 20/20 [00:06<00:00,  2.98it/s]\n"
          ]
        },
        {
          "output_type": "stream",
          "name": "stdout",
          "text": [
            "Loss : 0.12475703656673431, Val Loss : 0.13633860647678375 Acc : 0.9609905020352781, Val Acc : 0.9654510556621881\n",
            "Epochs : 378\n"
          ]
        },
        {
          "output_type": "stream",
          "name": "stderr",
          "text": [
            "100%|██████████| 20/20 [00:06<00:00,  3.25it/s]\n"
          ]
        },
        {
          "output_type": "stream",
          "name": "stdout",
          "text": [
            "Loss : 0.12470567971467972, Val Loss : 0.13630560040473938 Acc : 0.9609905020352781, Val Acc : 0.9654510556621881\n",
            "Epochs : 379\n"
          ]
        },
        {
          "output_type": "stream",
          "name": "stderr",
          "text": [
            "100%|██████████| 20/20 [00:05<00:00,  3.74it/s]\n"
          ]
        },
        {
          "output_type": "stream",
          "name": "stdout",
          "text": [
            "Loss : 0.12465433031320572, Val Loss : 0.1362711787223816 Acc : 0.9609905020352781, Val Acc : 0.9654510556621881\n",
            "Epochs : 380\n"
          ]
        },
        {
          "output_type": "stream",
          "name": "stderr",
          "text": [
            "100%|██████████| 20/20 [00:06<00:00,  3.19it/s]\n"
          ]
        },
        {
          "output_type": "stream",
          "name": "stdout",
          "text": [
            "Loss : 0.12460319697856903, Val Loss : 0.13623873889446259 Acc : 0.9609905020352781, Val Acc : 0.9654510556621881\n",
            "Epochs : 381\n"
          ]
        },
        {
          "output_type": "stream",
          "name": "stderr",
          "text": [
            "100%|██████████| 20/20 [00:06<00:00,  3.13it/s]\n"
          ]
        },
        {
          "output_type": "stream",
          "name": "stdout",
          "text": [
            "Loss : 0.12455207854509354, Val Loss : 0.13620664179325104 Acc : 0.9609905020352781, Val Acc : 0.9654510556621881\n",
            "Epochs : 382\n"
          ]
        },
        {
          "output_type": "stream",
          "name": "stderr",
          "text": [
            "100%|██████████| 20/20 [00:06<00:00,  3.30it/s]\n"
          ]
        },
        {
          "output_type": "stream",
          "name": "stdout",
          "text": [
            "Loss : 0.12450122088193893, Val Loss : 0.1361730992794037 Acc : 0.9609905020352781, Val Acc : 0.9654510556621881\n",
            "Epochs : 383\n"
          ]
        },
        {
          "output_type": "stream",
          "name": "stderr",
          "text": [
            "100%|██████████| 20/20 [00:06<00:00,  3.15it/s]\n"
          ]
        },
        {
          "output_type": "stream",
          "name": "stdout",
          "text": [
            "Loss : 0.12439966946840286, Val Loss : 0.1361040323972702 Acc : 0.9609905020352781, Val Acc : 0.9654510556621881\n",
            "Epochs : 384\n"
          ]
        },
        {
          "output_type": "stream",
          "name": "stderr",
          "text": [
            "100%|██████████| 20/20 [00:06<00:00,  2.87it/s]\n"
          ]
        },
        {
          "output_type": "stream",
          "name": "stdout",
          "text": [
            "Loss : 0.12434927374124527, Val Loss : 0.13607211410999298 Acc : 0.9609905020352781, Val Acc : 0.9654510556621881\n",
            "Epochs : 385\n"
          ]
        },
        {
          "output_type": "stream",
          "name": "stderr",
          "text": [
            "100%|██████████| 20/20 [00:06<00:00,  3.04it/s]\n"
          ]
        },
        {
          "output_type": "stream",
          "name": "stdout",
          "text": [
            "Loss : 0.12429910153150558, Val Loss : 0.13604006171226501 Acc : 0.9609905020352781, Val Acc : 0.9654510556621881\n",
            "Epochs : 386\n"
          ]
        },
        {
          "output_type": "stream",
          "name": "stderr",
          "text": [
            "100%|██████████| 20/20 [00:06<00:00,  3.16it/s]\n"
          ]
        },
        {
          "output_type": "stream",
          "name": "stdout",
          "text": [
            "Loss : 0.12419931590557098, Val Loss : 0.13597333431243896 Acc : 0.9609905020352781, Val Acc : 0.9654510556621881\n",
            "Epochs : 387\n"
          ]
        },
        {
          "output_type": "stream",
          "name": "stderr",
          "text": [
            "100%|██████████| 20/20 [00:05<00:00,  3.82it/s]\n"
          ]
        },
        {
          "output_type": "stream",
          "name": "stdout",
          "text": [
            "Loss : 0.1240999773144722, Val Loss : 0.13590747117996216 Acc : 0.9609905020352781, Val Acc : 0.9654510556621881\n",
            "Epochs : 388\n"
          ]
        },
        {
          "output_type": "stream",
          "name": "stderr",
          "text": [
            "100%|██████████| 20/20 [00:05<00:00,  3.99it/s]\n"
          ]
        },
        {
          "output_type": "stream",
          "name": "stdout",
          "text": [
            "Loss : 0.12405044585466385, Val Loss : 0.1358753740787506 Acc : 0.9609905020352781, Val Acc : 0.9654510556621881\n",
            "Epochs : 389\n"
          ]
        },
        {
          "output_type": "stream",
          "name": "stderr",
          "text": [
            "100%|██████████| 20/20 [00:06<00:00,  3.23it/s]\n"
          ]
        },
        {
          "output_type": "stream",
          "name": "stdout",
          "text": [
            "Loss : 0.12402577698230743, Val Loss : 0.13585959374904633 Acc : 0.9609905020352781, Val Acc : 0.9654510556621881\n",
            "Epochs : 390\n"
          ]
        },
        {
          "output_type": "stream",
          "name": "stderr",
          "text": [
            "100%|██████████| 20/20 [00:05<00:00,  3.37it/s]\n"
          ]
        },
        {
          "output_type": "stream",
          "name": "stdout",
          "text": [
            "Loss : 0.12398885935544968, Val Loss : 0.13583365082740784 Acc : 0.9609905020352781, Val Acc : 0.9654510556621881\n",
            "Epochs : 391\n"
          ]
        },
        {
          "output_type": "stream",
          "name": "stderr",
          "text": [
            "100%|██████████| 20/20 [00:06<00:00,  3.15it/s]\n"
          ]
        },
        {
          "output_type": "stream",
          "name": "stdout",
          "text": [
            "Loss : 0.1238037720322609, Val Loss : 0.13571083545684814 Acc : 0.9609905020352781, Val Acc : 0.9654510556621881\n",
            "Epochs : 392\n"
          ]
        },
        {
          "output_type": "stream",
          "name": "stderr",
          "text": [
            "100%|██████████| 20/20 [00:06<00:00,  3.20it/s]\n"
          ]
        },
        {
          "output_type": "stream",
          "name": "stdout",
          "text": [
            "Loss : 0.1237550750374794, Val Loss : 0.13567954301834106 Acc : 0.9609905020352781, Val Acc : 0.9654510556621881\n",
            "Epochs : 393\n"
          ]
        },
        {
          "output_type": "stream",
          "name": "stderr",
          "text": [
            "100%|██████████| 20/20 [00:05<00:00,  3.35it/s]\n"
          ]
        },
        {
          "output_type": "stream",
          "name": "stdout",
          "text": [
            "Loss : 0.12370633333921432, Val Loss : 0.1356489509344101 Acc : 0.9609905020352781, Val Acc : 0.9654510556621881\n",
            "Epochs : 394\n"
          ]
        },
        {
          "output_type": "stream",
          "name": "stderr",
          "text": [
            "100%|██████████| 20/20 [00:06<00:00,  3.09it/s]\n"
          ]
        },
        {
          "output_type": "stream",
          "name": "stdout",
          "text": [
            "Loss : 0.12365749478340149, Val Loss : 0.13561774790287018 Acc : 0.9609905020352781, Val Acc : 0.9654510556621881\n",
            "Epochs : 395\n"
          ]
        },
        {
          "output_type": "stream",
          "name": "stderr",
          "text": [
            "100%|██████████| 20/20 [00:05<00:00,  3.39it/s]\n"
          ]
        },
        {
          "output_type": "stream",
          "name": "stdout",
          "text": [
            "Loss : 0.12360871583223343, Val Loss : 0.13558395206928253 Acc : 0.9609905020352781, Val Acc : 0.9654510556621881\n",
            "Epochs : 396\n"
          ]
        },
        {
          "output_type": "stream",
          "name": "stderr",
          "text": [
            "100%|██████████| 20/20 [00:05<00:00,  3.46it/s]\n"
          ]
        },
        {
          "output_type": "stream",
          "name": "stdout",
          "text": [
            "Loss : 0.1235111728310585, Val Loss : 0.13551738858222961 Acc : 0.9609905020352781, Val Acc : 0.9654510556621881\n",
            "Epochs : 397\n"
          ]
        },
        {
          "output_type": "stream",
          "name": "stderr",
          "text": [
            "100%|██████████| 20/20 [00:06<00:00,  3.21it/s]\n"
          ]
        },
        {
          "output_type": "stream",
          "name": "stdout",
          "text": [
            "Loss : 0.1234624832868576, Val Loss : 0.13548824191093445 Acc : 0.9609905020352781, Val Acc : 0.9654510556621881\n",
            "Epochs : 398\n"
          ]
        },
        {
          "output_type": "stream",
          "name": "stderr",
          "text": [
            "100%|██████████| 20/20 [00:06<00:00,  2.95it/s]\n"
          ]
        },
        {
          "output_type": "stream",
          "name": "stdout",
          "text": [
            "Loss : 0.12341378629207611, Val Loss : 0.13545724749565125 Acc : 0.9609905020352781, Val Acc : 0.9654510556621881\n",
            "Epochs : 399\n"
          ]
        },
        {
          "output_type": "stream",
          "name": "stderr",
          "text": [
            "100%|██████████| 20/20 [00:05<00:00,  3.48it/s]\n"
          ]
        },
        {
          "output_type": "stream",
          "name": "stdout",
          "text": [
            "Loss : 0.12336520105600357, Val Loss : 0.13542313873767853 Acc : 0.9609905020352781, Val Acc : 0.9654510556621881\n",
            "Epochs : 400\n"
          ]
        },
        {
          "output_type": "stream",
          "name": "stderr",
          "text": [
            "100%|██████████| 20/20 [00:06<00:00,  3.25it/s]\n"
          ]
        },
        {
          "output_type": "stream",
          "name": "stdout",
          "text": [
            "Loss : 0.12331666797399521, Val Loss : 0.13539013266563416 Acc : 0.9606512890094979, Val Acc : 0.9654510556621881\n",
            "Epochs : 401\n"
          ]
        },
        {
          "output_type": "stream",
          "name": "stderr",
          "text": [
            "100%|██████████| 20/20 [00:05<00:00,  3.86it/s]\n"
          ]
        },
        {
          "output_type": "stream",
          "name": "stdout",
          "text": [
            "Loss : 0.12326820194721222, Val Loss : 0.1353600174188614 Acc : 0.9606512890094979, Val Acc : 0.9654510556621881\n",
            "Epochs : 402\n"
          ]
        },
        {
          "output_type": "stream",
          "name": "stderr",
          "text": [
            "100%|██████████| 20/20 [00:05<00:00,  3.69it/s]\n"
          ]
        },
        {
          "output_type": "stream",
          "name": "stdout",
          "text": [
            "Loss : 0.12321984767913818, Val Loss : 0.1353301703929901 Acc : 0.9606512890094979, Val Acc : 0.9654510556621881\n",
            "Epochs : 403\n"
          ]
        },
        {
          "output_type": "stream",
          "name": "stderr",
          "text": [
            "100%|██████████| 20/20 [00:05<00:00,  3.39it/s]\n"
          ]
        },
        {
          "output_type": "stream",
          "name": "stdout",
          "text": [
            "Loss : 0.12317152321338654, Val Loss : 0.13529668748378754 Acc : 0.9606512890094979, Val Acc : 0.9654510556621881\n",
            "Epochs : 404\n"
          ]
        },
        {
          "output_type": "stream",
          "name": "stderr",
          "text": [
            "100%|██████████| 20/20 [00:06<00:00,  2.94it/s]\n"
          ]
        },
        {
          "output_type": "stream",
          "name": "stdout",
          "text": [
            "Loss : 0.12312330305576324, Val Loss : 0.13526389002799988 Acc : 0.9606512890094979, Val Acc : 0.9654510556621881\n",
            "Epochs : 405\n"
          ]
        },
        {
          "output_type": "stream",
          "name": "stderr",
          "text": [
            "100%|██████████| 20/20 [00:05<00:00,  3.38it/s]\n"
          ]
        },
        {
          "output_type": "stream",
          "name": "stdout",
          "text": [
            "Loss : 0.12302710115909576, Val Loss : 0.13520115613937378 Acc : 0.9606512890094979, Val Acc : 0.9654510556621881\n",
            "Epochs : 406\n"
          ]
        },
        {
          "output_type": "stream",
          "name": "stderr",
          "text": [
            "100%|██████████| 20/20 [00:05<00:00,  3.71it/s]\n"
          ]
        },
        {
          "output_type": "stream",
          "name": "stdout",
          "text": [
            "Loss : 0.12297911942005157, Val Loss : 0.1351701319217682 Acc : 0.9606512890094979, Val Acc : 0.9654510556621881\n",
            "Epochs : 407\n"
          ]
        },
        {
          "output_type": "stream",
          "name": "stderr",
          "text": [
            "100%|██████████| 20/20 [00:05<00:00,  3.41it/s]\n"
          ]
        },
        {
          "output_type": "stream",
          "name": "stdout",
          "text": [
            "Loss : 0.12288329005241394, Val Loss : 0.13510353863239288 Acc : 0.9606512890094979, Val Acc : 0.9654510556621881\n",
            "Epochs : 408\n"
          ]
        },
        {
          "output_type": "stream",
          "name": "stderr",
          "text": [
            "100%|██████████| 20/20 [00:05<00:00,  3.70it/s]\n"
          ]
        },
        {
          "output_type": "stream",
          "name": "stdout",
          "text": [
            "Loss : 0.1227400153875351, Val Loss : 0.13501057028770447 Acc : 0.9606512890094979, Val Acc : 0.9654510556621881\n",
            "Epochs : 409\n"
          ]
        },
        {
          "output_type": "stream",
          "name": "stderr",
          "text": [
            "100%|██████████| 20/20 [00:05<00:00,  3.36it/s]\n"
          ]
        },
        {
          "output_type": "stream",
          "name": "stdout",
          "text": [
            "Loss : 0.12269236147403717, Val Loss : 0.13497987389564514 Acc : 0.9606512890094979, Val Acc : 0.9654510556621881\n",
            "Epochs : 410\n"
          ]
        },
        {
          "output_type": "stream",
          "name": "stderr",
          "text": [
            "100%|██████████| 20/20 [00:05<00:00,  3.81it/s]\n"
          ]
        },
        {
          "output_type": "stream",
          "name": "stdout",
          "text": [
            "Loss : 0.12259722501039505, Val Loss : 0.13491734862327576 Acc : 0.9606512890094979, Val Acc : 0.9654510556621881\n",
            "Epochs : 411\n"
          ]
        },
        {
          "output_type": "stream",
          "name": "stderr",
          "text": [
            "100%|██████████| 20/20 [00:06<00:00,  3.02it/s]\n"
          ]
        },
        {
          "output_type": "stream",
          "name": "stdout",
          "text": [
            "Loss : 0.12254972010850906, Val Loss : 0.13488593697547913 Acc : 0.9606512890094979, Val Acc : 0.9654510556621881\n",
            "Epochs : 412\n"
          ]
        },
        {
          "output_type": "stream",
          "name": "stderr",
          "text": [
            "100%|██████████| 20/20 [00:05<00:00,  3.41it/s]\n"
          ]
        },
        {
          "output_type": "stream",
          "name": "stdout",
          "text": [
            "Loss : 0.12250220775604248, Val Loss : 0.1348552703857422 Acc : 0.9606512890094979, Val Acc : 0.9654510556621881\n",
            "Epochs : 413\n"
          ]
        },
        {
          "output_type": "stream",
          "name": "stderr",
          "text": [
            "100%|██████████| 20/20 [00:06<00:00,  3.22it/s]\n"
          ]
        },
        {
          "output_type": "stream",
          "name": "stdout",
          "text": [
            "Loss : 0.12245473265647888, Val Loss : 0.13482211530208588 Acc : 0.9606512890094979, Val Acc : 0.9654510556621881\n",
            "Epochs : 414\n"
          ]
        },
        {
          "output_type": "stream",
          "name": "stderr",
          "text": [
            "100%|██████████| 20/20 [00:05<00:00,  3.71it/s]\n"
          ]
        },
        {
          "output_type": "stream",
          "name": "stdout",
          "text": [
            "Loss : 0.12240735441446304, Val Loss : 0.13479134440422058 Acc : 0.9606512890094979, Val Acc : 0.9654510556621881\n",
            "Epochs : 415\n"
          ]
        },
        {
          "output_type": "stream",
          "name": "stderr",
          "text": [
            "100%|██████████| 20/20 [00:05<00:00,  3.63it/s]\n"
          ]
        },
        {
          "output_type": "stream",
          "name": "stdout",
          "text": [
            "Loss : 0.1223599910736084, Val Loss : 0.1347614824771881 Acc : 0.9606512890094979, Val Acc : 0.9654510556621881\n",
            "Epochs : 416\n"
          ]
        },
        {
          "output_type": "stream",
          "name": "stderr",
          "text": [
            "100%|██████████| 20/20 [00:05<00:00,  3.35it/s]\n"
          ]
        },
        {
          "output_type": "stream",
          "name": "stdout",
          "text": [
            "Loss : 0.12231266498565674, Val Loss : 0.13472981750965118 Acc : 0.9606512890094979, Val Acc : 0.9654510556621881\n",
            "Epochs : 417\n"
          ]
        },
        {
          "output_type": "stream",
          "name": "stderr",
          "text": [
            "100%|██████████| 20/20 [00:06<00:00,  3.19it/s]\n"
          ]
        },
        {
          "output_type": "stream",
          "name": "stdout",
          "text": [
            "Loss : 0.12221813946962357, Val Loss : 0.13466830551624298 Acc : 0.9606512890094979, Val Acc : 0.9654510556621881\n",
            "Epochs : 418\n"
          ]
        },
        {
          "output_type": "stream",
          "name": "stderr",
          "text": [
            "100%|██████████| 20/20 [00:06<00:00,  3.31it/s]\n"
          ]
        },
        {
          "output_type": "stream",
          "name": "stdout",
          "text": [
            "Loss : 0.12210048735141754, Val Loss : 0.1345912516117096 Acc : 0.9606512890094979, Val Acc : 0.9654510556621881\n",
            "Epochs : 419\n"
          ]
        },
        {
          "output_type": "stream",
          "name": "stderr",
          "text": [
            "100%|██████████| 20/20 [00:05<00:00,  3.41it/s]\n"
          ]
        },
        {
          "output_type": "stream",
          "name": "stdout",
          "text": [
            "Loss : 0.12206533551216125, Val Loss : 0.13456889986991882 Acc : 0.9606512890094979, Val Acc : 0.9654510556621881\n",
            "Epochs : 420\n"
          ]
        },
        {
          "output_type": "stream",
          "name": "stderr",
          "text": [
            "100%|██████████| 20/20 [00:06<00:00,  3.21it/s]\n"
          ]
        },
        {
          "output_type": "stream",
          "name": "stdout",
          "text": [
            "Loss : 0.12202437967061996, Val Loss : 0.1345425248146057 Acc : 0.9606512890094979, Val Acc : 0.9654510556621881\n",
            "Epochs : 421\n"
          ]
        },
        {
          "output_type": "stream",
          "name": "stderr",
          "text": [
            "100%|██████████| 20/20 [00:05<00:00,  3.41it/s]\n"
          ]
        },
        {
          "output_type": "stream",
          "name": "stdout",
          "text": [
            "Loss : 0.12198056280612946, Val Loss : 0.13451506197452545 Acc : 0.9606512890094979, Val Acc : 0.9654510556621881\n",
            "Epochs : 422\n"
          ]
        },
        {
          "output_type": "stream",
          "name": "stderr",
          "text": [
            "100%|██████████| 20/20 [00:06<00:00,  3.24it/s]\n"
          ]
        },
        {
          "output_type": "stream",
          "name": "stdout",
          "text": [
            "Loss : 0.12193529307842255, Val Loss : 0.13448446989059448 Acc : 0.9609905020352781, Val Acc : 0.9654510556621881\n",
            "Epochs : 423\n"
          ]
        },
        {
          "output_type": "stream",
          "name": "stderr",
          "text": [
            "100%|██████████| 20/20 [00:06<00:00,  3.29it/s]\n"
          ]
        },
        {
          "output_type": "stream",
          "name": "stdout",
          "text": [
            "Loss : 0.12188930809497833, Val Loss : 0.13445310294628143 Acc : 0.9609905020352781, Val Acc : 0.9654510556621881\n",
            "Epochs : 424\n"
          ]
        },
        {
          "output_type": "stream",
          "name": "stderr",
          "text": [
            "100%|██████████| 20/20 [00:05<00:00,  3.45it/s]\n"
          ]
        },
        {
          "output_type": "stream",
          "name": "stdout",
          "text": [
            "Loss : 0.12184296548366547, Val Loss : 0.13442431390285492 Acc : 0.9609905020352781, Val Acc : 0.9654510556621881\n",
            "Epochs : 425\n"
          ]
        },
        {
          "output_type": "stream",
          "name": "stderr",
          "text": [
            "100%|██████████| 20/20 [00:05<00:00,  3.40it/s]\n"
          ]
        },
        {
          "output_type": "stream",
          "name": "stdout",
          "text": [
            "Loss : 0.12179642915725708, Val Loss : 0.13439501821994781 Acc : 0.9609905020352781, Val Acc : 0.9654510556621881\n",
            "Epochs : 426\n"
          ]
        },
        {
          "output_type": "stream",
          "name": "stderr",
          "text": [
            "100%|██████████| 20/20 [00:06<00:00,  3.01it/s]\n"
          ]
        },
        {
          "output_type": "stream",
          "name": "stdout",
          "text": [
            "Loss : 0.12174981832504272, Val Loss : 0.13436485826969147 Acc : 0.9613297150610584, Val Acc : 0.9654510556621881\n",
            "Epochs : 427\n"
          ]
        },
        {
          "output_type": "stream",
          "name": "stderr",
          "text": [
            "100%|██████████| 20/20 [00:06<00:00,  3.02it/s]\n"
          ]
        },
        {
          "output_type": "stream",
          "name": "stdout",
          "text": [
            "Loss : 0.12170322239398956, Val Loss : 0.13433274626731873 Acc : 0.9613297150610584, Val Acc : 0.9654510556621881\n",
            "Epochs : 428\n"
          ]
        },
        {
          "output_type": "stream",
          "name": "stderr",
          "text": [
            "100%|██████████| 20/20 [00:06<00:00,  3.08it/s]\n"
          ]
        },
        {
          "output_type": "stream",
          "name": "stdout",
          "text": [
            "Loss : 0.12161006778478622, Val Loss : 0.1342734396457672 Acc : 0.9616689280868386, Val Acc : 0.9654510556621881\n",
            "Epochs : 429\n"
          ]
        },
        {
          "output_type": "stream",
          "name": "stderr",
          "text": [
            "100%|██████████| 20/20 [00:06<00:00,  2.94it/s]\n"
          ]
        },
        {
          "output_type": "stream",
          "name": "stdout",
          "text": [
            "Loss : 0.12151703238487244, Val Loss : 0.13421151041984558 Acc : 0.9616689280868386, Val Acc : 0.9654510556621881\n",
            "Epochs : 430\n"
          ]
        },
        {
          "output_type": "stream",
          "name": "stderr",
          "text": [
            "100%|██████████| 20/20 [00:06<00:00,  3.22it/s]\n"
          ]
        },
        {
          "output_type": "stream",
          "name": "stdout",
          "text": [
            "Loss : 0.12142439186573029, Val Loss : 0.1341525763273239 Acc : 0.9620081411126187, Val Acc : 0.9654510556621881\n",
            "Epochs : 431\n"
          ]
        },
        {
          "output_type": "stream",
          "name": "stderr",
          "text": [
            "100%|██████████| 20/20 [00:06<00:00,  3.20it/s]\n"
          ]
        },
        {
          "output_type": "stream",
          "name": "stdout",
          "text": [
            "Loss : 0.1213320642709732, Val Loss : 0.13409309089183807 Acc : 0.9620081411126187, Val Acc : 0.9654510556621881\n",
            "Epochs : 432\n"
          ]
        },
        {
          "output_type": "stream",
          "name": "stderr",
          "text": [
            "100%|██████████| 20/20 [00:06<00:00,  3.28it/s]\n"
          ]
        },
        {
          "output_type": "stream",
          "name": "stdout",
          "text": [
            "Loss : 0.12128593772649765, Val Loss : 0.13406211137771606 Acc : 0.9620081411126187, Val Acc : 0.9654510556621881\n",
            "Epochs : 433\n"
          ]
        },
        {
          "output_type": "stream",
          "name": "stderr",
          "text": [
            "100%|██████████| 20/20 [00:06<00:00,  3.24it/s]\n"
          ]
        },
        {
          "output_type": "stream",
          "name": "stdout",
          "text": [
            "Loss : 0.1212397962808609, Val Loss : 0.13403214514255524 Acc : 0.9620081411126187, Val Acc : 0.9654510556621881\n",
            "Epochs : 434\n"
          ]
        },
        {
          "output_type": "stream",
          "name": "stderr",
          "text": [
            "100%|██████████| 20/20 [00:06<00:00,  3.11it/s]\n"
          ]
        },
        {
          "output_type": "stream",
          "name": "stdout",
          "text": [
            "Loss : 0.12119366973638535, Val Loss : 0.13400419056415558 Acc : 0.9620081411126187, Val Acc : 0.9654510556621881\n",
            "Epochs : 435\n"
          ]
        },
        {
          "output_type": "stream",
          "name": "stderr",
          "text": [
            "100%|██████████| 20/20 [00:07<00:00,  2.85it/s]\n"
          ]
        },
        {
          "output_type": "stream",
          "name": "stdout",
          "text": [
            "Loss : 0.12110153585672379, Val Loss : 0.13394378125667572 Acc : 0.9620081411126187, Val Acc : 0.9654510556621881\n",
            "Epochs : 436\n"
          ]
        },
        {
          "output_type": "stream",
          "name": "stderr",
          "text": [
            "100%|██████████| 20/20 [00:06<00:00,  3.19it/s]\n"
          ]
        },
        {
          "output_type": "stream",
          "name": "stdout",
          "text": [
            "Loss : 0.12105559557676315, Val Loss : 0.1339145451784134 Acc : 0.9620081411126187, Val Acc : 0.9654510556621881\n",
            "Epochs : 437\n"
          ]
        },
        {
          "output_type": "stream",
          "name": "stderr",
          "text": [
            "100%|██████████| 20/20 [00:06<00:00,  3.33it/s]\n"
          ]
        },
        {
          "output_type": "stream",
          "name": "stdout",
          "text": [
            "Loss : 0.12100972980260849, Val Loss : 0.13388504087924957 Acc : 0.9620081411126187, Val Acc : 0.9654510556621881\n",
            "Epochs : 438\n"
          ]
        },
        {
          "output_type": "stream",
          "name": "stderr",
          "text": [
            "100%|██████████| 20/20 [00:05<00:00,  3.46it/s]\n"
          ]
        },
        {
          "output_type": "stream",
          "name": "stdout",
          "text": [
            "Loss : 0.12096397578716278, Val Loss : 0.1338542252779007 Acc : 0.9620081411126187, Val Acc : 0.9654510556621881\n",
            "Epochs : 439\n"
          ]
        },
        {
          "output_type": "stream",
          "name": "stderr",
          "text": [
            "100%|██████████| 20/20 [00:06<00:00,  3.12it/s]\n"
          ]
        },
        {
          "output_type": "stream",
          "name": "stdout",
          "text": [
            "Loss : 0.1208728477358818, Val Loss : 0.13379709422588348 Acc : 0.9620081411126187, Val Acc : 0.9654510556621881\n",
            "Epochs : 440\n"
          ]
        },
        {
          "output_type": "stream",
          "name": "stderr",
          "text": [
            "100%|██████████| 20/20 [00:05<00:00,  3.50it/s]\n"
          ]
        },
        {
          "output_type": "stream",
          "name": "stdout",
          "text": [
            "Loss : 0.12078192085027695, Val Loss : 0.13373689353466034 Acc : 0.9620081411126187, Val Acc : 0.9654510556621881\n",
            "Epochs : 441\n"
          ]
        },
        {
          "output_type": "stream",
          "name": "stderr",
          "text": [
            "100%|██████████| 20/20 [00:06<00:00,  3.21it/s]\n"
          ]
        },
        {
          "output_type": "stream",
          "name": "stdout",
          "text": [
            "Loss : 0.12073660641908646, Val Loss : 0.13370706140995026 Acc : 0.9620081411126187, Val Acc : 0.9654510556621881\n",
            "Epochs : 442\n"
          ]
        },
        {
          "output_type": "stream",
          "name": "stderr",
          "text": [
            "100%|██████████| 20/20 [00:06<00:00,  3.26it/s]\n"
          ]
        },
        {
          "output_type": "stream",
          "name": "stdout",
          "text": [
            "Loss : 0.12064630538225174, Val Loss : 0.13364817202091217 Acc : 0.9620081411126187, Val Acc : 0.9654510556621881\n",
            "Epochs : 443\n"
          ]
        },
        {
          "output_type": "stream",
          "name": "stderr",
          "text": [
            "100%|██████████| 20/20 [00:05<00:00,  3.35it/s]\n"
          ]
        },
        {
          "output_type": "stream",
          "name": "stdout",
          "text": [
            "Loss : 0.12055625766515732, Val Loss : 0.13359254598617554 Acc : 0.9620081411126187, Val Acc : 0.9654510556621881\n",
            "Epochs : 444\n"
          ]
        },
        {
          "output_type": "stream",
          "name": "stderr",
          "text": [
            "100%|██████████| 20/20 [00:05<00:00,  3.45it/s]\n"
          ]
        },
        {
          "output_type": "stream",
          "name": "stdout",
          "text": [
            "Loss : 0.12046656757593155, Val Loss : 0.13352860510349274 Acc : 0.9620081411126187, Val Acc : 0.9654510556621881\n",
            "Epochs : 445\n"
          ]
        },
        {
          "output_type": "stream",
          "name": "stderr",
          "text": [
            "100%|██████████| 20/20 [00:06<00:00,  2.95it/s]\n"
          ]
        },
        {
          "output_type": "stream",
          "name": "stdout",
          "text": [
            "Loss : 0.12037722021341324, Val Loss : 0.1334747076034546 Acc : 0.9620081411126187, Val Acc : 0.9654510556621881\n",
            "Epochs : 446\n"
          ]
        },
        {
          "output_type": "stream",
          "name": "stderr",
          "text": [
            "100%|██████████| 20/20 [00:06<00:00,  3.03it/s]\n"
          ]
        },
        {
          "output_type": "stream",
          "name": "stdout",
          "text": [
            "Loss : 0.12028831243515015, Val Loss : 0.1334141492843628 Acc : 0.9620081411126187, Val Acc : 0.9654510556621881\n",
            "Epochs : 447\n"
          ]
        },
        {
          "output_type": "stream",
          "name": "stderr",
          "text": [
            "100%|██████████| 20/20 [00:06<00:00,  2.93it/s]\n"
          ]
        },
        {
          "output_type": "stream",
          "name": "stdout",
          "text": [
            "Loss : 0.12023300677537918, Val Loss : 0.1333792358636856 Acc : 0.9620081411126187, Val Acc : 0.9654510556621881\n",
            "Epochs : 448\n"
          ]
        },
        {
          "output_type": "stream",
          "name": "stderr",
          "text": [
            "100%|██████████| 20/20 [00:06<00:00,  3.02it/s]\n"
          ]
        },
        {
          "output_type": "stream",
          "name": "stdout",
          "text": [
            "Loss : 0.1201944425702095, Val Loss : 0.13335421681404114 Acc : 0.9620081411126187, Val Acc : 0.9654510556621881\n",
            "Epochs : 449\n"
          ]
        },
        {
          "output_type": "stream",
          "name": "stderr",
          "text": [
            "100%|██████████| 20/20 [00:05<00:00,  3.56it/s]\n"
          ]
        },
        {
          "output_type": "stream",
          "name": "stdout",
          "text": [
            "Loss : 0.12015322595834732, Val Loss : 0.13332810997962952 Acc : 0.9620081411126187, Val Acc : 0.9654510556621881\n",
            "Epochs : 450\n"
          ]
        },
        {
          "output_type": "stream",
          "name": "stderr",
          "text": [
            "100%|██████████| 20/20 [00:06<00:00,  3.30it/s]\n"
          ]
        },
        {
          "output_type": "stream",
          "name": "stdout",
          "text": [
            "Loss : 0.1200677677989006, Val Loss : 0.13327261805534363 Acc : 0.9620081411126187, Val Acc : 0.9654510556621881\n",
            "Epochs : 451\n"
          ]
        },
        {
          "output_type": "stream",
          "name": "stderr",
          "text": [
            "100%|██████████| 20/20 [00:05<00:00,  3.70it/s]\n"
          ]
        },
        {
          "output_type": "stream",
          "name": "stdout",
          "text": [
            "Loss : 0.12002460658550262, Val Loss : 0.13324207067489624 Acc : 0.9620081411126187, Val Acc : 0.9654510556621881\n",
            "Epochs : 452\n"
          ]
        },
        {
          "output_type": "stream",
          "name": "stderr",
          "text": [
            "100%|██████████| 20/20 [00:06<00:00,  3.32it/s]\n"
          ]
        },
        {
          "output_type": "stream",
          "name": "stdout",
          "text": [
            "Loss : 0.11998134851455688, Val Loss : 0.1332157999277115 Acc : 0.9620081411126187, Val Acc : 0.9654510556621881\n",
            "Epochs : 453\n"
          ]
        },
        {
          "output_type": "stream",
          "name": "stderr",
          "text": [
            "100%|██████████| 20/20 [00:05<00:00,  3.92it/s]\n"
          ]
        },
        {
          "output_type": "stream",
          "name": "stdout",
          "text": [
            "Loss : 0.11993806064128876, Val Loss : 0.1331908106803894 Acc : 0.9620081411126187, Val Acc : 0.9654510556621881\n",
            "Epochs : 454\n"
          ]
        },
        {
          "output_type": "stream",
          "name": "stderr",
          "text": [
            "100%|██████████| 20/20 [00:05<00:00,  3.63it/s]\n"
          ]
        },
        {
          "output_type": "stream",
          "name": "stdout",
          "text": [
            "Loss : 0.11989479511976242, Val Loss : 0.13316048681735992 Acc : 0.9620081411126187, Val Acc : 0.9654510556621881\n",
            "Epochs : 455\n"
          ]
        },
        {
          "output_type": "stream",
          "name": "stderr",
          "text": [
            "100%|██████████| 20/20 [00:05<00:00,  3.44it/s]\n"
          ]
        },
        {
          "output_type": "stream",
          "name": "stdout",
          "text": [
            "Loss : 0.11985153704881668, Val Loss : 0.13312996923923492 Acc : 0.9620081411126187, Val Acc : 0.9654510556621881\n",
            "Epochs : 456\n"
          ]
        },
        {
          "output_type": "stream",
          "name": "stderr",
          "text": [
            "100%|██████████| 20/20 [00:06<00:00,  3.22it/s]\n"
          ]
        },
        {
          "output_type": "stream",
          "name": "stdout",
          "text": [
            "Loss : 0.11980829387903214, Val Loss : 0.13310366868972778 Acc : 0.9620081411126187, Val Acc : 0.9654510556621881\n",
            "Epochs : 457\n"
          ]
        },
        {
          "output_type": "stream",
          "name": "stderr",
          "text": [
            "100%|██████████| 20/20 [00:06<00:00,  3.01it/s]\n"
          ]
        },
        {
          "output_type": "stream",
          "name": "stdout",
          "text": [
            "Loss : 0.11972211301326752, Val Loss : 0.13305014371871948 Acc : 0.9620081411126187, Val Acc : 0.9654510556621881\n",
            "Epochs : 458\n"
          ]
        },
        {
          "output_type": "stream",
          "name": "stderr",
          "text": [
            "100%|██████████| 20/20 [00:05<00:00,  3.41it/s]\n"
          ]
        },
        {
          "output_type": "stream",
          "name": "stdout",
          "text": [
            "Loss : 0.11967914551496506, Val Loss : 0.13301946222782135 Acc : 0.9620081411126187, Val Acc : 0.9654510556621881\n",
            "Epochs : 459\n"
          ]
        },
        {
          "output_type": "stream",
          "name": "stderr",
          "text": [
            "100%|██████████| 20/20 [00:06<00:00,  3.10it/s]\n"
          ]
        },
        {
          "output_type": "stream",
          "name": "stdout",
          "text": [
            "Loss : 0.119636170566082, Val Loss : 0.13299374282360077 Acc : 0.9620081411126187, Val Acc : 0.9654510556621881\n",
            "Epochs : 460\n"
          ]
        },
        {
          "output_type": "stream",
          "name": "stderr",
          "text": [
            "100%|██████████| 20/20 [00:06<00:00,  3.14it/s]\n"
          ]
        },
        {
          "output_type": "stream",
          "name": "stdout",
          "text": [
            "Loss : 0.11959321051836014, Val Loss : 0.13296596705913544 Acc : 0.9620081411126187, Val Acc : 0.9654510556621881\n",
            "Epochs : 461\n"
          ]
        },
        {
          "output_type": "stream",
          "name": "stderr",
          "text": [
            "100%|██████████| 20/20 [00:05<00:00,  3.46it/s]\n"
          ]
        },
        {
          "output_type": "stream",
          "name": "stdout",
          "text": [
            "Loss : 0.11955029517412186, Val Loss : 0.13293765485286713 Acc : 0.9620081411126187, Val Acc : 0.9654510556621881\n",
            "Epochs : 462\n"
          ]
        },
        {
          "output_type": "stream",
          "name": "stderr",
          "text": [
            "100%|██████████| 20/20 [00:06<00:00,  2.87it/s]\n"
          ]
        },
        {
          "output_type": "stream",
          "name": "stdout",
          "text": [
            "Loss : 0.11946459859609604, Val Loss : 0.13288351893424988 Acc : 0.9620081411126187, Val Acc : 0.9654510556621881\n",
            "Epochs : 463\n"
          ]
        },
        {
          "output_type": "stream",
          "name": "stderr",
          "text": [
            "100%|██████████| 20/20 [00:05<00:00,  3.61it/s]\n"
          ]
        },
        {
          "output_type": "stream",
          "name": "stdout",
          "text": [
            "Loss : 0.1193791851401329, Val Loss : 0.1328279823064804 Acc : 0.9620081411126187, Val Acc : 0.9654510556621881\n",
            "Epochs : 464\n"
          ]
        },
        {
          "output_type": "stream",
          "name": "stderr",
          "text": [
            "100%|██████████| 20/20 [00:06<00:00,  3.05it/s]\n"
          ]
        },
        {
          "output_type": "stream",
          "name": "stdout",
          "text": [
            "Loss : 0.11929403990507126, Val Loss : 0.1327723264694214 Acc : 0.9620081411126187, Val Acc : 0.9654510556621881\n",
            "Epochs : 465\n"
          ]
        },
        {
          "output_type": "stream",
          "name": "stderr",
          "text": [
            "100%|██████████| 20/20 [00:06<00:00,  3.13it/s]\n"
          ]
        },
        {
          "output_type": "stream",
          "name": "stdout",
          "text": [
            "Loss : 0.1192515641450882, Val Loss : 0.13274650275707245 Acc : 0.9620081411126187, Val Acc : 0.9654510556621881\n",
            "Epochs : 466\n"
          ]
        },
        {
          "output_type": "stream",
          "name": "stderr",
          "text": [
            "100%|██████████| 20/20 [00:05<00:00,  3.41it/s]\n"
          ]
        },
        {
          "output_type": "stream",
          "name": "stdout",
          "text": [
            "Loss : 0.1192091554403305, Val Loss : 0.1327185481786728 Acc : 0.9620081411126187, Val Acc : 0.9654510556621881\n",
            "Epochs : 467\n"
          ]
        },
        {
          "output_type": "stream",
          "name": "stderr",
          "text": [
            "100%|██████████| 20/20 [00:06<00:00,  3.01it/s]\n"
          ]
        },
        {
          "output_type": "stream",
          "name": "stdout",
          "text": [
            "Loss : 0.11912447959184647, Val Loss : 0.13266392052173615 Acc : 0.9620081411126187, Val Acc : 0.9654510556621881\n",
            "Epochs : 468\n"
          ]
        },
        {
          "output_type": "stream",
          "name": "stderr",
          "text": [
            "100%|██████████| 20/20 [00:06<00:00,  3.25it/s]\n"
          ]
        },
        {
          "output_type": "stream",
          "name": "stdout",
          "text": [
            "Loss : 0.11908219754695892, Val Loss : 0.1326359063386917 Acc : 0.9620081411126187, Val Acc : 0.9654510556621881\n",
            "Epochs : 469\n"
          ]
        },
        {
          "output_type": "stream",
          "name": "stderr",
          "text": [
            "100%|██████████| 20/20 [00:06<00:00,  3.19it/s]\n"
          ]
        },
        {
          "output_type": "stream",
          "name": "stdout",
          "text": [
            "Loss : 0.11904001235961914, Val Loss : 0.13260827958583832 Acc : 0.9620081411126187, Val Acc : 0.9654510556621881\n",
            "Epochs : 470\n"
          ]
        },
        {
          "output_type": "stream",
          "name": "stderr",
          "text": [
            "100%|██████████| 20/20 [00:05<00:00,  3.88it/s]\n"
          ]
        },
        {
          "output_type": "stream",
          "name": "stdout",
          "text": [
            "Loss : 0.11899781227111816, Val Loss : 0.13258139789104462 Acc : 0.9620081411126187, Val Acc : 0.9654510556621881\n",
            "Epochs : 471\n"
          ]
        },
        {
          "output_type": "stream",
          "name": "stderr",
          "text": [
            "100%|██████████| 20/20 [00:06<00:00,  3.30it/s]\n"
          ]
        },
        {
          "output_type": "stream",
          "name": "stdout",
          "text": [
            "Loss : 0.11895579844713211, Val Loss : 0.1325543224811554 Acc : 0.9620081411126187, Val Acc : 0.9654510556621881\n",
            "Epochs : 472\n"
          ]
        },
        {
          "output_type": "stream",
          "name": "stderr",
          "text": [
            "100%|██████████| 20/20 [00:05<00:00,  3.40it/s]\n"
          ]
        },
        {
          "output_type": "stream",
          "name": "stdout",
          "text": [
            "Loss : 0.11887194216251373, Val Loss : 0.13249969482421875 Acc : 0.9620081411126187, Val Acc : 0.9654510556621881\n",
            "Epochs : 473\n"
          ]
        },
        {
          "output_type": "stream",
          "name": "stderr",
          "text": [
            "100%|██████████| 20/20 [00:06<00:00,  3.21it/s]\n"
          ]
        },
        {
          "output_type": "stream",
          "name": "stdout",
          "text": [
            "Loss : 0.11883008480072021, Val Loss : 0.13247016072273254 Acc : 0.9620081411126187, Val Acc : 0.9654510556621881\n",
            "Epochs : 474\n"
          ]
        },
        {
          "output_type": "stream",
          "name": "stderr",
          "text": [
            "100%|██████████| 20/20 [00:07<00:00,  2.82it/s]\n"
          ]
        },
        {
          "output_type": "stream",
          "name": "stdout",
          "text": [
            "Loss : 0.11878828704357147, Val Loss : 0.13244162499904633 Acc : 0.9620081411126187, Val Acc : 0.9654510556621881\n",
            "Epochs : 475\n"
          ]
        },
        {
          "output_type": "stream",
          "name": "stderr",
          "text": [
            "100%|██████████| 20/20 [00:06<00:00,  3.11it/s]\n"
          ]
        },
        {
          "output_type": "stream",
          "name": "stdout",
          "text": [
            "Loss : 0.11874647438526154, Val Loss : 0.13241666555404663 Acc : 0.9620081411126187, Val Acc : 0.9654510556621881\n",
            "Epochs : 476\n"
          ]
        },
        {
          "output_type": "stream",
          "name": "stderr",
          "text": [
            "100%|██████████| 20/20 [00:06<00:00,  3.31it/s]\n"
          ]
        },
        {
          "output_type": "stream",
          "name": "stdout",
          "text": [
            "Loss : 0.11870470643043518, Val Loss : 0.13238848745822906 Acc : 0.9620081411126187, Val Acc : 0.9654510556621881\n",
            "Epochs : 477\n"
          ]
        },
        {
          "output_type": "stream",
          "name": "stderr",
          "text": [
            "100%|██████████| 20/20 [00:05<00:00,  3.48it/s]\n"
          ]
        },
        {
          "output_type": "stream",
          "name": "stdout",
          "text": [
            "Loss : 0.11866297572851181, Val Loss : 0.13235969841480255 Acc : 0.9620081411126187, Val Acc : 0.9654510556621881\n",
            "Epochs : 478\n"
          ]
        },
        {
          "output_type": "stream",
          "name": "stderr",
          "text": [
            "100%|██████████| 20/20 [00:06<00:00,  3.06it/s]\n"
          ]
        },
        {
          "output_type": "stream",
          "name": "stdout",
          "text": [
            "Loss : 0.118621326982975, Val Loss : 0.1323317587375641 Acc : 0.9620081411126187, Val Acc : 0.9654510556621881\n",
            "Epochs : 479\n"
          ]
        },
        {
          "output_type": "stream",
          "name": "stderr",
          "text": [
            "100%|██████████| 20/20 [00:06<00:00,  2.94it/s]\n"
          ]
        },
        {
          "output_type": "stream",
          "name": "stdout",
          "text": [
            "Loss : 0.1185796707868576, Val Loss : 0.13230371475219727 Acc : 0.9620081411126187, Val Acc : 0.9654510556621881\n",
            "Epochs : 480\n"
          ]
        },
        {
          "output_type": "stream",
          "name": "stderr",
          "text": [
            "100%|██████████| 20/20 [00:06<00:00,  3.12it/s]\n"
          ]
        },
        {
          "output_type": "stream",
          "name": "stdout",
          "text": [
            "Loss : 0.118558868765831, Val Loss : 0.1322917491197586 Acc : 0.9620081411126187, Val Acc : 0.9654510556621881\n",
            "Epochs : 481\n"
          ]
        },
        {
          "output_type": "stream",
          "name": "stderr",
          "text": [
            "100%|██████████| 20/20 [00:06<00:00,  3.33it/s]\n"
          ]
        },
        {
          "output_type": "stream",
          "name": "stdout",
          "text": [
            "Loss : 0.11852766573429108, Val Loss : 0.1322704702615738 Acc : 0.9620081411126187, Val Acc : 0.9654510556621881\n",
            "Epochs : 482\n"
          ]
        },
        {
          "output_type": "stream",
          "name": "stderr",
          "text": [
            "100%|██████████| 20/20 [00:06<00:00,  3.33it/s]\n"
          ]
        },
        {
          "output_type": "stream",
          "name": "stdout",
          "text": [
            "Loss : 0.11849123984575272, Val Loss : 0.13224419951438904 Acc : 0.9620081411126187, Val Acc : 0.9654510556621881\n",
            "Epochs : 483\n"
          ]
        },
        {
          "output_type": "stream",
          "name": "stderr",
          "text": [
            "100%|██████████| 20/20 [00:06<00:00,  3.32it/s]\n"
          ]
        },
        {
          "output_type": "stream",
          "name": "stdout",
          "text": [
            "Loss : 0.11845222860574722, Val Loss : 0.1322188824415207 Acc : 0.9620081411126187, Val Acc : 0.9654510556621881\n",
            "Epochs : 484\n"
          ]
        },
        {
          "output_type": "stream",
          "name": "stderr",
          "text": [
            "100%|██████████| 20/20 [00:06<00:00,  2.94it/s]\n"
          ]
        },
        {
          "output_type": "stream",
          "name": "stdout",
          "text": [
            "Loss : 0.11841195076704025, Val Loss : 0.1321910321712494 Acc : 0.9620081411126187, Val Acc : 0.9654510556621881\n",
            "Epochs : 485\n"
          ]
        },
        {
          "output_type": "stream",
          "name": "stderr",
          "text": [
            "100%|██████████| 20/20 [00:05<00:00,  4.00it/s]\n"
          ]
        },
        {
          "output_type": "stream",
          "name": "stdout",
          "text": [
            "Loss : 0.11837103217840195, Val Loss : 0.13216237723827362 Acc : 0.9620081411126187, Val Acc : 0.9654510556621881\n",
            "Epochs : 486\n"
          ]
        },
        {
          "output_type": "stream",
          "name": "stderr",
          "text": [
            "100%|██████████| 20/20 [00:06<00:00,  3.02it/s]\n"
          ]
        },
        {
          "output_type": "stream",
          "name": "stdout",
          "text": [
            "Loss : 0.11824707686901093, Val Loss : 0.1320791244506836 Acc : 0.9620081411126187, Val Acc : 0.9654510556621881\n",
            "Epochs : 487\n"
          ]
        },
        {
          "output_type": "stream",
          "name": "stderr",
          "text": [
            "100%|██████████| 20/20 [00:05<00:00,  3.46it/s]\n"
          ]
        },
        {
          "output_type": "stream",
          "name": "stdout",
          "text": [
            "Loss : 0.1182057112455368, Val Loss : 0.13205033540725708 Acc : 0.9620081411126187, Val Acc : 0.9654510556621881\n",
            "Epochs : 488\n"
          ]
        },
        {
          "output_type": "stream",
          "name": "stderr",
          "text": [
            "100%|██████████| 20/20 [00:07<00:00,  2.76it/s]\n"
          ]
        },
        {
          "output_type": "stream",
          "name": "stdout",
          "text": [
            "Loss : 0.11816440522670746, Val Loss : 0.13202017545700073 Acc : 0.9620081411126187, Val Acc : 0.9654510556621881\n",
            "Epochs : 489\n"
          ]
        },
        {
          "output_type": "stream",
          "name": "stderr",
          "text": [
            "100%|██████████| 20/20 [00:06<00:00,  3.09it/s]\n"
          ]
        },
        {
          "output_type": "stream",
          "name": "stdout",
          "text": [
            "Loss : 0.11804074794054031, Val Loss : 0.13193684816360474 Acc : 0.9620081411126187, Val Acc : 0.9654510556621881\n",
            "Epochs : 490\n"
          ]
        },
        {
          "output_type": "stream",
          "name": "stderr",
          "text": [
            "100%|██████████| 20/20 [00:06<00:00,  3.19it/s]\n"
          ]
        },
        {
          "output_type": "stream",
          "name": "stdout",
          "text": [
            "Loss : 0.11791760474443436, Val Loss : 0.13185091316699982 Acc : 0.9620081411126187, Val Acc : 0.9654510556621881\n",
            "Epochs : 491\n"
          ]
        },
        {
          "output_type": "stream",
          "name": "stderr",
          "text": [
            "100%|██████████| 20/20 [00:06<00:00,  3.13it/s]\n"
          ]
        },
        {
          "output_type": "stream",
          "name": "stdout",
          "text": [
            "Loss : 0.11783584207296371, Val Loss : 0.13179373741149902 Acc : 0.9620081411126187, Val Acc : 0.9654510556621881\n",
            "Epochs : 492\n"
          ]
        },
        {
          "output_type": "stream",
          "name": "stderr",
          "text": [
            "100%|██████████| 20/20 [00:05<00:00,  3.35it/s]\n"
          ]
        },
        {
          "output_type": "stream",
          "name": "stdout",
          "text": [
            "Loss : 0.11775434017181396, Val Loss : 0.13174355030059814 Acc : 0.9623473541383989, Val Acc : 0.9654510556621881\n",
            "Epochs : 493\n"
          ]
        },
        {
          "output_type": "stream",
          "name": "stderr",
          "text": [
            "100%|██████████| 20/20 [00:07<00:00,  2.72it/s]\n"
          ]
        },
        {
          "output_type": "stream",
          "name": "stdout",
          "text": [
            "Loss : 0.11771363765001297, Val Loss : 0.13171255588531494 Acc : 0.9623473541383989, Val Acc : 0.9654510556621881\n",
            "Epochs : 494\n"
          ]
        },
        {
          "output_type": "stream",
          "name": "stderr",
          "text": [
            "100%|██████████| 20/20 [00:06<00:00,  3.02it/s]\n"
          ]
        },
        {
          "output_type": "stream",
          "name": "stdout",
          "text": [
            "Loss : 0.11759181320667267, Val Loss : 0.1316300481557846 Acc : 0.9623473541383989, Val Acc : 0.9654510556621881\n",
            "Epochs : 495\n"
          ]
        },
        {
          "output_type": "stream",
          "name": "stderr",
          "text": [
            "100%|██████████| 20/20 [00:06<00:00,  3.05it/s]\n"
          ]
        },
        {
          "output_type": "stream",
          "name": "stdout",
          "text": [
            "Loss : 0.11755131185054779, Val Loss : 0.13160395622253418 Acc : 0.9623473541383989, Val Acc : 0.9654510556621881\n",
            "Epochs : 496\n"
          ]
        },
        {
          "output_type": "stream",
          "name": "stderr",
          "text": [
            "100%|██████████| 20/20 [00:06<00:00,  3.02it/s]\n"
          ]
        },
        {
          "output_type": "stream",
          "name": "stdout",
          "text": [
            "Loss : 0.1174703910946846, Val Loss : 0.13154630362987518 Acc : 0.9623473541383989, Val Acc : 0.9654510556621881\n",
            "Epochs : 497\n"
          ]
        },
        {
          "output_type": "stream",
          "name": "stderr",
          "text": [
            "100%|██████████| 20/20 [00:05<00:00,  3.61it/s]\n"
          ]
        },
        {
          "output_type": "stream",
          "name": "stdout",
          "text": [
            "Loss : 0.11743000149726868, Val Loss : 0.1315188705921173 Acc : 0.9623473541383989, Val Acc : 0.9654510556621881\n",
            "Epochs : 498\n"
          ]
        },
        {
          "output_type": "stream",
          "name": "stderr",
          "text": [
            "100%|██████████| 20/20 [00:06<00:00,  2.93it/s]\n"
          ]
        },
        {
          "output_type": "stream",
          "name": "stdout",
          "text": [
            "Loss : 0.11734944581985474, Val Loss : 0.1314648538827896 Acc : 0.9623473541383989, Val Acc : 0.9654510556621881\n",
            "Epochs : 499\n"
          ]
        },
        {
          "output_type": "stream",
          "name": "stderr",
          "text": [
            "100%|██████████| 20/20 [00:06<00:00,  2.92it/s]\n"
          ]
        },
        {
          "output_type": "stream",
          "name": "stdout",
          "text": [
            "Loss : 0.11726916581392288, Val Loss : 0.13140933215618134 Acc : 0.9623473541383989, Val Acc : 0.9654510556621881\n",
            "Epochs : 500\n"
          ]
        },
        {
          "output_type": "stream",
          "name": "stderr",
          "text": [
            "100%|██████████| 20/20 [00:05<00:00,  3.48it/s]"
          ]
        },
        {
          "output_type": "stream",
          "name": "stdout",
          "text": [
            "Loss : 0.11718922853469849, Val Loss : 0.13135795295238495 Acc : 0.9623473541383989, Val Acc : 0.9654510556621881\n"
          ]
        },
        {
          "output_type": "stream",
          "name": "stderr",
          "text": [
            "\n"
          ]
        }
      ]
    },
    {
      "cell_type": "markdown",
      "source": [
        "- Loss : 0.3686802387237549,\n",
        "- Val Loss : 0.40306156873703003\n",
        "- Acc : 0.8287721872329712,\n",
        "- Val Acc : 0.8287723660469055"
      ],
      "metadata": {
        "id": "sBmMfZPSxcuY"
      }
    },
    {
      "cell_type": "code",
      "source": [],
      "metadata": {
        "id": "SaxISw_O--nW"
      },
      "execution_count": null,
      "outputs": []
    },
    {
      "cell_type": "code",
      "source": [
        "import matplotlib.pyplot as plt\n",
        "x = [i for i in range(1, len(loss_history)+1)]\n",
        "x1 = [20*i for i in range(1, len(loss_history_epochs)+1)]\n",
        "fig = plt.figure(figsize=(20,5))\n",
        "\n",
        "plt.plot(x1, loss_history_epochs, color = '#ff0000', marker='o')\n",
        "plt.plot(x, loss_history, label = \"train\", color= '#20e658')\n",
        "plt.plot(x, val_loss_history, label = 'test', color = '#3954db')\n",
        "\n",
        "\n",
        "# plt.ylim(ymin=0.4,ymax=1.35)\n",
        "plt.xlabel(\"Epochs\")\n",
        "plt.ylabel(\"Loss\")\n",
        "plt.legend()\n",
        "plt.show()\n",
        "plt.savefig(BASE_PATH+\"loss.png\")"
      ],
      "metadata": {
        "id": "2Xquqxn_NTiw",
        "colab": {
          "base_uri": "https://localhost:8080/",
          "height": 349
        },
        "outputId": "cddef91b-8043-4c31-869b-7c79ae317664"
      },
      "execution_count": null,
      "outputs": [
        {
          "output_type": "display_data",
          "data": {
            "text/plain": [
              "<Figure size 1440x360 with 1 Axes>"
            ],
            "image/png": "[encoded data removed]"
          },
          "metadata": {
            "needs_background": "light"
          }
        },
        {
          "output_type": "display_data",
          "data": {
            "text/plain": [
              "<Figure size 432x288 with 0 Axes>"
            ]
          },
          "metadata": {}
        }
      ]
    },
    {
      "cell_type": "code",
      "source": [
        "import matplotlib.pyplot as plt\n",
        "# x = [i for i in range(1, len(loss_history)+1)]\n",
        "x1 = [i for i in range(1, len(loss_history_epochs)+1)]\n",
        "fig = plt.figure(figsize=(20,5))\n",
        "\n",
        "plt.plot(x1, loss_history_epochs, color = '#ff0000')\n",
        "# plt.plot(x, loss_history, label = \"train\", color= '#a89deb')\n",
        "# plt.plot(x, val_loss_history, label = 'test', color = '#9debb3')\n",
        "# plt.ylim(ymin=0.4,ymax=1.35)\n",
        "plt.xlabel(\"Reactions\")\n",
        "plt.ylabel(\"Loss\")\n",
        "plt.legend()\n",
        "plt.show()\n",
        "plt.savefig(BASE_PATH+\"loss.png\")"
      ],
      "metadata": {
        "id": "HByPyyVFwU8Z",
        "colab": {
          "base_uri": "https://localhost:8080/",
          "height": 365
        },
        "outputId": "50ea6565-19df-4faa-9844-1014177ce0bf"
      },
      "execution_count": null,
      "outputs": [
        {
          "output_type": "stream",
          "name": "stderr",
          "text": [
            "WARNING:matplotlib.legend:No handles with labels found to put in legend.\n"
          ]
        },
        {
          "output_type": "display_data",
          "data": {
            "text/plain": [
              "<Figure size 1440x360 with 1 Axes>"
            ],
            "image/png": "[encoded data removed]"
          },
          "metadata": {
            "needs_background": "light"
          }
        },
        {
          "output_type": "display_data",
          "data": {
            "text/plain": [
              "<Figure size 432x288 with 0 Axes>"
            ]
          },
          "metadata": {}
        }
      ]
    },
    {
      "cell_type": "code",
      "source": [
        "import matplotlib.pyplot as plt\n",
        "x = [i for i in range(1, len(loss_history)+1)]\n",
        "# x1 = [50*i for i in range(1, len(loss_history_epochs)+1)]\n",
        "fig = plt.figure(figsize=(20,5))\n",
        "\n",
        "# plt.plot(x1, loss_history_epochs, color = '#ff0000', marker='o')\n",
        "plt.plot(x, loss_history, label = \"train\", color= '#20e658')\n",
        "plt.plot(x, val_loss_history, label = 'test', color = '#3954db')\n",
        "# plt.ylim(ymin=0.4,ymax=1.35)\n",
        "plt.xlabel(\"Reactions\")\n",
        "plt.ylabel(\"Loss\")\n",
        "plt.legend()\n",
        "plt.show()\n",
        "plt.savefig(BASE_PATH+\"loss.png\")"
      ],
      "metadata": {
        "id": "5J-7VR4jwa9s",
        "colab": {
          "base_uri": "https://localhost:8080/"
        },
        "outputId": "b795ef27-d866-414e-ef46-2b17bb2d61b5"
      },
      "execution_count": null,
      "outputs": [
        {
          "output_type": "display_data",
          "data": {
            "text/plain": [
              "<Figure size 1440x360 with 1 Axes>"
            ],
            "image/png": "[encoded data removed]"
          },
          "metadata": {
            "needs_background": "light"
          }
        },
        {
          "output_type": "display_data",
          "data": {
            "text/plain": [
              "<Figure size 432x288 with 0 Axes>"
            ]
          },
          "metadata": {}
        }
      ]
    },
    {
      "cell_type": "code",
      "source": [],
      "metadata": {
        "id": "761gpWAAYMDR"
      },
      "execution_count": null,
      "outputs": []
    },
    {
      "cell_type": "code",
      "source": [
        "import matplotlib.pyplot as plt\n",
        "x = [i for i in range(1, len(acc_history)+1)]\n",
        "x1 = [20*i for i in range(1, len(acc_history_epochs)+1)]\n",
        "\n",
        "fig = plt.figure(figsize=(20,5))\n",
        "\n",
        "plt.plot(x1, acc_history_epochs, color = '#ff0000')\n",
        "plt.plot(x, acc_history, label = \"train\", color= '#20e658')\n",
        "plt.plot(x, val_acc_history, label = 'test', color = '#3954db')\n",
        "# plt.ylim(ymin=0.2,ymax=0.85)\n",
        "plt.xlabel(\"Reactions\")\n",
        "plt.ylabel(\"Accuracy\")\n",
        "plt.legend()\n",
        "plt.show()\n",
        "plt.savefig(BASE_PATH+\"accuracy.png\")"
      ],
      "metadata": {
        "id": "2-cY3-LjXmbY",
        "colab": {
          "base_uri": "https://localhost:8080/",
          "height": 347
        },
        "outputId": "ef9eab0b-0241-4370-8d45-cfa6196a27ce"
      },
      "execution_count": null,
      "outputs": [
        {
          "output_type": "display_data",
          "data": {
            "text/plain": [
              "<Figure size 1440x360 with 1 Axes>"
            ],
            "image/png": "[encoded data removed]"
          },
          "metadata": {
            "needs_background": "light"
          }
        },
        {
          "output_type": "display_data",
          "data": {
            "text/plain": [
              "<Figure size 432x288 with 0 Axes>"
            ]
          },
          "metadata": {}
        }
      ]
    },
    {
      "cell_type": "code",
      "source": [
        "import matplotlib.pyplot as plt\n",
        "# x = [i for i in range(1, len(acc_history)+1)]\n",
        "x1 = [i for i in range(1, len(acc_history_epochs)+1)]\n",
        "\n",
        "fig = plt.figure(figsize=(20,5))\n",
        "\n",
        "plt.plot(x1, acc_history_epochs, color = '#ff0000')\n",
        "# plt.plot(x, acc_history, label = \"train\", color= '#a89deb')\n",
        "# plt.plot(x, val_acc_history, label = 'test', color = '#9debb3')\n",
        "# plt.ylim(ymin=0.2,ymax=0.85)\n",
        "# plt.xlim(xmin=0,xmax=500)\n",
        "\n",
        "plt.xlabel(\"Epochs\")\n",
        "plt.ylabel(\"Accuracy\")\n",
        "plt.legend()\n",
        "plt.show()\n",
        "plt.savefig(BASE_PATH+\"accuracy.png\")"
      ],
      "metadata": {
        "id": "DmXEPjO3wjBG",
        "colab": {
          "base_uri": "https://localhost:8080/",
          "height": 365
        },
        "outputId": "32537d9e-3532-4a16-c68a-015b451a1bfe"
      },
      "execution_count": null,
      "outputs": [
        {
          "output_type": "stream",
          "name": "stderr",
          "text": [
            "WARNING:matplotlib.legend:No handles with labels found to put in legend.\n"
          ]
        },
        {
          "output_type": "display_data",
          "data": {
            "text/plain": [
              "<Figure size 1440x360 with 1 Axes>"
            ],
            "image/png": "[encoded data removed]"
          },
          "metadata": {
            "needs_background": "light"
          }
        },
        {
          "output_type": "display_data",
          "data": {
            "text/plain": [
              "<Figure size 432x288 with 0 Axes>"
            ]
          },
          "metadata": {}
        }
      ]
    },
    {
      "cell_type": "code",
      "source": [
        "import matplotlib.pyplot as plt\n",
        "x = [i for i in range(1, len(acc_history)+1)]\n",
        "# x1 = [50*i for i in range(1, len(acc_history_epochs)+1)]\n",
        "\n",
        "fig = plt.figure(figsize=(20,5))\n",
        "\n",
        "# plt.plot(x1, acc_history_epochs, color = '#ff0000', marker='o')\n",
        "plt.plot(x, acc_history, label = \"train\", color= '#20e658')\n",
        "plt.plot(x, val_acc_history, label = 'test', color = '#3954db')\n",
        "# plt.ylim(ymin=0.2,ymax=0.85)\n",
        "plt.xlabel(\"Epochs\")\n",
        "plt.ylabel(\"Accuracy\")\n",
        "plt.legend()\n",
        "plt.show()\n",
        "plt.savefig(BASE_PATH+\"accuracy.png\")"
      ],
      "metadata": {
        "id": "C1Y3sr3YwjGD",
        "colab": {
          "base_uri": "https://localhost:8080/",
          "height": 347
        },
        "outputId": "de445732-a916-4692-89c1-38b218b37100"
      },
      "execution_count": null,
      "outputs": [
        {
          "output_type": "display_data",
          "data": {
            "text/plain": [
              "<Figure size 1440x360 with 1 Axes>"
            ],
            "image/png": "[encoded data removed]"
          },
          "metadata": {
            "needs_background": "light"
          }
        },
        {
          "output_type": "display_data",
          "data": {
            "text/plain": [
              "<Figure size 432x288 with 0 Axes>"
            ]
          },
          "metadata": {}
        }
      ]
    },
    {
      "cell_type": "code",
      "source": [
        "!pip install tensorflow_addons"
      ],
      "metadata": {
        "id": "IJIqJwPa7h5u",
        "colab": {
          "base_uri": "https://localhost:8080/"
        },
        "outputId": "02906c6d-d181-4099-a458-555ff0366859"
      },
      "execution_count": null,
      "outputs": [
        {
          "output_type": "stream",
          "name": "stdout",
          "text": [
            "Collecting tensorflow_addons\n",
            "  Downloading tensorflow_addons-0.16.1-cp37-cp37m-manylinux_2_12_x86_64.manylinux2010_x86_64.whl (1.1 MB)\n",
            "\u001b[K     |████████████████████████████████| 1.1 MB 5.1 MB/s \n",
            "\u001b[?25hRequirement already satisfied: typeguard>=2.7 in /usr/local/lib/python3.7/dist-packages (from tensorflow_addons) (2.7.1)\n",
            "Installing collected packages: tensorflow-addons\n",
            "Successfully installed tensorflow-addons-0.16.1\n"
          ]
        }
      ]
    },
    {
      "cell_type": "code",
      "source": [
        "import tensorflow_addons as tfa"
      ],
      "metadata": {
        "id": "WT-4VZot7h9T"
      },
      "execution_count": null,
      "outputs": []
    },
    {
      "cell_type": "code",
      "source": [
        "def best_loss_molecule():\n",
        "    bm = molecule[0]\n",
        "    for m in molecule:\n",
        "        if m.PE < bm.PE:\n",
        "            bm = m\n",
        "    return bm\n"
      ],
      "metadata": {
        "id": "nvCbl8dzRdts"
      },
      "execution_count": null,
      "outputs": []
    },
    {
      "cell_type": "code",
      "source": [
        "from sklearn.metrics import confusion_matrix\n",
        "from sklearn.metrics import precision_score\n",
        "from sklearn.metrics import recall_score\n",
        "from sklearn.metrics import f1_score\n",
        "from sklearn.metrics import cohen_kappa_score\n",
        "from sklearn.metrics import accuracy_score\n",
        "from sklearn.metrics import log_loss"
      ],
      "metadata": {
        "id": "ddO0a-z_OGzn"
      },
      "execution_count": null,
      "outputs": []
    },
    {
      "cell_type": "code",
      "source": [
        "#Training Data\n",
        "def train_metrics_calculator(final_molecule):\n",
        "    finetune_model.set_weights(weights=final_molecule.weights)\n",
        "    logits = finetune_model(train_x)\n",
        "    y_pred = logits > 0.5\n",
        "\n",
        "    p = precision_score(train_y, y_pred)\n",
        "    r = recall_score(train_y, y_pred)\n",
        "    f = f1_score(train_y, y_pred)\n",
        "    ck = cohen_kappa_score(train_y, y_pred)\n",
        "    acc = accuracy_score(train_y, y_pred)\n",
        "    loss = log_loss(train_y, logits)\n",
        "\n",
        "    print(confusion_matrix(train_y, y_pred))\n",
        "    print()\n",
        "    print(f\"Precision : {p}\")\n",
        "    print(f\"Recall : {r}\")\n",
        "    print(f\"F1 Score : {f}\")\n",
        "    print(f\"CK Score : {ck}\")\n",
        "    print(f\"Acc Score : {acc}\")\n",
        "    print(f\"Loss Score : {loss}\")\n",
        "    print()\n",
        "\n",
        "\n",
        "\n",
        "    import seaborn as sns\n",
        "    sns.heatmap(confusion_matrix(train_y, y_pred, normalize='true'), cmap='Blues',annot=True)"
      ],
      "metadata": {
        "id": "nzxaeL7xRUIO"
      },
      "execution_count": null,
      "outputs": []
    },
    {
      "cell_type": "code",
      "source": [
        "def test_metrics_calculator(final_molecule):\n",
        "    finetune_model.set_weights(weights=final_molecule.weights)\n",
        "    logits = finetune_model(test_x)\n",
        "    y_pred = logits > 0.5\n",
        "\n",
        "    p = precision_score(test_y, y_pred)\n",
        "    r = recall_score(test_y, y_pred)\n",
        "    f = f1_score(test_y, y_pred)\n",
        "    ck = cohen_kappa_score(test_y, y_pred)\n",
        "    acc = accuracy_score(test_y, y_pred)\n",
        "    loss = log_loss(test_y, logits)\n",
        "\n",
        "    print(confusion_matrix(test_y, y_pred))\n",
        "    print()\n",
        "    print(f\"Precision : {p}\")\n",
        "    print(f\"Recall : {r}\")\n",
        "    print(f\"F1 Score : {f}\")\n",
        "    print(f\"CK Score : {ck}\")\n",
        "    print(f\"Acc Score : {acc}\")\n",
        "    print(f\"Loss Score : {loss}\")\n",
        "    print()\n",
        "\n",
        "    import seaborn as sns\n",
        "    sns.heatmap(confusion_matrix(test_y, y_pred, normalize='true'), cmap='Blues',annot=True)"
      ],
      "metadata": {
        "id": "mOWPJZfoRUKt"
      },
      "execution_count": null,
      "outputs": []
    },
    {
      "cell_type": "code",
      "source": [
        "m = best_loss_molecule()\n",
        "train_metrics_calculator(m)"
      ],
      "metadata": {
        "colab": {
          "base_uri": "https://localhost:8080/",
          "height": 439
        },
        "id": "6b8GyU7B_83j",
        "outputId": "a7aa0e5d-9bb6-4c53-d0db-3f72ed8db069"
      },
      "execution_count": null,
      "outputs": [
        {
          "output_type": "stream",
          "name": "stdout",
          "text": [
            "[[1501   44]\n",
            " [  67 1336]]\n",
            "\n",
            "Precision : 0.9681159420289855\n",
            "Recall : 0.9522451888809693\n",
            "F1 Score : 0.9601149838303988\n",
            "CK Score : 0.9244626736263402\n",
            "Acc Score : 0.9623473541383989\n",
            "Loss Score : 0.11718938175150695\n",
            "\n"
          ]
        },
        {
          "output_type": "display_data",
          "data": {
            "text/plain": [
              "<Figure size 432x288 with 2 Axes>"
            ],
            "image/png": "[encoded data removed]"
          },
          "metadata": {
            "needs_background": "light"
          }
        }
      ]
    },
    {
      "cell_type": "code",
      "source": [
        "test_metrics_calculator(m)"
      ],
      "metadata": {
        "colab": {
          "base_uri": "https://localhost:8080/",
          "height": 439
        },
        "id": "OhsiO1GqXuzF",
        "outputId": "f8e5609e-63b4-429e-bbfe-d43de2644e6a"
      },
      "execution_count": null,
      "outputs": [
        {
          "output_type": "stream",
          "name": "stdout",
          "text": [
            "[[257   3]\n",
            " [ 15 246]]\n",
            "\n",
            "Precision : 0.9879518072289156\n",
            "Recall : 0.9425287356321839\n",
            "F1 Score : 0.9647058823529412\n",
            "CK Score : 0.930907965697109\n",
            "Acc Score : 0.9654510556621881\n",
            "Loss Score : 0.13135814290424627\n",
            "\n"
          ]
        },
        {
          "output_type": "display_data",
          "data": {
            "text/plain": [
              "<Figure size 432x288 with 2 Axes>"
            ],
            "image/png": "[encoded data removed]"
          },
          "metadata": {
            "needs_background": "light"
          }
        }
      ]
    },
    {
      "cell_type": "code",
      "source": [],
      "metadata": {
        "id": "buihJ1blTICa"
      },
      "execution_count": null,
      "outputs": []
    },
    {
      "cell_type": "code",
      "source": [],
      "metadata": {
        "id": "YGaWCbt9TNxr"
      },
      "execution_count": null,
      "outputs": []
    },
    {
      "cell_type": "code",
      "source": [
        "save_molecules(molecule, \"Model_1_momemtum_f1_ck_cro_molecule_weights_20_500\")"
      ],
      "metadata": {
        "id": "rdKeNNMB430q"
      },
      "execution_count": null,
      "outputs": []
    },
    {
      "cell_type": "code",
      "source": [
        "# histories = BASE_PATH + \"momemtum_f1_ck_history_20_500\"\n",
        "# with open(histories, 'wb') as f:\n",
        "#     pickle.dump(loss_history, f)\n",
        "#     pickle.dump(loss_history_epochs, f)\n",
        "#     pickle.dump(acc_history, f)\n",
        "#     pickle.dump(acc_history_epochs, f)\n",
        "#     pickle.dump(val_loss_history, f)\n",
        "#     pickle.dump(val_loss_history_epochs, f)\n",
        "#     pickle.dump(val_acc_history, f)\n",
        "#     pickle.dump(val_acc_history_epochs, f)"
      ],
      "metadata": {
        "id": "s-yXyKL-uhw5"
      },
      "execution_count": null,
      "outputs": []
    },
    {
      "cell_type": "code",
      "source": [],
      "metadata": {
        "id": "g3hEwucN9JM3"
      },
      "execution_count": null,
      "outputs": []
    },
    {
      "cell_type": "code",
      "source": [],
      "metadata": {
        "id": "5MmLh0-790vI"
      },
      "execution_count": null,
      "outputs": []
    },
    {
      "cell_type": "code",
      "source": [],
      "metadata": {
        "id": "C5fKAvjpTGhq"
      },
      "execution_count": null,
      "outputs": []
    },
    {
      "cell_type": "code",
      "source": [],
      "metadata": {
        "id": "OdIbxSxkTLyw"
      },
      "execution_count": null,
      "outputs": []
    }
  ]
}