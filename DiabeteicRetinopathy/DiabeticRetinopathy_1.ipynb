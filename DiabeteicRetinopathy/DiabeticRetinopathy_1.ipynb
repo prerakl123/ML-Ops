{
 "cells": [
  {
   "cell_type": "markdown",
   "metadata": {},
   "source": [
    "# Diabetic Retinopathy\n",
    "Early detection of  diabetic retinopathy, the leading cause of blindness among working aged adults."
   ]
  },
  {
   "cell_type": "markdown",
   "metadata": {},
   "source": [
    "## Importing Modules"
   ]
  },
  {
   "cell_type": "code",
   "execution_count": 1,
   "metadata": {},
   "outputs": [],
   "source": [
    "import pandas as pd\n",
    "import numpy as np\n",
    "import cv2\n",
    "\n",
    "from tensorflow.keras.preprocessing.image import ImageDataGenerator\n",
    "from tensorflow.keras.utils import to_categorical\n",
    "\n",
    "import os"
   ]
  },
  {
   "cell_type": "markdown",
   "metadata": {},
   "source": [
    "## Load Data"
   ]
  },
  {
   "cell_type": "code",
   "execution_count": 2,
   "metadata": {},
   "outputs": [],
   "source": [
    "train_df = pd.read_csv('dataset/train.csv')\n",
    "test_df = pd.read_csv('dataset/test.csv')\n",
    "train_image_folder = 'dataset/train_images'\n",
    "test_image_folder = 'dataset/test_images'"
   ]
  },
  {
   "cell_type": "markdown",
   "metadata": {},
   "source": [
    "### Check data load"
   ]
  },
  {
   "cell_type": "code",
   "execution_count": 3,
   "metadata": {},
   "outputs": [
    {
     "name": "stdout",
     "output_type": "stream",
     "text": [
      "Train Data:\n",
      "        id_code  diagnosis\n",
      "0  000c1434d8d7          2\n",
      "1  001639a390f0          4\n",
      "2  0024cdab0c1e          1\n",
      "3  002c21358ce6          0\n",
      "4  005b95c28852          0\n",
      "\n",
      "Test Data:\n",
      "        id_code\n",
      "0  0005cfc8afb6\n",
      "1  003f0afdcd15\n",
      "2  006efc72b638\n",
      "3  00836aaacf06\n",
      "4  009245722fa4\n"
     ]
    }
   ],
   "source": [
    "print(\"Train Data:\")\n",
    "print(train_df.head())\n",
    "print(\"\\nTest Data:\")\n",
    "print(test_df.head())"
   ]
  },
  {
   "cell_type": "markdown",
   "metadata": {},
   "source": [
    "### Find the smallest resolution and largest resolution image for scaling"
   ]
  },
  {
   "cell_type": "code",
   "execution_count": 4,
   "metadata": {},
   "outputs": [
    {
     "name": "stdout",
     "output_type": "stream",
     "text": [
      "min: 474 x 358 max: 4288 x 284888 1050 x 1050 max: 3388 x 2588\n",
      "min: 640 x 480 max: 2896 x 1958\r"
     ]
    }
   ],
   "source": [
    "smallest_width = float('inf')\n",
    "smallest_height = float('inf')\n",
    "largest_width = 0\n",
    "largest_height = 0\n",
    "\n",
    "# Iterate through the image files in the training folder\n",
    "for filename in os.listdir(train_image_folder):\n",
    "    if filename.endswith('.png'):\n",
    "        img = cv2.imread(os.path.join(train_image_folder, filename))\n",
    "        height, width, _ = img.shape\n",
    "        smallest_width = min(smallest_width, width)\n",
    "        smallest_height = min(smallest_height, height)\n",
    "        largest_width = max(largest_width, width)\n",
    "        largest_height = max(largest_height, height)\n",
    "\n",
    "        # Print the results\n",
    "        print(\"min:\", smallest_width, \"x\", smallest_height, \"max:\", largest_width, \"x\", largest_height, end='\\r')\n",
    "\n",
    "print()\n",
    "\n",
    "smallest_width = float('inf')\n",
    "smallest_height = float('inf')\n",
    "largest_width = 0\n",
    "largest_height = 0\n",
    "\n",
    "# Iterate through the image files in the testing folder\n",
    "for filename in os.listdir(test_image_folder):\n",
    "    if filename.endswith('.png'):\n",
    "        img = cv2.imread(os.path.join(test_image_folder, filename))\n",
    "        height, width, _ = img.shape\n",
    "        smallest_width = min(smallest_width, width)\n",
    "        smallest_height = min(smallest_height, height)\n",
    "        largest_width = max(largest_width, width)\n",
    "        largest_height = max(largest_height, height)\n",
    "    \n",
    "        print(\"min:\", smallest_width, \"x\", smallest_height, \"max:\", largest_width, \"x\", largest_height, end='\\r')"
   ]
  },
  {
   "cell_type": "markdown",
   "metadata": {},
   "source": [
    "## Pre-processing"
   ]
  },
  {
   "cell_type": "code",
   "execution_count": 5,
   "metadata": {},
   "outputs": [
    {
     "name": "stdout",
     "output_type": "stream",
     "text": [
      "Shape of train_images: (3662, 512, 512, 3)\n",
      "Shape of train_labels: (3662, 5)\n"
     ]
    }
   ],
   "source": [
    "# Define the common image dimensions and batch size\n",
    "img_width, img_height = 512, 512\n",
    "batch_size = 32\n",
    "\n",
    "# Define an image data generator for data augmentation (if needed)\n",
    "train_datagen = ImageDataGenerator(\n",
    "    rescale=1. / 255,  # Normalize pixel values\n",
    "    rotation_range=20,\n",
    "    width_shift_range=0.2,\n",
    "    height_shift_range=0.2,\n",
    "    horizontal_flip=True,\n",
    "    vertical_flip=True\n",
    ")\n",
    "\n",
    "# Load and preprocess the training images\n",
    "train_image_data = []\n",
    "for image_id in train_df['id_code']:\n",
    "    img = cv2.imread('dataset/train_images/' + image_id + '.png')\n",
    "    img = cv2.cvtColor(img, cv2.COLOR_BGR2RGB)\n",
    "    img = cv2.resize(img, (img_width, img_height))\n",
    "    img = img / 255.0\n",
    "    train_image_data.append(img)\n",
    "\n",
    "train_images = np.array(train_image_data)\n",
    "train_labels = to_categorical(train_df['diagnosis'], num_classes=5)\n",
    "\n",
    "# Display the shape of train_images and train_labels to confirm\n",
    "print(\"Shape of train_images:\", train_images.shape)\n",
    "print(\"Shape of train_labels:\", train_labels.shape)"
   ]
  },
  {
   "cell_type": "code",
   "execution_count": 6,
   "metadata": {},
   "outputs": [
    {
     "ename": "error",
     "evalue": "OpenCV(4.8.1) D:\\a\\opencv-python\\opencv-python\\opencv\\modules\\core\\src\\alloc.cpp:73: error: (-4:Insufficient memory) Failed to allocate 12582528 bytes in function 'cv::OutOfMemoryError'\n",
     "output_type": "error",
     "traceback": [
      "\u001b[1;31m---------------------------------------------------------------------------\u001b[0m",
      "\u001b[1;31merror\u001b[0m                                     Traceback (most recent call last)",
      "\u001b[1;32mc:\\Users\\Prerak\\JupyterNotebooks\\ML-models\\DiabeteicRetinopathy\\DiabeticRetinopathy_1.ipynb Cell 12\u001b[0m line \u001b[0;36m4\n\u001b[0;32m      <a href='vscode-notebook-cell:/c%3A/Users/Prerak/JupyterNotebooks/ML-models/DiabeteicRetinopathy/DiabeticRetinopathy_1.ipynb#X15sZmlsZQ%3D%3D?line=1'>2</a>\u001b[0m test_image_data \u001b[39m=\u001b[39m []\n\u001b[0;32m      <a href='vscode-notebook-cell:/c%3A/Users/Prerak/JupyterNotebooks/ML-models/DiabeteicRetinopathy/DiabeticRetinopathy_1.ipynb#X15sZmlsZQ%3D%3D?line=2'>3</a>\u001b[0m \u001b[39mfor\u001b[39;00m image_id \u001b[39min\u001b[39;00m test_df[\u001b[39m'\u001b[39m\u001b[39mid_code\u001b[39m\u001b[39m'\u001b[39m]:\n\u001b[1;32m----> <a href='vscode-notebook-cell:/c%3A/Users/Prerak/JupyterNotebooks/ML-models/DiabeteicRetinopathy/DiabeticRetinopathy_1.ipynb#X15sZmlsZQ%3D%3D?line=3'>4</a>\u001b[0m     img \u001b[39m=\u001b[39m cv2\u001b[39m.\u001b[39;49mimread(\u001b[39m'\u001b[39;49m\u001b[39mdataset/test_images/\u001b[39;49m\u001b[39m'\u001b[39;49m \u001b[39m+\u001b[39;49m image_id \u001b[39m+\u001b[39;49m \u001b[39m'\u001b[39;49m\u001b[39m.png\u001b[39;49m\u001b[39m'\u001b[39;49m)\n\u001b[0;32m      <a href='vscode-notebook-cell:/c%3A/Users/Prerak/JupyterNotebooks/ML-models/DiabeteicRetinopathy/DiabeticRetinopathy_1.ipynb#X15sZmlsZQ%3D%3D?line=4'>5</a>\u001b[0m     img \u001b[39m=\u001b[39m cv2\u001b[39m.\u001b[39mcvtColor(img, cv2\u001b[39m.\u001b[39mCOLOR_BGR2RGB)\n\u001b[0;32m      <a href='vscode-notebook-cell:/c%3A/Users/Prerak/JupyterNotebooks/ML-models/DiabeteicRetinopathy/DiabeticRetinopathy_1.ipynb#X15sZmlsZQ%3D%3D?line=5'>6</a>\u001b[0m     img \u001b[39m=\u001b[39m cv2\u001b[39m.\u001b[39mresize(img, (img_width, img_height))\n",
      "\u001b[1;31merror\u001b[0m: OpenCV(4.8.1) D:\\a\\opencv-python\\opencv-python\\opencv\\modules\\core\\src\\alloc.cpp:73: error: (-4:Insufficient memory) Failed to allocate 12582528 bytes in function 'cv::OutOfMemoryError'\n"
     ]
    }
   ],
   "source": [
    "# Load and preprocess the testing images\n",
    "test_image_data = []\n",
    "for image_id in test_df['id_code']:\n",
    "    img = cv2.imread('dataset/test_images/' + image_id + '.png')\n",
    "    img = cv2.cvtColor(img, cv2.COLOR_BGR2RGB)\n",
    "    img = cv2.resize(img, (img_width, img_height))\n",
    "    img = img / 255.0\n",
    "    test_image_data.append(img)\n",
    "\n",
    "test_images = np.array(test_image_data)\n",
    "\n",
    "# Display the shape of test_images to confirm\n",
    "print(\"Shape of test_images:\", test_images.shape)\n"
   ]
  },
  {
   "cell_type": "markdown",
   "metadata": {},
   "source": []
  }
 ],
 "metadata": {
  "kernelspec": {
   "display_name": ".venv",
   "language": "python",
   "name": "python3"
  },
  "language_info": {
   "codemirror_mode": {
    "name": "ipython",
    "version": 3
   },
   "file_extension": ".py",
   "mimetype": "text/x-python",
   "name": "python",
   "nbconvert_exporter": "python",
   "pygments_lexer": "ipython3",
   "version": "3.9.13"
  }
 },
 "nbformat": 4,
 "nbformat_minor": 2
}
